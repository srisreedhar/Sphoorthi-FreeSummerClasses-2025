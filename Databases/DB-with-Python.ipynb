{
 "cells": [
  {
   "cell_type": "code",
   "execution_count": 1,
   "id": "d5009ab4-96ad-4d9c-8c3c-2e2b45e6418f",
   "metadata": {},
   "outputs": [],
   "source": [
    "import os\n",
    "import sqlite3"
   ]
  },
  {
   "cell_type": "code",
   "execution_count": 3,
   "id": "bc7de8e9-f8e7-4976-9688-427582508e44",
   "metadata": {},
   "outputs": [
    {
     "data": {
      "text/plain": [
       "'D:\\\\SphoorthiFreeClasses\\\\python'"
      ]
     },
     "execution_count": 3,
     "metadata": {},
     "output_type": "execute_result"
    }
   ],
   "source": [
    "os.getcwd()"
   ]
  },
  {
   "cell_type": "code",
   "execution_count": 5,
   "id": "1ec8de32-9a0b-44de-9d57-ed16500ed005",
   "metadata": {},
   "outputs": [
    {
     "ename": "FileExistsError",
     "evalue": "[WinError 183] Cannot create a file when that file already exists: 'Databases'",
     "output_type": "error",
     "traceback": [
      "\u001b[1;31m---------------------------------------------------------------------------\u001b[0m",
      "\u001b[1;31mFileExistsError\u001b[0m                           Traceback (most recent call last)",
      "Cell \u001b[1;32mIn[5], line 1\u001b[0m\n\u001b[1;32m----> 1\u001b[0m \u001b[43mos\u001b[49m\u001b[38;5;241;43m.\u001b[39;49m\u001b[43mmkdir\u001b[49m\u001b[43m(\u001b[49m\u001b[38;5;124;43m\"\u001b[39;49m\u001b[38;5;124;43mDatabases\u001b[39;49m\u001b[38;5;124;43m\"\u001b[39;49m\u001b[43m)\u001b[49m\n",
      "\u001b[1;31mFileExistsError\u001b[0m: [WinError 183] Cannot create a file when that file already exists: 'Databases'"
     ]
    }
   ],
   "source": [
    "os.mkdir(\"Databases\")"
   ]
  },
  {
   "cell_type": "code",
   "execution_count": 6,
   "id": "ce860c43-f377-4d34-a3a8-f8bd440c6312",
   "metadata": {},
   "outputs": [],
   "source": [
    "os.chdir(\"Databases\")"
   ]
  },
  {
   "cell_type": "code",
   "execution_count": 7,
   "id": "b55d516f-d176-49e2-b979-b0294fb68d64",
   "metadata": {},
   "outputs": [
    {
     "data": {
      "text/plain": [
       "'D:\\\\SphoorthiFreeClasses\\\\python\\\\Databases'"
      ]
     },
     "execution_count": 7,
     "metadata": {},
     "output_type": "execute_result"
    }
   ],
   "source": [
    "os.getcwd()"
   ]
  },
  {
   "cell_type": "markdown",
   "id": "30b86f98-5177-45df-81ac-fb8b1a7cb7a4",
   "metadata": {},
   "source": [
    "# Create DB / Tables / Insert sample data"
   ]
  },
  {
   "cell_type": "code",
   "execution_count": 2,
   "id": "6028eaaa-da57-4030-8d42-0c2ffeded256",
   "metadata": {},
   "outputs": [],
   "source": [
    "# create connection / connection obj / using which we perform SQL/DB operations\n",
    "# .connect() method will create a DB is that doesnt exists & if it exists, then it establishes a connection"
   ]
  },
  {
   "cell_type": "code",
   "execution_count": 8,
   "id": "ab9a0d2a-47a8-47ac-9fca-9c459161e76e",
   "metadata": {},
   "outputs": [],
   "source": [
    "conn = sqlite3.connect('cars.db')"
   ]
  },
  {
   "cell_type": "code",
   "execution_count": 9,
   "id": "ab821848-d257-4f53-a7f7-2500cff68e51",
   "metadata": {},
   "outputs": [],
   "source": [
    "# create a table\n",
    "# Table - car\n",
    "# https://www.w3schools.com/sql/sql_create_table.asp"
   ]
  },
  {
   "cell_type": "markdown",
   "id": "ca0e3b20-dc3e-4ae7-9a2e-07b391a7e8cb",
   "metadata": {},
   "source": [
    "```sql\n",
    "CREATE TABLE table_name (\n",
    "    column1 datatype,\n",
    "    column2 datatype,\n",
    "    column3 datatype\n",
    "); \n",
    "```"
   ]
  },
  {
   "cell_type": "code",
   "execution_count": 11,
   "id": "c1eda286-e457-4342-bd0a-ab74bfa0e2f4",
   "metadata": {},
   "outputs": [],
   "source": [
    "# all the queries should be Strings\n",
    "qry_create_table=\"\"\"CREATE TABLE car (\n",
    "    carid text,\n",
    "    carmake text,\n",
    "    carmodel text,\n",
    "    caryear int\n",
    "); \"\"\""
   ]
  },
  {
   "cell_type": "code",
   "execution_count": 13,
   "id": "768b864b-a42c-45ab-9c63-2cadc6e103b5",
   "metadata": {},
   "outputs": [],
   "source": [
    "# use the conn object that we have created to execute all the queries\n",
    "# we call     .execute(QUERY) method from conn object to run queries"
   ]
  },
  {
   "cell_type": "code",
   "execution_count": 14,
   "id": "63a07bef-0184-4495-8108-310d829a15b0",
   "metadata": {},
   "outputs": [
    {
     "data": {
      "text/plain": [
       "<sqlite3.Cursor at 0x2c174e036c0>"
      ]
     },
     "execution_count": 14,
     "metadata": {},
     "output_type": "execute_result"
    }
   ],
   "source": [
    "conn.execute(qry_create_table)"
   ]
  },
  {
   "cell_type": "code",
   "execution_count": 17,
   "id": "04515172-2741-4597-80e2-a7233c5f7ac2",
   "metadata": {},
   "outputs": [],
   "source": [
    "qry_create_usertable=\"\"\"CREATE TABLE owners (\n",
    "    owner_name text,\n",
    "    owner_id int,\n",
    "    owner_car_number text\n",
    "); \"\"\""
   ]
  },
  {
   "cell_type": "code",
   "execution_count": 18,
   "id": "4647b432-f42d-48bd-9acf-dcebdb0cbb51",
   "metadata": {},
   "outputs": [
    {
     "data": {
      "text/plain": [
       "<sqlite3.Cursor at 0x2c174e03a40>"
      ]
     },
     "execution_count": 18,
     "metadata": {},
     "output_type": "execute_result"
    }
   ],
   "source": [
    "    conn.execute(qry_create_usertable)"
   ]
  },
  {
   "cell_type": "code",
   "execution_count": 19,
   "id": "7d81bb9e-8c50-41c4-8eda-99ae784deb73",
   "metadata": {},
   "outputs": [],
   "source": [
    "# insert some values into database\n",
    "# https://www.w3schools.com/sql/sql_insert.asp"
   ]
  },
  {
   "cell_type": "markdown",
   "id": "de79105e-ba3c-41fc-b0ed-7f65fd1b18fe",
   "metadata": {},
   "source": [
    "```sql\n",
    "\n",
    "INSERT INTO table_name (column1, column2, column3, ...)\n",
    "VALUES (value1, value2, value3, ...); \n",
    "\n",
    "```"
   ]
  },
  {
   "cell_type": "code",
   "execution_count": 20,
   "id": "c7b3c6c3-6649-4256-85cc-0fd8702e64d9",
   "metadata": {},
   "outputs": [],
   "source": [
    "qry_insrt_cars_db='''INSERT INTO car (carid, carmake, carmodel, caryear)\n",
    "VALUES ('1958', 'Maruthi800', '1990', '1995'); '''"
   ]
  },
  {
   "cell_type": "code",
   "execution_count": 21,
   "id": "c6a20932-3423-458b-b282-6a9a92734d9c",
   "metadata": {},
   "outputs": [
    {
     "data": {
      "text/plain": [
       "<sqlite3.Cursor at 0x2c1753fe8c0>"
      ]
     },
     "execution_count": 21,
     "metadata": {},
     "output_type": "execute_result"
    }
   ],
   "source": [
    "conn.execute(qry_insrt_cars_db)"
   ]
  },
  {
   "cell_type": "code",
   "execution_count": 22,
   "id": "96e075a0-9660-4ac3-9883-90a9643ee3e7",
   "metadata": {},
   "outputs": [],
   "source": [
    "conn.commit()"
   ]
  },
  {
   "cell_type": "code",
   "execution_count": 23,
   "id": "b8f42cb3-67af-47af-819b-b90a45026f1d",
   "metadata": {},
   "outputs": [],
   "source": [
    "qry_insrt_cars_db='''INSERT INTO car (carid, carmake, carmodel, caryear)\n",
    "VALUES ('1959', 'Maruthi Esteem', '1990', '1997'); '''"
   ]
  },
  {
   "cell_type": "code",
   "execution_count": 24,
   "id": "20b52593-de71-4a7d-929e-a6f54eb3de2f",
   "metadata": {},
   "outputs": [
    {
     "data": {
      "text/plain": [
       "<sqlite3.Cursor at 0x2c1753fe1c0>"
      ]
     },
     "execution_count": 24,
     "metadata": {},
     "output_type": "execute_result"
    }
   ],
   "source": [
    "conn.execute(qry_insrt_cars_db)"
   ]
  },
  {
   "cell_type": "code",
   "execution_count": 25,
   "id": "ba30b5de-ac35-46ac-a0ba-f345ff138812",
   "metadata": {},
   "outputs": [],
   "source": [
    "# for inserting the vaues into tables, we need to commit the query for which we run\n",
    "# .commit() method"
   ]
  },
  {
   "cell_type": "code",
   "execution_count": 26,
   "id": "2d4a1e2c-ae5d-4db8-a28e-9ee387a11bd4",
   "metadata": {},
   "outputs": [],
   "source": [
    "conn.commit()"
   ]
  },
  {
   "cell_type": "code",
   "execution_count": 27,
   "id": "11a9cb72-d36f-4ce5-b5b3-579951937088",
   "metadata": {},
   "outputs": [],
   "source": [
    "multiple_rows = [\n",
    "    ('1959', 'Maruthi Esteem', '1990', '1997'),\n",
    "    ('1947', 'BMW', '1980', '1997'),\n",
    "    ('1950', 'Piaggio', '1999', '2000'),\n",
    "    ('1959', 'Maruthi', '1990', '1997'),\n",
    "    ('1912', 'Esteem', '1990', '1997'),\n",
    "    ('1911', 'Kya', '1990', '1997'),\n",
    "    ('1933', 'Premier', '1990', '1997'),\n",
    "    ('1999', 'Padmini', '1990', '1997'),\n",
    "    ('1913', 'Contessa', '1990', '1997'),\n",
    "    ('1901', 'merc', '1990', '1997'),\n",
    "    ('1900', 'Maruthi Esteem', '1990', '1997')\n",
    "]"
   ]
  },
  {
   "cell_type": "code",
   "execution_count": 31,
   "id": "8561437c-0f44-4eb6-8838-6ee00259c205",
   "metadata": {},
   "outputs": [],
   "source": [
    "qry_insertmany = \"\"\" \n",
    "INSERT INTO car \n",
    "VALUES (?,?,?,?)\"\"\""
   ]
  },
  {
   "cell_type": "code",
   "execution_count": null,
   "id": "90326a50-e770-4e2d-805a-ed49f4940cef",
   "metadata": {},
   "outputs": [],
   "source": []
  },
  {
   "cell_type": "code",
   "execution_count": 28,
   "id": "7555a148-d9ad-4f89-94ac-4e7048c9e939",
   "metadata": {},
   "outputs": [],
   "source": [
    "s= {\n",
    "'sandles':1220,\n",
    "'idly rava':100,\n",
    "'jeans':1111,\n",
    "'fruit':'apple',\n",
    "'cooldrink':'butter milk'\n",
    "}"
   ]
  },
  {
   "cell_type": "code",
   "execution_count": 30,
   "id": "9ac689ba-f121-46da-8c4c-99120aa07adb",
   "metadata": {},
   "outputs": [
    {
     "data": {
      "text/plain": [
       "dict_items([('sandles', 1220), ('idly rava', 100), ('jeans', 1111), ('fruit', 'apple'), ('cooldrink', 'butter milk')])"
      ]
     },
     "execution_count": 30,
     "metadata": {},
     "output_type": "execute_result"
    }
   ],
   "source": [
    "s.items()"
   ]
  },
  {
   "cell_type": "code",
   "execution_count": null,
   "id": "938b7a02-c8e8-42e5-9743-79490ed6568a",
   "metadata": {},
   "outputs": [],
   "source": [
    "[('sandles', 1220),\n",
    " ('idly rava', 100), \n",
    " ('jeans', 1111), \n",
    " ('fruit', 'apple'),\n",
    " ('cooldrink', 'butter milk')\n",
    "]"
   ]
  },
  {
   "cell_type": "code",
   "execution_count": null,
   "id": "2558508e-5836-497a-bbfb-c1bfaefcc284",
   "metadata": {},
   "outputs": [],
   "source": [
    "# to insert multiple rows, we use execute many method\n",
    "# .executemany(query,data)"
   ]
  },
  {
   "cell_type": "code",
   "execution_count": 32,
   "id": "8ec63973-cc63-4497-a675-5c7d12f8ea41",
   "metadata": {},
   "outputs": [
    {
     "data": {
      "text/plain": [
       "<sqlite3.Cursor at 0x2c1753fea40>"
      ]
     },
     "execution_count": 32,
     "metadata": {},
     "output_type": "execute_result"
    }
   ],
   "source": [
    "conn.executemany(qry_insertmany, multiple_rows)"
   ]
  },
  {
   "cell_type": "code",
   "execution_count": 33,
   "id": "fb152509-d996-4512-99e2-c4e01e7afbab",
   "metadata": {},
   "outputs": [],
   "source": [
    "conn.commit()"
   ]
  },
  {
   "cell_type": "markdown",
   "id": "bcab1eea-df83-41c5-b421-dda0265da745",
   "metadata": {},
   "source": [
    "# Select Queries"
   ]
  },
  {
   "cell_type": "code",
   "execution_count": 34,
   "id": "c50296c0-3e34-41a6-ab42-43514f4a67c3",
   "metadata": {},
   "outputs": [],
   "source": [
    "qry_select_all = \"select * from car;\""
   ]
  },
  {
   "cell_type": "code",
   "execution_count": 35,
   "id": "20dccff8-aada-4da5-b381-aefde68001d7",
   "metadata": {},
   "outputs": [],
   "source": [
    "# when we run the select queries then a response obj is returned which will have the data\n",
    "# we use that obj for further ops"
   ]
  },
  {
   "cell_type": "code",
   "execution_count": 37,
   "id": "8e64bb2a-5344-49f4-ac0a-b67083421d6c",
   "metadata": {},
   "outputs": [],
   "source": [
    "# conn.execute(qry_select_all)\n",
    "data=conn.execute(\"select * from car;\")"
   ]
  },
  {
   "cell_type": "code",
   "execution_count": 38,
   "id": "84c6a813-a95d-4133-91a9-212ff2afe02c",
   "metadata": {},
   "outputs": [
    {
     "data": {
      "text/plain": [
       "<sqlite3.Cursor at 0x2c17544cdc0>"
      ]
     },
     "execution_count": 38,
     "metadata": {},
     "output_type": "execute_result"
    }
   ],
   "source": [
    "data"
   ]
  },
  {
   "cell_type": "code",
   "execution_count": 39,
   "id": "a9150404-2d51-4b4b-93a4-d5fe76f54585",
   "metadata": {},
   "outputs": [
    {
     "name": "stdout",
     "output_type": "stream",
     "text": [
      "('1958', 'Maruthi800', '1990', 1995)\n",
      "('1959', 'Maruthi Esteem', '1990', 1997)\n",
      "('1959', 'Maruthi Esteem', '1990', 1997)\n",
      "('1947', 'BMW', '1980', 1997)\n",
      "('1950', 'Piaggio', '1999', 2000)\n",
      "('1959', 'Maruthi', '1990', 1997)\n",
      "('1912', 'Esteem', '1990', 1997)\n",
      "('1911', 'Kya', '1990', 1997)\n",
      "('1933', 'Premier', '1990', 1997)\n",
      "('1999', 'Padmini', '1990', 1997)\n",
      "('1913', 'Contessa', '1990', 1997)\n",
      "('1901', 'merc', '1990', 1997)\n",
      "('1900', 'Maruthi Esteem', '1990', 1997)\n"
     ]
    }
   ],
   "source": [
    "# use a for loop to read the data\n",
    "for each_row in data:\n",
    "    print(each_row)"
   ]
  },
  {
   "cell_type": "code",
   "execution_count": null,
   "id": "fee803e3-e037-4a06-8cc4-15055800c01e",
   "metadata": {},
   "outputs": [],
   "source": []
  },
  {
   "cell_type": "code",
   "execution_count": null,
   "id": "5915032f-b016-43d8-8d1f-6a6efb4b88e3",
   "metadata": {},
   "outputs": [],
   "source": [
    "def queryeng(query,db):\n",
    "    connection object\n",
    "    set up connection\n",
    "    run query on db\n",
    "    if it is a select query, return values\n",
    "    if it is a insert query then insert values, commit and return success msg\n",
    "\n"
   ]
  },
  {
   "cell_type": "markdown",
   "id": "5df048d0-beba-4e4a-b998-837c4a22de50",
   "metadata": {},
   "source": [
    "```python\n",
    "import psycopg2\n",
    "\n",
    "# Connect to your postgres DB\n",
    "conn = psycopg2.connect(\"dbname=test user=postgres\")\n",
    "\n",
    "# Open a cursor to perform database operations\n",
    "cur = conn.cursor()\n",
    "\n",
    "# Execute a query\n",
    "cur.execute(\"SELECT * FROM my_data\")\n",
    "\n",
    "# Retrieve query results\n",
    "records = cur.fetchall()\n",
    "```"
   ]
  },
  {
   "cell_type": "code",
   "execution_count": null,
   "id": "fac21236-5ee2-40b0-b91c-b7bc443ce957",
   "metadata": {},
   "outputs": [],
   "source": []
  }
 ],
 "metadata": {
  "kernelspec": {
   "display_name": "Python 3 (ipykernel)",
   "language": "python",
   "name": "python3"
  },
  "language_info": {
   "codemirror_mode": {
    "name": "ipython",
    "version": 3
   },
   "file_extension": ".py",
   "mimetype": "text/x-python",
   "name": "python",
   "nbconvert_exporter": "python",
   "pygments_lexer": "ipython3",
   "version": "3.11.7"
  }
 },
 "nbformat": 4,
 "nbformat_minor": 5
}

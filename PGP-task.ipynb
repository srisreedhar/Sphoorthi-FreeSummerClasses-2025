{
 "cells": [
  {
   "cell_type": "code",
   "execution_count": 11,
   "id": "b73308a2-da15-4c1b-9789-e2b1ac0ef364",
   "metadata": {},
   "outputs": [
    {
     "name": "stdout",
     "output_type": "stream",
     "text": [
      "Sphoorthi Oum\n"
     ]
    }
   ],
   "source": [
    "print(\"Sphoorthi Oum\")"
   ]
  },
  {
   "cell_type": "code",
   "execution_count": 9,
   "id": "723eaf20-8645-474b-89be-5e2ef1b4afac",
   "metadata": {},
   "outputs": [
    {
     "name": "stdout",
     "output_type": "stream",
     "text": [
      "This is a Great Morning\n"
     ]
    }
   ],
   "source": [
    "print(\"This is a Great Morning\")"
   ]
  },
  {
   "cell_type": "code",
   "execution_count": 10,
   "id": "30b974e4-334d-441b-aeeb-2e31842d1cd0",
   "metadata": {},
   "outputs": [
    {
     "data": {
      "text/plain": [
       "4"
      ]
     },
     "execution_count": 10,
     "metadata": {},
     "output_type": "execute_result"
    }
   ],
   "source": [
    "1+1+1+1"
   ]
  },
  {
   "cell_type": "code",
   "execution_count": 12,
   "id": "426c6c8e-e9fd-477e-a600-7072c619eedc",
   "metadata": {},
   "outputs": [],
   "source": [
    "import requests"
   ]
  },
  {
   "cell_type": "code",
   "execution_count": 13,
   "id": "93c96490-e31a-4e92-bcb9-0cb629e5ff5c",
   "metadata": {},
   "outputs": [],
   "source": [
    "url=\"https://www.hashicorp.com/.well-known/pgp-key.txt\""
   ]
  },
  {
   "cell_type": "code",
   "execution_count": 14,
   "id": "25b3b666-9f60-48c2-b500-b16c7c02c2ca",
   "metadata": {},
   "outputs": [],
   "source": [
    "resp = requests.get(url)"
   ]
  },
  {
   "cell_type": "code",
   "execution_count": 15,
   "id": "c9ac3912-da74-41b3-a717-8c9a4f14409a",
   "metadata": {},
   "outputs": [
    {
     "data": {
      "text/plain": [
       "<Response [200]>"
      ]
     },
     "execution_count": 15,
     "metadata": {},
     "output_type": "execute_result"
    }
   ],
   "source": [
    "resp"
   ]
  },
  {
   "cell_type": "code",
   "execution_count": 16,
   "id": "cf29eb6b-9505-428b-8594-ed20298d603e",
   "metadata": {},
   "outputs": [],
   "source": [
    "text = resp.text"
   ]
  },
  {
   "cell_type": "code",
   "execution_count": 17,
   "id": "cfe2ba3c-32ef-4ca7-bfb3-ad3044de5ce1",
   "metadata": {},
   "outputs": [
    {
     "data": {
      "text/plain": [
       "'-----BEGIN PGP PUBLIC KEY BLOCK-----\\n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\\nZF5q4h4I33PSGDdSvGXn9UMY5Isjpg==\\n=7pIB\\n-----END PGP PUBLIC KEY BLOCK-----\\n'"
      ]
     },
     "execution_count": 17,
     "metadata": {},
     "output_type": "execute_result"
    }
   ],
   "source": [
    "text"
   ]
  },
  {
   "cell_type": "code",
   "execution_count": 18,
   "id": "2234fd38-f5e8-4057-9601-f0d25efd8591",
   "metadata": {},
   "outputs": [],
   "source": [
    "# count number of occurences of 'S', 'R', 'I','s'"
   ]
  },
  {
   "cell_type": "code",
   "execution_count": 19,
   "id": "f9654805-56dd-418d-85d2-804596e74de6",
   "metadata": {},
   "outputs": [
    {
     "data": {
      "text/plain": [
       "['-----BEGIN PGP PUBLIC KEY BLOCK-----',\n",
       " '',\n",
       " 'mQINBGB9+xkBEACabYZOWKmgZsHTdRDiyPJxhbuUiKX65GUWkyRMJKi/1dviVxOX',\n",
       " 'PG6hBPtF48IFnVgxKpIb7G6NjBousAV+CuLlv5yqFKpOZEGC6sBV+Gx8Vu1CICpl',\n",
       " 'Zm+HpQPcIzwBpN+Ar4l/exCG/f/MZq/oxGgH+TyRF3XcYDjG8dbJCpHO5nQ5Cy9h',\n",
       " 'QIp3/Bh09kET6lk+4QlofNgHKVT2epV8iK1cXlbQe2tZtfCUtxk+pxvU0UHXp+AB',\n",
       " '0xc3/gIhjZp/dePmCOyQyGPJbp5bpO4UeAJ6frqhexmNlaw9Z897ltZmRLGq1p4a',\n",
       " 'RnWL8FPkBz9SCSKXS8uNyV5oMNVn4G1obCkc106iWuKBTibffYQzq5TG8FYVJKrh',\n",
       " 'RwWB6piacEB8hl20IIWSxIM3J9tT7CPSnk5RYYCTRHgA5OOrqZhC7JefudrP8n+M',\n",
       " 'pxkDgNORDu7GCfAuisrf7dXYjLsxG4tu22DBJJC0c/IpRpXDnOuJN1Q5e/3VUKKW',\n",
       " 'mypNumuQpP5lc1ZFG64TRzb1HR6oIdHfbrVQfdiQXpvdcFx+Fl57WuUraXRV6qfb',\n",
       " '4ZmKHX1JEwM/7tu21QE4F1dz0jroLSricZxfaCTHHWNfvGJoZ30/MZUrpSC0IfB3',\n",
       " 'iQutxbZrwIlTBt+fGLtm3vDtwMFNWM+Rb1lrOxEQd2eijdxhvBOHtlIcswARAQAB',\n",
       " 'tERIYXNoaUNvcnAgU2VjdXJpdHkgKGhhc2hpY29ycC5jb20vc2VjdXJpdHkpIDxz',\n",
       " 'ZWN1cml0eUBoYXNoaWNvcnAuY29tPokCVAQTAQoAPhYhBMh0AR8KtAURDQIQVTQ2',\n",
       " 'XZRy10aPBQJgffsZAhsDBQkJZgGABQsJCAcCBhUKCQgLAgQWAgMBAh4BAheAAAoJ',\n",
       " 'EDQ2XZRy10aPtpcP/0PhJKiHtC1zREpRTrjGizoyk4Sl2SXpBZYhkdrG++abo6zs',\n",
       " 'buaAG7kgWWChVXBo5E20L7dbstFK7OjVs7vAg/OLgO9dPD8n2M19rpqSbbvKYWvp',\n",
       " '0NSgvFTT7lbyDhtPj0/bzpkZEhmvQaDWGBsbDdb2dBHGitCXhGMpdP0BuuPWEix+',\n",
       " 'QnUMaPwU51q9GM2guL45Tgks9EKNnpDR6ZdCeWcqo1IDmklloidxT8aKL21UOb8t',\n",
       " 'cD+Bg8iPaAr73bW7Jh8TdcV6s6DBFub+xPJEB/0bVPmq3ZHs5B4NItroZ3r+h3ke',\n",
       " 'VDoSOSIZLl6JtVooOJ2la9ZuMqxchO3mrXLlXxVCo6cGcSuOmOdQSz4OhQE5zBxx',\n",
       " 'LuzA5ASIjASSeNZaRnffLIHmht17BPslgNPtm6ufyOk02P5XXwa69UCjA3RYrA2P',\n",
       " 'QNNC+OWZ8qQLnzGldqE4MnRNAxRxV6cFNzv14ooKf7+k686LdZrP/3fQu2p3k5rY',\n",
       " '0xQUXKh1uwMUMtGR867ZBYaxYvwqDrg9XB7xi3N6aNyNQ+r7zI2lt65lzwG1v9hg',\n",
       " 'FG2AHrDlBkQi/t3wiTS3JOo/GCT8BjN0nJh0lGaRFtQv2cXOQGVRW8+V/9IpqEJ1',\n",
       " 'qQreftdBFWxvH7VJq2mSOXUJyRsoUrjkUuIivaA9Ocdipk2CkP8bpuGz7ZF4uQIN',\n",
       " 'BGB9+xkBEACoklYsfvWRCjOwS8TOKBTfl8myuP9V9uBNbyHufzNETbhYeT33Cj0M',\n",
       " 'GCNd9GdoaknzBQLbQVSQogA+spqVvQPz1MND18GIdtmr0BXENiZE7SRvu76jNqLp',\n",
       " 'KxYALoK2Pc3yK0JGD30HcIIgx+lOofrVPA2dfVPTj1wXvm0rbSGA4Wd4Ng3d2AoR',\n",
       " 'G/wZDAQ7sdZi1A9hhfugTFZwfqR3XAYCk+PUeoFrkJ0O7wngaon+6x2GJVedVPOs',\n",
       " '2x/XOR4l9ytFP3o+5ILhVnsK+ESVD9AQz2fhDEU6RhvzaqtHe+sQccR3oVLoGcat',\n",
       " 'ma5rbfzH0Fhj0JtkbP7WreQf9udYgXxVJKXLQFQgel34egEGG+NlbGSPG+qHOZtY',\n",
       " '4uWdlDSvmo+1P95P4VG/EBteqyBbDDGDGiMs6lAMg2cULrwOsbxWjsWka8y2IN3z',\n",
       " '1stlIJFvW2kggU+bKnQ+sNQnclq3wzCJjeDBfucR3a5WRojDtGoJP6Fc3luUtS7V',\n",
       " '5TAdOx4dhaMFU9+01OoH8ZdTRiHZ1K7RFeAIslSyd4iA/xkhOhHq89F4ECQf3Bt4',\n",
       " 'ZhGsXDTaA/VgHmf3AULbrC94O7HNqOvTWzwGiWHLfcxXQsr+ijIEQvh6rHKmJK8R',\n",
       " '9NMHqc3L18eMO6bqrzEHW0Xoiu9W8Yj+WuB3IKdhclT3w0pO4Pj8gQARAQABiQI8',\n",
       " 'BBgBCgAmFiEEyHQBHwq0BRENAhBVNDZdlHLXRo8FAmB9+xkCGwwFCQlmAYAACgkQ',\n",
       " 'NDZdlHLXRo9ZnA/7BmdpQLeTjEiXEJyW46efxlV1f6THn9U50GWcE9tebxCXgmQf',\n",
       " 'u+Uju4hreltx6GDi/zbVVV3HCa0yaJ4JVvA4LBULJVe3ym6tXXSYaOfMdkiK6P1v',\n",
       " 'JgfpBQ/b/mWB0yuWTUtWx18BQQwlNEQWcGe8n1lBbYsH9g7QkacRNb8tKUrUbWlQ',\n",
       " 'QsU8wuFgly22m+Va1nO2N5C/eE/ZEHyN15jEQ+QwgQgPrK2wThcOMyNMQX/VNEr1',\n",
       " 'Y3bI2wHfZFjotmek3d7ZfP2VjyDudnmCPQ5xjezWpKbN1kvjO3as2yhcVKfnvQI5',\n",
       " 'P5Frj19NgMIGAp7X6pF5Csr4FX/Vw316+AFJd9Ibhfud79HAylvFydpcYbvZpScl',\n",
       " '7zgtgaXMCVtthe3GsG4gO7IdxxEBZ/Fm4NLnmbzCIWOsPMx/FxH06a539xFq/1E2',\n",
       " '1nYFjiKg8a5JFmYU/4mV9MQs4bP/3ip9byi10V+fEIfp5cEEmfNeVeW5E7J8PqG9',\n",
       " 't4rLJ8FR4yJgQUa2gs2SNYsjWQuwS/MJvAv4fDKlkQjQmYRAOp1SszAnyaplvri4',\n",
       " 'ncmfDsf0r65/sd6S40g5lHH8LIbGxcOIN6kwthSTPWX89r42CbY8GzjTkaeejNKx',\n",
       " 'v1aCrO58wAtursO1DiXCvBY7+NdafMRnoHwBk50iPqrVkNA8fv+auRyB2/G5Ag0E',\n",
       " 'YH3+JQEQALivllTjMolxUW2OxrXb+a2Pt6vjCBsiJzrUj0Pa63U+lT9jldbCCfgP',\n",
       " 'wDpcDuO1O05Q8k1MoYZ6HddjWnqKG7S3eqkV5c3ct3amAXp513QDKZUfIDylOmhU',\n",
       " 'qvxjEgvGjdRjz6kECFGYr6Vnj/p6AwWv4/FBRFlrq7cnQgPynbIH4hrWvewp3Tqw',\n",
       " 'GVgqm5RRofuAugi8iZQVlAiQZJo88yaztAQ/7VsXBiHTn61ugQ8bKdAsr8w/ZZU5',\n",
       " 'HScHLqRolcYg0cKN91c0EbJq9k1LUC//CakPB9mhi5+aUVUGusIM8ECShUEgSTCi',\n",
       " 'KQiJUPZ2CFbbPE9L5o9xoPCxjXoX+r7L/WyoCPTeoS3YRUMEnWKvc42Yxz3meRb+',\n",
       " 'BmaqgbheNmzOah5nMwPupJYmHrjWPkX7oyyHxLSFw4dtoP2j6Z7GdRXKa2dUYdk2',\n",
       " 'x3JYKocrDoPHh3Q0TAZujtpdjFi1BS8pbxYFb3hHmGSdvz7T7KcqP7ChC7k2RAKO',\n",
       " 'GiG7QQe4NX3sSMgweYpl4OwvQOn73t5CVWYp/gIBNZGsU3Pto8g27vHeWyH9mKr4',\n",
       " 'cSepDhw+/X8FGRNdxNfpLKm7Vc0Sm9Sof8TRFrBTqX+vIQupYHRi5QQCuYaV6OVr',\n",
       " 'ITeegNK3So4m39d6ajCR9QxRbmjnx9UcnSYYDmIB6fpBuwT0ogNtABEBAAGJBHIE',\n",
       " 'GAEKACYCGwIWIQTIdAEfCrQFEQ0CEFU0Nl2UctdGjwUCYH4bgAUJAeFQ2wJAwXQg',\n",
       " 'BBkBCgAdFiEEs2y6kaLAcwxDX8KAsLRBCXaFtnYFAmB9/iUACgkQsLRBCXaFtnYX',\n",
       " 'BhAAlxejyFXoQwyGo9U+2g9N6LUb/tNtH29RHYxy4A3/ZUY7d/FMkArmh4+dfjf0',\n",
       " 'p9MJz98Zkps20kaYP+2YzYmaizO6OA6RIddcEXQDRCPHmLts3097mJ/skx9qLAf6',\n",
       " 'rh9J7jWeSqWO6VW6Mlx8j9m7sm3Ae1OsjOx/m7lGZOhY4UYfY627+Jf7WQ5103Qs',\n",
       " 'lgQ09es/vhTCx0g34SYEmMW15Tc3eCjQ21b1MeJD/V26npeakV8iCZ1kHZHawPq/',\n",
       " 'aCCuYEcCeQOOteTWvl7HXaHMhHIx7jjOd8XX9V+UxsGz2WCIxX/j7EEEc7CAxwAN',\n",
       " 'nWp9jXeLfxYfjrUB7XQZsGCd4EHHzUyCf7iRJL7OJ3tz5Z+rOlNjSgci+ycHEccL',\n",
       " 'YeFAEV+Fz+sj7q4cFAferkr7imY1XEI0Ji5P8p/uRYw/n8uUf7LrLw5TzHmZsTSC',\n",
       " 'UaiL4llRzkDC6cVhYfqQWUXDd/r385OkE4oalNNE+n+txNRx92rpvXWZ5qFYfv7E',\n",
       " '95fltvpXc0iOugPMzyof3lwo3Xi4WZKc1CC/jEviKTQhfn3WZukuF5lbz3V1PQfI',\n",
       " 'xFsYe9WYQmp25XGgezjXzp89C/OIcYsVB1KJAKihgbYdHyUN4fRCmOszmOUwEAKR',\n",
       " '3k5j4X8V5bk08sA69NVXPn2ofxyk3YYOMYWW8ouObnXoS8QJEDQ2XZRy10aPMpsQ',\n",
       " 'AIbwX21erVqUDMPn1uONP6o4NBEq4MwG7d+fT85rc1U0RfeKBwjucAE/iStZDQoM',\n",
       " 'ZKWvGhFR+uoyg1LrXNKuSPB82unh2bpvj4zEnJsJadiwtShTKDsikhrfFEK3aCK8',\n",
       " 'Zuhpiu3jxMFDhpFzlxsSwaCcGJqcdwGhWUx0ZAVD2X71UCFoOXPjF9fNnpy80YNp',\n",
       " 'flPjj2RnOZbJyBIM0sWIVMd8F44qkTASf8K5Qb47WFN5tSpePq7OCm7s8u+lYZGK',\n",
       " 'wR18K7VliundR+5a8XAOyUXOL5UsDaQCK4Lj4lRaeFXunXl3DJ4E+7BKzZhReJL6',\n",
       " 'EugV5eaGonA52TWtFdB8p+79wPUeI3KcdPmQ9Ll5Zi/jBemY4bzasmgKzNeMtwWP',\n",
       " 'fk6WgrvBwptqohw71HDymGxFUnUP7XYYjic2sVKhv9AevMGycVgwWBiWroDCQ9Ja',\n",
       " 'btKfxHhI2p+g+rcywmBobWJbZsujTNjhtme+kNn1mhJsD3bKPjKQfAxaTskBLb0V',\n",
       " 'wgV21891TS1Dq9kdPLwoS4XNpYg2LLB4p9hmeG3fu9+OmqwY5oKXsHiWc43dei9Y',\n",
       " 'yxZ1AAUOIaIdPkq+YG/PhlGE4YcQZ4RPpltAr0HfGgZhmXWigbGS+66pUj+Ojysc',\n",
       " 'j0K5tCVxVu0fhhFpOlHv0LWaxCbnkgkQH9jfMEJkAWMOuQINBGCAXCYBEADW6RNr',\n",
       " 'ZVGNXvHVBqSiOWaxl1XOiEoiHPt50Aijt25yXbG+0kHIFSoR+1g6Lh20JTCChgfQ',\n",
       " 'kGGjzQvEuG1HTw07YhsvLc0pkjNMfu6gJqFox/ogc53mz69OxXauzUQ/TZ27GDVp',\n",
       " 'UBu+EhDKt1s3OtA6Bjz/csop/Um7gT0+ivHyvJ/jGdnPEZv8tNuSE/Uo+hn/Q9hg',\n",
       " '8SbveZzo3C+U4KcabCESEFl8Gq6aRi9vAfa65oxD5jKaIz7cy+pwb0lizqlW7H9t',\n",
       " 'Qlr3dBfdIcdzgR55hTFC5/XrcwJ6/nHVH/xGskEasnfCQX8RYKMuy0UADJy72TkZ',\n",
       " 'bYaCx+XXIcVB8GTOmJVoAhrTSSVLAZspfCnjwnSxisDn3ZzsYrq3cV6sU8b+QlIX',\n",
       " '7VAjurE+5cZiVlaxgCjyhKqlGgmonnReWOBacCgL/UvuwMmMp5TTLmiLXLT7uxeG',\n",
       " 'ojEyoCk4sMrqrU1jevHyGlDJH9Taux15GILDwnYFfAvPF9WCid4UZ4Ouwjcaxfys',\n",
       " '3LxNiZIlUsXNKwS3mhiMRL4TRsbs4k4QE+LIMOsauIvcvm8/frydvQ/kUwIhVTH8',\n",
       " '0XGOH909bYtJvY3fudK7ShIwm7ZFTduBJUG473E/Fn3VkhTmBX6+PjOC50HR/Hyb',\n",
       " 'waRCzfDruMe3TAcE/tSP5CUOb9C7+P+hPzQcDwARAQABiQRyBBgBCgAmFiEEyHQB',\n",
       " 'Hwq0BRENAhBVNDZdlHLXRo8FAmCAXCYCGwIFCQlmAYACQAkQNDZdlHLXRo/BdCAE',\n",
       " 'GQEKAB0WIQQ3TsdbSFkTYEqDHMfIIMbVzSerhwUCYIBcJgAKCRDIIMbVzSerh0Xw',\n",
       " 'D/9ghnUsoNCu1OulcoJdHboMazJvDt/znttdQSnULBVElgM5zk0Uyv87zFBzuCyQ',\n",
       " 'JWL3bWesQ2uFx5fRWEPDEfWVdDrjpQGb1OCCQyz1QlNPV/1M1/xhKGS9EeXrL8Dw',\n",
       " 'F6KTGkRwn1yXiP4BGgfeFIQHmJcKXEZ9HkrpNb8mcexkROv4aIPAwn+IaE+NHVtt',\n",
       " 'IBnufMXLyfpkWJQtJa9elh9PMLlHHnuvnYLvuAoOkhuvs7fXDMpfFZ01C+QSv1dz',\n",
       " 'Hm52GSStERQzZ51w4c0rYDneYDniC/sQT1x3dP5Xf6wzO+EhRMabkvoTbMqPsTEP',\n",
       " 'xyWr2pNtTBYp7pfQjsHxhJpQF0xjGN9C39z7f3gJG8IJhnPeulUqEZjhRFyVZQ6/',\n",
       " 'siUeq7vu4+dM/JQL+i7KKe7Lp9UMrG6NLMH+ltaoD3+lVm8fdTUxS5MNPoA/I8cK',\n",
       " '1OWTJHkrp7V/XaY7mUtvQn5V1yET5b4bogz4nME6WLiFMd+7x73gB+YJ6MGYNuO8',\n",
       " 'e/NFK67MfHbk1/AiPTAJ6s5uHRQIkZcBPG7y5PpfcHpIlwPYCDGYlTajZXblyKrw',\n",
       " 'BttVnYKvKsnlysv11glSg0DphGxQJbXzWpvBNyhMNH5dffcfvd3eXJAxnD81GD2z',\n",
       " 'ZAriMJ4Av2TfeqQ2nxd2ddn0jX4WVHtAvLXfCgLM2Gveho4jD/9sZ6PZz/rEeTvt',\n",
       " 'h88t50qPcBa4bb25X0B5FO3TeK2LL3VKLuEp5lgdcHVonrcdqZFobN1CgGJua8TW',\n",
       " 'SprIkh+8ATZ/FXQTi01NzLhHXT1IQzSpFaZw0gb2f5ruXwvTPpfXzQrs2omY+7s7',\n",
       " 'fkCwGPesvpSXPKn9v8uhUwD7NGW/Dm+jUM+QtC/FqzX7+/Q+OuEPjClUh1cqopCZ',\n",
       " 'EvAI3HjnavGrYuU6DgQdjyGT/UDbuwbCXqHxHojVVkISGzCTGpmBcQYQqhcFRedJ',\n",
       " 'yJlu6PSXlA7+8Ajh52oiMJ3ez4xSssFgUQAyOB16432tm4erpGmCyakkoRmMUn3p',\n",
       " 'wx+QIppxRlsHznhcCQKR3tcblUqH3vq5i4/ZAihusMCa0YrShtxfdSb13oKX+pFr',\n",
       " 'aZXvxyZlCa5qoQQBV1sowmPL1N2j3dR9TVpdTyCFQSv4KeiExmowtLIjeCppRBEK',\n",
       " 'eeYHJnlfkyKXPhxTVVO6H+dU4nVu0ASQZ07KiQjbI+zTpPKFLPp3/0sPRJM57r1+',\n",
       " 'aTS71iR7nZNZ1f8LZV2OvGE6fJVtgJ1J4Nu02K54uuIhU3tg1+7Xt+IqwRc9rbVr',\n",
       " 'pHH/hFCYBPW2D2dxB+k2pQlg5NI+TpsXj5Zun8kRw5RtVb+dLuiH/xmxArIee8Jq',\n",
       " 'ZF5q4h4I33PSGDdSvGXn9UMY5Isjpg==',\n",
       " '=7pIB',\n",
       " '-----END PGP PUBLIC KEY BLOCK-----',\n",
       " '']"
      ]
     },
     "execution_count": 19,
     "metadata": {},
     "output_type": "execute_result"
    }
   ],
   "source": [
    "text.split('\\n')"
   ]
  },
  {
   "cell_type": "code",
   "execution_count": 21,
   "id": "5c254d55-8d7f-44f3-9fee-32417df6c3e2",
   "metadata": {},
   "outputs": [
    {
     "name": "stdout",
     "output_type": "stream",
     "text": [
      "['m', 'Q', 'I', 'N', 'B', 'G', 'B', '9', '+', 'x', 'k', 'B', 'E', 'A', 'C', 'a', 'b', 'Y', 'Z', 'O', 'W', 'K', 'm', 'g', 'Z', 's', 'H', 'T', 'd', 'R', 'D', 'i', 'y', 'P', 'J', 'x', 'h', 'b', 'u', 'U', 'i', 'K', 'X', '6', '5', 'G', 'U', 'W', 'k', 'y', 'R', 'M', 'J', 'K', 'i', '/', '1', 'd', 'v', 'i', 'V', 'x', 'O', 'X']\n"
     ]
    }
   ],
   "source": [
    "print(list('mQINBGB9+xkBEACabYZOWKmgZsHTdRDiyPJxhbuUiKX65GUWkyRMJKi/1dviVxOX'))"
   ]
  },
  {
   "cell_type": "code",
   "execution_count": 22,
   "id": "e5b3238d-3dec-43d5-b908-f03f9fb74ae9",
   "metadata": {},
   "outputs": [
    {
     "data": {
      "text/plain": [
       "['a', 'p', 'p', 'l', 'e']"
      ]
     },
     "execution_count": 22,
     "metadata": {},
     "output_type": "execute_result"
    }
   ],
   "source": [
    "list('apple')"
   ]
  },
  {
   "cell_type": "code",
   "execution_count": 24,
   "id": "4516a60f-87da-406a-bd00-f93b07a949c7",
   "metadata": {},
   "outputs": [
    {
     "name": "stdout",
     "output_type": "stream",
     "text": [
      "['-', '-', '-', '-', '-', 'B', 'E', 'G', 'I', 'N', ' ', 'P', 'G', 'P', ' ', 'P', 'U', 'B', 'L', 'I', 'C', ' ', 'K', 'E', 'Y', ' ', 'B', 'L', 'O', 'C', 'K', '-', '-', '-', '-', '-', '\\n', '\\n', 'm', 'Q', 'I', 'N', 'B', 'G', 'B', '9', '+', 'x', 'k', 'B', 'E', 'A', 'C', 'a', 'b', 'Y', 'Z', 'O', 'W', 'K', 'm', 'g', 'Z', 's', 'H', 'T', 'd', 'R', 'D', 'i', 'y', 'P', 'J', 'x', 'h', 'b', 'u', 'U', 'i', 'K', 'X', '6', '5', 'G', 'U', 'W', 'k', 'y', 'R', 'M', 'J', 'K', 'i', '/', '1', 'd', 'v', 'i', 'V', 'x', 'O', 'X', '\\n', 'P', 'G', '6', 'h', 'B', 'P', 't', 'F', '4', '8', 'I', 'F', 'n', 'V', 'g', 'x', 'K', 'p', 'I', 'b', '7', 'G', '6', 'N', 'j', 'B', 'o', 'u', 's', 'A', 'V', '+', 'C', 'u', 'L', 'l', 'v', '5', 'y', 'q', 'F', 'K', 'p', 'O', 'Z', 'E', 'G', 'C', '6', 's', 'B', 'V', '+', 'G', 'x', '8', 'V', 'u', '1', 'C', 'I', 'C', 'p', 'l', '\\n', 'Z', 'm', '+', 'H', 'p', 'Q', 'P', 'c', 'I', 'z', 'w', 'B', 'p', 'N', '+', 'A', 'r', '4', 'l', '/', 'e', 'x', 'C', 'G', '/', 'f', '/', 'M', 'Z', 'q', '/', 'o', 'x', 'G', 'g', 'H', '+', 'T', 'y', 'R', 'F', '3', 'X', 'c', 'Y', 'D', 'j', 'G', '8', 'd', 'b', 'J', 'C', 'p', 'H', 'O', '5', 'n', 'Q', '5', 'C', 'y', '9', 'h', '\\n', 'Q', 'I', 'p', '3', '/', 'B', 'h', '0', '9', 'k', 'E', 'T', '6', 'l', 'k', '+', '4', 'Q', 'l', 'o', 'f', 'N', 'g', 'H', 'K', 'V', 'T', '2', 'e', 'p', 'V', '8', 'i', 'K', '1', 'c', 'X', 'l', 'b', 'Q', 'e', '2', 't', 'Z', 't', 'f', 'C', 'U', 't', 'x', 'k', '+', 'p', 'x', 'v', 'U', '0', 'U', 'H', 'X', 'p', '+', 'A', 'B', '\\n', '0', 'x', 'c', '3', '/', 'g', 'I', 'h', 'j', 'Z', 'p', '/', 'd', 'e', 'P', 'm', 'C', 'O', 'y', 'Q', 'y', 'G', 'P', 'J', 'b', 'p', '5', 'b', 'p', 'O', '4', 'U', 'e', 'A', 'J', '6', 'f', 'r', 'q', 'h', 'e', 'x', 'm', 'N', 'l', 'a', 'w', '9', 'Z', '8', '9', '7', 'l', 't', 'Z', 'm', 'R', 'L', 'G', 'q', '1', 'p', '4', 'a', '\\n', 'R', 'n', 'W', 'L', '8', 'F', 'P', 'k', 'B', 'z', '9', 'S', 'C', 'S', 'K', 'X', 'S', '8', 'u', 'N', 'y', 'V', '5', 'o', 'M', 'N', 'V', 'n', '4', 'G', '1', 'o', 'b', 'C', 'k', 'c', '1', '0', '6', 'i', 'W', 'u', 'K', 'B', 'T', 'i', 'b', 'f', 'f', 'Y', 'Q', 'z', 'q', '5', 'T', 'G', '8', 'F', 'Y', 'V', 'J', 'K', 'r', 'h', '\\n', 'R', 'w', 'W', 'B', '6', 'p', 'i', 'a', 'c', 'E', 'B', '8', 'h', 'l', '2', '0', 'I', 'I', 'W', 'S', 'x', 'I', 'M', '3', 'J', '9', 't', 'T', '7', 'C', 'P', 'S', 'n', 'k', '5', 'R', 'Y', 'Y', 'C', 'T', 'R', 'H', 'g', 'A', '5', 'O', 'O', 'r', 'q', 'Z', 'h', 'C', '7', 'J', 'e', 'f', 'u', 'd', 'r', 'P', '8', 'n', '+', 'M', '\\n', 'p', 'x', 'k', 'D', 'g', 'N', 'O', 'R', 'D', 'u', '7', 'G', 'C', 'f', 'A', 'u', 'i', 's', 'r', 'f', '7', 'd', 'X', 'Y', 'j', 'L', 's', 'x', 'G', '4', 't', 'u', '2', '2', 'D', 'B', 'J', 'J', 'C', '0', 'c', '/', 'I', 'p', 'R', 'p', 'X', 'D', 'n', 'O', 'u', 'J', 'N', '1', 'Q', '5', 'e', '/', '3', 'V', 'U', 'K', 'K', 'W', '\\n', 'm', 'y', 'p', 'N', 'u', 'm', 'u', 'Q', 'p', 'P', '5', 'l', 'c', '1', 'Z', 'F', 'G', '6', '4', 'T', 'R', 'z', 'b', '1', 'H', 'R', '6', 'o', 'I', 'd', 'H', 'f', 'b', 'r', 'V', 'Q', 'f', 'd', 'i', 'Q', 'X', 'p', 'v', 'd', 'c', 'F', 'x', '+', 'F', 'l', '5', '7', 'W', 'u', 'U', 'r', 'a', 'X', 'R', 'V', '6', 'q', 'f', 'b', '\\n', '4', 'Z', 'm', 'K', 'H', 'X', '1', 'J', 'E', 'w', 'M', '/', '7', 't', 'u', '2', '1', 'Q', 'E', '4', 'F', '1', 'd', 'z', '0', 'j', 'r', 'o', 'L', 'S', 'r', 'i', 'c', 'Z', 'x', 'f', 'a', 'C', 'T', 'H', 'H', 'W', 'N', 'f', 'v', 'G', 'J', 'o', 'Z', '3', '0', '/', 'M', 'Z', 'U', 'r', 'p', 'S', 'C', '0', 'I', 'f', 'B', '3', '\\n', 'i', 'Q', 'u', 't', 'x', 'b', 'Z', 'r', 'w', 'I', 'l', 'T', 'B', 't', '+', 'f', 'G', 'L', 't', 'm', '3', 'v', 'D', 't', 'w', 'M', 'F', 'N', 'W', 'M', '+', 'R', 'b', '1', 'l', 'r', 'O', 'x', 'E', 'Q', 'd', '2', 'e', 'i', 'j', 'd', 'x', 'h', 'v', 'B', 'O', 'H', 't', 'l', 'I', 'c', 's', 'w', 'A', 'R', 'A', 'Q', 'A', 'B', '\\n', 't', 'E', 'R', 'I', 'Y', 'X', 'N', 'o', 'a', 'U', 'N', 'v', 'c', 'n', 'A', 'g', 'U', '2', 'V', 'j', 'd', 'X', 'J', 'p', 'd', 'H', 'k', 'g', 'K', 'G', 'h', 'h', 'c', '2', 'h', 'p', 'Y', '2', '9', 'y', 'c', 'C', '5', 'j', 'b', '2', '0', 'v', 'c', '2', 'V', 'j', 'd', 'X', 'J', 'p', 'd', 'H', 'k', 'p', 'I', 'D', 'x', 'z', '\\n', 'Z', 'W', 'N', '1', 'c', 'm', 'l', '0', 'e', 'U', 'B', 'o', 'Y', 'X', 'N', 'o', 'a', 'W', 'N', 'v', 'c', 'n', 'A', 'u', 'Y', '2', '9', 't', 'P', 'o', 'k', 'C', 'V', 'A', 'Q', 'T', 'A', 'Q', 'o', 'A', 'P', 'h', 'Y', 'h', 'B', 'M', 'h', '0', 'A', 'R', '8', 'K', 't', 'A', 'U', 'R', 'D', 'Q', 'I', 'Q', 'V', 'T', 'Q', '2', '\\n', 'X', 'Z', 'R', 'y', '1', '0', 'a', 'P', 'B', 'Q', 'J', 'g', 'f', 'f', 's', 'Z', 'A', 'h', 's', 'D', 'B', 'Q', 'k', 'J', 'Z', 'g', 'G', 'A', 'B', 'Q', 's', 'J', 'C', 'A', 'c', 'C', 'B', 'h', 'U', 'K', 'C', 'Q', 'g', 'L', 'A', 'g', 'Q', 'W', 'A', 'g', 'M', 'B', 'A', 'h', '4', 'B', 'A', 'h', 'e', 'A', 'A', 'A', 'o', 'J', '\\n', 'E', 'D', 'Q', '2', 'X', 'Z', 'R', 'y', '1', '0', 'a', 'P', 't', 'p', 'c', 'P', '/', '0', 'P', 'h', 'J', 'K', 'i', 'H', 't', 'C', '1', 'z', 'R', 'E', 'p', 'R', 'T', 'r', 'j', 'G', 'i', 'z', 'o', 'y', 'k', '4', 'S', 'l', '2', 'S', 'X', 'p', 'B', 'Z', 'Y', 'h', 'k', 'd', 'r', 'G', '+', '+', 'a', 'b', 'o', '6', 'z', 's', '\\n', 'b', 'u', 'a', 'A', 'G', '7', 'k', 'g', 'W', 'W', 'C', 'h', 'V', 'X', 'B', 'o', '5', 'E', '2', '0', 'L', '7', 'd', 'b', 's', 't', 'F', 'K', '7', 'O', 'j', 'V', 's', '7', 'v', 'A', 'g', '/', 'O', 'L', 'g', 'O', '9', 'd', 'P', 'D', '8', 'n', '2', 'M', '1', '9', 'r', 'p', 'q', 'S', 'b', 'b', 'v', 'K', 'Y', 'W', 'v', 'p', '\\n', '0', 'N', 'S', 'g', 'v', 'F', 'T', 'T', '7', 'l', 'b', 'y', 'D', 'h', 't', 'P', 'j', '0', '/', 'b', 'z', 'p', 'k', 'Z', 'E', 'h', 'm', 'v', 'Q', 'a', 'D', 'W', 'G', 'B', 's', 'b', 'D', 'd', 'b', '2', 'd', 'B', 'H', 'G', 'i', 't', 'C', 'X', 'h', 'G', 'M', 'p', 'd', 'P', '0', 'B', 'u', 'u', 'P', 'W', 'E', 'i', 'x', '+', '\\n', 'Q', 'n', 'U', 'M', 'a', 'P', 'w', 'U', '5', '1', 'q', '9', 'G', 'M', '2', 'g', 'u', 'L', '4', '5', 'T', 'g', 'k', 's', '9', 'E', 'K', 'N', 'n', 'p', 'D', 'R', '6', 'Z', 'd', 'C', 'e', 'W', 'c', 'q', 'o', '1', 'I', 'D', 'm', 'k', 'l', 'l', 'o', 'i', 'd', 'x', 'T', '8', 'a', 'K', 'L', '2', '1', 'U', 'O', 'b', '8', 't', '\\n', 'c', 'D', '+', 'B', 'g', '8', 'i', 'P', 'a', 'A', 'r', '7', '3', 'b', 'W', '7', 'J', 'h', '8', 'T', 'd', 'c', 'V', '6', 's', '6', 'D', 'B', 'F', 'u', 'b', '+', 'x', 'P', 'J', 'E', 'B', '/', '0', 'b', 'V', 'P', 'm', 'q', '3', 'Z', 'H', 's', '5', 'B', '4', 'N', 'I', 't', 'r', 'o', 'Z', '3', 'r', '+', 'h', '3', 'k', 'e', '\\n', 'V', 'D', 'o', 'S', 'O', 'S', 'I', 'Z', 'L', 'l', '6', 'J', 't', 'V', 'o', 'o', 'O', 'J', '2', 'l', 'a', '9', 'Z', 'u', 'M', 'q', 'x', 'c', 'h', 'O', '3', 'm', 'r', 'X', 'L', 'l', 'X', 'x', 'V', 'C', 'o', '6', 'c', 'G', 'c', 'S', 'u', 'O', 'm', 'O', 'd', 'Q', 'S', 'z', '4', 'O', 'h', 'Q', 'E', '5', 'z', 'B', 'x', 'x', '\\n', 'L', 'u', 'z', 'A', '5', 'A', 'S', 'I', 'j', 'A', 'S', 'S', 'e', 'N', 'Z', 'a', 'R', 'n', 'f', 'f', 'L', 'I', 'H', 'm', 'h', 't', '1', '7', 'B', 'P', 's', 'l', 'g', 'N', 'P', 't', 'm', '6', 'u', 'f', 'y', 'O', 'k', '0', '2', 'P', '5', 'X', 'X', 'w', 'a', '6', '9', 'U', 'C', 'j', 'A', '3', 'R', 'Y', 'r', 'A', '2', 'P', '\\n', 'Q', 'N', 'N', 'C', '+', 'O', 'W', 'Z', '8', 'q', 'Q', 'L', 'n', 'z', 'G', 'l', 'd', 'q', 'E', '4', 'M', 'n', 'R', 'N', 'A', 'x', 'R', 'x', 'V', '6', 'c', 'F', 'N', 'z', 'v', '1', '4', 'o', 'o', 'K', 'f', '7', '+', 'k', '6', '8', '6', 'L', 'd', 'Z', 'r', 'P', '/', '3', 'f', 'Q', 'u', '2', 'p', '3', 'k', '5', 'r', 'Y', '\\n', '0', 'x', 'Q', 'U', 'X', 'K', 'h', '1', 'u', 'w', 'M', 'U', 'M', 't', 'G', 'R', '8', '6', '7', 'Z', 'B', 'Y', 'a', 'x', 'Y', 'v', 'w', 'q', 'D', 'r', 'g', '9', 'X', 'B', '7', 'x', 'i', '3', 'N', '6', 'a', 'N', 'y', 'N', 'Q', '+', 'r', '7', 'z', 'I', '2', 'l', 't', '6', '5', 'l', 'z', 'w', 'G', '1', 'v', '9', 'h', 'g', '\\n', 'F', 'G', '2', 'A', 'H', 'r', 'D', 'l', 'B', 'k', 'Q', 'i', '/', 't', '3', 'w', 'i', 'T', 'S', '3', 'J', 'O', 'o', '/', 'G', 'C', 'T', '8', 'B', 'j', 'N', '0', 'n', 'J', 'h', '0', 'l', 'G', 'a', 'R', 'F', 't', 'Q', 'v', '2', 'c', 'X', 'O', 'Q', 'G', 'V', 'R', 'W', '8', '+', 'V', '/', '9', 'I', 'p', 'q', 'E', 'J', '1', '\\n', 'q', 'Q', 'r', 'e', 'f', 't', 'd', 'B', 'F', 'W', 'x', 'v', 'H', '7', 'V', 'J', 'q', '2', 'm', 'S', 'O', 'X', 'U', 'J', 'y', 'R', 's', 'o', 'U', 'r', 'j', 'k', 'U', 'u', 'I', 'i', 'v', 'a', 'A', '9', 'O', 'c', 'd', 'i', 'p', 'k', '2', 'C', 'k', 'P', '8', 'b', 'p', 'u', 'G', 'z', '7', 'Z', 'F', '4', 'u', 'Q', 'I', 'N', '\\n', 'B', 'G', 'B', '9', '+', 'x', 'k', 'B', 'E', 'A', 'C', 'o', 'k', 'l', 'Y', 's', 'f', 'v', 'W', 'R', 'C', 'j', 'O', 'w', 'S', '8', 'T', 'O', 'K', 'B', 'T', 'f', 'l', '8', 'm', 'y', 'u', 'P', '9', 'V', '9', 'u', 'B', 'N', 'b', 'y', 'H', 'u', 'f', 'z', 'N', 'E', 'T', 'b', 'h', 'Y', 'e', 'T', '3', '3', 'C', 'j', '0', 'M', '\\n', 'G', 'C', 'N', 'd', '9', 'G', 'd', 'o', 'a', 'k', 'n', 'z', 'B', 'Q', 'L', 'b', 'Q', 'V', 'S', 'Q', 'o', 'g', 'A', '+', 's', 'p', 'q', 'V', 'v', 'Q', 'P', 'z', '1', 'M', 'N', 'D', '1', '8', 'G', 'I', 'd', 't', 'm', 'r', '0', 'B', 'X', 'E', 'N', 'i', 'Z', 'E', '7', 'S', 'R', 'v', 'u', '7', '6', 'j', 'N', 'q', 'L', 'p', '\\n', 'K', 'x', 'Y', 'A', 'L', 'o', 'K', '2', 'P', 'c', '3', 'y', 'K', '0', 'J', 'G', 'D', '3', '0', 'H', 'c', 'I', 'I', 'g', 'x', '+', 'l', 'O', 'o', 'f', 'r', 'V', 'P', 'A', '2', 'd', 'f', 'V', 'P', 'T', 'j', '1', 'w', 'X', 'v', 'm', '0', 'r', 'b', 'S', 'G', 'A', '4', 'W', 'd', '4', 'N', 'g', '3', 'd', '2', 'A', 'o', 'R', '\\n', 'G', '/', 'w', 'Z', 'D', 'A', 'Q', '7', 's', 'd', 'Z', 'i', '1', 'A', '9', 'h', 'h', 'f', 'u', 'g', 'T', 'F', 'Z', 'w', 'f', 'q', 'R', '3', 'X', 'A', 'Y', 'C', 'k', '+', 'P', 'U', 'e', 'o', 'F', 'r', 'k', 'J', '0', 'O', '7', 'w', 'n', 'g', 'a', 'o', 'n', '+', '6', 'x', '2', 'G', 'J', 'V', 'e', 'd', 'V', 'P', 'O', 's', '\\n', '2', 'x', '/', 'X', 'O', 'R', '4', 'l', '9', 'y', 't', 'F', 'P', '3', 'o', '+', '5', 'I', 'L', 'h', 'V', 'n', 's', 'K', '+', 'E', 'S', 'V', 'D', '9', 'A', 'Q', 'z', '2', 'f', 'h', 'D', 'E', 'U', '6', 'R', 'h', 'v', 'z', 'a', 'q', 't', 'H', 'e', '+', 's', 'Q', 'c', 'c', 'R', '3', 'o', 'V', 'L', 'o', 'G', 'c', 'a', 't', '\\n', 'm', 'a', '5', 'r', 'b', 'f', 'z', 'H', '0', 'F', 'h', 'j', '0', 'J', 't', 'k', 'b', 'P', '7', 'W', 'r', 'e', 'Q', 'f', '9', 'u', 'd', 'Y', 'g', 'X', 'x', 'V', 'J', 'K', 'X', 'L', 'Q', 'F', 'Q', 'g', 'e', 'l', '3', '4', 'e', 'g', 'E', 'G', 'G', '+', 'N', 'l', 'b', 'G', 'S', 'P', 'G', '+', 'q', 'H', 'O', 'Z', 't', 'Y', '\\n', '4', 'u', 'W', 'd', 'l', 'D', 'S', 'v', 'm', 'o', '+', '1', 'P', '9', '5', 'P', '4', 'V', 'G', '/', 'E', 'B', 't', 'e', 'q', 'y', 'B', 'b', 'D', 'D', 'G', 'D', 'G', 'i', 'M', 's', '6', 'l', 'A', 'M', 'g', '2', 'c', 'U', 'L', 'r', 'w', 'O', 's', 'b', 'x', 'W', 'j', 's', 'W', 'k', 'a', '8', 'y', '2', 'I', 'N', '3', 'z', '\\n', '1', 's', 't', 'l', 'I', 'J', 'F', 'v', 'W', '2', 'k', 'g', 'g', 'U', '+', 'b', 'K', 'n', 'Q', '+', 's', 'N', 'Q', 'n', 'c', 'l', 'q', '3', 'w', 'z', 'C', 'J', 'j', 'e', 'D', 'B', 'f', 'u', 'c', 'R', '3', 'a', '5', 'W', 'R', 'o', 'j', 'D', 't', 'G', 'o', 'J', 'P', '6', 'F', 'c', '3', 'l', 'u', 'U', 't', 'S', '7', 'V', '\\n', '5', 'T', 'A', 'd', 'O', 'x', '4', 'd', 'h', 'a', 'M', 'F', 'U', '9', '+', '0', '1', 'O', 'o', 'H', '8', 'Z', 'd', 'T', 'R', 'i', 'H', 'Z', '1', 'K', '7', 'R', 'F', 'e', 'A', 'I', 's', 'l', 'S', 'y', 'd', '4', 'i', 'A', '/', 'x', 'k', 'h', 'O', 'h', 'H', 'q', '8', '9', 'F', '4', 'E', 'C', 'Q', 'f', '3', 'B', 't', '4', '\\n', 'Z', 'h', 'G', 's', 'X', 'D', 'T', 'a', 'A', '/', 'V', 'g', 'H', 'm', 'f', '3', 'A', 'U', 'L', 'b', 'r', 'C', '9', '4', 'O', '7', 'H', 'N', 'q', 'O', 'v', 'T', 'W', 'z', 'w', 'G', 'i', 'W', 'H', 'L', 'f', 'c', 'x', 'X', 'Q', 's', 'r', '+', 'i', 'j', 'I', 'E', 'Q', 'v', 'h', '6', 'r', 'H', 'K', 'm', 'J', 'K', '8', 'R', '\\n', '9', 'N', 'M', 'H', 'q', 'c', '3', 'L', '1', '8', 'e', 'M', 'O', '6', 'b', 'q', 'r', 'z', 'E', 'H', 'W', '0', 'X', 'o', 'i', 'u', '9', 'W', '8', 'Y', 'j', '+', 'W', 'u', 'B', '3', 'I', 'K', 'd', 'h', 'c', 'l', 'T', '3', 'w', '0', 'p', 'O', '4', 'P', 'j', '8', 'g', 'Q', 'A', 'R', 'A', 'Q', 'A', 'B', 'i', 'Q', 'I', '8', '\\n', 'B', 'B', 'g', 'B', 'C', 'g', 'A', 'm', 'F', 'i', 'E', 'E', 'y', 'H', 'Q', 'B', 'H', 'w', 'q', '0', 'B', 'R', 'E', 'N', 'A', 'h', 'B', 'V', 'N', 'D', 'Z', 'd', 'l', 'H', 'L', 'X', 'R', 'o', '8', 'F', 'A', 'm', 'B', '9', '+', 'x', 'k', 'C', 'G', 'w', 'w', 'F', 'C', 'Q', 'l', 'm', 'A', 'Y', 'A', 'A', 'C', 'g', 'k', 'Q', '\\n', 'N', 'D', 'Z', 'd', 'l', 'H', 'L', 'X', 'R', 'o', '9', 'Z', 'n', 'A', '/', '7', 'B', 'm', 'd', 'p', 'Q', 'L', 'e', 'T', 'j', 'E', 'i', 'X', 'E', 'J', 'y', 'W', '4', '6', 'e', 'f', 'x', 'l', 'V', '1', 'f', '6', 'T', 'H', 'n', '9', 'U', '5', '0', 'G', 'W', 'c', 'E', '9', 't', 'e', 'b', 'x', 'C', 'X', 'g', 'm', 'Q', 'f', '\\n', 'u', '+', 'U', 'j', 'u', '4', 'h', 'r', 'e', 'l', 't', 'x', '6', 'G', 'D', 'i', '/', 'z', 'b', 'V', 'V', 'V', '3', 'H', 'C', 'a', '0', 'y', 'a', 'J', '4', 'J', 'V', 'v', 'A', '4', 'L', 'B', 'U', 'L', 'J', 'V', 'e', '3', 'y', 'm', '6', 't', 'X', 'X', 'S', 'Y', 'a', 'O', 'f', 'M', 'd', 'k', 'i', 'K', '6', 'P', '1', 'v', '\\n', 'J', 'g', 'f', 'p', 'B', 'Q', '/', 'b', '/', 'm', 'W', 'B', '0', 'y', 'u', 'W', 'T', 'U', 't', 'W', 'x', '1', '8', 'B', 'Q', 'Q', 'w', 'l', 'N', 'E', 'Q', 'W', 'c', 'G', 'e', '8', 'n', '1', 'l', 'B', 'b', 'Y', 's', 'H', '9', 'g', '7', 'Q', 'k', 'a', 'c', 'R', 'N', 'b', '8', 't', 'K', 'U', 'r', 'U', 'b', 'W', 'l', 'Q', '\\n', 'Q', 's', 'U', '8', 'w', 'u', 'F', 'g', 'l', 'y', '2', '2', 'm', '+', 'V', 'a', '1', 'n', 'O', '2', 'N', '5', 'C', '/', 'e', 'E', '/', 'Z', 'E', 'H', 'y', 'N', '1', '5', 'j', 'E', 'Q', '+', 'Q', 'w', 'g', 'Q', 'g', 'P', 'r', 'K', '2', 'w', 'T', 'h', 'c', 'O', 'M', 'y', 'N', 'M', 'Q', 'X', '/', 'V', 'N', 'E', 'r', '1', '\\n', 'Y', '3', 'b', 'I', '2', 'w', 'H', 'f', 'Z', 'F', 'j', 'o', 't', 'm', 'e', 'k', '3', 'd', '7', 'Z', 'f', 'P', '2', 'V', 'j', 'y', 'D', 'u', 'd', 'n', 'm', 'C', 'P', 'Q', '5', 'x', 'j', 'e', 'z', 'W', 'p', 'K', 'b', 'N', '1', 'k', 'v', 'j', 'O', '3', 'a', 's', '2', 'y', 'h', 'c', 'V', 'K', 'f', 'n', 'v', 'Q', 'I', '5', '\\n', 'P', '5', 'F', 'r', 'j', '1', '9', 'N', 'g', 'M', 'I', 'G', 'A', 'p', '7', 'X', '6', 'p', 'F', '5', 'C', 's', 'r', '4', 'F', 'X', '/', 'V', 'w', '3', '1', '6', '+', 'A', 'F', 'J', 'd', '9', 'I', 'b', 'h', 'f', 'u', 'd', '7', '9', 'H', 'A', 'y', 'l', 'v', 'F', 'y', 'd', 'p', 'c', 'Y', 'b', 'v', 'Z', 'p', 'S', 'c', 'l', '\\n', '7', 'z', 'g', 't', 'g', 'a', 'X', 'M', 'C', 'V', 't', 't', 'h', 'e', '3', 'G', 's', 'G', '4', 'g', 'O', '7', 'I', 'd', 'x', 'x', 'E', 'B', 'Z', '/', 'F', 'm', '4', 'N', 'L', 'n', 'm', 'b', 'z', 'C', 'I', 'W', 'O', 's', 'P', 'M', 'x', '/', 'F', 'x', 'H', '0', '6', 'a', '5', '3', '9', 'x', 'F', 'q', '/', '1', 'E', '2', '\\n', '1', 'n', 'Y', 'F', 'j', 'i', 'K', 'g', '8', 'a', '5', 'J', 'F', 'm', 'Y', 'U', '/', '4', 'm', 'V', '9', 'M', 'Q', 's', '4', 'b', 'P', '/', '3', 'i', 'p', '9', 'b', 'y', 'i', '1', '0', 'V', '+', 'f', 'E', 'I', 'f', 'p', '5', 'c', 'E', 'E', 'm', 'f', 'N', 'e', 'V', 'e', 'W', '5', 'E', '7', 'J', '8', 'P', 'q', 'G', '9', '\\n', 't', '4', 'r', 'L', 'J', '8', 'F', 'R', '4', 'y', 'J', 'g', 'Q', 'U', 'a', '2', 'g', 's', '2', 'S', 'N', 'Y', 's', 'j', 'W', 'Q', 'u', 'w', 'S', '/', 'M', 'J', 'v', 'A', 'v', '4', 'f', 'D', 'K', 'l', 'k', 'Q', 'j', 'Q', 'm', 'Y', 'R', 'A', 'O', 'p', '1', 'S', 's', 'z', 'A', 'n', 'y', 'a', 'p', 'l', 'v', 'r', 'i', '4', '\\n', 'n', 'c', 'm', 'f', 'D', 's', 'f', '0', 'r', '6', '5', '/', 's', 'd', '6', 'S', '4', '0', 'g', '5', 'l', 'H', 'H', '8', 'L', 'I', 'b', 'G', 'x', 'c', 'O', 'I', 'N', '6', 'k', 'w', 't', 'h', 'S', 'T', 'P', 'W', 'X', '8', '9', 'r', '4', '2', 'C', 'b', 'Y', '8', 'G', 'z', 'j', 'T', 'k', 'a', 'e', 'e', 'j', 'N', 'K', 'x', '\\n', 'v', '1', 'a', 'C', 'r', 'O', '5', '8', 'w', 'A', 't', 'u', 'r', 's', 'O', '1', 'D', 'i', 'X', 'C', 'v', 'B', 'Y', '7', '+', 'N', 'd', 'a', 'f', 'M', 'R', 'n', 'o', 'H', 'w', 'B', 'k', '5', '0', 'i', 'P', 'q', 'r', 'V', 'k', 'N', 'A', '8', 'f', 'v', '+', 'a', 'u', 'R', 'y', 'B', '2', '/', 'G', '5', 'A', 'g', '0', 'E', '\\n', 'Y', 'H', '3', '+', 'J', 'Q', 'E', 'Q', 'A', 'L', 'i', 'v', 'l', 'l', 'T', 'j', 'M', 'o', 'l', 'x', 'U', 'W', '2', 'O', 'x', 'r', 'X', 'b', '+', 'a', '2', 'P', 't', '6', 'v', 'j', 'C', 'B', 's', 'i', 'J', 'z', 'r', 'U', 'j', '0', 'P', 'a', '6', '3', 'U', '+', 'l', 'T', '9', 'j', 'l', 'd', 'b', 'C', 'C', 'f', 'g', 'P', '\\n', 'w', 'D', 'p', 'c', 'D', 'u', 'O', '1', 'O', '0', '5', 'Q', '8', 'k', '1', 'M', 'o', 'Y', 'Z', '6', 'H', 'd', 'd', 'j', 'W', 'n', 'q', 'K', 'G', '7', 'S', '3', 'e', 'q', 'k', 'V', '5', 'c', '3', 'c', 't', '3', 'a', 'm', 'A', 'X', 'p', '5', '1', '3', 'Q', 'D', 'K', 'Z', 'U', 'f', 'I', 'D', 'y', 'l', 'O', 'm', 'h', 'U', '\\n', 'q', 'v', 'x', 'j', 'E', 'g', 'v', 'G', 'j', 'd', 'R', 'j', 'z', '6', 'k', 'E', 'C', 'F', 'G', 'Y', 'r', '6', 'V', 'n', 'j', '/', 'p', '6', 'A', 'w', 'W', 'v', '4', '/', 'F', 'B', 'R', 'F', 'l', 'r', 'q', '7', 'c', 'n', 'Q', 'g', 'P', 'y', 'n', 'b', 'I', 'H', '4', 'h', 'r', 'W', 'v', 'e', 'w', 'p', '3', 'T', 'q', 'w', '\\n', 'G', 'V', 'g', 'q', 'm', '5', 'R', 'R', 'o', 'f', 'u', 'A', 'u', 'g', 'i', '8', 'i', 'Z', 'Q', 'V', 'l', 'A', 'i', 'Q', 'Z', 'J', 'o', '8', '8', 'y', 'a', 'z', 't', 'A', 'Q', '/', '7', 'V', 's', 'X', 'B', 'i', 'H', 'T', 'n', '6', '1', 'u', 'g', 'Q', '8', 'b', 'K', 'd', 'A', 's', 'r', '8', 'w', '/', 'Z', 'Z', 'U', '5', '\\n', 'H', 'S', 'c', 'H', 'L', 'q', 'R', 'o', 'l', 'c', 'Y', 'g', '0', 'c', 'K', 'N', '9', '1', 'c', '0', 'E', 'b', 'J', 'q', '9', 'k', '1', 'L', 'U', 'C', '/', '/', 'C', 'a', 'k', 'P', 'B', '9', 'm', 'h', 'i', '5', '+', 'a', 'U', 'V', 'U', 'G', 'u', 's', 'I', 'M', '8', 'E', 'C', 'S', 'h', 'U', 'E', 'g', 'S', 'T', 'C', 'i', '\\n', 'K', 'Q', 'i', 'J', 'U', 'P', 'Z', '2', 'C', 'F', 'b', 'b', 'P', 'E', '9', 'L', '5', 'o', '9', 'x', 'o', 'P', 'C', 'x', 'j', 'X', 'o', 'X', '+', 'r', '7', 'L', '/', 'W', 'y', 'o', 'C', 'P', 'T', 'e', 'o', 'S', '3', 'Y', 'R', 'U', 'M', 'E', 'n', 'W', 'K', 'v', 'c', '4', '2', 'Y', 'x', 'z', '3', 'm', 'e', 'R', 'b', '+', '\\n', 'B', 'm', 'a', 'q', 'g', 'b', 'h', 'e', 'N', 'm', 'z', 'O', 'a', 'h', '5', 'n', 'M', 'w', 'P', 'u', 'p', 'J', 'Y', 'm', 'H', 'r', 'j', 'W', 'P', 'k', 'X', '7', 'o', 'y', 'y', 'H', 'x', 'L', 'S', 'F', 'w', '4', 'd', 't', 'o', 'P', '2', 'j', '6', 'Z', '7', 'G', 'd', 'R', 'X', 'K', 'a', '2', 'd', 'U', 'Y', 'd', 'k', '2', '\\n', 'x', '3', 'J', 'Y', 'K', 'o', 'c', 'r', 'D', 'o', 'P', 'H', 'h', '3', 'Q', '0', 'T', 'A', 'Z', 'u', 'j', 't', 'p', 'd', 'j', 'F', 'i', '1', 'B', 'S', '8', 'p', 'b', 'x', 'Y', 'F', 'b', '3', 'h', 'H', 'm', 'G', 'S', 'd', 'v', 'z', '7', 'T', '7', 'K', 'c', 'q', 'P', '7', 'C', 'h', 'C', '7', 'k', '2', 'R', 'A', 'K', 'O', '\\n', 'G', 'i', 'G', '7', 'Q', 'Q', 'e', '4', 'N', 'X', '3', 's', 'S', 'M', 'g', 'w', 'e', 'Y', 'p', 'l', '4', 'O', 'w', 'v', 'Q', 'O', 'n', '7', '3', 't', '5', 'C', 'V', 'W', 'Y', 'p', '/', 'g', 'I', 'B', 'N', 'Z', 'G', 's', 'U', '3', 'P', 't', 'o', '8', 'g', '2', '7', 'v', 'H', 'e', 'W', 'y', 'H', '9', 'm', 'K', 'r', '4', '\\n', 'c', 'S', 'e', 'p', 'D', 'h', 'w', '+', '/', 'X', '8', 'F', 'G', 'R', 'N', 'd', 'x', 'N', 'f', 'p', 'L', 'K', 'm', '7', 'V', 'c', '0', 'S', 'm', '9', 'S', 'o', 'f', '8', 'T', 'R', 'F', 'r', 'B', 'T', 'q', 'X', '+', 'v', 'I', 'Q', 'u', 'p', 'Y', 'H', 'R', 'i', '5', 'Q', 'Q', 'C', 'u', 'Y', 'a', 'V', '6', 'O', 'V', 'r', '\\n', 'I', 'T', 'e', 'e', 'g', 'N', 'K', '3', 'S', 'o', '4', 'm', '3', '9', 'd', '6', 'a', 'j', 'C', 'R', '9', 'Q', 'x', 'R', 'b', 'm', 'j', 'n', 'x', '9', 'U', 'c', 'n', 'S', 'Y', 'Y', 'D', 'm', 'I', 'B', '6', 'f', 'p', 'B', 'u', 'w', 'T', '0', 'o', 'g', 'N', 't', 'A', 'B', 'E', 'B', 'A', 'A', 'G', 'J', 'B', 'H', 'I', 'E', '\\n', 'G', 'A', 'E', 'K', 'A', 'C', 'Y', 'C', 'G', 'w', 'I', 'W', 'I', 'Q', 'T', 'I', 'd', 'A', 'E', 'f', 'C', 'r', 'Q', 'F', 'E', 'Q', '0', 'C', 'E', 'F', 'U', '0', 'N', 'l', '2', 'U', 'c', 't', 'd', 'G', 'j', 'w', 'U', 'C', 'Y', 'H', '4', 'b', 'g', 'A', 'U', 'J', 'A', 'e', 'F', 'Q', '2', 'w', 'J', 'A', 'w', 'X', 'Q', 'g', '\\n', 'B', 'B', 'k', 'B', 'C', 'g', 'A', 'd', 'F', 'i', 'E', 'E', 's', '2', 'y', '6', 'k', 'a', 'L', 'A', 'c', 'w', 'x', 'D', 'X', '8', 'K', 'A', 's', 'L', 'R', 'B', 'C', 'X', 'a', 'F', 't', 'n', 'Y', 'F', 'A', 'm', 'B', '9', '/', 'i', 'U', 'A', 'C', 'g', 'k', 'Q', 's', 'L', 'R', 'B', 'C', 'X', 'a', 'F', 't', 'n', 'Y', 'X', '\\n', 'B', 'h', 'A', 'A', 'l', 'x', 'e', 'j', 'y', 'F', 'X', 'o', 'Q', 'w', 'y', 'G', 'o', '9', 'U', '+', '2', 'g', '9', 'N', '6', 'L', 'U', 'b', '/', 't', 'N', 't', 'H', '2', '9', 'R', 'H', 'Y', 'x', 'y', '4', 'A', '3', '/', 'Z', 'U', 'Y', '7', 'd', '/', 'F', 'M', 'k', 'A', 'r', 'm', 'h', '4', '+', 'd', 'f', 'j', 'f', '0', '\\n', 'p', '9', 'M', 'J', 'z', '9', '8', 'Z', 'k', 'p', 's', '2', '0', 'k', 'a', 'Y', 'P', '+', '2', 'Y', 'z', 'Y', 'm', 'a', 'i', 'z', 'O', '6', 'O', 'A', '6', 'R', 'I', 'd', 'd', 'c', 'E', 'X', 'Q', 'D', 'R', 'C', 'P', 'H', 'm', 'L', 't', 's', '3', '0', '9', '7', 'm', 'J', '/', 's', 'k', 'x', '9', 'q', 'L', 'A', 'f', '6', '\\n', 'r', 'h', '9', 'J', '7', 'j', 'W', 'e', 'S', 'q', 'W', 'O', '6', 'V', 'W', '6', 'M', 'l', 'x', '8', 'j', '9', 'm', '7', 's', 'm', '3', 'A', 'e', '1', 'O', 's', 'j', 'O', 'x', '/', 'm', '7', 'l', 'G', 'Z', 'O', 'h', 'Y', '4', 'U', 'Y', 'f', 'Y', '6', '2', '7', '+', 'J', 'f', '7', 'W', 'Q', '5', '1', '0', '3', 'Q', 's', '\\n', 'l', 'g', 'Q', '0', '9', 'e', 's', '/', 'v', 'h', 'T', 'C', 'x', '0', 'g', '3', '4', 'S', 'Y', 'E', 'm', 'M', 'W', '1', '5', 'T', 'c', '3', 'e', 'C', 'j', 'Q', '2', '1', 'b', '1', 'M', 'e', 'J', 'D', '/', 'V', '2', '6', 'n', 'p', 'e', 'a', 'k', 'V', '8', 'i', 'C', 'Z', '1', 'k', 'H', 'Z', 'H', 'a', 'w', 'P', 'q', '/', '\\n', 'a', 'C', 'C', 'u', 'Y', 'E', 'c', 'C', 'e', 'Q', 'O', 'O', 't', 'e', 'T', 'W', 'v', 'l', '7', 'H', 'X', 'a', 'H', 'M', 'h', 'H', 'I', 'x', '7', 'j', 'j', 'O', 'd', '8', 'X', 'X', '9', 'V', '+', 'U', 'x', 's', 'G', 'z', '2', 'W', 'C', 'I', 'x', 'X', '/', 'j', '7', 'E', 'E', 'E', 'c', '7', 'C', 'A', 'x', 'w', 'A', 'N', '\\n', 'n', 'W', 'p', '9', 'j', 'X', 'e', 'L', 'f', 'x', 'Y', 'f', 'j', 'r', 'U', 'B', '7', 'X', 'Q', 'Z', 's', 'G', 'C', 'd', '4', 'E', 'H', 'H', 'z', 'U', 'y', 'C', 'f', '7', 'i', 'R', 'J', 'L', '7', 'O', 'J', '3', 't', 'z', '5', 'Z', '+', 'r', 'O', 'l', 'N', 'j', 'S', 'g', 'c', 'i', '+', 'y', 'c', 'H', 'E', 'c', 'c', 'L', '\\n', 'Y', 'e', 'F', 'A', 'E', 'V', '+', 'F', 'z', '+', 's', 'j', '7', 'q', '4', 'c', 'F', 'A', 'f', 'e', 'r', 'k', 'r', '7', 'i', 'm', 'Y', '1', 'X', 'E', 'I', '0', 'J', 'i', '5', 'P', '8', 'p', '/', 'u', 'R', 'Y', 'w', '/', 'n', '8', 'u', 'U', 'f', '7', 'L', 'r', 'L', 'w', '5', 'T', 'z', 'H', 'm', 'Z', 's', 'T', 'S', 'C', '\\n', 'U', 'a', 'i', 'L', '4', 'l', 'l', 'R', 'z', 'k', 'D', 'C', '6', 'c', 'V', 'h', 'Y', 'f', 'q', 'Q', 'W', 'U', 'X', 'D', 'd', '/', 'r', '3', '8', '5', 'O', 'k', 'E', '4', 'o', 'a', 'l', 'N', 'N', 'E', '+', 'n', '+', 't', 'x', 'N', 'R', 'x', '9', '2', 'r', 'p', 'v', 'X', 'W', 'Z', '5', 'q', 'F', 'Y', 'f', 'v', '7', 'E', '\\n', '9', '5', 'f', 'l', 't', 'v', 'p', 'X', 'c', '0', 'i', 'O', 'u', 'g', 'P', 'M', 'z', 'y', 'o', 'f', '3', 'l', 'w', 'o', '3', 'X', 'i', '4', 'W', 'Z', 'K', 'c', '1', 'C', 'C', '/', 'j', 'E', 'v', 'i', 'K', 'T', 'Q', 'h', 'f', 'n', '3', 'W', 'Z', 'u', 'k', 'u', 'F', '5', 'l', 'b', 'z', '3', 'V', '1', 'P', 'Q', 'f', 'I', '\\n', 'x', 'F', 's', 'Y', 'e', '9', 'W', 'Y', 'Q', 'm', 'p', '2', '5', 'X', 'G', 'g', 'e', 'z', 'j', 'X', 'z', 'p', '8', '9', 'C', '/', 'O', 'I', 'c', 'Y', 's', 'V', 'B', '1', 'K', 'J', 'A', 'K', 'i', 'h', 'g', 'b', 'Y', 'd', 'H', 'y', 'U', 'N', '4', 'f', 'R', 'C', 'm', 'O', 's', 'z', 'm', 'O', 'U', 'w', 'E', 'A', 'K', 'R', '\\n', '3', 'k', '5', 'j', '4', 'X', '8', 'V', '5', 'b', 'k', '0', '8', 's', 'A', '6', '9', 'N', 'V', 'X', 'P', 'n', '2', 'o', 'f', 'x', 'y', 'k', '3', 'Y', 'Y', 'O', 'M', 'Y', 'W', 'W', '8', 'o', 'u', 'O', 'b', 'n', 'X', 'o', 'S', '8', 'Q', 'J', 'E', 'D', 'Q', '2', 'X', 'Z', 'R', 'y', '1', '0', 'a', 'P', 'M', 'p', 's', 'Q', '\\n', 'A', 'I', 'b', 'w', 'X', '2', '1', 'e', 'r', 'V', 'q', 'U', 'D', 'M', 'P', 'n', '1', 'u', 'O', 'N', 'P', '6', 'o', '4', 'N', 'B', 'E', 'q', '4', 'M', 'w', 'G', '7', 'd', '+', 'f', 'T', '8', '5', 'r', 'c', '1', 'U', '0', 'R', 'f', 'e', 'K', 'B', 'w', 'j', 'u', 'c', 'A', 'E', '/', 'i', 'S', 't', 'Z', 'D', 'Q', 'o', 'M', '\\n', 'Z', 'K', 'W', 'v', 'G', 'h', 'F', 'R', '+', 'u', 'o', 'y', 'g', '1', 'L', 'r', 'X', 'N', 'K', 'u', 'S', 'P', 'B', '8', '2', 'u', 'n', 'h', '2', 'b', 'p', 'v', 'j', '4', 'z', 'E', 'n', 'J', 's', 'J', 'a', 'd', 'i', 'w', 't', 'S', 'h', 'T', 'K', 'D', 's', 'i', 'k', 'h', 'r', 'f', 'F', 'E', 'K', '3', 'a', 'C', 'K', '8', '\\n', 'Z', 'u', 'h', 'p', 'i', 'u', '3', 'j', 'x', 'M', 'F', 'D', 'h', 'p', 'F', 'z', 'l', 'x', 's', 'S', 'w', 'a', 'C', 'c', 'G', 'J', 'q', 'c', 'd', 'w', 'G', 'h', 'W', 'U', 'x', '0', 'Z', 'A', 'V', 'D', '2', 'X', '7', '1', 'U', 'C', 'F', 'o', 'O', 'X', 'P', 'j', 'F', '9', 'f', 'N', 'n', 'p', 'y', '8', '0', 'Y', 'N', 'p', '\\n', 'f', 'l', 'P', 'j', 'j', '2', 'R', 'n', 'O', 'Z', 'b', 'J', 'y', 'B', 'I', 'M', '0', 's', 'W', 'I', 'V', 'M', 'd', '8', 'F', '4', '4', 'q', 'k', 'T', 'A', 'S', 'f', '8', 'K', '5', 'Q', 'b', '4', '7', 'W', 'F', 'N', '5', 't', 'S', 'p', 'e', 'P', 'q', '7', 'O', 'C', 'm', '7', 's', '8', 'u', '+', 'l', 'Y', 'Z', 'G', 'K', '\\n', 'w', 'R', '1', '8', 'K', '7', 'V', 'l', 'i', 'u', 'n', 'd', 'R', '+', '5', 'a', '8', 'X', 'A', 'O', 'y', 'U', 'X', 'O', 'L', '5', 'U', 's', 'D', 'a', 'Q', 'C', 'K', '4', 'L', 'j', '4', 'l', 'R', 'a', 'e', 'F', 'X', 'u', 'n', 'X', 'l', '3', 'D', 'J', '4', 'E', '+', '7', 'B', 'K', 'z', 'Z', 'h', 'R', 'e', 'J', 'L', '6', '\\n', 'E', 'u', 'g', 'V', '5', 'e', 'a', 'G', 'o', 'n', 'A', '5', '2', 'T', 'W', 't', 'F', 'd', 'B', '8', 'p', '+', '7', '9', 'w', 'P', 'U', 'e', 'I', '3', 'K', 'c', 'd', 'P', 'm', 'Q', '9', 'L', 'l', '5', 'Z', 'i', '/', 'j', 'B', 'e', 'm', 'Y', '4', 'b', 'z', 'a', 's', 'm', 'g', 'K', 'z', 'N', 'e', 'M', 't', 'w', 'W', 'P', '\\n', 'f', 'k', '6', 'W', 'g', 'r', 'v', 'B', 'w', 'p', 't', 'q', 'o', 'h', 'w', '7', '1', 'H', 'D', 'y', 'm', 'G', 'x', 'F', 'U', 'n', 'U', 'P', '7', 'X', 'Y', 'Y', 'j', 'i', 'c', '2', 's', 'V', 'K', 'h', 'v', '9', 'A', 'e', 'v', 'M', 'G', 'y', 'c', 'V', 'g', 'w', 'W', 'B', 'i', 'W', 'r', 'o', 'D', 'C', 'Q', '9', 'J', 'a', '\\n', 'b', 't', 'K', 'f', 'x', 'H', 'h', 'I', '2', 'p', '+', 'g', '+', 'r', 'c', 'y', 'w', 'm', 'B', 'o', 'b', 'W', 'J', 'b', 'Z', 's', 'u', 'j', 'T', 'N', 'j', 'h', 't', 'm', 'e', '+', 'k', 'N', 'n', '1', 'm', 'h', 'J', 's', 'D', '3', 'b', 'K', 'P', 'j', 'K', 'Q', 'f', 'A', 'x', 'a', 'T', 's', 'k', 'B', 'L', 'b', '0', 'V', '\\n', 'w', 'g', 'V', '2', '1', '8', '9', '1', 'T', 'S', '1', 'D', 'q', '9', 'k', 'd', 'P', 'L', 'w', 'o', 'S', '4', 'X', 'N', 'p', 'Y', 'g', '2', 'L', 'L', 'B', '4', 'p', '9', 'h', 'm', 'e', 'G', '3', 'f', 'u', '9', '+', 'O', 'm', 'q', 'w', 'Y', '5', 'o', 'K', 'X', 's', 'H', 'i', 'W', 'c', '4', '3', 'd', 'e', 'i', '9', 'Y', '\\n', 'y', 'x', 'Z', '1', 'A', 'A', 'U', 'O', 'I', 'a', 'I', 'd', 'P', 'k', 'q', '+', 'Y', 'G', '/', 'P', 'h', 'l', 'G', 'E', '4', 'Y', 'c', 'Q', 'Z', '4', 'R', 'P', 'p', 'l', 't', 'A', 'r', '0', 'H', 'f', 'G', 'g', 'Z', 'h', 'm', 'X', 'W', 'i', 'g', 'b', 'G', 'S', '+', '6', '6', 'p', 'U', 'j', '+', 'O', 'j', 'y', 's', 'c', '\\n', 'j', '0', 'K', '5', 't', 'C', 'V', 'x', 'V', 'u', '0', 'f', 'h', 'h', 'F', 'p', 'O', 'l', 'H', 'v', '0', 'L', 'W', 'a', 'x', 'C', 'b', 'n', 'k', 'g', 'k', 'Q', 'H', '9', 'j', 'f', 'M', 'E', 'J', 'k', 'A', 'W', 'M', 'O', 'u', 'Q', 'I', 'N', 'B', 'G', 'C', 'A', 'X', 'C', 'Y', 'B', 'E', 'A', 'D', 'W', '6', 'R', 'N', 'r', '\\n', 'Z', 'V', 'G', 'N', 'X', 'v', 'H', 'V', 'B', 'q', 'S', 'i', 'O', 'W', 'a', 'x', 'l', '1', 'X', 'O', 'i', 'E', 'o', 'i', 'H', 'P', 't', '5', '0', 'A', 'i', 'j', 't', '2', '5', 'y', 'X', 'b', 'G', '+', '0', 'k', 'H', 'I', 'F', 'S', 'o', 'R', '+', '1', 'g', '6', 'L', 'h', '2', '0', 'J', 'T', 'C', 'C', 'h', 'g', 'f', 'Q', '\\n', 'k', 'G', 'G', 'j', 'z', 'Q', 'v', 'E', 'u', 'G', '1', 'H', 'T', 'w', '0', '7', 'Y', 'h', 's', 'v', 'L', 'c', '0', 'p', 'k', 'j', 'N', 'M', 'f', 'u', '6', 'g', 'J', 'q', 'F', 'o', 'x', '/', 'o', 'g', 'c', '5', '3', 'm', 'z', '6', '9', 'O', 'x', 'X', 'a', 'u', 'z', 'U', 'Q', '/', 'T', 'Z', '2', '7', 'G', 'D', 'V', 'p', '\\n', 'U', 'B', 'u', '+', 'E', 'h', 'D', 'K', 't', '1', 's', '3', 'O', 't', 'A', '6', 'B', 'j', 'z', '/', 'c', 's', 'o', 'p', '/', 'U', 'm', '7', 'g', 'T', '0', '+', 'i', 'v', 'H', 'y', 'v', 'J', '/', 'j', 'G', 'd', 'n', 'P', 'E', 'Z', 'v', '8', 't', 'N', 'u', 'S', 'E', '/', 'U', 'o', '+', 'h', 'n', '/', 'Q', '9', 'h', 'g', '\\n', '8', 'S', 'b', 'v', 'e', 'Z', 'z', 'o', '3', 'C', '+', 'U', '4', 'K', 'c', 'a', 'b', 'C', 'E', 'S', 'E', 'F', 'l', '8', 'G', 'q', '6', 'a', 'R', 'i', '9', 'v', 'A', 'f', 'a', '6', '5', 'o', 'x', 'D', '5', 'j', 'K', 'a', 'I', 'z', '7', 'c', 'y', '+', 'p', 'w', 'b', '0', 'l', 'i', 'z', 'q', 'l', 'W', '7', 'H', '9', 't', '\\n', 'Q', 'l', 'r', '3', 'd', 'B', 'f', 'd', 'I', 'c', 'd', 'z', 'g', 'R', '5', '5', 'h', 'T', 'F', 'C', '5', '/', 'X', 'r', 'c', 'w', 'J', '6', '/', 'n', 'H', 'V', 'H', '/', 'x', 'G', 's', 'k', 'E', 'a', 's', 'n', 'f', 'C', 'Q', 'X', '8', 'R', 'Y', 'K', 'M', 'u', 'y', '0', 'U', 'A', 'D', 'J', 'y', '7', '2', 'T', 'k', 'Z', '\\n', 'b', 'Y', 'a', 'C', 'x', '+', 'X', 'X', 'I', 'c', 'V', 'B', '8', 'G', 'T', 'O', 'm', 'J', 'V', 'o', 'A', 'h', 'r', 'T', 'S', 'S', 'V', 'L', 'A', 'Z', 's', 'p', 'f', 'C', 'n', 'j', 'w', 'n', 'S', 'x', 'i', 's', 'D', 'n', '3', 'Z', 'z', 's', 'Y', 'r', 'q', '3', 'c', 'V', '6', 's', 'U', '8', 'b', '+', 'Q', 'l', 'I', 'X', '\\n', '7', 'V', 'A', 'j', 'u', 'r', 'E', '+', '5', 'c', 'Z', 'i', 'V', 'l', 'a', 'x', 'g', 'C', 'j', 'y', 'h', 'K', 'q', 'l', 'G', 'g', 'm', 'o', 'n', 'n', 'R', 'e', 'W', 'O', 'B', 'a', 'c', 'C', 'g', 'L', '/', 'U', 'v', 'u', 'w', 'M', 'm', 'M', 'p', '5', 'T', 'T', 'L', 'm', 'i', 'L', 'X', 'L', 'T', '7', 'u', 'x', 'e', 'G', '\\n', 'o', 'j', 'E', 'y', 'o', 'C', 'k', '4', 's', 'M', 'r', 'q', 'r', 'U', '1', 'j', 'e', 'v', 'H', 'y', 'G', 'l', 'D', 'J', 'H', '9', 'T', 'a', 'u', 'x', '1', '5', 'G', 'I', 'L', 'D', 'w', 'n', 'Y', 'F', 'f', 'A', 'v', 'P', 'F', '9', 'W', 'C', 'i', 'd', '4', 'U', 'Z', '4', 'O', 'u', 'w', 'j', 'c', 'a', 'x', 'f', 'y', 's', '\\n', '3', 'L', 'x', 'N', 'i', 'Z', 'I', 'l', 'U', 's', 'X', 'N', 'K', 'w', 'S', '3', 'm', 'h', 'i', 'M', 'R', 'L', '4', 'T', 'R', 's', 'b', 's', '4', 'k', '4', 'Q', 'E', '+', 'L', 'I', 'M', 'O', 's', 'a', 'u', 'I', 'v', 'c', 'v', 'm', '8', '/', 'f', 'r', 'y', 'd', 'v', 'Q', '/', 'k', 'U', 'w', 'I', 'h', 'V', 'T', 'H', '8', '\\n', '0', 'X', 'G', 'O', 'H', '9', '0', '9', 'b', 'Y', 't', 'J', 'v', 'Y', '3', 'f', 'u', 'd', 'K', '7', 'S', 'h', 'I', 'w', 'm', '7', 'Z', 'F', 'T', 'd', 'u', 'B', 'J', 'U', 'G', '4', '7', '3', 'E', '/', 'F', 'n', '3', 'V', 'k', 'h', 'T', 'm', 'B', 'X', '6', '+', 'P', 'j', 'O', 'C', '5', '0', 'H', 'R', '/', 'H', 'y', 'b', '\\n', 'w', 'a', 'R', 'C', 'z', 'f', 'D', 'r', 'u', 'M', 'e', '3', 'T', 'A', 'c', 'E', '/', 't', 'S', 'P', '5', 'C', 'U', 'O', 'b', '9', 'C', '7', '+', 'P', '+', 'h', 'P', 'z', 'Q', 'c', 'D', 'w', 'A', 'R', 'A', 'Q', 'A', 'B', 'i', 'Q', 'R', 'y', 'B', 'B', 'g', 'B', 'C', 'g', 'A', 'm', 'F', 'i', 'E', 'E', 'y', 'H', 'Q', 'B', '\\n', 'H', 'w', 'q', '0', 'B', 'R', 'E', 'N', 'A', 'h', 'B', 'V', 'N', 'D', 'Z', 'd', 'l', 'H', 'L', 'X', 'R', 'o', '8', 'F', 'A', 'm', 'C', 'A', 'X', 'C', 'Y', 'C', 'G', 'w', 'I', 'F', 'C', 'Q', 'l', 'm', 'A', 'Y', 'A', 'C', 'Q', 'A', 'k', 'Q', 'N', 'D', 'Z', 'd', 'l', 'H', 'L', 'X', 'R', 'o', '/', 'B', 'd', 'C', 'A', 'E', '\\n', 'G', 'Q', 'E', 'K', 'A', 'B', '0', 'W', 'I', 'Q', 'Q', '3', 'T', 's', 'd', 'b', 'S', 'F', 'k', 'T', 'Y', 'E', 'q', 'D', 'H', 'M', 'f', 'I', 'I', 'M', 'b', 'V', 'z', 'S', 'e', 'r', 'h', 'w', 'U', 'C', 'Y', 'I', 'B', 'c', 'J', 'g', 'A', 'K', 'C', 'R', 'D', 'I', 'I', 'M', 'b', 'V', 'z', 'S', 'e', 'r', 'h', '0', 'X', 'w', '\\n', 'D', '/', '9', 'g', 'h', 'n', 'U', 's', 'o', 'N', 'C', 'u', '1', 'O', 'u', 'l', 'c', 'o', 'J', 'd', 'H', 'b', 'o', 'M', 'a', 'z', 'J', 'v', 'D', 't', '/', 'z', 'n', 't', 't', 'd', 'Q', 'S', 'n', 'U', 'L', 'B', 'V', 'E', 'l', 'g', 'M', '5', 'z', 'k', '0', 'U', 'y', 'v', '8', '7', 'z', 'F', 'B', 'z', 'u', 'C', 'y', 'Q', '\\n', 'J', 'W', 'L', '3', 'b', 'W', 'e', 's', 'Q', '2', 'u', 'F', 'x', '5', 'f', 'R', 'W', 'E', 'P', 'D', 'E', 'f', 'W', 'V', 'd', 'D', 'r', 'j', 'p', 'Q', 'G', 'b', '1', 'O', 'C', 'C', 'Q', 'y', 'z', '1', 'Q', 'l', 'N', 'P', 'V', '/', '1', 'M', '1', '/', 'x', 'h', 'K', 'G', 'S', '9', 'E', 'e', 'X', 'r', 'L', '8', 'D', 'w', '\\n', 'F', '6', 'K', 'T', 'G', 'k', 'R', 'w', 'n', '1', 'y', 'X', 'i', 'P', '4', 'B', 'G', 'g', 'f', 'e', 'F', 'I', 'Q', 'H', 'm', 'J', 'c', 'K', 'X', 'E', 'Z', '9', 'H', 'k', 'r', 'p', 'N', 'b', '8', 'm', 'c', 'e', 'x', 'k', 'R', 'O', 'v', '4', 'a', 'I', 'P', 'A', 'w', 'n', '+', 'I', 'a', 'E', '+', 'N', 'H', 'V', 't', 't', '\\n', 'I', 'B', 'n', 'u', 'f', 'M', 'X', 'L', 'y', 'f', 'p', 'k', 'W', 'J', 'Q', 't', 'J', 'a', '9', 'e', 'l', 'h', '9', 'P', 'M', 'L', 'l', 'H', 'H', 'n', 'u', 'v', 'n', 'Y', 'L', 'v', 'u', 'A', 'o', 'O', 'k', 'h', 'u', 'v', 's', '7', 'f', 'X', 'D', 'M', 'p', 'f', 'F', 'Z', '0', '1', 'C', '+', 'Q', 'S', 'v', '1', 'd', 'z', '\\n', 'H', 'm', '5', '2', 'G', 'S', 'S', 't', 'E', 'R', 'Q', 'z', 'Z', '5', '1', 'w', '4', 'c', '0', 'r', 'Y', 'D', 'n', 'e', 'Y', 'D', 'n', 'i', 'C', '/', 's', 'Q', 'T', '1', 'x', '3', 'd', 'P', '5', 'X', 'f', '6', 'w', 'z', 'O', '+', 'E', 'h', 'R', 'M', 'a', 'b', 'k', 'v', 'o', 'T', 'b', 'M', 'q', 'P', 's', 'T', 'E', 'P', '\\n', 'x', 'y', 'W', 'r', '2', 'p', 'N', 't', 'T', 'B', 'Y', 'p', '7', 'p', 'f', 'Q', 'j', 's', 'H', 'x', 'h', 'J', 'p', 'Q', 'F', '0', 'x', 'j', 'G', 'N', '9', 'C', '3', '9', 'z', '7', 'f', '3', 'g', 'J', 'G', '8', 'I', 'J', 'h', 'n', 'P', 'e', 'u', 'l', 'U', 'q', 'E', 'Z', 'j', 'h', 'R', 'F', 'y', 'V', 'Z', 'Q', '6', '/', '\\n', 's', 'i', 'U', 'e', 'q', '7', 'v', 'u', '4', '+', 'd', 'M', '/', 'J', 'Q', 'L', '+', 'i', '7', 'K', 'K', 'e', '7', 'L', 'p', '9', 'U', 'M', 'r', 'G', '6', 'N', 'L', 'M', 'H', '+', 'l', 't', 'a', 'o', 'D', '3', '+', 'l', 'V', 'm', '8', 'f', 'd', 'T', 'U', 'x', 'S', '5', 'M', 'N', 'P', 'o', 'A', '/', 'I', '8', 'c', 'K', '\\n', '1', 'O', 'W', 'T', 'J', 'H', 'k', 'r', 'p', '7', 'V', '/', 'X', 'a', 'Y', '7', 'm', 'U', 't', 'v', 'Q', 'n', '5', 'V', '1', 'y', 'E', 'T', '5', 'b', '4', 'b', 'o', 'g', 'z', '4', 'n', 'M', 'E', '6', 'W', 'L', 'i', 'F', 'M', 'd', '+', '7', 'x', '7', '3', 'g', 'B', '+', 'Y', 'J', '6', 'M', 'G', 'Y', 'N', 'u', 'O', '8', '\\n', 'e', '/', 'N', 'F', 'K', '6', '7', 'M', 'f', 'H', 'b', 'k', '1', '/', 'A', 'i', 'P', 'T', 'A', 'J', '6', 's', '5', 'u', 'H', 'R', 'Q', 'I', 'k', 'Z', 'c', 'B', 'P', 'G', '7', 'y', '5', 'P', 'p', 'f', 'c', 'H', 'p', 'I', 'l', 'w', 'P', 'Y', 'C', 'D', 'G', 'Y', 'l', 'T', 'a', 'j', 'Z', 'X', 'b', 'l', 'y', 'K', 'r', 'w', '\\n', 'B', 't', 't', 'V', 'n', 'Y', 'K', 'v', 'K', 's', 'n', 'l', 'y', 's', 'v', '1', '1', 'g', 'l', 'S', 'g', '0', 'D', 'p', 'h', 'G', 'x', 'Q', 'J', 'b', 'X', 'z', 'W', 'p', 'v', 'B', 'N', 'y', 'h', 'M', 'N', 'H', '5', 'd', 'f', 'f', 'c', 'f', 'v', 'd', '3', 'e', 'X', 'J', 'A', 'x', 'n', 'D', '8', '1', 'G', 'D', '2', 'z', '\\n', 'Z', 'A', 'r', 'i', 'M', 'J', '4', 'A', 'v', '2', 'T', 'f', 'e', 'q', 'Q', '2', 'n', 'x', 'd', '2', 'd', 'd', 'n', '0', 'j', 'X', '4', 'W', 'V', 'H', 't', 'A', 'v', 'L', 'X', 'f', 'C', 'g', 'L', 'M', '2', 'G', 'v', 'e', 'h', 'o', '4', 'j', 'D', '/', '9', 's', 'Z', '6', 'P', 'Z', 'z', '/', 'r', 'E', 'e', 'T', 'v', 't', '\\n', 'h', '8', '8', 't', '5', '0', 'q', 'P', 'c', 'B', 'a', '4', 'b', 'b', '2', '5', 'X', '0', 'B', '5', 'F', 'O', '3', 'T', 'e', 'K', '2', 'L', 'L', '3', 'V', 'K', 'L', 'u', 'E', 'p', '5', 'l', 'g', 'd', 'c', 'H', 'V', 'o', 'n', 'r', 'c', 'd', 'q', 'Z', 'F', 'o', 'b', 'N', '1', 'C', 'g', 'G', 'J', 'u', 'a', '8', 'T', 'W', '\\n', 'S', 'p', 'r', 'I', 'k', 'h', '+', '8', 'A', 'T', 'Z', '/', 'F', 'X', 'Q', 'T', 'i', '0', '1', 'N', 'z', 'L', 'h', 'H', 'X', 'T', '1', 'I', 'Q', 'z', 'S', 'p', 'F', 'a', 'Z', 'w', '0', 'g', 'b', '2', 'f', '5', 'r', 'u', 'X', 'w', 'v', 'T', 'P', 'p', 'f', 'X', 'z', 'Q', 'r', 's', '2', 'o', 'm', 'Y', '+', '7', 's', '7', '\\n', 'f', 'k', 'C', 'w', 'G', 'P', 'e', 's', 'v', 'p', 'S', 'X', 'P', 'K', 'n', '9', 'v', '8', 'u', 'h', 'U', 'w', 'D', '7', 'N', 'G', 'W', '/', 'D', 'm', '+', 'j', 'U', 'M', '+', 'Q', 't', 'C', '/', 'F', 'q', 'z', 'X', '7', '+', '/', 'Q', '+', 'O', 'u', 'E', 'P', 'j', 'C', 'l', 'U', 'h', '1', 'c', 'q', 'o', 'p', 'C', 'Z', '\\n', 'E', 'v', 'A', 'I', '3', 'H', 'j', 'n', 'a', 'v', 'G', 'r', 'Y', 'u', 'U', '6', 'D', 'g', 'Q', 'd', 'j', 'y', 'G', 'T', '/', 'U', 'D', 'b', 'u', 'w', 'b', 'C', 'X', 'q', 'H', 'x', 'H', 'o', 'j', 'V', 'V', 'k', 'I', 'S', 'G', 'z', 'C', 'T', 'G', 'p', 'm', 'B', 'c', 'Q', 'Y', 'Q', 'q', 'h', 'c', 'F', 'R', 'e', 'd', 'J', '\\n', 'y', 'J', 'l', 'u', '6', 'P', 'S', 'X', 'l', 'A', '7', '+', '8', 'A', 'j', 'h', '5', '2', 'o', 'i', 'M', 'J', '3', 'e', 'z', '4', 'x', 'S', 's', 's', 'F', 'g', 'U', 'Q', 'A', 'y', 'O', 'B', '1', '6', '4', '3', '2', 't', 'm', '4', 'e', 'r', 'p', 'G', 'm', 'C', 'y', 'a', 'k', 'k', 'o', 'R', 'm', 'M', 'U', 'n', '3', 'p', '\\n', 'w', 'x', '+', 'Q', 'I', 'p', 'p', 'x', 'R', 'l', 's', 'H', 'z', 'n', 'h', 'c', 'C', 'Q', 'K', 'R', '3', 't', 'c', 'b', 'l', 'U', 'q', 'H', '3', 'v', 'q', '5', 'i', '4', '/', 'Z', 'A', 'i', 'h', 'u', 's', 'M', 'C', 'a', '0', 'Y', 'r', 'S', 'h', 't', 'x', 'f', 'd', 'S', 'b', '1', '3', 'o', 'K', 'X', '+', 'p', 'F', 'r', '\\n', 'a', 'Z', 'X', 'v', 'x', 'y', 'Z', 'l', 'C', 'a', '5', 'q', 'o', 'Q', 'Q', 'B', 'V', '1', 's', 'o', 'w', 'm', 'P', 'L', '1', 'N', '2', 'j', '3', 'd', 'R', '9', 'T', 'V', 'p', 'd', 'T', 'y', 'C', 'F', 'Q', 'S', 'v', '4', 'K', 'e', 'i', 'E', 'x', 'm', 'o', 'w', 't', 'L', 'I', 'j', 'e', 'C', 'p', 'p', 'R', 'B', 'E', 'K', '\\n', 'e', 'e', 'Y', 'H', 'J', 'n', 'l', 'f', 'k', 'y', 'K', 'X', 'P', 'h', 'x', 'T', 'V', 'V', 'O', '6', 'H', '+', 'd', 'U', '4', 'n', 'V', 'u', '0', 'A', 'S', 'Q', 'Z', '0', '7', 'K', 'i', 'Q', 'j', 'b', 'I', '+', 'z', 'T', 'p', 'P', 'K', 'F', 'L', 'P', 'p', '3', '/', '0', 's', 'P', 'R', 'J', 'M', '5', '7', 'r', '1', '+', '\\n', 'a', 'T', 'S', '7', '1', 'i', 'R', '7', 'n', 'Z', 'N', 'Z', '1', 'f', '8', 'L', 'Z', 'V', '2', 'O', 'v', 'G', 'E', '6', 'f', 'J', 'V', 't', 'g', 'J', '1', 'J', '4', 'N', 'u', '0', '2', 'K', '5', '4', 'u', 'u', 'I', 'h', 'U', '3', 't', 'g', '1', '+', '7', 'X', 't', '+', 'I', 'q', 'w', 'R', 'c', '9', 'r', 'b', 'V', 'r', '\\n', 'p', 'H', 'H', '/', 'h', 'F', 'C', 'Y', 'B', 'P', 'W', '2', 'D', '2', 'd', 'x', 'B', '+', 'k', '2', 'p', 'Q', 'l', 'g', '5', 'N', 'I', '+', 'T', 'p', 's', 'X', 'j', '5', 'Z', 'u', 'n', '8', 'k', 'R', 'w', '5', 'R', 't', 'V', 'b', '+', 'd', 'L', 'u', 'i', 'H', '/', 'x', 'm', 'x', 'A', 'r', 'I', 'e', 'e', '8', 'J', 'q', '\\n', 'Z', 'F', '5', 'q', '4', 'h', '4', 'I', '3', '3', 'P', 'S', 'G', 'D', 'd', 'S', 'v', 'G', 'X', 'n', '9', 'U', 'M', 'Y', '5', 'I', 's', 'j', 'p', 'g', '=', '=', '\\n', '=', '7', 'p', 'I', 'B', '\\n', '-', '-', '-', '-', '-', 'E', 'N', 'D', ' ', 'P', 'G', 'P', ' ', 'P', 'U', 'B', 'L', 'I', 'C', ' ', 'K', 'E', 'Y', ' ', 'B', 'L', 'O', 'C', 'K', '-', '-', '-', '-', '-', '\\n']\n"
     ]
    }
   ],
   "source": [
    "print(list(text))"
   ]
  },
  {
   "cell_type": "code",
   "execution_count": 27,
   "id": "1684bb3e-d283-4574-9741-e7409ef381fa",
   "metadata": {},
   "outputs": [],
   "source": [
    "# count number of occurences of 'S', 'R', 'I','s'\n",
    "# count how many letters are there which are not above\n",
    "# count total letters/characters in the key/text"
   ]
  },
  {
   "cell_type": "code",
   "execution_count": 45,
   "id": "e44cebbb-977c-4fab-b9df-5ed244815f1e",
   "metadata": {},
   "outputs": [],
   "source": [
    "count_S = 0\n",
    "count_R = 0\n",
    "count_I = 0\n",
    "count_s = 0\n",
    "count_others=0\n",
    "count_all = 0"
   ]
  },
  {
   "cell_type": "code",
   "execution_count": 46,
   "id": "524b2132-72a1-488f-88b7-c2b181789280",
   "metadata": {},
   "outputs": [],
   "source": [
    "for letter in list(text):\n",
    "    count_all = count_all+1\n",
    "    if letter == 'S':\n",
    "        count_S = count_S+1\n",
    "        #count_S+ = 1\n",
    "    elif letter == 'R':\n",
    "        count_R+= 1\n",
    "    elif letter == 'I':\n",
    "        count_I = count_I + 1\n",
    "    elif letter == 's':\n",
    "        count_s = count_s + 1\n",
    "    else:\n",
    "        count_others = count_others + 1"
   ]
  },
  {
   "cell_type": "code",
   "execution_count": 47,
   "id": "b7e4aed0-8ad0-46fb-b14f-52faa4341c96",
   "metadata": {},
   "outputs": [
    {
     "data": {
      "text/plain": [
       "98"
      ]
     },
     "execution_count": 47,
     "metadata": {},
     "output_type": "execute_result"
    }
   ],
   "source": [
    "count_S"
   ]
  },
  {
   "cell_type": "code",
   "execution_count": 48,
   "id": "8c10b2b2-db13-417a-98b3-fdc52c3a66ae",
   "metadata": {},
   "outputs": [
    {
     "data": {
      "text/plain": [
       "121"
      ]
     },
     "execution_count": 48,
     "metadata": {},
     "output_type": "execute_result"
    }
   ],
   "source": [
    "count_s"
   ]
  },
  {
   "cell_type": "code",
   "execution_count": 49,
   "id": "fd1ebfb0-0540-4cbc-bc33-f90ab876cc64",
   "metadata": {},
   "outputs": [
    {
     "data": {
      "text/plain": [
       "120"
      ]
     },
     "execution_count": 49,
     "metadata": {},
     "output_type": "execute_result"
    }
   ],
   "source": [
    "count_R"
   ]
  },
  {
   "cell_type": "code",
   "execution_count": 50,
   "id": "b9389189-2030-4dda-b866-ba3eafc7031f",
   "metadata": {},
   "outputs": [
    {
     "data": {
      "text/plain": [
       "114"
      ]
     },
     "execution_count": 50,
     "metadata": {},
     "output_type": "execute_result"
    }
   ],
   "source": [
    "count_I"
   ]
  },
  {
   "cell_type": "code",
   "execution_count": 51,
   "id": "8897e305-fda3-487c-81f4-0fd3153322a9",
   "metadata": {},
   "outputs": [
    {
     "data": {
      "text/plain": [
       "7264"
      ]
     },
     "execution_count": 51,
     "metadata": {},
     "output_type": "execute_result"
    }
   ],
   "source": [
    "count_others"
   ]
  },
  {
   "cell_type": "code",
   "execution_count": 52,
   "id": "362f3da2-7156-48c7-b170-fe55ec3ad067",
   "metadata": {},
   "outputs": [
    {
     "data": {
      "text/plain": [
       "7717"
      ]
     },
     "execution_count": 52,
     "metadata": {},
     "output_type": "execute_result"
    }
   ],
   "source": [
    "count_all"
   ]
  },
  {
   "cell_type": "code",
   "execution_count": null,
   "id": "8ba9243f-0e8f-4c69-88c4-8c583e294b56",
   "metadata": {},
   "outputs": [],
   "source": []
  },
  {
   "cell_type": "code",
   "execution_count": null,
   "id": "a25ee1f4-1af1-4b8d-955f-aa8f96a3e5e2",
   "metadata": {},
   "outputs": [],
   "source": []
  },
  {
   "cell_type": "code",
   "execution_count": 53,
   "id": "21aac2ff-5ca7-4b82-9abb-cf0d9a054dc8",
   "metadata": {},
   "outputs": [],
   "source": [
    "## Animal Sleep Time"
   ]
  },
  {
   "cell_type": "markdown",
   "id": "c28edf3f-79bc-4fc7-8f54-4981f302f1d5",
   "metadata": {},
   "source": [
    "https://raw.githubusercontent.com/srisreedhar/DataSets/refs/heads/master/animal_sleeptime_ggplot2.csv"
   ]
  },
  {
   "cell_type": "code",
   "execution_count": 62,
   "id": "6a5ae6bb-3f84-4210-940e-7a3cdfae4b06",
   "metadata": {},
   "outputs": [],
   "source": [
    "data=\"\"\"name,genus,vore,order,conservation,sleep_total,sleep_rem,sleep_cycle,awake,brainwt,bodywt\n",
    "Cheetah,Acinonyx,carni,Carnivora,lc,12.1,NA,NA,11.9,NA,50\n",
    "Owl monkey,Aotus,omni,Primates,NA,17,1.8,NA,7,0.0155,0.48\n",
    "Mountain beaver,Aplodontia,herbi,Rodentia,nt,14.4,2.4,NA,9.6,NA,1.35\n",
    "Greater short-tailed shrew,Blarina,omni,Soricomorpha,lc,14.9,2.3,0.133333333,9.1,0.00029,0.019\n",
    "Cow,Bos,herbi,Artiodactyla,domesticated,4,0.7,0.666666667,20,0.423,600\"\"\""
   ]
  },
  {
   "cell_type": "code",
   "execution_count": 63,
   "id": "0516811b-d585-4e76-973c-b01abd91ed1d",
   "metadata": {},
   "outputs": [
    {
     "data": {
      "text/plain": [
       "'name,genus,vore,order,conservation,sleep_total,sleep_rem,sleep_cycle,awake,brainwt,bodywt\\nCheetah,Acinonyx,carni,Carnivora,lc,12.1,NA,NA,11.9,NA,50\\nOwl monkey,Aotus,omni,Primates,NA,17,1.8,NA,7,0.0155,0.48\\nMountain beaver,Aplodontia,herbi,Rodentia,nt,14.4,2.4,NA,9.6,NA,1.35\\nGreater short-tailed shrew,Blarina,omni,Soricomorpha,lc,14.9,2.3,0.133333333,9.1,0.00029,0.019\\nCow,Bos,herbi,Artiodactyla,domesticated,4,0.7,0.666666667,20,0.423,600'"
      ]
     },
     "execution_count": 63,
     "metadata": {},
     "output_type": "execute_result"
    }
   ],
   "source": [
    "data"
   ]
  },
  {
   "cell_type": "code",
   "execution_count": 64,
   "id": "b6f09d15-3830-4572-977a-9946211938e7",
   "metadata": {},
   "outputs": [
    {
     "data": {
      "text/plain": [
       "['name,genus,vore,order,conservation,sleep_total,sleep_rem,sleep_cycle,awake,brainwt,bodywt',\n",
       " 'Cheetah,Acinonyx,carni,Carnivora,lc,12.1,NA,NA,11.9,NA,50',\n",
       " 'Owl monkey,Aotus,omni,Primates,NA,17,1.8,NA,7,0.0155,0.48',\n",
       " 'Mountain beaver,Aplodontia,herbi,Rodentia,nt,14.4,2.4,NA,9.6,NA,1.35',\n",
       " 'Greater short-tailed shrew,Blarina,omni,Soricomorpha,lc,14.9,2.3,0.133333333,9.1,0.00029,0.019',\n",
       " 'Cow,Bos,herbi,Artiodactyla,domesticated,4,0.7,0.666666667,20,0.423,600']"
      ]
     },
     "execution_count": 64,
     "metadata": {},
     "output_type": "execute_result"
    }
   ],
   "source": [
    "data.split(\"\\n\")"
   ]
  },
  {
   "cell_type": "code",
   "execution_count": 68,
   "id": "140a243e-08dd-4b98-a895-0a520be06efe",
   "metadata": {},
   "outputs": [
    {
     "data": {
      "text/plain": [
       "['Cheetah,Acinonyx,carni,Carnivora,lc,12.1,NA,NA,11.9,NA,50',\n",
       " 'Owl monkey,Aotus,omni,Primates,NA,17,1.8,NA,7,0.0155,0.48',\n",
       " 'Mountain beaver,Aplodontia,herbi,Rodentia,nt,14.4,2.4,NA,9.6,NA,1.35',\n",
       " 'Greater short-tailed shrew,Blarina,omni,Soricomorpha,lc,14.9,2.3,0.133333333,9.1,0.00029,0.019',\n",
       " 'Cow,Bos,herbi,Artiodactyla,domesticated,4,0.7,0.666666667,20,0.423,600']"
      ]
     },
     "execution_count": 68,
     "metadata": {},
     "output_type": "execute_result"
    }
   ],
   "source": [
    "data.split(\"\\n\")[1:]"
   ]
  },
  {
   "cell_type": "code",
   "execution_count": 69,
   "id": "42aa278c-9eb6-4383-8ee6-55af67c5cdc8",
   "metadata": {},
   "outputs": [],
   "source": [
    "# data.split(\"\\n\")[from:] select all the data from "
   ]
  },
  {
   "cell_type": "code",
   "execution_count": null,
   "id": "3f386f63-448e-4d80-aca1-60f4db0abc19",
   "metadata": {},
   "outputs": [],
   "source": [
    "# use only the concepts we have learnt in our classes"
   ]
  }
 ],
 "metadata": {
  "kernelspec": {
   "display_name": "Python 3 (ipykernel)",
   "language": "python",
   "name": "python3"
  },
  "language_info": {
   "codemirror_mode": {
    "name": "ipython",
    "version": 3
   },
   "file_extension": ".py",
   "mimetype": "text/x-python",
   "name": "python",
   "nbconvert_exporter": "python",
   "pygments_lexer": "ipython3",
   "version": "3.11.7"
  }
 },
 "nbformat": 4,
 "nbformat_minor": 5
}

{
 "cells": [
  {
   "cell_type": "code",
   "execution_count": 1,
   "id": "ab77a214-f032-4798-ac5d-0539e9de41f5",
   "metadata": {},
   "outputs": [],
   "source": [
    "# write a function that calculates the interest on loan.\n",
    "# PTR/100\n",
    "# P - Principle / Loan Amount\n",
    "# T - Time\n",
    "# R - rate of Interest"
   ]
  },
  {
   "cell_type": "code",
   "execution_count": 4,
   "id": "93d45da1-329f-4206-81eb-f541c0d8c423",
   "metadata": {},
   "outputs": [],
   "source": [
    "p = 1000\n",
    "t = 3\n",
    "r = 7"
   ]
  },
  {
   "cell_type": "raw",
   "id": "8df442f2-a710-4264-9ab0-da1ad49103e5",
   "metadata": {},
   "source": [
    "(p*t*r)/100"
   ]
  },
  {
   "cell_type": "code",
   "execution_count": 13,
   "id": "87758e8a-a451-4426-a734-3b54b7e22e53",
   "metadata": {},
   "outputs": [],
   "source": [
    "def interest(principle,time,rate):\n",
    "    amount = (principle*time*rate)/100\n",
    "    return amount"
   ]
  },
  {
   "cell_type": "code",
   "execution_count": 14,
   "id": "0ae5d14e-d788-4293-b23a-7fece5907579",
   "metadata": {},
   "outputs": [],
   "source": [
    "hdfc = interest(10000,5,8)"
   ]
  },
  {
   "cell_type": "code",
   "execution_count": 18,
   "id": "0d8b4367-d545-4c25-9844-8ee57f7847f2",
   "metadata": {},
   "outputs": [],
   "source": [
    "idbi = interest(70000,4,8)"
   ]
  },
  {
   "cell_type": "code",
   "execution_count": 28,
   "id": "be96332c-70fe-43c4-9f97-ad60cac8c733",
   "metadata": {},
   "outputs": [
    {
     "data": {
      "text/plain": [
       "8000.0"
      ]
     },
     "execution_count": 28,
     "metadata": {},
     "output_type": "execute_result"
    }
   ],
   "source": [
    "sbi = interest(50000,2,8)\n",
    "sbi"
   ]
  },
  {
   "cell_type": "code",
   "execution_count": 16,
   "id": "05e04746-a7ca-42b0-83c9-fdeaac3e4209",
   "metadata": {},
   "outputs": [
    {
     "data": {
      "text/plain": [
       "4000.0"
      ]
     },
     "execution_count": 16,
     "metadata": {},
     "output_type": "execute_result"
    }
   ],
   "source": [
    "hdfc"
   ]
  },
  {
   "cell_type": "code",
   "execution_count": 17,
   "id": "e7a4fe75-5445-441a-a5fd-82704d5c8413",
   "metadata": {},
   "outputs": [
    {
     "data": {
      "text/plain": [
       "20000.0"
      ]
     },
     "execution_count": 17,
     "metadata": {},
     "output_type": "execute_result"
    }
   ],
   "source": [
    "sbi"
   ]
  },
  {
   "cell_type": "code",
   "execution_count": 19,
   "id": "fc7ba7eb-cc19-4ab6-9b87-135c01eb8f3b",
   "metadata": {},
   "outputs": [
    {
     "data": {
      "text/plain": [
       "28000.0"
      ]
     },
     "execution_count": 19,
     "metadata": {},
     "output_type": "execute_result"
    }
   ],
   "source": [
    "idbi"
   ]
  },
  {
   "cell_type": "code",
   "execution_count": 9,
   "id": "90ef87b1-3512-4bc2-8e92-96d89e6a3adb",
   "metadata": {},
   "outputs": [],
   "source": [
    "def age(current_year,birth_year):\n",
    "    age=current_year-birth_year\n",
    "    return age"
   ]
  },
  {
   "cell_type": "code",
   "execution_count": null,
   "id": "e5bc9c5b-ef73-4968-b4ad-91f6a1b4adce",
   "metadata": {},
   "outputs": [],
   "source": []
  },
  {
   "cell_type": "code",
   "execution_count": 10,
   "id": "4e3d2758-7c68-44f2-96f8-d22b71e4789d",
   "metadata": {},
   "outputs": [],
   "source": [
    "# the rate of interest remains same for almost all the banks\n",
    "# can we make this constant ? and only change when there is change in the rate of interest"
   ]
  },
  {
   "cell_type": "code",
   "execution_count": null,
   "id": "8771ce12-ae1e-4a16-8e1f-71bae17ba1fb",
   "metadata": {},
   "outputs": [],
   "source": [
    "def interest(principle,time,rate):\n",
    "    amount = (p*t*r)/100\n",
    "    return amount"
   ]
  },
  {
   "cell_type": "code",
   "execution_count": 20,
   "id": "f53bcc3b-1428-4c76-b015-bb3ea9d023c7",
   "metadata": {},
   "outputs": [],
   "source": [
    "def interest(principle,time):\n",
    "    amount = (principle*time*8)/100\n",
    "    return amount"
   ]
  },
  {
   "cell_type": "markdown",
   "id": "cfc89591-1232-4990-bfd2-20369480e247",
   "metadata": {},
   "source": [
    "#### Default arguments"
   ]
  },
  {
   "cell_type": "markdown",
   "id": "9145f682-65c8-4d89-8dee-33748a05a7ca",
   "metadata": {},
   "source": [
    "we can set default values to arguments and modify them only when needed."
   ]
  },
  {
   "cell_type": "code",
   "execution_count": 21,
   "id": "31f618ae-eb3b-40f3-ae91-238280a0c713",
   "metadata": {},
   "outputs": [],
   "source": [
    "def interest(principle,time,rate=8):\n",
    "    amount = (principle*time*rate)/100\n",
    "    return amount"
   ]
  },
  {
   "cell_type": "code",
   "execution_count": 23,
   "id": "bd2235e7-082d-4a36-8197-0b073bd0839c",
   "metadata": {},
   "outputs": [],
   "source": [
    "hdfc = interest(10000,5)"
   ]
  },
  {
   "cell_type": "code",
   "execution_count": 24,
   "id": "f64ba20a-af5f-4d5c-8208-49c765e83038",
   "metadata": {},
   "outputs": [
    {
     "data": {
      "text/plain": [
       "4000.0"
      ]
     },
     "execution_count": 24,
     "metadata": {},
     "output_type": "execute_result"
    }
   ],
   "source": [
    "hdfc"
   ]
  },
  {
   "cell_type": "code",
   "execution_count": 25,
   "id": "c25699d4-f881-4af2-8d6a-221ab8013a68",
   "metadata": {},
   "outputs": [
    {
     "data": {
      "text/plain": [
       "8000.0"
      ]
     },
     "execution_count": 25,
     "metadata": {},
     "output_type": "execute_result"
    }
   ],
   "source": [
    "sbi = interest(50000,2)\n",
    "sbi"
   ]
  },
  {
   "cell_type": "code",
   "execution_count": 27,
   "id": "ad7d4698-1082-4338-98f3-cbbe45244885",
   "metadata": {},
   "outputs": [
    {
     "data": {
      "text/plain": [
       "22400.0"
      ]
     },
     "execution_count": 27,
     "metadata": {},
     "output_type": "execute_result"
    }
   ],
   "source": [
    "idbi = interest(70000,4)\n",
    "idbi"
   ]
  },
  {
   "cell_type": "code",
   "execution_count": 29,
   "id": "4f98dc93-f9b9-4d86-8393-75f396e61e8e",
   "metadata": {},
   "outputs": [
    {
     "data": {
      "text/plain": [
       "10000.0"
      ]
     },
     "execution_count": 29,
     "metadata": {},
     "output_type": "execute_result"
    }
   ],
   "source": [
    "# new interest rate - 10\n",
    "sbi = interest(50000,2,rate = 10)\n",
    "sbi"
   ]
  },
  {
   "cell_type": "code",
   "execution_count": 30,
   "id": "44ca439a-fdb8-4f06-a9b6-6181ba17e334",
   "metadata": {},
   "outputs": [
    {
     "data": {
      "text/plain": [
       "8000.0"
      ]
     },
     "execution_count": 30,
     "metadata": {},
     "output_type": "execute_result"
    }
   ],
   "source": [
    "sbi = interest(50000,2)\n",
    "sbi"
   ]
  },
  {
   "cell_type": "code",
   "execution_count": null,
   "id": "3835007e-bee7-494c-a05d-00d4f13ab9d4",
   "metadata": {},
   "outputs": [],
   "source": [
    "sum([1,2])\n",
    "3\n",
    "\n",
    "sum([1,2,3])\n",
    "6\n",
    "\n",
    "sum([1,2,3,4])\n",
    "10\n",
    "\n",
    "sum([1,2,3,4,5])\n",
    "15"
   ]
  },
  {
   "cell_type": "code",
   "execution_count": 31,
   "id": "7042e46f-5f4b-48df-9a9d-8e8720785547",
   "metadata": {},
   "outputs": [],
   "source": [
    "# create sum function"
   ]
  },
  {
   "cell_type": "code",
   "execution_count": 32,
   "id": "d77b69ba-af81-4bc4-8876-ec127b284f30",
   "metadata": {},
   "outputs": [],
   "source": [
    "def summ(x,y):\n",
    "    return x+y"
   ]
  },
  {
   "cell_type": "code",
   "execution_count": 34,
   "id": "89339621-1e20-4102-8750-64e2bbdd8d16",
   "metadata": {},
   "outputs": [
    {
     "data": {
      "text/plain": [
       "3"
      ]
     },
     "execution_count": 34,
     "metadata": {},
     "output_type": "execute_result"
    }
   ],
   "source": [
    "summ(1,2)"
   ]
  },
  {
   "cell_type": "code",
   "execution_count": 35,
   "id": "5489aa2a-4cc2-4275-a60b-a3663d50af99",
   "metadata": {},
   "outputs": [
    {
     "ename": "TypeError",
     "evalue": "summ() takes 2 positional arguments but 3 were given",
     "output_type": "error",
     "traceback": [
      "\u001b[1;31m---------------------------------------------------------------------------\u001b[0m",
      "\u001b[1;31mTypeError\u001b[0m                                 Traceback (most recent call last)",
      "Cell \u001b[1;32mIn[35], line 1\u001b[0m\n\u001b[1;32m----> 1\u001b[0m \u001b[43msumm\u001b[49m\u001b[43m(\u001b[49m\u001b[38;5;241;43m1\u001b[39;49m\u001b[43m,\u001b[49m\u001b[38;5;241;43m2\u001b[39;49m\u001b[43m,\u001b[49m\u001b[38;5;241;43m3\u001b[39;49m\u001b[43m)\u001b[49m\n",
      "\u001b[1;31mTypeError\u001b[0m: summ() takes 2 positional arguments but 3 were given"
     ]
    }
   ],
   "source": [
    "summ(1,2,3)"
   ]
  },
  {
   "cell_type": "code",
   "execution_count": 36,
   "id": "8bf06f0e-c086-4d42-991b-2a5b2f2aeca2",
   "metadata": {},
   "outputs": [],
   "source": [
    "# Arbitrary Arguments / n number of args/collection of args\n",
    "# to pass a list as an input to functions,we use *args"
   ]
  },
  {
   "cell_type": "code",
   "execution_count": 40,
   "id": "dac5f36c-fac6-4ebb-a7e4-bf41d223bd98",
   "metadata": {},
   "outputs": [],
   "source": [
    "def summ(*args):\n",
    "    print(args, \"\\n\",type(args))"
   ]
  },
  {
   "cell_type": "code",
   "execution_count": 41,
   "id": "88d22387-1943-4c79-ba07-919a909d66a9",
   "metadata": {},
   "outputs": [
    {
     "name": "stdout",
     "output_type": "stream",
     "text": [
      "(1, 2, 3, 4, 5) \n",
      " <class 'tuple'>\n"
     ]
    }
   ],
   "source": [
    "summ(1,2,3,4,5)"
   ]
  },
  {
   "cell_type": "code",
   "execution_count": 43,
   "id": "5a326186-df9a-4a49-b2ee-9fe0cd962f2f",
   "metadata": {},
   "outputs": [
    {
     "name": "stdout",
     "output_type": "stream",
     "text": [
      "(1, 2, 3, 4, 5, 6, 7, 8, 9, 10, 11, 11, 11) \n",
      " <class 'tuple'>\n"
     ]
    }
   ],
   "source": [
    "summ(1,2,3,4,5,6,7,8,9,10,11,11,11)"
   ]
  },
  {
   "cell_type": "code",
   "execution_count": 42,
   "id": "ee4d7eba-187c-4f69-ac50-7882eb10cc77",
   "metadata": {},
   "outputs": [
    {
     "name": "stdout",
     "output_type": "stream",
     "text": [
      "(1,) \n",
      " <class 'tuple'>\n"
     ]
    }
   ],
   "source": [
    "summ(1)"
   ]
  },
  {
   "cell_type": "code",
   "execution_count": null,
   "id": "56b58fa3-bc2c-4699-ae17-37cf4f669e9d",
   "metadata": {},
   "outputs": [],
   "source": [
    "args - collects all the values and returns them as a collection."
   ]
  },
  {
   "cell_type": "code",
   "execution_count": null,
   "id": "dcf1dc43-dee5-4ddc-a111-b2a7927b17a0",
   "metadata": {},
   "outputs": [],
   "source": []
  },
  {
   "cell_type": "code",
   "execution_count": 44,
   "id": "a59f129a-6e94-49f4-8b42-be26fce79c78",
   "metadata": {},
   "outputs": [],
   "source": [
    "def summ(*args):\n",
    "    for number in args:\n",
    "        print(number)"
   ]
  },
  {
   "cell_type": "code",
   "execution_count": 45,
   "id": "ae039e7e-42a6-45c0-9785-4ff45d4ca468",
   "metadata": {},
   "outputs": [
    {
     "name": "stdout",
     "output_type": "stream",
     "text": [
      "1\n",
      "2\n",
      "3\n",
      "4\n",
      "5\n"
     ]
    }
   ],
   "source": [
    "summ(1,2,3,4,5)"
   ]
  },
  {
   "cell_type": "code",
   "execution_count": 46,
   "id": "8610f585-e579-445e-9eee-f7c0fe569804",
   "metadata": {},
   "outputs": [],
   "source": [
    "def summ(*args):\n",
    "    total = 0\n",
    "    for number in args:\n",
    "        total = total + number\n",
    "    return total"
   ]
  },
  {
   "cell_type": "code",
   "execution_count": 47,
   "id": "c211ec10-a982-4a14-9cff-6a2bca00f507",
   "metadata": {},
   "outputs": [
    {
     "data": {
      "text/plain": [
       "2"
      ]
     },
     "execution_count": 47,
     "metadata": {},
     "output_type": "execute_result"
    }
   ],
   "source": [
    "summ(1,1)"
   ]
  },
  {
   "cell_type": "code",
   "execution_count": 48,
   "id": "a897caed-fc45-43fd-86c3-e21d050d69d5",
   "metadata": {},
   "outputs": [
    {
     "data": {
      "text/plain": [
       "15"
      ]
     },
     "execution_count": 48,
     "metadata": {},
     "output_type": "execute_result"
    }
   ],
   "source": [
    "summ(1,2,3,4,5)"
   ]
  },
  {
   "cell_type": "code",
   "execution_count": 49,
   "id": "7ac4c371-1c8a-4e98-a63c-ac39f781ad78",
   "metadata": {},
   "outputs": [
    {
     "data": {
      "text/plain": [
       "88"
      ]
     },
     "execution_count": 49,
     "metadata": {},
     "output_type": "execute_result"
    }
   ],
   "source": [
    "summ(1,2,3,4,5,6,7,8,9,10,11,11,11)"
   ]
  },
  {
   "cell_type": "code",
   "execution_count": 50,
   "id": "01594617-5e08-45c8-bc9b-99f13c44a968",
   "metadata": {},
   "outputs": [],
   "source": [
    "a,b=[1,2]"
   ]
  },
  {
   "cell_type": "code",
   "execution_count": 51,
   "id": "3b3c4776-e1b3-43d1-9993-c1258c7329a0",
   "metadata": {},
   "outputs": [
    {
     "name": "stdout",
     "output_type": "stream",
     "text": [
      "1\n",
      "2\n"
     ]
    }
   ],
   "source": [
    "print(a)\n",
    "print(b)"
   ]
  },
  {
   "cell_type": "code",
   "execution_count": null,
   "id": "6a543bf9-2ccb-4df4-9582-65e4f24a7b65",
   "metadata": {},
   "outputs": [],
   "source": [
    "[9, 8, 8, 7, 6, 6, 6, 5, 4, 2, 2, 1, 1, 0, 0]"
   ]
  },
  {
   "cell_type": "code",
   "execution_count": 52,
   "id": "70a0a613-4829-4187-9711-dc858647d94b",
   "metadata": {},
   "outputs": [
    {
     "ename": "ValueError",
     "evalue": "too many values to unpack (expected 3)",
     "output_type": "error",
     "traceback": [
      "\u001b[1;31m---------------------------------------------------------------------------\u001b[0m",
      "\u001b[1;31mValueError\u001b[0m                                Traceback (most recent call last)",
      "Cell \u001b[1;32mIn[52], line 1\u001b[0m\n\u001b[1;32m----> 1\u001b[0m a,b,c \u001b[38;5;241m=\u001b[39m [\u001b[38;5;241m9\u001b[39m, \u001b[38;5;241m8\u001b[39m, \u001b[38;5;241m8\u001b[39m, \u001b[38;5;241m7\u001b[39m, \u001b[38;5;241m6\u001b[39m, \u001b[38;5;241m6\u001b[39m, \u001b[38;5;241m6\u001b[39m, \u001b[38;5;241m5\u001b[39m, \u001b[38;5;241m4\u001b[39m, \u001b[38;5;241m2\u001b[39m, \u001b[38;5;241m2\u001b[39m, \u001b[38;5;241m1\u001b[39m, \u001b[38;5;241m1\u001b[39m, \u001b[38;5;241m0\u001b[39m, \u001b[38;5;241m0\u001b[39m]\n",
      "\u001b[1;31mValueError\u001b[0m: too many values to unpack (expected 3)"
     ]
    }
   ],
   "source": [
    "a,b,c = [9, 8, 8, 7, 6, 6, 6, 5, 4, 2, 2, 1, 1, 0, 0]"
   ]
  },
  {
   "cell_type": "code",
   "execution_count": 53,
   "id": "69e28d55-d524-479c-85c1-01023770a099",
   "metadata": {},
   "outputs": [],
   "source": [
    "a,b,*c = [9, 8, 8, 7, 6, 6, 6, 5, 4, 2, 2, 1, 1, 0, 0]"
   ]
  },
  {
   "cell_type": "code",
   "execution_count": 54,
   "id": "c97fc61a-a35a-4508-8a20-529f9fe67ae5",
   "metadata": {},
   "outputs": [
    {
     "data": {
      "text/plain": [
       "9"
      ]
     },
     "execution_count": 54,
     "metadata": {},
     "output_type": "execute_result"
    }
   ],
   "source": [
    "a"
   ]
  },
  {
   "cell_type": "code",
   "execution_count": 55,
   "id": "1472825a-7a6b-4f70-a044-fe4f635ea7b5",
   "metadata": {},
   "outputs": [
    {
     "data": {
      "text/plain": [
       "8"
      ]
     },
     "execution_count": 55,
     "metadata": {},
     "output_type": "execute_result"
    }
   ],
   "source": [
    "b"
   ]
  },
  {
   "cell_type": "code",
   "execution_count": 56,
   "id": "b6c5129f-8ff3-4b5a-9855-f57ec0e069ca",
   "metadata": {},
   "outputs": [
    {
     "data": {
      "text/plain": [
       "[8, 7, 6, 6, 6, 5, 4, 2, 2, 1, 1, 0, 0]"
      ]
     },
     "execution_count": 56,
     "metadata": {},
     "output_type": "execute_result"
    }
   ],
   "source": [
    "c"
   ]
  },
  {
   "cell_type": "code",
   "execution_count": null,
   "id": "9d4328d9-6e77-4b69-91eb-9e649dca5380",
   "metadata": {},
   "outputs": [],
   "source": [
    "*anything = List/Tuple\n",
    "**anything = Dictionary"
   ]
  },
  {
   "cell_type": "code",
   "execution_count": null,
   "id": "5f9e574b-fd69-4819-88a3-7284d5e4d356",
   "metadata": {},
   "outputs": [],
   "source": [
    "*args = List/Tuple\n",
    "**kwargs = Dictionary ( kwargs - Key Word Arguments)"
   ]
  },
  {
   "cell_type": "code",
   "execution_count": null,
   "id": "3feb74b6-2355-429b-8193-b05f80c8422d",
   "metadata": {},
   "outputs": [],
   "source": []
  },
  {
   "cell_type": "code",
   "execution_count": 57,
   "id": "0b708761-dedf-41bb-84c5-e46c84a12d05",
   "metadata": {},
   "outputs": [],
   "source": [
    "def kwar(**kwargs):\n",
    "    return kwargs"
   ]
  },
  {
   "cell_type": "code",
   "execution_count": 58,
   "id": "fa813b35-3f91-4875-9f5a-87b68fd94979",
   "metadata": {},
   "outputs": [
    {
     "data": {
      "text/plain": [
       "{'maths': 60, 'science': 90, 'social': 80, 'english': 30, 'Telugu': 99}"
      ]
     },
     "execution_count": 58,
     "metadata": {},
     "output_type": "execute_result"
    }
   ],
   "source": [
    "kwar(maths=60,science=90,social=80,english=30,Telugu=99)"
   ]
  },
  {
   "cell_type": "code",
   "execution_count": null,
   "id": "116e3547-0686-4174-b8e1-7bea5a56a546",
   "metadata": {},
   "outputs": [],
   "source": []
  }
 ],
 "metadata": {
  "kernelspec": {
   "display_name": "Python 3 (ipykernel)",
   "language": "python",
   "name": "python3"
  },
  "language_info": {
   "codemirror_mode": {
    "name": "ipython",
    "version": 3
   },
   "file_extension": ".py",
   "mimetype": "text/x-python",
   "name": "python",
   "nbconvert_exporter": "python",
   "pygments_lexer": "ipython3",
   "version": "3.11.7"
  }
 },
 "nbformat": 4,
 "nbformat_minor": 5
}

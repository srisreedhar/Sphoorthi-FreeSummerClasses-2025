{
 "cells": [
  {
   "cell_type": "code",
   "execution_count": 1,
   "id": "0dfdbcbe-5dc6-454f-8cb7-964ec52a9fb2",
   "metadata": {},
   "outputs": [],
   "source": [
    "import pandas as pd\n",
    "import os"
   ]
  },
  {
   "cell_type": "code",
   "execution_count": 7,
   "id": "0b71b578-d06d-41f5-acc6-80ecd1577425",
   "metadata": {},
   "outputs": [],
   "source": [
    "pd.options.display.max_columns = 100"
   ]
  },
  {
   "cell_type": "code",
   "execution_count": 2,
   "id": "8c8e1af8-0e43-433c-8cc4-aade4938df3d",
   "metadata": {},
   "outputs": [
    {
     "data": {
      "text/plain": [
       "'D:\\\\SphoorthiFreeClasses\\\\python'"
      ]
     },
     "execution_count": 2,
     "metadata": {},
     "output_type": "execute_result"
    }
   ],
   "source": [
    "os.getcwd()"
   ]
  },
  {
   "cell_type": "code",
   "execution_count": 3,
   "id": "dab85a6d-a540-46d2-8697-f7cbe64f5e23",
   "metadata": {},
   "outputs": [],
   "source": [
    "os.chdir(\"D:\\SphoorthiFreeClasses\\python\\datasets\")"
   ]
  },
  {
   "cell_type": "code",
   "execution_count": 4,
   "id": "f6055f6b-1934-48bf-9a5c-ff1804adbfb0",
   "metadata": {},
   "outputs": [
    {
     "data": {
      "text/plain": [
       "['animal_sleeptime.csv', 'Readme.txt']"
      ]
     },
     "execution_count": 4,
     "metadata": {},
     "output_type": "execute_result"
    }
   ],
   "source": [
    "os.listdir('.')"
   ]
  },
  {
   "cell_type": "code",
   "execution_count": null,
   "id": "4a9c0b59-2dc5-42d9-b44d-b4dcac9f6ced",
   "metadata": {},
   "outputs": [],
   "source": [
    "# reading csv files into pandas\n",
    "csvdata=pd.read_csv(CSV-FILE-NAME) \n",
    "# pd.read_csv(CSV-FILE-NAME, parse_dates = ['Date1','Date2'....])\n",
    "# parse_dates = ['Date1','Date2'] - is an argument that takes dates in the file if any and treats them as dates, if not they're treated as strings"
   ]
  },
  {
   "cell_type": "code",
   "execution_count": 5,
   "id": "f2e59719-8122-465c-9af7-a7e5dc952a52",
   "metadata": {},
   "outputs": [],
   "source": [
    "csvdata=pd.read_csv('animal_sleeptime.csv') "
   ]
  },
  {
   "cell_type": "code",
   "execution_count": 8,
   "id": "1ddb873a-12da-4df6-bcc1-e571cd0059a2",
   "metadata": {},
   "outputs": [
    {
     "data": {
      "text/html": [
       "<div>\n",
       "<style scoped>\n",
       "    .dataframe tbody tr th:only-of-type {\n",
       "        vertical-align: middle;\n",
       "    }\n",
       "\n",
       "    .dataframe tbody tr th {\n",
       "        vertical-align: top;\n",
       "    }\n",
       "\n",
       "    .dataframe thead th {\n",
       "        text-align: right;\n",
       "    }\n",
       "</style>\n",
       "<table border=\"1\" class=\"dataframe\">\n",
       "  <thead>\n",
       "    <tr style=\"text-align: right;\">\n",
       "      <th></th>\n",
       "      <th>name</th>\n",
       "      <th>genus</th>\n",
       "      <th>vore</th>\n",
       "      <th>order</th>\n",
       "      <th>conservation</th>\n",
       "      <th>sleep_total</th>\n",
       "      <th>sleep_rem</th>\n",
       "      <th>sleep_cycle</th>\n",
       "      <th>awake</th>\n",
       "      <th>brainwt</th>\n",
       "      <th>bodywt</th>\n",
       "    </tr>\n",
       "  </thead>\n",
       "  <tbody>\n",
       "    <tr>\n",
       "      <th>0</th>\n",
       "      <td>Cheetah</td>\n",
       "      <td>Acinonyx</td>\n",
       "      <td>carni</td>\n",
       "      <td>Carnivora</td>\n",
       "      <td>lc</td>\n",
       "      <td>12.1</td>\n",
       "      <td>NaN</td>\n",
       "      <td>NaN</td>\n",
       "      <td>11.9</td>\n",
       "      <td>NaN</td>\n",
       "      <td>50.000</td>\n",
       "    </tr>\n",
       "    <tr>\n",
       "      <th>1</th>\n",
       "      <td>Owl monkey</td>\n",
       "      <td>Aotus</td>\n",
       "      <td>omni</td>\n",
       "      <td>Primates</td>\n",
       "      <td>NaN</td>\n",
       "      <td>17.0</td>\n",
       "      <td>1.8</td>\n",
       "      <td>NaN</td>\n",
       "      <td>7.0</td>\n",
       "      <td>0.01550</td>\n",
       "      <td>0.480</td>\n",
       "    </tr>\n",
       "    <tr>\n",
       "      <th>2</th>\n",
       "      <td>Mountain beaver</td>\n",
       "      <td>Aplodontia</td>\n",
       "      <td>herbi</td>\n",
       "      <td>Rodentia</td>\n",
       "      <td>nt</td>\n",
       "      <td>14.4</td>\n",
       "      <td>2.4</td>\n",
       "      <td>NaN</td>\n",
       "      <td>9.6</td>\n",
       "      <td>NaN</td>\n",
       "      <td>1.350</td>\n",
       "    </tr>\n",
       "    <tr>\n",
       "      <th>3</th>\n",
       "      <td>Greater short-tailed shrew</td>\n",
       "      <td>Blarina</td>\n",
       "      <td>omni</td>\n",
       "      <td>Soricomorpha</td>\n",
       "      <td>lc</td>\n",
       "      <td>14.9</td>\n",
       "      <td>2.3</td>\n",
       "      <td>0.133333</td>\n",
       "      <td>9.1</td>\n",
       "      <td>0.00029</td>\n",
       "      <td>0.019</td>\n",
       "    </tr>\n",
       "    <tr>\n",
       "      <th>4</th>\n",
       "      <td>Cow</td>\n",
       "      <td>Bos</td>\n",
       "      <td>herbi</td>\n",
       "      <td>Artiodactyla</td>\n",
       "      <td>domesticated</td>\n",
       "      <td>4.0</td>\n",
       "      <td>0.7</td>\n",
       "      <td>0.666667</td>\n",
       "      <td>20.0</td>\n",
       "      <td>0.42300</td>\n",
       "      <td>600.000</td>\n",
       "    </tr>\n",
       "    <tr>\n",
       "      <th>...</th>\n",
       "      <td>...</td>\n",
       "      <td>...</td>\n",
       "      <td>...</td>\n",
       "      <td>...</td>\n",
       "      <td>...</td>\n",
       "      <td>...</td>\n",
       "      <td>...</td>\n",
       "      <td>...</td>\n",
       "      <td>...</td>\n",
       "      <td>...</td>\n",
       "      <td>...</td>\n",
       "    </tr>\n",
       "    <tr>\n",
       "      <th>78</th>\n",
       "      <td>Tree shrew</td>\n",
       "      <td>Tupaia</td>\n",
       "      <td>omni</td>\n",
       "      <td>Scandentia</td>\n",
       "      <td>NaN</td>\n",
       "      <td>8.9</td>\n",
       "      <td>2.6</td>\n",
       "      <td>0.233333</td>\n",
       "      <td>15.1</td>\n",
       "      <td>0.00250</td>\n",
       "      <td>0.104</td>\n",
       "    </tr>\n",
       "    <tr>\n",
       "      <th>79</th>\n",
       "      <td>Bottle-nosed dolphin</td>\n",
       "      <td>Tursiops</td>\n",
       "      <td>carni</td>\n",
       "      <td>Cetacea</td>\n",
       "      <td>NaN</td>\n",
       "      <td>5.2</td>\n",
       "      <td>NaN</td>\n",
       "      <td>NaN</td>\n",
       "      <td>18.8</td>\n",
       "      <td>NaN</td>\n",
       "      <td>173.330</td>\n",
       "    </tr>\n",
       "    <tr>\n",
       "      <th>80</th>\n",
       "      <td>Genet</td>\n",
       "      <td>Genetta</td>\n",
       "      <td>carni</td>\n",
       "      <td>Carnivora</td>\n",
       "      <td>NaN</td>\n",
       "      <td>6.3</td>\n",
       "      <td>1.3</td>\n",
       "      <td>NaN</td>\n",
       "      <td>17.7</td>\n",
       "      <td>0.01750</td>\n",
       "      <td>2.000</td>\n",
       "    </tr>\n",
       "    <tr>\n",
       "      <th>81</th>\n",
       "      <td>Arctic fox</td>\n",
       "      <td>Vulpes</td>\n",
       "      <td>carni</td>\n",
       "      <td>Carnivora</td>\n",
       "      <td>NaN</td>\n",
       "      <td>12.5</td>\n",
       "      <td>NaN</td>\n",
       "      <td>NaN</td>\n",
       "      <td>11.5</td>\n",
       "      <td>0.04450</td>\n",
       "      <td>3.380</td>\n",
       "    </tr>\n",
       "    <tr>\n",
       "      <th>82</th>\n",
       "      <td>Red fox</td>\n",
       "      <td>Vulpes</td>\n",
       "      <td>carni</td>\n",
       "      <td>Carnivora</td>\n",
       "      <td>NaN</td>\n",
       "      <td>9.8</td>\n",
       "      <td>2.4</td>\n",
       "      <td>0.350000</td>\n",
       "      <td>14.2</td>\n",
       "      <td>0.05040</td>\n",
       "      <td>4.230</td>\n",
       "    </tr>\n",
       "  </tbody>\n",
       "</table>\n",
       "<p>83 rows × 11 columns</p>\n",
       "</div>"
      ],
      "text/plain": [
       "                          name       genus   vore         order  conservation  \\\n",
       "0                      Cheetah    Acinonyx  carni     Carnivora            lc   \n",
       "1                   Owl monkey       Aotus   omni      Primates           NaN   \n",
       "2              Mountain beaver  Aplodontia  herbi      Rodentia            nt   \n",
       "3   Greater short-tailed shrew     Blarina   omni  Soricomorpha            lc   \n",
       "4                          Cow         Bos  herbi  Artiodactyla  domesticated   \n",
       "..                         ...         ...    ...           ...           ...   \n",
       "78                  Tree shrew      Tupaia   omni    Scandentia           NaN   \n",
       "79        Bottle-nosed dolphin    Tursiops  carni       Cetacea           NaN   \n",
       "80                       Genet     Genetta  carni     Carnivora           NaN   \n",
       "81                  Arctic fox      Vulpes  carni     Carnivora           NaN   \n",
       "82                     Red fox      Vulpes  carni     Carnivora           NaN   \n",
       "\n",
       "    sleep_total  sleep_rem  sleep_cycle  awake  brainwt   bodywt  \n",
       "0          12.1        NaN          NaN   11.9      NaN   50.000  \n",
       "1          17.0        1.8          NaN    7.0  0.01550    0.480  \n",
       "2          14.4        2.4          NaN    9.6      NaN    1.350  \n",
       "3          14.9        2.3     0.133333    9.1  0.00029    0.019  \n",
       "4           4.0        0.7     0.666667   20.0  0.42300  600.000  \n",
       "..          ...        ...          ...    ...      ...      ...  \n",
       "78          8.9        2.6     0.233333   15.1  0.00250    0.104  \n",
       "79          5.2        NaN          NaN   18.8      NaN  173.330  \n",
       "80          6.3        1.3          NaN   17.7  0.01750    2.000  \n",
       "81         12.5        NaN          NaN   11.5  0.04450    3.380  \n",
       "82          9.8        2.4     0.350000   14.2  0.05040    4.230  \n",
       "\n",
       "[83 rows x 11 columns]"
      ]
     },
     "execution_count": 8,
     "metadata": {},
     "output_type": "execute_result"
    }
   ],
   "source": [
    "csvdata"
   ]
  },
  {
   "cell_type": "code",
   "execution_count": 9,
   "id": "a6de87f6-92aa-42ba-8b54-9a4b83063286",
   "metadata": {},
   "outputs": [
    {
     "data": {
      "text/plain": [
       "pandas.core.frame.DataFrame"
      ]
     },
     "execution_count": 9,
     "metadata": {},
     "output_type": "execute_result"
    }
   ],
   "source": [
    "type(csvdata)"
   ]
  },
  {
   "cell_type": "code",
   "execution_count": 10,
   "id": "33bee5d5-1c2f-4e14-80d3-cd2f4adef86f",
   "metadata": {},
   "outputs": [
    {
     "name": "stdout",
     "output_type": "stream",
     "text": [
      "<class 'pandas.core.frame.DataFrame'>\n",
      "RangeIndex: 83 entries, 0 to 82\n",
      "Data columns (total 11 columns):\n",
      " #   Column        Non-Null Count  Dtype  \n",
      "---  ------        --------------  -----  \n",
      " 0   name          83 non-null     object \n",
      " 1   genus         83 non-null     object \n",
      " 2   vore          76 non-null     object \n",
      " 3   order         83 non-null     object \n",
      " 4   conservation  54 non-null     object \n",
      " 5   sleep_total   83 non-null     float64\n",
      " 6   sleep_rem     61 non-null     float64\n",
      " 7   sleep_cycle   32 non-null     float64\n",
      " 8   awake         83 non-null     float64\n",
      " 9   brainwt       56 non-null     float64\n",
      " 10  bodywt        83 non-null     float64\n",
      "dtypes: float64(6), object(5)\n",
      "memory usage: 7.3+ KB\n"
     ]
    }
   ],
   "source": [
    "csvdata.info()"
   ]
  },
  {
   "cell_type": "code",
   "execution_count": 11,
   "id": "44f90a80-08cd-4aea-870d-54d36e608e73",
   "metadata": {},
   "outputs": [
    {
     "data": {
      "text/plain": [
       "0                        Cheetah\n",
       "1                     Owl monkey\n",
       "2                Mountain beaver\n",
       "3     Greater short-tailed shrew\n",
       "4                            Cow\n",
       "                 ...            \n",
       "78                    Tree shrew\n",
       "79          Bottle-nosed dolphin\n",
       "80                         Genet\n",
       "81                    Arctic fox\n",
       "82                       Red fox\n",
       "Name: name, Length: 83, dtype: object"
      ]
     },
     "execution_count": 11,
     "metadata": {},
     "output_type": "execute_result"
    }
   ],
   "source": [
    "# identifying individual columns\n",
    "csvdata.name"
   ]
  },
  {
   "cell_type": "code",
   "execution_count": 12,
   "id": "fe067e2d-ce1a-4b5a-9114-2f6ddbcbb606",
   "metadata": {},
   "outputs": [
    {
     "data": {
      "text/plain": [
       "0      50.000\n",
       "1       0.480\n",
       "2       1.350\n",
       "3       0.019\n",
       "4     600.000\n",
       "       ...   \n",
       "78      0.104\n",
       "79    173.330\n",
       "80      2.000\n",
       "81      3.380\n",
       "82      4.230\n",
       "Name: bodywt, Length: 83, dtype: float64"
      ]
     },
     "execution_count": 12,
     "metadata": {},
     "output_type": "execute_result"
    }
   ],
   "source": [
    "csvdata.bodywt"
   ]
  },
  {
   "cell_type": "code",
   "execution_count": null,
   "id": "98e5c3ab-aaca-4e55-99c1-b422f3c5a9a6",
   "metadata": {},
   "outputs": [],
   "source": [
    "# DataFrame.ColumnName -> returns the column"
   ]
  },
  {
   "cell_type": "code",
   "execution_count": 13,
   "id": "f0ebf960-01c5-4ac6-b2b9-b53b42fd2a9f",
   "metadata": {},
   "outputs": [],
   "source": [
    "# create a dataframe using a dictionary\n",
    "newdata=[{'name': 'Cheetah',\n",
    "  'genus': 'Acinonyx',\n",
    "  'vore': 'carni',\n",
    "  'order': 'Carnivora',\n",
    "  'conservation': 'lc',\n",
    "  'sleep_total': '12.1',\n",
    "  'sleep_rem': 'NA',\n",
    "  'sleep_cycle': 'NA',\n",
    "  'awake': '11.9',\n",
    "  'brainwt': 'NA',\n",
    "  'bodywt': '50'},\n",
    " {'name': 'Owl monkey',\n",
    "  'genus': 'Aotus',\n",
    "  'vore': 'omni',\n",
    "  'order': 'Primates',\n",
    "  'conservation': 'NA',\n",
    "  'sleep_total': '17',\n",
    "  'sleep_rem': '1.8',\n",
    "  'sleep_cycle': 'NA',\n",
    "  'awake': '7',\n",
    "  'brainwt': '0.0155',\n",
    "  'bodywt': '0.48'},\n",
    " {'name': 'Mountain beaver',\n",
    "  'genus': 'Aplodontia',\n",
    "  'vore': 'herbi',\n",
    "  'order': 'Rodentia',\n",
    "  'conservation': 'nt',\n",
    "  'sleep_total': '14.4',\n",
    "  'sleep_rem': '2.4',\n",
    "  'sleep_cycle': 'NA',\n",
    "  'awake': '9.6',\n",
    "  'brainwt': 'NA',\n",
    "  'bodywt': '1.35'}]"
   ]
  },
  {
   "cell_type": "code",
   "execution_count": 14,
   "id": "dc29cf64-94e0-48d2-8706-fafc5c97bb52",
   "metadata": {},
   "outputs": [],
   "source": [
    "newdata = pd.DataFrame(newdata)"
   ]
  },
  {
   "cell_type": "code",
   "execution_count": 15,
   "id": "93d9d2d5-d56d-4d31-ab78-a03bbf7d7722",
   "metadata": {},
   "outputs": [
    {
     "data": {
      "text/html": [
       "<div>\n",
       "<style scoped>\n",
       "    .dataframe tbody tr th:only-of-type {\n",
       "        vertical-align: middle;\n",
       "    }\n",
       "\n",
       "    .dataframe tbody tr th {\n",
       "        vertical-align: top;\n",
       "    }\n",
       "\n",
       "    .dataframe thead th {\n",
       "        text-align: right;\n",
       "    }\n",
       "</style>\n",
       "<table border=\"1\" class=\"dataframe\">\n",
       "  <thead>\n",
       "    <tr style=\"text-align: right;\">\n",
       "      <th></th>\n",
       "      <th>name</th>\n",
       "      <th>genus</th>\n",
       "      <th>vore</th>\n",
       "      <th>order</th>\n",
       "      <th>conservation</th>\n",
       "      <th>sleep_total</th>\n",
       "      <th>sleep_rem</th>\n",
       "      <th>sleep_cycle</th>\n",
       "      <th>awake</th>\n",
       "      <th>brainwt</th>\n",
       "      <th>bodywt</th>\n",
       "    </tr>\n",
       "  </thead>\n",
       "  <tbody>\n",
       "    <tr>\n",
       "      <th>0</th>\n",
       "      <td>Cheetah</td>\n",
       "      <td>Acinonyx</td>\n",
       "      <td>carni</td>\n",
       "      <td>Carnivora</td>\n",
       "      <td>lc</td>\n",
       "      <td>12.1</td>\n",
       "      <td>NA</td>\n",
       "      <td>NA</td>\n",
       "      <td>11.9</td>\n",
       "      <td>NA</td>\n",
       "      <td>50</td>\n",
       "    </tr>\n",
       "    <tr>\n",
       "      <th>1</th>\n",
       "      <td>Owl monkey</td>\n",
       "      <td>Aotus</td>\n",
       "      <td>omni</td>\n",
       "      <td>Primates</td>\n",
       "      <td>NA</td>\n",
       "      <td>17</td>\n",
       "      <td>1.8</td>\n",
       "      <td>NA</td>\n",
       "      <td>7</td>\n",
       "      <td>0.0155</td>\n",
       "      <td>0.48</td>\n",
       "    </tr>\n",
       "    <tr>\n",
       "      <th>2</th>\n",
       "      <td>Mountain beaver</td>\n",
       "      <td>Aplodontia</td>\n",
       "      <td>herbi</td>\n",
       "      <td>Rodentia</td>\n",
       "      <td>nt</td>\n",
       "      <td>14.4</td>\n",
       "      <td>2.4</td>\n",
       "      <td>NA</td>\n",
       "      <td>9.6</td>\n",
       "      <td>NA</td>\n",
       "      <td>1.35</td>\n",
       "    </tr>\n",
       "  </tbody>\n",
       "</table>\n",
       "</div>"
      ],
      "text/plain": [
       "              name       genus   vore      order conservation sleep_total  \\\n",
       "0          Cheetah    Acinonyx  carni  Carnivora           lc        12.1   \n",
       "1       Owl monkey       Aotus   omni   Primates           NA          17   \n",
       "2  Mountain beaver  Aplodontia  herbi   Rodentia           nt        14.4   \n",
       "\n",
       "  sleep_rem sleep_cycle awake brainwt bodywt  \n",
       "0        NA          NA  11.9      NA     50  \n",
       "1       1.8          NA     7  0.0155   0.48  \n",
       "2       2.4          NA   9.6      NA   1.35  "
      ]
     },
     "execution_count": 15,
     "metadata": {},
     "output_type": "execute_result"
    }
   ],
   "source": [
    "newdata"
   ]
  },
  {
   "cell_type": "code",
   "execution_count": 17,
   "id": "7a162250-b77b-44fc-8c5f-9622067d4559",
   "metadata": {},
   "outputs": [
    {
     "data": {
      "text/html": [
       "<div>\n",
       "<style scoped>\n",
       "    .dataframe tbody tr th:only-of-type {\n",
       "        vertical-align: middle;\n",
       "    }\n",
       "\n",
       "    .dataframe tbody tr th {\n",
       "        vertical-align: top;\n",
       "    }\n",
       "\n",
       "    .dataframe thead th {\n",
       "        text-align: right;\n",
       "    }\n",
       "</style>\n",
       "<table border=\"1\" class=\"dataframe\">\n",
       "  <thead>\n",
       "    <tr style=\"text-align: right;\">\n",
       "      <th></th>\n",
       "      <th>Names</th>\n",
       "    </tr>\n",
       "  </thead>\n",
       "  <tbody>\n",
       "    <tr>\n",
       "      <th>0</th>\n",
       "      <td>brinjal</td>\n",
       "    </tr>\n",
       "    <tr>\n",
       "      <th>1</th>\n",
       "      <td>okra</td>\n",
       "    </tr>\n",
       "    <tr>\n",
       "      <th>2</th>\n",
       "      <td>bottleguard</td>\n",
       "    </tr>\n",
       "    <tr>\n",
       "      <th>3</th>\n",
       "      <td>kothmir</td>\n",
       "    </tr>\n",
       "  </tbody>\n",
       "</table>\n",
       "</div>"
      ],
      "text/plain": [
       "         Names\n",
       "0      brinjal\n",
       "1         okra\n",
       "2  bottleguard\n",
       "3      kothmir"
      ]
     },
     "execution_count": 17,
     "metadata": {},
     "output_type": "execute_result"
    }
   ],
   "source": [
    "pd.DataFrame(['brinjal', 'okra', 'bottleguard', 'kothmir'],columns=['Names'])"
   ]
  },
  {
   "cell_type": "code",
   "execution_count": null,
   "id": "4a76f8c1-4da8-493d-9b0e-e73a8bc0bd34",
   "metadata": {},
   "outputs": [],
   "source": []
  },
  {
   "cell_type": "code",
   "execution_count": null,
   "id": "e36762e2-9196-4b1b-b9bb-aa323554612a",
   "metadata": {},
   "outputs": [],
   "source": []
  }
 ],
 "metadata": {
  "kernelspec": {
   "display_name": "Python 3 (ipykernel)",
   "language": "python",
   "name": "python3"
  },
  "language_info": {
   "codemirror_mode": {
    "name": "ipython",
    "version": 3
   },
   "file_extension": ".py",
   "mimetype": "text/x-python",
   "name": "python",
   "nbconvert_exporter": "python",
   "pygments_lexer": "ipython3",
   "version": "3.11.7"
  }
 },
 "nbformat": 4,
 "nbformat_minor": 5
}

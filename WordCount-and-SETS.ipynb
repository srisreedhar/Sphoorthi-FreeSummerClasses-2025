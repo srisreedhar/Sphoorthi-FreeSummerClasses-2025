{
 "cells": [
  {
   "cell_type": "code",
   "execution_count": 1,
   "id": "d7cdf97b-b877-4126-8cff-ef08879f8362",
   "metadata": {},
   "outputs": [],
   "source": [
    "import requests\n",
    "import os"
   ]
  },
  {
   "cell_type": "code",
   "execution_count": 2,
   "id": "020d6bff-2b42-400e-bb3a-d61fe5c3cf36",
   "metadata": {},
   "outputs": [],
   "source": [
    "url=\"https://ia800200.us.archive.org/27/items/romeojuliet01shak/romeojuliet01shak_djvu.txt\""
   ]
  },
  {
   "cell_type": "code",
   "execution_count": null,
   "id": "3bffbcb7-dfd3-4a99-a4f9-9a86cc3190b6",
   "metadata": {},
   "outputs": [],
   "source": [
    "# resp = requests.get(url)\n",
    "# data = resp.text"
   ]
  },
  {
   "cell_type": "code",
   "execution_count": 3,
   "id": "56c8f982-e5bb-40ba-ab19-3897c5797b4f",
   "metadata": {},
   "outputs": [],
   "source": [
    "resp = requests.get(url).text"
   ]
  },
  {
   "cell_type": "code",
   "execution_count": 4,
   "id": "a83fae97-8e1b-4625-8705-61526dd60b7e",
   "metadata": {},
   "outputs": [
    {
     "data": {
      "text/plain": [
       "'ROMEO  AND  JULIET. \\n\\n\\nGreen  Room  Sdition \\n\\n\\nRomeo  and  Juliet \\n\\nBy \\n\\nWilliam  Shakespeare \\n\\n\\nIllustrated  by  photographs  from  life  of  Maude  Adams, \\nand  oth^r  members  of  her  company,  by  Byron  and \\nSarony,  and  also  by  illtistrations  by  Andriolli    ^    «^ \\n\\n\\nNew  York  and  Boston  ^    ^ \\n\\nH.  M.  Caldwell  Company \\n^     S     ,^     ^     ,^     Publishers \\n\\n\\nL- \\n\\n\\n38524 \\n\\n^ * t>pa^y  of  cJ^^Jil^ \\n\\n\"two  CopiFs  Recfived \\n\\nAUG  20  1900 \\n\\nCopyright  entry \\n\\n10^  t(^  S^ \\n\\n\\nSECOND  copy. \\n\\nDelivered  to \\n\\nOROLR  DIVISION, \\n\\nSEP    6    1900 \\n\\n\\nCopyright,  i88y. \\nBy  Samuel  E.  Cassino. \\n\\nCopyright,  igoo. \\nBy  H.  M.  Caldwell  Co. \\n\\n\\n74121 \\n\\n\\nRomeo  and  Juliet \\n\\n\\nFacsimile \\n\\n\\nOF    THE \\n\\n\\nORIGINAL     PROGRAMME \\n\\n\\nTHE    CAST \\n\\nAs  -produced  at  the  Empire  \\'Theatre^  New  Tork^  May  8th,  iSgg. \\n\\nMiss  Maude  Adams,  in  a  special  production  of  Shakespeare\\'s \\ntragedy  of  \"  Romeo  and  Juliet,\"  with  William  Faversham  as \\nRomeo,  and  James  K.  Hackett  as  Mercutio.  (By  arrangement \\nwith  Daniel  Frohman.) \\n\\n\\nDRAMATIS     PERSONS. \\n\\nEscALUs,  prince  of  Verona \\n\\nParis,  a  young  nobleman,  kinsman  to  the \\n\\nprince \\nMontague  )  heads    of  two    houses    at  J \\nCapulet       \\\\  variance  with   each   other  [ \\nAn  Old   Man,  of  the  Capulet  family \\nRomeo,  son  to  Montague \\nMercutio,  kinsman   to   the   prince,   and \\n\\nfriend  to  Romeo \\nBenvolio,     nephew    to    Montague,    and \\n\\nfriend  to   Romeo \\n\\nTybalt,  nephew  to  Lady  Capulet \\n\\nFriar    Laurence,  a  Franciscan \\n\\nFriar  John,  of  the  same  order \\n\\nBalthazar,  servant  to  Romeo \\n\\nSampson  ]  ^    ^    /-       i  ^ \\n\\n>  servants  to  Capulet \\nGregory  ) \\n\\nPeter,  servant  to  Juliet\\'s  nurse \\n\\nAbraham,  servant  to  Montague \\n\\nAn  Apothecary \\n\\n\\nGeorge  Fawcett \\n\\nOrrin  Johnson \\n\\nW.  H.  Crompton \\n\\nEugene  Jepson \\n\\nFrederick  Spencer \\n\\nWilliam  Faversham \\n\\nJames  K.  Hackett \\n\\n\\nJos.  Francoeur \\n\\nCampbell  Gollan \\n\\nW.  H.  Thompson \\n\\nGeo.  Osborne,  Jr. \\n\\nG.  H.  Howard \\n\\nWallace  Jackson \\n\\nThomas  Valentine \\n\\nR.  Peyton  Carter \\n\\nGeorge  Irving \\n\\nNorman  Campbell \\n\\n\\nLady  Capulet,  wife  to  Capulet  •     Miss  Helen  Morgan \\n\\nJuliet,  daughter  to  Capulet  Miss  Maude  Adams \\n\\nNurse  to  Juliet  Mrs.  W.  G.  Jones \\n\\nPages  to  Paris,  Mercutio,  Capulet,  etc. ;   Citizens  of \\n\\nVerona,   Kinsfolk  of  both  houses.  Maskers,  Guards,  Musicians \\n\\nand  Attendants. \\n\\n\\nSCENE  — Verona,  Mantua. \\n\\nThe  FIRST  ACT  Scene  i \\n\\nScene  2 \\n\\nScene  3 \\n\\nScene  4 \\n\\nThe  SECOND  ACT  Scene  i \\n\\nScene  2 \\nScene  3 \\nrbe  THIRD  ACT  Scene  i \\nScene  2 \\nScene  3 \\nThe  FOURTH  ACT  Scene  i \\n\\nScene  2 \\nScene  3 \\nThe  FIFTH  ACT  Scene  i \\nScene  2 \\nScene  3 \\n\\n\\nPERIOD— 14th  Century. \\n\\nVerona.     A  public  place. \\nBefore  Capulet\\'s  house. \\nHall  in  Capulet\\'s  house. \\nCapulet\\'s  garden. \\nFriar  Laurence\\'s  cell. \\nA  street. \\n\\nCapulet\\'s  garden. \\nFriar  Laurence\\'s  cell. \\nA  street. \\n\\nFriar  Laurence\\'s  cell. \\nJuliet\\'s  Chamber. \\nFriar  Laurence\\'s  cell. \\nJuliet\\'s  Chamber. \\nMantua.     A  street. \\nVerona.     A  churchyard. \\nTomb  of  the  Capulets. \\n\\n\\nProduced  under  the  stage  direction  of  William  Seymour. \\n\\n\\nDKAMATIS  PEESON^. \\n\\n\\nEscALUS,  prince  of  Verona. \\nParis,  a  young  nobleman,  kinsman \\nto  the  prince. \\n\\n■J  heads  of  two  houses  at \\nMontague,  (  .  .,.      „  . \\n\\n>  variance  with  each \\nCapulet,     \\\\        ., \\n\\nJ      other. \\n\\nAn  old  man  of  the  Capulet  family. \\nRomeo,  son  to  Montague. \\nMercutio,  kinsman  to  the   prince, \\n\\nand  friend  to  Romeo. \\nBenvolio,    nephew    to    Montague, \\n\\nand  friend  to  Romeo. \\nTybalt,  nephew  to  Lady  Capulet. \\nFriar  Laurence, \\nFriar  John, \\n\\nBalthasar,  servant  to  Romeo. \\nSajipson, \\nGregory. \\n\\n\\nFranciscans. \\n\\n\\nservants  to  Capulet. \\n\\n\\nPeter,  servant  to  Juliet\\'s  nurse. \\nAbram,  servant  to  Montague. \\nAn  Apothecary. \\nThree  Musicians. \\n\\nPage  to  Paris;  another  Page;  an \\nOfficer. \\n\\nLady  Montague,  wife  to  Montague. \\nLady  Capulet,  wife  to  Capulet. \\nJuliet,  daughter  to  Capulet. \\nNurse  to  Juliet. \\n\\nCitizens  of  Verona;  Kinsfolk  of  both \\nhouses;  Maskers,  Guards,  \"Watch- \\nmen, and  Attendants. \\n\\nChorus. \\n\\nScene  :  Verona ;  Mantua. \\n\\n\\nPROLOGUE. \\n\\n\\nTwo  households,  both  alike  in  dignity, \\n\\nIn  fair  Verona,  where  we  lay  our  scene, \\nFrom  ancient  grudge  break  to  new  mutiny. \\n\\nWhere  civil  blood  makes  civil  hands  unclean. \\nFrom  forth  the  fatal  loins  of  these  two  foes \\n\\nA  pair  of  star-cross\\'d  lovers  take  their  life, \\nWhose  misadventur\\'d  piteous  overthrows \\n\\nDoth  with  their  death  bury  their  parents\\'  strife. \\nThe  fearful  passage  of  their  death-mark\\'d  love. \\n\\nAnd  the  continuance  of  their  parents\\'  rage. \\nWhich,  but  their  children\\'s  end,  nought  could  remove, \\n\\nIs  now  the  two  hours\\'  traffic  of  our  stage ; \\nThe  which  if  you  with  patient  ears  attend. \\nWhat  here  shall  miss,  our  toil  shall  strive  to  mend. \\n\\n\\nROMEO  AND  JULIET. \\n\\n\\nACT   I. \\n\\nScene  I.     Verona.     A  Public  Place. \\n\\nEnter  Sampson  and  Gregory,  of  the  house  of  Capidet, \\nwith  sivords  and  bucklers. \\n\\nSampson.  Gregory,  on  my  word,  we\\'ll  not  carry  coals. \\n\\nGregory.  No,  for  then  we  should  be  colliers. \\n\\nSampson.  I  mean,  an  we  be  in  choler,  we\\'ll  draw. \\n\\nGregory.  Ay,  while  you  live,  draw  your  neck  out  o\\' \\nthe  collar. \\n\\nSam.pson.  I  strike  quickly,  being  moved. \\n\\nGregory.  But  thou  art  not  quickly  moved  to  strike. \\n\\nSampson.  A  dog  of  the  house  of  Montague  moves  me. \\n\\nGregory.  To  move  is  to  stir,  and  to  be  valiant  is  to \\nstand ;  therefore,  if  thou  art  moved,  thou  runn\\'st  away. \\n\\nSampson.  A  dog  of  that  house  shall  move  me  to  stand; \\nI  will  take  the  wall  of  any  man  or  maid  of  Montague\\'s. \\n\\nGregory.  That  shows  thee  a  weak  slave ;  for  the  weak- \\nest goes  to  the  wall. \\n\\nSampson.  True;  and  therefore  women,  being  the  weaker \\nvessels,  are  ever  thrust  to  the  wall :  therefore  I  will  push \\n\\n9 \\n\\n\\n10  BOMEO  AND  JULIET. \\n\\nMontague\\'s  men  from  the  wall,  and  thrust  his  maids  to \\nthe  wall. \\n\\nGregory.  The  quarrel  is  between  our  masters  and  us \\ntheir  men. \\n\\nSampson.  \\'Tis  all  one,  I  will  show  myself  a  tyrant ; \\nwhen  I  have  fought  with  the  men,  I  will  be  cruel  with \\nthe  maids,  and  cut  oif  their  heads. \\n\\nGregory.  Draw  thy  tool ;  here  comes  two  of  the  house \\nof  the  Montagues. \\n\\nSampson.  My  naked  weapon  is  out;  quarrel,  I  will \\nback  thee. \\n\\nGregory.  How  ?  turn  thy  back  and  run  ? \\n\\nSampson.  Fear  me  not. \\n\\nGregory.  No,  marry ;  I  fear  thee  ! \\n\\nSampson.  Let  us  take  the  law  of  our  sides ;  let  them \\nbegin. \\n\\nGregory.  T  will  frown  as  I  pass  by,  and  let  them  take \\nit  as  they  list. \\n\\nSampson.  Nay,  as  they  dare.  I  will  bite  my  thumb \\nat  them ;  which  is  a  disgrace  to  them,  if  they  bear  it. \\n\\nEnter  Abram  and  Balthasak. \\n\\nAbram.  Do  you  bite  your  thumb  at  us,  sir  ? \\nSampson.  I  do  bite  my  thumb,  sir. \\nAbram.  Do  you  bite  your  thumb  at  us,  sir  ? \\nSampson.  [Aside  to  Gregory\"]  Is  the  law  of  our  side  if \\nI  say  ay  ? \\n\\n\\nEOMEO  AND  JULIET.  H \\n\\nGregory.  No. \\n\\nSampson.  No,  sir,  I  do  not  bite  my  thumb  at  you,  sir, \\nbut  I  bite  my  thumb,  sir. \\n\\nGregory.  Do  you  quarrel,  sir  ? \\n\\nAbram.  Quarrel,  sir !  no,  sir. \\n\\nSampson.  If  you  do,  sir,  I  am  for  you ;  I  serve  as  good \\na  man  as  you. \\n\\nAbram.  No  better. \\n\\nSampson.  Well,  sir. \\n\\nGregory.  [^Aside  to  Sampson^  Say  \"better;\"  here  comes \\none  of  my  master\\'s  kinsmen. \\n\\nSampson.  Yes,  better,  sir. \\n\\nAbram.  You  lie. \\n\\nSampson.  Draw,  if  you  be  men.  —  Gregory,  remember \\nthy  swashing  blow.  ■     \\\\_They  fight. \\n\\nEnter  Benvolio. \\n\\nBenvoUo.  Part,  fools ! \\nPut  up  your  swords ;  you  know  not  what  you  do. \\n\\n[Beats  down  their  swords. \\n\\nEnter  Tybalt. \\n\\nTybalt.  What,  art  thou  drawn  among  these  heartless \\nhinds  ? \\nTurn  thee,  Benvolio,  look  upon  thy  death. \\n\\nBenvolio.  I  do  but  keep  the  peace  ;  put  up  thy  sword, \\nOr  manage  it  to  part  these  men  with  me. \\n\\n\\n12  BOjIEO  and  JULIET. \\n\\nTybalt.  What,  drawn,  and  talk  of  peace !  I  hate  the \\n\"word, \\nAs  I  hate  hell,  all  Montagues,  and  thee ; \\nHave  at  thee,  coward  !  \\\\_Tliey  fight. \\n\\nEnter  several  of  both   houses,  who  join  the  fray;  then \\nenter  Citizens,  with  clubs. \\n\\nFirst  Citizen.  Clubs,  bills,  and  partisans  !  strike  !  beat \\nthem  down ! \\nDown  with  the  Capulets  !  down  with  the  Montagues  ! \\n\\nEnter  Capulet  in  his  gotvn,  and  Lady  Capulet. \\n\\nCapulet.  What   noise    is   this  ?      Give   nie    my    long \\n\\nsword,  ho  ! \\nLady  Caindet.  A  crutch,  a  crutch !  why  call  you  for \\n\\na  sword  ? \\nCaindet.  My  sword,  I  say  !     Old  Montague  is  come. \\nAnd  flourishes  his  blade  in  spite  of  me. \\n\\nEnter  Montague  and  Lady  Montague. \\n\\n2Iontacjue.  Thou  villain  Capulet!  —  Hold  me  not,  le^. \\n\\nme  go. \\nLady  Montague.  Thou  shalt  not  stir  a  foot  to  seek  a \\n\\nfoe. \\n\\nEnter  Prince,  tvith  his  train. \\n\\nPrince.  Rebellious  subjects,  enemies  to  peace, \\nProfaners  of  this  neighbor-stained  steel, — \\n\\n\\nROMEO  AND  JULIET.  13 \\n\\nWill  they  not  hear  ?     What,  ho !  you  men,  you  beasts, \\n\\nThat  quench  the  fire  of  your  pernicious  rage \\n\\nWith  purple  fountains  issuing  from  your  veins, \\n\\nOn  pain  of  torture,  from  those  bloody  hands \\n\\nThrow  your  mistemper\\'d  weapons  to  the  ground, \\n\\nAnd  hear  the  sentence  of  your  moved  prince.  — \\n\\nThree  civil  brawls,  bred  of  an  airy  word. \\n\\nBy  thee,  old  Capulet,  and  Montague, \\n\\nHave  thrice  disturbed  the  quiet  of  our  streets, \\n\\nAnd  made  Verona\\'s  ancient  citizens \\n\\nCast  by  their  grave  beseeming  ornaments. \\n\\nTo  wield  old  partisans,  in  hands  as  old, \\n\\nCanker\\'d  with  peace,  to  part  your  canker\\'d  hate. \\n\\nIf  ever  you  disturb  our  streets  again. \\n\\nYour  lives  shall  pay  the  forfeit  of  the  peace. \\n\\nFor  this  time,  all  the  rest  depart  away : \\n\\nYou,  Capulet,  shall  go  along  with  me ; \\n\\nAnd,  Montague,  come  you  this  afternoon, \\n\\nTo  know  our  further  pleasure  in  this  case, \\n\\nTo  old  Freetown,  our  common  judgment-place. \\n\\nOnce  more,  on  pain  of  death,  all  men  depart. \\n\\n^Exeunt  all  but  Montague,  Lady  3Iontague,  and  Benvolio. \\n\\nMontague.  Who  set  this  ancient  quarrel  new  abroach  ? \\nSpeak,  nephew,  were  you  by  when  it  began  ? \\n\\nBenvolio.  Here  were  the  servants  of  your  adversary \\nAnd  yours  close  fighting  ere  I  did  approach. \\nI  drew  to  part  them :  in  the  instant  came \\n\\n\\n14-  BOMEO  AND  JULIET. \\n\\nThe  fiery  Tybalt,  with  his  sword  prepar\\'d ; \\nWhich,  as  he  breath\\'d  defiance  to  my  ears, \\nHe  swung  about  his  head  and  cut  the  winds, \\nWho,  nothing  hurt  withal,  hiss\\'d  him  in  scorn. \\nWhile  we  were  interchanging  thrusts  and  blows. \\nCame  more  and  more,  and  fought  on  part  and  part. \\nTill  the  prince  came,  who  parted  either  part. \\n\\nLady  Montague.  0,  where  is  Eomeo  ?  saw  you  him \\nto-day  ? \\nRight  glad  I  am  he  was  not  at  this  fray. \\n\\nBenvolio.  Madam,  an  hour  before  the  worshipp\\'d  sun \\nPeer\\'d  forth  the  golden  window  of  the  east, \\nA  troubled  mind  drave  me  to  walk  abroad ; \\nWhere,  underneath  the  grove  of  sycamore \\nThat  westward  rooteth  from  the  city\\'s  side. \\nSo  early  walking  did  I  see  your  son. \\nTowards  him  I  made,  but  he  was  ware  of  me \\nAnd  stole  into  the  covert  of  the  wood ; \\nI,  measuring  his  affections  by  my  own. \\nWhich  then  most  sought  where  most  might  not  be  found, \\nBeing  one  too  many  by  my  weary  self, \\nPursued  my  humor  not  pursuing  his. \\nAnd  gladly  shunn\\'d  who  gladly  fled  from  me. \\n\\nMontague.  Many  a  morning  hath  he  there  been  seen \\nWith  tears  augmenting  the  fresh  morning\\'s  dew, \\nAdding  to  clouds  more  clouds  with  his  deep  sighs  ; \\nBut  all  so  soon  as  the  all-cheering  sun \\n\\n\\nROMEO  AND  JULIET.  15 \\n\\nShould  in  the  farthest  east  begin  to  draw \\nThe  shady  curtains  from  Aurora\\'s  bea, \\nAway  from  light  steals  home  my  heavy  son, \\nAnd  private  in  his  chamber  pens  himself, \\nShuts  up  his  window,  locks  fair  daylight  out, \\nAnd  makes  himself  an  ar|;ificial  night. \\nBlack  and  portentous  must  this  humor  prove. \\nUnless  good  counsel  may  the  cause  remove. \\n\\nBenvolio.  My  noble  uncle,  do  you  know  the  cause  ? \\n\\nMontague.  I  neither  know  it  nor  can  learn  of  him. \\n\\nBenvolio.  Have  you  importun\\'d  him  by  any  means  ? \\n\\nMontague.  Both  by  myself  and  many  other  friends ; \\nBut  he,  his  own  affections\\'  counsellor. \\nIs  to  himself  —  I  will  not  say  how  true  — \\nBut  to  himself  so  secret  and  sd  close, \\nSo  far  from  sounding  and  discovery. \\nAs  is  the  bud  bit  with  an  envious  worm, \\nEre  he  can  spread  his  sweet  leaves  to  the  air, \\nOr  dedicate  his  beauty  to  the  sun. \\nCould  we  but  learn  from  whence  his  sorrows  grow \\nWe  would  as  willingly  give  cure  as  know. \\n\\nEnter  Eomeo. \\n\\nBenvolio.  See,  where  he  comes :   so  please  you,  step \\naside ; \\nI\\'ll  know  his  grievance,  or  be  much  deniea. \\n\\n\\n15\\'  BOMEO  AND  JULIET. \\n\\nMontague.  I  would  tliou  wert  so  happy  by  tliy  stay, \\nTo  hear  true  slirif t.  —  Come,  madam,  let\\'s  away. \\n\\n[^Exeunt  Montague  and  Lady. \\n\\nBenvolio.  Good  morrow,  cousin. \\n\\nRomeo.  Is  the  day  so  young  ? \\n\\nBenvolio.  But  new  struck  nine. \\n\\nRomeo.  Ay  me  !  sad  hours  seem  long. \\n\\nWas  that  my  father  that  went  hence  so  fast  ? \\n\\nBenvolio.  It  was.     What  sadness  lengthens   Borneo\\'s \\nhours  ? \\n\\nRomeo.  Not  having  that  which,  having,  makes  them \\nshort. \\n\\nBenvolio.  In  love  ? \\n\\nRomeo.  Out  — \\n\\nBenvolio.  Of  love  ? \\n\\nRomeo.  Out  of  her  favor,  where  I  am  in  love. \\n\\nBenvolio.  Alas,  that  love,  so  gentle  in  his  view, \\nShould  be  so  tyrannous  and  rough  in  proof ! \\n\\nRomeo.  Alas,  that  love,  whose  view  is  muffled  still, \\nShould  without  eyes  see  pathways  to  his  will ! \\nWhere  si:  all  we  dine  ?  —  O  me  !  what  fray  was  here  ? \\nYet  tell  me  not,  for  I  have  heard  it  all. \\nHere\\'s  much  to  do  with  hate,  but  more  with  love. \\nWhy,  then,  0  brawling  love  !  0  loving  hate  ! \\nO  anything,  of  nothing  first  created ! \\n0  heavy  lightness  !  serious  vanity ! \\nIMisshapen  chaos  of  well-seeming  forms \\' \\n\\n\\nROMEO  AND  JULIET.  17 \\n\\nFeather  of  lead,  bright  smoke,  cold  fire,  sick  health ! \\nStill-waking  sleep,  that  is  not  what  it  is ! \\nThis  love  feel  I,  that  feel  no  love  in  this. \\nDost  thou  not  laugh  ? \\n\\nBenvolw,  No,  coz,  I  rather  weep. \\n\\nRomeo.  Good  heart,  at  what  ? \\n\\nBenvolio.  At  thy  good  heart\\'s  oppression. \\n\\nRomeo.  Why,  such  is  love\\'s  transgression. \\nGriefs  of  mine  own  lie  heavy  in  my  breast, \\nWhich  thou  wilt  propagate,  to  have  it  prest \\nWith  more  of  thine ;  this  love  that  thou  hast  shown \\nDoth  add  more  grief  to  too  much  of  mine  own. \\nLove  is  a  smoke  rais\\'d  with  the  fume  of  sighs : \\nBeing  purg\\'d,  a  fire  sparkling  in  lovers\\'  eyes ; \\nBeing  vex\\'d,  a  sea  nourish\\'d  with  lovers\\'  tears ; \\nWhat  is  it  else  ?  a  madness  most  discreet, \\nA  choking  gall,  and  a  preserving  sweet. \\nFarewell,  my  coz. \\n\\nBenvolio.  Soft !  I  will  go  along ; \\n\\nAn  if  you  leave  me  so,  you  do  me  wrong. \\n\\nRomeo.  Tut,  I  have  lost  myself  ;  I  am  not  here : \\nThis  is  not  Romeo,  he\\'s  some  other  where. \\n\\nBenvolio.  Tell  me  in  sadness  who  is  that  you  love. \\n\\nRomeo.  What,  shall  I  groan  and  tell  thee  ? \\n\\nBenvolio.  Groan  !  why,  no  ; \\n\\nBut  sadly  tell  me  who. \\n\\nRomeo.  Bid  a  sick  man  in  sadness  make  his  will; \\n\\n\\n18  ROMEO  AND  JULIET. \\n\\nAh,  word  ill  urg\\'d  to  one  that  is  so  ill ! \\nIn  sadness,  cousin,  I  do  love  a  woman. \\n\\nBenvolio.  I  aini\\'d  so  near  when  I  suppos\\'d  you  lov\\'d. \\n\\nRomeo.  A  right  good  mark-man  !    And  she\\'s  fair  I  love. \\n\\nBenvolio.  A  right  fair  mark,  fair  coz,  is  soonest  hit. \\n\\nRomeo.  Well,  in  that  hit  you  miss  :  she\\'ll  not  be  hit \\nWith  Cupid\\'s  arrow  ;  she  hath  Dian\\'s  wit. \\nAnd,  in  strong  proof  of  chastity  well  arm\\'d, \\nFrom  love\\'s  weak  childish  bow  she  lives  unharm\\'d. \\nShe  will  not  stay  the  siege  of  loving  terms. \\nNor  bide  the  encounter  of  assailing  eyes, \\nNor  ope  her  lap  to  saint-seducing  gold ; \\n0,  she  is  rich  in  beauty  !  only  poor \\nThat,  when  she  dies,  with  beauty  dies  her  store. \\n\\nBenvolio.  Then  she  hath  sworn  that  she  will  still  live \\nchaste  ? \\n\\nRomeo.  She  hath,  and  in  that   sparing  makes   huge \\nwaste ; \\nFor  beauty  starv\\'d  with  her  severity \\nCuts  beauty  off  from  all  prosperity. \\nShe  is  too  fair,  too  wise,  wisely  too  fair, \\nTo  merit  bliss  by  making  me  despair  ; \\nShe  hath  forsworn  to  love,  and  in  that  vow \\nDo  I  live  dead  that  live  to  tell  it  now. \\n\\nBenvolio.  Be  rul\\'d  by  me,  forget  to  think  of  her. \\n\\nRomeo.  0,  teach  me  how  I  should  forget  to  think. \\n\\nBenvolio.  By  giving  liberty  unto  thine  eyes  ; \\nExamine  other  beauties. \\n\\n\\nROMEO  AND  JULIET.  ig \\n\\nRomeo.  \\'Tis  the  way \\n\\nTo  call  hers,  exquisite,  in  question  more. \\nThese  happy  masks  that  kiss  fair  ladies\\'  brows, \\nBeing  black,  put  us  in  mind  they  hide  the  fair; \\nHe  that  is  strucken  blind  cannot  forget \\nThe  precious  treasure  of  his  eyesight  lost. \\nShow  me  a  mistress  that  is  passing  fair. \\nWhat  doth  her  beauty  serve  but  as  a  note \\nWhere  I  may  read  who  pass\\'d  that  passing  fair  ? \\nFarewell ;  thou  canst  not  teach  me  to  forget. \\n\\nBenvolio.  I\\'ll  pay  that  doctrine,  or  else  die  in  debt. \\n\\n[Exeunt^ \\n\\nScene  II.     A  Street. \\nEnter  Capulet,  Paris,  and  Servant. \\n\\nCapulet.  But  Montague  is  bound  as  well  as  I, \\nIn  penalty  alike  ;  and  \\'tis  not  hard,  I  think, \\nFor  men  so  old  as  we  to  keep  the  peace. \\n\\nParis.  Of  honorable  reckoning  are  you  both ; \\nAnd  pity  \\'tis  you  liv\\'d  at  odds  so  long. \\nBut  now,  my  lord,  what  say  you  to  my  suit  ? \\n\\nCapulet.  But  saying  o\\'er  what  I  have  said  before, \\n^ly  child  is  yet  a  stranger  in  the  world ; \\nShe  hath  not  seen  the  change  of  fourteen  years : \\nLet  two  more  summers  wither  in  their  pride, \\nEre  we  may  think  her  ripe  to  be  a  bride. \\n\\n\\n20  ROMEO  AND  JULIET. \\n\\nParis.  Younger  than  she  are  happy  mothers  made. \\n\\nCapidet.  And  too  soon  marr\\'d  are  those  so  early  made. \\nThe  earth  has  swallow\\'d  all  my  hopes  but  she, \\nShe  is  the  hopeful  lady  of  my  earth : \\nBut  woo  her,  gentle  Paris,  get  her  heart, \\nMy  will  to  her  consent  is  but  a  part ; \\nAn  she  agree,  within  her  scope  of  choice \\nLies  my  consent  and  fair  according  voice. \\nThis  night  I  hold  an  old  accustom\\'d  feast, \\nWhereto  I  have  invited  many  a  guest, \\nSuch  as  I  love  ;  and  you,  among  the  store, \\nOne  more,  most  welcome,  makes  my  number  more. \\nAt  my  poor  house  look  to  behold  this  night \\nEarth-treading  stars  that  make  dark  heaven  light : \\nSuch  comfort  as  do  lusty  young  men  feel \\nWhen  well-apparell\\'d  April  on  the  heel \\nOf  limping  winter  treads,  even  such  delight \\nAmong  fresh  female  buds  shall  you  this  night \\nInherit  at  my  house ;  hear  all,  all  see. \\nAnd  like  her  most  whose  merit  most  shall  be  : \\nWhich  on  more  view  of  many,  mine  being  one \\nMay  stand  in  number,  though  in  reckoning  none. \\nCome,  go  with  me.  —  \\\\_To  servant,  giving  a  2^(^P&i^\\'\\\\  GrO, \\n\\nsirrah,  trudge  about \\nThrough  fair  VeroUa ;  find  those  persons  out, \\nWhose  names  are  Avritten  there,  and  to  them  say. \\nMy  house  and  welcome  on  their  pleasure  stay. \\n\\n\\\\_Exeunt  Caindet  and  Paris. \\n\\n\\nROMEO  AND  JULIET.  21 \\n\\nServant.  Find  them  out  whose  names  are  written  here ! \\nIt  is  written  that  the  shoemaker  shouhl  meddle  with  his \\nyard  and  the  tailor  with  his  last,  the  fisher  with  his \\npencil  and  the  painter  with  his  nets ;  but  I  am  sent  to \\nfind  those  persons  whose  names  are  here  writ,  and  can \\nnever  find  what  names  the  writing  person  hath  here  Avrit. \\nI  must  to  the  learned.  —  In  good  time. \\n\\nEnter  Benvolio  and  Romeo. \\nBenvol\\'io.  Tut,  man,  one  fire  burns  out  another\\'s  burn- \\n\\nOne  pain  is  lessen\\'d  by  another\\'s  anguish ; \\nTurn  giddy,  and  be  holp  by  backward  turning ; \\n\\nOne  desperate  grief  cures  with  another\\'s  languish  : \\nTake  thou  some  new  infection  to  thy  eye. \\nAnd  the  rank  poison  of  the  old  will  die. \\n\\nRomeo.  Your  plantain-leaf  is  excellent  for  that. \\n\\nBenvolio.  For  what,  I  pray  thee  ? \\n\\nRomeo.  For  your  broken  shin. \\n\\nBenvolio.  Why,  Romeo,  art  thou  mad  ? \\n\\nRomeo.  ISTot  mad,  but  bound  more  than  a  madman  is ; \\nShut  up  in  prison,  kept  without  my  food, \\nWhipp\\'d  and  tormented  and  —  Good-den,  good  fellow. \\n\\nServant.  God  gi\\'  good-den.  —  I  pray,  sir,  can  you  read? \\n\\nRomeo.  Ay,  mine  own  fortune  in  my  misery. \\n\\nServant.  Perhaps  you  have  learned  it  without  book ; \\nbut,  I  pray,  can  you  read  anything  you  see  ? \\n\\n\\n22  EOMEO  AND  JULIET. \\n\\nBorneo.  Ay,  if  I  know  the  letters  and  the  language. \\n\\nServant.  Ye  say  honestly ;  rest  you  merry ! \\n\\nRomeo.  Stay,  fellow ;  I  can  read. \\n\\n[Reads]  \\'  Sipiior  Martino  and  his  wife  and  daughter; \\nCounty  Anselme  and  his  beauteous  sisters  ;  the  lady  widow \\nof  Vitruvio ;  Slgnior  Placentio  and  his  lovely  nieces ; \\nMercutio  and  his  brother  Valentine  ;  mine  uncle  Capulet, \\nhis  wife,  and  daughters  ;  my  fair  niece  Rosaline  ;  Livia  ; \\nSignior  Valentio  and  his  cousin  Tybalt;  Lucio  and  the \\nlively  Helena.\\' \\nA  fair  assembly ;  whither  should  they  come  ? \\n\\nServant.  Up. \\n\\nRomeo.  Whither  ? \\n\\nServant.  To  supper ;  to  our  house. \\n\\nRomeo.  Whose  house  ? \\n\\nServant.  My  master\\'s. \\n\\nRomeo.  Indeed,  I  should  have  ask\\'d  you  that  before. \\n\\nServant.  Now  I\\'ll  tell  you  without  asking :  my  master \\nis  the  great  rich  Capulet;  and  if  you  be  not  of  the  house \\nof  Montagues,  I  pray,  come  and  crush  a  cup  of  wine. \\nRest  you  merry  !  \\\\_Exit. \\n\\nBenvolio.  At  this  same  ancient  feast  of  Capulet\\'s \\nSups  the  fair  Rosaline,  whom  thou  so  lov\\'st, \\nWith  all  the  admired  beauties  of  Verona. \\nGo  thither,  and  with  unattainted  eye \\nCompare  her  face  with  some  that  I  shall  show. \\nAnd  I  will  make  thee  think  thy  swan  a  crow. \\n\\n\\nEOMEO  AND  JULIET.  23 \\n\\nBorneo.  When  the  devout  religion  of  mine  eye \\n\\nMaintains  such  falsehood,  then  turn  tears  to  fires ; \\nAnd  these,  who  often  drown\\'d  could  never  die, \\n\\nTransparent  heretics,  be  burnt  for  liars  ! \\nOne  fairer  than  my  love  !  the  all-seeing  sun \\nNe\\'er  saw  her  match  since  first  the  world  begun. \\n\\nBenvolio.  Tut !  you  saw  her  fair,  none  else  being  by, \\nHerself  pois\\'d  with  herself  in  either  eye ; \\nBut  in  that  crystal  scales  let  there  be  weigh\\'d \\nYour  lady\\'s  love  against  some  other  maid \\nThat  I  will  show  you  shining  at  this  feast. \\nAnd  she  shall  scant  show  well  that  now  shows  best. \\n\\nRomeo.  I\\'ll  go  along,  no  such  sight  to  be  shown. \\nBut  to  rejoice  in  splendor  of  mine  own.  \\\\Exeunt. \\n\\nScene  III.     A  Boom  in  Cajpulefs  House. \\nEnter  Lady  Capulet  and  Kurse. \\n\\nLady  Capulet.  Kurse,  where\\'s  my  daughter  ?  call  her \\nforth  to  me. \\n\\nNurse.  Now,  by  my  maidenhead  at  twelve  year  old, \\nI  bade  her  come.  —  What,  lamb !  what,  lady -bird !  — \\nGod  forbid !  —Where\\'s  this  girl  ?— What,  Juliet ! \\n\\nEnter  Juliet. \\n\\nJuliet.  How  now !  who  calls  ? \\n\\nNtirse.  Your  mother. \\n\\n\\n24  ROMEO  AND  JULIET. \\n\\nJuliet.  Madam,  I  am  here. \\n\\nWhat  is  your  will  ? \\n\\nLad}/  Ccqyulet.  This  is  the  matter:  —  Nurse,  give  leave \\nawhile, \\nWe  must  talk  in  secret.  —  Nurse,  come  back  again ; \\nT  have  remember\\'d  me,  thou\\'s  hear  our  counsel. \\nThou  know\\'st  my  daughter\\'s  of  a  pretty  age. \\n\\nNurse.  Faith,  I  can  tell  her  age  unto  an  hour. \\n\\nLady  Caindet.  She\\'s  not  fourteen. \\n\\nNurse.  I\\'ll  lay  fourteen  of  m.j  teeth,  — \\nAnd  yet,  to  my  teen  be  it  spoken,  I  have  but  four,  — \\nShe  is  not  fourteen.     How  long  is  it  now \\nTo  Lammas-tide  ? \\n\\nLady  Capulet.       A  fortnight  and  odd  days. \\n\\nNurse.  Even  or  odd,  of  all  days  in  the  year, \\nCome  Lammas-eve  at  night  shall  she  be  fourteen. \\nSusan  and  she  —  God  rest  all  Christian  souls  !  — \\nWere  of  an  age  :  well,  Susan  is  with  God  ; \\nShe  was  too  good  for  me  :  but,  as  I  said, \\nOn  Lammas-eve  at  night  shall  she  be  fourteen ; \\nThat  shall  she,  marry ;  I  remember  it  well. \\n\\'Tis  since  the  earthquake  noAv  eleven  years  ; \\nAnd  she  was  wean\\'d,  —  I  never  shall  forget  it,  — \\nOf  all  the  days  of  the  year,  upon  that  day : \\nFor  I  had  then  laid  wormwood  to  my  dug, \\nSitting  in  the  sun  under  the  dove-house  wall ; \\nMy  lord  and  you  were  then  at  Mantua.  — \\n\\n\\nEOMEO  AND  JULIET.  25 \\n\\nKay,  I  do  bear  a  brain  :  —  but,  as  I  said, \\n\\nWhen  it  did  taste  tlie  wormwood  on  the  nipple \\n\\nOf  my  dug,  and  felt  it  bitter,  pretty  fool. \\n\\nTo  see  it  tetchy  and  fall  out  with  the  dug ! \\n\\nShake,  quoth  the  dove-house ;  \\'twas  no  need,  I  trow, \\n\\nTo  bid  me  trudge. \\n\\nAnd  since  that  time  it  is  eleven  years ; \\n\\nFor  then  she  could  stand  alone  ;  nay,  by  the  rood, \\n\\nShe  could  have  run  and  waddled  all  about.  — \\n\\nGod  mark  thee  to  his  grace  ! \\n\\nThou  wast  the  prettiest  babe  that  e\\'er  I  nurs\\'d ; \\n\\nAn  I  might  live  to  see  thee  married  once, \\n\\nI  have  my  wish. \\n\\nLady  Capulet.  Marry,  that  \\'  marry \\'  is  the  very  theme \\nI  came  to  talk  of.  —  Tell  me,  daughter  Juliet, \\nHow  stands  your  disposition  to  be  married  ? \\n\\nJuliet.  It  is  an  honor  that  I  dream  not  of. \\n\\nNurse.  An  honor  !  were  not  I  thine  only  nurse, \\nI  would  say  thou  hadst  suek\\'d  wisdom  from  thy  teat. \\n\\nLady  Capulet.  Well,  think  of  marriage  now ;  younger \\nthan  you \\nHere  in  Verona,  ladies  of  esteem, \\nAre  made  already  mothers  :  by  my  count, \\nI  was  your  mother  much  upon  these  years \\nThat  you  are  now  a  maid.     Thus  then  in  brief : \\nThe  valiant  Paris  seeks  you  for  his  love. \\n\\nJSfurse.  A  man,  young  lady !  lady,  such  a  man \\nAs  all  the  world  —  why,  he\\'s  a  man  of  wax. \\n\\n\\n26  ROMEO  AND  JULIET. \\n\\nLady  Capulet.  Verona\\'s  summer  hath  not  such  a  flower. \\n\\nNurse.  Nay,  he\\'s  a  flower ;  in  faith,  a  very  flower. \\n\\nLady  Capulet.  What  say  you  ?  can  you  love  the  gen- \\ntleman ? \\nThis  night  you  shall  behold  him  at  our  feast ; \\nRead  o\\'er  the  volume  of  young  Paris\\'  face, \\nAnd  find  delight  writ  there  with  beauty\\'s  pen; \\nExamine  every  married  lineament \\nAnd  see  how  one  another  lends  content, \\nA.nd  what  obscur\\'d  in  this  fair  volume  lies \\nFind  written  in  the  margent  of  his  eyes. \\nThis  precious  book  of  love,  this  unbound  lover, \\nTo  beautify  him,  only  lacks  a  cover ; \\nThe  fish  lives  in  the  sea,  and  \\'tis  much  pride \\nFor  fair  without  the  fair  within  to  hide. \\nThat  book  in  many\\'s  eyes  doth  share  the  glory, \\nThat  in  gold  clasps  locks  in  the  golden  story  ; \\nSo  shall  you  share  all  that  he  doth  possess. \\nBy  having  him  making  yourself  no  less. \\nSpeak  briefly,  can  you  like  of  Paris\\'  love  ? \\n\\nJuliet.  I\\'ll  look  to  like,  if  looking  liking  move ; \\nBut  no  more  deep  will  I  endart  mine  eye \\nThan  your  consent  gives  strength  to  make  it  fly. \\n\\nEnter  a  Servant. \\n\\nServant.  Madam,  the  guests  are  come,  supper  served \\nup,  you  called,  my  young  lady  asked  for,  the  nurse  cursed \\n\\n\\nBOMEO  AND  JULIET.  27 \\n\\nin  the  pantry,  and  everything  in   extremity.     I   must \\nhence  to  wait ;  I  be,seech  you,  follow  straight. \\n\\nLady    Cajpulet.    We    follow    thee.       \\\\Exit   Servant.\\'] \\n\\nJuliet,  the  county  stays. \\nNurse.  Go,  girl,  seek  happy  nights  to  happy  days. \\n\\n\\\\_Exeunt. \\n\\nScene  IV.     A  Street. \\n\\nEnter  Romeo,  Mercutio,  Benvolio,  with  five   or  six \\nMaskers,  Torch-bearers,  and  others. \\n\\nRomeo.  What,  shall  this  speech  be  spoke  for  our  ex- \\ncuse ? \\nOr  shall  we  on  without  apology  ? \\n\\nBenvolio.  The  date  is  out  of  such  prolixity. \\nWe\\'ll  have  no  Cupid  hoodwink\\'d  with  a  scarf, \\nBearing  a  Tartar\\'s  painted  bow  of  lath, \\nScaring  the  ladies  like  a  crow-keeper  ; \\nNor  no  without-book  prologue,  faintly  spoke \\nAfter  the  prompter,  for  our  entrance  : \\nBut  let  them  measure  us  by  what  they  will, \\nWe\\'ll  measure  them  a  measure,  and  be  gone. \\n\\nRomeo.  Give  me  a  torch ;  I  am  not  for  this  ambling : \\nBeing  but  heavy,  I  will  bear  the  light. \\n\\nMercutio.  Nay,  gentle  Romeo,  Ave  must  have  you  dance. \\n\\nRomeo.  Not  I,  believe  me.     You  have  dancing  shoes \\nWith  nimble  soles ;  I  have  a  soul  of  lead \\nSo  stakes  me  to  the  ground  I  cannot  move. \\n\\n\\n28  ROMEO  AND  JULIET. \\n\\nMercutio.  You  are  a  lover ;  borrow  Cupid\\'s  wings, \\nAnd  soar  with  them  above  a  common  bound. \\n\\nRomeo.  I  am  too  sore  enpierced  with  his  shaft \\nTo  soar  Avith  his  light  feathers,  and,  so  bound, \\nI  cannot  bound  a  pitch  above  dull  woe ; \\nUnder  love\\'s  heavy  burden  do  I  sink. \\n\\nMercutio.  And,  to  sink  in  it,  should  you  burden  love ; \\nToo  great  oppression  for  a  tender  thing. \\n\\nRomeo.  Is  love  a  tender  thing  ?  it  is  too  rough, \\nToo  rude,  too  boisterous,  and  it  pricks  like  thorn. \\n\\nMercutio.  If  love  be  rough  with  you,  be  rough  with \\nlove; \\nPrick  love  for  pricking,  and  jovi  beat  love  down.  — \\nGive  me  a  case  to  put  my  visage  in ; \\n\\n\\\\_Putting  on  a  mask. \\nA  visor  for  a  visor  !  what  care  I \\nWhat  curious  eye  doth  quote  deformities  ? \\nHere  are  the  beetle-brows  shall  blush  for  me. \\n\\nBenvolio.  Come,  knock  and  enter ;  and  no  sooner  in, \\nBut  every  man  betake  him  to  his  legs. \\n\\nRomeo.  A  torch  for  me  ;  let  wantons  light  of  heart \\nTickle  the  senseless  rushes  with  their  heels, \\nFor  I  am  proverb\\'d  with  a  grandsire  phrase : \\nI\\'ll  be  a  candle-holder,  and  look  on. \\nThe  game  was  ne\\'er  so  fair,  and  I  am  done. \\n\\nMercutio.  Tut,  dun\\'s  the  mouse,  the  constable\\'s  own \\nword: \\n\\n\\nROMEO  AND  JULIET.  29 \\n\\nIf  thou  art  Dun,  we\\'ll  draw  thee  from  the  mire \\nOf  this  sir-reverence  love,  wherein  thou  stick\\'st \\nUp  to  the  ears.  —  Come,  we  burn  daylight,  ho  ! \\n\\nRomeo.  Nay,  that\\'s  not  so. \\n\\nMercutio.  I  mean,  sir,  in  delay \\n\\nWe  waste  our  lights  in  vain,  like  lamps  by  day. \\nTake  our  good  meaning,  for  our  judgment  sits \\nFive  times  in  that  ere  once  in  our  five  wits. \\n\\nBorneo.  And  we  mean  well  in  going  to  this  mask ; \\nBut  \\'tis  no  wit  to  go. \\n\\nMercutio.  Why,  may  one  ask  ? \\n\\nBorneo.  I  dreamt  a  dream  to-night. \\n\\nMercutio.  ^nd  so  did  I. \\n\\nRomeo.  Well,  what  was  yours  ? \\n\\nMercutio.  That  dreamers  often  lie. \\n\\nRovieo.  In  bed  asleep,  while  they  do  dream  things  true. \\n\\nMercutio.  O,  then,  I  see  Queen  Mab  hath  been  with \\nyou. \\nShe  is  the  fairies\\'  midwife,  and  she  comes \\nIn  shape  no  bigger  than  an  agate-stone \\nOn  the  fore-finger  of  an  alderman, \\nDrawn  with  a  team  of  little  atomies \\nAthwart  men\\'s  noses  as  they  lie  asleep  ; \\nHer  wagon-spokes  made  of  long  spinners\\'  legs, \\nThe  cover  of  the  wings  of  grasshoppers. \\nThe  traces  of  the  smallest  spider\\'s  web. \\nThe  collars  of  the  moonshine\\'s  watery  beams. \\n\\n\\n30  ROMEO  AND  JULIET. \\n\\nHer  whip  of  cricket\\'s  bone,  the  lash  of  film, \\n\\nHer  wagoner  a  small  gray-coated  gnat, \\n\\nNot  half  so  big  as  a  round  little  worm \\n\\nPrick\\'d  from  the  lazy  finger  of  a  maid ; \\n\\nHer  chariot  is  an  empty  hazel-nnt \\n\\nMade  by  the  joiner  squirrel  or  old  grub, \\n\\nTime  out  o\\'  mind  the  fairies\\'  coach-makers. \\n\\nAnd  in  this  state  she  gallops  night  by  night \\n\\nThrough  lovers\\'  brains,  and  then  they  dream  of  love ; \\n\\nO\\'er  courtiers\\'  knees,  that  dream  on  court\\'sies  straight ; \\n\\nO\\'er  lawyers\\'  fingers,  who  straight  dream  on  fees ; \\n\\nO\\'er  ladies\\'  lips,  who  straight  on  kisses  dream. \\n\\nWhich  oft  the  angry  Mab  with  blisters  plagues, \\n\\nBecause  their  breaths  with  sweetmeats  tainted  are. \\n\\nSometime  she  gallops  o\\'er  a  courtier\\'s  nose, \\n\\nAnd  then  dreams  he  of  smelling  out  a  suit. \\n\\nAnd  sometimes  comes  she  with  a  tithe-pig\\'s  tail \\n\\nTickling  a  parson\\'s  nose  as  a\\'  lies  asleep, \\n\\nThen  dreams  he  of  another  benefice. \\n\\nSometime  she  driveth  o\\'er  a  soldier\\'s  neck, \\n\\nAnd  then  dreams  he  of  cutting  foreign  throats, \\n\\nOf  breaches,  ambuscadoes,  Spanish  blades. \\n\\nOf  healths  five-fatliom  deep ;  and  then  anon \\n\\nDrums  in  his  ears,  at  which  he  starts  and  wakes, \\n\\nAnd  being  thus  frighted  swears  a  prayer  or  two \\n\\nAnd  sleeps  again.     This  is  that  very  Mab \\n\\nThat  plats  the  manes  of  horses  in  the  night. \\n\\n\\nBOMEO  AND  JULIET.  31 \\n\\nAnd  bakes  the  elf-locks  in  fonl  sluttish  hairs, \\nWhich  once  untangled  much  misfortune  bodes. \\nThis  is  she  — \\n\\nRomeo.  Peace,  peace,  Mercutio,  peace  ! \\n\\nThou  talk\\'st  of  nothing. \\n\\nMercutio.  True,  I  talk  of  dreams, \\n\\nWhich  are  the  children  of  an  idle  brain, \\nBegot  of  nothing  but  vain  fantasy. \\nWhich  is  as  thin  of  substance  as  the  air, \\nAnd  more  inconstant  than  the  wind,  who  wooes \\nEven  now  the  frozen  bosom  of  the  North, \\nAnd,  being  anger\\'d,  puffs  away  from  thence, \\nTurning  his  face  to  the  dew-dropping  South. \\n\\nBenvolio.  This  wind  you  talk  of  blows  us  from  our- \\nselves ; \\nSupper  is  done,  and  we  shall  come  too  late. \\n\\nRomeo.  I  fear,  too  early  ;  for  my  mind  misgives \\nSome  consequence,  yet  hanging  in  the  stars, \\nShall  bitterly  begin  his  fearful  date \\nWith  this  night\\'s  revels,  and  expire  the  term \\nOf  a  despised  life  clos\\'d  in  my  breast \\nBy  some  vile  forfeit  of  untimely  death. \\nBut  He  that  hath  the  steerage  of  my  course \\nDirect  my  sail !  —  On,  lusty  gentlemen. \\n\\nBenvolio.  Strike,  drum.  \\\\_^Exeunt. \\n\\n\\n32  ROMEO  AND  JULIET. \\n\\nScene  V.     A  Hall  in  Capidefs  House. \\nMusicians  tvaiting.     Enter  Servingmen,  ivith  napkins. \\n\\n1  Servingman.  AVhere\\'s  Potpan,  that  lie  helps  not  to \\ntake  away  ?     He  shift  a  trencher !  he  scrape  a  trencher  ! \\n\\n2  Serviiigman.  When  good  manners  shall  lie  all  in  one \\nor  two  men\\'s  hands  and  they  unwashed  too,  \\'tis  a  foul \\nthing. \\n\\n1  Serviyigman.  Away  with  the  joint-stools,  remove  the \\ncourt-cupboard,  look  to  the  plate.  —  Good  thou,  save  me \\na  piece  of  marchpane ;  and,  as  thou  lovest  me,  let  the \\nporter  let  in  Susan  Grindstone  and  Nell.  —  Antony  !  and \\nPotpan ! \\n\\n2  Servingman.  Ay,  boy,  ready. \\n\\n1  Servingman.  You  are  looked  for  and  called  for,  asked \\nfor  and  sought  for,  in  the  great  chamber. \\n\\n2  Servingman.  We  cannot  be  here  and  there  too.  — \\nCheerly,  boys ;  be  brisk  awhile,  and  the  longer  liver  take \\nall. \\n\\nEnter   Capulet,  tvith  Juliet  and  others  of  Ms  hoiise, \\nmeeting  the  Guests  and  Maskers. \\n\\nCapxdet.  Welcome,  gentlemen !  ladies  that  have  their \\ntoes \\nUnplagu\\'d  with  corns  will  have  a  bout  with  you.  — \\n\\n\\n^„ \\n\\n\\nBOMEO  AND  JULIET.  33 \\n\\nAh.  ha,  my  mistresses  !  which  of  you  all \\n\\nWill  now  deny  to  dance  ?  she  that  makes  dainty, \\n\\nShe,  I\\'ll  swear,  hath  corns ;  am  I  come  near  ye  now  ?  — \\n\\nWelcome,  gentlemen !  I  have  seen  the  day \\n\\nThat  I  have  worn  a  visor,  and  could  tell \\n\\nA  Avhispering  tale  in  a  fair  lady\\'s  ear. \\n\\nSuch  as  would  please ;  \\'tis  gone,  \\'tis  gone,  \\'tis  gone :  — \\n\\nYou  are  welcome,  gentlemen  !  Come,  musicians,  play.  — \\n\\nA  hall,  a  hall !  give  room  !  and  foot  it,  girls.  — \\n\\n[^Music  plays,  and  they  dance. \\nMore  light,  you  knaves  ;  and  turn  the  tables  up. \\nAnd  quench  the  fire,  the  room  is  grown  too  hot.  — \\nAh,  sirrah,  this  unlook\\'d-for  sport  comes  well.  — \\nNay,  sit,  nay,  sit,  good  cousin  Capulet ; \\nFor  you  and  I  are  past  our  dancing  days : \\nHow  long  is\\'t  now  since  last  yourself  and  I \\nWere  in  a  mask  ? \\n\\n2  Capulet.  By  \\'r  lady,  thirty  years. \\n\\nCapulet.  What,  man!   \\'tis   not   so   much,  \\'tis   not   so \\nmuch : \\n\\'Tis  since  the  nuptial  of  Lucentio, \\nCome  Pentecost  as  quickly  as  it  will. \\nSome  five  and  twenty  years ;  and  then  we  mask\\'d. \\n\\n2  Capulet.  \\'Tis  more,  \\'tis  more  :  his  son  is  elder,  sir ; \\nHis  son  is  thirty. \\n\\nCapulet.  Will  you  tell  me  that  ? \\n\\nHis  son  was  but  a  ward  two  years  ago. \\n\\n\\n34  ROMEO  AND  JULIET. \\n\\nRomeo.  [To  a  Servingmrm\\']  What  lady  is  that,  which \\ndoth  enrich  the  hand \\nOf  yonder  knight  ? \\n\\nServingman.  I  know  not,  sir. \\n\\nRomeo.  0,  she  doth  teach  the  torches  to  burn  bright ! \\nHer  beauty  hangs  upon  the  cheek  of  night \\nLike  a  rich  jewel  in  an  Ethiope\\'s  ear; \\nBeauty  too  rich  for  use,  for  earth  too  dear ! \\nSo  shows  a  snowy  dove  trooping  with  crows, \\nAs  yonder  lady  o\\'er  her  fellows  shows. \\nThe  measure  done,  I\\'ll  watch  her  place  of  stand. \\nAnd,  touching  hers,  make  blessed  my  rude  hand. \\nDid  my  heart  love  till  now  ?  Forswear  it,  sight ! \\nFor  I  ne\\'er  saw  true  beauty  till  this  night. \\n\\nTijhalt.  This,  by  his  voice,  should  be  a  Montague.  — \\nFetch  me  my  rapier,  boy.  —  What  dares  the  slave \\nCome  hither,  cover\\'d  with  an  antic  face. \\nTo  fleer  and  scorn  at  our  solemnity  ? \\nNow,  by  the  stock  and  honor  of  my  kin, \\nTo  strike  him  dead  I  hold  it  not  a  sin. \\n\\nCiipulet.  Why,  how  now,  kinsman !  wherefore  storm \\nyou  so  ? \\n\\nTybalt.  Uncle,  this  is  a  Montague,  our  foe, \\nA  villain  that  is  hithex  come  in  spite. \\nTo  scorn  at  our  solemnity  this  night. \\n\\nCtqmlet.  Young  Romeo,  is  it  ? \\n\\nTybalt.  ■  \\'Tis  he,  that  villain  Komeo. \\n\\n\\nROMEO  AND  JULIET.  35 \\n\\nCapxdet.  Content  thee,  gentle  coz,  let  him  alone : \\nHe  bears  him  like  a  portly  gentleman ; \\nAnd,  to  say  truth,  Verona  brags  of  him \\nTo  be  a  virtuous  and  well-govern\\'d  youth. \\nI  would  not  for  the  wealth  of  all  the  town \\nHere  in  my  house  do  him  disparagement ; \\nTherefore  be  patient,  take  no  note  of  him : \\nIt  is  my  will,  the  which  if  thou  respect, \\nShow  a  fair  presence  and  put  off  these  frowns, \\nAn  ill-beseeming  semblance  for  a  feast. \\n\\nTybalt.  It  fits,  when  such  a  villain  is  a  guest ; \\nI\\'ll  not  endure  him. \\n\\nCapulet.  He  shall  be  endur\\'d: \\nWhat,  goodman  boy  !     I  say,  he  shall :  go  to ; \\nAm  I  the  master  here,  or  you  ?  go  to. \\nYou\\'ll  not  endure  him  !  —  God  shall  mend  my  soul !  — \\nYou\\'ll  make  a  mutiny  among  my  guests  ! \\nYou  will  set  cock-a-hoop !  you\\'ll  be  the  man ! \\n\\nTybalt.     Why,  uncle,  \\'tis  a  shame. \\n\\nCapulet.  Go  to,  go  to ; \\n\\nYou  are  a  saucy  boy  :  —  is\\'t  so,  indeed  ?  — \\nThis  trick  may  chance  to  scathe  you,  —  I  know  what. \\nYou  must  contrary  me  !  marry,  \\'tis  time.  — \\nWell  said,  my  hearts !  —  You  are  a  princox  ;  go : \\nBe  quiet,  or  —  More  light,  more  light !  —  For  shame  ! \\nI\\'ll  make  you  quiet.     What !  —  Cheerly,  my  hearts  ! \\n\\nTybalt.  Patience  perforce  with  wilful  choler  meeting \\n\\n\\n36  EOMEO  AND  JULIET. \\n\\nMakes  my  flesh  tremble  in  their  different  greeting. \\n\\nI  will  withdraw ;  but  this  intrusion  shall, \\n\\nNow  seeming  sweet,  convert  to  bitter  gall.  [Exit. \\n\\nBorneo.  \\\\_To  Juliet]  If  I  profane  with  my  un worthiest \\nhand \\n\\nThis  holy  shrine,  the  gentle  fine  is  this : \\nMy  lips,  two  blushing  pilgrims,  ready  stand \\n\\nTo  smooth  that  rough  touch  Avith  a  tender  kiss. \\n\\nJuliet.  Good  pilgrim,  you  do  Avrong  your  hand  too  much, \\n\\nWhich  mannerly  devotion  shows  in  this ; \\nFor  saiiits  have  hands  that  pilgrims\\'  hands  do  touch, \\n\\nAnd  palm  to  palm  is  holy  palmer\\'s  kiss. \\n\\nRomeo.  Have  not  saints  lips,  and  holy  palmers  too  ? \\n\\nJuliet.  Ay,  pilgrim,  lips  that  they  must  use  in  prayer. \\n\\nRomeo.  0,  then,  dear  saint,  let  lips  do  what  hands  do ; \\nThey  pray,  grant  thou,  lest  faith  turn  to  despair. \\n\\nJuliet.  Saints  do  not  move,  though  grant  for  prayers\\' \\nsake. \\n\\nRomeo.  Then  move  not,  while  my  prayer\\'s  effect  I \\ntake. \\nThus  from  my  lips  by  thine  my  sin  is  purg\\'d. \\n\\n\\\\_Kissing  her. \\n\\nJuliet.  Then  have  my  lips  the  sin  that  they  have  took. \\n\\nRomeo.  Sin  from  my  lips  ?     0  trespass  sweetly  urg\\'d ! \\nGive  me  my  sin  again. \\n\\nJuliet.  You  kiss  by  the  book. \\n\\nNxirse.  Madam,  your  mother  craves  a  word  with  you. \\n\\n\\nPhoto  by  Byron \\n\\n\\nROMEO  AND  JULIET.  37 \\n\\nEomeo.  What  is  her  mother  ? \\n\\nNurse.  Marry,  bachelor, \\n\\nHer  mother  is  the  lady  of  the  house,    \\' \\nAnd  a  good  lady,  and  a  wise,  and  virtuous. \\nI  nurs\\'d  her  daughter,  that  you  talk\\'d  withal; \\nI  tell  you,  he  that  can  lay  hold  of  her \\nShall  have  the  chinks. \\n\\nBorneo.  Is  she  a  Capulet  ? \\n\\n0  dear  account !  my  life  is  my  foe\\'s  debt. \\nBenvolio.  Away,  begone ;  the  sport  is  at  the  best. \\nRomeo.  Ay,  so  I  fear  ;  the  more  is  my  unrest. \\nCapulet.  Nay,  gentlemen,  prepare  not  to  be  gone  ; \\n\\nWe  have  a  trifling  foolish  banquet  towards.  — \\nIs  it  e\\'en  so  ?  why,  then,  I  thank  you  all : \\n\\n1  thank  you,  honest  gentlemen ;  good  night.  — \\nMore  torches  here !  — Come  on  then,  let\\'s  to  bed. \\nAh,  sirrah,  by  my  fay,  it  waxes  late  ; \\n\\nI\\'ll  to  my  rest.  \\\\_Exeunt  all  but  Juliet  and  Nurse. \\n\\nJuliet.  Come  hither,  nurse.     What  is  yond  gentleman? \\n\\nNurse.  The  son  and  heir  of  old  Tiberio. \\n\\nJuliet.  What\\'s  he  that  now  is  going  out  of  door  ? \\n\\nNurse.  Marry,  that,  I  think,  be  young  Petruchio. \\n\\nJuliet.  What\\'s  he  that  follows  there,  that  would  not \\ndance  ? \\n\\nNurse.  I  know  not. \\n\\nJuliet.  Go,  ask  his  name.  —  If  he  be  married, \\nMy  grave  is  like  to  be  my  wedding  bed. \\n\\n\\n38  ROMEO  AND  JULIET. \\n\\nNurse.  His  name  is  Eomeo,  and  a  Montague, \\nThe  only  son  of  your  great  enemy. \\n\\nJuliet.  My  only  love  sprung  from  my  only  hate ! \\nToo  early  seen  unknown,  and  known  too  late ! \\nProdigious  birth  of  love  it  is  to  me, \\nThat  I  must  love  a  loathed  enemy. \\n\\nNurse.  What\\'s  this  ?  what\\'s  this  ? \\n\\nJuliet.  A  rhyme  I  learn\\'d  even  now \\n\\nOf  one  I  danc\\'d  withal.  \\\\_One  calls  ivithin,  \\'Juliet.\\' \\n\\nNu7\\'se.  Anon,  anon  !  — \\n\\nCome,  let\\'s  away ;  the  strangers  all  are  gone.      [^Exetmf. \\n\\nEnter  Chorus. \\n\\nNow  old  desire  doth  in  his  death-bed  lie, \\n\\nAnd  young  affection  gapes  to  be  his  heir ; \\nThat  fair  for  which  love  groan\\'d  for  and  would  die. \\n\\nWith  tender  Juliet  match\\'d,  is  now  not  fair. \\nNow  Eomeo  is  belov\\'d  and  loves  again, \\n\\nAlike  bewitched  by  the  charm  of  looks, \\nBut  to  his  foe  suppos\\'d  he  must  complain. \\n\\nAnd  she  steal  love\\'s  sweet  bait  from  fearful  hooks. \\nBeing  held  a  foe,  he  may  not  have  access \\n\\nTo  breathe  such  vows  as  lovers  use  to  swear ;  . \\nAnd  she  as  much  in  love,  her  means  much  less \\n\\nTo  meet  her  new-beloved  anywhere. \\nBut  passion  lends  them  power,  time  means,  to  meet. \\nTempering  extremities  with  extreme  sweet.  \\\\_Exit. \\n\\n\\nACT  II. \\n\\nScene  I.     A  Lane  hy  the  wall  of  Capulet\\'\\'s  Orchard. \\n\\nEnter  Eomeo. \\nRomeo.  Can  I  go  forward  when  my  heart  is  here  ? \\nTurn  back,  dull  earth,  and  find  thy  centre  out. \\n\\n\\\\_He  climbs  the  wall,  and  leajys  down  ivithin  it. \\n\\nEnter  Benvolio  and  Mercutio. \\n\\nBenvolio.  Eomeo  !  my  cousin  Eomeo  !  Eomeo  ! \\n\\nMercutio.  He  is  wise ; \\n\\nAnd,  on  my  life,  hath  stol\\'n  him  home  to  bed. \\n\\nBenvolio.  He  ran  this  way,  and   leap\\'d  this  orchard \\nwall ; \\nCall,  good  Mercutio. \\n\\nMercutio.  Nay,  I\\'ll  conjure  too.  — \\nEomeo  !  humors  !  madman !  passion !  lover ! \\nAppear  thou  in  the  likeness  of  a  sigh  ! \\nSpeak  but  one  rhyme,  and  I  am  satisfied ; \\nCry  but  \\'Ay  me!\\'  pronounce  but  \\'love\\'  and  \\'dove\\'; \\nSpeak  to  my  gossip  Venus  one  fair  word, \\nOne  nickname  for  her  purblind  son  and  heir, \\nYoung  Abraham  Cupid,  he  that  shot  so  trim, \\nWhen  King  Cophetna  lov\\'d  the  beggar-maid!  — \\nHe  heareth  not,  he  stirreth  not,  he  moveth  not ; \\n\\n39 \\n\\n\\n40  ROMEO  AND  JULIET. \\n\\nThe  ape  is  dead,  and  T  must  conjure  him.  — \\nI  conjure  thee  by  Eosaline\\'s  bright  eyes, \\nBy  her  high  forehead  and  her  scarlet  lip, \\nThat  in  thy  likeness  thou  appear  to  us ! \\n\\nBenvolio.  An  if  he  hear  thee  thou  wilt  anger  him. \\n\\nMercutio.  This  cannot  anger  him  :  \\'twould  anger  him \\nTo  raise  a  spirit  in  his  mistress\\'  circle \\nOf  some  strange  nature,  letting  it  there  stand \\nTill  she  had  laid  it  and  conjur\\'d  it  down ; \\nThat  were  some  spite :  my  invocation \\nIs  fair  and  honest,  and  in  his  mistress\\'  name \\nT  conjure  only  but  to  raise  up  him. \\n\\nBenvolio.  Come,  he  hath  hid  himself  among  these  trees. \\nTo  be  consorted  with  the  humorous  night ; \\nBlind  is  his  love  and  best  befits  the  dark, \\n\\nMercutio.  If  love  be  blind,  love  cannot  hit  the  mark.  — \\nRomeo,  good  night.  —  I\\'ll  to  my  truckle  bed; \\nThis  field-bed  is  too  cold  for  me  to  sleep. \\nCome,  shall  we  go  ? \\n\\nBenvolio.  Go,  then ;  for  \\'tis  in  vain \\n\\nTo  seek  him  here  that  means  not  to  be  found.     [^Exeunt. \\n\\nScene  II,     Cajpulet^s  Orchard. \\n\\nEnter  Romeo, \\n\\nRomeo.  He  jests  at  scars  that  never  felt  a  wound.  — \\n\\n[Juliet  appears  above  at  a  window. \\n\\n\\nliOMEO  AND  JULIET.  4^ \\n\\nBut,  soft !  what  light  through  yonder  window  breaks  ? \\n\\nIt  is  the  east,  and  Juliet  is  the  sun.  — \\n\\nArise,  fair  sun,  and  kill  the  envious  moon, \\n\\nWho  is  already  sick  and  pale  with  grief, \\n\\nThat  thou  her  maid  art  far  more  fair  than  she. \\n\\nBe  not  her  maid,  since  she  is  envious  : \\n\\nHer  vestal  livery  is  but  sick  and  green, \\n\\nAnd  none  but  fools  do  wear  it ;  cast  it  off.  — \\n\\nIt  is  my  lady,  0,  it  is  my  love  ! \\n\\n0,  that  she  knew  she  were  !  — \\n\\nShe  speaks,  yet  she  says  nothing  ;  what  of  that  ? \\n\\nHer  eye  discourses  ;  I  will  answer  it. \\n\\nI  am  too  bold,  \\'tis  not  to  me  she  speaks. \\nTwo  of  the  fairest  stars  in  all  the  heaven, \\nHaving  some  business,  do  entreat  her  eyes \\nTo  twinkle  in  their  spheres  till  they  return. \\nWhat  if  her  eyes  were  there,  they  in  her  head  ? \\nThe  brightness  of  her  cheek  would  shame  those  stars, \\nAs  daylight  doth  a  lamp  ;  her  eyes  in  heaven \\nWould  through  the  airy  region  stream  so  bright \\nThat  birds  would  sing  and  think  it  were  not  night. \\nSee,  how  she  leans  her  cheek  upon  her  hand  ! \\nO,  that  I  were  a  glove  upon  that  hand, \\nThat  I  might  touch  that  cheek ! \\nJuliet.  Ay  me ! \\n\\nRomeo.  She  speaks.  — \\n\\nO,  speak  again,  bright  angel !  for  thou  art \\n\\n\\n42  BOMEO  AND  JULIET. \\n\\nAs  glorious  to  this  niglit,  being  o\\'er  my  head, \\n\\nAs  is  a  winged  messenger  of  heaven \\n\\nUnto  the  white-upturned  wondering  eyes \\n\\nOf  mortals  that  fall  back  to  gaze  on  him, \\n\\nWhen  he  bestrides  the  lazy-pacing  clouds \\n\\nAnd  sails  upon  the  bosom  of  the  air. \\n\\nJuliet.  0  Komeo,  Komeo  !  wherefore  art  thou  Komeo  ? \\n\\nDeny  thy  father  and  refuse  thy  name ; \\n\\nOr,  if  thou  wilt  not,  be  but  sworn  my  love. \\n\\nAnd  I\\'ll  no  longer  be  a  Capulet. \\n\\nFiomeo.  [Aside\\']  Shall  I  hear  more,  or  shall  I  speak  at \\n\\nthis? \\nJuliet.  \\'Tis  but  thy  name  that  is  my  enemy ; \\n\\nThou  art  thyself,  though  not  a  Montague. \\n\\nWhat\\'s  Montague  ?  it  is  nor  hand,  nor  foot, \\nNor  arm,  nor  face,  nor  any  other  part \\n.Belonging  to  a  man.     0,  be  some  other  name  ! \\nWhat\\'s  in  a  name  ?  that  which  we  call  a  rose \\nBy  any  other  name  would  smell  as  sweet ; \\nSo  Komeo  would,  were  he  not  Komeo  call\\'d, \\nKetain  that  dear  perfection  which  he  owes \\nWithout  that  title.  —Komeo,  doff  thy  name, \\nAnd  for  that  name,  which  is  no  part  of  thee, \\nTake  all  myself. \\n\\nItomeo.  I  take  thee  at  thy  word : \\n\\nCall  me  but  love,  and  I\\'ll  be  new  baptiz\\'d; \\nHenceforth  I  never  will  be  Komeo. \\n\\n\\nPhoto  by  Byron \\n\\n\\nEOMEO  AND  JULIET.  43 \\n\\nJuliet.  What  man  art  thou  that  thus  bescreen\\'d   in \\nnight \\nSo  stumblest  on  my  counsel  ? \\n\\nRowso.  By  a  name \\n\\nI  know  not  how  to  tell  thee  who  I  am. \\nMy  name,  dear  saint,  is  hateful  to  myself, \\nBecause  it  is  an  enemy  to  thee ; \\nHad  I  it  written,  I  would  tear  the  word. \\n\\nJuliet.  My  ears  have  yet  not  drunk  a  hundred  words \\nOf  that  tongue\\'s  utterance,  yet  I  know  the  sound.  — \\nArt  thou  not  Eomeo,  and  a  Montague  ? \\n\\nRomeo.  Neither,  fair  maid,  if  either  thee  dislike. \\n\\nJuliet.  How  cam\\'st  thou  hither,  tell  me,  and  where- \\nfore ? \\nThe  orchard  walls  are  high  and  hard  to  climb. \\nAnd  the  place  death,  considering  who  thou  art. \\nIf  any  of  my  kinsmen  find  thee  here. \\n\\nRomeo.  With  love\\'s  light  wings  did  I  o\\'er-perch  these \\nwalls, \\nFor  stony  limits  cannot  hold  love  out, \\nAnd  what  love  can  do  that  dares  love  attempt ; \\nTherefore  thy  kinsmen  are  no  let  to  me. \\n\\nJuliet.  If  they  do  see  thee,  they  will  murder  thee. \\n\\nRomeo.  Alack,  there  lies  more  peril  in  thine  eye \\nThan  twenty  of  their  swords ;  look  thou  but  sweet. \\nAnd  I  am  proof  against  their  enmity. \\n\\nJuliet.  I  would  not  for  the  world  they  saw  thee  here. \\n\\n\\n44  ,  EOMEO  AND  JULIET. \\n\\nRomeo.  I  have  night\\'s  cloak  to  hide  me  from  their \\neyes  ; \\nAnd  but  thou  love  me,  let  them  find  me  here : \\nMy  life  were  better  ended  by  their  hate, \\nThan  death  prorogued,  Avanting  of  thy  love. \\n\\nJuliet.  By  whose  direction  found\\'st  thou  out  this  place  ? \\n\\nRomeo.  By  love,  that  first  did  prompt  me  to  inquire  ; \\nHe  lent  me  counsel,  and  I  lent  him  eyes. \\nI  am  no  pilot ;  yet,  wert  thou  as  far \\nAs  that  vast  shore  Avash\\'d  with  the  farthest  sea, \\nI  would  adventure  for  such  merchandise. \\n\\nJuliet.   Thou  know\\'st  the  mask  of  night  is  on  my  face, \\nElse  would  a  maiden  blush  bepaint  my  cheek \\nFor  that  which  thou  hast  heard  me  speak  to-night. \\nFain  would  I  dwell  on  form,  fain,  fain  deny \\nWhat  I  have  spoke  ;  but  farewell  compliment ! \\nDost  thou  love  me  ?     I  know  thou  wilt  say  ay, \\nAnd  I  will  take  thy  word  :  yet,  if  thou  swear\\'st, \\nThou  mayst  prove  false ;  at  lovers\\'  perjuries. \\nThey  say,  Jove  laughs.     0  gentle  Romeo, \\nIf  thou  dost  love,  pronounce  it  faithfully : \\nOr  if  thou  think\\'st  I  am  too  quickly  won, \\nI\\'ll  frown  and  be  perverse  and  say  thee  nay, \\nSo  thou  wilt  woo ;  but  else,  not  for  the  world. \\nIn  truth,  fair  IMontague,  I  am  too  fond. \\nAnd  therefore  thou  mayst  think  my  havior  light ; \\nBut  trust  me,  gentleman,  I\\'ll  prove  more  true \\n\\n\\nPhoto  by  Bv  ron \\n\\n\\nEOMEO  AND  JULIET.  45 \\n\\nThan  those  that  have  more  cunning  to  be  strange. \\nI  should  have  been  more  strange,  I  must  confess, \\nBut  that  thou  overheard\\'st,  ere  I  was  ware, \\nMy  true  love\\'s  passion ;  therefore  pardon  me, \\nAnd  not  impute  this  yielding  to  light  love, \\nWhich  the  dark  night  hath  so  discovered, \\n\\nBorneo.  Lady,  by  yonder  blessed  moon  I  swear, \\nThat  tips  with  silver  all  these  fruit-tree  tops  — \\n\\nJuliet.  O,  swear  not  by  the  moon,  th\\'  inconstant  moon, \\nThat  monthly  changes  in  her  circled  orb, \\nLest  that  thy  love  prove  likewise  variable. \\n\\nBorneo.  What  shall  I  swear  by  ? \\n\\nJuliet.  L)o  not  swear  at  all ; \\n\\nOr,  if  thou  wilt,  swear  by  thy  gracious  self, \\nWhich  is  the  god  of  my  idolatry, \\nAnd  I\\'ll  believe  thee. \\n\\nBorneo.  If  my  heart\\'s  dear  love  — \\n\\nJuliet.  Well,  do  not  swear.     Although  I  joy  in  thee, \\nI  have  no  joy  of  this  contract  to-night ; \\nIt  is  too  rash,  too  unadvis\\'d,  too  sudden. \\nToo  like  the  lightning,  which  doth  cease  to  be \\nEre  one  can  say  it  lightens.     Sweet,  good  night ! \\nThis  bud  of  love,  by  summer\\'s  ripening  breath. \\nMay  prove  a  beauteous  flower  when  next  we  meet. \\nGood  night,  good  night !  as  sweet  repose  and  rest \\nCome  to  thy  heart  as  that  within  my  breast ! \\n\\nBorneo.  0,  wilt  thou  leave  me  so  unsatisfied  ? \\n\\n\\n4g  KOMEO  AND  JULIET. \\n\\nJuliet.  What  satisfaction  canst  thon  have  to-night? \\nEomeo.  The  exchange  of  thy  love\\'s  faithful  vow  for \\n\\nmine  ? \\nJuliet.  I  gave  thee  mine  before  thou  didst  request  it; \\nAnd  yet  I  woukl  it  were  to  give  again. \\n\\nMomeo.  Wouklst  thou  withdraw  it?  for  what  purpose, \\n\\nlove? \\nJuliet.  But  to  be  frank,  and  give  it  thee  again. \\nAnd  yet  I  wish  but  for  the  thing  I  have  : \\nMy  bounty  is  as  boundless  as  the  sea. \\nMy  love  as  deep ;  the  more  I  give  to  thee, \\nThe  more  I  have,  for  both  are  infinite. \\n\\n\\\\_Nurse  calls  tvithin. \\n\\nI  hear  some  noise  within  ;  dear  love,  adieu !  — \\nAnon,  good  nurse  !  —  Sweet  Montague,  be  true. \\nStay  but  a  little,  I  will  come  again.  C^*\\'^- \\n\\nBorneo.  0  blessed,  blessed  night !  I  am  afeard, \\nBeing  in  night,  all  this  is  but  a  dream. \\nToo  flattering-sweet  to  be  substantial. \\n\\nRe-enter  Juliet,  above. \\nJuliet.  Three  words,  dear  Romeo,  and  good  night  in- \\ndeed. \\nIf  that  thy  bent  of  love  be  honorable. \\nThy  purpose  marriage,  send  me  word  to-morrow, \\nBy  one  that  I\\'ll  procure  to  come  to  thee. \\nWhere  and  what  time,  thou  wilt  perform  the  rite ; \\n\\n\\nEOMEO  AND  JULIET.  47 \\n\\nAnd  all  my  fortunes  at  thy  foot  I\\'ll  lay, \\n\\nAnd  follow  thee  my  lord  throughout  the  world. \\n\\nNurse.  [  Within]  Madam  ! \\n\\nJuliet.  I  come,  anon.  —  But  if  thou  mean\\'st  not  well, \\nI  do  beseech  thee  — \\n\\nNurse.  \\\\_Within\\']  Madam! \\n\\nJuliet.  By  and  by,  I  come.  — \\n\\nTo  cease  thy  suit,  and  leave  me  to  my  grief ; \\nTo-morrow  will  I  send. \\n\\nRomeo.  So  thrive  my  soul  — \\n\\nJuliet.  A  thousand  times  good  night !  [Exit. \\n\\nBorneo.   A  thousand   times   the  worse,  to  want   thy \\nlight. \\nLove  goes  toward  love  as  schoolboys  from  their  books, \\nBut  love  from  love  toward  school  with  heavy  looks. \\n\\n[Retiring  slowly. \\n\\nRe-enter  Juliet,  above. \\n\\nJuliet.  Hist !  Romeo,  hist !  —  0,  for  a  falconer\\'s  voice \\nTo  lure  this  tassel-gentle  back  again  ! \\nBondage  is  hoarse,  and  may  not  speak  aloud ; \\nElse  would  I  tear  the  cave  where  Echo  lies. \\nAnd  make  her  airy  tongue  more  hoarse  than  mine \\nWith  repetition  of  my  Romeo\\'s  name. \\n\\nRomeo.  It  is  my  soul  that  calls  upon  my  name ; \\nHow  silver-sweet  sound  lovers\\'  tongues  by  night, \\nLike  softest  miisic  to  attending  ears  ! \\n\\n\\n48  BOMEO  AND  JULIET. \\n\\nJuliet.  Eomeo ! \\n\\nIiomeo.  My  dear  ? \\n\\nJuliet.  At  what  o\\'clock  to-morrow \\n\\nShall  I  send  to  thee  ? \\n\\nBorneo.  At  the  hour  of  nine. \\n\\nJuliet.  I  will  not  fail ;  \\'tis  twenty  years  till  then. \\nI  have  forgot  why  I  did  call  thee  back. \\n\\nBorneo.  Let  me  stand  here  till  thou  remember  it. \\n\\nJuliet.  I  shall  forget,  to  have  thee  still  stand  there, \\nEemembering  how  I  love  thy  company. \\n\\nBorneo.  And  I\\'ll  still  stay,  to  have  thee  still  forget, \\nForgetting  any  other  home  but  this. \\n\\nJuliet.  \\'Tis  almost  morning  ;  I  would  have  thee  gone, \\nAnd  yet  no  farther  than  a  wanton\\'s  bird. \\nWho  lets  it  hop  a  little  from  her  hand. \\nLike  a  poor  prisoner  in  his  twisted  gyves, \\nAnd  with  a  silk  thread  plucks  it  back  again, \\nSo  loving-jealous  of  his  liberty. \\n\\nBorneo.  I  would  I  were  thy  bird. \\n\\nJuliet.  Sweet,  so  would  I ; \\nYet  I  should  kill  thee  with  much  cherishing. \\nGood  night,  good  night !  parting  is  such  sAveet  sorrow \\nThat  I  shall  say  good  night  till  it  be  morrow, \\n\\n\\\\_Exit,  above. \\n\\nBorneo.  Sleep   dwell  upon  thine   eyes,  peace  in  thy \\nbreast ! \\n\"Would  I  were  sleep  and  peace,  so  sweet  to  rest ! \\n\\n\\nPhoto  by  Byron \\n\\n\\nROMEO  AND  JULIET.  49 \\n\\nHence  will  I  to  my  ghostly  father\\'s  cell, \\n\\nHis  help  to  crave,  and  my  dear  hap  to  tell.  [Exit. \\n\\n\\nScene  III.     Friar  Laurence\\'s  Cell. \\n\\nEnter  Eriar  Laurence,  ivlth  a  basket. \\n\\nFriar  Laurence.  The    gray-eyed   morn  smiles  on  the \\nfrowning  night, \\nCheckering  the  eastern  clouds  with  streaks  of  light, \\nAnd  flecked  darkness  like  a  drunkard  reels \\nFrom  forth  day\\'s  path  and  Titan\\'s  fiery  wheels. \\nNow,  ere  the  sun  advance  his  burning  eye, \\nThe  day  to  cheer  and  night\\'s  dank, dew  to  dry, \\nI  must  up-fill  this  osier  cage  of  ours \\nWith  baleful  weeds  and  precious-juiced  flowers. \\nThe  earth  that\\'s  nature\\'s  mother  is  her  tomb; \\nWhat  is  her  burying  grave  that  is  her  womb, \\nAnd  from  her  womb  children  of  divers  kind \\nWe  sucking  on  her  natural  bosom  find. \\nMany  for  many  virtues  excellent. \\nNone  but  for  some,  and  yet  all  different. \\n0,  mickle  is  the  powerful  grace  that  lies \\nIn  herbs,  plants,  stones,  and  their  true  qualities  ! \\nFor  nought  so  vile  that  on  the  earth  doth  live \\nBut  to  the  earth  some  special  good  doth  give ; \\nNor  aught  so  good  but,  strain\\'d  from  that  fair  use. \\n\\n\\n50  ROMEO  AND   JULIET. \\n\\nKevolts  from  true  birtli,  stumbling  on  abuse. \\n\\nVirtue  itself  turns  vice,  being  misapplied, \\n\\nAnd  vice  sometiuu>\\\\s  by  action  dignified. \\n\\nWitliin  the  infant  rind  of  this  weak  flower \\n\\nl*oison  hath  residence,  and  nuHlicine  power ; \\n\\nFor  this,  bi\\'ing  snudt,  with  that  })art  cheers  each  part, \\n\\n]>eing  tast(Ml,  slays  all  senses  with  the  heart. \\n\\nTwo  such  opposed  kings  encamp  them  still \\n\\nIn  man  as  well  as  herbs,  —  grace  and  rude  will; \\n\\nAnd  where  the  worser  is  predominant, \\n\\nl^\\'ull  soon  the  canker  death  eats  up  that  plant. \\n\\nEnter   Komko. \\n\\nHomeo.  Good  morrow,  father. \\n\\nFriar  Laurence.  Benedicite ! \\n\\nWhat  early  tongue  so  sweet  saluteth  me  ?  — \\nYoung  son,  it  argues  a  disteniperM  head \\nSo  soon  to  bid  good  nmrrow  to  thy  bed : \\nCare  keeps  his  watch  in  every  old  man\\'s  eye, \\nAnd  where  care  lodges,  sleep  will  never  lie ; \\nlint  where  unbruised  youth  with  vuistuff\\'d  brain \\nDoth  couch  his  limbs,  there  golden  sleep  doth  reign. \\nTherefore  thy  earliness  doth  nie  assure \\nThou  art  up-rous\\'d  with  some  distemperature ; \\nOr  if  not  so,  then  here  I  hit  it  right. \\nOur  Komeo  hath  not  been  in  bed  to-night. \\n\\nIxomeo.  That  last  is  true  ;  the  sweeter  rest  was  mine. \\n\\n\\nIIOMEO  AND  JULIET.  51 \\n\\nFriar  Lai.trence.  God  pardon  sin  !  wast  thou  with  Rosa- \\nline ? \\n\\nRomeo.  With  Rosaline,  my  ghostly  father  ?  no  ; \\nI  have  forgot  that  name,  and  that  name\\'s  woe. \\n\\nFriar  Laurence.  That\\'s  my  good  son  ;  but  where  hast \\nthou  been,  then  ? \\n\\nRomeo.  I\\'ll  tell  thee,  ere  thou  ask  it  me  again. \\nI  have  been  feasting  with  mine  enemy, \\nWhere  on  a  sudden  one  hath  wounded  me, \\nThat\\'s  by  me  wounded ;  both  our  remedies \\nWithin  thy  help  and  holy  })hysic  lies. \\nI  bear  no  hatred,  blessed  man,  for,  lo, \\nMy  intercession  likewise  steads  my  foe. \\n\\nFriar  Laurence.  Be  plain,  good  son,  and  homely  in  thy \\ndrift ; \\nRiddling  confession  finds  but  riddling  shrift. \\n\\nRomeo.  Then  plainly  know,  my  heart\\'s  dear  love  is  set \\nOn  the  fair  daughter  of  rich  Capulet : \\nAs  mine  on  hers,  so  hers  is  set  on  mine ; \\nAnd  all  combin\\'d,  save  what  thou  must  combine \\nBy  holy  marriage.     When  and  where  and  how \\nWe  met,  we  woo\\'d  and  made  exchange  of  vow, \\nI\\'ll  tell  thee  as  we  pass ;  but  this  I  pray, \\nThat  thou  consent  to  marry  us  to-day. \\n\\nFriar  Laurence.  Holy  Saint  Francis,  what  a  change  is \\nhere  ! \\nIs  Rosaline,  that  thou  didst  love  so  dear, \\n\\n\\n52  ROMEO   AND  JULIET. \\n\\nSo  soon  forsaken  ?  young  men\\'s  love  then  lies \\n\\nNot  truly  in  their  hearts,  but  in  their  eyes. \\n\\nJesu  Maria,  what  a  deal  of  brine \\n\\nHath  wash\\'d  thy  sallow  cheeks  for  Rosaline ! \\n\\nHow  much  salt  water  thrown  away  in  waste, \\n\\nTo  season  love,  that  of  it  doth  not  taste  ! \\n\\nThe  sun  not  yet  thy  sighs  from  heaven  clears, \\n\\nThy  old  groans  ring  yet  in  my  ancient  ears ; \\n\\nLo,  here  upon  thy  cheek  the  stain  doth  sit \\n\\nOf  an  old  tear  that  is  not  wash\\'d  off  yet. \\n\\nIf  e\\'er  thou  wast  thyself  and  these  woes  thine. \\n\\nThou  and  these  woes  were  all  for  Rosaline  ; \\n\\nAnd  art  thou  chang\\'d  ?  pronounce  this  sentence  then: \\n\\nWomen  may  fall,  when  there\\'s  no  strength  in  men. \\n\\nRomeo.  Thou  chidd\\'st  me  oft  for  loving  Rosaline. \\n\\nFriar  Laxtrence.  For  doting,  not  for  loving,  pupil  mine. \\n\\nRomeo.  And  bad\\'st  me  bury  love. \\n\\nFriar  Laurence.  Not  in  a  grave. \\n\\nTo  lay  one  in,  another  out  to  have. \\n\\nRomeo.  I  pray  thee,  chide  not :  she  whom  I  love  now \\nDoth  grace  for  grace  and  love  for  love  allow  ; \\nThe  other  did  not  so. \\n\\nFriar  Laurence.         O,  she  knew  well, \\nThy  love  did  read  by  rote  and  could  not  spell. \\nBut  come,  young  waverer,  come,  go  with  me, \\nIn  one  respect  I\\'ll  thy  assistant  be ; \\nFor  this  alliance  may  so  happy  prove, \\nTo  turn  your  households\\'  rancor  to  pure  love. \\n\\n\\nROMEO  AND  JULIET.  53 \\n\\nBorneo.  0,  let  us  hence,  I  stand,  on  sudden  haste. \\nFriar  Laurence.  Wisely  and  slow ;  they  stumble  that \\nrun  fast.  \\\\_Exeunt. \\n\\nScene  IV.     A  Street. \\nEnter  Benvolio  and  Mercutio. \\n\\nMercutlo.  Where  the  devil  should  this  Romeo  be  ? \\nCame  he  not  home  to-night  ? \\n\\nBenvolio.  Not  to  his  father\\'s ;  I  spoke  with  his  man. \\n\\nMercutio.  Why,  that  same  pale   hard-hearted,  wench, \\nthat  Rosaline, \\nTorments  him  so  that  he  will  sure  run  mad. \\n\\nBenvolio.  Tybalt,  the  kinsman  of  old  Capulet, \\nHath  sent  a  letter  to  his  father\\'s  house. \\n\\nMercutio.  A  challenge,  on  my  life. \\n\\nBenvolio.  Romeo  will  answer  it. \\n\\nMercutio.  Any  man  that  can  write  may  answer  a  letter. \\n\\nBenvolio.  Nay,  he  will  answer  the  letter\\'s  master,  how \\nhe  dares,  being  dared. \\n\\nMercutio.  Alas,  poor  Romeo !  he  is  already  dead ; \\nstabbed  with  a  white  wench\\'s  black  eye ;  shot  through \\nthe  ear  with  a  love-song ;  the  very  pin  of  his  heart  cleft \\nwith  the  blind  bow-boy\\'s  butt-shaft :  and  is  he  a  man  to \\nencounter  Tybalt  ? \\n\\nBenvolio.  Why,  what  is  Tybalt  ? \\n\\nMercutio.  More  than  prince  of  cats,  I  can  tell  you.     0, \\n\\n\\n54  liOMEO  AXD  JULIET. \\n\\nlie  is  the  courageous  captain  of  compliments.  He  fights \\nas  you  sing  prick-song,  keeps  time,  distance,  and  propor- \\ntion; rests  nie  his  minim  rest,  one,  two,  and  the  third  in \\nyour  bosom :  the  very  butcher  of  a  silk  button,  a  duel- \\nlist, a  duellist ;  a  gentleman  of  the  very  first  house,  of \\nthe  first  and  second  cause.  Ah,  the  immortal  passado  I \\nthe  punto  reverso  !  the  hay  ! \\n\\nBcnvolio.  The  what? \\n\\nMercntio.  The  pox  of  such  antic,  lisping,  affecting \\nfantasticoes,  these  new  tuners  of  accents  !  \\'  By  Jesu,  a \\nver}-  good  blade  !  a  very  tall  man  !\\'  —  Why,  is  not  this  a \\nlamentable  thing,  grandsire,  that  we  should  be  thus \\nafflicted  with  these  strange  flies,  these  fashion-mongers, \\nthese  2H(rdo)ine.z-mois,  who  stand  so  much  on  the  new \\nform  that  they  cannot  sit  at  ease  on  the  old  bench  ?  0. \\ntheir  hons,  their  bans  ! \\n\\nEnter  Romeo. \\n\\nBenvolio.  Here  comes  Eomeo.  here  comes  Eomeo. \\n\\nMemitio.  Without  his  roe,  like  a  dried  herring.  0 \\nflesh,  flesh,  how  art  thou  fi.shified !  ^ow  is  he  for  the \\nnumbers  that  Petrarch  flowed  in :  Laura  to  his  lady  was \\nbut  a  kitchen-wench ;  marry,  she  had  a  better  love  to  be- \\nrhyme her ;  Dido  a  dowdy  ;  Cleopatra  a  gypsy ;  Helen \\nand  Hero  hildings  and  harlots ;  Thisbe  a  gray  ej-e  or  so. \\nbut  not  to  the  purpose.  —  Signior  Komeo.  hon  Jour.\\' \\nthere\\'s  a  French  salutation  to  your  French  slop.  You \\ngave  us  the  counterfeit  fairly  last  night. \\n\\n\\nROMEO  AND  JULIET.  55 \\n\\nliomeo.  Good  morrow  to  you  both.  What  counterfeit \\ndid  I  give  you  ? \\n\\nMercutio.  The  slip,  sir,  the  slip;  can  you  not  conceive  ? \\n\\nBorneo.  Pardon,  good  Mercutio,  rny  business  was  great ; \\nand  in  such  a  case  as  mine  a  man  may  strain  courtesy. \\n\\nMercutio.  That\\'s  as  much  as  to  say,  such  a  case  as \\nyours  constrains  a  man  to  bow  in  the  hams. \\n\\nRomeo.  Meaning,  to  courtesy. \\n\\nMercutio.  Thou  hast  most  kindly  hit  it. \\n\\nRomeo.  A  most  courteous  exposition. \\n\\nMercutio.  Nay,  I  am  the  very  pink  of  courtesy. \\n\\nRomeo.  Pink  for  flower. \\n\\nMerevtlo.  Kight. \\n\\nRomeo.  Why,  then  is  my  pump  well  flowered. \\n\\nMercutio.  Well  said ;  follow  me  this  jest  now  till  thou \\nhast  worn  out  thy  pumjj,  that  when  the  single  sole  of  it  is \\nworn,  the  jest  may  remain  after  the  wearing  sole  singular. \\n\\nRomeo.  0  single-soled  jest,  solely  singular  for  the  sin- \\ngleness. \\n\\nMercutio.  Come  between  us,  good  Benvolio ;  my  wits \\nfail. \\n\\nRomeo.  Switch  and  spurs,  switch  and  spurs  ;  or  I\\'ll \\ncry  a  match. \\n\\nMercutio.  Nay,  if  thy  wits  run  the  wild-goose  chase,  I \\nhave  done,  for  thou  hast  more  of  the  wild-goose  in  one \\nof  thy  wits  than,  I  am  sure,  I  have  in  my  whole  five. \\nWas  T  with  you  there  for  the  goose  ? \\n\\n\\n56  BOMEO  AND  JULIET. \\n\\nRomeo.  Thou  wast  never  with  me  for  anything  when \\nthou  wast  not  there  for  the  goose. \\n\\nMercutio.  I  will  bite  thee  by  the  ear  for  that  jest. \\n\\nRomeo.  Nay,  good  goose,  bite  not. \\n\\nMercutio.  Thy  wit  is  ^  very  bitter  sweeting;  it  is  a \\nmost  sharp  sauce. \\n\\nRomeo.  And  is  it  not  well  served  in  to  a  sweet  goose  ? \\n\\nIlerctitio.  0,  here\\'s  a  wit  of  cheveril,  that  stretches \\nfrom  an  inch  narrow  to  an  ell  broad ! \\n\\nRomeo.  I  stretch  it  out  for  that  word  \\'  broad  ; \\'  which \\nadded  to  the  goose,  proves  thee  far  and  wide  a  broad \\ngoose. \\n\\nMercutio.  Why,  is  not  this  better  now  than  groaning \\nfor  love  ?  now  art  thou  sociable,  now  art  thou  Romeo ; \\nnow  art  thou  what  thou  art,  by  art  as  well  as  by  nature  : \\nfor  this  drivelling  love  is  like  a  great  natural,  — \\n\\nBenvolio.  Stop  there,  stop  there. \\n\\nRomeo.  Here\\'s  goodly  gear  ! \\n\\nEnter  Nurse  and  Peter. \\n\\nMercutio.  A  sail,  a  sail ! \\nBenvolio.  Two,  two ;  a  shirt  and  a  smock. \\nNurse.  Peter ! \\nPeter.  Anon ! \\nNurse.  My  fan,  Peter. \\n\\nMercutio.  Good  Peter,  to  hide  her  face ;  for  her  fan\\'s \\nthe  fairer  of  the  two. \\n\\n\\nROMEO   AND  JULIET.  57 \\n\\nNurse.  God  ye  good  morrow,  gentlemen, \\nMercutio.  God  ye  good  den,  fair  gentlewoman. \\n\\nNurse.  Is  it  good  den  ? \\n\\nMercutio.  \\'Tis  no  less,  I  tell  yon,  for  the  hand  of  the \\ndial  is  now  upon  the  prick  of  noon. \\n\\nNurse.  Out  upon  you  !  what  a  man  are  you ! \\n\\nRomeo.  One,  gentlewoman,  that  God  hath  made  for \\nhiiiiself  to  mar. \\n\\nNurse.  By  my  troth,  it  is  well  said;  \\'for  himself  to \\nmar,\\'  quoth  a\\'  ?  —  Gentlemen,  can  any  of  you  tell  me \\nwhere  I  may  find  the  young  Romeo  ? \\n\\nRomeo.  I  can  tell  you;  but  young  Romeo  will  be \\nolder  when  you  have  found  him  than  he  was  when  you \\nsought  him.  I  am  the  youngest  of  that  name,  for  fault \\nof  a  worse. \\n\\nNurse.  You  say  well. \\n\\nMercutio.  Yea,  is  the  worst  well  ?  very  well  took,  i\\' \\nfaith ;  wisely,  wisely. \\n\\nNurse.  If  you  be  he,  sir,  I  desire  some  confidence  with \\nyou. \\n\\nBenvolio.  She  will  indite  him  to  some  supper. \\n\\nMercutio.  So  ho  ! \\n\\nRomeo.  \"What  hast  thou  found  ? \\n\\nMercutio.  No  hare,  sir ;  unless  a  hare,  sir,  in  a  lenten  pie, \\nthat  is  something  stale  and  hoar  ere  it  be  spent.  —  Romeo, \\nwill  you  come  to  your  father\\'s  ?  we\\'ll  to  dinner,  thither. \\n\\nRomeo.  I  will  follow  you. \\n\\n\\n58  EOMEO  AND  JULIET. \\n\\nMercut\\'io.  Farewell,  ancient  lady;  farewell,  [singing\\'] \\n\\'lady,  lady,  lady.\\'  \\\\_Exeunt  Mercut\\'io  and  Benrolh. \\n\\nJS^iirse.  jSIarry,  farewell  1  —  I  pray  you,  sir,  what  saucy \\nmerchant  was  this,  that  was  so  full  of  his  ropery  ? \\n\\nBorneo.  A  gentleman,  nurse,  that  loves  to  hear  himself \\ntalk,  and  Avill  speak  more  in  a  minute  than  he  will  stand \\nto  in  a  month. \\n\\nXurse.  An  a\\'  speak  anything  against  me,  I\"ll  take  him \\ndown,  an  a\\'  were  lustier  than  he  is,  and  twenty  such \\nJacks ;  and  if  I  cannot,  I\\'ll  find  those  that  shall.  Scurvy \\nknave  !  I  am  none  of  his  llirt-gills ;  I  am  none  of  his \\nskains-mates.  —  And  thou  must  stand  by  too,  and  suffer \\nevery  knave  to  use  me  at  his  pleasure  ? \\n\\nPeter.  I  saw  no  man  use  you  at  his  pleasure ;  if  I \\nhad,  my  weapon  should  quickly  have  been\\'  out,  I  warrant \\nyou.  I  dare  draw  as  soon  as  another  man,  if  I  see  occa- \\nsion in  a  good  quarrel,  and  the  law  on  my  side. \\n\\nNurse.  Now,  afore  God,  I  am  so  vexed,  that  every \\npart  about  me  quivers.  Scurvy  knave  ! — Pray  you,  sir, \\na  word ;  and  as  I  told  you,  my  young  lady  bade  me \\ninquire  you  out ;  what  she  bade  me  say,  I  Avill  keep  to \\nmyself :  but  first  let  me  tell  ye,  if  ye  should  lead  her  in \\na  fool\\'s  paradise,  as  they  say,  it  were  a  very  gross  kind \\nof  behavior,  as  they  say ;  for  the  gentlewoman  is  young, \\nand,  therefore,  if  you  should  deal  double  with  her.  truly \\nit  were  an  ill  thing  to  be  offered  to  any  gentlewoman, \\nand  very  weak  dealing. \\n\\n\\nBOMEO  AND  JULIET.  59 \\n\\nBorneo.  Nurse,  commend  me  to  thy  lady  and  mistress. \\nI  protest  unto  thee  — \\n\\nNurse.  Good  heart,  and,  i\\'  faith,  I  will   tell   her   as \\nmuch.     Lord,  Lord,  she  will  be  a  joyful  woman. \\n\\nRomeo.  What  wilt  thou  tell  her,  nurse  ?  thou  dost  not \\nmark  me. \\n\\nNurse.  I  will  tell  her,  sir,  that  you  do  protest ;  which, \\nas  I  take  it,  is  a  gentlemanlike  offer. \\n\\nRomeo.  Bid  her  devise  some  means  to  come  to  shrift \\nThis  afternoon ; \\n\\nAnd  there  she  shall  at  Friar  Laurence\\'  cell \\nBe  shriv\\'d  and  married.     Here  is  for  thy  pains. \\n\\nNurse.  No,  truly,  sir ;  not  a  penny. \\n\\nRomeo.  Go  to  ;  I  say  you  shall. \\n\\nNurse.  This  afternoon,  sir  ?  well,  she  shall  be  there. \\n\\nRomeo.  And  stay,  good  nurse ;  behind  the  abbey  wall \\n\"Within  this  hour  my  man  shall  be  with  thee. \\nAnd  bring  thee  cords  made  like  a  tackled  stair ; \\nWhich  to  the  high  top-gallant  of  my  joy \\nMust  be  my  convoy  in  the  secret  night. \\nFarewell ;  be  trusty,  and  I\\'ll  quit  thy  pains : \\nFarewell ;  commend  me  to  thy  mistress. \\n\\nNirse.  Now  God  in  heaven  bless  thee  !    Hark  you,  sir. \\n\\nRomeo.  What  say\\'st  thou,  my  dear  nurse  ? \\n\\nNurse.  Is  your  man  secret?     Did  you  ne\\'er  hear  say, \\nTwo  may  keep  counsel,  putting  one  away  ? \\n\\nRomeo.  I  warrant  thee,  my  man\\'s  as  true  as  steel. \\n\\n\\nCO  ROMEO  AND  JULIET. \\n\\nXio\\'sr.  \\\\\\\\\\'A\\\\,  sir;  my  mistress  is  tlio  swcolost,  lady  — \\nLord,  Lord!  wIumi  \"twas  a,  little  prating  thing  —  O.  tlun-e \\nis  a.  iiobloman  in  town,  one  Paris,  that  would  lain  lay \\nknit\\'c  aboard;  but  she,  good  soul,  had  as  lieve  sei\\'  a  toad, \\na  very  toad,  as  sec  him.  I  anger  her  sometimes,  and \\nt(>ll  her  that  Paris  is  the  properor  man;  but.  Til  warrant \\nyou,  when  I  say  so,  she  looks  as  pale  as  any  elout  in  the \\nversal  world.  Doth  not  rosemary  and  Konieo  begin  both \\nwith  a.  hotter  ? \\n\\nKomeo.  Ay,  nurse ;  what  of  that  ?  both  with  an  R. \\n\\nNurse.  Ah,  mocker!  that\\'s  the  dog\\'s  name;  \\\\\\\\  is  for \\nthe — No,  I  know  it  begins  with  sonu^  other  letter  —  and \\nshe  hath  the  jjrettiest  sententious  of  it,  of  you  and  rose- \\nmary, that  it  would  do  you  good  to  hear  it. \\n\\nBoweo.  Counneud  nu\\'  to  thy  lady. \\n\\nNurse.  Ay,  a  thousand  times.  —  \\\\_Exlt  Homco.\\']    Pi>ter ! \\n\\nPeter.  Anon ! \\n\\nNurse.  Before,  and  apace.  [A\\'.reioit. \\n\\nScene  V.     C<tpiih\\'f\\'\\'s  Orehdrd. \\n\\nEnter  AvxAV.w \\n\\nJuliet.  The    eloek  struek   nine  when  T   did   send  the \\nnurse  ; \\nIn  half  an  hour  she  promis\\'d  to  return. \\nTerehanee  she  cannot  meet  him;  that\\'s  not  so. \\n(),  she  is  lame !  love\\'s  heralds  should  be  thoughts. \\n\\n\\nliOMKO  AND  JULIET.  61 \\n\\nWhich  ten  times  faster  glide  than  the  sun\\'s  beams \\n\\nDriving  back  shadows  over  lowering  hills ; \\n\\nTherefore  do  nimble-pinion\\'d  doves  draw  love, \\n\\nAnd  therefore  hath  the  wind-swift  Cupid  wings. \\n\\nNow  is  the  sun  upon  the  highniost  h\\'U \\n\\nOf  tills  day\\'s  journey,  and  IVoiii  nine  till  twelve \\n\\nJs  three  long  hours,  ycit  she  is  not  come. \\n\\nHad  she  affections  and  warm  youthful  Ijlood, \\n\\nShe  would  be  as  swil\\'t  in  motion  as  a  ball ; \\n\\nMy  words  would  bandy  her  to  my  sweet  love, \\n\\nAnd  his  to  me  : \\n\\nBut  old  folks,  many  feign  as  they  were  dead; \\n\\nUnwieldy,  slow,  heavy  and  pale  as  lead. — \\n\\nEnter  Nurse  and  Pktkh. \\n\\nO  God,  she  eom(!S  !  —  0  hom\\'y  nurse,  wlia,t  news  ? \\nHast  thou  met  with  him  ?     Send  thy  jiian  away. \\n\\nNume.  Peter,  stay  at  the  gat(;.  [ICxlt  Peter. \\n\\nJuliet.  Now,  good  sweet  nurse,  —  0  Lord,  wliy  look\\'st \\nthou  sad  ? \\nThough  news  be  sad,  yet  tell  them  merrily; \\nIf  good,  thou  sham\\'st  the  music  of  sweet  news \\nBy  playing  it  to  me  with  so  sour  a  face. \\n\\nNurse.  I  am  aweary,  give  me  leave  awhile, \\nFie,  how  my  bones  ache  !  what  a  jaunt  have  I  had  ! \\n\\nJallct.  I  would  thou  hadst  my  bones,  and  I  thy  news. \\nNay,  come,  I  pray  thee,  speak;  good,  good  nurse,  speak. \\n\\n\\n02  EOMEO  AND  JULIET. \\n\\nNurse.  Jesu,  wliat  haste  ?  can  yon  not  stay  awhile  ? \\nDo  yon  not  see  that  I  am  ont  of  breath  ? \\n\\nJuliet.  How  art  thon  ont  of  breath,  when  thon  hast \\nbreath \\nTo  say  to  me  that  thon  art  ont  of  breath  ? \\nThe  excnse  that  thou  dost  make  in  this  delay \\nIs  longer  than  the  tale  thou  dost  excnse. \\nIs  thy  news  good,  or  bad  ?  answer  to  that ; \\nSay  either,  and  I\\'ll  stay  the  circumstance. \\nLet  me  be  satisfied,  is\\'t  good  or  bad  ? \\n\\nNurse.  Well,  you  have  made  a  simple  choice;  yon  know \\nnot  how  to  choose  a  man.  Romeo  !  no,  not  he ;  though \\nhis  face  be  better  than  any  man\\'s,  yet  his  leg  excels  all \\nmen\\'s ;  and  for  a  hand,  and  a  foot,  and  a  bod}\\',  though \\nthej\"-  be  not  to  be  talked  on,  yet  they  are  past  compare : \\nhe  is  not  the  flower  of  courtesy,  but,  I\\'ll  warrant  him,  as \\ngentle  as  a  lamb.  Go  thy  waj^s,  wench ;  serve  God. \\nWhat,  have  you  dined  at  home  ? \\n\\nJuliet.  No,  no  ;  but  all  this  did  I  know  before. \\nAVhat  says  he  of  our  marriage  ?  what  of  that  ? \\n\\nNurse.  Lord,  how  my  head  aches  !  what  a  head  have  I ! \\nIt  beats  as  it  would  fall  in  twenty  pieces. \\n]\\\\ry  back  o\\'  t\\'other  side,  —  0,  my  back,  my  back ! \\nl>oshrew  your  heart  for  sending  me  about, \\nTo  catch  my  death  with  jaunting  up  and  down  ! \\n\\nJuliet.  V  faith,  I  am  sorry  that  thou  art  not  well. \\nSweet,  sweet,  sweet  nurse,  tell  me,  what  says  my  love  ? \\n\\n\\nROMEO  AND  JULIET.  gg \\n\\nNurse.  Your  love  says,  like  an  honest  gentleman, \\nAnd  a  courteous,  and  a  kind,  and  a  handsome, \\nAnd,  I  warrant,  a  virtuous,  — Where  is  your  mother  ? \\n\\nJuliet.  Where  is  my  mother !  why,  she  is  within  • \\nWhere  should  she  be  ?     How  oddly  thou  repliest ! \\n\\'Your  love  says,  like  an  honest  gentleman. \\nWhere  is  your  mother  ?  \\' \\n\\nNurse.  0  God\\'s  lady  dear  ! \\n\\nAre  you  so  hot  ?  marry,  come  up,  I  trow  ; \\nIs  this  the  poultice  for  my  aching  bones  ? \\nHenceforward  do  your  messages  yourself. \\nJuliet.  Here\\'s  such  a  coil!  — come,  what  says  Romeo? \\nNurse.  Have  you  got  leave  to  go  to  shrift  to-day  ? \\nJuliet.  I  have. \\n\\nNurse.  Then  hie  you  hence  to  Friar  Laurence\\'  cell ; \\nThere  stays  a  husband  to  make  you  a  wife. \\nNow  comes  the  wanton  blood  up  in  your  cheeks, \\nThey\\'ll  be  in  scarlet  straight  at  any  news. \\nHie  you  to  church  ;  I  must  another  way. \\nTo  fetch  a  ladder,  by  the  which  your  love \\nMust  climb  a  bird\\'s  nest  soon  when  it  is  dark  ; \\nI  am  the  drudge,  and  toil  in  your  delight. \\nGo ;  I\\'ll  to  dinner  :  hie  you  to  the  cell. \\nJuliet.  Hie  to  high  fortune  !— Honest  nurse,  farewell. \\n\\n\\\\Exeunt. \\n\\n\\n64  EOMEO  AND  JULIET. \\n\\nScene  VI.     Friar  Laurence^s  Cell. \\nEnter  Friar  Laurence  and  Romeo. \\n\\nFriar  Laurence.  So  smi]e  the  heavens  upon  this  holy \\nact \\nThat  after  hours  with  sorrow  chide  us  not ! \\n\\nRomeo.  Amen,  amen  !  but  come  what  sorrow  can, \\nIt  cannot  countervail  the  exchange  of  joy \\nThat  one  short  minute  gives  me  in  her  sight. \\nDo  thou  hut  close  our  hands  with  holy  words, \\nThen  love-devouring  death  do  what  he  dare, \\nIt  is  enough  I  may  but  call  her  mine. \\n\\nFriar  Laurence.  These  violent  delights  have  violent \\nends, \\nAnd  in  their  triumph  die,  like  fire  and  powder. \\nWhich  as  they  kiss  consume  •  the  sweetest  honey \\nIs  loathsome  in  his  own  deliciousness. \\nAnd  in  the  taste  confounds  the  appetite. \\nTherefore  love  moderately ;  long  love  doth  so  : \\nToo  swift  arrives  as  tardy  as  too  slow. \\n\\nEnter  Juliet. \\n\\nHere  comes  the  lady.     0,  so  light  a  foot \\nWill  ne\\'er  wear  out  the  everlasting  flint ! \\nA  lover  may  bestride  the  gossamer \\nThat  idles  in  the  wanton  summer  air, \\nAnd  yet  not  fall ;  so  light  is  vanity. \\n\\n\\nBOMEO  AND  JULIET.  65 \\n\\nJuliet.  Good  even  to  my  ghostly  confessor. \\n\\nFriar  Laurence.  Komeo  shall  thank   thee,  daughter, \\nfor  us  both. \\n\\nJuliet.  As  much  to  him,  else  is  his  thanks  too  much, \\n\\nRomeo.  Ah,  Juliet,  if  the  measure  of  thy  joy \\nBe  heap\\'d  like  mine  and  that  thy  skill  De  more \\nTo  blazon  it,  then  sweeten  with  thy  breath \\nThis  neighbor  air,  and  let  rich  music\\'s  tongue \\nUnfold  the  imagin\\'d  happiness  that  both \\nEeceive  in  either  by  this  dear  encounter. \\n\\nJuliet.  Conceit,  more  rich  in  matter  than  in  words, \\nBrags  of  his  substance,  not  of  ornament. \\nThey  are  but  beggars  that  can  count  their  worth ; \\nBut  my  true  love  is  grown  to  such  excess \\nI  cannot  sum  up  half  my  sum  of  wealth. \\n\\nFriar  Laurence.  Come,  come  with  me,  and  we  will  make \\nshort  work ; \\nFor,  by  your  leaves,  you  shall  not  stay  alone \\nTill  holy  church  incorporate  two  in  one.  [_Exeimt. \\n\\n\\nACT   III. \\n\\nScene  I.     A  Public  Place. \\n\\nEnter  Mekcutio,  Benvolio,  Page,  and  Servants. \\n\\nBenvolio.  I  pi-ay  thee,  good  Merciitio,  let\\'s  retire : \\nThe  day  is  hot,  the  Capulets  abroad, \\nAnd  if  we  meet  we  shall  not  scape  a  brawl ; \\nFor  now,  these  hot  days,  is  the  mad  blood  stirring. \\n\\nMercutio.  Thou  art  like  one  of  tliose  fellows  that  when \\nhe  enters  the  confines  of  a  tavern  claps  me  his  sword \\nupon  the  table,  and  says  \\'God  send  me  no  need  of  thee!\\' \\nand  by  the  operation  of  the  second  cup  draws  hiui  on  the \\ndrawer,  when. ind^ed^there  is  no  need. \\n\\nBenvolio.  Am  I  like  such  a  fellow  ? \\n\\nMercutio.  Come,  come,  thou  art  as  hot  a  Jack  in  thy \\nmood  as  any  in  Italy,  and  as  soon  moved  to  be  moody, \\nand  as  soon  moody  to  be  moved. \\n\\nBenvolio.  And  what  to  ? \\n\\nMercutio.  Nay,  an  there  were  two  such,  we  should \\nhave  none  shortly,  for  one  would  kill  the  other.  Thou  ! \\nwhy,  thou  wilt  quarrel  with  a  num  that  hath  a  hair \\nmore,  or  a  hair  less,  in  his  beard  than  thou  hast.  Thou \\nwilt  quarrel  with  a  man  for  cracking  nuts,  luiving  no \\nother  reason  but  because  thou  hast  hazel   eyes ;  what \\n\\n66 \\n\\n\\nROMEO  AND  JULIET.  67 \\n\\neye  but  such  an  eye  would  spy  out  such  a  quarrel  ? \\nThy  head  is  as  full  of  quarrels  as  au  egg  is  full  of  meat, \\nand  yet  thy  head  hath  been  beaten  as  addle  as  an  egg \\nfor  quarrelling.  Thou  hast  quarrelled  with  a  man  for \\ncoughing  in  the  street,  because  he  hath  wakened  thy  dog \\nthat  hath  lain  asleep  in  the  sun.  Didst  thou  not  fall  out \\nwith  a  tailor  for  wearing  his  new  doublet  before  Easter  ? \\nwith  another,  for  tying  his  new  shoes  with  old  riband  ? \\nand  yet  thou  wilt  tutor  me  from  quarrelling ! \\n\\nBenvolio.  An  I  were  so  apt  to  quarrel  as  thou  art,  any \\nman  should  buy  the  fee-simple  of  my  life  for  an  hour \\nand  a  quarter. \\n\\nMercutio.  The  fee-simple  !     0  simj^le ! \\n\\nBenvolio.  By  my  head,  here  come  the  Capulets. \\n\\nMercutio.  By  my  heel,  I  care  not. \\n\\nEnter  Tybalt  and  others. \\n\\nTybalt.  Follow  me  close,  for  I  will  speak  to  them.  — \\nGentlemen,  good  den ;  a  word  with  one  of  you. \\n\\nMercutio.  And  but  one  word  with  one  of  us  ?  couple \\nit  with  something,  make  it  a  word  and  a  blow. \\n\\nTybalt.  You  shall  find  me  apt  enough  to  that,  sir,  an \\nyou  will  give  me  occasion. \\n\\nMercutio.  Could  you  not  take  some  occasion  without \\ngiving  ? \\n\\nTybalt.  Mercutio,  thou  consort\\'st  with  Romeo,  — \\n\\nMercutio.  Consort !  what,  dost  thou  make  us  minstrels  ? \\n\\n\\n68  ROMKO  AND  JULIET. \\n\\nan  thou  make  minstrels  of  ns,  look  to  hear  nothing  but \\ndiscords  :  liere\\'s  my  fiddlestick ;  here\\'s  that  shall  make \\nyou  dance.     Zounds,  consort ! \\n\\nBenvollo.  We  talk  here  in  the  public  haunt  of  men. \\nEither  withdraw  unto  some  private  place, \\nOr  reason  coldly  of  your  grievances, \\nOr  else  depart ;  here  all  eyes  gaze  on  ns. \\n\\nMercutlo.  Men\\'s  eyes  were  made  to  look,  and  let  them \\ngaze ; \\nI  will  not  budge  for  no  man\\'s  pleasure,  I. \\n\\nEntei\\'  RoMKO. \\n\\nTyhalt.  Well,  peace  be  with  you,  sir;  here  comes  my \\nman. \\n\\nMercutlo.  \\'\\\\^\\\\\\\\t  I\\'ll  be  hang\\'d,  sir,  if  he  wear  your  livery. \\nMarry,  go  before  to  field,  he\\'ll  be  your  follower ; \\nYour  worship  in  that  sense  may  call  him  man. \\n■  Tybalt.  Romeo,  the  hate  I  bear  thee  can  afford \\nNo  better  term  than  this,  —  thou  art  a  villain. \\n\\nRomeo.  Tybalt,  the  reason  that  I  hav^e  to  love  thee \\nDoth  much  excuse  the  appertaining  rage \\nTo  such  a  greeting.     Villain  am  I  none ; \\nTherefore  farewell :  I  see  thou  know\\'st  me  not. \\n\\nTi/halt.  Boy,  this  shall  not  excuse  the  injuries \\nThat  thou  hast  done  me  ;  therefore  turn  and  draT.- \\n\\nBomeo.  I  do  protest,  1  never  injur\\'d  thee, \\nl)ut  love  thee  better  than  thou  canst  devise, \\n\\n\\nROMEO  AND  JULIET.  gg \\n\\nTill  thou  shalt  know  the  reason  of  my  love ; \\nAnd  so,  good  Capulet,  —  which  name  I  tender \\nAs  dearly  as  my  own,  —  be  satisfied. \\n\\nMercutio.  0,  calm,  dishonorable,  vile  submission ! \\nA  la  stoccata  carries  it  away.  [Draws. \\n\\nTybalt,  you  rat-catcher,  will  you  walk  ? \\n\\nTybalt.  What  wouldst  thou  have  with  me  ? \\n\\nMercutio.  Good  king  of  cats,  nothing  but  one  of  your \\nnine  lives ;  that  I  mean  to  make  bold  withal,  and,  as  you \\nshall  use  me  hereafter,  dry-beat  the  rest  of  the  eight. \\nWill  you  pluck  your  sword  out  of  his  pilcher  by  the  ears  ? \\nmake  haste,  lest  mine  be  about  your  ears  ere  it  be  out. \\n\\nTybalt.  I  am  for  you.  [Drawin;/^ \\n\\n■   Romeo.  Gentle  Mercutio,  put  thy  rapier  up. \\nMercutio.  Come,  sir,  your  passado.  \\\\_Theyfght. \\n\\nRomeo.  Draw,  Benvolio;  beat  down  their  weapons. \\n\\nGentlemen,  for  shame,  forbear  this  outrage ! \\nTybalt,  Mercutio,  the  prince  expressly  hath \\nForbid  this  bandying  in  Verona  streets. \\nHold,  Tybalt !  good  Mercutio  ! \\n\\n\\\\_Exeunt  Tybalt  and  Ms ^artiso/as. \\nMercutio.  I  am  hurt. \\n\\nA  plague  o\\'  both  your  houses  I     I  am  sped. \\nIs  he  gone,  and  hath  nothing  ? \\nBenvolio.  What,  art  thou  hurt  ? \\n\\nMercutio.   Ay,   ay,  a   scratch,  a  scratch ; \\'  marry,   \\'tis \\nenough.  — \\n\\n\\n70  liOMEO  AND  JULIET. \\n\\nWhere  is  my  page  ?     Go,  villain,  fetch  a  surgeon. \\n\\n\\\\_Exit  Page. \\n\\nBorneo.  Courage,  man  ;  the  hurt  cannot  be  much. \\n\\n3L>rcutio.  Ko,  \\'tis  not  so  deep  as  a  well,  nor  so  wide  as \\na  church-door ;  but  \\'tis  enough,  \\'twill  serve  :  ask  for  me \\nto-morrow,  and  you  shall  find  ine  a  grave  man.  I  am \\npeppered,  I  warrant,  for  this  world.  —  A  plague  o\\'  both \\nyour  houses!  —  Zounds,  a  dog,  a  rat,  a  mouse,  a  cat,  to \\nscratch  a  man  to  death !  a  braggart,  a  rogue,  a  villain, \\nthat  fights  by  the  book  of  arithmetic!  —  Why  the  devil \\ncame  you  between  us  ?     I  was  hurt  under  your  arm. \\n\\nRomeo.  I  thought  all  for  the  best. \\n\\nMercutio.  Help  me  into  some  house,  Benvolio, \\nOr  I  shall  faint.  —  A  plague  o\\'  both  your  houses  ! \\nThey  have  made  worms\\'  meat  of  me.     I  have  it, \\nAnd  soundly  too  ;  your  houses  ! \\n\\n\\\\_Exeunt  Mercutio  and  Benvolio. \\n\\nBorneo.  This  gentleman,  the  prince\\'s  near  ally, \\nMy  very  friend,  hath  got  his  mortal  hurt \\nIn  my  behalf;  my  reputation  stain\\'d \\nWith  Tybalt\\'s  slander,  —  Tybalt,  that  an  hour \\nHath  been  my  cousin  !  —  0  sweet  Juliet, \\nThy  beauty  hath  made  me  effeminate, \\nAnd  in  my  temper  soften\\'d  valor\\'s  steel ! \\n\\nBe-enter  Benvolio. \\nBenvolio.  0  Eomeo,  Eomeo,  brave  Mercutio\\'s  dead ! \\n\\n\\nROMEO  AND  JULIET.  1\\\\ \\n\\nThat  gallant  spirit  hath  aspir\\'cl  the  clouds, \\nWhich  too  untimely  here  did  scorn  the  earth. \\n\\nBorneo.  This  day\\'s_  black  fate  on  more  days  doth  de- \\npend; \\nThis  but  begins  the  woe  others  must  end. \\n\\nBenvolio.  Here  conies  the  furious  Tybalt  back  again. \\n\\nRe-enter  Tybalt. \\n\\nRomeo.  Alive,  in  triumph  !  and  Mercutio  slain ! \\nAway  to  heaven,  respective  lenity. \\nAnd  fire-eyed  fury  be  my  conduct  now !  — \\nNow,  Tybalt,  take  the  villain  back  again \\nThat  late  thou  gavest  me  !  for  Mercutio\\'s  soul \\nIs  but  a  little  way  above  our  heads, \\nStaying  for  thine  to  keep  him  company ; \\nEither  thou,  or  T,  or  both,  must  go  with  him. \\n\\nT^Jhalt.  Thou,  wretched   boy,  that  didst  consort  him \\nhere \\nShalt  with  him  hence. \\n\\nBorneo.  This  shall  determine  that. \\n\\n[  Thetj  fight ;  Tybalt  falls. \\n\\nBenvolio.  Komeo,  a^vay,  be  gone  ! \\nThe  citizens  are  up,  and  Tybalt  slain. \\nStand  not  amaz\\'d;  the  prince  will  doom  thee  death, \\nIf  thou  art  taken.     Hence,  be  gone,  away ! \\n\\nRomeo.  0,  I  am  fortune\\'s  fool ! \\n\\nBenvolio.  Why  dost  thou  stay  ? \\n\\n[^Exit  Romeo. \\n\\n\\n72  liOMEO  AND  JULIET. \\n\\nEnter  Citizens,  etc. \\n\\n1  Citizen.  Wliich  way  ran  he  that  kill\\'d  Mercutio  ? \\nTybalt,  that  murderer,  which  way  ran  he  ? \\n\\nBenvolio.  There  lies  that  Tybalt. \\n\\n1  Citizen.  Up,  sir,  go  with  nie ; \\n\\nI  charge  thee  in  the  prince\\'s  name,  obey. \\n\\nEnter  Prince,  attended ;  Moxtague,  Capulet,  their \\nWives,  and  others. \\n\\nPrince.  Where  are  the  vile  beginners  of  this  fray  ? \\n\\nBenvolio.  0  noble  prince,  I  can  discover  all \\nThe  unlucky  manage  of  this  fatal  brawl. \\nThere  lies  the  man,  slain  by  young  Romeo, \\nThat  slew  thy  kinsman,  brave  Mercutio. \\n\\nLady  Capulet.   Tybalt,  my  cousin !   0   my  brother\\'s \\nchild! \\n0  prince !  0  cousin  !  husband !  0,  the  blood  is  spilt \\nOf  my  dear  kinsman!  —  Prince,  as  thou  art  true, \\nPor  blood  of  ours  shed  blood  of  Montague. \\n0  cousin,  cousin ! \\n\\nPrince.  Benvolio,  who  began  this  bloody  fray  ? \\n\\nBenvolio.  Tybalt,  here  slain,  whom  Romeo\\'s  hand  did \\nslay ; \\nRomeo  that  spoke  him  fair  bade  him  bethink \\nHoAv  nice  the  quarrel  was,  and  urg\\'d  withal \\nYour  high  displeasure  :  all  this,  uttered \\nWith  gentle  breath,  calm  look,  knees  humbly  bow\\'d. \\n\\n\\n/^ \\n\\n\\nPhoto  by  Byron \\n\\n\\nBOMEO  AND  JULIET.  73 \\n\\nCould  not  take  truce  with  the  unruly  spleen \\n\\nOf  Tybalt  deaf  to  peace,  but  that  he  tilts \\n\\nWith  piercing  steel  at  bold  Mercutio\\'s  breast. \\n\\nWho,  all  as  hot,  turns  deadly  point  to  point, \\n\\nAnd,  with  a  martial  scorn,  with  one  hand  beats \\n\\nCold  death  aside,  and  with  the  other  sends \\n\\nIt  back  to  Tybalt,  whose  dexterity \\n\\nRetorts  it.     Romeo  he  cries  aloud, \\n\\n\\'  Hold,  friends !  friends,  part ! \\'  and  swifter  than  his  tongue, \\n\\nHis  agile  arm  beats  down  their  fatal  points. \\n\\nAnd  \\'twixt  them  rushes ;  underneath  whose  arm \\n\\nAn  envious  thrust  from  Tybalt  hit  the  life \\n\\nOf  stout  Mercutio,  and  then  Tybalt  fled  ; \\n\\nBut  by  and  by  comes  back  to  Romeo, \\n\\nWho  had  but  newly  entertain\\'d  revenge, \\n\\nAnd  to\\'t  they  go  like  lightning,  for,  ere  I \\n\\nCould  draw  to  part  them,  was  stout  Tybalt  slain. \\n\\nAnd,  as  he  fell,  did  Romeo  turn  and  fly. \\n\\nThis  is  the  truth,  or  let  Benvolio  die. \\n\\nLady  Capulet.  He  is  a  kinsman  to  the  Montague  ; \\nAffection  makes  him  false,  he  speaks  not  true  : \\nSome  twenty  of  them  fought  in  this  black  strife. \\nAnd  all  those  twenty  could  but  kill  one  life. \\nI  beg  for  justice,  which  thou,  prince,  must  give  ; \\nRomeo  slew  Tybalt,  Romeo  must  not  live. \\n\\nPrince.  Romeo  slew  him,  he  slew  Mercutio ; \\nWho  now  the  price  of  his  dear  blood  doth  owe  ? \\n\\n\\n74  EOMEO  AND  JULIET. \\n\\nMontague.   Not    Komeo,    prince,   he   was    Mercutio\\'s \\nfriend ; \\nHis  fault  concludes  but  what  the  law  should  end, \\nThe  life  of  Tybalt. \\n\\nPrince.  And  for  that  offence \\n\\nImmediately  we  do  exile  him  hence. \\nI  have  an  interest  in  your  hate\\'s  proceeding, \\nMy  blood  for  your  rude  brawls  doth  lie  a-bleeding ; \\nBut  I\\'ll  amerce  you  with  so  strong  a  fine \\nThat  you  shall  all  repent  the  loss  of  mine. \\nI  will  be  deaf  to  pleading  and  excuses  ; \\nNor  tears  nor  prayers  shall  purchase  out  abuses  : \\nTherefore  use  none  ;  let  Romeo  hence  in  haste, \\nElse,  when  he\\'s  found,  that  hour  is  his  last. \\nBear  hence  this  body  and  attend  our  will ; \\nMercy  but  murders,  pardoning  those  that  kill. \\n\\n\\n\\\\_Exeunt. \\n\\n\\nScene  II.     Capulefs  Orchard. \\n\\nEnter  Juliet. \\n\\nJuliet.  Gallop  apace,  you  fiery-footed  steeds, \\nTowards  Phoebus\\'  lodging ;  such  a  wagoner \\nAs  Phaeton  would  whip  you  to  the  west, \\nAnd  bring  in  cloudy  night  immediately.  — \\nSpread  thy  close  curtain,  love- performing  night. \\nThat  runaways\\'  eyes  may  wink,  and  Romeo \\n\\n\\nBOMEO  AND  JULIET.  75 \\n\\nLeap  to  these  arms,  untalk\\'d  of  and  unseen  — \\n\\nLovers  can  see  to  do  their  amorous  rites \\n\\nBy  their  own  beauties  ;  or,  if  love  be  blind, \\n\\nIt  best  agrees  with  night.  — Come,  civil  night, \\n\\nThou  sober-suited  matron,  all  in  black. \\n\\nAnd  learn  me  how  to  lose  a  winning  match, \\n\\nPlay\\'d  for  a  pair  of  stainless  maidenhoods. \\n\\nHood  my  unmann\\'d  blood,  bating  in  my  cheeks, \\n\\nWith  thy  black  mantle,  till  strange  love  grown  bold \\n\\nThink  true  love  acted  simple  modesty. \\n\\nCome,  night,  come,  Romeo,  come,  thou  day  in  night ; \\n\\nFor  thou  wilt  lie  upon  the  wings  of  night \\n\\nWhiter  than  new  snow  on  a  raven\\'s  back. \\n\\nCome,  gentle  night,  come,  loving,  black-brow\\'d  night. \\n\\nGive  me  my  Eomeo ;  and,  when  he  shall  die. \\n\\nTake  him  and  cut  him  out  in  little  stars. \\n\\nAnd  he  will  make  the  face  of  heaven  so  fine \\n\\nThat  all  the  world  will  be  in  love  with  night \\n\\nAnd  pay  no  worship  to  the  garish  sun.  — \\n\\n0,  I  have  bought  the  mansion  of  a  love. \\n\\nBut  not  possess\\'d  it,  and,  though  I  am  sold. \\n\\nNot  yet  enjoy\\'d.     So  tedious  is  this  day \\n\\nAs  is  the  night  before  some  festival \\n\\nTo  an  impatient  child  that  hath  new  robes \\n\\nAnd  may  not  wear  them.  —  0,  here  comes  my  nurse. \\n\\nAnd  she  brings  news ;  and  every  tongue  that  speaks \\n\\nBut  Romeo\\'s  name  speaks  heavenly  eloquence.  — \\n\\n\\n76  ROMEO  AND  JULIET. \\n\\nEnter  Nurse,  with  cords. \\nNow,  nurse,,  what  news  ?     What  hast  thou  there  ?  the \\n\\ncords \\nThat  Romeo  bid  thee  fetch  ? \\n\\nXurse.  Ay,  ay,  the  cords. \\n\\n\\\\_Throws  them.  down. \\nJuliet.  Ay  me  !  what  news  ?  why  dost  thou  wring  tliy \\n\\nhands  ? \\nJiurse.    All,   well-a-day !    he\\'s   dead,   he\\'s    dead,    he\\'s \\ndead  ! \\nWe  are  undone,  lady,  we  are  undone  ! \\nAlack  the  day  !  he\\'s  gone,  he\\'s  kill\\'d,  he\\'s  dead  ! \\nJuliet.  Can  heaven  be  so  envious  ? \\nJS^urse.  Romeo  can. \\n\\nThough  heaven  cannot.  —  0  Romeo,  Romeo  !  — \\nWho  ever  would  have  thought  it  ?  —  Romeo  ! \\n\\nJuliet.  What    devil   art  thou,  that  dost   torment   me \\nthus  ? \\nThis  torture  should  be  roar\\'d  in  dismal  hell. \\nHath  Romeo  slain  himself  ?  say  thou  but  ay, \\nAnd  that  bare  vowel  /  shall  poison  move \\nThan  the  death-darting  eye  of  cockatrice  : \\nI  am  not  I,  if  there  be  such  an  /; \\nOr  those  eyes  shut,  that  make  thee  answer  ay. \\nIf  he  be  slain,  say  ay  ;  or  if  not,  no : \\nBrief  sounds  determine  of  my  weal  or  woe. \\n\\nXurse.  I  saw  the  wound,  I  saw  it  with  mine  eyes  — \\n\\n\\nEOMEO  AND  JULIET.  77 \\n\\nGod  save  the  mark !  — here  on  his  manly  breast : \\nA  piteous  corse,  a  bloody  piteous  corse  ; \\nPale,  pale  as  ashes,  all  bedaub\\'d  in  blood, \\nAll  in  gore-blood ;  I  swounded  at  the  sight. \\n\\nJicliet.  0,  break,  my  heart !  poor  bankrupt,  break  at \\nonce ! \\nTo  prison,  eyes,  ne\\'er  look  on  liberty  ! \\nVile  earth,  to  earth  resign ;  end  motion  here, \\nAnd  thou  and  Komeo  press  one  heavy  bier ! \\n\\nMcrse.  O  Tybalt,  Tybalt,  the  best  friend  I  had ! \\n0  courteous  Tybalt !  honest  gentleman  ! \\nThat  ever  I  should  live  to  see  thee  dead ! \\n\\nJuliet.  What  storm  is  this  that  blows  so  contrary  ? \\nIs  Eomeo  slaughter\\'d,  and  is  Tybalt  dead  ? \\nMy  dear-lov\\'d  cousin,  and  my  dearer  lord  ? \\nThen,  dreadful  trumpet,  sound  the  general  doom  ! \\nFor  who  is  living,  if  those  two  are  gone  ? \\n\\nNurse.  Tybalt  is  gone,  and  Romeo  banished ; \\nRomeo  that  kill\\'d  him,  he  is  banished. \\n\\nJuliet.  0  God!  did  Romeo\\'s  hand  shed  Tybalt\\'s  blood? \\n\\nNurse.  It  did,  it  did ;  alas  the  day,  it  did  ! \\n\\nJuliet.  O  serpent  heart,  hid  with  a  flowering  face ! \\nDid  ever  dragon  keep  so  fair  a  cave  ? \\nBeautiful  tyrant !  fiend  angelical ! \\nDove-feather\\'d  raven  !  wolfish-ravening  lamb ! \\nDespised  substance  of  divinest  show ! \\nJust  opposite  to  what  thou  justly  seem\\'st, \\n\\n\\n78  liOMEO  AND  JULIET. \\n\\nA  damned  saint,  an  honorable  villain ! \\nO  nature,  what  hadst  thou  to  do  in  hell, \\nWhen  thou  didst  bower  the  spirit  of  a  liend \\nIn  mortal  paradise  of  such  sweet  flesh  ? \\nAVas  ever  book  containing  such  vile  matter \\n80  fairly  bound  ?     O,  that  deceit  should  dwell \\nIn  such  a  gorgeous  palace  ! \\n\\nNurse.  There\\'s  no  trust, \\n\\nNo  faith,  no  honesty  in  men  ;  all  perjur\\'d, \\nAll  forsworn,  all  naught,  all  dissemblers.  — \\nAh,  where\\'s  my  man  ?  give  me  some  aqua  vitse.  — \\nThese  griefs,  these  woes,  these  sorrows,  make  me  old. \\nShame  come  to  Romeo  ! \\n\\nJuliet.  Blister\\'d  be  thy  tongue \\n\\nFor  such  a  wish  !  he  was  not  born  to  shame  : \\nUpon  his  brow  shame  is  asham\\'d  to  sit ; \\n\"For  \\'tis  a  throne  where  honor  may  be  crown\\'d \\nSole  monarch  of  the  universal  earth. \\nO,  what  a  beast  was  I  to  chide  at  him ! \\n\\nNurse.  Will  you  speak  well  of  him  that  kill\\'d  your \\ncousin  ? \\n\\nJuliet.  Shall  I  speak  ill  of  him  that  is  my  husband?  — \\nAh,  poor  my  lord,  what  tongue  shall  smooth  thy  name. \\nWhen  I,  thy  three-hours  wife,  have  mangled  it  ? \\nBut,  wherefore,  villain,  didst  thoii  kill  my  cousin  ? \\nThat  villain  cousin  would  have  kill\\'d  my  husband. \\nBack,  foolish  tears,  back  to  your  native  spring; \\n\\n\\nROMEO  AND  JULIET.  79 \\n\\nYour  tributary  drops  belong  to  Avoe, \\n\\nWhich  you  mistaking  offer  up  to  joy. \\n\\nMy  husband  lives,  that  Tybalt  would  have  slain ; \\n\\nAnd  Tybalt\\'s  dead,  that  would  have  slain  my  husband : \\n\\nAll  this  is  comfort ;  wherefore  weep  I  then  ? \\n\\nSome  word  there  was,  worser  than  Tybalt\\'s  death, \\n\\nThat  murder\\'d  me.     I  would  forget  it  fain ; \\n\\nBut,  0,  it  presses  to  my  memory. \\n\\nLike  damned  guilty  deeds  to  sinners\\'  minds : \\n\\n*  Tybalt  is  dead,  and  Romeo  —  banished  ! \\' \\n\\nThat  \\'banished,\\'  that  one  word  \\'banished,\\' \\n\\nHath  slain  ten  thousand  Tybalts.     Tybalt\\'s  death \\n\\nWas  woe  enough,  if  it  had  ended  there  ; \\n\\nOr,  if  sour  woe  delights  in  fellowship \\n\\nAnd  needly  will  be  rank\\'d  with  other  griefs. \\n\\nWhy  follow\\'d  not,  when  she  said  Tybalt\\'s  dead, \\n\\nThy  father,  or  thy  mother,  nay,  or  both. \\n\\nWhich  modern  lamentation  might  have  mov\\'d  ? \\n\\nBut  with  a  rearward  following  Tybalt\\'s  death, \\n\\nRomeo  is  banished  !  —  to  speak  that  word, \\n\\nIs  father,  mother,  Tybalt,  Romeo,  Juliet, \\n\\nAll  slain,  all  dead.     Romeo  is  banished  ! \\n\\nThere  is  no  end,  no  limit,  measure,  bound. \\n\\nIn  that  word\\'s  death ;  no  words  can  that  woe  sound.  — \\n\\nWhere  is  my  father,  and  my  mother,  nurse  ? \\n\\nNurse.  Weeping  and  wailing  over  Tybalt\\'s  corse. \\nWill  you  go  to  them  ?     I  will  bring  you  thither. \\n\\n\\n80  BOMEO  AND  JULIET. \\n\\nJuliet.  Wash  they  his  Avounds  with  tears ;  mine  shall \\nbe  spent, \\n\"When  theirs  are  dry,  for  Romeo\\'s  banishment. \\nTake  np  those  cords.  —  Poor  ropes,  you  are  beguil\\'d, \\nl)0th  you  and  I ;  for  Romeo  is  exil\\'d : \\nHe  made  yoii  for  a  highway  to  my  bed ; \\nBut  I,  a  maid,  die  maiden-widowed. \\n\\nNurse.  Hie  to  your  chamber  ;  I\\'ll  find  Romeo \\nTo  comfort  you ;  I  wot  well  Avhere  he  is. \\nHark  ye,  your  Romeo  will  be  here  at  night : \\nI\\'ll  to  him ;  he  is  hid  at  Laurence\\'  cell. \\n\\nJuliet.  0,  find  him !  give  this  ring  to  my  true  knight. \\nAnd  bid  him  come  to  take  his  last  farewell.         [_£Jxeu7it. \\n\\nScene  III.     Friar  Laurence\\'s  Cell. \\n\\nEnter  Friar  Laurence. \\n\\nFriar  Laurence.  Romeo,  come  forth  ;  come  forth,  thou \\nfea.rful  man : \\nAffliction  is  enamour\\'d  of  thy  parts, \\nAnd  thou  art  wedded  to  calamity. \\n\\nEnter  Romeo. \\n\\nBorneo.  Father,  what  news  ?  what  is  the  prince\\'s  doom  ? \\nAVhat  sorrow  craves  acquaintance  at  my  hand, \\nThat  I  yet  know  not  ? \\n\\nFriar  Laurence.  Too  familiar \\n\\n\\nROMEO  AND  JULIET.  3]^ \\n\\nIs  my  dear  son  with  such  sour  company ; \\nI  bring  thee  tidings  of  the  prince\\'s  doom. \\nRomeo.  What  less  than  doomsday  is  the  prince\\'s  doom  ? \\nFriar  Laurence.  A  gentler  judgment  vanish\\'d  from  his \\nlips, \\nNot  body\\'s  death,  but  body\\'s  banishment. \\n\\nBorneo.  Ha,  banishment !  be  merciful,  say  death ; \\nFor  exile  hath  more  terror  in  his  look, \\nMuch  more  than  death :  do  not  say  banishment. \\n\\nFriar  Laurence.  Hence  from  Verona  art   thou   ban- \\nished ; \\nBe  patient,  for  the  world  is  broad  and  wide. \\n\\nRomeo.  There  is  no  world  without  Verona  walls, \\nBut  purgatory,  torture,  hell  itself. \\nHence  banished  is  banish\\'d  from  the  world, \\nAnd  world\\'s  exile  is  death :  then  banished \\nIs  death  misterm\\'d ;  calling  death  banishment \\nThou  cutt\\'st  my  head  off  with  a  golden  axe, \\nAnd  smil\\'st  upon  the  stroke  that  murders  me. \\n\\nFriar  Laitrence.-O  deadly  sin!  0  rude  unthankfulness ? \\nThy  fault  our  law  calls  death  ;  but  the  kind  prince, \\nTaking  thy  part,  hath  rush\\'d  aside  the  law. \\nAnd  turn\\'d  that  black  word  death  to  banishment : \\nThis  is  dear  mercy,  and  thou  seest  it  not. \\n\\nRomeo.  \\'Tis  torture,  and  not  mercy :  heaven  is  here, \\nWhere  Juliet  lives  ;  and  every  cat  and  dog \\nAnd  little  mouse,  every  unworthy  thing, \\n\\n\\n82  liOMEO  AND  JULIET. \\n\\nLive  here  in  heaven  and  may  look  on  her, \\n\\nBut  Romeo  may  not.     More  validity, \\n\\n]\\\\Iore  honorable  state,  more  courtship  lives \\n\\nIn  carrion-flies  than  Romeo  :  they  may  seize \\n\\nOn  the  white  wonder  of  dear  Juliet\\'s  hand \\n\\nAnd  steal  immortal  blessing  from  her  lips, \\n\\nWho,  even  in  pure  and  vestal  modesty. \\n\\nStill  blush,  as  thinking  their  own  kisses  sin ; \\n\\nBut  Romeo  may  not ;  he  is  banished. \\n\\nThis  may  flies  do,  when  I  from  this  must  fly; \\n\\nThey  are  free  men,  but  I  am  banished. \\n\\nAnd  say\\'st  thou  yet  that, exile  is  not  death  ? \\n\\nHadst  thou  no  poison  mix\\'d,  no  sharp-ground  knife, \\n\\nNo  sudden  mean  of  death,  though  ne\\'er  so  mean, \\n\\nBut  \\'  banished  \\'  to  kill  me  ?  —  Banished  ! \\n\\n0  friar,  the  damned  use  that  word  in  hell ; \\n\\nHoAvling  attends  it :  how  hast  thou  the  heart, \\n\\nBeing  a  divine,  a  ghostly  confessor, \\n\\nA  sin-absolver,  and  my  friend  profess\\'d, \\n\\nTo  mangle  me  with  that  word  \\'  banished  \\'  ? \\n\\nFriar  Laurence.  Thou  fond  mad  man,  hear  me  but  speak \\na  word. \\n\\nBorneo.  0,  thou  wilt  speak  again  of  banishment. \\n\\nFriar  Laurence.  I\\'ll  give  thee  armor  to  keep  off  that \\nword ; \\nAdversity\\'s  sweet  milk,  philosophy. \\nTo  comfort  thee,  though  thou  art  banished. \\n\\n\\nROMEO  AND  JULIET.  83 \\n\\nBorneo.  Yet  banished  ?     Hang  up  philosophy \\nUnless  philosophy  can  make  a  Juliet, \\nDisplant  a  town,  reverse  a  prince\\'s  doom, \\nIt  helps  not,  it  prevails  not ;  talk  no  more. \\n\\nFriar  Laurence.  0,  then  I  see  that  madmen  have  nO\\' \\n\\nears. \\nRomeo.  How  should  they,  when  that  wise  men  have \\n\\nno  eyes  ? \\nFriar  Laurence.  Let  me  dispute  with  thee  of  thy  es- \\ntate. \\nRomeo.  Thou  canst  not  speak  of  that  thou  dost  not \\nfeel. \\nWert  thou  as  young  as  I,  Juliet  thy  love, \\nAn  hour  but  married,  Tybalt  murdered, \\nDoting  like  me  and  like  me  banished. \\nThen  mightst  thou  speak,  then  mightst  thou  tear   thy \\n\\nhair. \\nAnd  fall  upon  the  ground,  as  I  do  now. \\nTaking  the  measure  of  an  unmade  grave. \\n\\n[^Knocking  vnthin. \\nFriar  Laurence.    Arise ;    one   knocks :    good    Romeo, \\n\\nhide  thyself. \\nRomeo.  Not  I ;  unless  the  breath  of  heart-sick  groans \\nMist-like  infold  me  from  the  search  of  eyes. \\n\\n\\\\_Knocklnf/. \\nFriar    Laurence.    Hark,    how    they   knock !  —  Who\\'s \\nthere  ?  —  Romeo,  arise  : \\n\\n\\n84  BOMEO  AND  JULIET. \\n\\nThoii  wilt  be  taken.  —  Stay  awhile  !  —  Stand  np ; \\n\\n\\\\^Knockin(/. \\nEun  to  my  study.  —  By  and  by  !  —  God\\'s  will, \\nWhat  simpleness  is  this  !  —  I  come,  I  come  ! \\n\\n\\\\^K7iocA-iu;/. \\nWho  knocks  so  hard  ?  whence  come  you  ?  what\\'s  your \\nwill  ? \\nNiirse.  [  Withhi]  Let  me  come  in,  and  you  shall  know \\nmy  errand ; \\nI  come  from  Lady  Juliet. \\n\\nFriar  Laurence.  Welcome,  then. \\n\\nEnter  Nurse. \\n\\nISfnrse.  0  holy  friar,  0,  tell  me,  holy  friar, \\nWhere  is  my  lady\\'s  lord,  where\\'s  Eomeo  ? \\n\\nFriar  Laurence.  There  on  the  ground,  with  his  own \\ntears  made  drunk. \\n\\nNurse.  0,  he  is  even  in  my  mistress\\'  case. \\nJust  in  her  case  ! \\n\\nFriar  Laurence.  0  woful  sympathy  ! \\nPiteous  predicament ! \\n\\nNurse.  Even  so  lies  she, \\n\\nBlubbering  and  weeping,  weeping  and  blubbering. — \\nStand  up,  stand  up ;  stand,  an  you  be  a  man  : \\nFor  Juliet\\'s  sake,  for  her  sake,  rise  and  stand. \\nWhy  should  you  fall  into  so  deep  an  0  ? \\n\\nRomeo.  Nurse  ! \\n\\n\\nBOMEO  AND  JULIET.  85 \\n\\nNurse.  Ah  sir  !  ah  sir!     Well,  death\\'s  the  end  of  all. \\n\\nBorneo.  Spak\\'st  thou  of  Juliet  ?  hoAV  is  it  with  her  ? \\nDoth  she  not  think  me  an  old  murderer, \\nNow  I  have  stain\\'d  the  childhood  of  our  joy \\nWith  blood  remov\\'d  but  little  from  her  own  ? \\nWhere  is  she  ?  and  how  doth  she  ?  and  what  says \\nMy  conceal\\'d  lady  to  our  cancell\\'d  love  ? \\n\\nNui\\'se.  0,  she  says  nothing,  sir,  but  weeps  and  weeps ; \\nAnd  now  falls  on  her  bed ;   and  then  starts  up, \\nAnd  Tybalt  calls ;  and  then  on  Eomeo  cries, \\nAnd  then  down  falls  again. \\n\\nRomeo.  As  if  that  name, \\n\\nShot  from  the  deadly  level  of  a  gun, \\nDid  murder  her ;  as  that  name\\'s  cursed  hand \\nMurdered  her  kinsman.  —  0,  tell  me,  friar,  tell  me. \\nIn  what  vile  part  of  this  anatomy \\nDoth  my  name  lodge  ?  tell  me,  that  I  may  sack \\nThe  hateful  mansion.  \\\\_Draioin(j  his  sivord. \\n\\nFriar  Laurence.  Hold  thy  desperate  hand  ! \\n\\nArt  thou  a  man  ?  thy  form  cries  out  thou  art : \\nThy  tears  are  womanish  ;  thy  wild  acts  denote \\nThe  unreasonable  fury  of  a  beast : \\nUnseemly  woman  in  a  seeming  man  ! \\nOr  ill-beseeming  beast  in  seeming  both ! \\nThou  hast  amaz\\'d  me  ;  by  my  holy  order, \\nI  thought  thy  disposition  better  temper\\'d. \\nHast  thou  slain  Tybalt  ?  wilt  thou  slay  thyself  ? \\n\\n\\n86 \\n\\n\\nBOMEO  AND  JULIET. \\n\\n\\nAnd  slay  thy  lady  too  tliat  lives  in  tliee, \\n\\nBy  doing  damned  hate  npon  thyself  ? \\n\\nWhy  rail\\'st  thou  on  thy  birth,  the  heaven,  and  earth  ? \\n\\nSince  birth  and  heaven  and  earth,  all  three  do  meet \\n\\nIn  thee  at  once,  which  thou  at  once  wouldst  lose. \\n\\nFie,  fie,  thou  sham\\'st  thy  shape,  thy  love,  thy  wit, \\n\\nWhich,  like  a  usurer,  abound\\'st  in  all, \\n\\nAnd  usest  none  in  that  true  use  indeed \\n\\nWhich  should  bedeck  thy  shape,  thy  love,  thy  wit. \\n\\nThy  noble  shape  is  but  a  form  of  wax, \\n\\nDigressing  from  the  valor  of  a  man  ; \\n\\nThy  dear  love  sworn,  but  hollow  perjury. \\n\\nKilling  that  love  which  thou  hast  vow\\'d  to  cherish ; \\n\\nThy  wit,  that  ornament  to  shape  and  love. \\n\\nMisshapen  in  the  conduct  of  them  both. \\n\\nLike  powder  in  a  skilless  soldier\\'s  flask, \\n\\nIs  set  a-fire  by  thine  own  ignorance. \\n\\nAnd  thou  dismember\\' d  with  thine  own  defence. \\n\\nWhat,  rouse  thee,  man !  thy  Juliet  is  alive, \\n\\nFor  whose  dear  sake  thou  wast  but  lately  dead ; \\n\\nThere  art  thou  happy  :  Tybalt  would  kill  thee, \\n\\nBut  thou  slew\\'st  Tybalt ;  there  art  thou  happy  too : \\n\\nThe  law  that  threaten\\'d  death  becomes  thy  friend \\n\\nAnd  turns  it  to  exile  ;  there  art  thou  happy : \\n\\nA  pack  of  blessings  lights  upon  thy  back  ; \\n\\nHappiness  courts  thee  in  her  best  array ; \\n\\nBut  like  a  misbehav\\'d  and  sullen  wench. \\n\\n\\nROMEO  AND  JULIET.  87 \\n\\nThou  pout\\'st  upon  thy  fortune  and  thy  love. \\nTake  heed,  take  heed,  for  such  die  miserable. \\nGo,  get  thee  to  thy  love,  as  was  decreed. \\nAscend  her  chamber,  hence  and  comfort  her  : \\nBut  look  thou  stay  not  till  the  watch  be  set, \\nFor  then  thou  canst  not  pass  to  Mantua ; \\nWhere  thou  shalt  live,  till  we  can  find  a  time \\nTo  blaze  your  marriage,  reconcile  your  friends, \\nBeg  pardon  of  the  prince,  and  call  thee  back \\nWith  twenty  hundred  thousand  times  more  joy \\nThan  thou  went\\'st  forth  in  lamentation.  — \\nGo  before,  nurse ;  commend  me  to  thy  lady, \\nAnd  bid  her  hasten  all  the  house  to  bed, \\nWhich  heavy  sorrow  makes  them  apt  unto  : \\nEomeo  is  coming. \\n\\nNurse.  0  Lord,  I  could  have  stay\\'d  here  all  the  night \\nTo  hear  good  counsel ;  O,  what  learning  is  !  — \\nMy  lord,  I\\'ll  tell  my  lady  you  will  come. \\n\\nRomeo.  Do  so,  and  bid  my  sweet  prepare  to  chide. \\n\\nNurse.  Here,  sir,  a  ring  she  bid  me  give  you,  sir ; \\nHie  you,  make  haste,  for  it  grows  very  late.  [_Exit. \\n\\nRomeo.  How  well  my  comfort  is  reviv\\'d  by  this  ! \\n\\nFriar   Laurence.    Go   hence ;    good   night ;   and    here \\nstands  all  your  state  : \\nEither  be  gone  before  the  watch  be  set, \\nOr  by  the  break  of  day  disguis\\'d  from  hence. \\nSojourn  in  Mantua ;  I\\'ll  find  out  your  man, \\n\\n\\n88  BOMEO  AND  JULIET. \\n\\nAnd  lie  shall  signify  from  time  to  time \\n\\nEvery  good  hap  to  you  that  chances  here. \\n\\nGive  me  thy  hand ;  \\'tis  late  :  farewell ;  good  night. \\n\\nRomeo.  But  that  a  joy  past  joy  calls  out  on  me, \\nIt  were  a  grief,  so  brief  to  part  with  thee. \\nFarewell.  [Exeunt. \\n\\nScene  IV.     A  Room  in  Ca^ulet^s  House. \\n\\nEnter  Capulet,  Lady  Capulet,  and  Paris. \\n\\n-   Capulet.  Things  have  fallen  out,  sir,  so  unluckily, \\nThat  we  have  had  no  time  to  move  our  daughter. \\nLook  you,  she  lov\\'d  her  kinsman  Tybalt  dearly, \\nAnd  so  did  I. — Well,  we  were  born  to  die. — \\n\\'Tis  very  late,  she\\'ll  not  come  down  to-night ; \\nI  promise  you,  but  for  your  company, \\nI  would  have  been  a-bed  an  hour  ago. \\n\\nParis.  These  times  of  woe  afford  no  time  to  woo. \\nMadam,  good  night ;  commend  nie  to  your  daughter. \\n\\nLady  Capulet.  I  will,  and  know  her  mind  early  to- \\nmorrow ; \\nTo-night  she\\'s  mew\\'d  up  to  her  heaviness. \\n\\nCapulet.  Sir  Paris,  I  will  make  a  desperate  tender \\nOf  my  child\\'s  love  :  I  think  she  will  be  rul\\'d \\nIn  all  respects  by  me  ;  nay,  more,  I  doubt  it  not.  — \\nWife,  go  you  to  her  ere  you  go  to  bed ; \\nAcquaint  her  here  of  my  son  Paris\\'  love. \\n\\n\\nROMEO  AND  JULIET.  go \\n\\nAnd  bid  her,  mark  you  me,  on  Wednesday  next  — \\nBut,  soft !  what  day  is  this  ? \\n\\n-^^\"\\'^\"*-  Monday,  my  lord. \\n\\nCapidet  Monday  !  ha,  ha !     Well,  Wednesday  is  too \\nsoon; \\n\\n0\\'  Thursday  let  it  be  :  o\\'  Thursday,  tell  her, \\nShe  shall  be  married  to  this  noble  earl. \\nWill  you  be  ready  ?  do  you  like  this  haste  ? \\nWe\\'ll  keep  no  great  ado,  —  a  friend  or  two; \\nFor,  hark  you,  Tybalt  being  slain  so  late, \\nIt  may  be  thought  we  held  him  carelessly, \\nBeing  our  kinsman,  if  we  revel  much : \\nTherefore  we\\'ll  have  some  half  a  dozen  friends, \\nAnd  there  an  end.     But  what  say  you  to  Thursday  ? \\nParis.  My  lord,  I  would  that  Thursday  were  to-morrow. \\nCapulet.  Well,  get  you  gone ;  o\\'  Thursday  be  it  then. \\nGo  you  to  Juliet  ere  you  go  to  bed. \\nPrepare  her,  wife,  against  this  wedding-day.  — \\nFarewell,  my  lord.  — Light  to  my  chamber,  ho ! \\nAfore  me,  it  is  so  very  late,  that  we \\nMay  call  it  early  by  and  by.  -  Good  night.  \\\\_Exeunt. \\n\\nScene  V.     Juliet\\'s  Chamber. \\nEnter  Romeo  and  Juliet. \\nJuliet.  Wilt  thou  be  gone  ?  it  is  not  yet  near  day  : \\nIt  was  the  nightingale,  and  not  the  lark, \\n\\n\\n90  BOMEO  AND  JULIET. \\n\\nThat  pierc\\'d  tlie  fearful  hollow  of  thine  ear ; \\nNightly  she  sings  on  yon  pomegranate-tree. \\nBelieve  me,  love,  it  was  the  nightingale. \\n\\nBorneo.  It  was  the  lark,  the  herald  of  the  morn, \\nNo  nightingale ;  look,  love,  what  envious  streaks \\nDo  lace  the  severing  clouds  in  yonder  east. \\nNight\\'s  candies  are  burnt  out,  and  jocund  day \\nStands  tiptoe  on  the  misty  mountain  tops. \\nI  must  be  gone  and  live,  or  stay  and  die. \\n\\nJuliet.  Yon  light  is  not  day-light,  I  know  it,  I ; \\nIt  is  some  meteor  that  the  sun  exhales. \\nTo  be  to  thee  this  night  a  torch-bearer. \\nAnd  light  thee  on  thy  way  to  Mantua : \\nTherefore  stay  yet,  thou  need\\'st  not  to  be  gone. \\n\\nBorneo.  Let  me  be  ta\\'en,  let  me  be  put  to  death ; \\nI  am  content,  so  thou  wilt  have  it  so. \\nI\\'ll  say  yon  gray  is  not  the  morning\\'s  eye, \\n\\'Tis  but  the  pale  reflex  of  Cynthia\\'s  brow  ; \\nNor  that  is  not  the  lark,  whose  notes  do  beat \\nThe  vaiilty  heaven  so  high  above  our  heads. \\nI  have  more  care  to  stay  than  will  to  go ; \\nCome,  death,  and  welcome  !  Juliet  wills  it  so. \\nHow  is\\'t,  my  soul  ?  let\\'s  talk,  it  is  not  day. \\n\\nJuliet.  It  is,  it  is  ;  hie  hence,  be  gone,  away ! \\nIt  is  the  lark  that  sings  so  out  of  tune. \\nStraining  harsh  discords  and  unpleasing  sharps. \\nSome  say  the  lark  makes  sweet  division ; \\n\\n\\nROMEO  AND  JULIET.  9^ \\n\\nThis  doth  not  so,  for  she  divideth  us. \\nSome  say  the  lark  and  loathed  toad  change  eyes ; \\n0,  now  I  Avould  they  had  chang\\'d  voices  too  ! \\nSince  arm  from  arm  that  voice  doth  us  affray, \\nHunting  thee  hence  with  hunt\\'s-np  to  the  day. \\nO,  now  be  gone ;  more  light  and  light  it  grows. \\n\\nBorneo.  More  light  and  light  ?  — More  dark  and  dark \\nour  woes  ! \\n\\nEnter  Nurse. \\n\\nNurse.  Madam ! \\n\\nJuliet.  iSTurse  ! \\n\\nNurse.  Your  lady  mother  is  coming  to  your  chamber. \\nThe  day  is  broke  ;  be  wary,  look  about.  lExit. \\n\\nJuliet.  Then,  window,  let  day  in,  and  let  life  out. \\n\\nRovieo.  Farewell,  farewell !  one  kiss,  and  I\\'ll  descend. \\n\\n[^Rovieo  descends. \\n\\nJuliet.  Art  thou  gone  so  ?  my  lord,  my  love,  my  friend ! \\nI  must  hear  from  thee  every  day  in  the  hour, \\nFor  in  a  minute  there  are  many  days ; \\nO,  by  this  count  I  shall  be  much  in  years \\nEre  T  again  behold  my  Eomeo  ! \\n\\nRomeo.  Farewell !     I  will  omit  no  opportunity \\nThat  may  convey  my  greetings,  love,  to  thee. \\n\\nJuliet.  0,  think\\'st  thou  we  shall  ever  meet  again  ? \\n\\nRomeo.  I  doubt  it  not;  and  all  these  woes  shall  serve \\nFor  sweet  discourses  in  our  time  to  come. \\n\\n\\n92  EOMEO  AND  JULIET. \\n\\nJuliet.  0  God,  I  have  an  ill-divining  soul ! \\n]\\\\rethinks  I  see  thee,  now  thou  art  below, \\nAs  one  dead  in  the  bottom  of  a  tomb  ; \\nEither  my  eyesight  fails,  or  thou  look\\'st  pale. \\n\\nBorneo.  And  trust  me,  love,  in  my  eye  so  do  you; \\nDry  sorroAV  drinks  our  blood.     Adiei;,  adieu  !  \\\\_Exlt. \\n\\nJuliet.  0  fortune,  fortune  !  all  men  call  thee  tickle  ; \\nIf  thou  art  fickle,  what  dost  thou  Avith  him. \\nThat  is  renown\\'d  for  faith  ?     Be  fickle,  fortune  ; \\nFor  then,  I  hope,  thou  wilt  not  keep  him  long, \\nBut  send  him  back. \\n\\nLady  Capulet.  \\\\_Within\\'\\\\  Ho,  daughter!  are  you  up  ? \\n\\nJuliet.  Who  is\\'t  that  calls  ?  is  it  my  lady  mother  ? \\nIs  she  not  down  so  late,  or  up  so  early  ? \\nWhat  unaccustom\\'d  cause  procures  her  hither  ? \\n\\nEnter  Lady  Capulet. \\n\\nLachj  Capulet.  Why,  how  now,  Juliet ! \\n\\nJuliet.  Madam,  I  am  not  well. \\n\\nLady   Capidet.  Evermore  weeping   for   your   cousin\\'s \\ndeath? \\nWhat,  wilt  thou  wash  him  from  his  grave  with  tears  ? \\nAn  if  thou  couldst,  thou  couldst  not  make  him  live ; \\nTherefore,  have  done  :  some  grief  shows  much  of  love, \\nBut  much  of  grief  shows  still  some  want  of  wit. \\n\\nJuliet.  Yet  let  me  weep  for  such  a  feeling  loss. \\n\\n\\nROMEO  AND  JULIET.  93 \\n\\nLadf/  Capulet.  So  shall  you  feel  the  loss,  but  not  the \\nfriend \\nWhich  you  weep  for. \\n\\nJuliet.  Feeling  so  the  loss, \\n\\nI  cannot  choose  but  ever  weep  the  friend. \\n\\nLady  Capulet.  Well,  girl,  thou  weep\\'st  not  so  much \\nfor  his  death \\nAs  that  the  villain  lives  which  slaughter\\'d  him. \\nJuliet.  What  villain,  madam  ? \\n\\nLady  Capulet.  That  same  villain,  Eomeo. \\n\\nJuliet.  Villain  and  he  be  many  miles  asunder.  — \\nGod  pardon  him  !  I  do,  with  all  my  heart ; \\nAnd  yet  no  man  like  he  doth  grieve  my  heart. \\n\\nLady  Capulet.  That  is,  because  the  traitor  murderer \\n\\nlives. \\nJuliet.  Ay,  madam,  from  the  reach  of  these  my  hands. \\nWould  none  but  I  might  venge  my  cousin\\'s  death  ! \\nLady  Capulet.  We  will  have  vengeance  for  it,  fear \\nthou  not ; \\nThen  weep  no  more.     I\\'ll  send  to  one  in  Mantua, \\nWhere  that  same  banish\\'d  runagate  doth  live, \\nShall  give  him  such  an  unaccustom\\'d  dram, \\nThat  he  shall  soon  keep  Tybalt  company  ; \\nAnd  then,  I  hope,  thou  wilt  be  satisfied. \\n\\nJuliet.  Indeed,  I  never  shall  be  satisfied \\nWith  Eomeo,  till  I  behold  him  —  dead  — \\nIs  my  poor  heart  so  for  a  kinsman  vex\\'d.  — \\n\\n\\n94  BOMEO  AND  JULIET. \\n\\nMadam,  if  you  could  find  out  but  a  man \\nTo  bear  a  poison,  I  would  temper  it, \\nThat  Romeo  should,  upon  receipt  thereof. \\nSoon  sleep  in  quiet.     0,  how  my  heart  abhors \\nTo  hear  him  nam\\'d,  and  cannot  come  to  him, \\nTo  wreak  the  love  I  bore  my  cousin \\nUpon  his  body  that  hath  slaughter\\'d  him ! \\n\\nLacli/  Capulet.  Find  thou  the  means,  and  I\\'ll  find  such \\na  man. \\nBut  now  I\\'ll  tell  thee  joyful  tidings,  girl. \\n\\nJuliet.  And  joy  comes  well  in  such  a  needy  time. \\nWhat  are  they,  I  beseech  your  ladyship? \\n\\nLady  Capulet.  Well,  well,  thou  hast  a  careful  father, \\nchild; \\nOne  who,  to  put  thee  from  thy  heaviness, \\nHath  sorted  out  a  sudden  day  of  joy, \\nThat  thou  expect\\'st  not,  nor  I  look\\'d  not  for. \\n\\nJxdiet.  Madam,  in  happy  time,  what  day  is  that  ? \\n\\nLady  Cajjulet.  Marry,  my  child,  early  next  Thursday \\nmorn. \\nThe  gallant,  young,  and  noble  gentleman, \\nThe  County  Paris,  at  Saint  Peter\\'s  Church, \\nShall  happily  make  thee  there  a  joyful  bride. \\n\\nJuliet.  Now,  by  Saint\\'s  Peter  Church  and  Peter  too, \\nHe  shall  not  make  me  there  a  joyful  bride. \\nI  Avonder  at  this  haste ;  that  I  must  wed \\nEre  he  that  should  be  husband  comes  to  woo. \\n\\n\\nROMEO  AND  JULIET.  95 \\n\\nI  pray  you,  tell  my  lord  and  father,  madam, \\nI  will  not  marry  yet ;  and,  when  I  do,  I  swear, \\nIt  shall  be  Romeo,  whom  you  know  I  hate. \\nRather  than  Paris.     These  are  news  indeed  ! \\n\\nLady  Capulet.  Here  comes  your  father ;  tell  him  so \\nyourself, \\nAnd  see  how  he  will  take  it  at  your  hands. \\n\\nEnter  Capulet  and  Nurse. \\n\\nCapulet.  When  the  sun  sets,  the  air  doth  drizzle  dew ; \\nBut  for  the  sunset  of  my  brother\\'s  son \\nIt  rains  downright.  — \\n\\nHow  now !  a  conduit,  girl  ?  what,  still  in  tears  ? \\nEvermore  showering  ?     In  one  little  body \\nThou  counterfeit\\'st  a  bark,  a  sea,  a  wind : \\nFor  still  thy  eyes,  which  I  may  call  the  sea, \\nDo  ebb  and  flow  with  tears  ;  the  bark  thy  body  is, \\nSailing  in  this  salt  flood ;  the  winds,  thy  sighs ; \\nWho,  raging  with  thy  tears,  and  they  with  them, \\nWithout  a  sudden  calm,  will  overset \\nThy  tempest-tossed  body.  —  How  now,  wife  ! \\nHave  you  deliver\\'d  to  her  our  decree  ? \\n\\nLady  Capulet.  Ay,  sir;  but  she  will  none,  she  gives \\nyou  thanks. \\nI  would  the  fool  were  married  to  her  grave ! \\n\\nCapulet.  Soft !  take  me  with  you,  take  me  with  you, \\nwife. \\n\\n\\n96  ROMEO  AND  JULIET. \\n\\nHow  !  will  she  none  ?  doth  she  not  give  us  thanks  ? \\nIs  she  not  proud  ?  doth  she  not  count  her  blest, \\nUnworthy  as  she  is,  that  we  have  wrought \\nSo  worthy  a  gentleman  to  be  her  bridegroom  ? \\n\\nJuliet.  Not  proud  you  have,  but  thankful  that  you \\nhave  : \\nProud  can  I  never  be  of  what  I  hate ; \\nBut  thankful  even  for  hate  that  is  meant  love. \\n\\nCaindet.   How   now,  how   now,  chop-logic !   What   is \\nthis  ? \\n\\'  Proud \\'  and  \\'  I  thank  you \\'  and  \\'  I  thank  you  not/ \\nAnd  yet  \\'  not  proud \\' !     Mistress  minion,  you. \\nThank  me  no  thankings,  nor  proud  me  no  prouds, \\nP)ut  fettle  your  fine  joints  \\'gainst  Thursday  next, \\nTo  go  with  Paris  to  Saint  Peter\\'s  Church, \\nOr  I  will  drag  thee  on  a  hurdle  thither. \\nOut,  you  green-sickness  carrion !  out,  you  baggage ! \\nYou  tallow-face  ! \\n\\nLady  Capidet.  Fie,  fie  !  what,  are  you  mad  ? \\n\\nJuliet.  Good  father,  I  beseech  you  on  my  knees. \\nHear  me  with  patience  but  to  speak  a  word. \\n\\nCapulet.    Hang    thee,    young    baggage !    disobedient \\nwretch  ! \\nI  tell  thee  what :  get  thee  to  church  o\\'  Thursday, \\nOr  never  after  look  me  in  the  face. \\nSpeak  not,  reply  not,  do  not  answer  me ; \\nMy  lingers  itch.  —  Wife,  we  scarce  thought  us  blest \\n\\n\\nBOMEO  AND  JULIET.  97 \\n\\nThat  God  liad  lent  us  but  this  only  child  ; \\nBut  now  I  see  this  one  is  one  too  much, \\nAnd  that  we  have  a  curse  in  having  her : \\nOut  on  her,  hilding ! \\n\\nNurse.  God  in  heaven  bless  her ! \\n\\nYou  are  to  blame,  my  lord,  to  rate  her  so. \\n\\nCaimlet.    And  why,   my  lady   wisdom?    hold    your \\ntongue, \\nGood  prudence  ;  smatter  with  your  gossips,  go. \\n\\nNurse.  I  speak  no  treason. \\n\\nCaimlet  0,  God  ye  god-den. \\n\\nNurse.  May  not  one  speak  ? \\n\\nCapulet.  Peace,  you  mumbling  fool ! \\n\\nUtter  your  gravity  o\\'er  a  gossip\\'s  bowl ; \\nFor  here  we  need  it  not. \\n\\nLady  Capulet.  You  are  too  hot. \\n\\nCapulet.  God\\'s  bread !  it  makes  me  mad :  day,  night, \\nlate,  early, \\nAt  home,  abroad,  alone,  in  company. \\nWaking  or  sleeping,  still  my  care  hath  been \\nTo  have  her  match\\'d ;  and  having  now  provided \\nA  gentleman  of  noble  parentage. \\nOf  fair  demesnes,  youthful,  and  nobly  train\\' d, \\nStuff\\' d,  as  they  say,  with  honorable  parts, \\nProportion\\'d  as  one\\'s  thought  would  wish  a  man,  — \\nAnd  then  to  have  a  wretched  puling  fool, \\nA  whining;  mammet,  in  her  fortune\\'s  tender, \\n\\n\\n98  ROMEO  AND  JULIET. \\n\\nTo  answer  \\'  111  not  wed ;  I  cannot  love, \\n\\nI  am  too  yonng ;  I  pray  you,  pardon  nie.\\'  — \\n\\nBut,  an  you  will  not  wed,  I\\'ll  pardon  you ; \\n\\nGraze  where  you  will,  you  shall  not  house  with  me  : \\n\\nLook  to\\'t,  think  on\\'t,  I  do  not  use  to  jest. \\n\\nThursday  is  near ;  lay  hand  on  heart,  advise. \\n\\nAn  you  be  mine,  I\\'ll  give  you  to  my  friend ; \\n\\nAn  you  be  not,  hang,  beg,  starve,  die  in  the  streets, \\n\\nFor,  by  my  soul,  I\\'ll  ne\\'er  acknowledge  thee, \\n\\nXor  what  is  mine  shall  never  do  thee  good. \\n\\nTrust  to\\'t,  bethink  you;  I\\'ll  not  be  forsworn.  lExlt. \\n\\nJuliet.  Is  there  no  pity  sitting  in  the  clouds, \\nThat  sees  into  the  bottom  of  ni}^  grief  ? \\n0,  sweet  my  mother,  cast  me  not  away  ! \\nDelay  this  marriage  for  a  month,  a  week; \\nOr,  if  you  do  not,  make  the  bridal  bed \\nIn  that  dim  monument  where  Tybalt  lies. \\n\\nLady  Capulet.  Talk  not  to  me,  fcr  I\\'ll  not  speak  a \\nword  ; \\nDo  as  thou  wilt,  for  I  have  done  with  thee.  \\\\_Exlt. \\n\\nJuliet.  0  God!  —  0  nurse,  how  shall  this  be  prevented? \\nMy  husband  is  on  earth,  my  faith  in  heaven  ; \\nHow  shall  that  faith  return  again  to  earth. \\nUnless  that  husband  send  it  me  from  heaven \\nI\\\\y  leaving  earth  ?  comfort  me,  counsel  me.  — \\nAlack,  alack,  that  heaven  should  practise  stratagems \\nUpon  so  soft  a  subject  as  myself!  — \\n\\n\\n•}V    4 \\n\\n\\nROMEO  AND  JULIET.  99 \\n\\nWhat  say\\'st  thou  ?  hast  thou  not  a  word  of  joy  ? \\nSome  comfort,  nurse. \\n\\n^\\'\\'urse.  Faith,  here  \\'tis.     Eomeo \\n\\nIs  banished,  and  all  the  world  to  nothing, \\nThat  he  dares  ne\\'er  come  back  to  challenge  you ; \\nOr,  if  he  do,  it  needs  must  be  by  stealth. \\nThen,  since  the  case  so  stands  as  now  it  doth, \\nI  think  it  best  you  married  with  the  county. \\n0,  he\\'s  a  lovely  gentleman  ! \\nRomeo\\'s  a  dishclout  to  him ;  an  eagle,  madam, \\nHath  not  so  green,  so  quick,  so  fair  an  eye \\nAs  Paris  hath.     Beshrew  my  very  heart, \\nI  think  you  are  happy  in  this  second  match, \\nFor  it  excels  your  first;  or  if  it  did  not. \\nYour  first  is  dead,  or  \\'twere  as  good  he  were, \\nAs  living  here  and  you  no  use  of  him. \\n\\nJuliet.  Speakest  thou  from  thy  heart  ? \\n\\nNurse.  And  from  my  soul  too ; \\n\\nOr  else  beshrew  them  both. \\n\\nJuliet.  Amen ! \\n\\nNurse.  What  ? \\n\\nJuliet.  Well,  thou  hast  comforted  me  marvellous  much. \\nGo  in,  and  tell  my  lady  I  am  gone, \\nHaving  displeas\\'d  my  father,  to  Laurence\\'  cell. \\nTo  make  confession  and  to  be  absolv\\'d. \\n\\nNurse.  Marry,  I  will;  and  this  is  wisely  done.     \\\\_Exit. \\n\\nJuliet.  Ancient  damnation  !  0  most  wicked  fiend ! \\n\\n\\nLtfC \\n\\n\\n100  BOMEO  AND  JULIET. \\n\\nIs  it  more  sin  to  wish  me  thus  forsworn, \\n\\nOr  to  dispraise  my  lord  with  that  same  tongue \\n\\nWhich  she  hath  prais\\'d  him  with  above  compare \\n\\nSo  many  thousand  times  ?  —  G-o,  counsellor ; \\n\\nThou  and  my  bosom  henceforth  shall  be  twain.  — \\n\\nI\\'ll  to  the  friar,  to  know  his  remedy ; \\n\\nIf  all  else  fail,  myself  have  power  to  die.  \\\\_Exit. \\n\\n\\nACT  IV. \\nScene  I.     Friar  Laurences  Cell. \\n\\nEnter  Friar  Laurence  and  Paris. \\n\\nFriar  Laurence.  On  Thursday,  sir  ?  the  time  is  very \\n\\nshort. \\nFar\\'is.  My  father  Capulet  will  have  it  so ; \\nAnd  I  am  nothing  slow  to  slack  his  haste. \\n\\nFriar  Laurence.  You  say  you  do  not  know  the  lady\\'s \\nmind; \\nUneven  is  the  course,  I  like  it  not. \\n\\nParis.  Immoderately  she  weeps  for  Tybalt\\'s  death, \\nAnd  therefore  have  I  little  talk\\'d  of  love ; \\nFor  Venus  smiles  not  in  a  house  of  tears. \\nNow,  sir,  her  father  counts  it  dangerous \\nThat  she  doth  give  her  sorrow  so  much  sway, \\nAnd  in  his  wisdom  hastes  our  marriage, \\nTo  stop  the  inundation  of  her  tears. \\nWhich,  too  much  minded  by  herself  alone, \\nMay  be  put  from  her  by  society. \\nNow  do  you  know  the  reason  of  this  haste. \\n\\nFriar  Laurence.  [Aside\\']  I  would  I  knew  not  why  it \\nshould  be  slow\\'d. \\nLook,  sir,  here  comes  the  lady  towards  my  cell. \\n\\n101 \\n\\n\\n102  ROMEO  AND  JULIET. \\n\\nEnter  Juliet. \\n\\nParis.  Happily  met,  my  lady  and  m}^  wife ! \\n\\nJuliet.  That  may  be,  sir,  when  I  may  be  a  wife. \\n\\nParis.  That  may  be  must  be,  love,  on  Thursday  next. \\n\\nJuliet.  What  must  be  shall  be. \\n\\nFriar  Laurence.  That\\'s  a  certain  text. \\n\\nParis.  Come  you  to  make  confession  to  this  father  ? \\n\\nJuliet.  To  answer  that,  I  should  confess  to  you. \\n\\nParis.  Do  not  deny  to  him  that  you  love  me. \\n\\nJuliet.  I  will  confess  to  you  that  I  love  him. \\n\\nParis.  So  will  you,  I  am  sure,  that  you  love  me. \\n\\nJidiet.  If  I  do  so,  it  will  be  of  more  price. \\nBeing  spoke  behind  your  back,  than  to  your  face. \\n\\nParis.  Poor  soul,  thy  face  is  much  abus\\'d  with  tears. \\n\\nJuliet.  The  tears  have  got  small  victory  by  that ; \\nFor  it  was  bad  enough  before  their  spite. \\n\\nParis.  Thou  wrong\\'st  it  more  than  tears  with  tliat   re- \\nport. \\n\\nJuliet.  That  is  no  slander,  sir,  which  is  a  truth ; \\nAnd  what  I  spake,  I  spake  it  to  my  face. \\n\\nParis.  Thy  face  is  mine,  and  thou  hast  slander\\'d  it. \\n\\nJuliet.  It  may  be  so,  for  it  is  not  mine  own.  — \\nAre  you  at  leisure,  holy  father,  now  ; \\nOr  shall  I  come  to  you  at  evening  mass  ? \\n\\nFriar  Laurence.  My  leisure  serves  me,  pensive  daugh- \\ntei\\',  now. — \\nMy  lord,  we  mast  entreat  the  time  alone. \\n\\n\\nROMEO  AND  JULIET.  103 \\n\\nParis.  God  shield  I  should  disturb  devotion  !  — \\nJuliet,  on  Thursday  early  will  I  rouse  ye : \\nTill  then,  adieu,  and  keep  this  holy  kiss.  [^Exit. \\n\\nJuliet.  0,  shut  the  door !  and  when  thou  hast  done  so, \\nCome  weep  with  me ;  past  hope,  past  cure,  past  help  ! \\n\\nFriar  Laurence.  Ah,  Juliet,  I  already  know  thy  grief ; \\nIt  strains  me  past  the  compass  of  my  wits : \\nI  hear  thou  must,  and  nothing  may  prorogue  it, \\nOn  Thursday  next  be  married  to  this  county. \\n\\nJuliet.  Tell  me  not,  friar,  that  thou  hear\\'st  of  this, \\nUnless  thou  tell  me  how  I  may  prevent  it; \\nIf  in  thy  wisdom  thou  canst  give  no  help, \\nDo  thou  but  call  my  resolution  wise. \\nAnd  with  this  knife  I\\'ll  help  it  presently. \\nGod  join\\'d  my  heart  and  Romeo\\'s,  thou  our  hands ; \\nAnd  ere  this  hand,  by  thee  to  Romeo  seai\\'d, \\nShall  be  the  label  to  another  deed. \\nOr  my  true  heart  with  treacherous  revolt \\nTurn  to  another,  this  shall  slay  them  botli : \\nTherefore,  out  of  thy  long-experienc\\'d  time, \\nGive  me  some  present  counsel,  or,  behold, \\n\\'Twixt  my  extremes  and  me  this  bloody  knife \\nShall  play  the  umpire,  arbitrating  that \\nWhich  the  commission  of  thy  years  and  art \\nCould  to  no  issue  of  true  honor  bring. \\nBe  not  so  long  to  speak  j  I  long  to  die, \\nIf  what  thou  speak\\'st  speak  not  of  remedy. \\n\\n\\n104  ROMEO  AND  JULIET. \\n\\nFriar  Laurence.  Hold,  daughter !  I  do  spy  a  kind  of \\nhope, \\nWhich  craves  as  desperate  an  execution \\nAs  that  is  desperate  which  we  would  prevent. \\nIf,  rather  than  to  marry  County  Paris, \\nThou  hast  the  strength  of  will  to  slay  thyself, \\nThen  is  it  likely  thou  wilt  undertake \\nA  thing  like  death  to  chide  away  this  shame. \\nThat  cop\\'st  with  death  himself  to  scape  from  it ; \\nAnd  if  thou  dar\\'st,  I\\'ll  give  thee  remedy. \\n\\nJuliet.  0,  bid  me  leap,  rather  than  marry  Paris, \\nErom  off  the  hattlements  of  yonder  tower ; \\nOr  walk  in  thievish  ways  ;  or  bid  me  lurk \\nWhere  serpents  are ;  chain  me  with  roaring  bears ; \\nOr  shut  me  nightly  in  a  charnel-house, \\nO\\'ercover\\'d  quite  with  dead  men\\'s  rattling  bones, \\nWith  reeky  shanks  and  yellow  chapless  skulls  j \\nOr  bid  me  go  into  a  new-made  grave \\nAnd  hide  me  with  a  dead  man  in  his  shroud ; \\nThings  that,  to  hear  them  told,  have  made  me  tremble ; \\nAnd  I  will  do  it  without  fear  or  doubt, \\nTo  live  an  unstain\\'d  wife  to  my  sweet  love. \\n\\nFriar  Laurence.  Hold,  then  ;  go  home,  be  merry,  give \\nconsent \\nTo  marry  Paris.     Wednesday  is  to-morrow : \\nTo-morrow  night  look  that  thou  lie  alone  ; \\nLet  not  thy  nurse  lie  with  thee  in  thy  chamber. \\n\\n\\nROMEO   AND  JULIET.  105 \\n\\nTake  thou  this  vial,  being  then  in  bed, \\n\\nAnd  this  distilled  liquor  drink  thou  off ; \\n\\nWhen  presently  through  all  thy  veins  shall  run \\n\\nA  cold  and  drowsy  humor,  for  no  pulse \\n\\nShall  keep  his  native  progress,  but  surcease. \\n\\nNo  warmth,  no  breath,  shall  testify  thou  livest ; \\n\\nThe  roses  in  thy  lips  and  cheeks  shall  fade \\n\\nTo  paly  ashes,  thy  eyes\\'  windows  fall, \\n\\nLike  death,  when  he  shuts  up  the  day  of  life ; \\n\\nEach  part,  depriv\\'d  of  supple  government. \\n\\nShall,  stiff  and  stark  and  cold,  appear  like  death  : \\n\\nAnd  in  this  borrow\\'d  likeness  of  shrunk  death \\n\\nThou  shalt  continue  two  and  forty  hours. \\n\\nAnd  then  awake  as  from  a  pleasant  sleep. \\n\\nNow,  when  the  bridegroom  in  the  morning  comes \\n\\nTo  rouse  thee  from  thy  bed,  there  art  thou  dead : \\n\\nThen,  as  the  manner  of  our  country  is. \\n\\nIn  thy  best  robes  uncover\\'d  on  the  bier \\n\\nThou  shalt  be  borne  to  that  same  ancient  vault \\n\\nWhere  all  the  kindred  of  the  Capulets  lie. \\n\\nIn  the  mean  time,  against  thou  shalt  awake, \\n\\nShall  Eomeo  by  my  letters  know  our  drift. \\n\\nAnd  hither  shall  he  come ;  and  he  and  I \\n\\nWill  watch  thy  waking,  and  that  very  night \\n\\nShall  Romeo  bear  thee  hence  to  Mantua. \\n\\nAnd  this  shall  free  thee  from  this  present  shame, \\n\\nIf  no  inconstant  toy  nor  womanish  fear \\n\\nAbate  thy  valor  in  the  acting  it. \\n\\n\\n106  EOMEO  AND  JULIET. \\n\\nJuliet.  Give  me,  give  me  !  O,  tell  not  me  of  fear ! \\nFriar  Laurence.  Hold;  get  you  gone,  be  strong  and \\nprosperous \\nIn  this  resolve :  I\\'ll  send  a  friar  with  speed \\nTo  Mantua  with  my  letters  to  thy  lord. \\n\\nJuliet.  Love  give  me  strength !  and  strength  shall  help \\nafford. \\nFarewell,  dear  father  !  \\\\_Exeant. \\n\\n\\nScene  II.     Hall  in  Capnlefs  House. \\n\\nEnter  Capulet,  Lady  CAruLEX,  Nurse,  and  two  Serving- \\nmen. \\n\\nCaj)uh\\'t.  So  many  guests  invite  as  here  are  writ. — \\n\\n\\\\^E.vit  iSemait. \\nSirrah,  go  hire  me  twenty  cunning  cooks. \\n\\n2  Servant.  You  shall  have  none  ill,  sir,  for  I\\'ll  try  if \\nthey  can  lick  their  lingers. \\n\\nCapxdet.  How  canst  thou  try  them  so  ? \\n,  2  Servant.  Marry,  sir,  \\'tis  an  ill  cook  that  cannot  lick \\nhis  own  fingers ;  therefore  he  that  cannot  lick  his  lingers \\ngoes  not  Avith  me. \\n\\nCapulet..  Go,  be  gone.  —  \\\\_E.vH  Servant. \\n\\nWe  shall  be  much  unfurnish\\'d  for  this  time. \\nWhat,  is  my  daughter  gone  to  Friar  Laurence  ? \\n\\nNurse.  Ay,  forsooth. \\n\\n\\ni|f|i    1^  ;^^  (i    \" \\n\\n#      I J  i\\\\  if  l\\'  H  1 \\n\\n\\nBOMEO  ANB  JULIET.  IQT \\n\\nCajmlet.  Well,  lie  may  chance  to  do  some  good  on  her ; \\nA  peevish  self-willed  harlotry  it  is. \\n\\nNurse.  See  where  she  comes  from  shrift  with  merry \\nlook. \\n\\nEnter  Juliet. \\n\\nCapulet.  How  now,  my  headstrong !  where  have  you \\nbeen  gadding  ? \\n\\nJuliet.  Where  I  have  learned  me  to  repent  the  sin \\nOf  disobedient  opposition \\nTo  you  and  your  behests,  and  am  enjoin\\'d \\nBy  holy  Laurence  to  fall  prostrate  here, \\nAnd  beg  your  pardon.     Pardon,  I  beseech  you ! \\nHenceforward  I  am  ever  rul\\'d  by  you. \\n\\nCapulet.  Send  for  the  county ;  go  tell  him  of  this. \\nI\\'ll  have  this  knot  knit  up  to-morrow  morning. \\n\\nJuliet.  I  met  the  youthful  lord  at  Laurence\\'  cell ; \\nAnd  gave  him  what  becomed  love  I  might, \\nNot  stepping  o\\'er  the  bounds  of  modesty. \\n\\nCaptdet.  Why,  I  am  glad  on\\'tj  this  is  well, — stand \\nup: \\nThis  is  as\\'t  should  be.  —  Let  me  see  the  county ; \\nAy,  marry,  go,  I  say,  and  fetch  him  hither.  — \\nNow,  afore  God  !  this  reverend  holy  friar. \\nAll  our  whole  city  is  much  bound  to  him. \\n\\nJuliet.  Nurse,  will  you  go  with  me  into  my  closet, \\nTo  help  me  sort  such  needful  ornaments \\nAs  you  think  fit  to  furnish  me  to-morrow  ? \\n\\n\\n108  ROMEO  AND  JULIET. \\n\\nLady  Cajndet.  No,  not  till  Thursday ;  there  is  time \\nenough. \\n\\nCapulet.  Go,  nurse,  go  with  her;  we\\'ll  to  church  to- \\nmorrow. \\n\\n\\\\_Exeunt  Juliet  and  Nurse. \\n\\nLady   Captdet.  We  shall  be  short  in  our  provision ; \\n\\'Tis  now  near  night, \\n\\nCapulet.  Tush,  I  will  stir  about. \\n\\nAnd  all  things  shall  be  well,  I  warrant  thee,  wife. \\nGo  thou  to  Juliet,  help  to  deck  up  her : \\nI\\'ll  not  to  bed  to-night ;  let  me  alone  ; \\nI\\'ll  play  the  housewife  for  this  once.  —  What,  ho  !  — \\nThey  are  all  forth.     Well,  I  will  walk  myself \\nTo  County  Paris,  to  prepare  him  up \\nAgainst  to-morrow.     My  heart  is  wondrous  light, \\nSince  this  same  wayward  girl  is  so  reclaim\\'d.      \\\\_Exeunt. \\n\\n\\nScene  III.     Juliet\\'s  Chaviber. \\n\\nEnter  Juliet  and  Nurse. \\n\\nJuliet.  Ay,  those  attires  are  best :  but,  gentle  nurse, \\nI  pray  thee,  leave  me  to  myself  to-night ; \\nFor  I  have  need  of  many  orisons \\nTo  move  the  heavens  to  smile  upon  my  state. \\nWhich,  well  thou  know\\'st  is  cross,  and  full  of  sin. \\n\\n\\nPhcitci  by  Byron \\n\\n\\nBOMEO  AND  JULIET.  109 \\n\\nEnter  Lady  Capulet. \\n\\nLady  Capulet.  What,  are  you  busy,  ho  ?  need  you  my \\n\\nhelp  ? \\nJuliet.  Ko,  madam ;  we  have  cull\\'d  such  necessaries \\nAs  are  behoveful  for  our  state  to-morrow : \\nSo  jjlease  you,  let  me  now  be  left  alone, \\nAnd  let  the  nurse  this  night  sit  up  with  you ; \\nFor,  T  am  sure,  you  have  your  hands  full  all, \\nIn  this  so  sudden  business. \\n\\nLady  Capulet.  Good  night ; \\n\\nGet  thee  to  bed  and  rest,  for  thou  hast  need. \\n\\n{Exeunt  Lady  Capulet  and  Nurse. \\nJuliet.  Farewell !  —  God  knows  when  we  shall  meet \\nagain. \\nI  have  a  faint  cold  fear  thrills  through  my  veins, \\nThat  almost  freezes  up  the  heat  of  life ; \\nI\\'ll  call  them  back  again  to  comfort  me.  — \\nNurse  !  —  What  should  she  do  here  ? \\nMy  dismal  scene  I  needs  must  act  alone.  — \\nCome,  vial.  — \\n\\nWhat  if  this  mixture  do  not  work  at  all  ? \\nShall  I  be  married  then  to-morrow  morning  ? \\nNo,  no  !  —  this  shall  forbid  it.  —  Lie  thou  there. \\n\\n\\\\Laying  doivn  a  dagger. \\nWhat  if  it  be  a  poison,  which  the  friar \\nSubtly  hath  minister\\'d  to  have  me  dead, \\n\\n\\n110  ROMEO  AND  JULIET. \\n\\nLest  in  this  mai-riage  he  should  be  dishouor\\'d, \\n\\nBecause  he  married  me  before  to  Komeo  ? \\n\\nI  fear  it  is  ;  and  yet,  methinks,  it  should  not, \\n\\nFor  he  hath  still  been  tried  a  holy  man. \\n\\nHow  if,  when  I  am  laid  into  the  tomb, \\n\\nI  wake  before  the  time  that  Romeo \\n\\nCome  to  redeem  me  ?  there\\'s  a  fearful  point ! \\n\\nShall  I  not  then  be  stifled  in  the  vault, \\n\\nTo  whose  foul  mouth  no  healthsome  air  breathes  in \\n\\nAnd  there  die  strangled  ere  my  Komeo  comes  ? \\n\\nOr,  if  I  live,  is  it  not  very  like, \\n\\nThe  horrible  conceit  of  death  and  night, \\n\\nTogether  with  the  terror  of  the  place,  — \\n\\nAs  in  a  vault,  an  ancient  receptacle. \\n\\nWhere  for  these  many  hundred  years  the  bones \\n\\nOf  all  my  buried  ancestors  are  pack\\'d ; \\n\\nWliere  bloody  Tybalt,  yet  but  green  in  earth, \\n\\nLies  festering  in  his  shroud ;  where,  as  they  say, \\n\\nAt  some  hours  in  the  night  spirits  resort ;  — \\n\\nAlack,  alack,  is  it  not  like  that  I, \\n\\nSo  early  waking,  what  with  loathsome  smells. \\n\\nAnd  shrieks  like  mandrakes\\'  torn  out  of  the  earth, \\n\\nThat  living  mortals  hearing  tliem  run  mad  ;  — \\n\\n0,  if  I  wake,  shall  I  not  be  distraught. \\n\\nEnvironed  with  all  these  hideous  fears  ? \\n\\nAnd  madly  play  with  my  forefathers\\'  joints  ? \\n\\nAnd  pluck  the  mangled  Tybalt  from  his  shroud  ? \\n\\n\\nROMEO  AND  JULIET.  \\\\\\\\\\\\ \\n\\nAnd,  in  this  rage,  with  some  great  kinsman\\'s  Ijone, \\nAs  with  a  club,  dash  out  my  desperate  brains  ?  — \\n0,  look,  methinks  I  see  my  cousin\\'s  ghost \\nSeeking  out  Romeo,  that  did  spit  his  body \\nUpon  a  rapier\\'s  point.  —  Stay,  Tybalt,  stay  !  — \\nRomeo,  I  come !  this  do  I  drink  to  thee. \\n\\n\\\\_Slie  throws  herself  on  the  hed. \\n\\nScene  IV.     Hall  in  Ca\\'pidet\\'\\'s  House. \\n\\nEnter  Lady  Capulet  and  Nurse. \\n\\nLady  Capulet.  Hold,  take  these  keys,  and  fetch  more \\n\\nspices,  nurse. \\nNurse-.  They  call  for  dates  and  quinces  in  the  pastry. \\n\\nEnter  Capulet. \\n\\nCapulet.  Come,  stir,  stir,  stir  !  the  second  cock  hath \\ncrow\\'d, \\nThe  curfew-bell  hath  rung,  \\'tis  three  o\\'clock.  — \\nLook  to  the  bak\\'d  meats,  good  Angelica  ; \\nSpare  not  for  cost. \\n\\nN\\'urse.  Go,  you  cot-quean,  go, \\n\\nGet  you  to  bed ;  faith,  you\\'ll  be  sick  to-morrow \\nFor  this  night\\'s  watching. \\n\\nCapulet.  No,  not  a  whit.     What !  I  have  watch\\'d  ere \\nnow \\nAll  night  for  lesser  cause,  and  ne\\'er  been  sick. \\n\\n\\n112  ROMEO  AND  JULIET. \\n\\nLady  Capulet.  Ay,  you  have  been  a  mouse-hunt  in \\nyour  time ; \\nBut  I  will  watch  you  from  such  watching  now. \\n\\n\\\\_Exeunt  Lady  Capulet  and  Niirse. \\nCaindet.  A  jealous-hood,  a  jealous-hood !  — \\n\\nEnter  three  or  four  Servingmen,  ivith  spits,  logs,  and \\nbaskets. \\n\\nNow,  fellow, \\nWhat\\'s  there  ? \\n\\n1  Servant.  Things  for  the  cook,  sir ;  but  I  know  not \\nwhat. \\n\\nCapulet.  Make  haste,  make  haste. — \\\\_Exit  Servant.\\'] \\nSirrah,  fetch  drier  logs ; \\nCall  Peter,  he  will  show  thee  where  they  are. \\n\\n2  Servant.  I  have  a  head,  sir,  that  will  find  out  logs. \\nAnd  never  trouble  Peter  for  the  matter.  \\\\_Exit. \\n\\nCapulet.  Mass,  and  well  said ;  a  merry  whoreson,  ha ! \\nThou  shalt  be  logger-head.  —  Good  faith,  \\'tis  day : \\nThe  county  will  be  here  with  music  straight, \\nPor  so  he  said  he  would.     I  hear  him  near.  — \\n\\n\\\\Music  within. \\nNurse  !  —  Wife  !  —  What,  ho  !  —  What,  nurse,  I  say ! \\n\\nRe-enter  Nurse. \\n\\nGo  waken  Juliet,  go  and  trim  her  up ; \\n\\nI\\'ll  go  and  chat  with  Paris.  —  Hie,  make  haste, \\n\\n\\nBOMEO  AND  JULIET.  113 \\n\\nMake  haste ;  the  bridegroom  he  is  come  already : \\nMake  haste,  I  say.  [Exeunt. \\n\\n\\nScene  V.     Jtdiefs  Chamber. \\n\\nEnter  Nurse. \\n\\nNurse.  Mistress  !  what,  mistress  !  Juliet !  fast,  I  war- \\nrant her,  she.  — \\nWhy,  lamb  !  why,  lady  !  fie,  you  slug-a-bed  ! \\nWhy,  love,  I  say !  madam  !  sweet-heart !  why,  bride  ! \\nWhat,  not  a  word  ?  —  How  sound  is  she  asleep  ! \\nI  needs  must  wake  her.  —  Madam,  madam,  madam ! \\nAy,  let  the  county  take  you  in  your  bed ; \\nHe\\'ll  fright  you  up,  i\\'  faith.  —Will  it  not  be  ? \\n\\n[  Undraws  the  curtains. \\nWhat,  dress\\'d !  and  in  your  clothes !   and  down  again  ! \\nI  must  needs  wake  you.     Lady  !  lady !  lady !  — \\nAlas,  alas  !  —  Help,  help  !  my  lady\\'s  dead !  — \\n0,  well-a-day,  that  ever  I  was  born !  — \\nSome  aqua  vitae,  ho  !  —  My  lord !  my  lady ! \\n\\nEnter  Lady  Capulet. \\n\\nLady  Capulet.  What  noise  is  here  ? \\n\\nNurse.  0  lamentable  day ! \\n\\nLady  Capidet.  What  is  the  matter  ? \\n\\nNurse.  Look,  look !  0  heavy  day  ! \\n\\n\\n114  ROMEO  AND  JULIET. \\n\\nLady  Capulet.  0  me,  0  me  !     My  child,  my  only  life, \\nEevive,  look  up,  or  I  will  die  with  thee  !  — \\nHelp,  help !     Call  help. \\n\\nEnter  Capulet. \\n\\nCcqndet.  For  shame,  bring  Juliet  forth;  her  lord  is \\n\\ncome. \\nNurse.    She\\'s   dead,  deceas\\'d,  she\\'s   dead  ;    alack   the \\n\\nday  ! \\nLady  Capillet.  Alack  the  day,  she\\'s  dead,  she\\'s  dead, \\n\\nshe\\'s  dead ! \\nCapulet.  Ha !  let  me  see  her.     Out,  alas  !  she\\'s  cold ; \\nHer  blood  is  settled,  and  her  joints  are  stiff; \\nLife  and  these  lips  have  long  been  separated. \\nDeath  lies  on  her  like  an  untimely  frost \\nUpon  the  sweetest  flower  of  all  the  field. \\nNurse.  0  lamentable  day  ! \\nLady  Capulet.  0  woful  time  ! \\n\\nCapulet.  Death,  that  hath  ta\\'en  her  hence  to  make  me \\nwail, \\nTies  up  my  tongue  and  will  not  let  me  speak. \\n\\nEnter  Friar  Laurence  a?zcZ  Paris,  ivith  Musicians. \\n\\nFriar  Laurence.  Come,  is  the  bride  ready  to  go  to \\n\\nchurch  ? \\nCapulet.  Eeady  to  go,  but  never  to  return. \\n0  son !  the  night  before  thy  wedding-day \\n\\n\\nEOMEO  AND  JULIET.  115 \\n\\nHath  Death  lain  with  thy  wife.     See,  there  she  lies, \\nFlower  as  she  was,  deflower\\'d  by  him. \\nDeath  is  my  son-in-law.  Death  is  my  heir ; \\nMy  daughter  he  hath  wedded.     I  will  die, \\nAnd  leave  him  all;  life,  living,  all  is  Death\\'s. \\n\\nParis.  Have  I  thought  long  to  see  this  morning\\'s  face,. \\nAnd  doth  it  give  me  such  a  sight  as  this  ? \\n\\nLady   Cajjulet.    Accurst,  unhappy,   wretched,  hateful \\nday! \\nMost  miserable  hour  that  e\\'er  time  saw \\nIn  lasting  labor  of  his  pilgrimage  ! \\nBut  one,  poor  one,  one  poor  and  loving  child, \\nBut  one  thing  to  rejoice  and  solace  in. \\nAnd  cruel  death  hath  catch \\'d  it  from  my  sight ! \\n\\nNurse.  0  woe  !  0  woful,  woful,  woful  day  ! \\nMost  lamentable  day,  most  woful  day, \\nThat  ever,  ever,  I  did  yet  behold ! \\n0  day  !  0  day  !  0  day  !  0  hateful  day  ! \\nNever  was  seen  so  black  a  day  as  this : \\n0  woful  day,  0  woful  day  ! \\n\\nParis.  Beguil\\'d,  divorced,  wronged,  spited,  slain  ! \\nMost  detestable  death,  by  thee  beguil\\'d. \\nBy  cruel,  cruel  thee  quite  overthrown!- \\n0  love !  0  life  !  not  life,  but  love  in  death ! \\n\\nCa\\'pulet.  Despis\\'d,  distressed,  hated,  martyr\\'d,  kill\\'d  \\\\ \\nUncomfortable  time,  why  cam\\'st  thou  now \\nTo  murder,  murder  our  solemnity  ?  — \\n\\n\\nIIQ  liOMEO  AND  JULIET. \\n\\n0  clnld  !  0  child  !  my  soul,  and  not  my  child  ! \\nDead  art  thou !     Alack !  my  child  is  dead  ; \\nAnd  with  my  child  my  joys  are  buried. \\n\\nFriar  Laurence.  Peace,  ho !  for  shame  !  confusion\\'s  cure \\nlives  not \\nIn  these  confusions.     Heaven  and  yourself \\nHad  part  in  this  fair  maid ;  now  heaven  liath  all, \\nAnd  all  the  better  is  it  for  the  maid : \\nYour  part  in  her  you  could  not  keep  from  death. \\nBut  heaven  keeps  his  part  in  eternal  life. \\nThe  most  you  sought  was  her  promotion. \\nFor  \\'twas  your  heaven  she  should  be  advanc\\'d ; \\nAnd  weep  ye  now,  seeing  she  is  advanc\\'d \\nAbove  the  clouds,  as  high  as  heaven  itself  ? \\n0,  in  this  love,  you  love  your  child  so  ill. \\nThat  3^ou  run  mad,  seeing  that  she  is  well ; \\nShe\\'s  not  well  married  that  lives  married  long, \\nBut  she\\'s  best  married  that  dies  married  young. \\nDry  up  your  tears,  and  stick  your  rosemary \\nOn  this  fair  corse,  and,  as  the  custom  is. \\nIn  all  her  best  array  bear  her  to  church ; \\nFor  though  fond  nature  bids  us  all  lament, \\nYet  nature\\'s  tears  are  reason\\'s  merriment. \\n\\nCapulet.  All  things  that  we  ordained  festival, \\nTurn  from  their  office  to  black  funeral : \\nOur  instruments  to  melancholy  bells, \\nOur  wedding  cheer  to  a  sad  burial  feast, \\n\\n\\nROMEO  AND  JULIET.  \\\\\\\\1 \\n\\nOur  solemn  hymns  to  sullen  dirges  change, \\nOur  bridal  flowers  serve  for  a  buried  corse, \\nAnd  all  things  change  them  to  the  contrary. \\n\\nFriar  Laurence.  Sir,  go  you  in,  —and,  madam,  go  with \\nhim ;  — \\nAnd  go,  Sir  Paris  ;  —  every  one  prepare \\nTo  follow  this  fair  corse  unto  her  grave. \\nThe  heavens  do  lower  upon  you  for  some  ill ; \\nMove  them  no  more  by  crossing  their  high  will. \\n\\n[Exeunt  Capulet,  Lady  Capidet,  Paris,  and  Friar. \\n\\n1  Musician.  Faith,  we  may  put  up  our  pipes,  and  be \\ngone. \\n\\nNurse.  Honest  good  fellows,  ah,  put  up,  put  up  ; \\nTor,  well  you  know,  this  is  a  pitiful  case.  \\\\_Exit. \\n\\n1  Musician.  Ay,  by  my  troth,  the  case  may  be  amended. \\n\\nEnter  Peter. \\n\\nPeter.  Musicians,  0,  musicians,  \\'Heart\\'s  ease.  Heart\\'s \\nease : \\'  0,  an  you  will  have  me  live,  play  \\'  Heart\\'s  ease.\\' \\n\\n1  Musician.  Why  \"^  Heart\\'s  ease  \\'  ? \\n\\nPeter.  0,  musicians,  because  my  heart  itself  plays  \\'My \\nheart  is  full  of  woe  : \\'  0,  play  me  some  merry  dump,  to \\ncomfort  me. \\n\\n1  Musician.  Not  a  dump  we ;  \\'tis  no  time  to  play  now. \\n\\nPeter.  You  will  not,  then  ? \\n\\n1  Musician.  No. \\n\\nPeter.  I  will  then  give  it  you  soundly. \\n\\n\\n118  ROMEO  AND  JULIET. \\n\\n1  Musician.  What  will  you  give  us  ? \\n\\nPeter.  No  money,  on  my  faith,  but  the  gleek ;  I  Avill \\ngive  you  the  minstrel. \\n\\n1  llusician.  Then  will  I  give  you  the  serving-creature. \\n\\nPeter.  Then  will  I  lay  the  serving-creature\\'s  dagger  on \\nyour  pate.  I  will  carry  no  crotchets  :  I\\'ll  re  you,  I\\'ll  fa \\nyou  ;  do  you  note  me  ? \\n\\n1  Musician.  An  you  re  us  and  fa  us,  you  note  us. \\n\\n2  Musician.  Pray  you,  put  up  your  dagger,  and  put \\nout  your  wit. \\n\\nPeter.  Then  have  at  you  with  my  wit !  I  will  dry-beat \\nyou  with  an  iron  wit,  and  put  up  my  iron  dagger. \\nAnswer  nie  like  men  : \\n\\n\\'  When  griping  grief  the  heart  doth  wound, \\n\\n•And  doleful  dumps  the  mind  oppress, \\nThen  music  with  her  silver  sound\\'  — \\nwhy  \\'silver  sound\\'?  why  \\'music  with  her  silver  sound\\'  ? \\n— What  say  you,  Simon  Catling? \\n\\n1  Musician.  Marry,  sii\\',  because  silver  hath  a  sweet \\nsound. \\n\\nPeter.  Pretty !  —  What  say  you,  Hugh  Eebeck  ? \\n\\n2  Musician.  I  say  \\'silver  sound,\\'  because  musicians \\nsound  for  silver. \\n\\nPeter.  Pretty  too !  —  What  say  you,  James  Sound- \\npost? \\n\\n3  Musician.  Faith,  I  know  not  what  to  say. \\n\\nPeter.  0,  I  cry  you  mercy  ;  you  are  the  singer  :  I  will \\n\\n\\nEOMEO  AND  JULIET.  119 \\n\\nsay  for  you.  It  is  \\'  music  with  her  silver  sound,\\'  because \\nmusicians  have  no  gokl  for  sounding : \\n\\n\\'  Then  music  with  her  silver  sound \\n\\nWith  speedy  help  doth  lend  redress.\\'         \\\\_Exit. \\n\\n1  Musician.  What  a  pestilent  knave  is  this  same  ! \\n\\n2  Musician.  Hang  him,  Jack  !  —  Come,  we\\'ll  in  here  ; \\ntarry  for  the  mourners,  and  stay  dinner.  \\\\_Exeunt. \\n\\n\\nACT  V. \\n\\nScene  I.     Mantua.    A  Street. \\n\\nEnter  Romeo. \\n\\nRomeo.  If  I  may  trust  the  flattering  trutli  of  sleep, \\nMy  dreams  presage  some  joyful  news  at  hand. \\nMy  bosom\\'s  lord  sits  lightly  in  his  throne ; \\nAnd  all  this  day  an  unaccustoni\\'d  spirit \\nLifts  me  above  the  ground  with  cheerful  thoughts. \\nI  dreamt  my  lady  came  and  found  me  dead  — \\nStrange  dream  that  gives  a  dead  man  leave  to  think !  — \\nAnd  breath\\'d  such  life  with  kisses  in  my  lips, \\nThat  I  reviv\\'d,  and  was  an  emperor. \\nAh  me  !  how  sweet  is  love  itself  possess\\'d, \\nWhen  but  love\\'s  shadows  are  so  rich  in  joy ! \\n\\nEnter  Balthasar. \\n\\nNews  from  Verona !  —  How  now,  Balthasar ! \\nDost  thou  not  bring  me  letters  from  the  friar  ? \\nHow  doth  my  lady  ?     Is  my  father  well  ? \\nHow  fares  my  Juliet  ?  that  I  ask  again ; \\nFor  nothing  can  be  ill,  if  she  be  well. \\n\\nBalthasar.  Then  she  is  well,  and  nothing  can  be  ill ; \\nHer  body  sleeps  in  Capel\\'s  monument, \\n\\n120 \\n\\n\\nROMEO  AND  JULIET.  121 \\n\\nAnd  lier  immortal  part  with  angels  lives. \\nI  saw  her  laid  low  in  her  kindred\\'s  vault, \\nAnd  presently  took  post  to  tell  it  you. \\n0,  pardon  me  for  bringing  these  ill  news, \\nSince  you  did  leave  it  for  my  office,  sir. \\n\\nRomeo.  Is  it  even  so  ?  then  I  defy  you,  stars  !  — \\nThou  know\\'st  my  lodging  :  get  me  ink  and  paper. \\nAnd  hire  post-horses  ;  I  will  hence  to-night. \\n\\nBalthasar.  I  do  beseech  you,  sir,  have  patience  ; \\nYour  looks  are  pale  and  wild,  and  do  import \\nSome  misadventure. \\n\\nRomeo.  Tush,  thou  art  deceiv\\'d ; \\n\\nLeave  me,  and  do  the  thing  I  bid  thee  do. \\nHast  thou  no  letters  to  me  from  the  friar  ? \\n\\nBalthasar.  No,  my  good  lord. \\n\\nRomeo.  ISTo  matter :  get  thee  gone, \\n\\nAnd  hire  those  horses ;  I\\'ll  be  with  thee  straight. — \\n\\n[_Exit  Balthasar. \\nWell,  Juliet,  I  will  lie  with  thee  to-night. \\nLet\\'s  see  for  means.  —  0  mischief,  thou  art  swift \\nTo  enter  in  the  thoughts  of  desperate  men ! \\nI  do  remember  an  apothecary,  — \\nAnd  hereabouts  he  dwells,  —  which  late  I  noted \\nIn  tatter\\'d  weeds,  with  overwhelming  brows. \\nCulling  of  simples  ;  meagre  were  his  looks. \\nSharp  misery  had  worn  him  to  the  bones : \\nAnd  in  his  needy  shop  a  tortoise  hung. \\n\\n\\n122  ROMEO  AND  JULIET. \\n\\nAn  alligator  stuff\\'d,  and  other  skins \\n\\nOf  ill-shap\\'d  fishes ;  and  about  his  shelves \\n\\nA  beggarly  account  of  empty  boxes, \\n\\nGreen  earthen  pots,  bladders,  and  musty  seeds, \\n\\nRemnants  of  packthread  and  old  cakes  of  roses, \\n\\nWere  thinly  scatter\\'d,  to  make  up  a  show. \\n\\nNoting  this  penury,  to  myself  I  said. \\n\\nAn  if  a  man  did  need  a  poison  now, \\n\\nWhose  sale  is  present  death  in  Mantua, \\n\\nHere  lives  a  caitiff  wretch  would  sell  it  him. \\n\\n0,  this  same  thought  did  but  forerun  my  need, \\n\\nAnd  this  same  needy  man  must  sell  it  me  ! \\n\\nAs  I  remember,  this  should  be  the  house. \\n\\nBeing  holiday,  the  beggar\\'s  shop  is  shut. — \\n\\nWhat,  ho !  apothecary ! \\n\\nEnt67\\'  Apothecary. \\n\\nApothecary.  Who  calls  so  loud  ? \\n\\nRomeo.  Come  hither,  man.     I  see  that  thou  art  poor : \\nHold,  there  is  forty  ducats  ;  let  me  have \\nA  dram  of  poison,  such  soon-speeding  gear \\nAs  will  disperse  itself  through  all  the  veins \\nThat  the  life-weary  taker  may  fall  dead. \\nAnd  that  the  trunk  may  be  discharg\\'d  of  breath \\nAs  violently  as  hasty  powder  fir\\'d \\nDoth  hurry  from  the  fatal  cannon\\'s  womb. \\n\\n\\nBOMEO  AND  JULIET.  123 \\n\\nA]jothecary.  Sucli  mortal  drugs  I  have ;  but  Mantua\\'s \\nlaw \\nIs  deatli  to  any  he  that  utters  them. \\n\\nRomeo.  Art  thou  so  bare  and  full  of  wretchedness, \\nAnd  fear\\'st  to  die  ?  famine  is  in  thy  cheeks, \\nNeed  and  oppression  starveth  in  thine  eyes, \\nContempt  and  beggary  hangs  upon  thy  back, \\nThe  world  is  not  thy  friend,  nor  the  world\\'s  law : \\nThe  world  affords  no  law  to  make  thee  rich ; \\nThen  be  not  poor,  but  break  it,  and  take  this. \\n\\nApothecary.  My  poverty,  but  not  my  will,  consents.    . \\n\\nRomeo.  I  pay  thy  poverty,  and  not  thy  will. \\n\\nApothecary.  Put  this  in  any  liquid  thing  you  will. \\nAnd  drink  it  off ;  and,  if  you  had  the  strength \\nOf  twenty  men,  it  would  dispatch  you  straight. \\n\\nRomeo.  There  is  thy  gold,  worse  poison  to  men\\'s  souls, \\nDoing  more  murders  in  this  loathsome  world, \\nThan  these  poor  compounds  that  thou  mayst  not  sell. \\nI  sell  thee  poison,  thou  hast  sold  me  none. \\nFarewell ;  buy  food,  and  get  thyself  in  flesh.  — \\nCome,  cordial  and  not  poison,  go  with  me \\nTo  Juliet\\'s  grave  J  for  there  must  I  use  thee.      \\\\Exeunt. \\n\\n\\n124  ROMEO  AND  JULIET. \\n\\nScene  II.     Friar  Laurence\\'s  Cell. \\nEnter  Fkiar  John. \\nFriar  John.  Holy  Franciscan  friar  !  brother,  ho ! \\n\\nEnter  Friar  Laurence. \\n\\nFriar  Laurence.  This  same  should  be  the  voice  of  Friar \\nJohn.  — \\nWelcome  from  Mantua ;  what  says  Romeo  ? \\nOr,  if  his  mind  be  writ,  give  me  his  letter. \\n\\nFriar  John.  Going  to  find  a  barefoot  brother  out, \\nOne  of  our  order,  to  associate  me. \\nHere  in  this  city  visiting  the  sick, \\nAnd  finding  him,  the  searchers  of  the  town, \\nSuspecting  that  we  both  were  in  a  house \\nWhere  the  infectious  pestilence  did  reign, \\nSeal\\'d  up  the  doors,  and  would  not  let  us  forth ; \\nSo  that  my  speed  to  Mantua  there  was  stay\\'d. \\n\\nFriar  Laurence.  Who  bare  my  letter,  then,  to  Romeo  ? \\n\\nFriar  John.  I  could  not  send  it,  —  here  it  is  again,  — \\nISTor  get  a  messenger  to  bring  it  thee. \\nSo  fearful  were  they  of  infection. \\n\\nFriar  Laurence.    Unhappy  fortune!   by  my  brother- \\nhood. \\nThe  letter  was  not  nice,  but  full  of  charge \\nOf  dear  import,  and  the  neglecting  it \\n\\n\\nROMEO  AND  JULIET.  125 \\n\\nMay  do  much  danger.     Friar  John,  go  hence  ; \\nGet  me  an  iron  crow,  and  bring  it  straight \\nUnto  my  cell. \\n\\nFriar  John.  Brother,  I\\'ll  go  and  bring  it  thee.     \\\\_Exit. \\n\\nFriar  Laurence.  Xow  must  I  to  the  monument  alone ; \\nWithin  this  three  hours  will  fair  Juliet  wake. \\nShe  will  beshrew  me  much  that  Eomeo \\nHath  had  no  notice  of  these  accidents ; \\nBut  I  will  write  again  to  Mantua, \\nAnd  keep  her  at  my  cell  till  Romeo  come : \\nPoor  living  corse,  clos\\'d  in  a  dead  man\\'s  tomb !       [.Exit. \\n\\n\\nScene  III.     A  Churchyard ;  in  it  a  Tomb  belonging  to \\nthe  Cajjulets. \\n\\nEnter  Paris,  and  his  Page,  bearing  flowers  and  a  torch. \\n\\nParis.    Give   me   thy   torch,   boy;    hence,   and   stand \\naloof : \\nYet  put  it  out,  for  I  would  not  be  seen. \\nUnder  yond  yew-trees  lay  thee  all  along. \\nHolding  thine  ear  close  to  the  hollow  ground ; \\nSo  shall  no  foot  upon  the  churchyard  tread. \\nBeing  loose,  unfirm,  with  digging  up  of  graves, \\nBut  thou  shalt  hear  it :  whistle  then  to  me. \\nAs  signal  that  thou  hear\\'st  something  approach. \\nGive  me  those  flowers.     Do  as  I  bid  thee,  go. \\n\\n\\n126  liOMEO  AND  JULIET. \\n\\nPage.  [_As\\'ide]  I  am  almost  afraid  to  stand  alone \\nHere  in  the  churchyard  ;  yet  I  will  adventure.    \\\\_Ref.ires. \\n\\nParis.  Sweet  flower,  Avith   flowers    thy  bridal  bed  I \\nstrew. \\n\\n0  woe  !  thy  canopy  is  dust  and  stones, \\nWhich  with  sweet  water  nightly  I  will  dew. \\n\\nOr,  wanting  that,  with  tears  distill\\'d  by  moans ; \\nThe  obsequies  that  I  for  thee  will  keep \\nNightly  shall. be  to  strew  thy  grave  and  weep. \\n\\n\\\\_The  Page  whistles. \\nThe  boy  gives  warning  something  doth  approach. \\nWhat  cursed  foot  wanders  this  way  to-night. \\nTo  cross  my  obsequies  and  true  love\\'s  rite  ? \\nWhat,  with  a  torch !  —  Muffle  me,  night,  awhile. \\n\\n\\\\_Ii.etires. \\n\\nEnter\\'  Eomeo  and  Balthasar,  ivith  a  torch,  mattock,  etc. \\n\\nRomeo.  Give  me  that  mattock  and  the  wrenching  iron. \\nHold,  take  this  letter  ;  early  in  the  morning \\nSee  thou  deliver  it  to  my  lord  and  father. \\nGive  me  the  light.     Upon  thy  life,  I  charge  thee, \\nWhate\\'er  thou  hear\\'st  of  seest,  stand  all  aloof, \\nAnd  do  not  interrupt  me  in  my  course. \\nWhy  I  descend  into  this  bed  of  death \\nIs  partly  to  behold  my  lady\\'s  face, \\nBut  chiefly  to  take  thence  from  her  dead  finger \\nA  precious  ring,  a  ring  that  I  must  use \\n\\n\\nEOMEO  AND  JULIET.  127 \\n\\nIn  dear  employment.     Therefore  hence,  be  gone ; \\nBut  if  thou,  jealous,  dost  return  to  pry- \\nIn  what  I  further  shall  intend  to  do, \\nBy  heaven,  I  will  tear  thee  joint  by  joint \\nAnd  strew  this  hungry  churchyard  with  thy  limbs. \\nThe  time  and  my  intents  are  savage-wild. \\nMore  fierce  and  more  inexorable  far \\nThan  empty  tigers  or  the  roaring  sea. \\n\\nBalthasar.  I  will  be  gone,  sir,  and  not  trouble  you. \\n\\nBorneo.  So  shalt  thou  show  me  friendship.     Take  thou \\nthat : \\nLive,  and  be  prosperous ;  and  farewell,  good  fellow. \\n\\nBalthasar.   \\\\^Aside\\\\  For  all   this    same,  I\\'ll   hide    me \\nhereabout ; \\nHis  looks  I  fear,  and  his  intents  I  doubt.  [Eetires. \\n\\nBorneo.  Thou  detestable  maw,  tliou  womb  of  death, \\nGorg\\'d  with  the  dearest  morsel  of  the  earth, \\nThus  I  enforce  thy  rotten  jaws  to  oj)en. \\nAnd,  in  despite,  I\\'ll  cram  thee  with  more  food  ! \\n\\nl^Opens  the  tovih. \\n\\nParis.  This  is  that  banish\\'d  haughty  Montague, \\nThat  murder\\'d  my  love\\'s  cousin,  —  with  which  grief, \\nIt  is  supposed,  the  fair  creature  died,  — \\nAnd  here  is  come  to  do  some  villanous  shame \\nTo  the  dead  bodies  ;  I  will  apprehfend  him. —  \\\\_Aclvances. \\nStop  thy  unhallow\\'d  toil,  vile  Montague  ! \\nCan  vengeance  be  pursued  further  than  death  ? \\n\\n\\n128  BOMEO  AND  JULIET. \\n\\nCondemned  villain,  I  do  apprehend  tliee : \\nObe}\\',  and  go  with  me  ;  for  thou  must  die. \\n\\nBorneo.  I  must  indeed,  and  therefore  came  I  hither. \\nGood  gentle  youth,  tempt  not  a  desperate  man  ; \\nFly  hence,  and  leave  me  :  think  upon  these  gone ; \\nLet  them  affright  thee.     I  beseech  thee,  youth, \\nPut  not  another  sin  upon  my  head, \\nBy  urging  me  to  fury  ;  0,  be  gone ! \\nBy  heaven  I  love  thee  better  than  myself ; \\nFor  I  come  hither  arm\\'d  against  myself. \\nStay  not,  be  gone ;  live,  and  hereafter  say, \\nA  madman\\'s  mercy  bade  thee  run  away. \\n\\nParis.  I  do  defy  thy  conjurations, \\nAnd  apprehend  thee  for  a  felon  here. \\n\\nRomeo.  Wilt  thou  provoke  me\\'?  then  have  at  thee,  boy ! \\n\\n\\\\_They  fight. \\n\\nPage.  0,  Lord,  they  fight !  I  will  go  call  the  watch. \\n\\n\\\\_Exit. \\n\\nParis.  0,  I  am  slain  !  —  \\\\_Falls\\']  If  thou  be  merciful, \\nOpen  the  tomb,  lay  me  with  Juliet.  \\\\_Dies. \\n\\nRomeo.  In  faith,  I  will.  — Let  me  peruse  this  face. \\nMercutio\\'s  kinsman,  noble  County  Paris  ! \\nWhat  said  my  man,  when  my  betossed  soul \\nDid  not  attend  him  as  we  rode  ?     I  think \\nHe  told  me  Paris  should  have  married  Juliet ; \\nSaid  he  not  so  ?  or  did  I  dream  it  so  ? \\nOr  am  I  mad,  hearing  him  talk  of  Juliet, \\n\\n\\nROMEO  AND  JULIET.  129 \\n\\nTo  think  it  was  so  ?  —  0,  give  me  tliy  hand, \\nOne  writ  with  me  in  sour  misfortune\\'s  book ! \\nI\\'ll  bury  thee  in  a  triumphant  grave,  — \\nA  grave  ?  0,  no  !  a  lantern,  slaughter\\'d  youth ; \\nFor  here  lies  Juliet,  and  her  beauty  makes \\nThis  vault  a  feasting  presence  full  of  light. \\nDeath,  lie  thou  there,  by  a  dead  man  interr\\'d.  — \\n\\n\\\\_Laying  Paris  in  the  tomb. \\nHow  oft  when  men  are  at  the  point  of  death \\nHave  they  been  merry !  which  their  keepers  call \\nA  lightning  before  death ;  0,  how  may  I \\nCall  this  a  lightning  ?  —  0  my  love  !  my  wife ! \\nDeath,  that  hath  suck\\'d  the  honey  of  thy  breath, \\nHath  had  no  power  yet  upon  thy  beauty : \\nThou  art  not  conquer\\'d  ;  beauty\\'s  ensign  yet \\nIs  crimson  in  thy  lips  and  in  thy  cheeks. \\nAnd  death\\'s  pale  flag  is  not  advanced  there.  — \\nTybalt,  liest  thou  there  in  thy  bloody  sheet  ? \\nO,  what  more  favor  can  I  do  to  thee \\nThan  with  that  hand  that  cut  thy  youth  in  twain \\nTo  sunder  his  that  was  thine  enemy  ? \\nForgive  me,  cousin  !  — Ah,  dear  Juliet, \\nWhy  art  thou  yet  so  fair  ?  shall  I  believe \\nThat  unsubstantial  Death  is  amorous. \\nAnd  that  the  lean  abhorred  monster  keeps \\nThee  here  in  dark  to  be  his  paramour  ? \\nFor  fear  of  that,  I  still  will  stay  with  thee ; \\n\\n\\n130  ROMEO  AND  JULIET. \\n\\nAnd  never  from  this  palace  of  dim  night \\n\\nDepart  again  :  here,  here  will  I  remain \\n\\nWith  wonms  that  are  thy  chamber-maids ;  0,  here \\n\\nAVill  I  set  np  my  everlasting  rest, \\n\\nAnd  shake  the  yoke  of  inauspicious  stars \\n\\nFrom  this  world-wearied  flesh.  —  Eyes,  look  your  last ! \\n\\nArms,  take  your  last  embrace !  and,  lips,  0  you \\n\\nThe  doors  of  breath,  seal  with  a  righteous  kiss \\n\\nA  dateless  bargain  to  engrossing  death ! \\n\\nCome,  bitter  conduct,  come,  unsavory  guide  ! \\n\\nThou  desperate  pilot,  now  at  once  run  on \\n\\nThe  dashing  rocks  thy  sea-sick  weary  bark ! \\n\\nHere\\'s  to  my  love  !  [Drinks\\']  —  0  true  apothecary ! \\n\\nThy  drugs  are  quick.  —  Thus  with  a  kiss  I  die.        [Dies. \\n\\nEnter,  at  the  other  end  of  the  churchyard,  Friar  Lau- \\nrence, ivith  a  lantern,  crow,  and  spade. \\n\\nFriar  Laurence.  Saint  Francis  be  my  speed !  how  oft \\nto-night \\nHave  my  old  feet  stumbled  at  graves  !  —  Who\\'s  there  ? \\nBalthasar.  Here\\'s  one,  a  friend,  and  one  that  knows \\n\\nyou  well. \\nFriar  Laurence.  Bliss  be  upon  you !     Tell  me,  good \\nmy  friend. \\nWhat  torch  is  yond,  that  vainly  lends  his  light \\nTo  grubs  and  eyeless  skulls  ?  as  I  discern. \\nIt  burneth  in  the  Capels\\'  monument. \\n\\n\\nROMEO  AND  JULIET.  131 \\n\\nBalthasar.  It  doth  so,  holy  sir ;  and  there\\'s  my  master. \\nOne  that  you  love. \\n\\nFriar  Laurence.         Who  is  it  ? \\n\\nBalthasar.  Romeo. \\n\\nFriar  Laurence.  How  long  hath  he  been  there  ? \\n\\nBalthasar.  Full  half  an  hour. \\n\\nFriar  Laurence.  Go  with  me  to  the  vault. \\n\\nBalthasar.  I  dare  not,  sir : \\n\\nMy  master  knows  not  but  I  am  gone  hence ; \\nAnd  fearfully  did  menace  me  with  death. \\nIf  I  did  stay  to  look  on  his  intents. \\n\\nFriar  Laurence.  Stay,  then ;  I\\'ll  go  alone.  — Fear  comes \\nupon  me ; \\n\\n0,  much  I  fear  some  ill  unlucky  thing  ! \\n\\nBalthasar.  As  I  did  sleep  under  this  yew-tree  here, \\nI  dreamt  my  master  and  another  fought. \\nAnd  that  my  master  slew  him. \\n\\nFriar  Laurence.  Romeo !         \\\\_Advances. \\n\\nAlack,  alack,  what  blood  is  this,  which  stains \\nThe  stony  entrance  of  this  sepulchre  ?  — \\nWhat  mean  these  masterless  and  gory  swords \\nTo  lie  discolor\\'d  by  this  place  of  peace  ? \\n\\n\\\\Finters  the  tomb. \\nRomeo  !  0,  pale  !  —  Who  else  ?  what,  Paris  too  ? \\nAnd  steep\\'d  in  blood  ?  —  Ah,  what  an  unkind  hour \\nIs  guilty  of  this\\'  lamentable  chance !  — \\nThe  lady  stirs.  [Juliet  wakes. \\n\\n\\n132  ROMEO  AND  JULIET. \\n\\nJuliet.  0  comfortable  friar !  where  is  my  lord  ?  — \\nI  do  remember  well  wliere  I  should  be, \\nAnd  there  I  am.  —  Where  is  my  Eomeo  ?    \\\\_Noise  tvithin. \\n\\nFriar  Laurence.  I  hear  some  noise. — Lady,  come  from \\nthat  nest \\nOf  death,  contagion,  and  unnatural  sleep ;    . \\nA  greater  power  than  we  can  contradict \\nHath  thwarted  our  intents.     Come,  come  away. \\nThy  husband  in  thy  bosom  there  lies  dead  ; \\nAnd  Paris  too.     Come,  I\\'ll  dispose  of  thee \\nAmong  a  sisterhood  of  holy  nuns  : \\nStay  not  to  question,  for  the  watch  is  coming ; \\nCome,  go,  good  Juliet.  [_Noise  agaiii]  —  I  dare  no  longer \\nstay. \\n\\nJuliet.  Go,  get  thee  hence,  for  I  will  not  away. \\n\\n\\\\_Exit  Friar  Laurence. \\nWhat\\'s  here  ?  a  cup,  clos\\'d  in  my  true  love\\'s  hand  ?. \\nPoison,  I  see,  hath  been  his  timeless  end.  — \\n0  churl !  drunk  all,  and  left  no  friendly  drop \\nTo  help  me  after  ?  —  I  will  kiss  thy  lips  ; \\nHaply  some  poison  yet  doth  hang  on  them. \\nTo  make  me  die  with  a  restorative.  \\\\_Kisses  him. \\n\\nThy  lips  are  warm. \\n\\n1  Watch.  [  Withhi]  Lead,  boy ;  which  way  ? \\n\\nJuliet.   Yea,   noise  ?   then   I\\'ll   be   brief.  —  0    happy \\n\\ndagger  !  \\\\_8natching  Borneo^ s  dagger. \\n\\nThis  is  thy  sheath  \\\\_Stahs  he7-self\\'] ;  there  rest,  and  let  me \\n\\ndie.  [^Falls  on  Romeo\\'s  body,  and  dies. \\n\\n\\nROMEO  AND  JULIET.  X33 \\n\\nEnter  Watch,  ivlth  the  Page  of  Paris. \\n\\nPage.  This  is  the  place ;  there,  where  the  torch  doth \\nburn. \\n\\n1   Watch.  The  ground   is   bloody;   search   about   the \\nchurchyard. \\nGo,  some  of  you,  whoe\\'er  you  find  attach.  — \\nPitiful  sight !  here  lies  the  county  slain ; \\nAnd  Juliet  bleeding,  warm,  and  newly  dead, \\nWho  here  hath  lain  these  two  days  buried.  —      - \\nGo,  tell  the  prince  ;  —  run  to  the  Capulets ;  — \\n\\nKaise  up  the  Montagues ;  —  some  others  search. \\n\\nWe  see  the  ground  whereon  these  woes  do  lie ; \\nBut  the  true  ground  of  all  these  piteous  woes \\nWe  cannot  without  circumstance  descry. \\n\\nBe-enter  some  of  the  Watch,  with  Balthasar. \\n\\n2  Watch.  Here\\'s  Eomeo\\'s  man ;  we  found  him  in  the \\nchurchyard. \\n\\n1   Watch.  Hold  him  in  safety,  till  the  prince  come \\nhither. \\n\\nRe-enter  others  of  the  Watch,  with  Friar  Laurence. \\n\\n3  Watch.  Here  is  a  friar,  that  trembles,  sighs,  and \\nweeps ; \\n\\nWe  took  this  mattock  and  this  spade  from  him, \\nAs  he  was  coming  from  this  churchyard  side. \\n1  Watch.  A  great  suspicion  ;  stay  the  friar  too. \\n\\n\\n134  BOMEO  AND  JULIET. \\n\\nEnter  the  Pkince  and  Attendants.    . \\n\\nPrince.  What  misadventure  is  so  early  up, \\nThat  calls  our  person  from  our  morning\\'s  rest  ? \\n\\nEnter  Capulet,  Lady  Capulet,  and  others. \\n\\nCapulet.  What  shovild  it  be,  that  they  so  shriek  abroad  ? \\n\\nLady  Capulet.  The  people  in  the  street  cry  E-omeo, \\nSome  Juliet,  and  some  Paris,  and  all  run \\nWith  open  outcry  toward  our  monument. \\n\\nPrince.  What  fear  is  this  which  startles  in  our  ears  ? \\n\\n1  Watch.  Sovereign,  here  lies  the  County  Paris  slain ; \\nAnd  Eomeo  dead ;  and  Juliet,  dead  before, \\nWarm  and  new  kill\\'d. \\n\\nPrince.  Search,  seek,  and  know  how  this  foul  murder \\ncomes. \\n\\n1    Watch.  Here  is  a  friar,  and  slaughter\\'d  Eomeo\\'s \\nman, \\nWith  instruments  upon  them  fit  to  open \\nThese  dead  men\\'s  tombs. \\n\\nCapulet.  0  heaven  !  —  0  wife,  look  how  our  daughter \\nbleeds ! \\nThis  dagger  hath  mista\\'en,  —  for,  lo,  his  house \\nIs  empty  on  the  back  of  Montague,  — \\nAnd  is  mis-sheathed  in  my  daughter\\'s  bosom. \\n\\nLady  Capulet.  0  me  !  this  sight  of  death  is  as  a  bell, \\nThat  warns  my  old  age  to  a  sepulchre. \\n\\n\\nROMEO  AND  JULIET.  I35 \\n\\nUnter  Montague  and  others. \\n\\nPrince.  Come,  Montague  ;  for  thou  art  early  up, \\n-To  see  thy  son  and  heir  more  early  down. \\n\\nMontague.  Alas,  my  liege,  my  wife  is  dead  to-night  ; \\nGrief  of  my  son\\'s  exile  hath  stopp\\'d  her  breath. \\nWhat  further  woe  conspires  against  mine  age  ? \\n\\nPrince.  Look,  and  thou  shalt  see. \\n\\nMo7itague.  0  thou  untaught !  what  manners  is  in  this, \\nTo  press  before  thy  father  to  a  grave  ? \\n\\nPrince.  Seal  up  the  mouth  of  outrage  for  a  while. \\nTill  we  can  clear  these  ambiguities. \\nAnd  know  their  spring,  their  head,  their  true  descent ; \\nAnd  then  will  I  be  general  of  your  woes, \\nAnd  lead  you  even  to  death  :  meantime  forbear. \\nAnd  let  mischance  be  slave  to  patience.\\'  — \\nBring  forth  the  parties  of  suspicion.    , \\n\\nFriar  Laurence.  I  am  the  greatest,  able  to  do  least, \\nYet  most  suspected,  as  the  time  and  place \\nDoth  make  against  me,  of  this  direful  murder ; \\nAnd  here  I  stand,  both  to  impeach  and  purge \\nMyself  condemned  and  myself  excus\\'d. \\n\\nPrince.  Then  say  at  once  what  thou  dost  know  in  this. \\n\\nFriar  Laurence.  I  will  be  brief,  for  my  short  date  of \\nbreath \\nIs  not  so  long  as  is  a  tedious  tale. \\nRomeo,  there  dead,  was  husband  to  that  Juliet; \\nAnd  she,  there  dead,  that  Eomeo\\'s  faithful  wife. \\n\\n\\n136  BOMEO  AND  JULIET. \\n\\nI  married  them  ;  and  their  stolen  marriage-day \\n\\nWas  Tybalt\\'s  doomsday,  whose  untimely  death \\n\\nBanish\\'d  the  new-made  bridegroom  from  this  city, \\n\\nFor  whom,  and  not  for  Tybalt,  Juliet  pin\\'d. \\n\\nYou,  to  remove  that  siege  of  grief  from  her, \\n\\nBetroth\\'d  and  would  have  married  her  perforce \\n\\nTo  County  Paris ;  then  comes  she  to  me. \\n\\nAnd  with  wild  looks  bid  me  devise  some  means \\n\\nTo  rid  her  from  this  second  marriage. \\n\\nOr  in  my  cell  there  would  she  kill  herself. \\n\\nThen  gave  I  her,  so  tutor\\'d  by  my  art, \\n\\nA  sleeping  potion ;  which  so  took  effect \\n\\nAs  I  intended,  for  it  wrought  on  her \\n\\nThe  form  of  death :  meantime  I  writ  to  Eomeo, \\n\\nThat  he  should  hither  come  as  this  dire  night, \\n\\nTo  help  to  take  her  from  her  borrow\\'d  grave, \\n\\nBeing  the  time  the  potion\\'s  force  should  cease. \\n\\nBut  he  which  bore  my  letter,  Friar  John, \\n\\nWas  stay\\'d  by  accident,  and  yesternight \\n\\nReturn\\'d  my  letter  back.     Then  all  alone. \\n\\nAt  the  prefixed  hour  of  her  waking. \\n\\nCame  I  to  take  her  from  her  kindred\\'s  vault, \\n\\nMeaning  to  keep  her  closely  at  my  cell \\n\\nTill  I  conveniently  could  send  to  Romeo ; \\n\\nBut  when  I  came,  some  minute  ere  the  time \\n\\nOf  her  awaking,  here  untimely  lay \\n\\nThe  noble  Paris  and  true  Romeo  dead. \\n\\n\\nROMEO  AND  JULIET.  137 \\n\\nShe  wakes,  and  I  entreated  her  come  forth, \\nAnd  bear  this  work  of  heaven  with  patience ; \\nBut  then  a  noise  did  scare  me  from  the  tomb. \\nAnd  she  too  desperate  would  not  go  with  me, \\nBut,  as  it  seems,  did  violence  on  herself. \\nAll  this  I  know ;  and  to  the  marriage \\nHer  nurse  is  privy  :  and,  if  aught  in  this \\nMiscarried  by  my  fault,  let  my  old  life \\nBe  sacrific\\'d  some  hour  before  his  time \\nUnto  the  rigor  of  severest  law. \\n\\nPrince.  We  still  have  known  thee  for  a  holy  man.  — \\nWhere\\'s  Romeo\\'s  man  ?  what  can  he  say  in  this  ? \\n\\nBalthasar.   I   brought   my   master   news   of    Juliet\\'s \\ndeath, \\nAnd  then  in  post  he  came  from  Mantua \\nTo  this  same  place,  to  this  same  monument. \\nThis  letter  he  early  bid  me  give  his  father, \\nAnd  threaten\\'d  me  with  death,  going  in  the  vault, \\nIf  I  departed  not  and  left  him  there. \\n\\nPrince.  Give  me  the  letter ;  I  will  look  on  it.  — \\nWhere  is  the  county\\'s  page  that  rais\\'d  the  watch  ?  — \\nSirrah,  what  made  your  master  in  this  place  ? \\n\\nPage.  He  came  with  flowers  to  strew  his  lady\\'s  grave ; \\nAnd  bid  me  stand  aloof,  and  so  I  did. \\nAnon  comes  one  with  light  to  ope  the  tomb, \\nAnd  by  and  by  my  master  drew  on  him ; \\nAnd  then  I  ran  away  to  call  the  watch. \\n\\n\\n138  ROMEO  AND  JULIET. \\n\\nPrince.  This  letter  doth  make  good  the  friar\\'s  words \\nTheir  course  of  love,  the  tidings  of  her  death ; \\nAnd  here  he  writes  that  he  did  buy  a  poison \\nOf  a  poor  apothecary,  and  therewithal \\nCame  to  this  vault  to  die  and  lie  with  Juliet.  — \\nWhere  be  these  enemies  ?  —  Capulet !  —  Montague  ! \\nSee,  what  a  scourge  is  laid  upon  your  hate, \\nThat  heaven  finds  means  to  kill  your  joys  with  love ! \\nAnd  I,  for  winking  at  your  discords  too. \\nHave  lost  a  brace  of  kinsmen ;  all  are  punish\\'d. \\n\\nCapulet.  0  brother  Montague,  give  me  thy  hand ; \\nThis  is  my  daughter\\'s  jointure,  for  no  more \\nCan  I  demand. \\n\\nMontague.         But  I  can  give  thee  more ; \\nFor  I  will  raise  her  statue  in  pure  gold. \\nThat  while  Verona  by  that  name  is  known \\nThere  shall  no  figure  at  such  rate  be  set \\nAs  that  of  true  and  faithful  Juliet. \\n\\nCapulet.  As  rich  shall  Eomeo  by  his  lady  lie ; \\nPoor  sacrifices  of  our  enmity  ! \\n\\nPrince.  A  glooming  peace  this  morning  with  it  brings ; \\n\\nThe  sun  for  sorrow  will  not  show  his  head. \\nGo  hence,  to  have  more  talk  of  these  sad  things ; \\n\\nSome  shall  be  pardon\\'d,  and  some  punished : \\nFor  never  was  a  story  of  more  woe \\nThan  this  of  Juliet  and  her  Komeo.  \\\\_Exeunt. \\n\\n\\n-BAp\\'05 \\n\\n\\n'"
      ]
     },
     "execution_count": 4,
     "metadata": {},
     "output_type": "execute_result"
    }
   ],
   "source": [
    "resp"
   ]
  },
  {
   "cell_type": "code",
   "execution_count": 6,
   "id": "7746c516-1a76-4680-bdec-706134e36258",
   "metadata": {},
   "outputs": [
    {
     "data": {
      "text/plain": [
       "False"
      ]
     },
     "execution_count": 6,
     "metadata": {},
     "output_type": "execute_result"
    }
   ],
   "source": [
    "\"ROMEO\" == \"romeo\""
   ]
  },
  {
   "cell_type": "code",
   "execution_count": 7,
   "id": "e2b467be-5157-4794-9584-b708ecafcf16",
   "metadata": {},
   "outputs": [
    {
     "data": {
      "text/plain": [
       "'romeo  and  juliet. \\n\\n\\ngreen  room  sdition \\n\\n\\nromeo  and  juliet \\n\\nby \\n\\nwilliam  shakespeare \\n\\n\\nillustrated  by  photographs  from  life  of  maude  adams, \\nand  oth^r  members  of  her  company,  by  byron  and \\nsarony,  and  also  by  illtistrations  by  andriolli    ^    «^ \\n\\n\\nnew  york  and  boston  ^    ^ \\n\\nh.  m.  caldwell  company \\n^     s     ,^     ^     ,^     publishers \\n\\n\\nl- \\n\\n\\n38524 \\n\\n^ * t>pa^y  of  cj^^jil^ \\n\\n\"two  copifs  recfived \\n\\naug  20  1900 \\n\\ncopyright  entry \\n\\n10^  t(^  s^ \\n\\n\\nsecond  copy. \\n\\ndelivered  to \\n\\norolr  division, \\n\\nsep    6    1900 \\n\\n\\ncopyright,  i88y. \\nby  samuel  e.  cassino. \\n\\ncopyright,  igoo. \\nby  h.  m.  caldwell  co. \\n\\n\\n74121 \\n\\n\\nromeo  and  juliet \\n\\n\\nfacsimile \\n\\n\\nof    the \\n\\n\\noriginal     programme \\n\\n\\nthe    cast \\n\\nas  -produced  at  the  empire  \\'theatre^  new  tork^  may  8th,  isgg. \\n\\nmiss  maude  adams,  in  a  special  production  of  shakespeare\\'s \\ntragedy  of  \"  romeo  and  juliet,\"  with  william  faversham  as \\nromeo,  and  james  k.  hackett  as  mercutio.  (by  arrangement \\nwith  daniel  frohman.) \\n\\n\\ndramatis     persons. \\n\\nescalus,  prince  of  verona \\n\\nparis,  a  young  nobleman,  kinsman  to  the \\n\\nprince \\nmontague  )  heads    of  two    houses    at  j \\ncapulet       \\\\  variance  with   each   other  [ \\nan  old   man,  of  the  capulet  family \\nromeo,  son  to  montague \\nmercutio,  kinsman   to   the   prince,   and \\n\\nfriend  to  romeo \\nbenvolio,     nephew    to    montague,    and \\n\\nfriend  to   romeo \\n\\ntybalt,  nephew  to  lady  capulet \\n\\nfriar    laurence,  a  franciscan \\n\\nfriar  john,  of  the  same  order \\n\\nbalthazar,  servant  to  romeo \\n\\nsampson  ]  ^    ^    /-       i  ^ \\n\\n>  servants  to  capulet \\ngregory  ) \\n\\npeter,  servant  to  juliet\\'s  nurse \\n\\nabraham,  servant  to  montague \\n\\nan  apothecary \\n\\n\\ngeorge  fawcett \\n\\norrin  johnson \\n\\nw.  h.  crompton \\n\\neugene  jepson \\n\\nfrederick  spencer \\n\\nwilliam  faversham \\n\\njames  k.  hackett \\n\\n\\njos.  francoeur \\n\\ncampbell  gollan \\n\\nw.  h.  thompson \\n\\ngeo.  osborne,  jr. \\n\\ng.  h.  howard \\n\\nwallace  jackson \\n\\nthomas  valentine \\n\\nr.  peyton  carter \\n\\ngeorge  irving \\n\\nnorman  campbell \\n\\n\\nlady  capulet,  wife  to  capulet  •     miss  helen  morgan \\n\\njuliet,  daughter  to  capulet  miss  maude  adams \\n\\nnurse  to  juliet  mrs.  w.  g.  jones \\n\\npages  to  paris,  mercutio,  capulet,  etc. ;   citizens  of \\n\\nverona,   kinsfolk  of  both  houses.  maskers,  guards,  musicians \\n\\nand  attendants. \\n\\n\\nscene  — verona,  mantua. \\n\\nthe  first  act  scene  i \\n\\nscene  2 \\n\\nscene  3 \\n\\nscene  4 \\n\\nthe  second  act  scene  i \\n\\nscene  2 \\nscene  3 \\nrbe  third  act  scene  i \\nscene  2 \\nscene  3 \\nthe  fourth  act  scene  i \\n\\nscene  2 \\nscene  3 \\nthe  fifth  act  scene  i \\nscene  2 \\nscene  3 \\n\\n\\nperiod— 14th  century. \\n\\nverona.     a  public  place. \\nbefore  capulet\\'s  house. \\nhall  in  capulet\\'s  house. \\ncapulet\\'s  garden. \\nfriar  laurence\\'s  cell. \\na  street. \\n\\ncapulet\\'s  garden. \\nfriar  laurence\\'s  cell. \\na  street. \\n\\nfriar  laurence\\'s  cell. \\njuliet\\'s  chamber. \\nfriar  laurence\\'s  cell. \\njuliet\\'s  chamber. \\nmantua.     a  street. \\nverona.     a  churchyard. \\ntomb  of  the  capulets. \\n\\n\\nproduced  under  the  stage  direction  of  william  seymour. \\n\\n\\ndkamatis  peeson^. \\n\\n\\nescalus,  prince  of  verona. \\nparis,  a  young  nobleman,  kinsman \\nto  the  prince. \\n\\n■j  heads  of  two  houses  at \\nmontague,  (  .  .,.      „  . \\n\\n>  variance  with  each \\ncapulet,     \\\\        ., \\n\\nj      other. \\n\\nan  old  man  of  the  capulet  family. \\nromeo,  son  to  montague. \\nmercutio,  kinsman  to  the   prince, \\n\\nand  friend  to  romeo. \\nbenvolio,    nephew    to    montague, \\n\\nand  friend  to  romeo. \\ntybalt,  nephew  to  lady  capulet. \\nfriar  laurence, \\nfriar  john, \\n\\nbalthasar,  servant  to  romeo. \\nsajipson, \\ngregory. \\n\\n\\nfranciscans. \\n\\n\\nservants  to  capulet. \\n\\n\\npeter,  servant  to  juliet\\'s  nurse. \\nabram,  servant  to  montague. \\nan  apothecary. \\nthree  musicians. \\n\\npage  to  paris;  another  page;  an \\nofficer. \\n\\nlady  montague,  wife  to  montague. \\nlady  capulet,  wife  to  capulet. \\njuliet,  daughter  to  capulet. \\nnurse  to  juliet. \\n\\ncitizens  of  verona;  kinsfolk  of  both \\nhouses;  maskers,  guards,  \"watch- \\nmen, and  attendants. \\n\\nchorus. \\n\\nscene  :  verona ;  mantua. \\n\\n\\nprologue. \\n\\n\\ntwo  households,  both  alike  in  dignity, \\n\\nin  fair  verona,  where  we  lay  our  scene, \\nfrom  ancient  grudge  break  to  new  mutiny. \\n\\nwhere  civil  blood  makes  civil  hands  unclean. \\nfrom  forth  the  fatal  loins  of  these  two  foes \\n\\na  pair  of  star-cross\\'d  lovers  take  their  life, \\nwhose  misadventur\\'d  piteous  overthrows \\n\\ndoth  with  their  death  bury  their  parents\\'  strife. \\nthe  fearful  passage  of  their  death-mark\\'d  love. \\n\\nand  the  continuance  of  their  parents\\'  rage. \\nwhich,  but  their  children\\'s  end,  nought  could  remove, \\n\\nis  now  the  two  hours\\'  traffic  of  our  stage ; \\nthe  which  if  you  with  patient  ears  attend. \\nwhat  here  shall  miss,  our  toil  shall  strive  to  mend. \\n\\n\\nromeo  and  juliet. \\n\\n\\nact   i. \\n\\nscene  i.     verona.     a  public  place. \\n\\nenter  sampson  and  gregory,  of  the  house  of  capidet, \\nwith  sivords  and  bucklers. \\n\\nsampson.  gregory,  on  my  word,  we\\'ll  not  carry  coals. \\n\\ngregory.  no,  for  then  we  should  be  colliers. \\n\\nsampson.  i  mean,  an  we  be  in  choler,  we\\'ll  draw. \\n\\ngregory.  ay,  while  you  live,  draw  your  neck  out  o\\' \\nthe  collar. \\n\\nsam.pson.  i  strike  quickly,  being  moved. \\n\\ngregory.  but  thou  art  not  quickly  moved  to  strike. \\n\\nsampson.  a  dog  of  the  house  of  montague  moves  me. \\n\\ngregory.  to  move  is  to  stir,  and  to  be  valiant  is  to \\nstand ;  therefore,  if  thou  art  moved,  thou  runn\\'st  away. \\n\\nsampson.  a  dog  of  that  house  shall  move  me  to  stand; \\ni  will  take  the  wall  of  any  man  or  maid  of  montague\\'s. \\n\\ngregory.  that  shows  thee  a  weak  slave ;  for  the  weak- \\nest goes  to  the  wall. \\n\\nsampson.  true;  and  therefore  women,  being  the  weaker \\nvessels,  are  ever  thrust  to  the  wall :  therefore  i  will  push \\n\\n9 \\n\\n\\n10  bomeo  and  juliet. \\n\\nmontague\\'s  men  from  the  wall,  and  thrust  his  maids  to \\nthe  wall. \\n\\ngregory.  the  quarrel  is  between  our  masters  and  us \\ntheir  men. \\n\\nsampson.  \\'tis  all  one,  i  will  show  myself  a  tyrant ; \\nwhen  i  have  fought  with  the  men,  i  will  be  cruel  with \\nthe  maids,  and  cut  oif  their  heads. \\n\\ngregory.  draw  thy  tool ;  here  comes  two  of  the  house \\nof  the  montagues. \\n\\nsampson.  my  naked  weapon  is  out;  quarrel,  i  will \\nback  thee. \\n\\ngregory.  how  ?  turn  thy  back  and  run  ? \\n\\nsampson.  fear  me  not. \\n\\ngregory.  no,  marry ;  i  fear  thee  ! \\n\\nsampson.  let  us  take  the  law  of  our  sides ;  let  them \\nbegin. \\n\\ngregory.  t  will  frown  as  i  pass  by,  and  let  them  take \\nit  as  they  list. \\n\\nsampson.  nay,  as  they  dare.  i  will  bite  my  thumb \\nat  them ;  which  is  a  disgrace  to  them,  if  they  bear  it. \\n\\nenter  abram  and  balthasak. \\n\\nabram.  do  you  bite  your  thumb  at  us,  sir  ? \\nsampson.  i  do  bite  my  thumb,  sir. \\nabram.  do  you  bite  your  thumb  at  us,  sir  ? \\nsampson.  [aside  to  gregory\"]  is  the  law  of  our  side  if \\ni  say  ay  ? \\n\\n\\neomeo  and  juliet.  h \\n\\ngregory.  no. \\n\\nsampson.  no,  sir,  i  do  not  bite  my  thumb  at  you,  sir, \\nbut  i  bite  my  thumb,  sir. \\n\\ngregory.  do  you  quarrel,  sir  ? \\n\\nabram.  quarrel,  sir !  no,  sir. \\n\\nsampson.  if  you  do,  sir,  i  am  for  you ;  i  serve  as  good \\na  man  as  you. \\n\\nabram.  no  better. \\n\\nsampson.  well,  sir. \\n\\ngregory.  [^aside  to  sampson^  say  \"better;\"  here  comes \\none  of  my  master\\'s  kinsmen. \\n\\nsampson.  yes,  better,  sir. \\n\\nabram.  you  lie. \\n\\nsampson.  draw,  if  you  be  men.  —  gregory,  remember \\nthy  swashing  blow.  ■     \\\\_they  fight. \\n\\nenter  benvolio. \\n\\nbenvouo.  part,  fools ! \\nput  up  your  swords ;  you  know  not  what  you  do. \\n\\n[beats  down  their  swords. \\n\\nenter  tybalt. \\n\\ntybalt.  what,  art  thou  drawn  among  these  heartless \\nhinds  ? \\nturn  thee,  benvolio,  look  upon  thy  death. \\n\\nbenvolio.  i  do  but  keep  the  peace  ;  put  up  thy  sword, \\nor  manage  it  to  part  these  men  with  me. \\n\\n\\n12  bojieo  and  juliet. \\n\\ntybalt.  what,  drawn,  and  talk  of  peace !  i  hate  the \\n\"word, \\nas  i  hate  hell,  all  montagues,  and  thee ; \\nhave  at  thee,  coward  !  \\\\_tliey  fight. \\n\\nenter  several  of  both   houses,  who  join  the  fray;  then \\nenter  citizens,  with  clubs. \\n\\nfirst  citizen.  clubs,  bills,  and  partisans  !  strike  !  beat \\nthem  down ! \\ndown  with  the  capulets  !  down  with  the  montagues  ! \\n\\nenter  capulet  in  his  gotvn,  and  lady  capulet. \\n\\ncapulet.  what   noise    is   this  ?      give   nie    my    long \\n\\nsword,  ho  ! \\nlady  caindet.  a  crutch,  a  crutch !  why  call  you  for \\n\\na  sword  ? \\ncaindet.  my  sword,  i  say  !     old  montague  is  come. \\nand  flourishes  his  blade  in  spite  of  me. \\n\\nenter  montague  and  lady  montague. \\n\\n2iontacjue.  thou  villain  capulet!  —  hold  me  not,  le^. \\n\\nme  go. \\nlady  montague.  thou  shalt  not  stir  a  foot  to  seek  a \\n\\nfoe. \\n\\nenter  prince,  tvith  his  train. \\n\\nprince.  rebellious  subjects,  enemies  to  peace, \\nprofaners  of  this  neighbor-stained  steel, — \\n\\n\\nromeo  and  juliet.  13 \\n\\nwill  they  not  hear  ?     what,  ho !  you  men,  you  beasts, \\n\\nthat  quench  the  fire  of  your  pernicious  rage \\n\\nwith  purple  fountains  issuing  from  your  veins, \\n\\non  pain  of  torture,  from  those  bloody  hands \\n\\nthrow  your  mistemper\\'d  weapons  to  the  ground, \\n\\nand  hear  the  sentence  of  your  moved  prince.  — \\n\\nthree  civil  brawls,  bred  of  an  airy  word. \\n\\nby  thee,  old  capulet,  and  montague, \\n\\nhave  thrice  disturbed  the  quiet  of  our  streets, \\n\\nand  made  verona\\'s  ancient  citizens \\n\\ncast  by  their  grave  beseeming  ornaments. \\n\\nto  wield  old  partisans,  in  hands  as  old, \\n\\ncanker\\'d  with  peace,  to  part  your  canker\\'d  hate. \\n\\nif  ever  you  disturb  our  streets  again. \\n\\nyour  lives  shall  pay  the  forfeit  of  the  peace. \\n\\nfor  this  time,  all  the  rest  depart  away : \\n\\nyou,  capulet,  shall  go  along  with  me ; \\n\\nand,  montague,  come  you  this  afternoon, \\n\\nto  know  our  further  pleasure  in  this  case, \\n\\nto  old  freetown,  our  common  judgment-place. \\n\\nonce  more,  on  pain  of  death,  all  men  depart. \\n\\n^exeunt  all  but  montague,  lady  3iontague,  and  benvolio. \\n\\nmontague.  who  set  this  ancient  quarrel  new  abroach  ? \\nspeak,  nephew,  were  you  by  when  it  began  ? \\n\\nbenvolio.  here  were  the  servants  of  your  adversary \\nand  yours  close  fighting  ere  i  did  approach. \\ni  drew  to  part  them :  in  the  instant  came \\n\\n\\n14-  bomeo  and  juliet. \\n\\nthe  fiery  tybalt,  with  his  sword  prepar\\'d ; \\nwhich,  as  he  breath\\'d  defiance  to  my  ears, \\nhe  swung  about  his  head  and  cut  the  winds, \\nwho,  nothing  hurt  withal,  hiss\\'d  him  in  scorn. \\nwhile  we  were  interchanging  thrusts  and  blows. \\ncame  more  and  more,  and  fought  on  part  and  part. \\ntill  the  prince  came,  who  parted  either  part. \\n\\nlady  montague.  0,  where  is  eomeo  ?  saw  you  him \\nto-day  ? \\nright  glad  i  am  he  was  not  at  this  fray. \\n\\nbenvolio.  madam,  an  hour  before  the  worshipp\\'d  sun \\npeer\\'d  forth  the  golden  window  of  the  east, \\na  troubled  mind  drave  me  to  walk  abroad ; \\nwhere,  underneath  the  grove  of  sycamore \\nthat  westward  rooteth  from  the  city\\'s  side. \\nso  early  walking  did  i  see  your  son. \\ntowards  him  i  made,  but  he  was  ware  of  me \\nand  stole  into  the  covert  of  the  wood ; \\ni,  measuring  his  affections  by  my  own. \\nwhich  then  most  sought  where  most  might  not  be  found, \\nbeing  one  too  many  by  my  weary  self, \\npursued  my  humor  not  pursuing  his. \\nand  gladly  shunn\\'d  who  gladly  fled  from  me. \\n\\nmontague.  many  a  morning  hath  he  there  been  seen \\nwith  tears  augmenting  the  fresh  morning\\'s  dew, \\nadding  to  clouds  more  clouds  with  his  deep  sighs  ; \\nbut  all  so  soon  as  the  all-cheering  sun \\n\\n\\nromeo  and  juliet.  15 \\n\\nshould  in  the  farthest  east  begin  to  draw \\nthe  shady  curtains  from  aurora\\'s  bea, \\naway  from  light  steals  home  my  heavy  son, \\nand  private  in  his  chamber  pens  himself, \\nshuts  up  his  window,  locks  fair  daylight  out, \\nand  makes  himself  an  ar|;ificial  night. \\nblack  and  portentous  must  this  humor  prove. \\nunless  good  counsel  may  the  cause  remove. \\n\\nbenvolio.  my  noble  uncle,  do  you  know  the  cause  ? \\n\\nmontague.  i  neither  know  it  nor  can  learn  of  him. \\n\\nbenvolio.  have  you  importun\\'d  him  by  any  means  ? \\n\\nmontague.  both  by  myself  and  many  other  friends ; \\nbut  he,  his  own  affections\\'  counsellor. \\nis  to  himself  —  i  will  not  say  how  true  — \\nbut  to  himself  so  secret  and  sd  close, \\nso  far  from  sounding  and  discovery. \\nas  is  the  bud  bit  with  an  envious  worm, \\nere  he  can  spread  his  sweet  leaves  to  the  air, \\nor  dedicate  his  beauty  to  the  sun. \\ncould  we  but  learn  from  whence  his  sorrows  grow \\nwe  would  as  willingly  give  cure  as  know. \\n\\nenter  eomeo. \\n\\nbenvolio.  see,  where  he  comes :   so  please  you,  step \\naside ; \\ni\\'ll  know  his  grievance,  or  be  much  deniea. \\n\\n\\n15\\'  bomeo  and  juliet. \\n\\nmontague.  i  would  tliou  wert  so  happy  by  tliy  stay, \\nto  hear  true  slirif t.  —  come,  madam,  let\\'s  away. \\n\\n[^exeunt  montague  and  lady. \\n\\nbenvolio.  good  morrow,  cousin. \\n\\nromeo.  is  the  day  so  young  ? \\n\\nbenvolio.  but  new  struck  nine. \\n\\nromeo.  ay  me  !  sad  hours  seem  long. \\n\\nwas  that  my  father  that  went  hence  so  fast  ? \\n\\nbenvolio.  it  was.     what  sadness  lengthens   borneo\\'s \\nhours  ? \\n\\nromeo.  not  having  that  which,  having,  makes  them \\nshort. \\n\\nbenvolio.  in  love  ? \\n\\nromeo.  out  — \\n\\nbenvolio.  of  love  ? \\n\\nromeo.  out  of  her  favor,  where  i  am  in  love. \\n\\nbenvolio.  alas,  that  love,  so  gentle  in  his  view, \\nshould  be  so  tyrannous  and  rough  in  proof ! \\n\\nromeo.  alas,  that  love,  whose  view  is  muffled  still, \\nshould  without  eyes  see  pathways  to  his  will ! \\nwhere  si:  all  we  dine  ?  —  o  me  !  what  fray  was  here  ? \\nyet  tell  me  not,  for  i  have  heard  it  all. \\nhere\\'s  much  to  do  with  hate,  but  more  with  love. \\nwhy,  then,  0  brawling  love  !  0  loving  hate  ! \\no  anything,  of  nothing  first  created ! \\n0  heavy  lightness  !  serious  vanity ! \\nimisshapen  chaos  of  well-seeming  forms \\' \\n\\n\\nromeo  and  juliet.  17 \\n\\nfeather  of  lead,  bright  smoke,  cold  fire,  sick  health ! \\nstill-waking  sleep,  that  is  not  what  it  is ! \\nthis  love  feel  i,  that  feel  no  love  in  this. \\ndost  thou  not  laugh  ? \\n\\nbenvolw,  no,  coz,  i  rather  weep. \\n\\nromeo.  good  heart,  at  what  ? \\n\\nbenvolio.  at  thy  good  heart\\'s  oppression. \\n\\nromeo.  why,  such  is  love\\'s  transgression. \\ngriefs  of  mine  own  lie  heavy  in  my  breast, \\nwhich  thou  wilt  propagate,  to  have  it  prest \\nwith  more  of  thine ;  this  love  that  thou  hast  shown \\ndoth  add  more  grief  to  too  much  of  mine  own. \\nlove  is  a  smoke  rais\\'d  with  the  fume  of  sighs : \\nbeing  purg\\'d,  a  fire  sparkling  in  lovers\\'  eyes ; \\nbeing  vex\\'d,  a  sea  nourish\\'d  with  lovers\\'  tears ; \\nwhat  is  it  else  ?  a  madness  most  discreet, \\na  choking  gall,  and  a  preserving  sweet. \\nfarewell,  my  coz. \\n\\nbenvolio.  soft !  i  will  go  along ; \\n\\nan  if  you  leave  me  so,  you  do  me  wrong. \\n\\nromeo.  tut,  i  have  lost  myself  ;  i  am  not  here : \\nthis  is  not  romeo,  he\\'s  some  other  where. \\n\\nbenvolio.  tell  me  in  sadness  who  is  that  you  love. \\n\\nromeo.  what,  shall  i  groan  and  tell  thee  ? \\n\\nbenvolio.  groan  !  why,  no  ; \\n\\nbut  sadly  tell  me  who. \\n\\nromeo.  bid  a  sick  man  in  sadness  make  his  will; \\n\\n\\n18  romeo  and  juliet. \\n\\nah,  word  ill  urg\\'d  to  one  that  is  so  ill ! \\nin  sadness,  cousin,  i  do  love  a  woman. \\n\\nbenvolio.  i  aini\\'d  so  near  when  i  suppos\\'d  you  lov\\'d. \\n\\nromeo.  a  right  good  mark-man  !    and  she\\'s  fair  i  love. \\n\\nbenvolio.  a  right  fair  mark,  fair  coz,  is  soonest  hit. \\n\\nromeo.  well,  in  that  hit  you  miss  :  she\\'ll  not  be  hit \\nwith  cupid\\'s  arrow  ;  she  hath  dian\\'s  wit. \\nand,  in  strong  proof  of  chastity  well  arm\\'d, \\nfrom  love\\'s  weak  childish  bow  she  lives  unharm\\'d. \\nshe  will  not  stay  the  siege  of  loving  terms. \\nnor  bide  the  encounter  of  assailing  eyes, \\nnor  ope  her  lap  to  saint-seducing  gold ; \\n0,  she  is  rich  in  beauty  !  only  poor \\nthat,  when  she  dies,  with  beauty  dies  her  store. \\n\\nbenvolio.  then  she  hath  sworn  that  she  will  still  live \\nchaste  ? \\n\\nromeo.  she  hath,  and  in  that   sparing  makes   huge \\nwaste ; \\nfor  beauty  starv\\'d  with  her  severity \\ncuts  beauty  off  from  all  prosperity. \\nshe  is  too  fair,  too  wise,  wisely  too  fair, \\nto  merit  bliss  by  making  me  despair  ; \\nshe  hath  forsworn  to  love,  and  in  that  vow \\ndo  i  live  dead  that  live  to  tell  it  now. \\n\\nbenvolio.  be  rul\\'d  by  me,  forget  to  think  of  her. \\n\\nromeo.  0,  teach  me  how  i  should  forget  to  think. \\n\\nbenvolio.  by  giving  liberty  unto  thine  eyes  ; \\nexamine  other  beauties. \\n\\n\\nromeo  and  juliet.  ig \\n\\nromeo.  \\'tis  the  way \\n\\nto  call  hers,  exquisite,  in  question  more. \\nthese  happy  masks  that  kiss  fair  ladies\\'  brows, \\nbeing  black,  put  us  in  mind  they  hide  the  fair; \\nhe  that  is  strucken  blind  cannot  forget \\nthe  precious  treasure  of  his  eyesight  lost. \\nshow  me  a  mistress  that  is  passing  fair. \\nwhat  doth  her  beauty  serve  but  as  a  note \\nwhere  i  may  read  who  pass\\'d  that  passing  fair  ? \\nfarewell ;  thou  canst  not  teach  me  to  forget. \\n\\nbenvolio.  i\\'ll  pay  that  doctrine,  or  else  die  in  debt. \\n\\n[exeunt^ \\n\\nscene  ii.     a  street. \\nenter  capulet,  paris,  and  servant. \\n\\ncapulet.  but  montague  is  bound  as  well  as  i, \\nin  penalty  alike  ;  and  \\'tis  not  hard,  i  think, \\nfor  men  so  old  as  we  to  keep  the  peace. \\n\\nparis.  of  honorable  reckoning  are  you  both ; \\nand  pity  \\'tis  you  liv\\'d  at  odds  so  long. \\nbut  now,  my  lord,  what  say  you  to  my  suit  ? \\n\\ncapulet.  but  saying  o\\'er  what  i  have  said  before, \\n^ly  child  is  yet  a  stranger  in  the  world ; \\nshe  hath  not  seen  the  change  of  fourteen  years : \\nlet  two  more  summers  wither  in  their  pride, \\nere  we  may  think  her  ripe  to  be  a  bride. \\n\\n\\n20  romeo  and  juliet. \\n\\nparis.  younger  than  she  are  happy  mothers  made. \\n\\ncapidet.  and  too  soon  marr\\'d  are  those  so  early  made. \\nthe  earth  has  swallow\\'d  all  my  hopes  but  she, \\nshe  is  the  hopeful  lady  of  my  earth : \\nbut  woo  her,  gentle  paris,  get  her  heart, \\nmy  will  to  her  consent  is  but  a  part ; \\nan  she  agree,  within  her  scope  of  choice \\nlies  my  consent  and  fair  according  voice. \\nthis  night  i  hold  an  old  accustom\\'d  feast, \\nwhereto  i  have  invited  many  a  guest, \\nsuch  as  i  love  ;  and  you,  among  the  store, \\none  more,  most  welcome,  makes  my  number  more. \\nat  my  poor  house  look  to  behold  this  night \\nearth-treading  stars  that  make  dark  heaven  light : \\nsuch  comfort  as  do  lusty  young  men  feel \\nwhen  well-apparell\\'d  april  on  the  heel \\nof  limping  winter  treads,  even  such  delight \\namong  fresh  female  buds  shall  you  this  night \\ninherit  at  my  house ;  hear  all,  all  see. \\nand  like  her  most  whose  merit  most  shall  be  : \\nwhich  on  more  view  of  many,  mine  being  one \\nmay  stand  in  number,  though  in  reckoning  none. \\ncome,  go  with  me.  —  \\\\_to  servant,  giving  a  2^(^p&i^\\'\\\\  gro, \\n\\nsirrah,  trudge  about \\nthrough  fair  veroua ;  find  those  persons  out, \\nwhose  names  are  avritten  there,  and  to  them  say. \\nmy  house  and  welcome  on  their  pleasure  stay. \\n\\n\\\\_exeunt  caindet  and  paris. \\n\\n\\nromeo  and  juliet.  21 \\n\\nservant.  find  them  out  whose  names  are  written  here ! \\nit  is  written  that  the  shoemaker  shouhl  meddle  with  his \\nyard  and  the  tailor  with  his  last,  the  fisher  with  his \\npencil  and  the  painter  with  his  nets ;  but  i  am  sent  to \\nfind  those  persons  whose  names  are  here  writ,  and  can \\nnever  find  what  names  the  writing  person  hath  here  avrit. \\ni  must  to  the  learned.  —  in  good  time. \\n\\nenter  benvolio  and  romeo. \\nbenvol\\'io.  tut,  man,  one  fire  burns  out  another\\'s  burn- \\n\\none  pain  is  lessen\\'d  by  another\\'s  anguish ; \\nturn  giddy,  and  be  holp  by  backward  turning ; \\n\\none  desperate  grief  cures  with  another\\'s  languish  : \\ntake  thou  some  new  infection  to  thy  eye. \\nand  the  rank  poison  of  the  old  will  die. \\n\\nromeo.  your  plantain-leaf  is  excellent  for  that. \\n\\nbenvolio.  for  what,  i  pray  thee  ? \\n\\nromeo.  for  your  broken  shin. \\n\\nbenvolio.  why,  romeo,  art  thou  mad  ? \\n\\nromeo.  istot  mad,  but  bound  more  than  a  madman  is ; \\nshut  up  in  prison,  kept  without  my  food, \\nwhipp\\'d  and  tormented  and  —  good-den,  good  fellow. \\n\\nservant.  god  gi\\'  good-den.  —  i  pray,  sir,  can  you  read? \\n\\nromeo.  ay,  mine  own  fortune  in  my  misery. \\n\\nservant.  perhaps  you  have  learned  it  without  book ; \\nbut,  i  pray,  can  you  read  anything  you  see  ? \\n\\n\\n22  eomeo  and  juliet. \\n\\nborneo.  ay,  if  i  know  the  letters  and  the  language. \\n\\nservant.  ye  say  honestly ;  rest  you  merry ! \\n\\nromeo.  stay,  fellow ;  i  can  read. \\n\\n[reads]  \\'  sipiior  martino  and  his  wife  and  daughter; \\ncounty  anselme  and  his  beauteous  sisters  ;  the  lady  widow \\nof  vitruvio ;  slgnior  placentio  and  his  lovely  nieces ; \\nmercutio  and  his  brother  valentine  ;  mine  uncle  capulet, \\nhis  wife,  and  daughters  ;  my  fair  niece  rosaline  ;  livia  ; \\nsignior  valentio  and  his  cousin  tybalt;  lucio  and  the \\nlively  helena.\\' \\na  fair  assembly ;  whither  should  they  come  ? \\n\\nservant.  up. \\n\\nromeo.  whither  ? \\n\\nservant.  to  supper ;  to  our  house. \\n\\nromeo.  whose  house  ? \\n\\nservant.  my  master\\'s. \\n\\nromeo.  indeed,  i  should  have  ask\\'d  you  that  before. \\n\\nservant.  now  i\\'ll  tell  you  without  asking :  my  master \\nis  the  great  rich  capulet;  and  if  you  be  not  of  the  house \\nof  montagues,  i  pray,  come  and  crush  a  cup  of  wine. \\nrest  you  merry  !  \\\\_exit. \\n\\nbenvolio.  at  this  same  ancient  feast  of  capulet\\'s \\nsups  the  fair  rosaline,  whom  thou  so  lov\\'st, \\nwith  all  the  admired  beauties  of  verona. \\ngo  thither,  and  with  unattainted  eye \\ncompare  her  face  with  some  that  i  shall  show. \\nand  i  will  make  thee  think  thy  swan  a  crow. \\n\\n\\neomeo  and  juliet.  23 \\n\\nborneo.  when  the  devout  religion  of  mine  eye \\n\\nmaintains  such  falsehood,  then  turn  tears  to  fires ; \\nand  these,  who  often  drown\\'d  could  never  die, \\n\\ntransparent  heretics,  be  burnt  for  liars  ! \\none  fairer  than  my  love  !  the  all-seeing  sun \\nne\\'er  saw  her  match  since  first  the  world  begun. \\n\\nbenvolio.  tut !  you  saw  her  fair,  none  else  being  by, \\nherself  pois\\'d  with  herself  in  either  eye ; \\nbut  in  that  crystal  scales  let  there  be  weigh\\'d \\nyour  lady\\'s  love  against  some  other  maid \\nthat  i  will  show  you  shining  at  this  feast. \\nand  she  shall  scant  show  well  that  now  shows  best. \\n\\nromeo.  i\\'ll  go  along,  no  such  sight  to  be  shown. \\nbut  to  rejoice  in  splendor  of  mine  own.  \\\\exeunt. \\n\\nscene  iii.     a  boom  in  cajpulefs  house. \\nenter  lady  capulet  and  kurse. \\n\\nlady  capulet.  kurse,  where\\'s  my  daughter  ?  call  her \\nforth  to  me. \\n\\nnurse.  now,  by  my  maidenhead  at  twelve  year  old, \\ni  bade  her  come.  —  what,  lamb !  what,  lady -bird !  — \\ngod  forbid !  —where\\'s  this  girl  ?— what,  juliet ! \\n\\nenter  juliet. \\n\\njuliet.  how  now !  who  calls  ? \\n\\nntirse.  your  mother. \\n\\n\\n24  romeo  and  juliet. \\n\\njuliet.  madam,  i  am  here. \\n\\nwhat  is  your  will  ? \\n\\nlad}/  ccqyulet.  this  is  the  matter:  —  nurse,  give  leave \\nawhile, \\nwe  must  talk  in  secret.  —  nurse,  come  back  again ; \\nt  have  remember\\'d  me,  thou\\'s  hear  our  counsel. \\nthou  know\\'st  my  daughter\\'s  of  a  pretty  age. \\n\\nnurse.  faith,  i  can  tell  her  age  unto  an  hour. \\n\\nlady  caindet.  she\\'s  not  fourteen. \\n\\nnurse.  i\\'ll  lay  fourteen  of  m.j  teeth,  — \\nand  yet,  to  my  teen  be  it  spoken,  i  have  but  four,  — \\nshe  is  not  fourteen.     how  long  is  it  now \\nto  lammas-tide  ? \\n\\nlady  capulet.       a  fortnight  and  odd  days. \\n\\nnurse.  even  or  odd,  of  all  days  in  the  year, \\ncome  lammas-eve  at  night  shall  she  be  fourteen. \\nsusan  and  she  —  god  rest  all  christian  souls  !  — \\nwere  of  an  age  :  well,  susan  is  with  god  ; \\nshe  was  too  good  for  me  :  but,  as  i  said, \\non  lammas-eve  at  night  shall  she  be  fourteen ; \\nthat  shall  she,  marry ;  i  remember  it  well. \\n\\'tis  since  the  earthquake  noav  eleven  years  ; \\nand  she  was  wean\\'d,  —  i  never  shall  forget  it,  — \\nof  all  the  days  of  the  year,  upon  that  day : \\nfor  i  had  then  laid  wormwood  to  my  dug, \\nsitting  in  the  sun  under  the  dove-house  wall ; \\nmy  lord  and  you  were  then  at  mantua.  — \\n\\n\\neomeo  and  juliet.  25 \\n\\nkay,  i  do  bear  a  brain  :  —  but,  as  i  said, \\n\\nwhen  it  did  taste  tlie  wormwood  on  the  nipple \\n\\nof  my  dug,  and  felt  it  bitter,  pretty  fool. \\n\\nto  see  it  tetchy  and  fall  out  with  the  dug ! \\n\\nshake,  quoth  the  dove-house ;  \\'twas  no  need,  i  trow, \\n\\nto  bid  me  trudge. \\n\\nand  since  that  time  it  is  eleven  years ; \\n\\nfor  then  she  could  stand  alone  ;  nay,  by  the  rood, \\n\\nshe  could  have  run  and  waddled  all  about.  — \\n\\ngod  mark  thee  to  his  grace  ! \\n\\nthou  wast  the  prettiest  babe  that  e\\'er  i  nurs\\'d ; \\n\\nan  i  might  live  to  see  thee  married  once, \\n\\ni  have  my  wish. \\n\\nlady  capulet.  marry,  that  \\'  marry \\'  is  the  very  theme \\ni  came  to  talk  of.  —  tell  me,  daughter  juliet, \\nhow  stands  your  disposition  to  be  married  ? \\n\\njuliet.  it  is  an  honor  that  i  dream  not  of. \\n\\nnurse.  an  honor  !  were  not  i  thine  only  nurse, \\ni  would  say  thou  hadst  suek\\'d  wisdom  from  thy  teat. \\n\\nlady  capulet.  well,  think  of  marriage  now ;  younger \\nthan  you \\nhere  in  verona,  ladies  of  esteem, \\nare  made  already  mothers  :  by  my  count, \\ni  was  your  mother  much  upon  these  years \\nthat  you  are  now  a  maid.     thus  then  in  brief : \\nthe  valiant  paris  seeks  you  for  his  love. \\n\\njsfurse.  a  man,  young  lady !  lady,  such  a  man \\nas  all  the  world  —  why,  he\\'s  a  man  of  wax. \\n\\n\\n26  romeo  and  juliet. \\n\\nlady  capulet.  verona\\'s  summer  hath  not  such  a  flower. \\n\\nnurse.  nay,  he\\'s  a  flower ;  in  faith,  a  very  flower. \\n\\nlady  capulet.  what  say  you  ?  can  you  love  the  gen- \\ntleman ? \\nthis  night  you  shall  behold  him  at  our  feast ; \\nread  o\\'er  the  volume  of  young  paris\\'  face, \\nand  find  delight  writ  there  with  beauty\\'s  pen; \\nexamine  every  married  lineament \\nand  see  how  one  another  lends  content, \\na.nd  what  obscur\\'d  in  this  fair  volume  lies \\nfind  written  in  the  margent  of  his  eyes. \\nthis  precious  book  of  love,  this  unbound  lover, \\nto  beautify  him,  only  lacks  a  cover ; \\nthe  fish  lives  in  the  sea,  and  \\'tis  much  pride \\nfor  fair  without  the  fair  within  to  hide. \\nthat  book  in  many\\'s  eyes  doth  share  the  glory, \\nthat  in  gold  clasps  locks  in  the  golden  story  ; \\nso  shall  you  share  all  that  he  doth  possess. \\nby  having  him  making  yourself  no  less. \\nspeak  briefly,  can  you  like  of  paris\\'  love  ? \\n\\njuliet.  i\\'ll  look  to  like,  if  looking  liking  move ; \\nbut  no  more  deep  will  i  endart  mine  eye \\nthan  your  consent  gives  strength  to  make  it  fly. \\n\\nenter  a  servant. \\n\\nservant.  madam,  the  guests  are  come,  supper  served \\nup,  you  called,  my  young  lady  asked  for,  the  nurse  cursed \\n\\n\\nbomeo  and  juliet.  27 \\n\\nin  the  pantry,  and  everything  in   extremity.     i   must \\nhence  to  wait ;  i  be,seech  you,  follow  straight. \\n\\nlady    cajpulet.    we    follow    thee.       \\\\exit   servant.\\'] \\n\\njuliet,  the  county  stays. \\nnurse.  go,  girl,  seek  happy  nights  to  happy  days. \\n\\n\\\\_exeunt. \\n\\nscene  iv.     a  street. \\n\\nenter  romeo,  mercutio,  benvolio,  with  five   or  six \\nmaskers,  torch-bearers,  and  others. \\n\\nromeo.  what,  shall  this  speech  be  spoke  for  our  ex- \\ncuse ? \\nor  shall  we  on  without  apology  ? \\n\\nbenvolio.  the  date  is  out  of  such  prolixity. \\nwe\\'ll  have  no  cupid  hoodwink\\'d  with  a  scarf, \\nbearing  a  tartar\\'s  painted  bow  of  lath, \\nscaring  the  ladies  like  a  crow-keeper  ; \\nnor  no  without-book  prologue,  faintly  spoke \\nafter  the  prompter,  for  our  entrance  : \\nbut  let  them  measure  us  by  what  they  will, \\nwe\\'ll  measure  them  a  measure,  and  be  gone. \\n\\nromeo.  give  me  a  torch ;  i  am  not  for  this  ambling : \\nbeing  but  heavy,  i  will  bear  the  light. \\n\\nmercutio.  nay,  gentle  romeo,  ave  must  have  you  dance. \\n\\nromeo.  not  i,  believe  me.     you  have  dancing  shoes \\nwith  nimble  soles ;  i  have  a  soul  of  lead \\nso  stakes  me  to  the  ground  i  cannot  move. \\n\\n\\n28  romeo  and  juliet. \\n\\nmercutio.  you  are  a  lover ;  borrow  cupid\\'s  wings, \\nand  soar  with  them  above  a  common  bound. \\n\\nromeo.  i  am  too  sore  enpierced  with  his  shaft \\nto  soar  avith  his  light  feathers,  and,  so  bound, \\ni  cannot  bound  a  pitch  above  dull  woe ; \\nunder  love\\'s  heavy  burden  do  i  sink. \\n\\nmercutio.  and,  to  sink  in  it,  should  you  burden  love ; \\ntoo  great  oppression  for  a  tender  thing. \\n\\nromeo.  is  love  a  tender  thing  ?  it  is  too  rough, \\ntoo  rude,  too  boisterous,  and  it  pricks  like  thorn. \\n\\nmercutio.  if  love  be  rough  with  you,  be  rough  with \\nlove; \\nprick  love  for  pricking,  and  jovi  beat  love  down.  — \\ngive  me  a  case  to  put  my  visage  in ; \\n\\n\\\\_putting  on  a  mask. \\na  visor  for  a  visor  !  what  care  i \\nwhat  curious  eye  doth  quote  deformities  ? \\nhere  are  the  beetle-brows  shall  blush  for  me. \\n\\nbenvolio.  come,  knock  and  enter ;  and  no  sooner  in, \\nbut  every  man  betake  him  to  his  legs. \\n\\nromeo.  a  torch  for  me  ;  let  wantons  light  of  heart \\ntickle  the  senseless  rushes  with  their  heels, \\nfor  i  am  proverb\\'d  with  a  grandsire  phrase : \\ni\\'ll  be  a  candle-holder,  and  look  on. \\nthe  game  was  ne\\'er  so  fair,  and  i  am  done. \\n\\nmercutio.  tut,  dun\\'s  the  mouse,  the  constable\\'s  own \\nword: \\n\\n\\nromeo  and  juliet.  29 \\n\\nif  thou  art  dun,  we\\'ll  draw  thee  from  the  mire \\nof  this  sir-reverence  love,  wherein  thou  stick\\'st \\nup  to  the  ears.  —  come,  we  burn  daylight,  ho  ! \\n\\nromeo.  nay,  that\\'s  not  so. \\n\\nmercutio.  i  mean,  sir,  in  delay \\n\\nwe  waste  our  lights  in  vain,  like  lamps  by  day. \\ntake  our  good  meaning,  for  our  judgment  sits \\nfive  times  in  that  ere  once  in  our  five  wits. \\n\\nborneo.  and  we  mean  well  in  going  to  this  mask ; \\nbut  \\'tis  no  wit  to  go. \\n\\nmercutio.  why,  may  one  ask  ? \\n\\nborneo.  i  dreamt  a  dream  to-night. \\n\\nmercutio.  ^nd  so  did  i. \\n\\nromeo.  well,  what  was  yours  ? \\n\\nmercutio.  that  dreamers  often  lie. \\n\\nrovieo.  in  bed  asleep,  while  they  do  dream  things  true. \\n\\nmercutio.  o,  then,  i  see  queen  mab  hath  been  with \\nyou. \\nshe  is  the  fairies\\'  midwife,  and  she  comes \\nin  shape  no  bigger  than  an  agate-stone \\non  the  fore-finger  of  an  alderman, \\ndrawn  with  a  team  of  little  atomies \\nathwart  men\\'s  noses  as  they  lie  asleep  ; \\nher  wagon-spokes  made  of  long  spinners\\'  legs, \\nthe  cover  of  the  wings  of  grasshoppers. \\nthe  traces  of  the  smallest  spider\\'s  web. \\nthe  collars  of  the  moonshine\\'s  watery  beams. \\n\\n\\n30  romeo  and  juliet. \\n\\nher  whip  of  cricket\\'s  bone,  the  lash  of  film, \\n\\nher  wagoner  a  small  gray-coated  gnat, \\n\\nnot  half  so  big  as  a  round  little  worm \\n\\nprick\\'d  from  the  lazy  finger  of  a  maid ; \\n\\nher  chariot  is  an  empty  hazel-nnt \\n\\nmade  by  the  joiner  squirrel  or  old  grub, \\n\\ntime  out  o\\'  mind  the  fairies\\'  coach-makers. \\n\\nand  in  this  state  she  gallops  night  by  night \\n\\nthrough  lovers\\'  brains,  and  then  they  dream  of  love ; \\n\\no\\'er  courtiers\\'  knees,  that  dream  on  court\\'sies  straight ; \\n\\no\\'er  lawyers\\'  fingers,  who  straight  dream  on  fees ; \\n\\no\\'er  ladies\\'  lips,  who  straight  on  kisses  dream. \\n\\nwhich  oft  the  angry  mab  with  blisters  plagues, \\n\\nbecause  their  breaths  with  sweetmeats  tainted  are. \\n\\nsometime  she  gallops  o\\'er  a  courtier\\'s  nose, \\n\\nand  then  dreams  he  of  smelling  out  a  suit. \\n\\nand  sometimes  comes  she  with  a  tithe-pig\\'s  tail \\n\\ntickling  a  parson\\'s  nose  as  a\\'  lies  asleep, \\n\\nthen  dreams  he  of  another  benefice. \\n\\nsometime  she  driveth  o\\'er  a  soldier\\'s  neck, \\n\\nand  then  dreams  he  of  cutting  foreign  throats, \\n\\nof  breaches,  ambuscadoes,  spanish  blades. \\n\\nof  healths  five-fatliom  deep ;  and  then  anon \\n\\ndrums  in  his  ears,  at  which  he  starts  and  wakes, \\n\\nand  being  thus  frighted  swears  a  prayer  or  two \\n\\nand  sleeps  again.     this  is  that  very  mab \\n\\nthat  plats  the  manes  of  horses  in  the  night. \\n\\n\\nbomeo  and  juliet.  31 \\n\\nand  bakes  the  elf-locks  in  fonl  sluttish  hairs, \\nwhich  once  untangled  much  misfortune  bodes. \\nthis  is  she  — \\n\\nromeo.  peace,  peace,  mercutio,  peace  ! \\n\\nthou  talk\\'st  of  nothing. \\n\\nmercutio.  true,  i  talk  of  dreams, \\n\\nwhich  are  the  children  of  an  idle  brain, \\nbegot  of  nothing  but  vain  fantasy. \\nwhich  is  as  thin  of  substance  as  the  air, \\nand  more  inconstant  than  the  wind,  who  wooes \\neven  now  the  frozen  bosom  of  the  north, \\nand,  being  anger\\'d,  puffs  away  from  thence, \\nturning  his  face  to  the  dew-dropping  south. \\n\\nbenvolio.  this  wind  you  talk  of  blows  us  from  our- \\nselves ; \\nsupper  is  done,  and  we  shall  come  too  late. \\n\\nromeo.  i  fear,  too  early  ;  for  my  mind  misgives \\nsome  consequence,  yet  hanging  in  the  stars, \\nshall  bitterly  begin  his  fearful  date \\nwith  this  night\\'s  revels,  and  expire  the  term \\nof  a  despised  life  clos\\'d  in  my  breast \\nby  some  vile  forfeit  of  untimely  death. \\nbut  he  that  hath  the  steerage  of  my  course \\ndirect  my  sail !  —  on,  lusty  gentlemen. \\n\\nbenvolio.  strike,  drum.  \\\\_^exeunt. \\n\\n\\n32  romeo  and  juliet. \\n\\nscene  v.     a  hall  in  capidefs  house. \\nmusicians  tvaiting.     enter  servingmen,  ivith  napkins. \\n\\n1  servingman.  avhere\\'s  potpan,  that  lie  helps  not  to \\ntake  away  ?     he  shift  a  trencher !  he  scrape  a  trencher  ! \\n\\n2  serviiigman.  when  good  manners  shall  lie  all  in  one \\nor  two  men\\'s  hands  and  they  unwashed  too,  \\'tis  a  foul \\nthing. \\n\\n1  serviyigman.  away  with  the  joint-stools,  remove  the \\ncourt-cupboard,  look  to  the  plate.  —  good  thou,  save  me \\na  piece  of  marchpane ;  and,  as  thou  lovest  me,  let  the \\nporter  let  in  susan  grindstone  and  nell.  —  antony  !  and \\npotpan ! \\n\\n2  servingman.  ay,  boy,  ready. \\n\\n1  servingman.  you  are  looked  for  and  called  for,  asked \\nfor  and  sought  for,  in  the  great  chamber. \\n\\n2  servingman.  we  cannot  be  here  and  there  too.  — \\ncheerly,  boys ;  be  brisk  awhile,  and  the  longer  liver  take \\nall. \\n\\nenter   capulet,  tvith  juliet  and  others  of  ms  hoiise, \\nmeeting  the  guests  and  maskers. \\n\\ncapxdet.  welcome,  gentlemen !  ladies  that  have  their \\ntoes \\nunplagu\\'d  with  corns  will  have  a  bout  with  you.  — \\n\\n\\n^„ \\n\\n\\nbomeo  and  juliet.  33 \\n\\nah.  ha,  my  mistresses  !  which  of  you  all \\n\\nwill  now  deny  to  dance  ?  she  that  makes  dainty, \\n\\nshe,  i\\'ll  swear,  hath  corns ;  am  i  come  near  ye  now  ?  — \\n\\nwelcome,  gentlemen !  i  have  seen  the  day \\n\\nthat  i  have  worn  a  visor,  and  could  tell \\n\\na  avhispering  tale  in  a  fair  lady\\'s  ear. \\n\\nsuch  as  would  please ;  \\'tis  gone,  \\'tis  gone,  \\'tis  gone :  — \\n\\nyou  are  welcome,  gentlemen  !  come,  musicians,  play.  — \\n\\na  hall,  a  hall !  give  room  !  and  foot  it,  girls.  — \\n\\n[^music  plays,  and  they  dance. \\nmore  light,  you  knaves  ;  and  turn  the  tables  up. \\nand  quench  the  fire,  the  room  is  grown  too  hot.  — \\nah,  sirrah,  this  unlook\\'d-for  sport  comes  well.  — \\nnay,  sit,  nay,  sit,  good  cousin  capulet ; \\nfor  you  and  i  are  past  our  dancing  days : \\nhow  long  is\\'t  now  since  last  yourself  and  i \\nwere  in  a  mask  ? \\n\\n2  capulet.  by  \\'r  lady,  thirty  years. \\n\\ncapulet.  what,  man!   \\'tis   not   so   much,  \\'tis   not   so \\nmuch : \\n\\'tis  since  the  nuptial  of  lucentio, \\ncome  pentecost  as  quickly  as  it  will. \\nsome  five  and  twenty  years ;  and  then  we  mask\\'d. \\n\\n2  capulet.  \\'tis  more,  \\'tis  more  :  his  son  is  elder,  sir ; \\nhis  son  is  thirty. \\n\\ncapulet.  will  you  tell  me  that  ? \\n\\nhis  son  was  but  a  ward  two  years  ago. \\n\\n\\n34  romeo  and  juliet. \\n\\nromeo.  [to  a  servingmrm\\']  what  lady  is  that,  which \\ndoth  enrich  the  hand \\nof  yonder  knight  ? \\n\\nservingman.  i  know  not,  sir. \\n\\nromeo.  0,  she  doth  teach  the  torches  to  burn  bright ! \\nher  beauty  hangs  upon  the  cheek  of  night \\nlike  a  rich  jewel  in  an  ethiope\\'s  ear; \\nbeauty  too  rich  for  use,  for  earth  too  dear ! \\nso  shows  a  snowy  dove  trooping  with  crows, \\nas  yonder  lady  o\\'er  her  fellows  shows. \\nthe  measure  done,  i\\'ll  watch  her  place  of  stand. \\nand,  touching  hers,  make  blessed  my  rude  hand. \\ndid  my  heart  love  till  now  ?  forswear  it,  sight ! \\nfor  i  ne\\'er  saw  true  beauty  till  this  night. \\n\\ntijhalt.  this,  by  his  voice,  should  be  a  montague.  — \\nfetch  me  my  rapier,  boy.  —  what  dares  the  slave \\ncome  hither,  cover\\'d  with  an  antic  face. \\nto  fleer  and  scorn  at  our  solemnity  ? \\nnow,  by  the  stock  and  honor  of  my  kin, \\nto  strike  him  dead  i  hold  it  not  a  sin. \\n\\nciipulet.  why,  how  now,  kinsman !  wherefore  storm \\nyou  so  ? \\n\\ntybalt.  uncle,  this  is  a  montague,  our  foe, \\na  villain  that  is  hithex  come  in  spite. \\nto  scorn  at  our  solemnity  this  night. \\n\\nctqmlet.  young  romeo,  is  it  ? \\n\\ntybalt.  ■  \\'tis  he,  that  villain  komeo. \\n\\n\\nromeo  and  juliet.  35 \\n\\ncapxdet.  content  thee,  gentle  coz,  let  him  alone : \\nhe  bears  him  like  a  portly  gentleman ; \\nand,  to  say  truth,  verona  brags  of  him \\nto  be  a  virtuous  and  well-govern\\'d  youth. \\ni  would  not  for  the  wealth  of  all  the  town \\nhere  in  my  house  do  him  disparagement ; \\ntherefore  be  patient,  take  no  note  of  him : \\nit  is  my  will,  the  which  if  thou  respect, \\nshow  a  fair  presence  and  put  off  these  frowns, \\nan  ill-beseeming  semblance  for  a  feast. \\n\\ntybalt.  it  fits,  when  such  a  villain  is  a  guest ; \\ni\\'ll  not  endure  him. \\n\\ncapulet.  he  shall  be  endur\\'d: \\nwhat,  goodman  boy  !     i  say,  he  shall :  go  to ; \\nam  i  the  master  here,  or  you  ?  go  to. \\nyou\\'ll  not  endure  him  !  —  god  shall  mend  my  soul !  — \\nyou\\'ll  make  a  mutiny  among  my  guests  ! \\nyou  will  set  cock-a-hoop !  you\\'ll  be  the  man ! \\n\\ntybalt.     why,  uncle,  \\'tis  a  shame. \\n\\ncapulet.  go  to,  go  to ; \\n\\nyou  are  a  saucy  boy  :  —  is\\'t  so,  indeed  ?  — \\nthis  trick  may  chance  to  scathe  you,  —  i  know  what. \\nyou  must  contrary  me  !  marry,  \\'tis  time.  — \\nwell  said,  my  hearts !  —  you  are  a  princox  ;  go : \\nbe  quiet,  or  —  more  light,  more  light !  —  for  shame  ! \\ni\\'ll  make  you  quiet.     what !  —  cheerly,  my  hearts  ! \\n\\ntybalt.  patience  perforce  with  wilful  choler  meeting \\n\\n\\n36  eomeo  and  juliet. \\n\\nmakes  my  flesh  tremble  in  their  different  greeting. \\n\\ni  will  withdraw ;  but  this  intrusion  shall, \\n\\nnow  seeming  sweet,  convert  to  bitter  gall.  [exit. \\n\\nborneo.  \\\\_to  juliet]  if  i  profane  with  my  un worthiest \\nhand \\n\\nthis  holy  shrine,  the  gentle  fine  is  this : \\nmy  lips,  two  blushing  pilgrims,  ready  stand \\n\\nto  smooth  that  rough  touch  avith  a  tender  kiss. \\n\\njuliet.  good  pilgrim,  you  do  avrong  your  hand  too  much, \\n\\nwhich  mannerly  devotion  shows  in  this ; \\nfor  saiiits  have  hands  that  pilgrims\\'  hands  do  touch, \\n\\nand  palm  to  palm  is  holy  palmer\\'s  kiss. \\n\\nromeo.  have  not  saints  lips,  and  holy  palmers  too  ? \\n\\njuliet.  ay,  pilgrim,  lips  that  they  must  use  in  prayer. \\n\\nromeo.  0,  then,  dear  saint,  let  lips  do  what  hands  do ; \\nthey  pray,  grant  thou,  lest  faith  turn  to  despair. \\n\\njuliet.  saints  do  not  move,  though  grant  for  prayers\\' \\nsake. \\n\\nromeo.  then  move  not,  while  my  prayer\\'s  effect  i \\ntake. \\nthus  from  my  lips  by  thine  my  sin  is  purg\\'d. \\n\\n\\\\_kissing  her. \\n\\njuliet.  then  have  my  lips  the  sin  that  they  have  took. \\n\\nromeo.  sin  from  my  lips  ?     0  trespass  sweetly  urg\\'d ! \\ngive  me  my  sin  again. \\n\\njuliet.  you  kiss  by  the  book. \\n\\nnxirse.  madam,  your  mother  craves  a  word  with  you. \\n\\n\\nphoto  by  byron \\n\\n\\nromeo  and  juliet.  37 \\n\\neomeo.  what  is  her  mother  ? \\n\\nnurse.  marry,  bachelor, \\n\\nher  mother  is  the  lady  of  the  house,    \\' \\nand  a  good  lady,  and  a  wise,  and  virtuous. \\ni  nurs\\'d  her  daughter,  that  you  talk\\'d  withal; \\ni  tell  you,  he  that  can  lay  hold  of  her \\nshall  have  the  chinks. \\n\\nborneo.  is  she  a  capulet  ? \\n\\n0  dear  account !  my  life  is  my  foe\\'s  debt. \\nbenvolio.  away,  begone ;  the  sport  is  at  the  best. \\nromeo.  ay,  so  i  fear  ;  the  more  is  my  unrest. \\ncapulet.  nay,  gentlemen,  prepare  not  to  be  gone  ; \\n\\nwe  have  a  trifling  foolish  banquet  towards.  — \\nis  it  e\\'en  so  ?  why,  then,  i  thank  you  all : \\n\\n1  thank  you,  honest  gentlemen ;  good  night.  — \\nmore  torches  here !  — come  on  then,  let\\'s  to  bed. \\nah,  sirrah,  by  my  fay,  it  waxes  late  ; \\n\\ni\\'ll  to  my  rest.  \\\\_exeunt  all  but  juliet  and  nurse. \\n\\njuliet.  come  hither,  nurse.     what  is  yond  gentleman? \\n\\nnurse.  the  son  and  heir  of  old  tiberio. \\n\\njuliet.  what\\'s  he  that  now  is  going  out  of  door  ? \\n\\nnurse.  marry,  that,  i  think,  be  young  petruchio. \\n\\njuliet.  what\\'s  he  that  follows  there,  that  would  not \\ndance  ? \\n\\nnurse.  i  know  not. \\n\\njuliet.  go,  ask  his  name.  —  if  he  be  married, \\nmy  grave  is  like  to  be  my  wedding  bed. \\n\\n\\n38  romeo  and  juliet. \\n\\nnurse.  his  name  is  eomeo,  and  a  montague, \\nthe  only  son  of  your  great  enemy. \\n\\njuliet.  my  only  love  sprung  from  my  only  hate ! \\ntoo  early  seen  unknown,  and  known  too  late ! \\nprodigious  birth  of  love  it  is  to  me, \\nthat  i  must  love  a  loathed  enemy. \\n\\nnurse.  what\\'s  this  ?  what\\'s  this  ? \\n\\njuliet.  a  rhyme  i  learn\\'d  even  now \\n\\nof  one  i  danc\\'d  withal.  \\\\_one  calls  ivithin,  \\'juliet.\\' \\n\\nnu7\\'se.  anon,  anon  !  — \\n\\ncome,  let\\'s  away ;  the  strangers  all  are  gone.      [^exetmf. \\n\\nenter  chorus. \\n\\nnow  old  desire  doth  in  his  death-bed  lie, \\n\\nand  young  affection  gapes  to  be  his  heir ; \\nthat  fair  for  which  love  groan\\'d  for  and  would  die. \\n\\nwith  tender  juliet  match\\'d,  is  now  not  fair. \\nnow  eomeo  is  belov\\'d  and  loves  again, \\n\\nalike  bewitched  by  the  charm  of  looks, \\nbut  to  his  foe  suppos\\'d  he  must  complain. \\n\\nand  she  steal  love\\'s  sweet  bait  from  fearful  hooks. \\nbeing  held  a  foe,  he  may  not  have  access \\n\\nto  breathe  such  vows  as  lovers  use  to  swear ;  . \\nand  she  as  much  in  love,  her  means  much  less \\n\\nto  meet  her  new-beloved  anywhere. \\nbut  passion  lends  them  power,  time  means,  to  meet. \\ntempering  extremities  with  extreme  sweet.  \\\\_exit. \\n\\n\\nact  ii. \\n\\nscene  i.     a  lane  hy  the  wall  of  capulet\\'\\'s  orchard. \\n\\nenter  eomeo. \\nromeo.  can  i  go  forward  when  my  heart  is  here  ? \\nturn  back,  dull  earth,  and  find  thy  centre  out. \\n\\n\\\\_he  climbs  the  wall,  and  leajys  down  ivithin  it. \\n\\nenter  benvolio  and  mercutio. \\n\\nbenvolio.  eomeo  !  my  cousin  eomeo  !  eomeo  ! \\n\\nmercutio.  he  is  wise ; \\n\\nand,  on  my  life,  hath  stol\\'n  him  home  to  bed. \\n\\nbenvolio.  he  ran  this  way,  and   leap\\'d  this  orchard \\nwall ; \\ncall,  good  mercutio. \\n\\nmercutio.  nay,  i\\'ll  conjure  too.  — \\neomeo  !  humors  !  madman !  passion !  lover ! \\nappear  thou  in  the  likeness  of  a  sigh  ! \\nspeak  but  one  rhyme,  and  i  am  satisfied ; \\ncry  but  \\'ay  me!\\'  pronounce  but  \\'love\\'  and  \\'dove\\'; \\nspeak  to  my  gossip  venus  one  fair  word, \\none  nickname  for  her  purblind  son  and  heir, \\nyoung  abraham  cupid,  he  that  shot  so  trim, \\nwhen  king  cophetna  lov\\'d  the  beggar-maid!  — \\nhe  heareth  not,  he  stirreth  not,  he  moveth  not ; \\n\\n39 \\n\\n\\n40  romeo  and  juliet. \\n\\nthe  ape  is  dead,  and  t  must  conjure  him.  — \\ni  conjure  thee  by  eosaline\\'s  bright  eyes, \\nby  her  high  forehead  and  her  scarlet  lip, \\nthat  in  thy  likeness  thou  appear  to  us ! \\n\\nbenvolio.  an  if  he  hear  thee  thou  wilt  anger  him. \\n\\nmercutio.  this  cannot  anger  him  :  \\'twould  anger  him \\nto  raise  a  spirit  in  his  mistress\\'  circle \\nof  some  strange  nature,  letting  it  there  stand \\ntill  she  had  laid  it  and  conjur\\'d  it  down ; \\nthat  were  some  spite :  my  invocation \\nis  fair  and  honest,  and  in  his  mistress\\'  name \\nt  conjure  only  but  to  raise  up  him. \\n\\nbenvolio.  come,  he  hath  hid  himself  among  these  trees. \\nto  be  consorted  with  the  humorous  night ; \\nblind  is  his  love  and  best  befits  the  dark, \\n\\nmercutio.  if  love  be  blind,  love  cannot  hit  the  mark.  — \\nromeo,  good  night.  —  i\\'ll  to  my  truckle  bed; \\nthis  field-bed  is  too  cold  for  me  to  sleep. \\ncome,  shall  we  go  ? \\n\\nbenvolio.  go,  then ;  for  \\'tis  in  vain \\n\\nto  seek  him  here  that  means  not  to  be  found.     [^exeunt. \\n\\nscene  ii,     cajpulet^s  orchard. \\n\\nenter  romeo, \\n\\nromeo.  he  jests  at  scars  that  never  felt  a  wound.  — \\n\\n[juliet  appears  above  at  a  window. \\n\\n\\nliomeo  and  juliet.  4^ \\n\\nbut,  soft !  what  light  through  yonder  window  breaks  ? \\n\\nit  is  the  east,  and  juliet  is  the  sun.  — \\n\\narise,  fair  sun,  and  kill  the  envious  moon, \\n\\nwho  is  already  sick  and  pale  with  grief, \\n\\nthat  thou  her  maid  art  far  more  fair  than  she. \\n\\nbe  not  her  maid,  since  she  is  envious  : \\n\\nher  vestal  livery  is  but  sick  and  green, \\n\\nand  none  but  fools  do  wear  it ;  cast  it  off.  — \\n\\nit  is  my  lady,  0,  it  is  my  love  ! \\n\\n0,  that  she  knew  she  were  !  — \\n\\nshe  speaks,  yet  she  says  nothing  ;  what  of  that  ? \\n\\nher  eye  discourses  ;  i  will  answer  it. \\n\\ni  am  too  bold,  \\'tis  not  to  me  she  speaks. \\ntwo  of  the  fairest  stars  in  all  the  heaven, \\nhaving  some  business,  do  entreat  her  eyes \\nto  twinkle  in  their  spheres  till  they  return. \\nwhat  if  her  eyes  were  there,  they  in  her  head  ? \\nthe  brightness  of  her  cheek  would  shame  those  stars, \\nas  daylight  doth  a  lamp  ;  her  eyes  in  heaven \\nwould  through  the  airy  region  stream  so  bright \\nthat  birds  would  sing  and  think  it  were  not  night. \\nsee,  how  she  leans  her  cheek  upon  her  hand  ! \\no,  that  i  were  a  glove  upon  that  hand, \\nthat  i  might  touch  that  cheek ! \\njuliet.  ay  me ! \\n\\nromeo.  she  speaks.  — \\n\\no,  speak  again,  bright  angel !  for  thou  art \\n\\n\\n42  bomeo  and  juliet. \\n\\nas  glorious  to  this  niglit,  being  o\\'er  my  head, \\n\\nas  is  a  winged  messenger  of  heaven \\n\\nunto  the  white-upturned  wondering  eyes \\n\\nof  mortals  that  fall  back  to  gaze  on  him, \\n\\nwhen  he  bestrides  the  lazy-pacing  clouds \\n\\nand  sails  upon  the  bosom  of  the  air. \\n\\njuliet.  0  komeo,  komeo  !  wherefore  art  thou  komeo  ? \\n\\ndeny  thy  father  and  refuse  thy  name ; \\n\\nor,  if  thou  wilt  not,  be  but  sworn  my  love. \\n\\nand  i\\'ll  no  longer  be  a  capulet. \\n\\nfiomeo.  [aside\\']  shall  i  hear  more,  or  shall  i  speak  at \\n\\nthis? \\njuliet.  \\'tis  but  thy  name  that  is  my  enemy ; \\n\\nthou  art  thyself,  though  not  a  montague. \\n\\nwhat\\'s  montague  ?  it  is  nor  hand,  nor  foot, \\nnor  arm,  nor  face,  nor  any  other  part \\n.belonging  to  a  man.     0,  be  some  other  name  ! \\nwhat\\'s  in  a  name  ?  that  which  we  call  a  rose \\nby  any  other  name  would  smell  as  sweet ; \\nso  komeo  would,  were  he  not  komeo  call\\'d, \\nketain  that  dear  perfection  which  he  owes \\nwithout  that  title.  —komeo,  doff  thy  name, \\nand  for  that  name,  which  is  no  part  of  thee, \\ntake  all  myself. \\n\\nitomeo.  i  take  thee  at  thy  word : \\n\\ncall  me  but  love,  and  i\\'ll  be  new  baptiz\\'d; \\nhenceforth  i  never  will  be  komeo. \\n\\n\\nphoto  by  byron \\n\\n\\neomeo  and  juliet.  43 \\n\\njuliet.  what  man  art  thou  that  thus  bescreen\\'d   in \\nnight \\nso  stumblest  on  my  counsel  ? \\n\\nrowso.  by  a  name \\n\\ni  know  not  how  to  tell  thee  who  i  am. \\nmy  name,  dear  saint,  is  hateful  to  myself, \\nbecause  it  is  an  enemy  to  thee ; \\nhad  i  it  written,  i  would  tear  the  word. \\n\\njuliet.  my  ears  have  yet  not  drunk  a  hundred  words \\nof  that  tongue\\'s  utterance,  yet  i  know  the  sound.  — \\nart  thou  not  eomeo,  and  a  montague  ? \\n\\nromeo.  neither,  fair  maid,  if  either  thee  dislike. \\n\\njuliet.  how  cam\\'st  thou  hither,  tell  me,  and  where- \\nfore ? \\nthe  orchard  walls  are  high  and  hard  to  climb. \\nand  the  place  death,  considering  who  thou  art. \\nif  any  of  my  kinsmen  find  thee  here. \\n\\nromeo.  with  love\\'s  light  wings  did  i  o\\'er-perch  these \\nwalls, \\nfor  stony  limits  cannot  hold  love  out, \\nand  what  love  can  do  that  dares  love  attempt ; \\ntherefore  thy  kinsmen  are  no  let  to  me. \\n\\njuliet.  if  they  do  see  thee,  they  will  murder  thee. \\n\\nromeo.  alack,  there  lies  more  peril  in  thine  eye \\nthan  twenty  of  their  swords ;  look  thou  but  sweet. \\nand  i  am  proof  against  their  enmity. \\n\\njuliet.  i  would  not  for  the  world  they  saw  thee  here. \\n\\n\\n44  ,  eomeo  and  juliet. \\n\\nromeo.  i  have  night\\'s  cloak  to  hide  me  from  their \\neyes  ; \\nand  but  thou  love  me,  let  them  find  me  here : \\nmy  life  were  better  ended  by  their  hate, \\nthan  death  prorogued,  avanting  of  thy  love. \\n\\njuliet.  by  whose  direction  found\\'st  thou  out  this  place  ? \\n\\nromeo.  by  love,  that  first  did  prompt  me  to  inquire  ; \\nhe  lent  me  counsel,  and  i  lent  him  eyes. \\ni  am  no  pilot ;  yet,  wert  thou  as  far \\nas  that  vast  shore  avash\\'d  with  the  farthest  sea, \\ni  would  adventure  for  such  merchandise. \\n\\njuliet.   thou  know\\'st  the  mask  of  night  is  on  my  face, \\nelse  would  a  maiden  blush  bepaint  my  cheek \\nfor  that  which  thou  hast  heard  me  speak  to-night. \\nfain  would  i  dwell  on  form,  fain,  fain  deny \\nwhat  i  have  spoke  ;  but  farewell  compliment ! \\ndost  thou  love  me  ?     i  know  thou  wilt  say  ay, \\nand  i  will  take  thy  word  :  yet,  if  thou  swear\\'st, \\nthou  mayst  prove  false ;  at  lovers\\'  perjuries. \\nthey  say,  jove  laughs.     0  gentle  romeo, \\nif  thou  dost  love,  pronounce  it  faithfully : \\nor  if  thou  think\\'st  i  am  too  quickly  won, \\ni\\'ll  frown  and  be  perverse  and  say  thee  nay, \\nso  thou  wilt  woo ;  but  else,  not  for  the  world. \\nin  truth,  fair  imontague,  i  am  too  fond. \\nand  therefore  thou  mayst  think  my  havior  light ; \\nbut  trust  me,  gentleman,  i\\'ll  prove  more  true \\n\\n\\nphoto  by  bv  ron \\n\\n\\neomeo  and  juliet.  45 \\n\\nthan  those  that  have  more  cunning  to  be  strange. \\ni  should  have  been  more  strange,  i  must  confess, \\nbut  that  thou  overheard\\'st,  ere  i  was  ware, \\nmy  true  love\\'s  passion ;  therefore  pardon  me, \\nand  not  impute  this  yielding  to  light  love, \\nwhich  the  dark  night  hath  so  discovered, \\n\\nborneo.  lady,  by  yonder  blessed  moon  i  swear, \\nthat  tips  with  silver  all  these  fruit-tree  tops  — \\n\\njuliet.  o,  swear  not  by  the  moon,  th\\'  inconstant  moon, \\nthat  monthly  changes  in  her  circled  orb, \\nlest  that  thy  love  prove  likewise  variable. \\n\\nborneo.  what  shall  i  swear  by  ? \\n\\njuliet.  l)o  not  swear  at  all ; \\n\\nor,  if  thou  wilt,  swear  by  thy  gracious  self, \\nwhich  is  the  god  of  my  idolatry, \\nand  i\\'ll  believe  thee. \\n\\nborneo.  if  my  heart\\'s  dear  love  — \\n\\njuliet.  well,  do  not  swear.     although  i  joy  in  thee, \\ni  have  no  joy  of  this  contract  to-night ; \\nit  is  too  rash,  too  unadvis\\'d,  too  sudden. \\ntoo  like  the  lightning,  which  doth  cease  to  be \\nere  one  can  say  it  lightens.     sweet,  good  night ! \\nthis  bud  of  love,  by  summer\\'s  ripening  breath. \\nmay  prove  a  beauteous  flower  when  next  we  meet. \\ngood  night,  good  night !  as  sweet  repose  and  rest \\ncome  to  thy  heart  as  that  within  my  breast ! \\n\\nborneo.  0,  wilt  thou  leave  me  so  unsatisfied  ? \\n\\n\\n4g  komeo  and  juliet. \\n\\njuliet.  what  satisfaction  canst  thon  have  to-night? \\neomeo.  the  exchange  of  thy  love\\'s  faithful  vow  for \\n\\nmine  ? \\njuliet.  i  gave  thee  mine  before  thou  didst  request  it; \\nand  yet  i  woukl  it  were  to  give  again. \\n\\nmomeo.  wouklst  thou  withdraw  it?  for  what  purpose, \\n\\nlove? \\njuliet.  but  to  be  frank,  and  give  it  thee  again. \\nand  yet  i  wish  but  for  the  thing  i  have  : \\nmy  bounty  is  as  boundless  as  the  sea. \\nmy  love  as  deep ;  the  more  i  give  to  thee, \\nthe  more  i  have,  for  both  are  infinite. \\n\\n\\\\_nurse  calls  tvithin. \\n\\ni  hear  some  noise  within  ;  dear  love,  adieu !  — \\nanon,  good  nurse  !  —  sweet  montague,  be  true. \\nstay  but  a  little,  i  will  come  again.  c^*\\'^- \\n\\nborneo.  0  blessed,  blessed  night !  i  am  afeard, \\nbeing  in  night,  all  this  is  but  a  dream. \\ntoo  flattering-sweet  to  be  substantial. \\n\\nre-enter  juliet,  above. \\njuliet.  three  words,  dear  romeo,  and  good  night  in- \\ndeed. \\nif  that  thy  bent  of  love  be  honorable. \\nthy  purpose  marriage,  send  me  word  to-morrow, \\nby  one  that  i\\'ll  procure  to  come  to  thee. \\nwhere  and  what  time,  thou  wilt  perform  the  rite ; \\n\\n\\neomeo  and  juliet.  47 \\n\\nand  all  my  fortunes  at  thy  foot  i\\'ll  lay, \\n\\nand  follow  thee  my  lord  throughout  the  world. \\n\\nnurse.  [  within]  madam  ! \\n\\njuliet.  i  come,  anon.  —  but  if  thou  mean\\'st  not  well, \\ni  do  beseech  thee  — \\n\\nnurse.  \\\\_within\\']  madam! \\n\\njuliet.  by  and  by,  i  come.  — \\n\\nto  cease  thy  suit,  and  leave  me  to  my  grief ; \\nto-morrow  will  i  send. \\n\\nromeo.  so  thrive  my  soul  — \\n\\njuliet.  a  thousand  times  good  night !  [exit. \\n\\nborneo.   a  thousand   times   the  worse,  to  want   thy \\nlight. \\nlove  goes  toward  love  as  schoolboys  from  their  books, \\nbut  love  from  love  toward  school  with  heavy  looks. \\n\\n[retiring  slowly. \\n\\nre-enter  juliet,  above. \\n\\njuliet.  hist !  romeo,  hist !  —  0,  for  a  falconer\\'s  voice \\nto  lure  this  tassel-gentle  back  again  ! \\nbondage  is  hoarse,  and  may  not  speak  aloud ; \\nelse  would  i  tear  the  cave  where  echo  lies. \\nand  make  her  airy  tongue  more  hoarse  than  mine \\nwith  repetition  of  my  romeo\\'s  name. \\n\\nromeo.  it  is  my  soul  that  calls  upon  my  name ; \\nhow  silver-sweet  sound  lovers\\'  tongues  by  night, \\nlike  softest  miisic  to  attending  ears  ! \\n\\n\\n48  bomeo  and  juliet. \\n\\njuliet.  eomeo ! \\n\\niiomeo.  my  dear  ? \\n\\njuliet.  at  what  o\\'clock  to-morrow \\n\\nshall  i  send  to  thee  ? \\n\\nborneo.  at  the  hour  of  nine. \\n\\njuliet.  i  will  not  fail ;  \\'tis  twenty  years  till  then. \\ni  have  forgot  why  i  did  call  thee  back. \\n\\nborneo.  let  me  stand  here  till  thou  remember  it. \\n\\njuliet.  i  shall  forget,  to  have  thee  still  stand  there, \\neemembering  how  i  love  thy  company. \\n\\nborneo.  and  i\\'ll  still  stay,  to  have  thee  still  forget, \\nforgetting  any  other  home  but  this. \\n\\njuliet.  \\'tis  almost  morning  ;  i  would  have  thee  gone, \\nand  yet  no  farther  than  a  wanton\\'s  bird. \\nwho  lets  it  hop  a  little  from  her  hand. \\nlike  a  poor  prisoner  in  his  twisted  gyves, \\nand  with  a  silk  thread  plucks  it  back  again, \\nso  loving-jealous  of  his  liberty. \\n\\nborneo.  i  would  i  were  thy  bird. \\n\\njuliet.  sweet,  so  would  i ; \\nyet  i  should  kill  thee  with  much  cherishing. \\ngood  night,  good  night !  parting  is  such  saveet  sorrow \\nthat  i  shall  say  good  night  till  it  be  morrow, \\n\\n\\\\_exit,  above. \\n\\nborneo.  sleep   dwell  upon  thine   eyes,  peace  in  thy \\nbreast ! \\n\"would  i  were  sleep  and  peace,  so  sweet  to  rest ! \\n\\n\\nphoto  by  byron \\n\\n\\nromeo  and  juliet.  49 \\n\\nhence  will  i  to  my  ghostly  father\\'s  cell, \\n\\nhis  help  to  crave,  and  my  dear  hap  to  tell.  [exit. \\n\\n\\nscene  iii.     friar  laurence\\'s  cell. \\n\\nenter  eriar  laurence,  ivlth  a  basket. \\n\\nfriar  laurence.  the    gray-eyed   morn  smiles  on  the \\nfrowning  night, \\ncheckering  the  eastern  clouds  with  streaks  of  light, \\nand  flecked  darkness  like  a  drunkard  reels \\nfrom  forth  day\\'s  path  and  titan\\'s  fiery  wheels. \\nnow,  ere  the  sun  advance  his  burning  eye, \\nthe  day  to  cheer  and  night\\'s  dank, dew  to  dry, \\ni  must  up-fill  this  osier  cage  of  ours \\nwith  baleful  weeds  and  precious-juiced  flowers. \\nthe  earth  that\\'s  nature\\'s  mother  is  her  tomb; \\nwhat  is  her  burying  grave  that  is  her  womb, \\nand  from  her  womb  children  of  divers  kind \\nwe  sucking  on  her  natural  bosom  find. \\nmany  for  many  virtues  excellent. \\nnone  but  for  some,  and  yet  all  different. \\n0,  mickle  is  the  powerful  grace  that  lies \\nin  herbs,  plants,  stones,  and  their  true  qualities  ! \\nfor  nought  so  vile  that  on  the  earth  doth  live \\nbut  to  the  earth  some  special  good  doth  give ; \\nnor  aught  so  good  but,  strain\\'d  from  that  fair  use. \\n\\n\\n50  romeo  and   juliet. \\n\\nkevolts  from  true  birtli,  stumbling  on  abuse. \\n\\nvirtue  itself  turns  vice,  being  misapplied, \\n\\nand  vice  sometiuu>\\\\s  by  action  dignified. \\n\\nwitliin  the  infant  rind  of  this  weak  flower \\n\\nl*oison  hath  residence,  and  nuhlicine  power ; \\n\\nfor  this,  bi\\'ing  snudt,  with  that  })art  cheers  each  part, \\n\\n]>eing  tast(ml,  slays  all  senses  with  the  heart. \\n\\ntwo  such  opposed  kings  encamp  them  still \\n\\nin  man  as  well  as  herbs,  —  grace  and  rude  will; \\n\\nand  where  the  worser  is  predominant, \\n\\nl^\\'ull  soon  the  canker  death  eats  up  that  plant. \\n\\nenter   komko. \\n\\nhomeo.  good  morrow,  father. \\n\\nfriar  laurence.  benedicite ! \\n\\nwhat  early  tongue  so  sweet  saluteth  me  ?  — \\nyoung  son,  it  argues  a  disteniperm  head \\nso  soon  to  bid  good  nmrrow  to  thy  bed : \\ncare  keeps  his  watch  in  every  old  man\\'s  eye, \\nand  where  care  lodges,  sleep  will  never  lie ; \\nlint  where  unbruised  youth  with  vuistuff\\'d  brain \\ndoth  couch  his  limbs,  there  golden  sleep  doth  reign. \\ntherefore  thy  earliness  doth  nie  assure \\nthou  art  up-rous\\'d  with  some  distemperature ; \\nor  if  not  so,  then  here  i  hit  it  right. \\nour  komeo  hath  not  been  in  bed  to-night. \\n\\nixomeo.  that  last  is  true  ;  the  sweeter  rest  was  mine. \\n\\n\\niiomeo  and  juliet.  51 \\n\\nfriar  lai.trence.  god  pardon  sin  !  wast  thou  with  rosa- \\nline ? \\n\\nromeo.  with  rosaline,  my  ghostly  father  ?  no  ; \\ni  have  forgot  that  name,  and  that  name\\'s  woe. \\n\\nfriar  laurence.  that\\'s  my  good  son  ;  but  where  hast \\nthou  been,  then  ? \\n\\nromeo.  i\\'ll  tell  thee,  ere  thou  ask  it  me  again. \\ni  have  been  feasting  with  mine  enemy, \\nwhere  on  a  sudden  one  hath  wounded  me, \\nthat\\'s  by  me  wounded ;  both  our  remedies \\nwithin  thy  help  and  holy  })hysic  lies. \\ni  bear  no  hatred,  blessed  man,  for,  lo, \\nmy  intercession  likewise  steads  my  foe. \\n\\nfriar  laurence.  be  plain,  good  son,  and  homely  in  thy \\ndrift ; \\nriddling  confession  finds  but  riddling  shrift. \\n\\nromeo.  then  plainly  know,  my  heart\\'s  dear  love  is  set \\non  the  fair  daughter  of  rich  capulet : \\nas  mine  on  hers,  so  hers  is  set  on  mine ; \\nand  all  combin\\'d,  save  what  thou  must  combine \\nby  holy  marriage.     when  and  where  and  how \\nwe  met,  we  woo\\'d  and  made  exchange  of  vow, \\ni\\'ll  tell  thee  as  we  pass ;  but  this  i  pray, \\nthat  thou  consent  to  marry  us  to-day. \\n\\nfriar  laurence.  holy  saint  francis,  what  a  change  is \\nhere  ! \\nis  rosaline,  that  thou  didst  love  so  dear, \\n\\n\\n52  romeo   and  juliet. \\n\\nso  soon  forsaken  ?  young  men\\'s  love  then  lies \\n\\nnot  truly  in  their  hearts,  but  in  their  eyes. \\n\\njesu  maria,  what  a  deal  of  brine \\n\\nhath  wash\\'d  thy  sallow  cheeks  for  rosaline ! \\n\\nhow  much  salt  water  thrown  away  in  waste, \\n\\nto  season  love,  that  of  it  doth  not  taste  ! \\n\\nthe  sun  not  yet  thy  sighs  from  heaven  clears, \\n\\nthy  old  groans  ring  yet  in  my  ancient  ears ; \\n\\nlo,  here  upon  thy  cheek  the  stain  doth  sit \\n\\nof  an  old  tear  that  is  not  wash\\'d  off  yet. \\n\\nif  e\\'er  thou  wast  thyself  and  these  woes  thine. \\n\\nthou  and  these  woes  were  all  for  rosaline  ; \\n\\nand  art  thou  chang\\'d  ?  pronounce  this  sentence  then: \\n\\nwomen  may  fall,  when  there\\'s  no  strength  in  men. \\n\\nromeo.  thou  chidd\\'st  me  oft  for  loving  rosaline. \\n\\nfriar  laxtrence.  for  doting,  not  for  loving,  pupil  mine. \\n\\nromeo.  and  bad\\'st  me  bury  love. \\n\\nfriar  laurence.  not  in  a  grave. \\n\\nto  lay  one  in,  another  out  to  have. \\n\\nromeo.  i  pray  thee,  chide  not :  she  whom  i  love  now \\ndoth  grace  for  grace  and  love  for  love  allow  ; \\nthe  other  did  not  so. \\n\\nfriar  laurence.         o,  she  knew  well, \\nthy  love  did  read  by  rote  and  could  not  spell. \\nbut  come,  young  waverer,  come,  go  with  me, \\nin  one  respect  i\\'ll  thy  assistant  be ; \\nfor  this  alliance  may  so  happy  prove, \\nto  turn  your  households\\'  rancor  to  pure  love. \\n\\n\\nromeo  and  juliet.  53 \\n\\nborneo.  0,  let  us  hence,  i  stand,  on  sudden  haste. \\nfriar  laurence.  wisely  and  slow ;  they  stumble  that \\nrun  fast.  \\\\_exeunt. \\n\\nscene  iv.     a  street. \\nenter  benvolio  and  mercutio. \\n\\nmercutlo.  where  the  devil  should  this  romeo  be  ? \\ncame  he  not  home  to-night  ? \\n\\nbenvolio.  not  to  his  father\\'s ;  i  spoke  with  his  man. \\n\\nmercutio.  why,  that  same  pale   hard-hearted,  wench, \\nthat  rosaline, \\ntorments  him  so  that  he  will  sure  run  mad. \\n\\nbenvolio.  tybalt,  the  kinsman  of  old  capulet, \\nhath  sent  a  letter  to  his  father\\'s  house. \\n\\nmercutio.  a  challenge,  on  my  life. \\n\\nbenvolio.  romeo  will  answer  it. \\n\\nmercutio.  any  man  that  can  write  may  answer  a  letter. \\n\\nbenvolio.  nay,  he  will  answer  the  letter\\'s  master,  how \\nhe  dares,  being  dared. \\n\\nmercutio.  alas,  poor  romeo !  he  is  already  dead ; \\nstabbed  with  a  white  wench\\'s  black  eye ;  shot  through \\nthe  ear  with  a  love-song ;  the  very  pin  of  his  heart  cleft \\nwith  the  blind  bow-boy\\'s  butt-shaft :  and  is  he  a  man  to \\nencounter  tybalt  ? \\n\\nbenvolio.  why,  what  is  tybalt  ? \\n\\nmercutio.  more  than  prince  of  cats,  i  can  tell  you.     0, \\n\\n\\n54  liomeo  axd  juliet. \\n\\nlie  is  the  courageous  captain  of  compliments.  he  fights \\nas  you  sing  prick-song,  keeps  time,  distance,  and  propor- \\ntion; rests  nie  his  minim  rest,  one,  two,  and  the  third  in \\nyour  bosom :  the  very  butcher  of  a  silk  button,  a  duel- \\nlist, a  duellist ;  a  gentleman  of  the  very  first  house,  of \\nthe  first  and  second  cause.  ah,  the  immortal  passado  i \\nthe  punto  reverso  !  the  hay  ! \\n\\nbcnvolio.  the  what? \\n\\nmercntio.  the  pox  of  such  antic,  lisping,  affecting \\nfantasticoes,  these  new  tuners  of  accents  !  \\'  by  jesu,  a \\nver}-  good  blade  !  a  very  tall  man  !\\'  —  why,  is  not  this  a \\nlamentable  thing,  grandsire,  that  we  should  be  thus \\nafflicted  with  these  strange  flies,  these  fashion-mongers, \\nthese  2h(rdo)ine.z-mois,  who  stand  so  much  on  the  new \\nform  that  they  cannot  sit  at  ease  on  the  old  bench  ?  0. \\ntheir  hons,  their  bans  ! \\n\\nenter  romeo. \\n\\nbenvolio.  here  comes  eomeo.  here  comes  eomeo. \\n\\nmemitio.  without  his  roe,  like  a  dried  herring.  0 \\nflesh,  flesh,  how  art  thou  fi.shified !  ^ow  is  he  for  the \\nnumbers  that  petrarch  flowed  in :  laura  to  his  lady  was \\nbut  a  kitchen-wench ;  marry,  she  had  a  better  love  to  be- \\nrhyme her ;  dido  a  dowdy  ;  cleopatra  a  gypsy ;  helen \\nand  hero  hildings  and  harlots ;  thisbe  a  gray  ej-e  or  so. \\nbut  not  to  the  purpose.  —  signior  komeo.  hon  jour.\\' \\nthere\\'s  a  french  salutation  to  your  french  slop.  you \\ngave  us  the  counterfeit  fairly  last  night. \\n\\n\\nromeo  and  juliet.  55 \\n\\nliomeo.  good  morrow  to  you  both.  what  counterfeit \\ndid  i  give  you  ? \\n\\nmercutio.  the  slip,  sir,  the  slip;  can  you  not  conceive  ? \\n\\nborneo.  pardon,  good  mercutio,  rny  business  was  great ; \\nand  in  such  a  case  as  mine  a  man  may  strain  courtesy. \\n\\nmercutio.  that\\'s  as  much  as  to  say,  such  a  case  as \\nyours  constrains  a  man  to  bow  in  the  hams. \\n\\nromeo.  meaning,  to  courtesy. \\n\\nmercutio.  thou  hast  most  kindly  hit  it. \\n\\nromeo.  a  most  courteous  exposition. \\n\\nmercutio.  nay,  i  am  the  very  pink  of  courtesy. \\n\\nromeo.  pink  for  flower. \\n\\nmerevtlo.  kight. \\n\\nromeo.  why,  then  is  my  pump  well  flowered. \\n\\nmercutio.  well  said ;  follow  me  this  jest  now  till  thou \\nhast  worn  out  thy  pumjj,  that  when  the  single  sole  of  it  is \\nworn,  the  jest  may  remain  after  the  wearing  sole  singular. \\n\\nromeo.  0  single-soled  jest,  solely  singular  for  the  sin- \\ngleness. \\n\\nmercutio.  come  between  us,  good  benvolio ;  my  wits \\nfail. \\n\\nromeo.  switch  and  spurs,  switch  and  spurs  ;  or  i\\'ll \\ncry  a  match. \\n\\nmercutio.  nay,  if  thy  wits  run  the  wild-goose  chase,  i \\nhave  done,  for  thou  hast  more  of  the  wild-goose  in  one \\nof  thy  wits  than,  i  am  sure,  i  have  in  my  whole  five. \\nwas  t  with  you  there  for  the  goose  ? \\n\\n\\n56  bomeo  and  juliet. \\n\\nromeo.  thou  wast  never  with  me  for  anything  when \\nthou  wast  not  there  for  the  goose. \\n\\nmercutio.  i  will  bite  thee  by  the  ear  for  that  jest. \\n\\nromeo.  nay,  good  goose,  bite  not. \\n\\nmercutio.  thy  wit  is  ^  very  bitter  sweeting;  it  is  a \\nmost  sharp  sauce. \\n\\nromeo.  and  is  it  not  well  served  in  to  a  sweet  goose  ? \\n\\nilerctitio.  0,  here\\'s  a  wit  of  cheveril,  that  stretches \\nfrom  an  inch  narrow  to  an  ell  broad ! \\n\\nromeo.  i  stretch  it  out  for  that  word  \\'  broad  ; \\'  which \\nadded  to  the  goose,  proves  thee  far  and  wide  a  broad \\ngoose. \\n\\nmercutio.  why,  is  not  this  better  now  than  groaning \\nfor  love  ?  now  art  thou  sociable,  now  art  thou  romeo ; \\nnow  art  thou  what  thou  art,  by  art  as  well  as  by  nature  : \\nfor  this  drivelling  love  is  like  a  great  natural,  — \\n\\nbenvolio.  stop  there,  stop  there. \\n\\nromeo.  here\\'s  goodly  gear  ! \\n\\nenter  nurse  and  peter. \\n\\nmercutio.  a  sail,  a  sail ! \\nbenvolio.  two,  two ;  a  shirt  and  a  smock. \\nnurse.  peter ! \\npeter.  anon ! \\nnurse.  my  fan,  peter. \\n\\nmercutio.  good  peter,  to  hide  her  face ;  for  her  fan\\'s \\nthe  fairer  of  the  two. \\n\\n\\nromeo   and  juliet.  57 \\n\\nnurse.  god  ye  good  morrow,  gentlemen, \\nmercutio.  god  ye  good  den,  fair  gentlewoman. \\n\\nnurse.  is  it  good  den  ? \\n\\nmercutio.  \\'tis  no  less,  i  tell  yon,  for  the  hand  of  the \\ndial  is  now  upon  the  prick  of  noon. \\n\\nnurse.  out  upon  you  !  what  a  man  are  you ! \\n\\nromeo.  one,  gentlewoman,  that  god  hath  made  for \\nhiiiiself  to  mar. \\n\\nnurse.  by  my  troth,  it  is  well  said;  \\'for  himself  to \\nmar,\\'  quoth  a\\'  ?  —  gentlemen,  can  any  of  you  tell  me \\nwhere  i  may  find  the  young  romeo  ? \\n\\nromeo.  i  can  tell  you;  but  young  romeo  will  be \\nolder  when  you  have  found  him  than  he  was  when  you \\nsought  him.  i  am  the  youngest  of  that  name,  for  fault \\nof  a  worse. \\n\\nnurse.  you  say  well. \\n\\nmercutio.  yea,  is  the  worst  well  ?  very  well  took,  i\\' \\nfaith ;  wisely,  wisely. \\n\\nnurse.  if  you  be  he,  sir,  i  desire  some  confidence  with \\nyou. \\n\\nbenvolio.  she  will  indite  him  to  some  supper. \\n\\nmercutio.  so  ho  ! \\n\\nromeo.  \"what  hast  thou  found  ? \\n\\nmercutio.  no  hare,  sir ;  unless  a  hare,  sir,  in  a  lenten  pie, \\nthat  is  something  stale  and  hoar  ere  it  be  spent.  —  romeo, \\nwill  you  come  to  your  father\\'s  ?  we\\'ll  to  dinner,  thither. \\n\\nromeo.  i  will  follow  you. \\n\\n\\n58  eomeo  and  juliet. \\n\\nmercut\\'io.  farewell,  ancient  lady;  farewell,  [singing\\'] \\n\\'lady,  lady,  lady.\\'  \\\\_exeunt  mercut\\'io  and  benrolh. \\n\\njs^iirse.  jsiarry,  farewell  1  —  i  pray  you,  sir,  what  saucy \\nmerchant  was  this,  that  was  so  full  of  his  ropery  ? \\n\\nborneo.  a  gentleman,  nurse,  that  loves  to  hear  himself \\ntalk,  and  avill  speak  more  in  a  minute  than  he  will  stand \\nto  in  a  month. \\n\\nxurse.  an  a\\'  speak  anything  against  me,  i\"ll  take  him \\ndown,  an  a\\'  were  lustier  than  he  is,  and  twenty  such \\njacks ;  and  if  i  cannot,  i\\'ll  find  those  that  shall.  scurvy \\nknave  !  i  am  none  of  his  llirt-gills ;  i  am  none  of  his \\nskains-mates.  —  and  thou  must  stand  by  too,  and  suffer \\nevery  knave  to  use  me  at  his  pleasure  ? \\n\\npeter.  i  saw  no  man  use  you  at  his  pleasure ;  if  i \\nhad,  my  weapon  should  quickly  have  been\\'  out,  i  warrant \\nyou.  i  dare  draw  as  soon  as  another  man,  if  i  see  occa- \\nsion in  a  good  quarrel,  and  the  law  on  my  side. \\n\\nnurse.  now,  afore  god,  i  am  so  vexed,  that  every \\npart  about  me  quivers.  scurvy  knave  ! — pray  you,  sir, \\na  word ;  and  as  i  told  you,  my  young  lady  bade  me \\ninquire  you  out ;  what  she  bade  me  say,  i  avill  keep  to \\nmyself :  but  first  let  me  tell  ye,  if  ye  should  lead  her  in \\na  fool\\'s  paradise,  as  they  say,  it  were  a  very  gross  kind \\nof  behavior,  as  they  say ;  for  the  gentlewoman  is  young, \\nand,  therefore,  if  you  should  deal  double  with  her.  truly \\nit  were  an  ill  thing  to  be  offered  to  any  gentlewoman, \\nand  very  weak  dealing. \\n\\n\\nbomeo  and  juliet.  59 \\n\\nborneo.  nurse,  commend  me  to  thy  lady  and  mistress. \\ni  protest  unto  thee  — \\n\\nnurse.  good  heart,  and,  i\\'  faith,  i  will   tell   her   as \\nmuch.     lord,  lord,  she  will  be  a  joyful  woman. \\n\\nromeo.  what  wilt  thou  tell  her,  nurse  ?  thou  dost  not \\nmark  me. \\n\\nnurse.  i  will  tell  her,  sir,  that  you  do  protest ;  which, \\nas  i  take  it,  is  a  gentlemanlike  offer. \\n\\nromeo.  bid  her  devise  some  means  to  come  to  shrift \\nthis  afternoon ; \\n\\nand  there  she  shall  at  friar  laurence\\'  cell \\nbe  shriv\\'d  and  married.     here  is  for  thy  pains. \\n\\nnurse.  no,  truly,  sir ;  not  a  penny. \\n\\nromeo.  go  to  ;  i  say  you  shall. \\n\\nnurse.  this  afternoon,  sir  ?  well,  she  shall  be  there. \\n\\nromeo.  and  stay,  good  nurse ;  behind  the  abbey  wall \\n\"within  this  hour  my  man  shall  be  with  thee. \\nand  bring  thee  cords  made  like  a  tackled  stair ; \\nwhich  to  the  high  top-gallant  of  my  joy \\nmust  be  my  convoy  in  the  secret  night. \\nfarewell ;  be  trusty,  and  i\\'ll  quit  thy  pains : \\nfarewell ;  commend  me  to  thy  mistress. \\n\\nnirse.  now  god  in  heaven  bless  thee  !    hark  you,  sir. \\n\\nromeo.  what  say\\'st  thou,  my  dear  nurse  ? \\n\\nnurse.  is  your  man  secret?     did  you  ne\\'er  hear  say, \\ntwo  may  keep  counsel,  putting  one  away  ? \\n\\nromeo.  i  warrant  thee,  my  man\\'s  as  true  as  steel. \\n\\n\\nco  romeo  and  juliet. \\n\\nxio\\'sr.  \\\\\\\\\\'a\\\\,  sir;  my  mistress  is  tlio  swcolost,  lady  — \\nlord,  lord!  wiumi  \"twas  a,  little  prating  thing  —  o.  tlun-e \\nis  a.  iiobloman  in  town,  one  paris,  that  would  lain  lay \\nknit\\'c  aboard;  but  she,  good  soul,  had  as  lieve  sei\\'  a  toad, \\na  very  toad,  as  sec  him.  i  anger  her  sometimes,  and \\nt(>ll  her  that  paris  is  the  properor  man;  but.  til  warrant \\nyou,  when  i  say  so,  she  looks  as  pale  as  any  elout  in  the \\nversal  world.  doth  not  rosemary  and  konieo  begin  both \\nwith  a.  hotter  ? \\n\\nkomeo.  ay,  nurse ;  what  of  that  ?  both  with  an  r. \\n\\nnurse.  ah,  mocker!  that\\'s  the  dog\\'s  name;  \\\\\\\\  is  for \\nthe — no,  i  know  it  begins  with  sonu^  other  letter  —  and \\nshe  hath  the  jjrettiest  sententious  of  it,  of  you  and  rose- \\nmary, that  it  would  do  you  good  to  hear  it. \\n\\nboweo.  counneud  nu\\'  to  thy  lady. \\n\\nnurse.  ay,  a  thousand  times.  —  \\\\_exlt  homco.\\']    pi>ter ! \\n\\npeter.  anon ! \\n\\nnurse.  before,  and  apace.  [a\\'.reioit. \\n\\nscene  v.     c<tpiih\\'f\\'\\'s  orehdrd. \\n\\nenter  avxav.w \\n\\njuliet.  the    eloek  struek   nine  when  t   did   send  the \\nnurse  ; \\nin  half  an  hour  she  promis\\'d  to  return. \\nterehanee  she  cannot  meet  him;  that\\'s  not  so. \\n(),  she  is  lame !  love\\'s  heralds  should  be  thoughts. \\n\\n\\nliomko  and  juliet.  61 \\n\\nwhich  ten  times  faster  glide  than  the  sun\\'s  beams \\n\\ndriving  back  shadows  over  lowering  hills ; \\n\\ntherefore  do  nimble-pinion\\'d  doves  draw  love, \\n\\nand  therefore  hath  the  wind-swift  cupid  wings. \\n\\nnow  is  the  sun  upon  the  highniost  h\\'u \\n\\nof  tills  day\\'s  journey,  and  ivoiii  nine  till  twelve \\n\\njs  three  long  hours,  ycit  she  is  not  come. \\n\\nhad  she  affections  and  warm  youthful  ijlood, \\n\\nshe  would  be  as  swil\\'t  in  motion  as  a  ball ; \\n\\nmy  words  would  bandy  her  to  my  sweet  love, \\n\\nand  his  to  me  : \\n\\nbut  old  folks,  many  feign  as  they  were  dead; \\n\\nunwieldy,  slow,  heavy  and  pale  as  lead. — \\n\\nenter  nurse  and  pktkh. \\n\\no  god,  she  eom(!s  !  —  0  hom\\'y  nurse,  wlia,t  news  ? \\nhast  thou  met  with  him  ?     send  thy  jiian  away. \\n\\nnume.  peter,  stay  at  the  gat(;.  [icxlt  peter. \\n\\njuliet.  now,  good  sweet  nurse,  —  0  lord,  wliy  look\\'st \\nthou  sad  ? \\nthough  news  be  sad,  yet  tell  them  merrily; \\nif  good,  thou  sham\\'st  the  music  of  sweet  news \\nby  playing  it  to  me  with  so  sour  a  face. \\n\\nnurse.  i  am  aweary,  give  me  leave  awhile, \\nfie,  how  my  bones  ache  !  what  a  jaunt  have  i  had  ! \\n\\njallct.  i  would  thou  hadst  my  bones,  and  i  thy  news. \\nnay,  come,  i  pray  thee,  speak;  good,  good  nurse,  speak. \\n\\n\\n02  eomeo  and  juliet. \\n\\nnurse.  jesu,  wliat  haste  ?  can  yon  not  stay  awhile  ? \\ndo  yon  not  see  that  i  am  ont  of  breath  ? \\n\\njuliet.  how  art  thon  ont  of  breath,  when  thon  hast \\nbreath \\nto  say  to  me  that  thon  art  ont  of  breath  ? \\nthe  excnse  that  thou  dost  make  in  this  delay \\nis  longer  than  the  tale  thou  dost  excnse. \\nis  thy  news  good,  or  bad  ?  answer  to  that ; \\nsay  either,  and  i\\'ll  stay  the  circumstance. \\nlet  me  be  satisfied,  is\\'t  good  or  bad  ? \\n\\nnurse.  well,  you  have  made  a  simple  choice;  yon  know \\nnot  how  to  choose  a  man.  romeo  !  no,  not  he ;  though \\nhis  face  be  better  than  any  man\\'s,  yet  his  leg  excels  all \\nmen\\'s ;  and  for  a  hand,  and  a  foot,  and  a  bod}\\',  though \\nthej\"-  be  not  to  be  talked  on,  yet  they  are  past  compare : \\nhe  is  not  the  flower  of  courtesy,  but,  i\\'ll  warrant  him,  as \\ngentle  as  a  lamb.  go  thy  waj^s,  wench ;  serve  god. \\nwhat,  have  you  dined  at  home  ? \\n\\njuliet.  no,  no  ;  but  all  this  did  i  know  before. \\navhat  says  he  of  our  marriage  ?  what  of  that  ? \\n\\nnurse.  lord,  how  my  head  aches  !  what  a  head  have  i ! \\nit  beats  as  it  would  fall  in  twenty  pieces. \\n]\\\\ry  back  o\\'  t\\'other  side,  —  0,  my  back,  my  back ! \\nl>oshrew  your  heart  for  sending  me  about, \\nto  catch  my  death  with  jaunting  up  and  down  ! \\n\\njuliet.  v  faith,  i  am  sorry  that  thou  art  not  well. \\nsweet,  sweet,  sweet  nurse,  tell  me,  what  says  my  love  ? \\n\\n\\nromeo  and  juliet.  gg \\n\\nnurse.  your  love  says,  like  an  honest  gentleman, \\nand  a  courteous,  and  a  kind,  and  a  handsome, \\nand,  i  warrant,  a  virtuous,  — where  is  your  mother  ? \\n\\njuliet.  where  is  my  mother !  why,  she  is  within  • \\nwhere  should  she  be  ?     how  oddly  thou  repliest ! \\n\\'your  love  says,  like  an  honest  gentleman. \\nwhere  is  your  mother  ?  \\' \\n\\nnurse.  0  god\\'s  lady  dear  ! \\n\\nare  you  so  hot  ?  marry,  come  up,  i  trow  ; \\nis  this  the  poultice  for  my  aching  bones  ? \\nhenceforward  do  your  messages  yourself. \\njuliet.  here\\'s  such  a  coil!  — come,  what  says  romeo? \\nnurse.  have  you  got  leave  to  go  to  shrift  to-day  ? \\njuliet.  i  have. \\n\\nnurse.  then  hie  you  hence  to  friar  laurence\\'  cell ; \\nthere  stays  a  husband  to  make  you  a  wife. \\nnow  comes  the  wanton  blood  up  in  your  cheeks, \\nthey\\'ll  be  in  scarlet  straight  at  any  news. \\nhie  you  to  church  ;  i  must  another  way. \\nto  fetch  a  ladder,  by  the  which  your  love \\nmust  climb  a  bird\\'s  nest  soon  when  it  is  dark  ; \\ni  am  the  drudge,  and  toil  in  your  delight. \\ngo ;  i\\'ll  to  dinner  :  hie  you  to  the  cell. \\njuliet.  hie  to  high  fortune  !— honest  nurse,  farewell. \\n\\n\\\\exeunt. \\n\\n\\n64  eomeo  and  juliet. \\n\\nscene  vi.     friar  laurence^s  cell. \\nenter  friar  laurence  and  romeo. \\n\\nfriar  laurence.  so  smi]e  the  heavens  upon  this  holy \\nact \\nthat  after  hours  with  sorrow  chide  us  not ! \\n\\nromeo.  amen,  amen  !  but  come  what  sorrow  can, \\nit  cannot  countervail  the  exchange  of  joy \\nthat  one  short  minute  gives  me  in  her  sight. \\ndo  thou  hut  close  our  hands  with  holy  words, \\nthen  love-devouring  death  do  what  he  dare, \\nit  is  enough  i  may  but  call  her  mine. \\n\\nfriar  laurence.  these  violent  delights  have  violent \\nends, \\nand  in  their  triumph  die,  like  fire  and  powder. \\nwhich  as  they  kiss  consume  •  the  sweetest  honey \\nis  loathsome  in  his  own  deliciousness. \\nand  in  the  taste  confounds  the  appetite. \\ntherefore  love  moderately ;  long  love  doth  so  : \\ntoo  swift  arrives  as  tardy  as  too  slow. \\n\\nenter  juliet. \\n\\nhere  comes  the  lady.     0,  so  light  a  foot \\nwill  ne\\'er  wear  out  the  everlasting  flint ! \\na  lover  may  bestride  the  gossamer \\nthat  idles  in  the  wanton  summer  air, \\nand  yet  not  fall ;  so  light  is  vanity. \\n\\n\\nbomeo  and  juliet.  65 \\n\\njuliet.  good  even  to  my  ghostly  confessor. \\n\\nfriar  laurence.  komeo  shall  thank   thee,  daughter, \\nfor  us  both. \\n\\njuliet.  as  much  to  him,  else  is  his  thanks  too  much, \\n\\nromeo.  ah,  juliet,  if  the  measure  of  thy  joy \\nbe  heap\\'d  like  mine  and  that  thy  skill  de  more \\nto  blazon  it,  then  sweeten  with  thy  breath \\nthis  neighbor  air,  and  let  rich  music\\'s  tongue \\nunfold  the  imagin\\'d  happiness  that  both \\neeceive  in  either  by  this  dear  encounter. \\n\\njuliet.  conceit,  more  rich  in  matter  than  in  words, \\nbrags  of  his  substance,  not  of  ornament. \\nthey  are  but  beggars  that  can  count  their  worth ; \\nbut  my  true  love  is  grown  to  such  excess \\ni  cannot  sum  up  half  my  sum  of  wealth. \\n\\nfriar  laurence.  come,  come  with  me,  and  we  will  make \\nshort  work ; \\nfor,  by  your  leaves,  you  shall  not  stay  alone \\ntill  holy  church  incorporate  two  in  one.  [_exeimt. \\n\\n\\nact   iii. \\n\\nscene  i.     a  public  place. \\n\\nenter  mekcutio,  benvolio,  page,  and  servants. \\n\\nbenvolio.  i  pi-ay  thee,  good  merciitio,  let\\'s  retire : \\nthe  day  is  hot,  the  capulets  abroad, \\nand  if  we  meet  we  shall  not  scape  a  brawl ; \\nfor  now,  these  hot  days,  is  the  mad  blood  stirring. \\n\\nmercutio.  thou  art  like  one  of  tliose  fellows  that  when \\nhe  enters  the  confines  of  a  tavern  claps  me  his  sword \\nupon  the  table,  and  says  \\'god  send  me  no  need  of  thee!\\' \\nand  by  the  operation  of  the  second  cup  draws  hiui  on  the \\ndrawer,  when. ind^ed^there  is  no  need. \\n\\nbenvolio.  am  i  like  such  a  fellow  ? \\n\\nmercutio.  come,  come,  thou  art  as  hot  a  jack  in  thy \\nmood  as  any  in  italy,  and  as  soon  moved  to  be  moody, \\nand  as  soon  moody  to  be  moved. \\n\\nbenvolio.  and  what  to  ? \\n\\nmercutio.  nay,  an  there  were  two  such,  we  should \\nhave  none  shortly,  for  one  would  kill  the  other.  thou  ! \\nwhy,  thou  wilt  quarrel  with  a  num  that  hath  a  hair \\nmore,  or  a  hair  less,  in  his  beard  than  thou  hast.  thou \\nwilt  quarrel  with  a  man  for  cracking  nuts,  luiving  no \\nother  reason  but  because  thou  hast  hazel   eyes ;  what \\n\\n66 \\n\\n\\nromeo  and  juliet.  67 \\n\\neye  but  such  an  eye  would  spy  out  such  a  quarrel  ? \\nthy  head  is  as  full  of  quarrels  as  au  egg  is  full  of  meat, \\nand  yet  thy  head  hath  been  beaten  as  addle  as  an  egg \\nfor  quarrelling.  thou  hast  quarrelled  with  a  man  for \\ncoughing  in  the  street,  because  he  hath  wakened  thy  dog \\nthat  hath  lain  asleep  in  the  sun.  didst  thou  not  fall  out \\nwith  a  tailor  for  wearing  his  new  doublet  before  easter  ? \\nwith  another,  for  tying  his  new  shoes  with  old  riband  ? \\nand  yet  thou  wilt  tutor  me  from  quarrelling ! \\n\\nbenvolio.  an  i  were  so  apt  to  quarrel  as  thou  art,  any \\nman  should  buy  the  fee-simple  of  my  life  for  an  hour \\nand  a  quarter. \\n\\nmercutio.  the  fee-simple  !     0  simj^le ! \\n\\nbenvolio.  by  my  head,  here  come  the  capulets. \\n\\nmercutio.  by  my  heel,  i  care  not. \\n\\nenter  tybalt  and  others. \\n\\ntybalt.  follow  me  close,  for  i  will  speak  to  them.  — \\ngentlemen,  good  den ;  a  word  with  one  of  you. \\n\\nmercutio.  and  but  one  word  with  one  of  us  ?  couple \\nit  with  something,  make  it  a  word  and  a  blow. \\n\\ntybalt.  you  shall  find  me  apt  enough  to  that,  sir,  an \\nyou  will  give  me  occasion. \\n\\nmercutio.  could  you  not  take  some  occasion  without \\ngiving  ? \\n\\ntybalt.  mercutio,  thou  consort\\'st  with  romeo,  — \\n\\nmercutio.  consort !  what,  dost  thou  make  us  minstrels  ? \\n\\n\\n68  romko  and  juliet. \\n\\nan  thou  make  minstrels  of  ns,  look  to  hear  nothing  but \\ndiscords  :  liere\\'s  my  fiddlestick ;  here\\'s  that  shall  make \\nyou  dance.     zounds,  consort ! \\n\\nbenvollo.  we  talk  here  in  the  public  haunt  of  men. \\neither  withdraw  unto  some  private  place, \\nor  reason  coldly  of  your  grievances, \\nor  else  depart ;  here  all  eyes  gaze  on  ns. \\n\\nmercutlo.  men\\'s  eyes  were  made  to  look,  and  let  them \\ngaze ; \\ni  will  not  budge  for  no  man\\'s  pleasure,  i. \\n\\nentei\\'  romko. \\n\\ntyhalt.  well,  peace  be  with  you,  sir;  here  comes  my \\nman. \\n\\nmercutlo.  \\'\\\\^\\\\\\\\t  i\\'ll  be  hang\\'d,  sir,  if  he  wear  your  livery. \\nmarry,  go  before  to  field,  he\\'ll  be  your  follower ; \\nyour  worship  in  that  sense  may  call  him  man. \\n■  tybalt.  romeo,  the  hate  i  bear  thee  can  afford \\nno  better  term  than  this,  —  thou  art  a  villain. \\n\\nromeo.  tybalt,  the  reason  that  i  hav^e  to  love  thee \\ndoth  much  excuse  the  appertaining  rage \\nto  such  a  greeting.     villain  am  i  none ; \\ntherefore  farewell :  i  see  thou  know\\'st  me  not. \\n\\nti/halt.  boy,  this  shall  not  excuse  the  injuries \\nthat  thou  hast  done  me  ;  therefore  turn  and  drat.- \\n\\nbomeo.  i  do  protest,  1  never  injur\\'d  thee, \\nl)ut  love  thee  better  than  thou  canst  devise, \\n\\n\\nromeo  and  juliet.  gg \\n\\ntill  thou  shalt  know  the  reason  of  my  love ; \\nand  so,  good  capulet,  —  which  name  i  tender \\nas  dearly  as  my  own,  —  be  satisfied. \\n\\nmercutio.  0,  calm,  dishonorable,  vile  submission ! \\na  la  stoccata  carries  it  away.  [draws. \\n\\ntybalt,  you  rat-catcher,  will  you  walk  ? \\n\\ntybalt.  what  wouldst  thou  have  with  me  ? \\n\\nmercutio.  good  king  of  cats,  nothing  but  one  of  your \\nnine  lives ;  that  i  mean  to  make  bold  withal,  and,  as  you \\nshall  use  me  hereafter,  dry-beat  the  rest  of  the  eight. \\nwill  you  pluck  your  sword  out  of  his  pilcher  by  the  ears  ? \\nmake  haste,  lest  mine  be  about  your  ears  ere  it  be  out. \\n\\ntybalt.  i  am  for  you.  [drawin;/^ \\n\\n■   romeo.  gentle  mercutio,  put  thy  rapier  up. \\nmercutio.  come,  sir,  your  passado.  \\\\_theyfght. \\n\\nromeo.  draw,  benvolio;  beat  down  their  weapons. \\n\\ngentlemen,  for  shame,  forbear  this  outrage ! \\ntybalt,  mercutio,  the  prince  expressly  hath \\nforbid  this  bandying  in  verona  streets. \\nhold,  tybalt !  good  mercutio  ! \\n\\n\\\\_exeunt  tybalt  and  ms ^artiso/as. \\nmercutio.  i  am  hurt. \\n\\na  plague  o\\'  both  your  houses  i     i  am  sped. \\nis  he  gone,  and  hath  nothing  ? \\nbenvolio.  what,  art  thou  hurt  ? \\n\\nmercutio.   ay,   ay,  a   scratch,  a  scratch ; \\'  marry,   \\'tis \\nenough.  — \\n\\n\\n70  liomeo  and  juliet. \\n\\nwhere  is  my  page  ?     go,  villain,  fetch  a  surgeon. \\n\\n\\\\_exit  page. \\n\\nborneo.  courage,  man  ;  the  hurt  cannot  be  much. \\n\\n3l>rcutio.  ko,  \\'tis  not  so  deep  as  a  well,  nor  so  wide  as \\na  church-door ;  but  \\'tis  enough,  \\'twill  serve  :  ask  for  me \\nto-morrow,  and  you  shall  find  ine  a  grave  man.  i  am \\npeppered,  i  warrant,  for  this  world.  —  a  plague  o\\'  both \\nyour  houses!  —  zounds,  a  dog,  a  rat,  a  mouse,  a  cat,  to \\nscratch  a  man  to  death !  a  braggart,  a  rogue,  a  villain, \\nthat  fights  by  the  book  of  arithmetic!  —  why  the  devil \\ncame  you  between  us  ?     i  was  hurt  under  your  arm. \\n\\nromeo.  i  thought  all  for  the  best. \\n\\nmercutio.  help  me  into  some  house,  benvolio, \\nor  i  shall  faint.  —  a  plague  o\\'  both  your  houses  ! \\nthey  have  made  worms\\'  meat  of  me.     i  have  it, \\nand  soundly  too  ;  your  houses  ! \\n\\n\\\\_exeunt  mercutio  and  benvolio. \\n\\nborneo.  this  gentleman,  the  prince\\'s  near  ally, \\nmy  very  friend,  hath  got  his  mortal  hurt \\nin  my  behalf;  my  reputation  stain\\'d \\nwith  tybalt\\'s  slander,  —  tybalt,  that  an  hour \\nhath  been  my  cousin  !  —  0  sweet  juliet, \\nthy  beauty  hath  made  me  effeminate, \\nand  in  my  temper  soften\\'d  valor\\'s  steel ! \\n\\nbe-enter  benvolio. \\nbenvolio.  0  eomeo,  eomeo,  brave  mercutio\\'s  dead ! \\n\\n\\nromeo  and  juliet.  1\\\\ \\n\\nthat  gallant  spirit  hath  aspir\\'cl  the  clouds, \\nwhich  too  untimely  here  did  scorn  the  earth. \\n\\nborneo.  this  day\\'s_  black  fate  on  more  days  doth  de- \\npend; \\nthis  but  begins  the  woe  others  must  end. \\n\\nbenvolio.  here  conies  the  furious  tybalt  back  again. \\n\\nre-enter  tybalt. \\n\\nromeo.  alive,  in  triumph  !  and  mercutio  slain ! \\naway  to  heaven,  respective  lenity. \\nand  fire-eyed  fury  be  my  conduct  now !  — \\nnow,  tybalt,  take  the  villain  back  again \\nthat  late  thou  gavest  me  !  for  mercutio\\'s  soul \\nis  but  a  little  way  above  our  heads, \\nstaying  for  thine  to  keep  him  company ; \\neither  thou,  or  t,  or  both,  must  go  with  him. \\n\\nt^jhalt.  thou,  wretched   boy,  that  didst  consort  him \\nhere \\nshalt  with  him  hence. \\n\\nborneo.  this  shall  determine  that. \\n\\n[  thetj  fight ;  tybalt  falls. \\n\\nbenvolio.  komeo,  a^vay,  be  gone  ! \\nthe  citizens  are  up,  and  tybalt  slain. \\nstand  not  amaz\\'d;  the  prince  will  doom  thee  death, \\nif  thou  art  taken.     hence,  be  gone,  away ! \\n\\nromeo.  0,  i  am  fortune\\'s  fool ! \\n\\nbenvolio.  why  dost  thou  stay  ? \\n\\n[^exit  romeo. \\n\\n\\n72  liomeo  and  juliet. \\n\\nenter  citizens,  etc. \\n\\n1  citizen.  wliich  way  ran  he  that  kill\\'d  mercutio  ? \\ntybalt,  that  murderer,  which  way  ran  he  ? \\n\\nbenvolio.  there  lies  that  tybalt. \\n\\n1  citizen.  up,  sir,  go  with  nie ; \\n\\ni  charge  thee  in  the  prince\\'s  name,  obey. \\n\\nenter  prince,  attended ;  moxtague,  capulet,  their \\nwives,  and  others. \\n\\nprince.  where  are  the  vile  beginners  of  this  fray  ? \\n\\nbenvolio.  0  noble  prince,  i  can  discover  all \\nthe  unlucky  manage  of  this  fatal  brawl. \\nthere  lies  the  man,  slain  by  young  romeo, \\nthat  slew  thy  kinsman,  brave  mercutio. \\n\\nlady  capulet.   tybalt,  my  cousin !   0   my  brother\\'s \\nchild! \\n0  prince !  0  cousin  !  husband !  0,  the  blood  is  spilt \\nof  my  dear  kinsman!  —  prince,  as  thou  art  true, \\npor  blood  of  ours  shed  blood  of  montague. \\n0  cousin,  cousin ! \\n\\nprince.  benvolio,  who  began  this  bloody  fray  ? \\n\\nbenvolio.  tybalt,  here  slain,  whom  romeo\\'s  hand  did \\nslay ; \\nromeo  that  spoke  him  fair  bade  him  bethink \\nhoav  nice  the  quarrel  was,  and  urg\\'d  withal \\nyour  high  displeasure  :  all  this,  uttered \\nwith  gentle  breath,  calm  look,  knees  humbly  bow\\'d. \\n\\n\\n/^ \\n\\n\\nphoto  by  byron \\n\\n\\nbomeo  and  juliet.  73 \\n\\ncould  not  take  truce  with  the  unruly  spleen \\n\\nof  tybalt  deaf  to  peace,  but  that  he  tilts \\n\\nwith  piercing  steel  at  bold  mercutio\\'s  breast. \\n\\nwho,  all  as  hot,  turns  deadly  point  to  point, \\n\\nand,  with  a  martial  scorn,  with  one  hand  beats \\n\\ncold  death  aside,  and  with  the  other  sends \\n\\nit  back  to  tybalt,  whose  dexterity \\n\\nretorts  it.     romeo  he  cries  aloud, \\n\\n\\'  hold,  friends !  friends,  part ! \\'  and  swifter  than  his  tongue, \\n\\nhis  agile  arm  beats  down  their  fatal  points. \\n\\nand  \\'twixt  them  rushes ;  underneath  whose  arm \\n\\nan  envious  thrust  from  tybalt  hit  the  life \\n\\nof  stout  mercutio,  and  then  tybalt  fled  ; \\n\\nbut  by  and  by  comes  back  to  romeo, \\n\\nwho  had  but  newly  entertain\\'d  revenge, \\n\\nand  to\\'t  they  go  like  lightning,  for,  ere  i \\n\\ncould  draw  to  part  them,  was  stout  tybalt  slain. \\n\\nand,  as  he  fell,  did  romeo  turn  and  fly. \\n\\nthis  is  the  truth,  or  let  benvolio  die. \\n\\nlady  capulet.  he  is  a  kinsman  to  the  montague  ; \\naffection  makes  him  false,  he  speaks  not  true  : \\nsome  twenty  of  them  fought  in  this  black  strife. \\nand  all  those  twenty  could  but  kill  one  life. \\ni  beg  for  justice,  which  thou,  prince,  must  give  ; \\nromeo  slew  tybalt,  romeo  must  not  live. \\n\\nprince.  romeo  slew  him,  he  slew  mercutio ; \\nwho  now  the  price  of  his  dear  blood  doth  owe  ? \\n\\n\\n74  eomeo  and  juliet. \\n\\nmontague.   not    komeo,    prince,   he   was    mercutio\\'s \\nfriend ; \\nhis  fault  concludes  but  what  the  law  should  end, \\nthe  life  of  tybalt. \\n\\nprince.  and  for  that  offence \\n\\nimmediately  we  do  exile  him  hence. \\ni  have  an  interest  in  your  hate\\'s  proceeding, \\nmy  blood  for  your  rude  brawls  doth  lie  a-bleeding ; \\nbut  i\\'ll  amerce  you  with  so  strong  a  fine \\nthat  you  shall  all  repent  the  loss  of  mine. \\ni  will  be  deaf  to  pleading  and  excuses  ; \\nnor  tears  nor  prayers  shall  purchase  out  abuses  : \\ntherefore  use  none  ;  let  romeo  hence  in  haste, \\nelse,  when  he\\'s  found,  that  hour  is  his  last. \\nbear  hence  this  body  and  attend  our  will ; \\nmercy  but  murders,  pardoning  those  that  kill. \\n\\n\\n\\\\_exeunt. \\n\\n\\nscene  ii.     capulefs  orchard. \\n\\nenter  juliet. \\n\\njuliet.  gallop  apace,  you  fiery-footed  steeds, \\ntowards  phoebus\\'  lodging ;  such  a  wagoner \\nas  phaeton  would  whip  you  to  the  west, \\nand  bring  in  cloudy  night  immediately.  — \\nspread  thy  close  curtain,  love- performing  night. \\nthat  runaways\\'  eyes  may  wink,  and  romeo \\n\\n\\nbomeo  and  juliet.  75 \\n\\nleap  to  these  arms,  untalk\\'d  of  and  unseen  — \\n\\nlovers  can  see  to  do  their  amorous  rites \\n\\nby  their  own  beauties  ;  or,  if  love  be  blind, \\n\\nit  best  agrees  with  night.  — come,  civil  night, \\n\\nthou  sober-suited  matron,  all  in  black. \\n\\nand  learn  me  how  to  lose  a  winning  match, \\n\\nplay\\'d  for  a  pair  of  stainless  maidenhoods. \\n\\nhood  my  unmann\\'d  blood,  bating  in  my  cheeks, \\n\\nwith  thy  black  mantle,  till  strange  love  grown  bold \\n\\nthink  true  love  acted  simple  modesty. \\n\\ncome,  night,  come,  romeo,  come,  thou  day  in  night ; \\n\\nfor  thou  wilt  lie  upon  the  wings  of  night \\n\\nwhiter  than  new  snow  on  a  raven\\'s  back. \\n\\ncome,  gentle  night,  come,  loving,  black-brow\\'d  night. \\n\\ngive  me  my  eomeo ;  and,  when  he  shall  die. \\n\\ntake  him  and  cut  him  out  in  little  stars. \\n\\nand  he  will  make  the  face  of  heaven  so  fine \\n\\nthat  all  the  world  will  be  in  love  with  night \\n\\nand  pay  no  worship  to  the  garish  sun.  — \\n\\n0,  i  have  bought  the  mansion  of  a  love. \\n\\nbut  not  possess\\'d  it,  and,  though  i  am  sold. \\n\\nnot  yet  enjoy\\'d.     so  tedious  is  this  day \\n\\nas  is  the  night  before  some  festival \\n\\nto  an  impatient  child  that  hath  new  robes \\n\\nand  may  not  wear  them.  —  0,  here  comes  my  nurse. \\n\\nand  she  brings  news ;  and  every  tongue  that  speaks \\n\\nbut  romeo\\'s  name  speaks  heavenly  eloquence.  — \\n\\n\\n76  romeo  and  juliet. \\n\\nenter  nurse,  with  cords. \\nnow,  nurse,,  what  news  ?     what  hast  thou  there  ?  the \\n\\ncords \\nthat  romeo  bid  thee  fetch  ? \\n\\nxurse.  ay,  ay,  the  cords. \\n\\n\\\\_throws  them.  down. \\njuliet.  ay  me  !  what  news  ?  why  dost  thou  wring  tliy \\n\\nhands  ? \\njiurse.    all,   well-a-day !    he\\'s   dead,   he\\'s    dead,    he\\'s \\ndead  ! \\nwe  are  undone,  lady,  we  are  undone  ! \\nalack  the  day  !  he\\'s  gone,  he\\'s  kill\\'d,  he\\'s  dead  ! \\njuliet.  can  heaven  be  so  envious  ? \\njs^urse.  romeo  can. \\n\\nthough  heaven  cannot.  —  0  romeo,  romeo  !  — \\nwho  ever  would  have  thought  it  ?  —  romeo  ! \\n\\njuliet.  what    devil   art  thou,  that  dost   torment   me \\nthus  ? \\nthis  torture  should  be  roar\\'d  in  dismal  hell. \\nhath  romeo  slain  himself  ?  say  thou  but  ay, \\nand  that  bare  vowel  /  shall  poison  move \\nthan  the  death-darting  eye  of  cockatrice  : \\ni  am  not  i,  if  there  be  such  an  /; \\nor  those  eyes  shut,  that  make  thee  answer  ay. \\nif  he  be  slain,  say  ay  ;  or  if  not,  no : \\nbrief  sounds  determine  of  my  weal  or  woe. \\n\\nxurse.  i  saw  the  wound,  i  saw  it  with  mine  eyes  — \\n\\n\\neomeo  and  juliet.  77 \\n\\ngod  save  the  mark !  — here  on  his  manly  breast : \\na  piteous  corse,  a  bloody  piteous  corse  ; \\npale,  pale  as  ashes,  all  bedaub\\'d  in  blood, \\nall  in  gore-blood ;  i  swounded  at  the  sight. \\n\\njicliet.  0,  break,  my  heart !  poor  bankrupt,  break  at \\nonce ! \\nto  prison,  eyes,  ne\\'er  look  on  liberty  ! \\nvile  earth,  to  earth  resign ;  end  motion  here, \\nand  thou  and  komeo  press  one  heavy  bier ! \\n\\nmcrse.  o  tybalt,  tybalt,  the  best  friend  i  had ! \\n0  courteous  tybalt !  honest  gentleman  ! \\nthat  ever  i  should  live  to  see  thee  dead ! \\n\\njuliet.  what  storm  is  this  that  blows  so  contrary  ? \\nis  eomeo  slaughter\\'d,  and  is  tybalt  dead  ? \\nmy  dear-lov\\'d  cousin,  and  my  dearer  lord  ? \\nthen,  dreadful  trumpet,  sound  the  general  doom  ! \\nfor  who  is  living,  if  those  two  are  gone  ? \\n\\nnurse.  tybalt  is  gone,  and  romeo  banished ; \\nromeo  that  kill\\'d  him,  he  is  banished. \\n\\njuliet.  0  god!  did  romeo\\'s  hand  shed  tybalt\\'s  blood? \\n\\nnurse.  it  did,  it  did ;  alas  the  day,  it  did  ! \\n\\njuliet.  o  serpent  heart,  hid  with  a  flowering  face ! \\ndid  ever  dragon  keep  so  fair  a  cave  ? \\nbeautiful  tyrant !  fiend  angelical ! \\ndove-feather\\'d  raven  !  wolfish-ravening  lamb ! \\ndespised  substance  of  divinest  show ! \\njust  opposite  to  what  thou  justly  seem\\'st, \\n\\n\\n78  liomeo  and  juliet. \\n\\na  damned  saint,  an  honorable  villain ! \\no  nature,  what  hadst  thou  to  do  in  hell, \\nwhen  thou  didst  bower  the  spirit  of  a  liend \\nin  mortal  paradise  of  such  sweet  flesh  ? \\navas  ever  book  containing  such  vile  matter \\n80  fairly  bound  ?     o,  that  deceit  should  dwell \\nin  such  a  gorgeous  palace  ! \\n\\nnurse.  there\\'s  no  trust, \\n\\nno  faith,  no  honesty  in  men  ;  all  perjur\\'d, \\nall  forsworn,  all  naught,  all  dissemblers.  — \\nah,  where\\'s  my  man  ?  give  me  some  aqua  vitse.  — \\nthese  griefs,  these  woes,  these  sorrows,  make  me  old. \\nshame  come  to  romeo  ! \\n\\njuliet.  blister\\'d  be  thy  tongue \\n\\nfor  such  a  wish  !  he  was  not  born  to  shame  : \\nupon  his  brow  shame  is  asham\\'d  to  sit ; \\n\"for  \\'tis  a  throne  where  honor  may  be  crown\\'d \\nsole  monarch  of  the  universal  earth. \\no,  what  a  beast  was  i  to  chide  at  him ! \\n\\nnurse.  will  you  speak  well  of  him  that  kill\\'d  your \\ncousin  ? \\n\\njuliet.  shall  i  speak  ill  of  him  that  is  my  husband?  — \\nah,  poor  my  lord,  what  tongue  shall  smooth  thy  name. \\nwhen  i,  thy  three-hours  wife,  have  mangled  it  ? \\nbut,  wherefore,  villain,  didst  thoii  kill  my  cousin  ? \\nthat  villain  cousin  would  have  kill\\'d  my  husband. \\nback,  foolish  tears,  back  to  your  native  spring; \\n\\n\\nromeo  and  juliet.  79 \\n\\nyour  tributary  drops  belong  to  avoe, \\n\\nwhich  you  mistaking  offer  up  to  joy. \\n\\nmy  husband  lives,  that  tybalt  would  have  slain ; \\n\\nand  tybalt\\'s  dead,  that  would  have  slain  my  husband : \\n\\nall  this  is  comfort ;  wherefore  weep  i  then  ? \\n\\nsome  word  there  was,  worser  than  tybalt\\'s  death, \\n\\nthat  murder\\'d  me.     i  would  forget  it  fain ; \\n\\nbut,  0,  it  presses  to  my  memory. \\n\\nlike  damned  guilty  deeds  to  sinners\\'  minds : \\n\\n*  tybalt  is  dead,  and  romeo  —  banished  ! \\' \\n\\nthat  \\'banished,\\'  that  one  word  \\'banished,\\' \\n\\nhath  slain  ten  thousand  tybalts.     tybalt\\'s  death \\n\\nwas  woe  enough,  if  it  had  ended  there  ; \\n\\nor,  if  sour  woe  delights  in  fellowship \\n\\nand  needly  will  be  rank\\'d  with  other  griefs. \\n\\nwhy  follow\\'d  not,  when  she  said  tybalt\\'s  dead, \\n\\nthy  father,  or  thy  mother,  nay,  or  both. \\n\\nwhich  modern  lamentation  might  have  mov\\'d  ? \\n\\nbut  with  a  rearward  following  tybalt\\'s  death, \\n\\nromeo  is  banished  !  —  to  speak  that  word, \\n\\nis  father,  mother,  tybalt,  romeo,  juliet, \\n\\nall  slain,  all  dead.     romeo  is  banished  ! \\n\\nthere  is  no  end,  no  limit,  measure,  bound. \\n\\nin  that  word\\'s  death ;  no  words  can  that  woe  sound.  — \\n\\nwhere  is  my  father,  and  my  mother,  nurse  ? \\n\\nnurse.  weeping  and  wailing  over  tybalt\\'s  corse. \\nwill  you  go  to  them  ?     i  will  bring  you  thither. \\n\\n\\n80  bomeo  and  juliet. \\n\\njuliet.  wash  they  his  avounds  with  tears ;  mine  shall \\nbe  spent, \\n\"when  theirs  are  dry,  for  romeo\\'s  banishment. \\ntake  np  those  cords.  —  poor  ropes,  you  are  beguil\\'d, \\nl)0th  you  and  i ;  for  romeo  is  exil\\'d : \\nhe  made  yoii  for  a  highway  to  my  bed ; \\nbut  i,  a  maid,  die  maiden-widowed. \\n\\nnurse.  hie  to  your  chamber  ;  i\\'ll  find  romeo \\nto  comfort  you ;  i  wot  well  avhere  he  is. \\nhark  ye,  your  romeo  will  be  here  at  night : \\ni\\'ll  to  him ;  he  is  hid  at  laurence\\'  cell. \\n\\njuliet.  0,  find  him !  give  this  ring  to  my  true  knight. \\nand  bid  him  come  to  take  his  last  farewell.         [_£jxeu7it. \\n\\nscene  iii.     friar  laurence\\'s  cell. \\n\\nenter  friar  laurence. \\n\\nfriar  laurence.  romeo,  come  forth  ;  come  forth,  thou \\nfea.rful  man : \\naffliction  is  enamour\\'d  of  thy  parts, \\nand  thou  art  wedded  to  calamity. \\n\\nenter  romeo. \\n\\nborneo.  father,  what  news  ?  what  is  the  prince\\'s  doom  ? \\navhat  sorrow  craves  acquaintance  at  my  hand, \\nthat  i  yet  know  not  ? \\n\\nfriar  laurence.  too  familiar \\n\\n\\nromeo  and  juliet.  3]^ \\n\\nis  my  dear  son  with  such  sour  company ; \\ni  bring  thee  tidings  of  the  prince\\'s  doom. \\nromeo.  what  less  than  doomsday  is  the  prince\\'s  doom  ? \\nfriar  laurence.  a  gentler  judgment  vanish\\'d  from  his \\nlips, \\nnot  body\\'s  death,  but  body\\'s  banishment. \\n\\nborneo.  ha,  banishment !  be  merciful,  say  death ; \\nfor  exile  hath  more  terror  in  his  look, \\nmuch  more  than  death :  do  not  say  banishment. \\n\\nfriar  laurence.  hence  from  verona  art   thou   ban- \\nished ; \\nbe  patient,  for  the  world  is  broad  and  wide. \\n\\nromeo.  there  is  no  world  without  verona  walls, \\nbut  purgatory,  torture,  hell  itself. \\nhence  banished  is  banish\\'d  from  the  world, \\nand  world\\'s  exile  is  death :  then  banished \\nis  death  misterm\\'d ;  calling  death  banishment \\nthou  cutt\\'st  my  head  off  with  a  golden  axe, \\nand  smil\\'st  upon  the  stroke  that  murders  me. \\n\\nfriar  laitrence.-o  deadly  sin!  0  rude  unthankfulness ? \\nthy  fault  our  law  calls  death  ;  but  the  kind  prince, \\ntaking  thy  part,  hath  rush\\'d  aside  the  law. \\nand  turn\\'d  that  black  word  death  to  banishment : \\nthis  is  dear  mercy,  and  thou  seest  it  not. \\n\\nromeo.  \\'tis  torture,  and  not  mercy :  heaven  is  here, \\nwhere  juliet  lives  ;  and  every  cat  and  dog \\nand  little  mouse,  every  unworthy  thing, \\n\\n\\n82  liomeo  and  juliet. \\n\\nlive  here  in  heaven  and  may  look  on  her, \\n\\nbut  romeo  may  not.     more  validity, \\n\\n]\\\\iore  honorable  state,  more  courtship  lives \\n\\nin  carrion-flies  than  romeo  :  they  may  seize \\n\\non  the  white  wonder  of  dear  juliet\\'s  hand \\n\\nand  steal  immortal  blessing  from  her  lips, \\n\\nwho,  even  in  pure  and  vestal  modesty. \\n\\nstill  blush,  as  thinking  their  own  kisses  sin ; \\n\\nbut  romeo  may  not ;  he  is  banished. \\n\\nthis  may  flies  do,  when  i  from  this  must  fly; \\n\\nthey  are  free  men,  but  i  am  banished. \\n\\nand  say\\'st  thou  yet  that, exile  is  not  death  ? \\n\\nhadst  thou  no  poison  mix\\'d,  no  sharp-ground  knife, \\n\\nno  sudden  mean  of  death,  though  ne\\'er  so  mean, \\n\\nbut  \\'  banished  \\'  to  kill  me  ?  —  banished  ! \\n\\n0  friar,  the  damned  use  that  word  in  hell ; \\n\\nhoavling  attends  it :  how  hast  thou  the  heart, \\n\\nbeing  a  divine,  a  ghostly  confessor, \\n\\na  sin-absolver,  and  my  friend  profess\\'d, \\n\\nto  mangle  me  with  that  word  \\'  banished  \\'  ? \\n\\nfriar  laurence.  thou  fond  mad  man,  hear  me  but  speak \\na  word. \\n\\nborneo.  0,  thou  wilt  speak  again  of  banishment. \\n\\nfriar  laurence.  i\\'ll  give  thee  armor  to  keep  off  that \\nword ; \\nadversity\\'s  sweet  milk,  philosophy. \\nto  comfort  thee,  though  thou  art  banished. \\n\\n\\nromeo  and  juliet.  83 \\n\\nborneo.  yet  banished  ?     hang  up  philosophy \\nunless  philosophy  can  make  a  juliet, \\ndisplant  a  town,  reverse  a  prince\\'s  doom, \\nit  helps  not,  it  prevails  not ;  talk  no  more. \\n\\nfriar  laurence.  0,  then  i  see  that  madmen  have  no\\' \\n\\nears. \\nromeo.  how  should  they,  when  that  wise  men  have \\n\\nno  eyes  ? \\nfriar  laurence.  let  me  dispute  with  thee  of  thy  es- \\ntate. \\nromeo.  thou  canst  not  speak  of  that  thou  dost  not \\nfeel. \\nwert  thou  as  young  as  i,  juliet  thy  love, \\nan  hour  but  married,  tybalt  murdered, \\ndoting  like  me  and  like  me  banished. \\nthen  mightst  thou  speak,  then  mightst  thou  tear   thy \\n\\nhair. \\nand  fall  upon  the  ground,  as  i  do  now. \\ntaking  the  measure  of  an  unmade  grave. \\n\\n[^knocking  vnthin. \\nfriar  laurence.    arise ;    one   knocks :    good    romeo, \\n\\nhide  thyself. \\nromeo.  not  i ;  unless  the  breath  of  heart-sick  groans \\nmist-like  infold  me  from  the  search  of  eyes. \\n\\n\\\\_knocklnf/. \\nfriar    laurence.    hark,    how    they   knock !  —  who\\'s \\nthere  ?  —  romeo,  arise  : \\n\\n\\n84  bomeo  and  juliet. \\n\\nthoii  wilt  be  taken.  —  stay  awhile  !  —  stand  np ; \\n\\n\\\\^knockin(/. \\neun  to  my  study.  —  by  and  by  !  —  god\\'s  will, \\nwhat  simpleness  is  this  !  —  i  come,  i  come  ! \\n\\n\\\\^k7ioca-iu;/. \\nwho  knocks  so  hard  ?  whence  come  you  ?  what\\'s  your \\nwill  ? \\nniirse.  [  withhi]  let  me  come  in,  and  you  shall  know \\nmy  errand ; \\ni  come  from  lady  juliet. \\n\\nfriar  laurence.  welcome,  then. \\n\\nenter  nurse. \\n\\nisfnrse.  0  holy  friar,  0,  tell  me,  holy  friar, \\nwhere  is  my  lady\\'s  lord,  where\\'s  eomeo  ? \\n\\nfriar  laurence.  there  on  the  ground,  with  his  own \\ntears  made  drunk. \\n\\nnurse.  0,  he  is  even  in  my  mistress\\'  case. \\njust  in  her  case  ! \\n\\nfriar  laurence.  0  woful  sympathy  ! \\npiteous  predicament ! \\n\\nnurse.  even  so  lies  she, \\n\\nblubbering  and  weeping,  weeping  and  blubbering. — \\nstand  up,  stand  up ;  stand,  an  you  be  a  man  : \\nfor  juliet\\'s  sake,  for  her  sake,  rise  and  stand. \\nwhy  should  you  fall  into  so  deep  an  0  ? \\n\\nromeo.  nurse  ! \\n\\n\\nbomeo  and  juliet.  85 \\n\\nnurse.  ah  sir  !  ah  sir!     well,  death\\'s  the  end  of  all. \\n\\nborneo.  spak\\'st  thou  of  juliet  ?  hoav  is  it  with  her  ? \\ndoth  she  not  think  me  an  old  murderer, \\nnow  i  have  stain\\'d  the  childhood  of  our  joy \\nwith  blood  remov\\'d  but  little  from  her  own  ? \\nwhere  is  she  ?  and  how  doth  she  ?  and  what  says \\nmy  conceal\\'d  lady  to  our  cancell\\'d  love  ? \\n\\nnui\\'se.  0,  she  says  nothing,  sir,  but  weeps  and  weeps ; \\nand  now  falls  on  her  bed ;   and  then  starts  up, \\nand  tybalt  calls ;  and  then  on  eomeo  cries, \\nand  then  down  falls  again. \\n\\nromeo.  as  if  that  name, \\n\\nshot  from  the  deadly  level  of  a  gun, \\ndid  murder  her ;  as  that  name\\'s  cursed  hand \\nmurdered  her  kinsman.  —  0,  tell  me,  friar,  tell  me. \\nin  what  vile  part  of  this  anatomy \\ndoth  my  name  lodge  ?  tell  me,  that  i  may  sack \\nthe  hateful  mansion.  \\\\_draioin(j  his  sivord. \\n\\nfriar  laurence.  hold  thy  desperate  hand  ! \\n\\nart  thou  a  man  ?  thy  form  cries  out  thou  art : \\nthy  tears  are  womanish  ;  thy  wild  acts  denote \\nthe  unreasonable  fury  of  a  beast : \\nunseemly  woman  in  a  seeming  man  ! \\nor  ill-beseeming  beast  in  seeming  both ! \\nthou  hast  amaz\\'d  me  ;  by  my  holy  order, \\ni  thought  thy  disposition  better  temper\\'d. \\nhast  thou  slain  tybalt  ?  wilt  thou  slay  thyself  ? \\n\\n\\n86 \\n\\n\\nbomeo  and  juliet. \\n\\n\\nand  slay  thy  lady  too  tliat  lives  in  tliee, \\n\\nby  doing  damned  hate  npon  thyself  ? \\n\\nwhy  rail\\'st  thou  on  thy  birth,  the  heaven,  and  earth  ? \\n\\nsince  birth  and  heaven  and  earth,  all  three  do  meet \\n\\nin  thee  at  once,  which  thou  at  once  wouldst  lose. \\n\\nfie,  fie,  thou  sham\\'st  thy  shape,  thy  love,  thy  wit, \\n\\nwhich,  like  a  usurer,  abound\\'st  in  all, \\n\\nand  usest  none  in  that  true  use  indeed \\n\\nwhich  should  bedeck  thy  shape,  thy  love,  thy  wit. \\n\\nthy  noble  shape  is  but  a  form  of  wax, \\n\\ndigressing  from  the  valor  of  a  man  ; \\n\\nthy  dear  love  sworn,  but  hollow  perjury. \\n\\nkilling  that  love  which  thou  hast  vow\\'d  to  cherish ; \\n\\nthy  wit,  that  ornament  to  shape  and  love. \\n\\nmisshapen  in  the  conduct  of  them  both. \\n\\nlike  powder  in  a  skilless  soldier\\'s  flask, \\n\\nis  set  a-fire  by  thine  own  ignorance. \\n\\nand  thou  dismember\\' d  with  thine  own  defence. \\n\\nwhat,  rouse  thee,  man !  thy  juliet  is  alive, \\n\\nfor  whose  dear  sake  thou  wast  but  lately  dead ; \\n\\nthere  art  thou  happy  :  tybalt  would  kill  thee, \\n\\nbut  thou  slew\\'st  tybalt ;  there  art  thou  happy  too : \\n\\nthe  law  that  threaten\\'d  death  becomes  thy  friend \\n\\nand  turns  it  to  exile  ;  there  art  thou  happy : \\n\\na  pack  of  blessings  lights  upon  thy  back  ; \\n\\nhappiness  courts  thee  in  her  best  array ; \\n\\nbut  like  a  misbehav\\'d  and  sullen  wench. \\n\\n\\nromeo  and  juliet.  87 \\n\\nthou  pout\\'st  upon  thy  fortune  and  thy  love. \\ntake  heed,  take  heed,  for  such  die  miserable. \\ngo,  get  thee  to  thy  love,  as  was  decreed. \\nascend  her  chamber,  hence  and  comfort  her  : \\nbut  look  thou  stay  not  till  the  watch  be  set, \\nfor  then  thou  canst  not  pass  to  mantua ; \\nwhere  thou  shalt  live,  till  we  can  find  a  time \\nto  blaze  your  marriage,  reconcile  your  friends, \\nbeg  pardon  of  the  prince,  and  call  thee  back \\nwith  twenty  hundred  thousand  times  more  joy \\nthan  thou  went\\'st  forth  in  lamentation.  — \\ngo  before,  nurse ;  commend  me  to  thy  lady, \\nand  bid  her  hasten  all  the  house  to  bed, \\nwhich  heavy  sorrow  makes  them  apt  unto  : \\neomeo  is  coming. \\n\\nnurse.  0  lord,  i  could  have  stay\\'d  here  all  the  night \\nto  hear  good  counsel ;  o,  what  learning  is  !  — \\nmy  lord,  i\\'ll  tell  my  lady  you  will  come. \\n\\nromeo.  do  so,  and  bid  my  sweet  prepare  to  chide. \\n\\nnurse.  here,  sir,  a  ring  she  bid  me  give  you,  sir ; \\nhie  you,  make  haste,  for  it  grows  very  late.  [_exit. \\n\\nromeo.  how  well  my  comfort  is  reviv\\'d  by  this  ! \\n\\nfriar   laurence.    go   hence ;    good   night ;   and    here \\nstands  all  your  state  : \\neither  be  gone  before  the  watch  be  set, \\nor  by  the  break  of  day  disguis\\'d  from  hence. \\nsojourn  in  mantua ;  i\\'ll  find  out  your  man, \\n\\n\\n88  bomeo  and  juliet. \\n\\nand  lie  shall  signify  from  time  to  time \\n\\nevery  good  hap  to  you  that  chances  here. \\n\\ngive  me  thy  hand ;  \\'tis  late  :  farewell ;  good  night. \\n\\nromeo.  but  that  a  joy  past  joy  calls  out  on  me, \\nit  were  a  grief,  so  brief  to  part  with  thee. \\nfarewell.  [exeunt. \\n\\nscene  iv.     a  room  in  ca^ulet^s  house. \\n\\nenter  capulet,  lady  capulet,  and  paris. \\n\\n-   capulet.  things  have  fallen  out,  sir,  so  unluckily, \\nthat  we  have  had  no  time  to  move  our  daughter. \\nlook  you,  she  lov\\'d  her  kinsman  tybalt  dearly, \\nand  so  did  i. — well,  we  were  born  to  die. — \\n\\'tis  very  late,  she\\'ll  not  come  down  to-night ; \\ni  promise  you,  but  for  your  company, \\ni  would  have  been  a-bed  an  hour  ago. \\n\\nparis.  these  times  of  woe  afford  no  time  to  woo. \\nmadam,  good  night ;  commend  nie  to  your  daughter. \\n\\nlady  capulet.  i  will,  and  know  her  mind  early  to- \\nmorrow ; \\nto-night  she\\'s  mew\\'d  up  to  her  heaviness. \\n\\ncapulet.  sir  paris,  i  will  make  a  desperate  tender \\nof  my  child\\'s  love  :  i  think  she  will  be  rul\\'d \\nin  all  respects  by  me  ;  nay,  more,  i  doubt  it  not.  — \\nwife,  go  you  to  her  ere  you  go  to  bed ; \\nacquaint  her  here  of  my  son  paris\\'  love. \\n\\n\\nromeo  and  juliet.  go \\n\\nand  bid  her,  mark  you  me,  on  wednesday  next  — \\nbut,  soft !  what  day  is  this  ? \\n\\n-^^\"\\'^\"*-  monday,  my  lord. \\n\\ncapidet  monday  !  ha,  ha !     well,  wednesday  is  too \\nsoon; \\n\\n0\\'  thursday  let  it  be  :  o\\'  thursday,  tell  her, \\nshe  shall  be  married  to  this  noble  earl. \\nwill  you  be  ready  ?  do  you  like  this  haste  ? \\nwe\\'ll  keep  no  great  ado,  —  a  friend  or  two; \\nfor,  hark  you,  tybalt  being  slain  so  late, \\nit  may  be  thought  we  held  him  carelessly, \\nbeing  our  kinsman,  if  we  revel  much : \\ntherefore  we\\'ll  have  some  half  a  dozen  friends, \\nand  there  an  end.     but  what  say  you  to  thursday  ? \\nparis.  my  lord,  i  would  that  thursday  were  to-morrow. \\ncapulet.  well,  get  you  gone ;  o\\'  thursday  be  it  then. \\ngo  you  to  juliet  ere  you  go  to  bed. \\nprepare  her,  wife,  against  this  wedding-day.  — \\nfarewell,  my  lord.  — light  to  my  chamber,  ho ! \\nafore  me,  it  is  so  very  late,  that  we \\nmay  call  it  early  by  and  by.  -  good  night.  \\\\_exeunt. \\n\\nscene  v.     juliet\\'s  chamber. \\nenter  romeo  and  juliet. \\njuliet.  wilt  thou  be  gone  ?  it  is  not  yet  near  day  : \\nit  was  the  nightingale,  and  not  the  lark, \\n\\n\\n90  bomeo  and  juliet. \\n\\nthat  pierc\\'d  tlie  fearful  hollow  of  thine  ear ; \\nnightly  she  sings  on  yon  pomegranate-tree. \\nbelieve  me,  love,  it  was  the  nightingale. \\n\\nborneo.  it  was  the  lark,  the  herald  of  the  morn, \\nno  nightingale ;  look,  love,  what  envious  streaks \\ndo  lace  the  severing  clouds  in  yonder  east. \\nnight\\'s  candies  are  burnt  out,  and  jocund  day \\nstands  tiptoe  on  the  misty  mountain  tops. \\ni  must  be  gone  and  live,  or  stay  and  die. \\n\\njuliet.  yon  light  is  not  day-light,  i  know  it,  i ; \\nit  is  some  meteor  that  the  sun  exhales. \\nto  be  to  thee  this  night  a  torch-bearer. \\nand  light  thee  on  thy  way  to  mantua : \\ntherefore  stay  yet,  thou  need\\'st  not  to  be  gone. \\n\\nborneo.  let  me  be  ta\\'en,  let  me  be  put  to  death ; \\ni  am  content,  so  thou  wilt  have  it  so. \\ni\\'ll  say  yon  gray  is  not  the  morning\\'s  eye, \\n\\'tis  but  the  pale  reflex  of  cynthia\\'s  brow  ; \\nnor  that  is  not  the  lark,  whose  notes  do  beat \\nthe  vaiilty  heaven  so  high  above  our  heads. \\ni  have  more  care  to  stay  than  will  to  go ; \\ncome,  death,  and  welcome  !  juliet  wills  it  so. \\nhow  is\\'t,  my  soul  ?  let\\'s  talk,  it  is  not  day. \\n\\njuliet.  it  is,  it  is  ;  hie  hence,  be  gone,  away ! \\nit  is  the  lark  that  sings  so  out  of  tune. \\nstraining  harsh  discords  and  unpleasing  sharps. \\nsome  say  the  lark  makes  sweet  division ; \\n\\n\\nromeo  and  juliet.  9^ \\n\\nthis  doth  not  so,  for  she  divideth  us. \\nsome  say  the  lark  and  loathed  toad  change  eyes ; \\n0,  now  i  avould  they  had  chang\\'d  voices  too  ! \\nsince  arm  from  arm  that  voice  doth  us  affray, \\nhunting  thee  hence  with  hunt\\'s-np  to  the  day. \\no,  now  be  gone ;  more  light  and  light  it  grows. \\n\\nborneo.  more  light  and  light  ?  — more  dark  and  dark \\nour  woes  ! \\n\\nenter  nurse. \\n\\nnurse.  madam ! \\n\\njuliet.  isturse  ! \\n\\nnurse.  your  lady  mother  is  coming  to  your  chamber. \\nthe  day  is  broke  ;  be  wary,  look  about.  lexit. \\n\\njuliet.  then,  window,  let  day  in,  and  let  life  out. \\n\\nrovieo.  farewell,  farewell !  one  kiss,  and  i\\'ll  descend. \\n\\n[^rovieo  descends. \\n\\njuliet.  art  thou  gone  so  ?  my  lord,  my  love,  my  friend ! \\ni  must  hear  from  thee  every  day  in  the  hour, \\nfor  in  a  minute  there  are  many  days ; \\no,  by  this  count  i  shall  be  much  in  years \\nere  t  again  behold  my  eomeo  ! \\n\\nromeo.  farewell !     i  will  omit  no  opportunity \\nthat  may  convey  my  greetings,  love,  to  thee. \\n\\njuliet.  0,  think\\'st  thou  we  shall  ever  meet  again  ? \\n\\nromeo.  i  doubt  it  not;  and  all  these  woes  shall  serve \\nfor  sweet  discourses  in  our  time  to  come. \\n\\n\\n92  eomeo  and  juliet. \\n\\njuliet.  0  god,  i  have  an  ill-divining  soul ! \\n]\\\\rethinks  i  see  thee,  now  thou  art  below, \\nas  one  dead  in  the  bottom  of  a  tomb  ; \\neither  my  eyesight  fails,  or  thou  look\\'st  pale. \\n\\nborneo.  and  trust  me,  love,  in  my  eye  so  do  you; \\ndry  sorroav  drinks  our  blood.     adiei;,  adieu  !  \\\\_exlt. \\n\\njuliet.  0  fortune,  fortune  !  all  men  call  thee  tickle  ; \\nif  thou  art  fickle,  what  dost  thou  avith  him. \\nthat  is  renown\\'d  for  faith  ?     be  fickle,  fortune  ; \\nfor  then,  i  hope,  thou  wilt  not  keep  him  long, \\nbut  send  him  back. \\n\\nlady  capulet.  \\\\_within\\'\\\\  ho,  daughter!  are  you  up  ? \\n\\njuliet.  who  is\\'t  that  calls  ?  is  it  my  lady  mother  ? \\nis  she  not  down  so  late,  or  up  so  early  ? \\nwhat  unaccustom\\'d  cause  procures  her  hither  ? \\n\\nenter  lady  capulet. \\n\\nlachj  capulet.  why,  how  now,  juliet ! \\n\\njuliet.  madam,  i  am  not  well. \\n\\nlady   capidet.  evermore  weeping   for   your   cousin\\'s \\ndeath? \\nwhat,  wilt  thou  wash  him  from  his  grave  with  tears  ? \\nan  if  thou  couldst,  thou  couldst  not  make  him  live ; \\ntherefore,  have  done  :  some  grief  shows  much  of  love, \\nbut  much  of  grief  shows  still  some  want  of  wit. \\n\\njuliet.  yet  let  me  weep  for  such  a  feeling  loss. \\n\\n\\nromeo  and  juliet.  93 \\n\\nladf/  capulet.  so  shall  you  feel  the  loss,  but  not  the \\nfriend \\nwhich  you  weep  for. \\n\\njuliet.  feeling  so  the  loss, \\n\\ni  cannot  choose  but  ever  weep  the  friend. \\n\\nlady  capulet.  well,  girl,  thou  weep\\'st  not  so  much \\nfor  his  death \\nas  that  the  villain  lives  which  slaughter\\'d  him. \\njuliet.  what  villain,  madam  ? \\n\\nlady  capulet.  that  same  villain,  eomeo. \\n\\njuliet.  villain  and  he  be  many  miles  asunder.  — \\ngod  pardon  him  !  i  do,  with  all  my  heart ; \\nand  yet  no  man  like  he  doth  grieve  my  heart. \\n\\nlady  capulet.  that  is,  because  the  traitor  murderer \\n\\nlives. \\njuliet.  ay,  madam,  from  the  reach  of  these  my  hands. \\nwould  none  but  i  might  venge  my  cousin\\'s  death  ! \\nlady  capulet.  we  will  have  vengeance  for  it,  fear \\nthou  not ; \\nthen  weep  no  more.     i\\'ll  send  to  one  in  mantua, \\nwhere  that  same  banish\\'d  runagate  doth  live, \\nshall  give  him  such  an  unaccustom\\'d  dram, \\nthat  he  shall  soon  keep  tybalt  company  ; \\nand  then,  i  hope,  thou  wilt  be  satisfied. \\n\\njuliet.  indeed,  i  never  shall  be  satisfied \\nwith  eomeo,  till  i  behold  him  —  dead  — \\nis  my  poor  heart  so  for  a  kinsman  vex\\'d.  — \\n\\n\\n94  bomeo  and  juliet. \\n\\nmadam,  if  you  could  find  out  but  a  man \\nto  bear  a  poison,  i  would  temper  it, \\nthat  romeo  should,  upon  receipt  thereof. \\nsoon  sleep  in  quiet.     0,  how  my  heart  abhors \\nto  hear  him  nam\\'d,  and  cannot  come  to  him, \\nto  wreak  the  love  i  bore  my  cousin \\nupon  his  body  that  hath  slaughter\\'d  him ! \\n\\nlacli/  capulet.  find  thou  the  means,  and  i\\'ll  find  such \\na  man. \\nbut  now  i\\'ll  tell  thee  joyful  tidings,  girl. \\n\\njuliet.  and  joy  comes  well  in  such  a  needy  time. \\nwhat  are  they,  i  beseech  your  ladyship? \\n\\nlady  capulet.  well,  well,  thou  hast  a  careful  father, \\nchild; \\none  who,  to  put  thee  from  thy  heaviness, \\nhath  sorted  out  a  sudden  day  of  joy, \\nthat  thou  expect\\'st  not,  nor  i  look\\'d  not  for. \\n\\njxdiet.  madam,  in  happy  time,  what  day  is  that  ? \\n\\nlady  cajjulet.  marry,  my  child,  early  next  thursday \\nmorn. \\nthe  gallant,  young,  and  noble  gentleman, \\nthe  county  paris,  at  saint  peter\\'s  church, \\nshall  happily  make  thee  there  a  joyful  bride. \\n\\njuliet.  now,  by  saint\\'s  peter  church  and  peter  too, \\nhe  shall  not  make  me  there  a  joyful  bride. \\ni  avonder  at  this  haste ;  that  i  must  wed \\nere  he  that  should  be  husband  comes  to  woo. \\n\\n\\nromeo  and  juliet.  95 \\n\\ni  pray  you,  tell  my  lord  and  father,  madam, \\ni  will  not  marry  yet ;  and,  when  i  do,  i  swear, \\nit  shall  be  romeo,  whom  you  know  i  hate. \\nrather  than  paris.     these  are  news  indeed  ! \\n\\nlady  capulet.  here  comes  your  father ;  tell  him  so \\nyourself, \\nand  see  how  he  will  take  it  at  your  hands. \\n\\nenter  capulet  and  nurse. \\n\\ncapulet.  when  the  sun  sets,  the  air  doth  drizzle  dew ; \\nbut  for  the  sunset  of  my  brother\\'s  son \\nit  rains  downright.  — \\n\\nhow  now !  a  conduit,  girl  ?  what,  still  in  tears  ? \\nevermore  showering  ?     in  one  little  body \\nthou  counterfeit\\'st  a  bark,  a  sea,  a  wind : \\nfor  still  thy  eyes,  which  i  may  call  the  sea, \\ndo  ebb  and  flow  with  tears  ;  the  bark  thy  body  is, \\nsailing  in  this  salt  flood ;  the  winds,  thy  sighs ; \\nwho,  raging  with  thy  tears,  and  they  with  them, \\nwithout  a  sudden  calm,  will  overset \\nthy  tempest-tossed  body.  —  how  now,  wife  ! \\nhave  you  deliver\\'d  to  her  our  decree  ? \\n\\nlady  capulet.  ay,  sir;  but  she  will  none,  she  gives \\nyou  thanks. \\ni  would  the  fool  were  married  to  her  grave ! \\n\\ncapulet.  soft !  take  me  with  you,  take  me  with  you, \\nwife. \\n\\n\\n96  romeo  and  juliet. \\n\\nhow  !  will  she  none  ?  doth  she  not  give  us  thanks  ? \\nis  she  not  proud  ?  doth  she  not  count  her  blest, \\nunworthy  as  she  is,  that  we  have  wrought \\nso  worthy  a  gentleman  to  be  her  bridegroom  ? \\n\\njuliet.  not  proud  you  have,  but  thankful  that  you \\nhave  : \\nproud  can  i  never  be  of  what  i  hate ; \\nbut  thankful  even  for  hate  that  is  meant  love. \\n\\ncaindet.   how   now,  how   now,  chop-logic !   what   is \\nthis  ? \\n\\'  proud \\'  and  \\'  i  thank  you \\'  and  \\'  i  thank  you  not/ \\nand  yet  \\'  not  proud \\' !     mistress  minion,  you. \\nthank  me  no  thankings,  nor  proud  me  no  prouds, \\np)ut  fettle  your  fine  joints  \\'gainst  thursday  next, \\nto  go  with  paris  to  saint  peter\\'s  church, \\nor  i  will  drag  thee  on  a  hurdle  thither. \\nout,  you  green-sickness  carrion !  out,  you  baggage ! \\nyou  tallow-face  ! \\n\\nlady  capidet.  fie,  fie  !  what,  are  you  mad  ? \\n\\njuliet.  good  father,  i  beseech  you  on  my  knees. \\nhear  me  with  patience  but  to  speak  a  word. \\n\\ncapulet.    hang    thee,    young    baggage !    disobedient \\nwretch  ! \\ni  tell  thee  what :  get  thee  to  church  o\\'  thursday, \\nor  never  after  look  me  in  the  face. \\nspeak  not,  reply  not,  do  not  answer  me ; \\nmy  lingers  itch.  —  wife,  we  scarce  thought  us  blest \\n\\n\\nbomeo  and  juliet.  97 \\n\\nthat  god  liad  lent  us  but  this  only  child  ; \\nbut  now  i  see  this  one  is  one  too  much, \\nand  that  we  have  a  curse  in  having  her : \\nout  on  her,  hilding ! \\n\\nnurse.  god  in  heaven  bless  her ! \\n\\nyou  are  to  blame,  my  lord,  to  rate  her  so. \\n\\ncaimlet.    and  why,   my  lady   wisdom?    hold    your \\ntongue, \\ngood  prudence  ;  smatter  with  your  gossips,  go. \\n\\nnurse.  i  speak  no  treason. \\n\\ncaimlet  0,  god  ye  god-den. \\n\\nnurse.  may  not  one  speak  ? \\n\\ncapulet.  peace,  you  mumbling  fool ! \\n\\nutter  your  gravity  o\\'er  a  gossip\\'s  bowl ; \\nfor  here  we  need  it  not. \\n\\nlady  capulet.  you  are  too  hot. \\n\\ncapulet.  god\\'s  bread !  it  makes  me  mad :  day,  night, \\nlate,  early, \\nat  home,  abroad,  alone,  in  company. \\nwaking  or  sleeping,  still  my  care  hath  been \\nto  have  her  match\\'d ;  and  having  now  provided \\na  gentleman  of  noble  parentage. \\nof  fair  demesnes,  youthful,  and  nobly  train\\' d, \\nstuff\\' d,  as  they  say,  with  honorable  parts, \\nproportion\\'d  as  one\\'s  thought  would  wish  a  man,  — \\nand  then  to  have  a  wretched  puling  fool, \\na  whining;  mammet,  in  her  fortune\\'s  tender, \\n\\n\\n98  romeo  and  juliet. \\n\\nto  answer  \\'  111  not  wed ;  i  cannot  love, \\n\\ni  am  too  yonng ;  i  pray  you,  pardon  nie.\\'  — \\n\\nbut,  an  you  will  not  wed,  i\\'ll  pardon  you ; \\n\\ngraze  where  you  will,  you  shall  not  house  with  me  : \\n\\nlook  to\\'t,  think  on\\'t,  i  do  not  use  to  jest. \\n\\nthursday  is  near ;  lay  hand  on  heart,  advise. \\n\\nan  you  be  mine,  i\\'ll  give  you  to  my  friend ; \\n\\nan  you  be  not,  hang,  beg,  starve,  die  in  the  streets, \\n\\nfor,  by  my  soul,  i\\'ll  ne\\'er  acknowledge  thee, \\n\\nxor  what  is  mine  shall  never  do  thee  good. \\n\\ntrust  to\\'t,  bethink  you;  i\\'ll  not  be  forsworn.  lexlt. \\n\\njuliet.  is  there  no  pity  sitting  in  the  clouds, \\nthat  sees  into  the  bottom  of  ni}^  grief  ? \\n0,  sweet  my  mother,  cast  me  not  away  ! \\ndelay  this  marriage  for  a  month,  a  week; \\nor,  if  you  do  not,  make  the  bridal  bed \\nin  that  dim  monument  where  tybalt  lies. \\n\\nlady  capulet.  talk  not  to  me,  fcr  i\\'ll  not  speak  a \\nword  ; \\ndo  as  thou  wilt,  for  i  have  done  with  thee.  \\\\_exlt. \\n\\njuliet.  0  god!  —  0  nurse,  how  shall  this  be  prevented? \\nmy  husband  is  on  earth,  my  faith  in  heaven  ; \\nhow  shall  that  faith  return  again  to  earth. \\nunless  that  husband  send  it  me  from  heaven \\ni\\\\y  leaving  earth  ?  comfort  me,  counsel  me.  — \\nalack,  alack,  that  heaven  should  practise  stratagems \\nupon  so  soft  a  subject  as  myself!  — \\n\\n\\n•}v    4 \\n\\n\\nromeo  and  juliet.  99 \\n\\nwhat  say\\'st  thou  ?  hast  thou  not  a  word  of  joy  ? \\nsome  comfort,  nurse. \\n\\n^\\'\\'urse.  faith,  here  \\'tis.     eomeo \\n\\nis  banished,  and  all  the  world  to  nothing, \\nthat  he  dares  ne\\'er  come  back  to  challenge  you ; \\nor,  if  he  do,  it  needs  must  be  by  stealth. \\nthen,  since  the  case  so  stands  as  now  it  doth, \\ni  think  it  best  you  married  with  the  county. \\n0,  he\\'s  a  lovely  gentleman  ! \\nromeo\\'s  a  dishclout  to  him ;  an  eagle,  madam, \\nhath  not  so  green,  so  quick,  so  fair  an  eye \\nas  paris  hath.     beshrew  my  very  heart, \\ni  think  you  are  happy  in  this  second  match, \\nfor  it  excels  your  first;  or  if  it  did  not. \\nyour  first  is  dead,  or  \\'twere  as  good  he  were, \\nas  living  here  and  you  no  use  of  him. \\n\\njuliet.  speakest  thou  from  thy  heart  ? \\n\\nnurse.  and  from  my  soul  too ; \\n\\nor  else  beshrew  them  both. \\n\\njuliet.  amen ! \\n\\nnurse.  what  ? \\n\\njuliet.  well,  thou  hast  comforted  me  marvellous  much. \\ngo  in,  and  tell  my  lady  i  am  gone, \\nhaving  displeas\\'d  my  father,  to  laurence\\'  cell. \\nto  make  confession  and  to  be  absolv\\'d. \\n\\nnurse.  marry,  i  will;  and  this  is  wisely  done.     \\\\_exit. \\n\\njuliet.  ancient  damnation  !  0  most  wicked  fiend ! \\n\\n\\nltfc \\n\\n\\n100  bomeo  and  juliet. \\n\\nis  it  more  sin  to  wish  me  thus  forsworn, \\n\\nor  to  dispraise  my  lord  with  that  same  tongue \\n\\nwhich  she  hath  prais\\'d  him  with  above  compare \\n\\nso  many  thousand  times  ?  —  g-o,  counsellor ; \\n\\nthou  and  my  bosom  henceforth  shall  be  twain.  — \\n\\ni\\'ll  to  the  friar,  to  know  his  remedy ; \\n\\nif  all  else  fail,  myself  have  power  to  die.  \\\\_exit. \\n\\n\\nact  iv. \\nscene  i.     friar  laurences  cell. \\n\\nenter  friar  laurence  and  paris. \\n\\nfriar  laurence.  on  thursday,  sir  ?  the  time  is  very \\n\\nshort. \\nfar\\'is.  my  father  capulet  will  have  it  so ; \\nand  i  am  nothing  slow  to  slack  his  haste. \\n\\nfriar  laurence.  you  say  you  do  not  know  the  lady\\'s \\nmind; \\nuneven  is  the  course,  i  like  it  not. \\n\\nparis.  immoderately  she  weeps  for  tybalt\\'s  death, \\nand  therefore  have  i  little  talk\\'d  of  love ; \\nfor  venus  smiles  not  in  a  house  of  tears. \\nnow,  sir,  her  father  counts  it  dangerous \\nthat  she  doth  give  her  sorrow  so  much  sway, \\nand  in  his  wisdom  hastes  our  marriage, \\nto  stop  the  inundation  of  her  tears. \\nwhich,  too  much  minded  by  herself  alone, \\nmay  be  put  from  her  by  society. \\nnow  do  you  know  the  reason  of  this  haste. \\n\\nfriar  laurence.  [aside\\']  i  would  i  knew  not  why  it \\nshould  be  slow\\'d. \\nlook,  sir,  here  comes  the  lady  towards  my  cell. \\n\\n101 \\n\\n\\n102  romeo  and  juliet. \\n\\nenter  juliet. \\n\\nparis.  happily  met,  my  lady  and  m}^  wife ! \\n\\njuliet.  that  may  be,  sir,  when  i  may  be  a  wife. \\n\\nparis.  that  may  be  must  be,  love,  on  thursday  next. \\n\\njuliet.  what  must  be  shall  be. \\n\\nfriar  laurence.  that\\'s  a  certain  text. \\n\\nparis.  come  you  to  make  confession  to  this  father  ? \\n\\njuliet.  to  answer  that,  i  should  confess  to  you. \\n\\nparis.  do  not  deny  to  him  that  you  love  me. \\n\\njuliet.  i  will  confess  to  you  that  i  love  him. \\n\\nparis.  so  will  you,  i  am  sure,  that  you  love  me. \\n\\njidiet.  if  i  do  so,  it  will  be  of  more  price. \\nbeing  spoke  behind  your  back,  than  to  your  face. \\n\\nparis.  poor  soul,  thy  face  is  much  abus\\'d  with  tears. \\n\\njuliet.  the  tears  have  got  small  victory  by  that ; \\nfor  it  was  bad  enough  before  their  spite. \\n\\nparis.  thou  wrong\\'st  it  more  than  tears  with  tliat   re- \\nport. \\n\\njuliet.  that  is  no  slander,  sir,  which  is  a  truth ; \\nand  what  i  spake,  i  spake  it  to  my  face. \\n\\nparis.  thy  face  is  mine,  and  thou  hast  slander\\'d  it. \\n\\njuliet.  it  may  be  so,  for  it  is  not  mine  own.  — \\nare  you  at  leisure,  holy  father,  now  ; \\nor  shall  i  come  to  you  at  evening  mass  ? \\n\\nfriar  laurence.  my  leisure  serves  me,  pensive  daugh- \\ntei\\',  now. — \\nmy  lord,  we  mast  entreat  the  time  alone. \\n\\n\\nromeo  and  juliet.  103 \\n\\nparis.  god  shield  i  should  disturb  devotion  !  — \\njuliet,  on  thursday  early  will  i  rouse  ye : \\ntill  then,  adieu,  and  keep  this  holy  kiss.  [^exit. \\n\\njuliet.  0,  shut  the  door !  and  when  thou  hast  done  so, \\ncome  weep  with  me ;  past  hope,  past  cure,  past  help  ! \\n\\nfriar  laurence.  ah,  juliet,  i  already  know  thy  grief ; \\nit  strains  me  past  the  compass  of  my  wits : \\ni  hear  thou  must,  and  nothing  may  prorogue  it, \\non  thursday  next  be  married  to  this  county. \\n\\njuliet.  tell  me  not,  friar,  that  thou  hear\\'st  of  this, \\nunless  thou  tell  me  how  i  may  prevent  it; \\nif  in  thy  wisdom  thou  canst  give  no  help, \\ndo  thou  but  call  my  resolution  wise. \\nand  with  this  knife  i\\'ll  help  it  presently. \\ngod  join\\'d  my  heart  and  romeo\\'s,  thou  our  hands ; \\nand  ere  this  hand,  by  thee  to  romeo  seai\\'d, \\nshall  be  the  label  to  another  deed. \\nor  my  true  heart  with  treacherous  revolt \\nturn  to  another,  this  shall  slay  them  botli : \\ntherefore,  out  of  thy  long-experienc\\'d  time, \\ngive  me  some  present  counsel,  or,  behold, \\n\\'twixt  my  extremes  and  me  this  bloody  knife \\nshall  play  the  umpire,  arbitrating  that \\nwhich  the  commission  of  thy  years  and  art \\ncould  to  no  issue  of  true  honor  bring. \\nbe  not  so  long  to  speak  j  i  long  to  die, \\nif  what  thou  speak\\'st  speak  not  of  remedy. \\n\\n\\n104  romeo  and  juliet. \\n\\nfriar  laurence.  hold,  daughter !  i  do  spy  a  kind  of \\nhope, \\nwhich  craves  as  desperate  an  execution \\nas  that  is  desperate  which  we  would  prevent. \\nif,  rather  than  to  marry  county  paris, \\nthou  hast  the  strength  of  will  to  slay  thyself, \\nthen  is  it  likely  thou  wilt  undertake \\na  thing  like  death  to  chide  away  this  shame. \\nthat  cop\\'st  with  death  himself  to  scape  from  it ; \\nand  if  thou  dar\\'st,  i\\'ll  give  thee  remedy. \\n\\njuliet.  0,  bid  me  leap,  rather  than  marry  paris, \\nerom  off  the  hattlements  of  yonder  tower ; \\nor  walk  in  thievish  ways  ;  or  bid  me  lurk \\nwhere  serpents  are ;  chain  me  with  roaring  bears ; \\nor  shut  me  nightly  in  a  charnel-house, \\no\\'ercover\\'d  quite  with  dead  men\\'s  rattling  bones, \\nwith  reeky  shanks  and  yellow  chapless  skulls  j \\nor  bid  me  go  into  a  new-made  grave \\nand  hide  me  with  a  dead  man  in  his  shroud ; \\nthings  that,  to  hear  them  told,  have  made  me  tremble ; \\nand  i  will  do  it  without  fear  or  doubt, \\nto  live  an  unstain\\'d  wife  to  my  sweet  love. \\n\\nfriar  laurence.  hold,  then  ;  go  home,  be  merry,  give \\nconsent \\nto  marry  paris.     wednesday  is  to-morrow : \\nto-morrow  night  look  that  thou  lie  alone  ; \\nlet  not  thy  nurse  lie  with  thee  in  thy  chamber. \\n\\n\\nromeo   and  juliet.  105 \\n\\ntake  thou  this  vial,  being  then  in  bed, \\n\\nand  this  distilled  liquor  drink  thou  off ; \\n\\nwhen  presently  through  all  thy  veins  shall  run \\n\\na  cold  and  drowsy  humor,  for  no  pulse \\n\\nshall  keep  his  native  progress,  but  surcease. \\n\\nno  warmth,  no  breath,  shall  testify  thou  livest ; \\n\\nthe  roses  in  thy  lips  and  cheeks  shall  fade \\n\\nto  paly  ashes,  thy  eyes\\'  windows  fall, \\n\\nlike  death,  when  he  shuts  up  the  day  of  life ; \\n\\neach  part,  depriv\\'d  of  supple  government. \\n\\nshall,  stiff  and  stark  and  cold,  appear  like  death  : \\n\\nand  in  this  borrow\\'d  likeness  of  shrunk  death \\n\\nthou  shalt  continue  two  and  forty  hours. \\n\\nand  then  awake  as  from  a  pleasant  sleep. \\n\\nnow,  when  the  bridegroom  in  the  morning  comes \\n\\nto  rouse  thee  from  thy  bed,  there  art  thou  dead : \\n\\nthen,  as  the  manner  of  our  country  is. \\n\\nin  thy  best  robes  uncover\\'d  on  the  bier \\n\\nthou  shalt  be  borne  to  that  same  ancient  vault \\n\\nwhere  all  the  kindred  of  the  capulets  lie. \\n\\nin  the  mean  time,  against  thou  shalt  awake, \\n\\nshall  eomeo  by  my  letters  know  our  drift. \\n\\nand  hither  shall  he  come ;  and  he  and  i \\n\\nwill  watch  thy  waking,  and  that  very  night \\n\\nshall  romeo  bear  thee  hence  to  mantua. \\n\\nand  this  shall  free  thee  from  this  present  shame, \\n\\nif  no  inconstant  toy  nor  womanish  fear \\n\\nabate  thy  valor  in  the  acting  it. \\n\\n\\n106  eomeo  and  juliet. \\n\\njuliet.  give  me,  give  me  !  o,  tell  not  me  of  fear ! \\nfriar  laurence.  hold;  get  you  gone,  be  strong  and \\nprosperous \\nin  this  resolve :  i\\'ll  send  a  friar  with  speed \\nto  mantua  with  my  letters  to  thy  lord. \\n\\njuliet.  love  give  me  strength !  and  strength  shall  help \\nafford. \\nfarewell,  dear  father  !  \\\\_exeant. \\n\\n\\nscene  ii.     hall  in  capnlefs  house. \\n\\nenter  capulet,  lady  carulex,  nurse,  and  two  serving- \\nmen. \\n\\ncaj)uh\\'t.  so  many  guests  invite  as  here  are  writ. — \\n\\n\\\\^e.vit  isemait. \\nsirrah,  go  hire  me  twenty  cunning  cooks. \\n\\n2  servant.  you  shall  have  none  ill,  sir,  for  i\\'ll  try  if \\nthey  can  lick  their  lingers. \\n\\ncapxdet.  how  canst  thou  try  them  so  ? \\n,  2  servant.  marry,  sir,  \\'tis  an  ill  cook  that  cannot  lick \\nhis  own  fingers ;  therefore  he  that  cannot  lick  his  lingers \\ngoes  not  avith  me. \\n\\ncapulet..  go,  be  gone.  —  \\\\_e.vh  servant. \\n\\nwe  shall  be  much  unfurnish\\'d  for  this  time. \\nwhat,  is  my  daughter  gone  to  friar  laurence  ? \\n\\nnurse.  ay,  forsooth. \\n\\n\\ni|f|i    1^  ;^^  (i    \" \\n\\n#      i j  i\\\\  if  l\\'  h  1 \\n\\n\\nbomeo  anb  juliet.  iqt \\n\\ncajmlet.  well,  lie  may  chance  to  do  some  good  on  her ; \\na  peevish  self-willed  harlotry  it  is. \\n\\nnurse.  see  where  she  comes  from  shrift  with  merry \\nlook. \\n\\nenter  juliet. \\n\\ncapulet.  how  now,  my  headstrong !  where  have  you \\nbeen  gadding  ? \\n\\njuliet.  where  i  have  learned  me  to  repent  the  sin \\nof  disobedient  opposition \\nto  you  and  your  behests,  and  am  enjoin\\'d \\nby  holy  laurence  to  fall  prostrate  here, \\nand  beg  your  pardon.     pardon,  i  beseech  you ! \\nhenceforward  i  am  ever  rul\\'d  by  you. \\n\\ncapulet.  send  for  the  county ;  go  tell  him  of  this. \\ni\\'ll  have  this  knot  knit  up  to-morrow  morning. \\n\\njuliet.  i  met  the  youthful  lord  at  laurence\\'  cell ; \\nand  gave  him  what  becomed  love  i  might, \\nnot  stepping  o\\'er  the  bounds  of  modesty. \\n\\ncaptdet.  why,  i  am  glad  on\\'tj  this  is  well, — stand \\nup: \\nthis  is  as\\'t  should  be.  —  let  me  see  the  county ; \\nay,  marry,  go,  i  say,  and  fetch  him  hither.  — \\nnow,  afore  god  !  this  reverend  holy  friar. \\nall  our  whole  city  is  much  bound  to  him. \\n\\njuliet.  nurse,  will  you  go  with  me  into  my  closet, \\nto  help  me  sort  such  needful  ornaments \\nas  you  think  fit  to  furnish  me  to-morrow  ? \\n\\n\\n108  romeo  and  juliet. \\n\\nlady  cajndet.  no,  not  till  thursday ;  there  is  time \\nenough. \\n\\ncapulet.  go,  nurse,  go  with  her;  we\\'ll  to  church  to- \\nmorrow. \\n\\n\\\\_exeunt  juliet  and  nurse. \\n\\nlady   captdet.  we  shall  be  short  in  our  provision ; \\n\\'tis  now  near  night, \\n\\ncapulet.  tush,  i  will  stir  about. \\n\\nand  all  things  shall  be  well,  i  warrant  thee,  wife. \\ngo  thou  to  juliet,  help  to  deck  up  her : \\ni\\'ll  not  to  bed  to-night ;  let  me  alone  ; \\ni\\'ll  play  the  housewife  for  this  once.  —  what,  ho  !  — \\nthey  are  all  forth.     well,  i  will  walk  myself \\nto  county  paris,  to  prepare  him  up \\nagainst  to-morrow.     my  heart  is  wondrous  light, \\nsince  this  same  wayward  girl  is  so  reclaim\\'d.      \\\\_exeunt. \\n\\n\\nscene  iii.     juliet\\'s  chaviber. \\n\\nenter  juliet  and  nurse. \\n\\njuliet.  ay,  those  attires  are  best :  but,  gentle  nurse, \\ni  pray  thee,  leave  me  to  myself  to-night ; \\nfor  i  have  need  of  many  orisons \\nto  move  the  heavens  to  smile  upon  my  state. \\nwhich,  well  thou  know\\'st  is  cross,  and  full  of  sin. \\n\\n\\nphcitci  by  byron \\n\\n\\nbomeo  and  juliet.  109 \\n\\nenter  lady  capulet. \\n\\nlady  capulet.  what,  are  you  busy,  ho  ?  need  you  my \\n\\nhelp  ? \\njuliet.  ko,  madam ;  we  have  cull\\'d  such  necessaries \\nas  are  behoveful  for  our  state  to-morrow : \\nso  jjlease  you,  let  me  now  be  left  alone, \\nand  let  the  nurse  this  night  sit  up  with  you ; \\nfor,  t  am  sure,  you  have  your  hands  full  all, \\nin  this  so  sudden  business. \\n\\nlady  capulet.  good  night ; \\n\\nget  thee  to  bed  and  rest,  for  thou  hast  need. \\n\\n{exeunt  lady  capulet  and  nurse. \\njuliet.  farewell !  —  god  knows  when  we  shall  meet \\nagain. \\ni  have  a  faint  cold  fear  thrills  through  my  veins, \\nthat  almost  freezes  up  the  heat  of  life ; \\ni\\'ll  call  them  back  again  to  comfort  me.  — \\nnurse  !  —  what  should  she  do  here  ? \\nmy  dismal  scene  i  needs  must  act  alone.  — \\ncome,  vial.  — \\n\\nwhat  if  this  mixture  do  not  work  at  all  ? \\nshall  i  be  married  then  to-morrow  morning  ? \\nno,  no  !  —  this  shall  forbid  it.  —  lie  thou  there. \\n\\n\\\\laying  doivn  a  dagger. \\nwhat  if  it  be  a  poison,  which  the  friar \\nsubtly  hath  minister\\'d  to  have  me  dead, \\n\\n\\n110  romeo  and  juliet. \\n\\nlest  in  this  mai-riage  he  should  be  dishouor\\'d, \\n\\nbecause  he  married  me  before  to  komeo  ? \\n\\ni  fear  it  is  ;  and  yet,  methinks,  it  should  not, \\n\\nfor  he  hath  still  been  tried  a  holy  man. \\n\\nhow  if,  when  i  am  laid  into  the  tomb, \\n\\ni  wake  before  the  time  that  romeo \\n\\ncome  to  redeem  me  ?  there\\'s  a  fearful  point ! \\n\\nshall  i  not  then  be  stifled  in  the  vault, \\n\\nto  whose  foul  mouth  no  healthsome  air  breathes  in \\n\\nand  there  die  strangled  ere  my  komeo  comes  ? \\n\\nor,  if  i  live,  is  it  not  very  like, \\n\\nthe  horrible  conceit  of  death  and  night, \\n\\ntogether  with  the  terror  of  the  place,  — \\n\\nas  in  a  vault,  an  ancient  receptacle. \\n\\nwhere  for  these  many  hundred  years  the  bones \\n\\nof  all  my  buried  ancestors  are  pack\\'d ; \\n\\nwliere  bloody  tybalt,  yet  but  green  in  earth, \\n\\nlies  festering  in  his  shroud ;  where,  as  they  say, \\n\\nat  some  hours  in  the  night  spirits  resort ;  — \\n\\nalack,  alack,  is  it  not  like  that  i, \\n\\nso  early  waking,  what  with  loathsome  smells. \\n\\nand  shrieks  like  mandrakes\\'  torn  out  of  the  earth, \\n\\nthat  living  mortals  hearing  tliem  run  mad  ;  — \\n\\n0,  if  i  wake,  shall  i  not  be  distraught. \\n\\nenvironed  with  all  these  hideous  fears  ? \\n\\nand  madly  play  with  my  forefathers\\'  joints  ? \\n\\nand  pluck  the  mangled  tybalt  from  his  shroud  ? \\n\\n\\nromeo  and  juliet.  \\\\\\\\\\\\ \\n\\nand,  in  this  rage,  with  some  great  kinsman\\'s  ijone, \\nas  with  a  club,  dash  out  my  desperate  brains  ?  — \\n0,  look,  methinks  i  see  my  cousin\\'s  ghost \\nseeking  out  romeo,  that  did  spit  his  body \\nupon  a  rapier\\'s  point.  —  stay,  tybalt,  stay  !  — \\nromeo,  i  come !  this  do  i  drink  to  thee. \\n\\n\\\\_slie  throws  herself  on  the  hed. \\n\\nscene  iv.     hall  in  ca\\'pidet\\'\\'s  house. \\n\\nenter  lady  capulet  and  nurse. \\n\\nlady  capulet.  hold,  take  these  keys,  and  fetch  more \\n\\nspices,  nurse. \\nnurse-.  they  call  for  dates  and  quinces  in  the  pastry. \\n\\nenter  capulet. \\n\\ncapulet.  come,  stir,  stir,  stir  !  the  second  cock  hath \\ncrow\\'d, \\nthe  curfew-bell  hath  rung,  \\'tis  three  o\\'clock.  — \\nlook  to  the  bak\\'d  meats,  good  angelica  ; \\nspare  not  for  cost. \\n\\nn\\'urse.  go,  you  cot-quean,  go, \\n\\nget  you  to  bed ;  faith,  you\\'ll  be  sick  to-morrow \\nfor  this  night\\'s  watching. \\n\\ncapulet.  no,  not  a  whit.     what !  i  have  watch\\'d  ere \\nnow \\nall  night  for  lesser  cause,  and  ne\\'er  been  sick. \\n\\n\\n112  romeo  and  juliet. \\n\\nlady  capulet.  ay,  you  have  been  a  mouse-hunt  in \\nyour  time ; \\nbut  i  will  watch  you  from  such  watching  now. \\n\\n\\\\_exeunt  lady  capulet  and  niirse. \\ncaindet.  a  jealous-hood,  a  jealous-hood !  — \\n\\nenter  three  or  four  servingmen,  ivith  spits,  logs,  and \\nbaskets. \\n\\nnow,  fellow, \\nwhat\\'s  there  ? \\n\\n1  servant.  things  for  the  cook,  sir ;  but  i  know  not \\nwhat. \\n\\ncapulet.  make  haste,  make  haste. — \\\\_exit  servant.\\'] \\nsirrah,  fetch  drier  logs ; \\ncall  peter,  he  will  show  thee  where  they  are. \\n\\n2  servant.  i  have  a  head,  sir,  that  will  find  out  logs. \\nand  never  trouble  peter  for  the  matter.  \\\\_exit. \\n\\ncapulet.  mass,  and  well  said ;  a  merry  whoreson,  ha ! \\nthou  shalt  be  logger-head.  —  good  faith,  \\'tis  day : \\nthe  county  will  be  here  with  music  straight, \\npor  so  he  said  he  would.     i  hear  him  near.  — \\n\\n\\\\music  within. \\nnurse  !  —  wife  !  —  what,  ho  !  —  what,  nurse,  i  say ! \\n\\nre-enter  nurse. \\n\\ngo  waken  juliet,  go  and  trim  her  up ; \\n\\ni\\'ll  go  and  chat  with  paris.  —  hie,  make  haste, \\n\\n\\nbomeo  and  juliet.  113 \\n\\nmake  haste ;  the  bridegroom  he  is  come  already : \\nmake  haste,  i  say.  [exeunt. \\n\\n\\nscene  v.     jtdiefs  chamber. \\n\\nenter  nurse. \\n\\nnurse.  mistress  !  what,  mistress  !  juliet !  fast,  i  war- \\nrant her,  she.  — \\nwhy,  lamb  !  why,  lady  !  fie,  you  slug-a-bed  ! \\nwhy,  love,  i  say !  madam  !  sweet-heart !  why,  bride  ! \\nwhat,  not  a  word  ?  —  how  sound  is  she  asleep  ! \\ni  needs  must  wake  her.  —  madam,  madam,  madam ! \\nay,  let  the  county  take  you  in  your  bed ; \\nhe\\'ll  fright  you  up,  i\\'  faith.  —will  it  not  be  ? \\n\\n[  undraws  the  curtains. \\nwhat,  dress\\'d !  and  in  your  clothes !   and  down  again  ! \\ni  must  needs  wake  you.     lady  !  lady !  lady !  — \\nalas,  alas  !  —  help,  help  !  my  lady\\'s  dead !  — \\n0,  well-a-day,  that  ever  i  was  born !  — \\nsome  aqua  vitae,  ho  !  —  my  lord !  my  lady ! \\n\\nenter  lady  capulet. \\n\\nlady  capulet.  what  noise  is  here  ? \\n\\nnurse.  0  lamentable  day ! \\n\\nlady  capidet.  what  is  the  matter  ? \\n\\nnurse.  look,  look !  0  heavy  day  ! \\n\\n\\n114  romeo  and  juliet. \\n\\nlady  capulet.  0  me,  0  me  !     my  child,  my  only  life, \\neevive,  look  up,  or  i  will  die  with  thee  !  — \\nhelp,  help !     call  help. \\n\\nenter  capulet. \\n\\nccqndet.  for  shame,  bring  juliet  forth;  her  lord  is \\n\\ncome. \\nnurse.    she\\'s   dead,  deceas\\'d,  she\\'s   dead  ;    alack   the \\n\\nday  ! \\nlady  capillet.  alack  the  day,  she\\'s  dead,  she\\'s  dead, \\n\\nshe\\'s  dead ! \\ncapulet.  ha !  let  me  see  her.     out,  alas  !  she\\'s  cold ; \\nher  blood  is  settled,  and  her  joints  are  stiff; \\nlife  and  these  lips  have  long  been  separated. \\ndeath  lies  on  her  like  an  untimely  frost \\nupon  the  sweetest  flower  of  all  the  field. \\nnurse.  0  lamentable  day  ! \\nlady  capulet.  0  woful  time  ! \\n\\ncapulet.  death,  that  hath  ta\\'en  her  hence  to  make  me \\nwail, \\nties  up  my  tongue  and  will  not  let  me  speak. \\n\\nenter  friar  laurence  a?zcz  paris,  ivith  musicians. \\n\\nfriar  laurence.  come,  is  the  bride  ready  to  go  to \\n\\nchurch  ? \\ncapulet.  eeady  to  go,  but  never  to  return. \\n0  son !  the  night  before  thy  wedding-day \\n\\n\\neomeo  and  juliet.  115 \\n\\nhath  death  lain  with  thy  wife.     see,  there  she  lies, \\nflower  as  she  was,  deflower\\'d  by  him. \\ndeath  is  my  son-in-law.  death  is  my  heir ; \\nmy  daughter  he  hath  wedded.     i  will  die, \\nand  leave  him  all;  life,  living,  all  is  death\\'s. \\n\\nparis.  have  i  thought  long  to  see  this  morning\\'s  face,. \\nand  doth  it  give  me  such  a  sight  as  this  ? \\n\\nlady   cajjulet.    accurst,  unhappy,   wretched,  hateful \\nday! \\nmost  miserable  hour  that  e\\'er  time  saw \\nin  lasting  labor  of  his  pilgrimage  ! \\nbut  one,  poor  one,  one  poor  and  loving  child, \\nbut  one  thing  to  rejoice  and  solace  in. \\nand  cruel  death  hath  catch \\'d  it  from  my  sight ! \\n\\nnurse.  0  woe  !  0  woful,  woful,  woful  day  ! \\nmost  lamentable  day,  most  woful  day, \\nthat  ever,  ever,  i  did  yet  behold ! \\n0  day  !  0  day  !  0  day  !  0  hateful  day  ! \\nnever  was  seen  so  black  a  day  as  this : \\n0  woful  day,  0  woful  day  ! \\n\\nparis.  beguil\\'d,  divorced,  wronged,  spited,  slain  ! \\nmost  detestable  death,  by  thee  beguil\\'d. \\nby  cruel,  cruel  thee  quite  overthrown!- \\n0  love !  0  life  !  not  life,  but  love  in  death ! \\n\\nca\\'pulet.  despis\\'d,  distressed,  hated,  martyr\\'d,  kill\\'d  \\\\ \\nuncomfortable  time,  why  cam\\'st  thou  now \\nto  murder,  murder  our  solemnity  ?  — \\n\\n\\niiq  liomeo  and  juliet. \\n\\n0  clnld  !  0  child  !  my  soul,  and  not  my  child  ! \\ndead  art  thou !     alack !  my  child  is  dead  ; \\nand  with  my  child  my  joys  are  buried. \\n\\nfriar  laurence.  peace,  ho !  for  shame  !  confusion\\'s  cure \\nlives  not \\nin  these  confusions.     heaven  and  yourself \\nhad  part  in  this  fair  maid ;  now  heaven  liath  all, \\nand  all  the  better  is  it  for  the  maid : \\nyour  part  in  her  you  could  not  keep  from  death. \\nbut  heaven  keeps  his  part  in  eternal  life. \\nthe  most  you  sought  was  her  promotion. \\nfor  \\'twas  your  heaven  she  should  be  advanc\\'d ; \\nand  weep  ye  now,  seeing  she  is  advanc\\'d \\nabove  the  clouds,  as  high  as  heaven  itself  ? \\n0,  in  this  love,  you  love  your  child  so  ill. \\nthat  3^ou  run  mad,  seeing  that  she  is  well ; \\nshe\\'s  not  well  married  that  lives  married  long, \\nbut  she\\'s  best  married  that  dies  married  young. \\ndry  up  your  tears,  and  stick  your  rosemary \\non  this  fair  corse,  and,  as  the  custom  is. \\nin  all  her  best  array  bear  her  to  church ; \\nfor  though  fond  nature  bids  us  all  lament, \\nyet  nature\\'s  tears  are  reason\\'s  merriment. \\n\\ncapulet.  all  things  that  we  ordained  festival, \\nturn  from  their  office  to  black  funeral : \\nour  instruments  to  melancholy  bells, \\nour  wedding  cheer  to  a  sad  burial  feast, \\n\\n\\nromeo  and  juliet.  \\\\\\\\1 \\n\\nour  solemn  hymns  to  sullen  dirges  change, \\nour  bridal  flowers  serve  for  a  buried  corse, \\nand  all  things  change  them  to  the  contrary. \\n\\nfriar  laurence.  sir,  go  you  in,  —and,  madam,  go  with \\nhim ;  — \\nand  go,  sir  paris  ;  —  every  one  prepare \\nto  follow  this  fair  corse  unto  her  grave. \\nthe  heavens  do  lower  upon  you  for  some  ill ; \\nmove  them  no  more  by  crossing  their  high  will. \\n\\n[exeunt  capulet,  lady  capidet,  paris,  and  friar. \\n\\n1  musician.  faith,  we  may  put  up  our  pipes,  and  be \\ngone. \\n\\nnurse.  honest  good  fellows,  ah,  put  up,  put  up  ; \\ntor,  well  you  know,  this  is  a  pitiful  case.  \\\\_exit. \\n\\n1  musician.  ay,  by  my  troth,  the  case  may  be  amended. \\n\\nenter  peter. \\n\\npeter.  musicians,  0,  musicians,  \\'heart\\'s  ease.  heart\\'s \\nease : \\'  0,  an  you  will  have  me  live,  play  \\'  heart\\'s  ease.\\' \\n\\n1  musician.  why  \"^  heart\\'s  ease  \\'  ? \\n\\npeter.  0,  musicians,  because  my  heart  itself  plays  \\'my \\nheart  is  full  of  woe  : \\'  0,  play  me  some  merry  dump,  to \\ncomfort  me. \\n\\n1  musician.  not  a  dump  we ;  \\'tis  no  time  to  play  now. \\n\\npeter.  you  will  not,  then  ? \\n\\n1  musician.  no. \\n\\npeter.  i  will  then  give  it  you  soundly. \\n\\n\\n118  romeo  and  juliet. \\n\\n1  musician.  what  will  you  give  us  ? \\n\\npeter.  no  money,  on  my  faith,  but  the  gleek ;  i  avill \\ngive  you  the  minstrel. \\n\\n1  llusician.  then  will  i  give  you  the  serving-creature. \\n\\npeter.  then  will  i  lay  the  serving-creature\\'s  dagger  on \\nyour  pate.  i  will  carry  no  crotchets  :  i\\'ll  re  you,  i\\'ll  fa \\nyou  ;  do  you  note  me  ? \\n\\n1  musician.  an  you  re  us  and  fa  us,  you  note  us. \\n\\n2  musician.  pray  you,  put  up  your  dagger,  and  put \\nout  your  wit. \\n\\npeter.  then  have  at  you  with  my  wit !  i  will  dry-beat \\nyou  with  an  iron  wit,  and  put  up  my  iron  dagger. \\nanswer  nie  like  men  : \\n\\n\\'  when  griping  grief  the  heart  doth  wound, \\n\\n•and  doleful  dumps  the  mind  oppress, \\nthen  music  with  her  silver  sound\\'  — \\nwhy  \\'silver  sound\\'?  why  \\'music  with  her  silver  sound\\'  ? \\n— what  say  you,  simon  catling? \\n\\n1  musician.  marry,  sii\\',  because  silver  hath  a  sweet \\nsound. \\n\\npeter.  pretty !  —  what  say  you,  hugh  eebeck  ? \\n\\n2  musician.  i  say  \\'silver  sound,\\'  because  musicians \\nsound  for  silver. \\n\\npeter.  pretty  too !  —  what  say  you,  james  sound- \\npost? \\n\\n3  musician.  faith,  i  know  not  what  to  say. \\n\\npeter.  0,  i  cry  you  mercy  ;  you  are  the  singer  :  i  will \\n\\n\\neomeo  and  juliet.  119 \\n\\nsay  for  you.  it  is  \\'  music  with  her  silver  sound,\\'  because \\nmusicians  have  no  gokl  for  sounding : \\n\\n\\'  then  music  with  her  silver  sound \\n\\nwith  speedy  help  doth  lend  redress.\\'         \\\\_exit. \\n\\n1  musician.  what  a  pestilent  knave  is  this  same  ! \\n\\n2  musician.  hang  him,  jack  !  —  come,  we\\'ll  in  here  ; \\ntarry  for  the  mourners,  and  stay  dinner.  \\\\_exeunt. \\n\\n\\nact  v. \\n\\nscene  i.     mantua.    a  street. \\n\\nenter  romeo. \\n\\nromeo.  if  i  may  trust  the  flattering  trutli  of  sleep, \\nmy  dreams  presage  some  joyful  news  at  hand. \\nmy  bosom\\'s  lord  sits  lightly  in  his  throne ; \\nand  all  this  day  an  unaccustoni\\'d  spirit \\nlifts  me  above  the  ground  with  cheerful  thoughts. \\ni  dreamt  my  lady  came  and  found  me  dead  — \\nstrange  dream  that  gives  a  dead  man  leave  to  think !  — \\nand  breath\\'d  such  life  with  kisses  in  my  lips, \\nthat  i  reviv\\'d,  and  was  an  emperor. \\nah  me  !  how  sweet  is  love  itself  possess\\'d, \\nwhen  but  love\\'s  shadows  are  so  rich  in  joy ! \\n\\nenter  balthasar. \\n\\nnews  from  verona !  —  how  now,  balthasar ! \\ndost  thou  not  bring  me  letters  from  the  friar  ? \\nhow  doth  my  lady  ?     is  my  father  well  ? \\nhow  fares  my  juliet  ?  that  i  ask  again ; \\nfor  nothing  can  be  ill,  if  she  be  well. \\n\\nbalthasar.  then  she  is  well,  and  nothing  can  be  ill ; \\nher  body  sleeps  in  capel\\'s  monument, \\n\\n120 \\n\\n\\nromeo  and  juliet.  121 \\n\\nand  lier  immortal  part  with  angels  lives. \\ni  saw  her  laid  low  in  her  kindred\\'s  vault, \\nand  presently  took  post  to  tell  it  you. \\n0,  pardon  me  for  bringing  these  ill  news, \\nsince  you  did  leave  it  for  my  office,  sir. \\n\\nromeo.  is  it  even  so  ?  then  i  defy  you,  stars  !  — \\nthou  know\\'st  my  lodging  :  get  me  ink  and  paper. \\nand  hire  post-horses  ;  i  will  hence  to-night. \\n\\nbalthasar.  i  do  beseech  you,  sir,  have  patience  ; \\nyour  looks  are  pale  and  wild,  and  do  import \\nsome  misadventure. \\n\\nromeo.  tush,  thou  art  deceiv\\'d ; \\n\\nleave  me,  and  do  the  thing  i  bid  thee  do. \\nhast  thou  no  letters  to  me  from  the  friar  ? \\n\\nbalthasar.  no,  my  good  lord. \\n\\nromeo.  isto  matter :  get  thee  gone, \\n\\nand  hire  those  horses ;  i\\'ll  be  with  thee  straight. — \\n\\n[_exit  balthasar. \\nwell,  juliet,  i  will  lie  with  thee  to-night. \\nlet\\'s  see  for  means.  —  0  mischief,  thou  art  swift \\nto  enter  in  the  thoughts  of  desperate  men ! \\ni  do  remember  an  apothecary,  — \\nand  hereabouts  he  dwells,  —  which  late  i  noted \\nin  tatter\\'d  weeds,  with  overwhelming  brows. \\nculling  of  simples  ;  meagre  were  his  looks. \\nsharp  misery  had  worn  him  to  the  bones : \\nand  in  his  needy  shop  a  tortoise  hung. \\n\\n\\n122  romeo  and  juliet. \\n\\nan  alligator  stuff\\'d,  and  other  skins \\n\\nof  ill-shap\\'d  fishes ;  and  about  his  shelves \\n\\na  beggarly  account  of  empty  boxes, \\n\\ngreen  earthen  pots,  bladders,  and  musty  seeds, \\n\\nremnants  of  packthread  and  old  cakes  of  roses, \\n\\nwere  thinly  scatter\\'d,  to  make  up  a  show. \\n\\nnoting  this  penury,  to  myself  i  said. \\n\\nan  if  a  man  did  need  a  poison  now, \\n\\nwhose  sale  is  present  death  in  mantua, \\n\\nhere  lives  a  caitiff  wretch  would  sell  it  him. \\n\\n0,  this  same  thought  did  but  forerun  my  need, \\n\\nand  this  same  needy  man  must  sell  it  me  ! \\n\\nas  i  remember,  this  should  be  the  house. \\n\\nbeing  holiday,  the  beggar\\'s  shop  is  shut. — \\n\\nwhat,  ho !  apothecary ! \\n\\nent67\\'  apothecary. \\n\\napothecary.  who  calls  so  loud  ? \\n\\nromeo.  come  hither,  man.     i  see  that  thou  art  poor : \\nhold,  there  is  forty  ducats  ;  let  me  have \\na  dram  of  poison,  such  soon-speeding  gear \\nas  will  disperse  itself  through  all  the  veins \\nthat  the  life-weary  taker  may  fall  dead. \\nand  that  the  trunk  may  be  discharg\\'d  of  breath \\nas  violently  as  hasty  powder  fir\\'d \\ndoth  hurry  from  the  fatal  cannon\\'s  womb. \\n\\n\\nbomeo  and  juliet.  123 \\n\\na]jothecary.  sucli  mortal  drugs  i  have ;  but  mantua\\'s \\nlaw \\nis  deatli  to  any  he  that  utters  them. \\n\\nromeo.  art  thou  so  bare  and  full  of  wretchedness, \\nand  fear\\'st  to  die  ?  famine  is  in  thy  cheeks, \\nneed  and  oppression  starveth  in  thine  eyes, \\ncontempt  and  beggary  hangs  upon  thy  back, \\nthe  world  is  not  thy  friend,  nor  the  world\\'s  law : \\nthe  world  affords  no  law  to  make  thee  rich ; \\nthen  be  not  poor,  but  break  it,  and  take  this. \\n\\napothecary.  my  poverty,  but  not  my  will,  consents.    . \\n\\nromeo.  i  pay  thy  poverty,  and  not  thy  will. \\n\\napothecary.  put  this  in  any  liquid  thing  you  will. \\nand  drink  it  off ;  and,  if  you  had  the  strength \\nof  twenty  men,  it  would  dispatch  you  straight. \\n\\nromeo.  there  is  thy  gold,  worse  poison  to  men\\'s  souls, \\ndoing  more  murders  in  this  loathsome  world, \\nthan  these  poor  compounds  that  thou  mayst  not  sell. \\ni  sell  thee  poison,  thou  hast  sold  me  none. \\nfarewell ;  buy  food,  and  get  thyself  in  flesh.  — \\ncome,  cordial  and  not  poison,  go  with  me \\nto  juliet\\'s  grave  j  for  there  must  i  use  thee.      \\\\exeunt. \\n\\n\\n124  romeo  and  juliet. \\n\\nscene  ii.     friar  laurence\\'s  cell. \\nenter  fkiar  john. \\nfriar  john.  holy  franciscan  friar  !  brother,  ho ! \\n\\nenter  friar  laurence. \\n\\nfriar  laurence.  this  same  should  be  the  voice  of  friar \\njohn.  — \\nwelcome  from  mantua ;  what  says  romeo  ? \\nor,  if  his  mind  be  writ,  give  me  his  letter. \\n\\nfriar  john.  going  to  find  a  barefoot  brother  out, \\none  of  our  order,  to  associate  me. \\nhere  in  this  city  visiting  the  sick, \\nand  finding  him,  the  searchers  of  the  town, \\nsuspecting  that  we  both  were  in  a  house \\nwhere  the  infectious  pestilence  did  reign, \\nseal\\'d  up  the  doors,  and  would  not  let  us  forth ; \\nso  that  my  speed  to  mantua  there  was  stay\\'d. \\n\\nfriar  laurence.  who  bare  my  letter,  then,  to  romeo  ? \\n\\nfriar  john.  i  could  not  send  it,  —  here  it  is  again,  — \\nistor  get  a  messenger  to  bring  it  thee. \\nso  fearful  were  they  of  infection. \\n\\nfriar  laurence.    unhappy  fortune!   by  my  brother- \\nhood. \\nthe  letter  was  not  nice,  but  full  of  charge \\nof  dear  import,  and  the  neglecting  it \\n\\n\\nromeo  and  juliet.  125 \\n\\nmay  do  much  danger.     friar  john,  go  hence  ; \\nget  me  an  iron  crow,  and  bring  it  straight \\nunto  my  cell. \\n\\nfriar  john.  brother,  i\\'ll  go  and  bring  it  thee.     \\\\_exit. \\n\\nfriar  laurence.  xow  must  i  to  the  monument  alone ; \\nwithin  this  three  hours  will  fair  juliet  wake. \\nshe  will  beshrew  me  much  that  eomeo \\nhath  had  no  notice  of  these  accidents ; \\nbut  i  will  write  again  to  mantua, \\nand  keep  her  at  my  cell  till  romeo  come : \\npoor  living  corse,  clos\\'d  in  a  dead  man\\'s  tomb !       [.exit. \\n\\n\\nscene  iii.     a  churchyard ;  in  it  a  tomb  belonging  to \\nthe  cajjulets. \\n\\nenter  paris,  and  his  page,  bearing  flowers  and  a  torch. \\n\\nparis.    give   me   thy   torch,   boy;    hence,   and   stand \\naloof : \\nyet  put  it  out,  for  i  would  not  be  seen. \\nunder  yond  yew-trees  lay  thee  all  along. \\nholding  thine  ear  close  to  the  hollow  ground ; \\nso  shall  no  foot  upon  the  churchyard  tread. \\nbeing  loose,  unfirm,  with  digging  up  of  graves, \\nbut  thou  shalt  hear  it :  whistle  then  to  me. \\nas  signal  that  thou  hear\\'st  something  approach. \\ngive  me  those  flowers.     do  as  i  bid  thee,  go. \\n\\n\\n126  liomeo  and  juliet. \\n\\npage.  [_as\\'ide]  i  am  almost  afraid  to  stand  alone \\nhere  in  the  churchyard  ;  yet  i  will  adventure.    \\\\_ref.ires. \\n\\nparis.  sweet  flower,  avith   flowers    thy  bridal  bed  i \\nstrew. \\n\\n0  woe  !  thy  canopy  is  dust  and  stones, \\nwhich  with  sweet  water  nightly  i  will  dew. \\n\\nor,  wanting  that,  with  tears  distill\\'d  by  moans ; \\nthe  obsequies  that  i  for  thee  will  keep \\nnightly  shall. be  to  strew  thy  grave  and  weep. \\n\\n\\\\_the  page  whistles. \\nthe  boy  gives  warning  something  doth  approach. \\nwhat  cursed  foot  wanders  this  way  to-night. \\nto  cross  my  obsequies  and  true  love\\'s  rite  ? \\nwhat,  with  a  torch !  —  muffle  me,  night,  awhile. \\n\\n\\\\_ii.etires. \\n\\nenter\\'  eomeo  and  balthasar,  ivith  a  torch,  mattock,  etc. \\n\\nromeo.  give  me  that  mattock  and  the  wrenching  iron. \\nhold,  take  this  letter  ;  early  in  the  morning \\nsee  thou  deliver  it  to  my  lord  and  father. \\ngive  me  the  light.     upon  thy  life,  i  charge  thee, \\nwhate\\'er  thou  hear\\'st  of  seest,  stand  all  aloof, \\nand  do  not  interrupt  me  in  my  course. \\nwhy  i  descend  into  this  bed  of  death \\nis  partly  to  behold  my  lady\\'s  face, \\nbut  chiefly  to  take  thence  from  her  dead  finger \\na  precious  ring,  a  ring  that  i  must  use \\n\\n\\neomeo  and  juliet.  127 \\n\\nin  dear  employment.     therefore  hence,  be  gone ; \\nbut  if  thou,  jealous,  dost  return  to  pry- \\nin  what  i  further  shall  intend  to  do, \\nby  heaven,  i  will  tear  thee  joint  by  joint \\nand  strew  this  hungry  churchyard  with  thy  limbs. \\nthe  time  and  my  intents  are  savage-wild. \\nmore  fierce  and  more  inexorable  far \\nthan  empty  tigers  or  the  roaring  sea. \\n\\nbalthasar.  i  will  be  gone,  sir,  and  not  trouble  you. \\n\\nborneo.  so  shalt  thou  show  me  friendship.     take  thou \\nthat : \\nlive,  and  be  prosperous ;  and  farewell,  good  fellow. \\n\\nbalthasar.   \\\\^aside\\\\  for  all   this    same,  i\\'ll   hide    me \\nhereabout ; \\nhis  looks  i  fear,  and  his  intents  i  doubt.  [eetires. \\n\\nborneo.  thou  detestable  maw,  tliou  womb  of  death, \\ngorg\\'d  with  the  dearest  morsel  of  the  earth, \\nthus  i  enforce  thy  rotten  jaws  to  oj)en. \\nand,  in  despite,  i\\'ll  cram  thee  with  more  food  ! \\n\\nl^opens  the  tovih. \\n\\nparis.  this  is  that  banish\\'d  haughty  montague, \\nthat  murder\\'d  my  love\\'s  cousin,  —  with  which  grief, \\nit  is  supposed,  the  fair  creature  died,  — \\nand  here  is  come  to  do  some  villanous  shame \\nto  the  dead  bodies  ;  i  will  apprehfend  him. —  \\\\_aclvances. \\nstop  thy  unhallow\\'d  toil,  vile  montague  ! \\ncan  vengeance  be  pursued  further  than  death  ? \\n\\n\\n128  bomeo  and  juliet. \\n\\ncondemned  villain,  i  do  apprehend  tliee : \\nobe}\\',  and  go  with  me  ;  for  thou  must  die. \\n\\nborneo.  i  must  indeed,  and  therefore  came  i  hither. \\ngood  gentle  youth,  tempt  not  a  desperate  man  ; \\nfly  hence,  and  leave  me  :  think  upon  these  gone ; \\nlet  them  affright  thee.     i  beseech  thee,  youth, \\nput  not  another  sin  upon  my  head, \\nby  urging  me  to  fury  ;  0,  be  gone ! \\nby  heaven  i  love  thee  better  than  myself ; \\nfor  i  come  hither  arm\\'d  against  myself. \\nstay  not,  be  gone ;  live,  and  hereafter  say, \\na  madman\\'s  mercy  bade  thee  run  away. \\n\\nparis.  i  do  defy  thy  conjurations, \\nand  apprehend  thee  for  a  felon  here. \\n\\nromeo.  wilt  thou  provoke  me\\'?  then  have  at  thee,  boy ! \\n\\n\\\\_they  fight. \\n\\npage.  0,  lord,  they  fight !  i  will  go  call  the  watch. \\n\\n\\\\_exit. \\n\\nparis.  0,  i  am  slain  !  —  \\\\_falls\\']  if  thou  be  merciful, \\nopen  the  tomb,  lay  me  with  juliet.  \\\\_dies. \\n\\nromeo.  in  faith,  i  will.  — let  me  peruse  this  face. \\nmercutio\\'s  kinsman,  noble  county  paris  ! \\nwhat  said  my  man,  when  my  betossed  soul \\ndid  not  attend  him  as  we  rode  ?     i  think \\nhe  told  me  paris  should  have  married  juliet ; \\nsaid  he  not  so  ?  or  did  i  dream  it  so  ? \\nor  am  i  mad,  hearing  him  talk  of  juliet, \\n\\n\\nromeo  and  juliet.  129 \\n\\nto  think  it  was  so  ?  —  0,  give  me  tliy  hand, \\none  writ  with  me  in  sour  misfortune\\'s  book ! \\ni\\'ll  bury  thee  in  a  triumphant  grave,  — \\na  grave  ?  0,  no  !  a  lantern,  slaughter\\'d  youth ; \\nfor  here  lies  juliet,  and  her  beauty  makes \\nthis  vault  a  feasting  presence  full  of  light. \\ndeath,  lie  thou  there,  by  a  dead  man  interr\\'d.  — \\n\\n\\\\_laying  paris  in  the  tomb. \\nhow  oft  when  men  are  at  the  point  of  death \\nhave  they  been  merry !  which  their  keepers  call \\na  lightning  before  death ;  0,  how  may  i \\ncall  this  a  lightning  ?  —  0  my  love  !  my  wife ! \\ndeath,  that  hath  suck\\'d  the  honey  of  thy  breath, \\nhath  had  no  power  yet  upon  thy  beauty : \\nthou  art  not  conquer\\'d  ;  beauty\\'s  ensign  yet \\nis  crimson  in  thy  lips  and  in  thy  cheeks. \\nand  death\\'s  pale  flag  is  not  advanced  there.  — \\ntybalt,  liest  thou  there  in  thy  bloody  sheet  ? \\no,  what  more  favor  can  i  do  to  thee \\nthan  with  that  hand  that  cut  thy  youth  in  twain \\nto  sunder  his  that  was  thine  enemy  ? \\nforgive  me,  cousin  !  — ah,  dear  juliet, \\nwhy  art  thou  yet  so  fair  ?  shall  i  believe \\nthat  unsubstantial  death  is  amorous. \\nand  that  the  lean  abhorred  monster  keeps \\nthee  here  in  dark  to  be  his  paramour  ? \\nfor  fear  of  that,  i  still  will  stay  with  thee ; \\n\\n\\n130  romeo  and  juliet. \\n\\nand  never  from  this  palace  of  dim  night \\n\\ndepart  again  :  here,  here  will  i  remain \\n\\nwith  wonms  that  are  thy  chamber-maids ;  0,  here \\n\\navill  i  set  np  my  everlasting  rest, \\n\\nand  shake  the  yoke  of  inauspicious  stars \\n\\nfrom  this  world-wearied  flesh.  —  eyes,  look  your  last ! \\n\\narms,  take  your  last  embrace !  and,  lips,  0  you \\n\\nthe  doors  of  breath,  seal  with  a  righteous  kiss \\n\\na  dateless  bargain  to  engrossing  death ! \\n\\ncome,  bitter  conduct,  come,  unsavory  guide  ! \\n\\nthou  desperate  pilot,  now  at  once  run  on \\n\\nthe  dashing  rocks  thy  sea-sick  weary  bark ! \\n\\nhere\\'s  to  my  love  !  [drinks\\']  —  0  true  apothecary ! \\n\\nthy  drugs  are  quick.  —  thus  with  a  kiss  i  die.        [dies. \\n\\nenter,  at  the  other  end  of  the  churchyard,  friar  lau- \\nrence, ivith  a  lantern,  crow,  and  spade. \\n\\nfriar  laurence.  saint  francis  be  my  speed !  how  oft \\nto-night \\nhave  my  old  feet  stumbled  at  graves  !  —  who\\'s  there  ? \\nbalthasar.  here\\'s  one,  a  friend,  and  one  that  knows \\n\\nyou  well. \\nfriar  laurence.  bliss  be  upon  you !     tell  me,  good \\nmy  friend. \\nwhat  torch  is  yond,  that  vainly  lends  his  light \\nto  grubs  and  eyeless  skulls  ?  as  i  discern. \\nit  burneth  in  the  capels\\'  monument. \\n\\n\\nromeo  and  juliet.  131 \\n\\nbalthasar.  it  doth  so,  holy  sir ;  and  there\\'s  my  master. \\none  that  you  love. \\n\\nfriar  laurence.         who  is  it  ? \\n\\nbalthasar.  romeo. \\n\\nfriar  laurence.  how  long  hath  he  been  there  ? \\n\\nbalthasar.  full  half  an  hour. \\n\\nfriar  laurence.  go  with  me  to  the  vault. \\n\\nbalthasar.  i  dare  not,  sir : \\n\\nmy  master  knows  not  but  i  am  gone  hence ; \\nand  fearfully  did  menace  me  with  death. \\nif  i  did  stay  to  look  on  his  intents. \\n\\nfriar  laurence.  stay,  then ;  i\\'ll  go  alone.  — fear  comes \\nupon  me ; \\n\\n0,  much  i  fear  some  ill  unlucky  thing  ! \\n\\nbalthasar.  as  i  did  sleep  under  this  yew-tree  here, \\ni  dreamt  my  master  and  another  fought. \\nand  that  my  master  slew  him. \\n\\nfriar  laurence.  romeo !         \\\\_advances. \\n\\nalack,  alack,  what  blood  is  this,  which  stains \\nthe  stony  entrance  of  this  sepulchre  ?  — \\nwhat  mean  these  masterless  and  gory  swords \\nto  lie  discolor\\'d  by  this  place  of  peace  ? \\n\\n\\\\finters  the  tomb. \\nromeo  !  0,  pale  !  —  who  else  ?  what,  paris  too  ? \\nand  steep\\'d  in  blood  ?  —  ah,  what  an  unkind  hour \\nis  guilty  of  this\\'  lamentable  chance !  — \\nthe  lady  stirs.  [juliet  wakes. \\n\\n\\n132  romeo  and  juliet. \\n\\njuliet.  0  comfortable  friar !  where  is  my  lord  ?  — \\ni  do  remember  well  wliere  i  should  be, \\nand  there  i  am.  —  where  is  my  eomeo  ?    \\\\_noise  tvithin. \\n\\nfriar  laurence.  i  hear  some  noise. — lady,  come  from \\nthat  nest \\nof  death,  contagion,  and  unnatural  sleep ;    . \\na  greater  power  than  we  can  contradict \\nhath  thwarted  our  intents.     come,  come  away. \\nthy  husband  in  thy  bosom  there  lies  dead  ; \\nand  paris  too.     come,  i\\'ll  dispose  of  thee \\namong  a  sisterhood  of  holy  nuns  : \\nstay  not  to  question,  for  the  watch  is  coming ; \\ncome,  go,  good  juliet.  [_noise  agaiii]  —  i  dare  no  longer \\nstay. \\n\\njuliet.  go,  get  thee  hence,  for  i  will  not  away. \\n\\n\\\\_exit  friar  laurence. \\nwhat\\'s  here  ?  a  cup,  clos\\'d  in  my  true  love\\'s  hand  ?. \\npoison,  i  see,  hath  been  his  timeless  end.  — \\n0  churl !  drunk  all,  and  left  no  friendly  drop \\nto  help  me  after  ?  —  i  will  kiss  thy  lips  ; \\nhaply  some  poison  yet  doth  hang  on  them. \\nto  make  me  die  with  a  restorative.  \\\\_kisses  him. \\n\\nthy  lips  are  warm. \\n\\n1  watch.  [  withhi]  lead,  boy ;  which  way  ? \\n\\njuliet.   yea,   noise  ?   then   i\\'ll   be   brief.  —  0    happy \\n\\ndagger  !  \\\\_8natching  borneo^ s  dagger. \\n\\nthis  is  thy  sheath  \\\\_stahs  he7-self\\'] ;  there  rest,  and  let  me \\n\\ndie.  [^falls  on  romeo\\'s  body,  and  dies. \\n\\n\\nromeo  and  juliet.  x33 \\n\\nenter  watch,  ivlth  the  page  of  paris. \\n\\npage.  this  is  the  place ;  there,  where  the  torch  doth \\nburn. \\n\\n1   watch.  the  ground   is   bloody;   search   about   the \\nchurchyard. \\ngo,  some  of  you,  whoe\\'er  you  find  attach.  — \\npitiful  sight !  here  lies  the  county  slain ; \\nand  juliet  bleeding,  warm,  and  newly  dead, \\nwho  here  hath  lain  these  two  days  buried.  —      - \\ngo,  tell  the  prince  ;  —  run  to  the  capulets ;  — \\n\\nkaise  up  the  montagues ;  —  some  others  search. \\n\\nwe  see  the  ground  whereon  these  woes  do  lie ; \\nbut  the  true  ground  of  all  these  piteous  woes \\nwe  cannot  without  circumstance  descry. \\n\\nbe-enter  some  of  the  watch,  with  balthasar. \\n\\n2  watch.  here\\'s  eomeo\\'s  man ;  we  found  him  in  the \\nchurchyard. \\n\\n1   watch.  hold  him  in  safety,  till  the  prince  come \\nhither. \\n\\nre-enter  others  of  the  watch,  with  friar  laurence. \\n\\n3  watch.  here  is  a  friar,  that  trembles,  sighs,  and \\nweeps ; \\n\\nwe  took  this  mattock  and  this  spade  from  him, \\nas  he  was  coming  from  this  churchyard  side. \\n1  watch.  a  great  suspicion  ;  stay  the  friar  too. \\n\\n\\n134  bomeo  and  juliet. \\n\\nenter  the  pkince  and  attendants.    . \\n\\nprince.  what  misadventure  is  so  early  up, \\nthat  calls  our  person  from  our  morning\\'s  rest  ? \\n\\nenter  capulet,  lady  capulet,  and  others. \\n\\ncapulet.  what  shovild  it  be,  that  they  so  shriek  abroad  ? \\n\\nlady  capulet.  the  people  in  the  street  cry  e-omeo, \\nsome  juliet,  and  some  paris,  and  all  run \\nwith  open  outcry  toward  our  monument. \\n\\nprince.  what  fear  is  this  which  startles  in  our  ears  ? \\n\\n1  watch.  sovereign,  here  lies  the  county  paris  slain ; \\nand  eomeo  dead ;  and  juliet,  dead  before, \\nwarm  and  new  kill\\'d. \\n\\nprince.  search,  seek,  and  know  how  this  foul  murder \\ncomes. \\n\\n1    watch.  here  is  a  friar,  and  slaughter\\'d  eomeo\\'s \\nman, \\nwith  instruments  upon  them  fit  to  open \\nthese  dead  men\\'s  tombs. \\n\\ncapulet.  0  heaven  !  —  0  wife,  look  how  our  daughter \\nbleeds ! \\nthis  dagger  hath  mista\\'en,  —  for,  lo,  his  house \\nis  empty  on  the  back  of  montague,  — \\nand  is  mis-sheathed  in  my  daughter\\'s  bosom. \\n\\nlady  capulet.  0  me  !  this  sight  of  death  is  as  a  bell, \\nthat  warns  my  old  age  to  a  sepulchre. \\n\\n\\nromeo  and  juliet.  i35 \\n\\nunter  montague  and  others. \\n\\nprince.  come,  montague  ;  for  thou  art  early  up, \\n-to  see  thy  son  and  heir  more  early  down. \\n\\nmontague.  alas,  my  liege,  my  wife  is  dead  to-night  ; \\ngrief  of  my  son\\'s  exile  hath  stopp\\'d  her  breath. \\nwhat  further  woe  conspires  against  mine  age  ? \\n\\nprince.  look,  and  thou  shalt  see. \\n\\nmo7itague.  0  thou  untaught !  what  manners  is  in  this, \\nto  press  before  thy  father  to  a  grave  ? \\n\\nprince.  seal  up  the  mouth  of  outrage  for  a  while. \\ntill  we  can  clear  these  ambiguities. \\nand  know  their  spring,  their  head,  their  true  descent ; \\nand  then  will  i  be  general  of  your  woes, \\nand  lead  you  even  to  death  :  meantime  forbear. \\nand  let  mischance  be  slave  to  patience.\\'  — \\nbring  forth  the  parties  of  suspicion.    , \\n\\nfriar  laurence.  i  am  the  greatest,  able  to  do  least, \\nyet  most  suspected,  as  the  time  and  place \\ndoth  make  against  me,  of  this  direful  murder ; \\nand  here  i  stand,  both  to  impeach  and  purge \\nmyself  condemned  and  myself  excus\\'d. \\n\\nprince.  then  say  at  once  what  thou  dost  know  in  this. \\n\\nfriar  laurence.  i  will  be  brief,  for  my  short  date  of \\nbreath \\nis  not  so  long  as  is  a  tedious  tale. \\nromeo,  there  dead,  was  husband  to  that  juliet; \\nand  she,  there  dead,  that  eomeo\\'s  faithful  wife. \\n\\n\\n136  bomeo  and  juliet. \\n\\ni  married  them  ;  and  their  stolen  marriage-day \\n\\nwas  tybalt\\'s  doomsday,  whose  untimely  death \\n\\nbanish\\'d  the  new-made  bridegroom  from  this  city, \\n\\nfor  whom,  and  not  for  tybalt,  juliet  pin\\'d. \\n\\nyou,  to  remove  that  siege  of  grief  from  her, \\n\\nbetroth\\'d  and  would  have  married  her  perforce \\n\\nto  county  paris ;  then  comes  she  to  me. \\n\\nand  with  wild  looks  bid  me  devise  some  means \\n\\nto  rid  her  from  this  second  marriage. \\n\\nor  in  my  cell  there  would  she  kill  herself. \\n\\nthen  gave  i  her,  so  tutor\\'d  by  my  art, \\n\\na  sleeping  potion ;  which  so  took  effect \\n\\nas  i  intended,  for  it  wrought  on  her \\n\\nthe  form  of  death :  meantime  i  writ  to  eomeo, \\n\\nthat  he  should  hither  come  as  this  dire  night, \\n\\nto  help  to  take  her  from  her  borrow\\'d  grave, \\n\\nbeing  the  time  the  potion\\'s  force  should  cease. \\n\\nbut  he  which  bore  my  letter,  friar  john, \\n\\nwas  stay\\'d  by  accident,  and  yesternight \\n\\nreturn\\'d  my  letter  back.     then  all  alone. \\n\\nat  the  prefixed  hour  of  her  waking. \\n\\ncame  i  to  take  her  from  her  kindred\\'s  vault, \\n\\nmeaning  to  keep  her  closely  at  my  cell \\n\\ntill  i  conveniently  could  send  to  romeo ; \\n\\nbut  when  i  came,  some  minute  ere  the  time \\n\\nof  her  awaking,  here  untimely  lay \\n\\nthe  noble  paris  and  true  romeo  dead. \\n\\n\\nromeo  and  juliet.  137 \\n\\nshe  wakes,  and  i  entreated  her  come  forth, \\nand  bear  this  work  of  heaven  with  patience ; \\nbut  then  a  noise  did  scare  me  from  the  tomb. \\nand  she  too  desperate  would  not  go  with  me, \\nbut,  as  it  seems,  did  violence  on  herself. \\nall  this  i  know ;  and  to  the  marriage \\nher  nurse  is  privy  :  and,  if  aught  in  this \\nmiscarried  by  my  fault,  let  my  old  life \\nbe  sacrific\\'d  some  hour  before  his  time \\nunto  the  rigor  of  severest  law. \\n\\nprince.  we  still  have  known  thee  for  a  holy  man.  — \\nwhere\\'s  romeo\\'s  man  ?  what  can  he  say  in  this  ? \\n\\nbalthasar.   i   brought   my   master   news   of    juliet\\'s \\ndeath, \\nand  then  in  post  he  came  from  mantua \\nto  this  same  place,  to  this  same  monument. \\nthis  letter  he  early  bid  me  give  his  father, \\nand  threaten\\'d  me  with  death,  going  in  the  vault, \\nif  i  departed  not  and  left  him  there. \\n\\nprince.  give  me  the  letter ;  i  will  look  on  it.  — \\nwhere  is  the  county\\'s  page  that  rais\\'d  the  watch  ?  — \\nsirrah,  what  made  your  master  in  this  place  ? \\n\\npage.  he  came  with  flowers  to  strew  his  lady\\'s  grave ; \\nand  bid  me  stand  aloof,  and  so  i  did. \\nanon  comes  one  with  light  to  ope  the  tomb, \\nand  by  and  by  my  master  drew  on  him ; \\nand  then  i  ran  away  to  call  the  watch. \\n\\n\\n138  romeo  and  juliet. \\n\\nprince.  this  letter  doth  make  good  the  friar\\'s  words \\ntheir  course  of  love,  the  tidings  of  her  death ; \\nand  here  he  writes  that  he  did  buy  a  poison \\nof  a  poor  apothecary,  and  therewithal \\ncame  to  this  vault  to  die  and  lie  with  juliet.  — \\nwhere  be  these  enemies  ?  —  capulet !  —  montague  ! \\nsee,  what  a  scourge  is  laid  upon  your  hate, \\nthat  heaven  finds  means  to  kill  your  joys  with  love ! \\nand  i,  for  winking  at  your  discords  too. \\nhave  lost  a  brace  of  kinsmen ;  all  are  punish\\'d. \\n\\ncapulet.  0  brother  montague,  give  me  thy  hand ; \\nthis  is  my  daughter\\'s  jointure,  for  no  more \\ncan  i  demand. \\n\\nmontague.         but  i  can  give  thee  more ; \\nfor  i  will  raise  her  statue  in  pure  gold. \\nthat  while  verona  by  that  name  is  known \\nthere  shall  no  figure  at  such  rate  be  set \\nas  that  of  true  and  faithful  juliet. \\n\\ncapulet.  as  rich  shall  eomeo  by  his  lady  lie ; \\npoor  sacrifices  of  our  enmity  ! \\n\\nprince.  a  glooming  peace  this  morning  with  it  brings ; \\n\\nthe  sun  for  sorrow  will  not  show  his  head. \\ngo  hence,  to  have  more  talk  of  these  sad  things ; \\n\\nsome  shall  be  pardon\\'d,  and  some  punished : \\nfor  never  was  a  story  of  more  woe \\nthan  this  of  juliet  and  her  komeo.  \\\\_exeunt. \\n\\n\\n-bap\\'05 \\n\\n\\n'"
      ]
     },
     "execution_count": 7,
     "metadata": {},
     "output_type": "execute_result"
    }
   ],
   "source": [
    "data = resp.lower()\n",
    "data"
   ]
  },
  {
   "cell_type": "code",
   "execution_count": null,
   "id": "c0f5b1c6-4c10-4a9e-95c3-30d85ba5a265",
   "metadata": {},
   "outputs": [],
   "source": []
  },
  {
   "cell_type": "code",
   "execution_count": 8,
   "id": "1fb7f0bf-0693-4ecc-aa3a-5b7b614e08fa",
   "metadata": {},
   "outputs": [
    {
     "data": {
      "text/plain": [
       "['romeo  and  juliet. ',\n",
       " '',\n",
       " '',\n",
       " 'green  room  sdition ',\n",
       " '',\n",
       " '',\n",
       " 'romeo  and  juliet ',\n",
       " '',\n",
       " 'by ',\n",
       " '',\n",
       " 'william  shakespeare ',\n",
       " '',\n",
       " '',\n",
       " 'illustrated  by  photographs  from  life  of  maude  adams, ',\n",
       " 'and  oth^r  members  of  her  company,  by  byron  and ',\n",
       " 'sarony,  and  also  by  illtistrations  by  andriolli    ^    «^ ',\n",
       " '',\n",
       " '',\n",
       " 'new  york  and  boston  ^    ^ ',\n",
       " '',\n",
       " 'h.  m.  caldwell  company ',\n",
       " '^     s     ,^     ^     ,^     publishers ',\n",
       " '',\n",
       " '',\n",
       " 'l- ',\n",
       " '',\n",
       " '',\n",
       " '38524 ',\n",
       " '',\n",
       " '^ * t>pa^y  of  cj^^jil^ ',\n",
       " '',\n",
       " '\"two  copifs  recfived ',\n",
       " '',\n",
       " 'aug  20  1900 ',\n",
       " '',\n",
       " 'copyright  entry ',\n",
       " '',\n",
       " '10^  t(^  s^ ',\n",
       " '',\n",
       " '',\n",
       " 'second  copy. ',\n",
       " '',\n",
       " 'delivered  to ',\n",
       " '',\n",
       " 'orolr  division, ',\n",
       " '',\n",
       " 'sep    6    1900 ',\n",
       " '',\n",
       " '',\n",
       " 'copyright,  i88y. ']"
      ]
     },
     "execution_count": 8,
     "metadata": {},
     "output_type": "execute_result"
    }
   ],
   "source": [
    "# Split the entire data into words\n",
    "data.split(\"\\n\")[:50]"
   ]
  },
  {
   "cell_type": "code",
   "execution_count": 9,
   "id": "f81149da-39c7-415b-b4d9-c9d6747cf474",
   "metadata": {},
   "outputs": [
    {
     "name": "stdout",
     "output_type": "stream",
     "text": [
      "romeo  and  juliet. \n",
      "green  room  sdition \n",
      "romeo  and  juliet \n",
      "by \n",
      "william  shakespeare \n",
      "illustrated  by  photographs  from  life  of  maude  adams, \n",
      "and  oth^r  members  of  her  company,  by  byron  and \n",
      "sarony,  and  also  by  illtistrations  by  andriolli    ^    «^ \n",
      "new  york  and  boston  ^    ^ \n",
      "h.  m.  caldwell  company \n",
      "^     s     ,^     ^     ,^     publishers \n",
      "l- \n",
      "38524 \n",
      "^ * t>pa^y  of  cj^^jil^ \n",
      "\"two  copifs  recfived \n",
      "aug  20  1900 \n",
      "copyright  entry \n",
      "10^  t(^  s^ \n",
      "second  copy. \n",
      "delivered  to \n",
      "orolr  division, \n",
      "sep    6    1900 \n",
      "copyright,  i88y. \n"
     ]
    }
   ],
   "source": [
    "for everyline in data.split(\"\\n\")[:50]:\n",
    "    if everyline != '':\n",
    "        print(everyline)"
   ]
  },
  {
   "cell_type": "code",
   "execution_count": 36,
   "id": "08901446-ab70-4d3e-bff8-cabb492d693c",
   "metadata": {},
   "outputs": [],
   "source": [
    "newdata=[]"
   ]
  },
  {
   "cell_type": "code",
   "execution_count": 37,
   "id": "2961ff26-5fe1-4879-b26f-c1573f1a7866",
   "metadata": {},
   "outputs": [
    {
     "data": {
      "text/plain": [
       "['romeo  and  juliet.',\n",
       " 'green  room  sdition',\n",
       " 'romeo  and  juliet',\n",
       " 'by',\n",
       " 'william  shakespeare',\n",
       " 'illustrated  by  photographs  from  life  of  maude  adams,',\n",
       " 'and  oth^r  members  of  her  company,  by  byron  and',\n",
       " 'sarony,  and  also  by  illtistrations  by  andriolli    ^    «^',\n",
       " 'new  york  and  boston  ^    ^',\n",
       " 'h.  m.  caldwell  company',\n",
       " '^     s     ,^     ^     ,^     publishers',\n",
       " 'l-',\n",
       " '38524',\n",
       " '^ * t>pa^y  of  cj^^jil^',\n",
       " '\"two  copifs  recfived',\n",
       " 'aug  20  1900',\n",
       " 'copyright  entry',\n",
       " '10^  t(^  s^',\n",
       " 'second  copy.',\n",
       " 'delivered  to',\n",
       " 'orolr  division,',\n",
       " 'sep    6    1900',\n",
       " 'copyright,  i88y.',\n",
       " 'by  samuel  e.  cassino.',\n",
       " 'copyright,  igoo.',\n",
       " 'by  h.  m.  caldwell  co.',\n",
       " '74121',\n",
       " 'romeo  and  juliet',\n",
       " 'facsimile',\n",
       " 'of    the',\n",
       " 'original     programme',\n",
       " 'the    cast',\n",
       " \"as  -produced  at  the  empire  'theatre^  new  tork^  may  8th,  isgg.\",\n",
       " \"miss  maude  adams,  in  a  special  production  of  shakespeare's\",\n",
       " 'tragedy  of  \"  romeo  and  juliet,\"  with  william  faversham  as',\n",
       " 'romeo,  and  james  k.  hackett  as  mercutio.  (by  arrangement',\n",
       " 'with  daniel  frohman.)',\n",
       " 'dramatis     persons.',\n",
       " 'escalus,  prince  of  verona',\n",
       " 'paris,  a  young  nobleman,  kinsman  to  the',\n",
       " 'prince',\n",
       " 'montague  )  heads    of  two    houses    at  j',\n",
       " 'capulet       \\\\  variance  with   each   other  [',\n",
       " 'an  old   man,  of  the  capulet  family',\n",
       " 'romeo,  son  to  montague',\n",
       " 'mercutio,  kinsman   to   the   prince,   and',\n",
       " 'friend  to  romeo',\n",
       " 'benvolio,     nephew    to    montague,    and',\n",
       " 'friend  to   romeo',\n",
       " 'tybalt,  nephew  to  lady  capulet',\n",
       " 'friar    laurence,  a  franciscan',\n",
       " 'friar  john,  of  the  same  order',\n",
       " 'balthazar,  servant  to  romeo',\n",
       " 'sampson  ]  ^    ^    /-       i  ^',\n",
       " '>  servants  to  capulet',\n",
       " 'gregory  )',\n",
       " \"peter,  servant  to  juliet's  nurse\",\n",
       " 'abraham,  servant  to  montague',\n",
       " 'an  apothecary',\n",
       " 'george  fawcett',\n",
       " 'orrin  johnson',\n",
       " 'w.  h.  crompton',\n",
       " 'eugene  jepson',\n",
       " 'frederick  spencer',\n",
       " 'william  faversham',\n",
       " 'james  k.  hackett',\n",
       " 'jos.  francoeur',\n",
       " 'campbell  gollan',\n",
       " 'w.  h.  thompson',\n",
       " 'geo.  osborne,  jr.',\n",
       " 'g.  h.  howard',\n",
       " 'wallace  jackson',\n",
       " 'thomas  valentine',\n",
       " 'r.  peyton  carter',\n",
       " 'george  irving',\n",
       " 'norman  campbell',\n",
       " 'lady  capulet,  wife  to  capulet  •     miss  helen  morgan',\n",
       " 'juliet,  daughter  to  capulet  miss  maude  adams',\n",
       " 'nurse  to  juliet  mrs.  w.  g.  jones',\n",
       " 'pages  to  paris,  mercutio,  capulet,  etc. ;   citizens  of',\n",
       " 'verona,   kinsfolk  of  both  houses.  maskers,  guards,  musicians',\n",
       " 'and  attendants.',\n",
       " 'scene  — verona,  mantua.',\n",
       " 'the  first  act  scene  i',\n",
       " 'scene  2',\n",
       " 'scene  3',\n",
       " 'scene  4',\n",
       " 'the  second  act  scene  i',\n",
       " 'scene  2',\n",
       " 'scene  3',\n",
       " 'rbe  third  act  scene  i',\n",
       " 'scene  2',\n",
       " 'scene  3',\n",
       " 'the  fourth  act  scene  i',\n",
       " 'scene  2',\n",
       " 'scene  3',\n",
       " 'the  fifth  act  scene  i',\n",
       " 'scene  2',\n",
       " 'scene  3',\n",
       " 'period— 14th  century.']"
      ]
     },
     "execution_count": 37,
     "metadata": {},
     "output_type": "execute_result"
    }
   ],
   "source": [
    "for everyline in data.split(\"\\n\"):\n",
    "    if everyline != '':\n",
    "        newdata.append(everyline.strip())\n",
    "newdata[:100]"
   ]
  },
  {
   "cell_type": "code",
   "execution_count": 18,
   "id": "e0d54f60-f427-4957-a6c5-e443328a1089",
   "metadata": {},
   "outputs": [
    {
     "data": {
      "text/plain": [
       "False"
      ]
     },
     "execution_count": 18,
     "metadata": {},
     "output_type": "execute_result"
    }
   ],
   "source": [
    "'romeo' == 'romeo '"
   ]
  },
  {
   "cell_type": "code",
   "execution_count": 21,
   "id": "b6553b1d-c6b9-4de1-bc4b-85b015aa4665",
   "metadata": {},
   "outputs": [
    {
     "data": {
      "text/plain": [
       "['verona,',\n",
       " 'kinsfolk',\n",
       " 'of',\n",
       " 'both',\n",
       " 'houses.',\n",
       " 'maskers,',\n",
       " 'guards,',\n",
       " 'musicians']"
      ]
     },
     "execution_count": 21,
     "metadata": {},
     "output_type": "execute_result"
    }
   ],
   "source": [
    "'verona,   kinsfolk  of  both  houses.  maskers,  guards,  musicians'.split()"
   ]
  },
  {
   "cell_type": "code",
   "execution_count": 40,
   "id": "4e4f9739-8b56-48be-9b00-f78ecd52688d",
   "metadata": {},
   "outputs": [],
   "source": [
    "words=list()"
   ]
  },
  {
   "cell_type": "code",
   "execution_count": 41,
   "id": "4abdb81a-1176-4b99-9258-891839a8df2d",
   "metadata": {},
   "outputs": [],
   "source": [
    "for everyline in newdata:\n",
    "    words.extend(everyline.split())    "
   ]
  },
  {
   "cell_type": "code",
   "execution_count": 28,
   "id": "630e82d8-d605-4d9d-b069-b5606b5a75de",
   "metadata": {},
   "outputs": [],
   "source": [
    "newdata=[]"
   ]
  },
  {
   "cell_type": "code",
   "execution_count": 27,
   "id": "0632bd86-2964-4945-9341-a0dc30dd1d17",
   "metadata": {},
   "outputs": [
    {
     "data": {
      "text/plain": [
       "[['romeo', 'and', 'juliet.']]"
      ]
     },
     "execution_count": 27,
     "metadata": {},
     "output_type": "execute_result"
    }
   ],
   "source": [
    "newdata.append(['romeo', 'and', 'juliet.'])\n",
    "newdata"
   ]
  },
  {
   "cell_type": "code",
   "execution_count": 29,
   "id": "a4b9be51-f729-4117-871f-130684b51acd",
   "metadata": {},
   "outputs": [
    {
     "data": {
      "text/plain": [
       "['romeo', 'and', 'juliet.']"
      ]
     },
     "execution_count": 29,
     "metadata": {},
     "output_type": "execute_result"
    }
   ],
   "source": [
    "newdata.extend(['romeo', 'and', 'juliet.'])\n",
    "newdata"
   ]
  },
  {
   "cell_type": "code",
   "execution_count": 43,
   "id": "cca6ee6b-1fad-4cb6-9d14-288e99780461",
   "metadata": {},
   "outputs": [
    {
     "data": {
      "text/plain": [
       "['romeo',\n",
       " 'and',\n",
       " 'juliet.',\n",
       " 'green',\n",
       " 'room',\n",
       " 'sdition',\n",
       " 'romeo',\n",
       " 'and',\n",
       " 'juliet',\n",
       " 'by']"
      ]
     },
     "execution_count": 43,
     "metadata": {},
     "output_type": "execute_result"
    }
   ],
   "source": [
    "words[:10]"
   ]
  },
  {
   "cell_type": "code",
   "execution_count": 44,
   "id": "b50f8e82-0d16-4db8-985b-6fec9ac940e9",
   "metadata": {},
   "outputs": [
    {
     "data": {
      "text/plain": [
       "28044"
      ]
     },
     "execution_count": 44,
     "metadata": {},
     "output_type": "execute_result"
    }
   ],
   "source": [
    "len(words)"
   ]
  },
  {
   "cell_type": "code",
   "execution_count": 46,
   "id": "a50a7238-43d6-4aba-94ec-56abd8de6858",
   "metadata": {},
   "outputs": [],
   "source": [
    "# counting words\n",
    "wordcount = {\n",
    "    'romeo':111+1,\n",
    "    'juliet':222+1+1,\n",
    "    'green':1,\n",
    "    'room':1\n",
    "    \n",
    "}"
   ]
  },
  {
   "cell_type": "code",
   "execution_count": 47,
   "id": "b97ad752-88f5-436c-b6cf-3763d73056f3",
   "metadata": {},
   "outputs": [
    {
     "data": {
      "text/plain": [
       "True"
      ]
     },
     "execution_count": 47,
     "metadata": {},
     "output_type": "execute_result"
    }
   ],
   "source": [
    " 'romeo' in wordcount"
   ]
  },
  {
   "cell_type": "code",
   "execution_count": 45,
   "id": "b6270b4b-e654-42ff-95f1-92bd52914761",
   "metadata": {},
   "outputs": [],
   "source": [
    "wordcount=dict()"
   ]
  },
  {
   "cell_type": "code",
   "execution_count": 48,
   "id": "9c90e295-c80d-4754-bb1f-54ce956f0e97",
   "metadata": {},
   "outputs": [],
   "source": [
    "for everyword in words:\n",
    "    if everyword not in wordcount:\n",
    "        wordcount[everyword] = 1\n",
    "    else:\n",
    "        wordcount[everyword] = wordcount[everyword]+1"
   ]
  },
  {
   "cell_type": "code",
   "execution_count": 49,
   "id": "77c8f9fe-e4aa-40d3-80b4-07736d89ef1f",
   "metadata": {},
   "outputs": [
    {
     "data": {
      "text/plain": [
       "{'romeo': 228,\n",
       " 'juliet': 249,\n",
       " 'green': 4,\n",
       " 'room': 5,\n",
       " 'and': 803,\n",
       " 'juliet.': 252,\n",
       " 'sdition': 1,\n",
       " 'by': 120,\n",
       " 'william': 4,\n",
       " 'shakespeare': 1,\n",
       " 'illustrated': 1,\n",
       " 'photographs': 1,\n",
       " 'from': 85,\n",
       " 'life': 14,\n",
       " 'of': 405,\n",
       " 'maude': 3,\n",
       " 'adams,': 2,\n",
       " 'oth^r': 1,\n",
       " 'members': 1,\n",
       " 'her': 133,\n",
       " 'company,': 2,\n",
       " 'byron': 6,\n",
       " 'sarony,': 1,\n",
       " 'also': 1,\n",
       " 'illtistrations': 1,\n",
       " 'andriolli': 1,\n",
       " '^': 10,\n",
       " '«^': 1,\n",
       " 'new': 14,\n",
       " 'york': 1,\n",
       " 'boston': 1,\n",
       " 'h.': 5,\n",
       " 'm.': 2,\n",
       " 'caldwell': 2,\n",
       " 'company': 4,\n",
       " 's': 2,\n",
       " ',^': 2,\n",
       " 'publishers': 1,\n",
       " 'l-': 1,\n",
       " '38524': 1,\n",
       " '*': 2,\n",
       " 't>pa^y': 1,\n",
       " 'cj^^jil^': 1,\n",
       " '\"two': 1,\n",
       " 'copifs': 1,\n",
       " 'recfived': 1,\n",
       " 'aug': 1,\n",
       " '20': 2,\n",
       " '1900': 2,\n",
       " 'copyright': 1,\n",
       " 'entry': 1,\n",
       " '10^': 1,\n",
       " 't(^': 1,\n",
       " 's^': 1,\n",
       " 'second': 7,\n",
       " 'copy.': 1,\n",
       " 'delivered': 1,\n",
       " 'to': 537,\n",
       " 'orolr': 1,\n",
       " 'division,': 1,\n",
       " 'sep': 1,\n",
       " '6': 1,\n",
       " 'copyright,': 2,\n",
       " 'i88y.': 1,\n",
       " 'samuel': 1,\n",
       " 'e.': 1,\n",
       " 'cassino.': 1,\n",
       " 'igoo.': 1,\n",
       " 'co.': 1,\n",
       " '74121': 1,\n",
       " 'facsimile': 1,\n",
       " 'the': 674,\n",
       " 'original': 1,\n",
       " 'programme': 1,\n",
       " 'cast': 4,\n",
       " 'as': 155,\n",
       " '-produced': 1,\n",
       " 'at': 72,\n",
       " 'empire': 1,\n",
       " \"'theatre^\": 1,\n",
       " 'tork^': 1,\n",
       " 'may': 49,\n",
       " '8th,': 1,\n",
       " 'isgg.': 1,\n",
       " 'miss': 4,\n",
       " 'in': 314,\n",
       " 'a': 451,\n",
       " 'special': 2,\n",
       " 'production': 1,\n",
       " \"shakespeare's\": 1,\n",
       " 'tragedy': 1,\n",
       " '\"': 2,\n",
       " 'juliet,\"': 1,\n",
       " 'with': 240,\n",
       " 'faversham': 2,\n",
       " 'romeo,': 28,\n",
       " 'james': 3,\n",
       " 'k.': 2,\n",
       " 'hackett': 2,\n",
       " 'mercutio.': 56,\n",
       " '(by': 1,\n",
       " 'arrangement': 1,\n",
       " 'daniel': 1,\n",
       " 'frohman.)': 1,\n",
       " 'dramatis': 1,\n",
       " 'persons.': 1,\n",
       " 'escalus,': 2,\n",
       " 'prince': 10,\n",
       " 'verona': 8,\n",
       " 'paris,': 15,\n",
       " 'young': 20,\n",
       " 'nobleman,': 2,\n",
       " 'kinsman': 9,\n",
       " 'montague': 15,\n",
       " ')': 2,\n",
       " 'heads': 2,\n",
       " 'two': 21,\n",
       " 'houses': 5,\n",
       " 'j': 6,\n",
       " 'capulet': 18,\n",
       " '\\\\': 3,\n",
       " 'variance': 2,\n",
       " 'each': 4,\n",
       " 'other': 16,\n",
       " '[': 6,\n",
       " 'an': 81,\n",
       " 'old': 24,\n",
       " 'man,': 11,\n",
       " 'family': 1,\n",
       " 'son': 14,\n",
       " 'mercutio,': 10,\n",
       " 'prince,': 10,\n",
       " 'friend': 12,\n",
       " 'benvolio,': 7,\n",
       " 'nephew': 4,\n",
       " 'montague,': 13,\n",
       " 'tybalt,': 21,\n",
       " 'lady': 92,\n",
       " 'friar': 94,\n",
       " 'laurence,': 3,\n",
       " 'franciscan': 2,\n",
       " 'john,': 4,\n",
       " 'same': 14,\n",
       " 'order': 1,\n",
       " 'balthazar,': 1,\n",
       " 'servant': 6,\n",
       " 'sampson': 2,\n",
       " ']': 1,\n",
       " '/-': 1,\n",
       " 'i': 540,\n",
       " '>': 2,\n",
       " 'servants': 3,\n",
       " 'gregory': 1,\n",
       " 'peter,': 5,\n",
       " \"juliet's\": 10,\n",
       " 'nurse': 20,\n",
       " 'abraham,': 1,\n",
       " 'apothecary': 3,\n",
       " 'george': 2,\n",
       " 'fawcett': 1,\n",
       " 'orrin': 1,\n",
       " 'johnson': 1,\n",
       " 'w.': 3,\n",
       " 'crompton': 1,\n",
       " 'eugene': 1,\n",
       " 'jepson': 1,\n",
       " 'frederick': 1,\n",
       " 'spencer': 1,\n",
       " 'jos.': 1,\n",
       " 'francoeur': 1,\n",
       " 'campbell': 2,\n",
       " 'gollan': 1,\n",
       " 'thompson': 1,\n",
       " 'geo.': 1,\n",
       " 'osborne,': 1,\n",
       " 'jr.': 1,\n",
       " 'g.': 2,\n",
       " 'howard': 1,\n",
       " 'wallace': 1,\n",
       " 'jackson': 1,\n",
       " 'thomas': 1,\n",
       " 'valentine': 2,\n",
       " 'r.': 2,\n",
       " 'peyton': 1,\n",
       " 'carter': 1,\n",
       " 'irving': 1,\n",
       " 'norman': 1,\n",
       " 'capulet,': 18,\n",
       " 'wife': 10,\n",
       " '•': 3,\n",
       " 'helen': 2,\n",
       " 'morgan': 1,\n",
       " 'juliet,': 20,\n",
       " 'daughter': 9,\n",
       " 'adams': 1,\n",
       " 'mrs.': 1,\n",
       " 'jones': 1,\n",
       " 'pages': 1,\n",
       " 'etc.': 3,\n",
       " ';': 512,\n",
       " 'citizens': 4,\n",
       " 'verona,': 4,\n",
       " 'kinsfolk': 2,\n",
       " 'both': 17,\n",
       " 'houses.': 1,\n",
       " 'maskers,': 3,\n",
       " 'guards,': 2,\n",
       " 'musicians': 4,\n",
       " 'attendants.': 3,\n",
       " 'scene': 43,\n",
       " '—': 273,\n",
       " 'mantua.': 6,\n",
       " 'first': 9,\n",
       " 'act': 12,\n",
       " '2': 17,\n",
       " '3': 7,\n",
       " '4': 2,\n",
       " 'rbe': 1,\n",
       " 'third': 2,\n",
       " 'fourth': 1,\n",
       " 'fifth': 1,\n",
       " 'period—': 1,\n",
       " '14th': 1,\n",
       " 'century.': 1,\n",
       " 'verona.': 5,\n",
       " 'public': 4,\n",
       " 'place.': 3,\n",
       " 'before': 14,\n",
       " \"capulet's\": 5,\n",
       " 'house.': 10,\n",
       " 'hall': 5,\n",
       " 'garden.': 2,\n",
       " \"laurence's\": 7,\n",
       " 'cell.': 14,\n",
       " 'street.': 7,\n",
       " 'chamber.': 7,\n",
       " 'churchyard.': 3,\n",
       " 'tomb': 4,\n",
       " 'capulets.': 2,\n",
       " 'produced': 1,\n",
       " 'under': 6,\n",
       " 'stage': 2,\n",
       " 'direction': 2,\n",
       " 'seymour.': 1,\n",
       " 'dkamatis': 1,\n",
       " 'peeson^.': 1,\n",
       " 'prince.': 18,\n",
       " '■j': 1,\n",
       " '(': 1,\n",
       " '.': 6,\n",
       " '.,.': 1,\n",
       " '„': 1,\n",
       " '.,': 1,\n",
       " 'other.': 2,\n",
       " 'man': 41,\n",
       " 'family.': 1,\n",
       " 'montague.': 17,\n",
       " 'romeo.': 121,\n",
       " 'capulet.': 76,\n",
       " 'balthasar,': 2,\n",
       " 'sajipson,': 1,\n",
       " 'gregory.': 14,\n",
       " 'franciscans.': 1,\n",
       " 'nurse.': 83,\n",
       " 'abram,': 1,\n",
       " 'apothecary.': 5,\n",
       " 'three': 8,\n",
       " 'musicians.': 2,\n",
       " 'page': 5,\n",
       " 'paris;': 1,\n",
       " 'another': 9,\n",
       " 'page;': 1,\n",
       " 'officer.': 1,\n",
       " 'verona;': 1,\n",
       " 'houses;': 1,\n",
       " '\"watch-': 1,\n",
       " 'men,': 5,\n",
       " 'chorus.': 2,\n",
       " ':': 141,\n",
       " 'prologue.': 1,\n",
       " 'households,': 1,\n",
       " 'alike': 3,\n",
       " 'dignity,': 1,\n",
       " 'fair': 37,\n",
       " 'where': 46,\n",
       " 'we': 65,\n",
       " 'lay': 10,\n",
       " 'our': 60,\n",
       " 'scene,': 1,\n",
       " 'ancient': 9,\n",
       " 'grudge': 1,\n",
       " 'break': 4,\n",
       " 'mutiny.': 1,\n",
       " 'civil': 4,\n",
       " 'blood': 12,\n",
       " 'makes': 12,\n",
       " 'hands': 11,\n",
       " 'unclean.': 1,\n",
       " 'forth': 8,\n",
       " 'fatal': 4,\n",
       " 'loins': 1,\n",
       " 'these': 42,\n",
       " 'foes': 1,\n",
       " 'pair': 2,\n",
       " \"star-cross'd\": 1,\n",
       " 'lovers': 3,\n",
       " 'take': 35,\n",
       " 'their': 45,\n",
       " 'life,': 6,\n",
       " 'whose': 15,\n",
       " \"misadventur'd\": 1,\n",
       " 'piteous': 5,\n",
       " 'overthrows': 1,\n",
       " 'doth': 47,\n",
       " 'death': 44,\n",
       " 'bury': 3,\n",
       " \"parents'\": 2,\n",
       " 'strife.': 2,\n",
       " 'fearful': 6,\n",
       " 'passage': 1,\n",
       " \"death-mark'd\": 1,\n",
       " 'love.': 17,\n",
       " 'continuance': 1,\n",
       " 'rage.': 1,\n",
       " 'which,': 7,\n",
       " 'but': 160,\n",
       " \"children's\": 1,\n",
       " 'end,': 3,\n",
       " 'nought': 2,\n",
       " 'could': 17,\n",
       " 'remove,': 1,\n",
       " 'is': 330,\n",
       " 'now': 48,\n",
       " \"hours'\": 1,\n",
       " 'traffic': 1,\n",
       " 'which': 55,\n",
       " 'if': 81,\n",
       " 'you': 227,\n",
       " 'patient': 1,\n",
       " 'ears': 7,\n",
       " 'attend.': 1,\n",
       " 'what': 126,\n",
       " 'here': 68,\n",
       " 'shall': 100,\n",
       " 'miss,': 1,\n",
       " 'toil': 2,\n",
       " 'strive': 1,\n",
       " 'mend.': 1,\n",
       " 'i.': 9,\n",
       " 'enter': 69,\n",
       " 'gregory,': 3,\n",
       " 'house': 15,\n",
       " 'capidet,': 2,\n",
       " 'sivords': 1,\n",
       " 'bucklers.': 1,\n",
       " 'sampson.': 17,\n",
       " 'on': 76,\n",
       " 'my': 346,\n",
       " 'word,': 3,\n",
       " \"we'll\": 10,\n",
       " 'not': 220,\n",
       " 'carry': 2,\n",
       " 'coals.': 1,\n",
       " 'no,': 13,\n",
       " 'for': 201,\n",
       " 'then': 66,\n",
       " 'should': 43,\n",
       " 'be': 201,\n",
       " 'colliers.': 1,\n",
       " 'mean,': 3,\n",
       " 'choler,': 1,\n",
       " 'draw.': 1,\n",
       " 'ay,': 22,\n",
       " 'while': 5,\n",
       " 'live,': 8,\n",
       " 'draw': 7,\n",
       " 'your': 101,\n",
       " 'neck': 1,\n",
       " 'out': 35,\n",
       " \"o'\": 9,\n",
       " 'collar.': 1,\n",
       " 'sam.pson.': 1,\n",
       " 'strike': 3,\n",
       " 'quickly,': 1,\n",
       " 'being': 24,\n",
       " 'moved.': 2,\n",
       " 'thou': 244,\n",
       " 'art': 49,\n",
       " 'quickly': 4,\n",
       " 'moved': 3,\n",
       " 'strike.': 1,\n",
       " 'dog': 4,\n",
       " 'moves': 1,\n",
       " 'me.': 23,\n",
       " 'move': 8,\n",
       " 'stir,': 3,\n",
       " 'valiant': 2,\n",
       " 'stand': 19,\n",
       " 'therefore,': 4,\n",
       " 'moved,': 1,\n",
       " \"runn'st\": 1,\n",
       " 'away.': 7,\n",
       " 'that': 323,\n",
       " 'me': 195,\n",
       " 'stand;': 1,\n",
       " 'will': 127,\n",
       " 'wall': 6,\n",
       " 'any': 16,\n",
       " 'or': 58,\n",
       " 'maid': 6,\n",
       " \"montague's.\": 1,\n",
       " 'shows': 6,\n",
       " 'thee': 93,\n",
       " 'weak': 4,\n",
       " 'slave': 3,\n",
       " 'weak-': 1,\n",
       " 'est': 1,\n",
       " 'goes': 3,\n",
       " 'wall.': 2,\n",
       " 'true;': 1,\n",
       " 'therefore': 19,\n",
       " 'women,': 1,\n",
       " 'weaker': 1,\n",
       " 'vessels,': 1,\n",
       " 'are': 64,\n",
       " 'ever': 10,\n",
       " 'thrust': 3,\n",
       " 'push': 1,\n",
       " '9': 1,\n",
       " '10': 1,\n",
       " 'bomeo': 29,\n",
       " \"montague's\": 1,\n",
       " 'men': 11,\n",
       " 'wall,': 2,\n",
       " 'his': 128,\n",
       " 'maids': 1,\n",
       " 'quarrel': 7,\n",
       " 'between': 3,\n",
       " 'masters': 1,\n",
       " 'us': 22,\n",
       " 'men.': 5,\n",
       " \"'tis\": 38,\n",
       " 'all': 89,\n",
       " 'one,': 6,\n",
       " 'show': 9,\n",
       " 'myself': 11,\n",
       " 'tyrant': 2,\n",
       " 'when': 45,\n",
       " 'have': 119,\n",
       " 'fought': 3,\n",
       " 'cruel': 3,\n",
       " 'maids,': 1,\n",
       " 'cut': 4,\n",
       " 'oif': 1,\n",
       " 'heads.': 2,\n",
       " 'thy': 159,\n",
       " 'tool': 1,\n",
       " 'comes': 23,\n",
       " 'montagues.': 1,\n",
       " 'naked': 1,\n",
       " 'weapon': 2,\n",
       " 'out;': 1,\n",
       " 'quarrel,': 4,\n",
       " 'back': 19,\n",
       " 'thee.': 14,\n",
       " 'how': 55,\n",
       " '?': 328,\n",
       " 'turn': 12,\n",
       " 'run': 12,\n",
       " 'fear': 13,\n",
       " 'not.': 11,\n",
       " 'marry': 8,\n",
       " '!': 431,\n",
       " 'let': 44,\n",
       " 'law': 9,\n",
       " 'sides': 1,\n",
       " 'them': 31,\n",
       " 'begin.': 1,\n",
       " 't': 8,\n",
       " 'frown': 2,\n",
       " 'pass': 3,\n",
       " 'by,': 3,\n",
       " 'it': 181,\n",
       " 'they': 47,\n",
       " 'list.': 1,\n",
       " 'nay,': 18,\n",
       " 'dare.': 1,\n",
       " 'bite': 8,\n",
       " 'thumb': 4,\n",
       " 'disgrace': 1,\n",
       " 'them,': 3,\n",
       " 'bear': 10,\n",
       " 'it.': 12,\n",
       " 'abram': 1,\n",
       " 'balthasak.': 1,\n",
       " 'abram.': 5,\n",
       " 'do': 79,\n",
       " 'us,': 4,\n",
       " 'sir': 16,\n",
       " 'thumb,': 2,\n",
       " 'sir.': 8,\n",
       " '[aside': 1,\n",
       " 'gregory\"]': 1,\n",
       " 'side': 1,\n",
       " 'say': 37,\n",
       " 'ay': 5,\n",
       " 'eomeo': 39,\n",
       " 'h': 2,\n",
       " 'no.': 2,\n",
       " 'sir,': 28,\n",
       " 'you,': 35,\n",
       " 'do,': 6,\n",
       " 'am': 55,\n",
       " 'serve': 6,\n",
       " 'good': 77,\n",
       " 'you.': 17,\n",
       " 'no': 81,\n",
       " 'better.': 1,\n",
       " 'well,': 26,\n",
       " '[^aside': 1,\n",
       " 'sampson^': 1,\n",
       " '\"better;\"': 1,\n",
       " 'one': 52,\n",
       " \"master's\": 1,\n",
       " 'kinsmen.': 1,\n",
       " 'yes,': 1,\n",
       " 'better,': 1,\n",
       " 'lie.': 3,\n",
       " 'draw,': 2,\n",
       " 'remember': 5,\n",
       " 'swashing': 1,\n",
       " 'blow.': 2,\n",
       " '■': 4,\n",
       " '\\\\_they': 2,\n",
       " 'fight.': 3,\n",
       " 'benvolio.': 62,\n",
       " 'benvouo.': 1,\n",
       " 'part,': 4,\n",
       " 'fools': 2,\n",
       " 'put': 18,\n",
       " 'up': 34,\n",
       " 'swords': 3,\n",
       " 'know': 32,\n",
       " 'do.': 2,\n",
       " '[beats': 1,\n",
       " 'down': 13,\n",
       " 'swords.': 1,\n",
       " 'tybalt.': 17,\n",
       " 'what,': 29,\n",
       " 'drawn': 2,\n",
       " 'among': 6,\n",
       " 'heartless': 1,\n",
       " 'hinds': 1,\n",
       " 'thee,': 27,\n",
       " 'look': 22,\n",
       " 'upon': 38,\n",
       " 'death.': 4,\n",
       " 'keep': 16,\n",
       " 'peace': 7,\n",
       " 'sword,': 3,\n",
       " 'manage': 2,\n",
       " 'part': 16,\n",
       " '12': 1,\n",
       " 'bojieo': 1,\n",
       " 'drawn,': 1,\n",
       " 'talk': 10,\n",
       " 'hate': 8,\n",
       " '\"word,': 1,\n",
       " 'hell,': 2,\n",
       " 'montagues,': 2,\n",
       " 'coward': 1,\n",
       " '\\\\_tliey': 1,\n",
       " 'several': 1,\n",
       " 'houses,': 1,\n",
       " 'who': 28,\n",
       " 'join': 1,\n",
       " 'fray;': 1,\n",
       " 'citizens,': 2,\n",
       " 'clubs.': 1,\n",
       " 'citizen.': 3,\n",
       " 'clubs,': 1,\n",
       " 'bills,': 1,\n",
       " 'partisans': 1,\n",
       " 'beat': 4,\n",
       " 'capulets': 4,\n",
       " 'montagues': 2,\n",
       " 'gotvn,': 1,\n",
       " 'noise': 5,\n",
       " 'this': 202,\n",
       " 'give': 47,\n",
       " 'nie': 6,\n",
       " 'long': 12,\n",
       " 'ho': 12,\n",
       " 'caindet.': 5,\n",
       " 'crutch,': 1,\n",
       " 'crutch': 1,\n",
       " 'why': 15,\n",
       " 'call': 21,\n",
       " 'sword': 4,\n",
       " 'come.': 7,\n",
       " 'flourishes': 1,\n",
       " 'blade': 2,\n",
       " 'spite': 2,\n",
       " '2iontacjue.': 1,\n",
       " 'villain': 10,\n",
       " 'capulet!': 1,\n",
       " 'hold': 8,\n",
       " 'not,': 20,\n",
       " 'le^.': 1,\n",
       " 'go.': 4,\n",
       " 'shalt': 11,\n",
       " 'stir': 3,\n",
       " 'foot': 6,\n",
       " 'seek': 3,\n",
       " 'foe.': 2,\n",
       " 'tvith': 2,\n",
       " 'train.': 1,\n",
       " 'rebellious': 1,\n",
       " 'subjects,': 1,\n",
       " 'enemies': 2,\n",
       " 'peace,': 8,\n",
       " 'profaners': 1,\n",
       " 'neighbor-stained': 1,\n",
       " 'steel,': 1,\n",
       " '13': 1,\n",
       " 'hear': 22,\n",
       " 'beasts,': 1,\n",
       " 'quench': 2,\n",
       " 'fire': 4,\n",
       " 'pernicious': 1,\n",
       " 'rage': 2,\n",
       " 'purple': 1,\n",
       " 'fountains': 1,\n",
       " 'issuing': 1,\n",
       " 'veins,': 2,\n",
       " 'pain': 3,\n",
       " 'torture,': 3,\n",
       " 'those': 15,\n",
       " 'bloody': 6,\n",
       " 'throw': 1,\n",
       " \"mistemper'd\": 1,\n",
       " 'weapons': 1,\n",
       " 'ground,': 3,\n",
       " 'sentence': 2,\n",
       " 'brawls,': 1,\n",
       " 'bred': 1,\n",
       " 'airy': 3,\n",
       " 'word.': 4,\n",
       " 'thrice': 1,\n",
       " 'disturbed': 1,\n",
       " 'quiet': 1,\n",
       " 'streets,': 2,\n",
       " 'made': 15,\n",
       " \"verona's\": 2,\n",
       " 'grave': 12,\n",
       " 'beseeming': 1,\n",
       " 'ornaments.': 1,\n",
       " 'wield': 1,\n",
       " 'partisans,': 1,\n",
       " 'old,': 2,\n",
       " \"canker'd\": 2,\n",
       " 'hate.': 2,\n",
       " 'disturb': 2,\n",
       " 'streets': 1,\n",
       " 'again.': 10,\n",
       " 'lives': 11,\n",
       " 'pay': 4,\n",
       " 'forfeit': 2,\n",
       " 'peace.': 2,\n",
       " 'time,': 7,\n",
       " 'rest': 9,\n",
       " 'depart': 3,\n",
       " 'away': 14,\n",
       " 'go': 54,\n",
       " 'along': 2,\n",
       " 'and,': 24,\n",
       " 'come': 49,\n",
       " 'afternoon,': 2,\n",
       " 'further': 4,\n",
       " 'pleasure': 4,\n",
       " 'case,': 1,\n",
       " 'freetown,': 1,\n",
       " 'common': 2,\n",
       " 'judgment-place.': 1,\n",
       " 'once': 7,\n",
       " 'more,': 7,\n",
       " 'death,': 18,\n",
       " 'depart.': 1,\n",
       " '^exeunt': 1,\n",
       " '3iontague,': 1,\n",
       " 'set': 7,\n",
       " 'abroach': 1,\n",
       " 'speak,': 2,\n",
       " 'nephew,': 1,\n",
       " 'were': 33,\n",
       " 'began': 2,\n",
       " 'adversary': 1,\n",
       " 'yours': 3,\n",
       " 'close': 4,\n",
       " 'fighting': 1,\n",
       " 'ere': 19,\n",
       " 'did': 38,\n",
       " 'approach.': 3,\n",
       " 'drew': 2,\n",
       " 'instant': 1,\n",
       " 'came': 11,\n",
       " '14-': 1,\n",
       " 'fiery': 2,\n",
       " \"prepar'd\": 1,\n",
       " 'he': 111,\n",
       " \"breath'd\": 2,\n",
       " 'defiance': 1,\n",
       " 'ears,': 2,\n",
       " 'swung': 1,\n",
       " 'about': 6,\n",
       " 'head': 8,\n",
       " 'winds,': 2,\n",
       " 'who,': 5,\n",
       " 'nothing': 11,\n",
       " 'hurt': 5,\n",
       " 'withal,': 2,\n",
       " \"hiss'd\": 1,\n",
       " 'him': 68,\n",
       " 'scorn.': 1,\n",
       " 'interchanging': 1,\n",
       " 'thrusts': 1,\n",
       " 'blows.': 1,\n",
       " 'more': 54,\n",
       " 'part.': 2,\n",
       " 'till': 22,\n",
       " 'came,': 2,\n",
       " 'parted': 1,\n",
       " 'either': 8,\n",
       " '0,': 58,\n",
       " 'saw': 10,\n",
       " 'to-day': 2,\n",
       " 'right': 3,\n",
       " 'glad': 2,\n",
       " 'was': 42,\n",
       " 'fray.': 1,\n",
       " 'madam,': 15,\n",
       " 'hour': 13,\n",
       " \"worshipp'd\": 1,\n",
       " 'sun': 10,\n",
       " \"peer'd\": 1,\n",
       " 'golden': 4,\n",
       " 'window': 2,\n",
       " 'east,': 2,\n",
       " 'troubled': 1,\n",
       " 'mind': 7,\n",
       " 'drave': 1,\n",
       " 'walk': 4,\n",
       " 'abroad': 2,\n",
       " 'where,': 2,\n",
       " 'underneath': 2,\n",
       " 'grove': 1,\n",
       " 'sycamore': 1,\n",
       " 'westward': 1,\n",
       " 'rooteth': 1,\n",
       " \"city's\": 1,\n",
       " 'side.': 3,\n",
       " 'so': 126,\n",
       " 'early': 16,\n",
       " 'walking': 1,\n",
       " 'see': 27,\n",
       " 'son.': 1,\n",
       " 'towards': 3,\n",
       " 'made,': 1,\n",
       " 'ware': 1,\n",
       " 'stole': 1,\n",
       " 'into': 8,\n",
       " 'covert': 1,\n",
       " 'wood': 1,\n",
       " 'i,': 10,\n",
       " 'measuring': 1,\n",
       " 'affections': 2,\n",
       " 'own.': 4,\n",
       " 'most': 16,\n",
       " 'sought': 4,\n",
       " 'might': 5,\n",
       " 'found,': 2,\n",
       " 'too': 48,\n",
       " 'many': 13,\n",
       " 'weary': 2,\n",
       " 'self,': 2,\n",
       " 'pursued': 2,\n",
       " 'humor': 2,\n",
       " 'pursuing': 1,\n",
       " 'his.': 1,\n",
       " 'gladly': 2,\n",
       " \"shunn'd\": 1,\n",
       " 'fled': 2,\n",
       " 'morning': 6,\n",
       " 'hath': 59,\n",
       " 'there': 49,\n",
       " 'been': 17,\n",
       " 'seen': 5,\n",
       " 'tears': 14,\n",
       " 'augmenting': 1,\n",
       " 'fresh': 2,\n",
       " \"morning's\": 4,\n",
       " 'dew,': 1,\n",
       " 'adding': 1,\n",
       " 'clouds': 5,\n",
       " 'deep': 6,\n",
       " 'sighs': 4,\n",
       " 'soon': 11,\n",
       " 'all-cheering': 1,\n",
       " '15': 1,\n",
       " 'farthest': 2,\n",
       " 'east': 1,\n",
       " 'begin': 3,\n",
       " 'shady': 1,\n",
       " 'curtains': 1,\n",
       " \"aurora's\": 1,\n",
       " 'bea,': 1,\n",
       " 'light': 20,\n",
       " 'steals': 1,\n",
       " 'home': 5,\n",
       " 'heavy': 9,\n",
       " 'son,': 3,\n",
       " 'private': 2,\n",
       " 'chamber': 2,\n",
       " 'pens': 1,\n",
       " 'himself,': 1,\n",
       " 'shuts': 2,\n",
       " 'window,': 2,\n",
       " 'locks': 2,\n",
       " 'daylight': 2,\n",
       " 'out,': 11,\n",
       " 'himself': 8,\n",
       " 'ar|;ificial': 1,\n",
       " 'night.': 14,\n",
       " 'black': 8,\n",
       " 'portentous': 1,\n",
       " 'must': 37,\n",
       " 'prove.': 1,\n",
       " 'unless': 6,\n",
       " 'counsel': 4,\n",
       " 'cause': 3,\n",
       " 'remove.': 1,\n",
       " 'noble': 8,\n",
       " 'uncle,': 3,\n",
       " 'neither': 1,\n",
       " 'nor': 18,\n",
       " 'can': 38,\n",
       " 'learn': 3,\n",
       " 'him.': 18,\n",
       " \"importun'd\": 1,\n",
       " 'means': 6,\n",
       " 'friends': 2,\n",
       " 'he,': 3,\n",
       " 'own': 12,\n",
       " \"affections'\": 1,\n",
       " 'counsellor.': 1,\n",
       " 'true': 23,\n",
       " 'secret': 2,\n",
       " 'sd': 1,\n",
       " 'close,': 2,\n",
       " 'far': 5,\n",
       " 'sounding': 2,\n",
       " 'discovery.': 1,\n",
       " 'bud': 2,\n",
       " 'bit': 1,\n",
       " 'envious': 6,\n",
       " 'worm,': 1,\n",
       " 'spread': 2,\n",
       " 'sweet': 24,\n",
       " 'leaves': 1,\n",
       " 'air,': 4,\n",
       " 'dedicate': 1,\n",
       " 'beauty': 12,\n",
       " 'sun.': 4,\n",
       " 'whence': 2,\n",
       " 'sorrows': 1,\n",
       " 'grow': 1,\n",
       " 'would': 50,\n",
       " 'willingly': 1,\n",
       " 'cure': 2,\n",
       " 'know.': 1,\n",
       " 'eomeo.': 7,\n",
       " 'see,': 5,\n",
       " 'please': 2,\n",
       " 'step': 1,\n",
       " 'aside': 2,\n",
       " \"i'll\": 68,\n",
       " 'grievance,': 1,\n",
       " 'much': 29,\n",
       " 'deniea.': 1,\n",
       " \"15'\": 1,\n",
       " 'tliou': 2,\n",
       " 'wert': 3,\n",
       " 'happy': 12,\n",
       " 'tliy': 3,\n",
       " 'stay,': 6,\n",
       " 'slirif': 1,\n",
       " 't.': 1,\n",
       " 'come,': 37,\n",
       " \"let's\": 6,\n",
       " '[^exeunt': 1,\n",
       " 'lady.': 3,\n",
       " 'morrow,': 4,\n",
       " 'cousin.': 1,\n",
       " 'day': 31,\n",
       " 'struck': 1,\n",
       " 'nine.': 2,\n",
       " 'sad': 4,\n",
       " 'hours': 5,\n",
       " 'seem': 1,\n",
       " 'long.': 2,\n",
       " 'father': 10,\n",
       " 'went': 1,\n",
       " 'hence': 16,\n",
       " 'fast': 1,\n",
       " 'was.': 1,\n",
       " 'sadness': 3,\n",
       " 'lengthens': 1,\n",
       " \"borneo's\": 1,\n",
       " 'having': 6,\n",
       " 'having,': 1,\n",
       " 'short.': 2,\n",
       " 'love': 85,\n",
       " 'favor,': 1,\n",
       " 'alas,': 5,\n",
       " 'love,': 30,\n",
       " 'gentle': 12,\n",
       " 'view,': 1,\n",
       " 'tyrannous': 1,\n",
       " 'rough': 4,\n",
       " 'proof': 3,\n",
       " 'view': 2,\n",
       " 'muffled': 1,\n",
       " 'still,': 1,\n",
       " 'without': 13,\n",
       " 'eyes': 17,\n",
       " 'pathways': 1,\n",
       " 'si:': 1,\n",
       " 'dine': 1,\n",
       " 'o': 6,\n",
       " 'fray': 3,\n",
       " 'yet': 38,\n",
       " 'tell': 43,\n",
       " 'heard': 2,\n",
       " 'all.': 3,\n",
       " \"here's\": 8,\n",
       " 'hate,': 3,\n",
       " 'why,': 23,\n",
       " 'then,': 13,\n",
       " '0': 67,\n",
       " 'brawling': 1,\n",
       " 'loving': 4,\n",
       " 'anything,': 1,\n",
       " 'created': 1,\n",
       " 'lightness': 1,\n",
       " 'serious': 1,\n",
       " 'vanity': 1,\n",
       " 'imisshapen': 1,\n",
       " 'chaos': 1,\n",
       " 'well-seeming': 1,\n",
       " 'forms': 1,\n",
       " \"'\": 32,\n",
       " '17': 1,\n",
       " 'feather': 1,\n",
       " 'lead,': 2,\n",
       " 'bright': 5,\n",
       " 'smoke,': 1,\n",
       " 'cold': 6,\n",
       " 'fire,': 2,\n",
       " 'sick': 5,\n",
       " 'health': 1,\n",
       " 'still-waking': 1,\n",
       " 'sleep,': 2,\n",
       " 'feel': 4,\n",
       " 'this.': 5,\n",
       " 'dost': 15,\n",
       " 'laugh': 1,\n",
       " 'benvolw,': 1,\n",
       " 'coz,': 3,\n",
       " 'rather': 4,\n",
       " 'weep.': 2,\n",
       " 'heart,': 7,\n",
       " \"heart's\": 6,\n",
       " 'oppression.': 1,\n",
       " 'such': 44,\n",
       " \"love's\": 12,\n",
       " 'transgression.': 1,\n",
       " 'griefs': 1,\n",
       " 'mine': 22,\n",
       " 'lie': 19,\n",
       " 'breast,': 1,\n",
       " 'wilt': 22,\n",
       " 'propagate,': 1,\n",
       " 'prest': 1,\n",
       " 'thine': 13,\n",
       " 'hast': 26,\n",
       " 'shown': 1,\n",
       " 'add': 1,\n",
       " 'grief': 10,\n",
       " 'smoke': 1,\n",
       " \"rais'd\": 2,\n",
       " ...}"
      ]
     },
     "execution_count": 49,
     "metadata": {},
     "output_type": "execute_result"
    }
   ],
   "source": [
    "wordcount"
   ]
  },
  {
   "cell_type": "code",
   "execution_count": 53,
   "id": "f03ecf78-79e1-4d97-8d1b-f63585141e68",
   "metadata": {},
   "outputs": [],
   "source": [
    "# import pandas as pd"
   ]
  },
  {
   "cell_type": "code",
   "execution_count": 54,
   "id": "6a1c3406-a7dd-44f7-a3b0-d42409d97ddb",
   "metadata": {},
   "outputs": [],
   "source": [
    "# df = pd.DataFrame(wordcount)\n",
    "# pass index alonog with data into dataframe "
   ]
  },
  {
   "cell_type": "code",
   "execution_count": 55,
   "id": "adbb09c9-341a-493d-b67d-89de37e3a6be",
   "metadata": {},
   "outputs": [],
   "source": [
    "# Comprehensions\n",
    "# Functional Programming"
   ]
  },
  {
   "cell_type": "code",
   "execution_count": null,
   "id": "693419e9-2b0a-4eee-af6f-a11a596118e6",
   "metadata": {},
   "outputs": [],
   "source": []
  },
  {
   "cell_type": "code",
   "execution_count": 58,
   "id": "740b4884-7b0b-4500-95aa-22aa7f97a4d1",
   "metadata": {},
   "outputs": [],
   "source": [
    "# Sets"
   ]
  },
  {
   "cell_type": "code",
   "execution_count": null,
   "id": "4291dabc-bef0-4e0f-8073-9ce5fa59babe",
   "metadata": {},
   "outputs": [],
   "source": [
    "- Unique data stores\n",
    "- there will not be any duplicates in a set\n",
    "- mainly use set to remove duplicates for the data"
   ]
  },
  {
   "cell_type": "code",
   "execution_count": 59,
   "id": "6aa6af4a-827f-49bc-a013-362efbe62866",
   "metadata": {},
   "outputs": [],
   "source": [
    "numbers = [1,1,1,1,1,1,1,1,1,1,2,2,2,2,3,4,5,6,7]"
   ]
  },
  {
   "cell_type": "code",
   "execution_count": 60,
   "id": "8b578aea-ab11-486f-94cf-1ad0a4601eae",
   "metadata": {},
   "outputs": [
    {
     "data": {
      "text/plain": [
       "{1, 2, 3, 4, 5, 6, 7}"
      ]
     },
     "execution_count": 60,
     "metadata": {},
     "output_type": "execute_result"
    }
   ],
   "source": [
    "set(numbers)"
   ]
  },
  {
   "cell_type": "code",
   "execution_count": null,
   "id": "1990c80e-6a9d-4e56-b966-95648e6af6fa",
   "metadata": {},
   "outputs": [],
   "source": [
    "- created using {}\n",
    "- set, set()\n",
    "- indexing\n",
    "- mutable data structures\n",
    "- apply SET functionalities, union, interection,difference\n",
    "- sett is just a value store unlike dictioanry where a value is a key value pair\n",
    "- sets are unordered data structures"
   ]
  },
  {
   "cell_type": "code",
   "execution_count": 61,
   "id": "016c5ab9-3234-47c1-b8ce-a6ed83ebbd19",
   "metadata": {},
   "outputs": [],
   "source": [
    "dictionry ={}\n",
    "sett = {}\n"
   ]
  },
  {
   "cell_type": "code",
   "execution_count": 62,
   "id": "93db4686-8502-473e-9d05-f29f0e19537f",
   "metadata": {},
   "outputs": [
    {
     "data": {
      "text/plain": [
       "dict"
      ]
     },
     "execution_count": 62,
     "metadata": {},
     "output_type": "execute_result"
    }
   ],
   "source": [
    "type(dictionry)"
   ]
  },
  {
   "cell_type": "code",
   "execution_count": 63,
   "id": "ac9c288a-d4d0-492b-8fb7-c1e990fb08bf",
   "metadata": {},
   "outputs": [
    {
     "data": {
      "text/plain": [
       "dict"
      ]
     },
     "execution_count": 63,
     "metadata": {},
     "output_type": "execute_result"
    }
   ],
   "source": [
    "type(sett)"
   ]
  },
  {
   "cell_type": "code",
   "execution_count": 64,
   "id": "52fc3b56-9a3e-4e71-a5ea-ebc9887fd3df",
   "metadata": {},
   "outputs": [],
   "source": [
    "dictionry ={'a':1} # key value pairs"
   ]
  },
  {
   "cell_type": "code",
   "execution_count": 65,
   "id": "4b690b04-e2fd-4df4-8ae4-f89e95cc512c",
   "metadata": {},
   "outputs": [
    {
     "data": {
      "text/plain": [
       "dict"
      ]
     },
     "execution_count": 65,
     "metadata": {},
     "output_type": "execute_result"
    }
   ],
   "source": [
    "type(dictionry)"
   ]
  },
  {
   "cell_type": "code",
   "execution_count": 66,
   "id": "f19664b0-4126-47a1-9877-2adc451bcc4e",
   "metadata": {},
   "outputs": [],
   "source": [
    "sett = {1,1,1,1,1,1,2} # scalars"
   ]
  },
  {
   "cell_type": "code",
   "execution_count": 67,
   "id": "2c5a968c-c431-49f8-97cb-348c42871219",
   "metadata": {},
   "outputs": [
    {
     "data": {
      "text/plain": [
       "set"
      ]
     },
     "execution_count": 67,
     "metadata": {},
     "output_type": "execute_result"
    }
   ],
   "source": [
    "type(sett)"
   ]
  },
  {
   "cell_type": "code",
   "execution_count": 68,
   "id": "5cb66a22-0927-462a-8bd7-7b618ada6806",
   "metadata": {},
   "outputs": [],
   "source": [
    "weekdays = {'monday','tuesday','wednesday','thursday','friday'}\n",
    "weekends = {'saturday','sunday'}"
   ]
  },
  {
   "cell_type": "code",
   "execution_count": 70,
   "id": "9859df0a-d089-4b29-8813-cd74919a15cb",
   "metadata": {},
   "outputs": [],
   "source": [
    "# union\n",
    "# joins/combines two sets and creates a unique datastructure based on the uique values from both sets\n",
    "week=weekends.union(weekdays)"
   ]
  },
  {
   "cell_type": "code",
   "execution_count": 71,
   "id": "bcb14abd-4e23-4456-ab36-6398d243d1fb",
   "metadata": {},
   "outputs": [
    {
     "data": {
      "text/plain": [
       "{'friday', 'monday', 'saturday', 'sunday', 'thursday', 'tuesday', 'wednesday'}"
      ]
     },
     "execution_count": 71,
     "metadata": {},
     "output_type": "execute_result"
    }
   ],
   "source": [
    "week"
   ]
  },
  {
   "cell_type": "code",
   "execution_count": 72,
   "id": "92d815a5-2c91-420d-abf6-a93d9a31a497",
   "metadata": {},
   "outputs": [
    {
     "data": {
      "text/plain": [
       "{'saturday', 'sunday'}"
      ]
     },
     "execution_count": 72,
     "metadata": {},
     "output_type": "execute_result"
    }
   ],
   "source": [
    "weekends"
   ]
  },
  {
   "cell_type": "code",
   "execution_count": 73,
   "id": "b1feb277-aec7-4b6c-afd3-5c4a906b6904",
   "metadata": {},
   "outputs": [
    {
     "data": {
      "text/plain": [
       "{'friday', 'monday', 'thursday', 'tuesday', 'wednesday'}"
      ]
     },
     "execution_count": 73,
     "metadata": {},
     "output_type": "execute_result"
    }
   ],
   "source": [
    "weekdays"
   ]
  },
  {
   "cell_type": "code",
   "execution_count": 74,
   "id": "f65632a8-1829-41dc-926b-7819d7a80d08",
   "metadata": {},
   "outputs": [
    {
     "data": {
      "text/plain": [
       "{'friday', 'monday', 'saturday', 'sunday', 'thursday', 'tuesday', 'wednesday'}"
      ]
     },
     "execution_count": 74,
     "metadata": {},
     "output_type": "execute_result"
    }
   ],
   "source": [
    "week.union(weekends)"
   ]
  },
  {
   "cell_type": "code",
   "execution_count": null,
   "id": "c9c6715d-411c-4c03-b30a-f92bba6961d3",
   "metadata": {},
   "outputs": [],
   "source": [
    "- you cannot add duplicate values\n",
    "- if the value you're trying to add is already present in the set, then the value is not duplicated or added"
   ]
  },
  {
   "cell_type": "code",
   "execution_count": 75,
   "id": "fe368478-fe95-4a34-83ab-caf3e1f50f64",
   "metadata": {},
   "outputs": [
    {
     "data": {
      "text/plain": [
       "{'saturday', 'sunday'}"
      ]
     },
     "execution_count": 75,
     "metadata": {},
     "output_type": "execute_result"
    }
   ],
   "source": [
    "# intersection\n",
    "# will give the common values from both sets\n",
    "week.intersection(weekends)"
   ]
  },
  {
   "cell_type": "code",
   "execution_count": 76,
   "id": "f2a1398a-ec0d-4672-a47d-eee95def9d0d",
   "metadata": {},
   "outputs": [
    {
     "data": {
      "text/plain": [
       "{'friday', 'monday', 'thursday', 'tuesday', 'wednesday'}"
      ]
     },
     "execution_count": 76,
     "metadata": {},
     "output_type": "execute_result"
    }
   ],
   "source": [
    "week.intersection(weekdays)"
   ]
  },
  {
   "cell_type": "code",
   "execution_count": 77,
   "id": "dddb9572-821b-4ef9-b356-9895b3a56bca",
   "metadata": {},
   "outputs": [],
   "source": [
    "l1 = [1,1,1,1,2,3,4,5]\n",
    "l2 = [1,6,7,8]"
   ]
  },
  {
   "cell_type": "code",
   "execution_count": 78,
   "id": "9804a660-8d79-47e6-b973-3791b319511c",
   "metadata": {},
   "outputs": [
    {
     "data": {
      "text/plain": [
       "{1}"
      ]
     },
     "execution_count": 78,
     "metadata": {},
     "output_type": "execute_result"
    }
   ],
   "source": [
    "set(l1).intersection(set(l2))"
   ]
  },
  {
   "cell_type": "code",
   "execution_count": 82,
   "id": "33fda3a5-bf26-4b57-b02a-865c0d501d38",
   "metadata": {},
   "outputs": [
    {
     "data": {
      "text/plain": [
       "{1}"
      ]
     },
     "execution_count": 82,
     "metadata": {},
     "output_type": "execute_result"
    }
   ],
   "source": [
    "set(l2).intersection(set(l1))"
   ]
  },
  {
   "cell_type": "code",
   "execution_count": null,
   "id": "0b7259a1-53c6-4999-87d8-8b3baaa8f505",
   "metadata": {},
   "outputs": [],
   "source": [
    "- we're converting the list into set and applying the intersection on them"
   ]
  },
  {
   "cell_type": "code",
   "execution_count": 79,
   "id": "6daf8361-5d28-4d29-b17a-555492f47f6c",
   "metadata": {},
   "outputs": [
    {
     "data": {
      "text/plain": [
       "{'friday', 'monday', 'thursday', 'tuesday', 'wednesday'}"
      ]
     },
     "execution_count": 79,
     "metadata": {},
     "output_type": "execute_result"
    }
   ],
   "source": [
    "# difference\n",
    "week.difference(weekends)"
   ]
  },
  {
   "cell_type": "code",
   "execution_count": 85,
   "id": "2dbb9c3a-09e8-4612-9c7e-5fe71ce5498f",
   "metadata": {},
   "outputs": [
    {
     "data": {
      "text/plain": [
       "set()"
      ]
     },
     "execution_count": 85,
     "metadata": {},
     "output_type": "execute_result"
    }
   ],
   "source": [
    "weekends.difference(week)"
   ]
  },
  {
   "cell_type": "code",
   "execution_count": 80,
   "id": "a722dee1-f328-4096-a8c2-f24f1ff73ba6",
   "metadata": {},
   "outputs": [
    {
     "data": {
      "text/plain": [
       "{2, 3, 4, 5}"
      ]
     },
     "execution_count": 80,
     "metadata": {},
     "output_type": "execute_result"
    }
   ],
   "source": [
    "set(l1).difference(set(l2))"
   ]
  },
  {
   "cell_type": "code",
   "execution_count": 81,
   "id": "94c6c4bd-f9e8-4d13-8e69-5afb3ecea869",
   "metadata": {},
   "outputs": [
    {
     "data": {
      "text/plain": [
       "{6, 7, 8}"
      ]
     },
     "execution_count": 81,
     "metadata": {},
     "output_type": "execute_result"
    }
   ],
   "source": [
    "set(l2).difference(set(l1))"
   ]
  },
  {
   "cell_type": "code",
   "execution_count": 84,
   "id": "f2e6c986-a06f-4776-8d38-2736a5d3fd4f",
   "metadata": {},
   "outputs": [
    {
     "data": {
      "text/plain": [
       "{'saturday', 'sunday'}"
      ]
     },
     "execution_count": 84,
     "metadata": {},
     "output_type": "execute_result"
    }
   ],
   "source": [
    "# baseDataStructure.Method(OtherDataStructre)\n",
    "weekends"
   ]
  },
  {
   "cell_type": "code",
   "execution_count": 87,
   "id": "5f2073f8-c45e-42e7-8db1-8acfd58bf09d",
   "metadata": {},
   "outputs": [
    {
     "data": {
      "text/plain": [
       "{'friday', 'saturday', 'sunday', 'thursday', 'tuesday', 'wednesday'}"
      ]
     },
     "execution_count": 87,
     "metadata": {},
     "output_type": "execute_result"
    }
   ],
   "source": [
    "# to delete an item from a set\n",
    "# set.discard(value)\n",
    "# value would be deleted from the set\n",
    "week.discard('monday')\n",
    "week"
   ]
  },
  {
   "cell_type": "code",
   "execution_count": 88,
   "id": "7d6b8a78-bf72-457e-9db5-fc7160d658af",
   "metadata": {},
   "outputs": [],
   "source": [
    "# To add a value to set\n",
    "# Set.add(value)"
   ]
  },
  {
   "cell_type": "code",
   "execution_count": 89,
   "id": "1cb9cf29-b82d-4c48-abb5-39ac044caf86",
   "metadata": {},
   "outputs": [
    {
     "data": {
      "text/plain": [
       "{'friday', 'saturday', 'sunday', 'thursday', 'tuesday', 'wednesday'}"
      ]
     },
     "execution_count": 89,
     "metadata": {},
     "output_type": "execute_result"
    }
   ],
   "source": [
    "week"
   ]
  },
  {
   "cell_type": "code",
   "execution_count": 90,
   "id": "656b6b6a-2608-4755-90d3-6add76417f54",
   "metadata": {},
   "outputs": [],
   "source": [
    "week.add('thursday')"
   ]
  },
  {
   "cell_type": "code",
   "execution_count": 91,
   "id": "f77be432-bec3-483d-ac19-b1619cbc16c7",
   "metadata": {},
   "outputs": [
    {
     "data": {
      "text/plain": [
       "{'friday', 'saturday', 'sunday', 'thursday', 'tuesday', 'wednesday'}"
      ]
     },
     "execution_count": 91,
     "metadata": {},
     "output_type": "execute_result"
    }
   ],
   "source": [
    "week"
   ]
  },
  {
   "cell_type": "code",
   "execution_count": 92,
   "id": "e668a56d-a669-4ce4-9f94-12c3b1a50e49",
   "metadata": {},
   "outputs": [],
   "source": [
    "week.add('monday')"
   ]
  },
  {
   "cell_type": "code",
   "execution_count": 93,
   "id": "c0ec2d88-6230-42bb-a4c6-5cabac57cde5",
   "metadata": {},
   "outputs": [
    {
     "data": {
      "text/plain": [
       "{'friday', 'monday', 'saturday', 'sunday', 'thursday', 'tuesday', 'wednesday'}"
      ]
     },
     "execution_count": 93,
     "metadata": {},
     "output_type": "execute_result"
    }
   ],
   "source": [
    "week"
   ]
  },
  {
   "cell_type": "code",
   "execution_count": null,
   "id": "547bd8ef-fe26-498b-a97b-7fcda7fe4c2a",
   "metadata": {},
   "outputs": [],
   "source": []
  },
  {
   "cell_type": "code",
   "execution_count": null,
   "id": "4a38bbee-c7ac-42c6-a0f8-5cdaa4695b73",
   "metadata": {},
   "outputs": [],
   "source": []
  },
  {
   "cell_type": "code",
   "execution_count": null,
   "id": "768a31cc-0559-4949-a272-93be5296979f",
   "metadata": {},
   "outputs": [],
   "source": []
  }
 ],
 "metadata": {
  "kernelspec": {
   "display_name": "Python 3 (ipykernel)",
   "language": "python",
   "name": "python3"
  },
  "language_info": {
   "codemirror_mode": {
    "name": "ipython",
    "version": 3
   },
   "file_extension": ".py",
   "mimetype": "text/x-python",
   "name": "python",
   "nbconvert_exporter": "python",
   "pygments_lexer": "ipython3",
   "version": "3.11.7"
  }
 },
 "nbformat": 4,
 "nbformat_minor": 5
}

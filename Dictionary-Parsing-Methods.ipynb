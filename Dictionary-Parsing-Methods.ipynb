{
 "cells": [
  {
   "cell_type": "code",
   "execution_count": null,
   "id": "e0a27709-39a2-49b5-bf92-e1952b45ff9c",
   "metadata": {},
   "outputs": [],
   "source": [
    "weather={\n",
    "      \"dt\": 1748241000,\n",
    "      \"sunrise\": 1748217881,\n",
    "      \"sunset\": 1748264687,\n",
    "      \"temp\": {\n",
    "        \"day\": 30.94,\n",
    "        \"min\": 26.74,\n",
    "        \"max\": 32.53,\n",
    "        \"night\": 28.33,\n",
    "        \"eve\": 27,\n",
    "        \"morn\": 28.03\n",
    "      },\n",
    "      \"feels_like\": {\n",
    "        \"day\": 37.14,\n",
    "        \"night\": 31.47,\n",
    "        \"eve\": 27.8,\n",
    "        \"morn\": 31.28\n",
    "      },\n",
    "      \"pressure\": 1002,\n",
    "      \"humidity\": 69,\n",
    "      \"weather\": [\n",
    "        {\n",
    "          \"id\": 501,\n",
    "          \"main\": \"Rain\",\n",
    "          \"description\": \"moderate rain\",\n",
    "          \"icon\": \"10d\"\n",
    "        }\n",
    "      ],\n",
    "      \"speed\": 4.9,\n",
    "      \"deg\": 234,\n",
    "      \"gust\": 9.83,\n",
    "      \"clouds\": 62,\n",
    "      \"pop\": 1,\n",
    "      \"rain\": 1.65\n",
    "    }"
   ]
  },
  {
   "cell_type": "code",
   "execution_count": 2,
   "id": "317eb3e8-12d2-4741-956f-5804c464aa4e",
   "metadata": {},
   "outputs": [
    {
     "data": {
      "text/plain": [
       "{'dt': 1748241000,\n",
       " 'sunrise': 1748217881,\n",
       " 'sunset': 1748264687,\n",
       " 'temp': {'day': 30.94,\n",
       "  'min': 26.74,\n",
       "  'max': 32.53,\n",
       "  'night': 28.33,\n",
       "  'eve': 27,\n",
       "  'morn': 28.03},\n",
       " 'feels_like': {'day': 37.14, 'night': 31.47, 'eve': 27.8, 'morn': 31.28},\n",
       " 'pressure': 1002,\n",
       " 'humidity': 69,\n",
       " 'weather': [{'id': 501,\n",
       "   'main': 'Rain',\n",
       "   'description': 'moderate rain',\n",
       "   'icon': '10d'}],\n",
       " 'speed': 4.9,\n",
       " 'deg': 234,\n",
       " 'gust': 9.83,\n",
       " 'clouds': 62,\n",
       " 'pop': 1,\n",
       " 'rain': 1.65}"
      ]
     },
     "execution_count": 2,
     "metadata": {},
     "output_type": "execute_result"
    }
   ],
   "source": [
    "weather"
   ]
  },
  {
   "cell_type": "code",
   "execution_count": 3,
   "id": "4c795f42-a246-4ed8-b5ad-41dfc2059954",
   "metadata": {},
   "outputs": [],
   "source": [
    "# min, max, 'morn', 'description','rain'"
   ]
  },
  {
   "cell_type": "code",
   "execution_count": 4,
   "id": "aed5c2b4-7c85-46b3-b4cd-8bdffb976830",
   "metadata": {},
   "outputs": [
    {
     "data": {
      "text/plain": [
       "dict_keys(['dt', 'sunrise', 'sunset', 'temp', 'feels_like', 'pressure', 'humidity', 'weather', 'speed', 'deg', 'gust', 'clouds', 'pop', 'rain'])"
      ]
     },
     "execution_count": 4,
     "metadata": {},
     "output_type": "execute_result"
    }
   ],
   "source": [
    "weather.keys()"
   ]
  },
  {
   "cell_type": "code",
   "execution_count": 6,
   "id": "0eed516e-256e-431e-8198-77909470a86b",
   "metadata": {},
   "outputs": [
    {
     "data": {
      "text/plain": [
       "{'day': 30.94,\n",
       " 'min': 26.74,\n",
       " 'max': 32.53,\n",
       " 'night': 28.33,\n",
       " 'eve': 27,\n",
       " 'morn': 28.03}"
      ]
     },
     "execution_count": 6,
     "metadata": {},
     "output_type": "execute_result"
    }
   ],
   "source": [
    "weather.get('temp')"
   ]
  },
  {
   "cell_type": "code",
   "execution_count": 7,
   "id": "11907ed4-6c36-492d-b357-f41235051254",
   "metadata": {},
   "outputs": [
    {
     "data": {
      "text/plain": [
       "dict"
      ]
     },
     "execution_count": 7,
     "metadata": {},
     "output_type": "execute_result"
    }
   ],
   "source": [
    "type(weather.get('temp'))"
   ]
  },
  {
   "cell_type": "code",
   "execution_count": 8,
   "id": "d76790c4-95ff-48ae-a55b-03fc8519e946",
   "metadata": {},
   "outputs": [
    {
     "data": {
      "text/plain": [
       "26.74"
      ]
     },
     "execution_count": 8,
     "metadata": {},
     "output_type": "execute_result"
    }
   ],
   "source": [
    "weather.get('temp').get( 'min')"
   ]
  },
  {
   "cell_type": "code",
   "execution_count": 9,
   "id": "a0dd9336-74b2-4056-b060-a0e9e0a78fd1",
   "metadata": {},
   "outputs": [
    {
     "data": {
      "text/plain": [
       "32.53"
      ]
     },
     "execution_count": 9,
     "metadata": {},
     "output_type": "execute_result"
    }
   ],
   "source": [
    "weather.get('temp').get( 'max')"
   ]
  },
  {
   "cell_type": "code",
   "execution_count": 10,
   "id": "f9a5fe7e-104d-49da-b904-28c59d945619",
   "metadata": {},
   "outputs": [
    {
     "data": {
      "text/plain": [
       "{'day': 37.14, 'night': 31.47, 'eve': 27.8, 'morn': 31.28}"
      ]
     },
     "execution_count": 10,
     "metadata": {},
     "output_type": "execute_result"
    }
   ],
   "source": [
    "weather.get('feels_like')"
   ]
  },
  {
   "cell_type": "code",
   "execution_count": 11,
   "id": "4d9d7972-e42d-4313-9005-6ccc0f88f398",
   "metadata": {},
   "outputs": [
    {
     "data": {
      "text/plain": [
       "31.28"
      ]
     },
     "execution_count": 11,
     "metadata": {},
     "output_type": "execute_result"
    }
   ],
   "source": [
    "weather.get('feels_like').get( 'morn')"
   ]
  },
  {
   "cell_type": "code",
   "execution_count": 12,
   "id": "3cf79b15-7be9-4ff7-8ff3-dea7ed784b86",
   "metadata": {},
   "outputs": [
    {
     "data": {
      "text/plain": [
       "[{'id': 501, 'main': 'Rain', 'description': 'moderate rain', 'icon': '10d'}]"
      ]
     },
     "execution_count": 12,
     "metadata": {},
     "output_type": "execute_result"
    }
   ],
   "source": [
    "weather.get('weather')"
   ]
  },
  {
   "cell_type": "code",
   "execution_count": 13,
   "id": "fd549cad-1b77-444d-ba4c-c0c381f2330e",
   "metadata": {},
   "outputs": [
    {
     "data": {
      "text/plain": [
       "list"
      ]
     },
     "execution_count": 13,
     "metadata": {},
     "output_type": "execute_result"
    }
   ],
   "source": [
    "type(weather.get('weather'))"
   ]
  },
  {
   "cell_type": "code",
   "execution_count": 14,
   "id": "2615a016-9085-4dc8-8f75-0c06af5a4c02",
   "metadata": {},
   "outputs": [
    {
     "data": {
      "text/plain": [
       "{'id': 501, 'main': 'Rain', 'description': 'moderate rain', 'icon': '10d'}"
      ]
     },
     "execution_count": 14,
     "metadata": {},
     "output_type": "execute_result"
    }
   ],
   "source": [
    "weather.get('weather')[0]"
   ]
  },
  {
   "cell_type": "code",
   "execution_count": 15,
   "id": "f830252c-bc6d-4281-acff-80917acbdd50",
   "metadata": {},
   "outputs": [
    {
     "data": {
      "text/plain": [
       "'moderate rain'"
      ]
     },
     "execution_count": 15,
     "metadata": {},
     "output_type": "execute_result"
    }
   ],
   "source": [
    "weather.get('weather')[0].get('description')"
   ]
  },
  {
   "cell_type": "code",
   "execution_count": null,
   "id": "ce0951f6-8604-4053-aa2c-6004ad4b18cb",
   "metadata": {},
   "outputs": [],
   "source": []
  },
  {
   "cell_type": "markdown",
   "id": "60284ed3-1af6-4372-b25f-de117074ee03",
   "metadata": {},
   "source": [
    "#### Dictionary Methods"
   ]
  },
  {
   "cell_type": "code",
   "execution_count": 16,
   "id": "d4c6c988-c82c-4cce-9daa-0aa102f3149e",
   "metadata": {},
   "outputs": [],
   "source": [
    "#### iter items"
   ]
  },
  {
   "cell_type": "code",
   "execution_count": 22,
   "id": "9e8be289-bc11-497c-87cb-4c71b91630b2",
   "metadata": {},
   "outputs": [],
   "source": [
    "sample={\n",
    "'sandles':1220,\n",
    "'idly rava':100,\n",
    "'jeans':1111,\n",
    "'fruit':'apple',\n",
    "'cooldrink':'butter milk',\n",
    "'tiffin':['idly','dosa'],\n",
    " 'meals':{'veg':'andhra','special':'north'}\n",
    "}"
   ]
  },
  {
   "cell_type": "code",
   "execution_count": 23,
   "id": "56e1a844-35ff-460f-a380-f1f25e95f34f",
   "metadata": {},
   "outputs": [
    {
     "data": {
      "text/plain": [
       "dict_items([('sandles', 1220), ('idly rava', 100), ('jeans', 1111), ('fruit', 'apple'), ('cooldrink', 'butter milk'), ('tiffin', ['idly', 'dosa']), ('meals', {'veg': 'andhra', 'special': 'north'})])"
      ]
     },
     "execution_count": 23,
     "metadata": {},
     "output_type": "execute_result"
    }
   ],
   "source": [
    "sample.items()"
   ]
  },
  {
   "cell_type": "code",
   "execution_count": 19,
   "id": "f49a8fd4-7650-4d74-9932-8957659629bc",
   "metadata": {},
   "outputs": [
    {
     "data": {
      "text/plain": [
       "dict_items"
      ]
     },
     "execution_count": 19,
     "metadata": {},
     "output_type": "execute_result"
    }
   ],
   "source": [
    "type(sample.items())"
   ]
  },
  {
   "cell_type": "code",
   "execution_count": 24,
   "id": "1b964a51-3e32-412c-83ad-368d5078e07f",
   "metadata": {},
   "outputs": [],
   "source": [
    "# [('sandles', 1220), ('idly rava', 100), ('jeans', 1111), ('fruit', 'apple'), ('cooldrink', 'butter milk')]\n",
    "# ('sandles', 1220)\n",
    "# ('meals', {'veg': 'andhra', 'special': 'north'})"
   ]
  },
  {
   "cell_type": "code",
   "execution_count": null,
   "id": "f225477c-dd8c-41e1-bae2-de3cc1850e0b",
   "metadata": {},
   "outputs": [],
   "source": []
  },
  {
   "cell_type": "code",
   "execution_count": 25,
   "id": "f7a1adda-f847-406c-92cd-a5340beeffef",
   "metadata": {},
   "outputs": [],
   "source": []
  },
  {
   "cell_type": "code",
   "execution_count": 26,
   "id": "1ddb91c8-e2f5-4549-ab38-aa361d0ad556",
   "metadata": {},
   "outputs": [
    {
     "name": "stdout",
     "output_type": "stream",
     "text": [
      "sandles\n",
      "idly rava\n",
      "jeans\n",
      "fruit\n",
      "cooldrink\n",
      "tiffin\n",
      "meals\n"
     ]
    }
   ],
   "source": [
    "for each in sample:\n",
    "    print(each)"
   ]
  },
  {
   "cell_type": "code",
   "execution_count": 27,
   "id": "261d2ec8-6972-4c8c-89aa-5cafd4e46f3f",
   "metadata": {},
   "outputs": [
    {
     "data": {
      "text/plain": [
       "dict_keys(['sandles', 'idly rava', 'jeans', 'fruit', 'cooldrink', 'tiffin', 'meals'])"
      ]
     },
     "execution_count": 27,
     "metadata": {},
     "output_type": "execute_result"
    }
   ],
   "source": [
    "sample.keys()"
   ]
  },
  {
   "cell_type": "code",
   "execution_count": 28,
   "id": "59f2ab4e-0ce4-4f34-813e-ed994af9d96b",
   "metadata": {},
   "outputs": [
    {
     "name": "stdout",
     "output_type": "stream",
     "text": [
      "sandles\n",
      "idly rava\n",
      "jeans\n",
      "fruit\n",
      "cooldrink\n",
      "tiffin\n",
      "meals\n"
     ]
    }
   ],
   "source": [
    "for each in sample.keys():\n",
    "    print(each)"
   ]
  },
  {
   "cell_type": "code",
   "execution_count": 32,
   "id": "097f38de-f4e5-4117-add7-384cf5239576",
   "metadata": {},
   "outputs": [
    {
     "ename": "ValueError",
     "evalue": "too many values to unpack (expected 2)",
     "output_type": "error",
     "traceback": [
      "\u001b[1;31m---------------------------------------------------------------------------\u001b[0m",
      "\u001b[1;31mValueError\u001b[0m                                Traceback (most recent call last)",
      "Cell \u001b[1;32mIn[32], line 1\u001b[0m\n\u001b[1;32m----> 1\u001b[0m \u001b[38;5;28;01mfor\u001b[39;00m each_key,each_value \u001b[38;5;129;01min\u001b[39;00m sample:\n\u001b[0;32m      2\u001b[0m     \u001b[38;5;28mprint\u001b[39m(each_key,\u001b[38;5;124m\"\u001b[39m\u001b[38;5;124m --\u001b[39m\u001b[38;5;124m\"\u001b[39m,each_value)\n",
      "\u001b[1;31mValueError\u001b[0m: too many values to unpack (expected 2)"
     ]
    }
   ],
   "source": [
    "for each_key,each_value in sample:\n",
    "    print(each_key,\" --\",each_value)"
   ]
  },
  {
   "cell_type": "code",
   "execution_count": 33,
   "id": "2a3b1c2e-465c-4d91-9d9e-c2bd62c5593a",
   "metadata": {},
   "outputs": [
    {
     "name": "stdout",
     "output_type": "stream",
     "text": [
      "sandles  -- 1220\n",
      "idly rava  -- 100\n",
      "jeans  -- 1111\n",
      "fruit  -- apple\n",
      "cooldrink  -- butter milk\n",
      "tiffin  -- ['idly', 'dosa']\n",
      "meals  -- {'veg': 'andhra', 'special': 'north'}\n"
     ]
    }
   ],
   "source": [
    "for each_key,each_value in sample.items():\n",
    "    print(each_key,\" --\",each_value)"
   ]
  },
  {
   "cell_type": "code",
   "execution_count": null,
   "id": "b5b57460-2918-4348-8d1a-f7a73c06308e",
   "metadata": {},
   "outputs": [],
   "source": []
  },
  {
   "cell_type": "code",
   "execution_count": 34,
   "id": "89d87bd9-faf7-431b-968e-54acdd73e010",
   "metadata": {},
   "outputs": [],
   "source": [
    "## looping over the keys"
   ]
  },
  {
   "cell_type": "code",
   "execution_count": 35,
   "id": "490639b5-da19-4ea4-abd0-5dd718ac3a68",
   "metadata": {},
   "outputs": [
    {
     "name": "stdout",
     "output_type": "stream",
     "text": [
      "SANDLES\n",
      "IDLY RAVA\n",
      "JEANS\n",
      "FRUIT\n",
      "COOLDRINK\n",
      "TIFFIN\n",
      "MEALS\n"
     ]
    }
   ],
   "source": [
    "for each_key in sample.keys():\n",
    "    print(each_key.upper())"
   ]
  },
  {
   "cell_type": "code",
   "execution_count": 36,
   "id": "7898809c-6377-4d79-be11-1a2f0f8a8366",
   "metadata": {},
   "outputs": [
    {
     "name": "stdout",
     "output_type": "stream",
     "text": [
      "<class 'int'> ------> 1220\n",
      "<class 'int'> ------> 100\n",
      "<class 'int'> ------> 1111\n",
      "<class 'str'> ------> apple\n",
      "<class 'str'> ------> butter milk\n",
      "<class 'list'> ------> ['idly', 'dosa']\n",
      "<class 'dict'> ------> {'veg': 'andhra', 'special': 'north'}\n"
     ]
    }
   ],
   "source": [
    "## looping over the values\n",
    "for each_value in sample.values():\n",
    "    print(type(each_value),\"------>\",each_value)"
   ]
  },
  {
   "cell_type": "code",
   "execution_count": null,
   "id": "6a504876-6c68-4e63-8131-cc23d1e0fd1c",
   "metadata": {},
   "outputs": [],
   "source": []
  },
  {
   "cell_type": "code",
   "execution_count": null,
   "id": "8845f70f-b448-4bc3-afd0-88682a2af2be",
   "metadata": {},
   "outputs": [],
   "source": []
  },
  {
   "cell_type": "code",
   "execution_count": 38,
   "id": "bda47dae-02de-4b3f-ad61-d343ead5f67c",
   "metadata": {},
   "outputs": [],
   "source": [
    "weather=[{\"dt\":1748241000,\"sunrise\":1748217881,\"sunset\":1748264687,\"temp\":{\"day\":30.94,\"min\":26.74,\"max\":32.53,\"night\":28.33,\"eve\":27,\"morn\":28.03},\"feels_like\":{\"day\":37.14,\"night\":31.47,\"eve\":27.8,\"morn\":31.28},\"pressure\":1002,\"humidity\":69,\"weather\":[{\"id\":501,\"main\":\"Rain\",\"description\":\"moderate rain\",\"icon\":\"10d\"}],\"speed\":4.9,\"deg\":234,\"gust\":9.83,\"clouds\":62,\"pop\":1,\"rain\":1.65},{\"dt\":1748327400,\"sunrise\":1748304273,\"sunset\":1748351108,\"temp\":{\"day\":33.26,\"min\":26.95,\"max\":34.99,\"night\":29.67,\"eve\":33.54,\"morn\":27},\"feels_like\":{\"day\":38.08,\"night\":34.03,\"eve\":38.05,\"morn\":29.37},\"pressure\":1000,\"humidity\":54,\"weather\":[{\"id\":500,\"main\":\"Rain\",\"description\":\"light rain\",\"icon\":\"10d\"}],\"speed\":6.36,\"deg\":267,\"gust\":9.76,\"clouds\":95,\"pop\":0.61,\"rain\":0.1},{\"dt\":1748413800,\"sunrise\":1748390667,\"sunset\":1748437529,\"temp\":{\"day\":26.94,\"min\":25.71,\"max\":29.32,\"night\":25.9,\"eve\":27.2,\"morn\":26},\"feels_like\":{\"day\":30.17,\"night\":26.79,\"eve\":30.4,\"morn\":26},\"pressure\":1001,\"humidity\":86,\"weather\":[{\"id\":502,\"main\":\"Rain\",\"description\":\"heavy intensity rain\",\"icon\":\"10d\"}],\"speed\":6.16,\"deg\":252,\"gust\":13.65,\"clouds\":100,\"pop\":1,\"rain\":34.52},{\"dt\":1748500200,\"sunrise\":1748477061,\"sunset\":1748523950,\"temp\":{\"day\":28.54,\"min\":24.36,\"max\":28.54,\"night\":25.84,\"eve\":26.23,\"morn\":24.62},\"feels_like\":{\"day\":32.07,\"night\":26.83,\"eve\":26.23,\"morn\":25.62},\"pressure\":1001,\"humidity\":72,\"weather\":[{\"id\":503,\"main\":\"Rain\",\"description\":\"very heavy rain\",\"icon\":\"10d\"}],\"speed\":7.34,\"deg\":298,\"gust\":14.19,\"clouds\":100,\"pop\":1,\"rain\":58.51},{\"dt\":1748586600,\"sunrise\":1748563456,\"sunset\":1748610371,\"temp\":{\"day\":26.29,\"min\":25.01,\"max\":26.38,\"night\":26.38,\"eve\":25.84,\"morn\":25.01},\"feels_like\":{\"day\":26.29,\"night\":26.38,\"eve\":26.78,\"morn\":26.02},\"pressure\":1002,\"humidity\":85,\"weather\":[{\"id\":501,\"main\":\"Rain\",\"description\":\"moderate rain\",\"icon\":\"10d\"}],\"speed\":6.13,\"deg\":271,\"gust\":11.92,\"clouds\":100,\"pop\":1,\"rain\":14.03},{\"dt\":1748673000,\"sunrise\":1748649853,\"sunset\":1748696792,\"temp\":{\"day\":24.92,\"min\":24.79,\"max\":26.23,\"night\":24.79,\"eve\":25.61,\"morn\":26.23},\"feels_like\":{\"day\":25.87,\"night\":25.78,\"eve\":26.6,\"morn\":26.23},\"pressure\":1005,\"humidity\":92,\"weather\":[{\"id\":501,\"main\":\"Rain\",\"description\":\"moderate rain\",\"icon\":\"10d\"}],\"speed\":4.37,\"deg\":240,\"gust\":11.96,\"clouds\":100,\"pop\":1,\"rain\":31.89},{\"dt\":1748759400,\"sunrise\":1748736250,\"sunset\":1748783213,\"temp\":{\"day\":26.87,\"min\":24.43,\"max\":27.23,\"night\":26.39,\"eve\":26.39,\"morn\":24.63},\"feels_like\":{\"day\":29.54,\"night\":26.39,\"eve\":26.39,\"morn\":25.6},\"pressure\":1005,\"humidity\":81,\"weather\":[{\"id\":501,\"main\":\"Rain\",\"description\":\"moderate rain\",\"icon\":\"10d\"}],\"speed\":7.03,\"deg\":251,\"gust\":15.8,\"clouds\":100,\"pop\":1,\"rain\":11.97},{\"dt\":1748845800,\"sunrise\":1748822647,\"sunset\":1748869633,\"temp\":{\"day\":32.18,\"min\":25.31,\"max\":33.89,\"night\":29,\"eve\":33.89,\"morn\":25.31},\"feels_like\":{\"day\":34.7,\"night\":30.88,\"eve\":38.15,\"morn\":25.99},\"pressure\":1005,\"humidity\":50,\"weather\":[{\"id\":803,\"main\":\"Clouds\",\"description\":\"broken clouds\",\"icon\":\"04d\"}],\"speed\":8.05,\"deg\":285,\"gust\":13.84,\"clouds\":78,\"pop\":0},{\"dt\":1748932200,\"sunrise\":1748909046,\"sunset\":1748956053,\"temp\":{\"day\":33.76,\"min\":27.17,\"max\":36.07,\"night\":30.88,\"eve\":35.33,\"morn\":27.17},\"feels_like\":{\"day\":36.93,\"night\":33.02,\"eve\":37.53,\"morn\":28.97},\"pressure\":1005,\"humidity\":47,\"weather\":[{\"id\":804,\"main\":\"Clouds\",\"description\":\"overcast clouds\",\"icon\":\"04d\"}],\"speed\":6.78,\"deg\":279,\"gust\":11.74,\"clouds\":100,\"pop\":0},{\"dt\":1749018600,\"sunrise\":1748995446,\"sunset\":1749042474,\"temp\":{\"day\":36.04,\"min\":28.57,\"max\":38.26,\"night\":32.41,\"eve\":37.8,\"morn\":28.57},\"feels_like\":{\"day\":38.22,\"night\":34.15,\"eve\":39.78,\"morn\":30.6},\"pressure\":1004,\"humidity\":37,\"weather\":[{\"id\":803,\"main\":\"Clouds\",\"description\":\"broken clouds\",\"icon\":\"04d\"}],\"speed\":7.26,\"deg\":288,\"gust\":11.15,\"clouds\":79,\"pop\":0}]"
   ]
  },
  {
   "cell_type": "code",
   "execution_count": 39,
   "id": "bdef7960-6fb4-4323-8742-a8723a61edfa",
   "metadata": {},
   "outputs": [
    {
     "data": {
      "text/plain": [
       "[{'dt': 1748241000,\n",
       "  'sunrise': 1748217881,\n",
       "  'sunset': 1748264687,\n",
       "  'temp': {'day': 30.94,\n",
       "   'min': 26.74,\n",
       "   'max': 32.53,\n",
       "   'night': 28.33,\n",
       "   'eve': 27,\n",
       "   'morn': 28.03},\n",
       "  'feels_like': {'day': 37.14, 'night': 31.47, 'eve': 27.8, 'morn': 31.28},\n",
       "  'pressure': 1002,\n",
       "  'humidity': 69,\n",
       "  'weather': [{'id': 501,\n",
       "    'main': 'Rain',\n",
       "    'description': 'moderate rain',\n",
       "    'icon': '10d'}],\n",
       "  'speed': 4.9,\n",
       "  'deg': 234,\n",
       "  'gust': 9.83,\n",
       "  'clouds': 62,\n",
       "  'pop': 1,\n",
       "  'rain': 1.65},\n",
       " {'dt': 1748327400,\n",
       "  'sunrise': 1748304273,\n",
       "  'sunset': 1748351108,\n",
       "  'temp': {'day': 33.26,\n",
       "   'min': 26.95,\n",
       "   'max': 34.99,\n",
       "   'night': 29.67,\n",
       "   'eve': 33.54,\n",
       "   'morn': 27},\n",
       "  'feels_like': {'day': 38.08, 'night': 34.03, 'eve': 38.05, 'morn': 29.37},\n",
       "  'pressure': 1000,\n",
       "  'humidity': 54,\n",
       "  'weather': [{'id': 500,\n",
       "    'main': 'Rain',\n",
       "    'description': 'light rain',\n",
       "    'icon': '10d'}],\n",
       "  'speed': 6.36,\n",
       "  'deg': 267,\n",
       "  'gust': 9.76,\n",
       "  'clouds': 95,\n",
       "  'pop': 0.61,\n",
       "  'rain': 0.1},\n",
       " {'dt': 1748413800,\n",
       "  'sunrise': 1748390667,\n",
       "  'sunset': 1748437529,\n",
       "  'temp': {'day': 26.94,\n",
       "   'min': 25.71,\n",
       "   'max': 29.32,\n",
       "   'night': 25.9,\n",
       "   'eve': 27.2,\n",
       "   'morn': 26},\n",
       "  'feels_like': {'day': 30.17, 'night': 26.79, 'eve': 30.4, 'morn': 26},\n",
       "  'pressure': 1001,\n",
       "  'humidity': 86,\n",
       "  'weather': [{'id': 502,\n",
       "    'main': 'Rain',\n",
       "    'description': 'heavy intensity rain',\n",
       "    'icon': '10d'}],\n",
       "  'speed': 6.16,\n",
       "  'deg': 252,\n",
       "  'gust': 13.65,\n",
       "  'clouds': 100,\n",
       "  'pop': 1,\n",
       "  'rain': 34.52},\n",
       " {'dt': 1748500200,\n",
       "  'sunrise': 1748477061,\n",
       "  'sunset': 1748523950,\n",
       "  'temp': {'day': 28.54,\n",
       "   'min': 24.36,\n",
       "   'max': 28.54,\n",
       "   'night': 25.84,\n",
       "   'eve': 26.23,\n",
       "   'morn': 24.62},\n",
       "  'feels_like': {'day': 32.07, 'night': 26.83, 'eve': 26.23, 'morn': 25.62},\n",
       "  'pressure': 1001,\n",
       "  'humidity': 72,\n",
       "  'weather': [{'id': 503,\n",
       "    'main': 'Rain',\n",
       "    'description': 'very heavy rain',\n",
       "    'icon': '10d'}],\n",
       "  'speed': 7.34,\n",
       "  'deg': 298,\n",
       "  'gust': 14.19,\n",
       "  'clouds': 100,\n",
       "  'pop': 1,\n",
       "  'rain': 58.51},\n",
       " {'dt': 1748586600,\n",
       "  'sunrise': 1748563456,\n",
       "  'sunset': 1748610371,\n",
       "  'temp': {'day': 26.29,\n",
       "   'min': 25.01,\n",
       "   'max': 26.38,\n",
       "   'night': 26.38,\n",
       "   'eve': 25.84,\n",
       "   'morn': 25.01},\n",
       "  'feels_like': {'day': 26.29, 'night': 26.38, 'eve': 26.78, 'morn': 26.02},\n",
       "  'pressure': 1002,\n",
       "  'humidity': 85,\n",
       "  'weather': [{'id': 501,\n",
       "    'main': 'Rain',\n",
       "    'description': 'moderate rain',\n",
       "    'icon': '10d'}],\n",
       "  'speed': 6.13,\n",
       "  'deg': 271,\n",
       "  'gust': 11.92,\n",
       "  'clouds': 100,\n",
       "  'pop': 1,\n",
       "  'rain': 14.03},\n",
       " {'dt': 1748673000,\n",
       "  'sunrise': 1748649853,\n",
       "  'sunset': 1748696792,\n",
       "  'temp': {'day': 24.92,\n",
       "   'min': 24.79,\n",
       "   'max': 26.23,\n",
       "   'night': 24.79,\n",
       "   'eve': 25.61,\n",
       "   'morn': 26.23},\n",
       "  'feels_like': {'day': 25.87, 'night': 25.78, 'eve': 26.6, 'morn': 26.23},\n",
       "  'pressure': 1005,\n",
       "  'humidity': 92,\n",
       "  'weather': [{'id': 501,\n",
       "    'main': 'Rain',\n",
       "    'description': 'moderate rain',\n",
       "    'icon': '10d'}],\n",
       "  'speed': 4.37,\n",
       "  'deg': 240,\n",
       "  'gust': 11.96,\n",
       "  'clouds': 100,\n",
       "  'pop': 1,\n",
       "  'rain': 31.89},\n",
       " {'dt': 1748759400,\n",
       "  'sunrise': 1748736250,\n",
       "  'sunset': 1748783213,\n",
       "  'temp': {'day': 26.87,\n",
       "   'min': 24.43,\n",
       "   'max': 27.23,\n",
       "   'night': 26.39,\n",
       "   'eve': 26.39,\n",
       "   'morn': 24.63},\n",
       "  'feels_like': {'day': 29.54, 'night': 26.39, 'eve': 26.39, 'morn': 25.6},\n",
       "  'pressure': 1005,\n",
       "  'humidity': 81,\n",
       "  'weather': [{'id': 501,\n",
       "    'main': 'Rain',\n",
       "    'description': 'moderate rain',\n",
       "    'icon': '10d'}],\n",
       "  'speed': 7.03,\n",
       "  'deg': 251,\n",
       "  'gust': 15.8,\n",
       "  'clouds': 100,\n",
       "  'pop': 1,\n",
       "  'rain': 11.97},\n",
       " {'dt': 1748845800,\n",
       "  'sunrise': 1748822647,\n",
       "  'sunset': 1748869633,\n",
       "  'temp': {'day': 32.18,\n",
       "   'min': 25.31,\n",
       "   'max': 33.89,\n",
       "   'night': 29,\n",
       "   'eve': 33.89,\n",
       "   'morn': 25.31},\n",
       "  'feels_like': {'day': 34.7, 'night': 30.88, 'eve': 38.15, 'morn': 25.99},\n",
       "  'pressure': 1005,\n",
       "  'humidity': 50,\n",
       "  'weather': [{'id': 803,\n",
       "    'main': 'Clouds',\n",
       "    'description': 'broken clouds',\n",
       "    'icon': '04d'}],\n",
       "  'speed': 8.05,\n",
       "  'deg': 285,\n",
       "  'gust': 13.84,\n",
       "  'clouds': 78,\n",
       "  'pop': 0},\n",
       " {'dt': 1748932200,\n",
       "  'sunrise': 1748909046,\n",
       "  'sunset': 1748956053,\n",
       "  'temp': {'day': 33.76,\n",
       "   'min': 27.17,\n",
       "   'max': 36.07,\n",
       "   'night': 30.88,\n",
       "   'eve': 35.33,\n",
       "   'morn': 27.17},\n",
       "  'feels_like': {'day': 36.93, 'night': 33.02, 'eve': 37.53, 'morn': 28.97},\n",
       "  'pressure': 1005,\n",
       "  'humidity': 47,\n",
       "  'weather': [{'id': 804,\n",
       "    'main': 'Clouds',\n",
       "    'description': 'overcast clouds',\n",
       "    'icon': '04d'}],\n",
       "  'speed': 6.78,\n",
       "  'deg': 279,\n",
       "  'gust': 11.74,\n",
       "  'clouds': 100,\n",
       "  'pop': 0},\n",
       " {'dt': 1749018600,\n",
       "  'sunrise': 1748995446,\n",
       "  'sunset': 1749042474,\n",
       "  'temp': {'day': 36.04,\n",
       "   'min': 28.57,\n",
       "   'max': 38.26,\n",
       "   'night': 32.41,\n",
       "   'eve': 37.8,\n",
       "   'morn': 28.57},\n",
       "  'feels_like': {'day': 38.22, 'night': 34.15, 'eve': 39.78, 'morn': 30.6},\n",
       "  'pressure': 1004,\n",
       "  'humidity': 37,\n",
       "  'weather': [{'id': 803,\n",
       "    'main': 'Clouds',\n",
       "    'description': 'broken clouds',\n",
       "    'icon': '04d'}],\n",
       "  'speed': 7.26,\n",
       "  'deg': 288,\n",
       "  'gust': 11.15,\n",
       "  'clouds': 79,\n",
       "  'pop': 0}]"
      ]
     },
     "execution_count": 39,
     "metadata": {},
     "output_type": "execute_result"
    }
   ],
   "source": [
    "weather"
   ]
  },
  {
   "cell_type": "code",
   "execution_count": 40,
   "id": "62d1fdd0-f98c-4252-9357-07b73188dc0f",
   "metadata": {},
   "outputs": [
    {
     "data": {
      "text/plain": [
       "10"
      ]
     },
     "execution_count": 40,
     "metadata": {},
     "output_type": "execute_result"
    }
   ],
   "source": [
    "len(weather)"
   ]
  },
  {
   "cell_type": "code",
   "execution_count": 44,
   "id": "457751c3-19fb-4f9a-bdaa-da2356f34098",
   "metadata": {},
   "outputs": [
    {
     "data": {
      "text/plain": [
       "list"
      ]
     },
     "execution_count": 44,
     "metadata": {},
     "output_type": "execute_result"
    }
   ],
   "source": [
    "type(weather)"
   ]
  },
  {
   "cell_type": "code",
   "execution_count": 41,
   "id": "31b45184-4c89-4c28-85da-0fa4b15f7dfa",
   "metadata": {},
   "outputs": [
    {
     "data": {
      "text/plain": [
       "{'dt': 1748241000,\n",
       " 'sunrise': 1748217881,\n",
       " 'sunset': 1748264687,\n",
       " 'temp': {'day': 30.94,\n",
       "  'min': 26.74,\n",
       "  'max': 32.53,\n",
       "  'night': 28.33,\n",
       "  'eve': 27,\n",
       "  'morn': 28.03},\n",
       " 'feels_like': {'day': 37.14, 'night': 31.47, 'eve': 27.8, 'morn': 31.28},\n",
       " 'pressure': 1002,\n",
       " 'humidity': 69,\n",
       " 'weather': [{'id': 501,\n",
       "   'main': 'Rain',\n",
       "   'description': 'moderate rain',\n",
       "   'icon': '10d'}],\n",
       " 'speed': 4.9,\n",
       " 'deg': 234,\n",
       " 'gust': 9.83,\n",
       " 'clouds': 62,\n",
       " 'pop': 1,\n",
       " 'rain': 1.65}"
      ]
     },
     "execution_count": 41,
     "metadata": {},
     "output_type": "execute_result"
    }
   ],
   "source": [
    "weather[0]"
   ]
  },
  {
   "cell_type": "code",
   "execution_count": 42,
   "id": "94b2bbde-afc0-4c3d-b681-8dff4b41e5f1",
   "metadata": {},
   "outputs": [
    {
     "data": {
      "text/plain": [
       "{'dt': 1748327400,\n",
       " 'sunrise': 1748304273,\n",
       " 'sunset': 1748351108,\n",
       " 'temp': {'day': 33.26,\n",
       "  'min': 26.95,\n",
       "  'max': 34.99,\n",
       "  'night': 29.67,\n",
       "  'eve': 33.54,\n",
       "  'morn': 27},\n",
       " 'feels_like': {'day': 38.08, 'night': 34.03, 'eve': 38.05, 'morn': 29.37},\n",
       " 'pressure': 1000,\n",
       " 'humidity': 54,\n",
       " 'weather': [{'id': 500,\n",
       "   'main': 'Rain',\n",
       "   'description': 'light rain',\n",
       "   'icon': '10d'}],\n",
       " 'speed': 6.36,\n",
       " 'deg': 267,\n",
       " 'gust': 9.76,\n",
       " 'clouds': 95,\n",
       " 'pop': 0.61,\n",
       " 'rain': 0.1}"
      ]
     },
     "execution_count": 42,
     "metadata": {},
     "output_type": "execute_result"
    }
   ],
   "source": [
    "weather[1]"
   ]
  },
  {
   "cell_type": "code",
   "execution_count": 43,
   "id": "1a560975-afb5-4e45-8a6e-eb28ee579fc5",
   "metadata": {},
   "outputs": [
    {
     "data": {
      "text/plain": [
       "{'dt': 1748500200,\n",
       " 'sunrise': 1748477061,\n",
       " 'sunset': 1748523950,\n",
       " 'temp': {'day': 28.54,\n",
       "  'min': 24.36,\n",
       "  'max': 28.54,\n",
       "  'night': 25.84,\n",
       "  'eve': 26.23,\n",
       "  'morn': 24.62},\n",
       " 'feels_like': {'day': 32.07, 'night': 26.83, 'eve': 26.23, 'morn': 25.62},\n",
       " 'pressure': 1001,\n",
       " 'humidity': 72,\n",
       " 'weather': [{'id': 503,\n",
       "   'main': 'Rain',\n",
       "   'description': 'very heavy rain',\n",
       "   'icon': '10d'}],\n",
       " 'speed': 7.34,\n",
       " 'deg': 298,\n",
       " 'gust': 14.19,\n",
       " 'clouds': 100,\n",
       " 'pop': 1,\n",
       " 'rain': 58.51}"
      ]
     },
     "execution_count": 43,
     "metadata": {},
     "output_type": "execute_result"
    }
   ],
   "source": [
    "weather[3]"
   ]
  },
  {
   "cell_type": "code",
   "execution_count": null,
   "id": "faa7f90d-93fe-40f8-ad33-70b9437e20b6",
   "metadata": {},
   "outputs": [],
   "source": []
  },
  {
   "cell_type": "code",
   "execution_count": null,
   "id": "109cf2c6-7d89-4cd8-9a9f-fb255fc1c620",
   "metadata": {},
   "outputs": [],
   "source": []
  },
  {
   "cell_type": "code",
   "execution_count": 46,
   "id": "ca1f5850-0f7a-4f5b-a4e8-dda586f43064",
   "metadata": {},
   "outputs": [
    {
     "name": "stdout",
     "output_type": "stream",
     "text": [
      "{'dt': 1748241000, 'sunrise': 1748217881, 'sunset': 1748264687, 'temp': {'day': 30.94, 'min': 26.74, 'max': 32.53, 'night': 28.33, 'eve': 27, 'morn': 28.03}, 'feels_like': {'day': 37.14, 'night': 31.47, 'eve': 27.8, 'morn': 31.28}, 'pressure': 1002, 'humidity': 69, 'weather': [{'id': 501, 'main': 'Rain', 'description': 'moderate rain', 'icon': '10d'}], 'speed': 4.9, 'deg': 234, 'gust': 9.83, 'clouds': 62, 'pop': 1, 'rain': 1.65} \n",
      "\n",
      "{'dt': 1748327400, 'sunrise': 1748304273, 'sunset': 1748351108, 'temp': {'day': 33.26, 'min': 26.95, 'max': 34.99, 'night': 29.67, 'eve': 33.54, 'morn': 27}, 'feels_like': {'day': 38.08, 'night': 34.03, 'eve': 38.05, 'morn': 29.37}, 'pressure': 1000, 'humidity': 54, 'weather': [{'id': 500, 'main': 'Rain', 'description': 'light rain', 'icon': '10d'}], 'speed': 6.36, 'deg': 267, 'gust': 9.76, 'clouds': 95, 'pop': 0.61, 'rain': 0.1} \n",
      "\n",
      "{'dt': 1748413800, 'sunrise': 1748390667, 'sunset': 1748437529, 'temp': {'day': 26.94, 'min': 25.71, 'max': 29.32, 'night': 25.9, 'eve': 27.2, 'morn': 26}, 'feels_like': {'day': 30.17, 'night': 26.79, 'eve': 30.4, 'morn': 26}, 'pressure': 1001, 'humidity': 86, 'weather': [{'id': 502, 'main': 'Rain', 'description': 'heavy intensity rain', 'icon': '10d'}], 'speed': 6.16, 'deg': 252, 'gust': 13.65, 'clouds': 100, 'pop': 1, 'rain': 34.52} \n",
      "\n",
      "{'dt': 1748500200, 'sunrise': 1748477061, 'sunset': 1748523950, 'temp': {'day': 28.54, 'min': 24.36, 'max': 28.54, 'night': 25.84, 'eve': 26.23, 'morn': 24.62}, 'feels_like': {'day': 32.07, 'night': 26.83, 'eve': 26.23, 'morn': 25.62}, 'pressure': 1001, 'humidity': 72, 'weather': [{'id': 503, 'main': 'Rain', 'description': 'very heavy rain', 'icon': '10d'}], 'speed': 7.34, 'deg': 298, 'gust': 14.19, 'clouds': 100, 'pop': 1, 'rain': 58.51} \n",
      "\n",
      "{'dt': 1748586600, 'sunrise': 1748563456, 'sunset': 1748610371, 'temp': {'day': 26.29, 'min': 25.01, 'max': 26.38, 'night': 26.38, 'eve': 25.84, 'morn': 25.01}, 'feels_like': {'day': 26.29, 'night': 26.38, 'eve': 26.78, 'morn': 26.02}, 'pressure': 1002, 'humidity': 85, 'weather': [{'id': 501, 'main': 'Rain', 'description': 'moderate rain', 'icon': '10d'}], 'speed': 6.13, 'deg': 271, 'gust': 11.92, 'clouds': 100, 'pop': 1, 'rain': 14.03} \n",
      "\n",
      "{'dt': 1748673000, 'sunrise': 1748649853, 'sunset': 1748696792, 'temp': {'day': 24.92, 'min': 24.79, 'max': 26.23, 'night': 24.79, 'eve': 25.61, 'morn': 26.23}, 'feels_like': {'day': 25.87, 'night': 25.78, 'eve': 26.6, 'morn': 26.23}, 'pressure': 1005, 'humidity': 92, 'weather': [{'id': 501, 'main': 'Rain', 'description': 'moderate rain', 'icon': '10d'}], 'speed': 4.37, 'deg': 240, 'gust': 11.96, 'clouds': 100, 'pop': 1, 'rain': 31.89} \n",
      "\n",
      "{'dt': 1748759400, 'sunrise': 1748736250, 'sunset': 1748783213, 'temp': {'day': 26.87, 'min': 24.43, 'max': 27.23, 'night': 26.39, 'eve': 26.39, 'morn': 24.63}, 'feels_like': {'day': 29.54, 'night': 26.39, 'eve': 26.39, 'morn': 25.6}, 'pressure': 1005, 'humidity': 81, 'weather': [{'id': 501, 'main': 'Rain', 'description': 'moderate rain', 'icon': '10d'}], 'speed': 7.03, 'deg': 251, 'gust': 15.8, 'clouds': 100, 'pop': 1, 'rain': 11.97} \n",
      "\n",
      "{'dt': 1748845800, 'sunrise': 1748822647, 'sunset': 1748869633, 'temp': {'day': 32.18, 'min': 25.31, 'max': 33.89, 'night': 29, 'eve': 33.89, 'morn': 25.31}, 'feels_like': {'day': 34.7, 'night': 30.88, 'eve': 38.15, 'morn': 25.99}, 'pressure': 1005, 'humidity': 50, 'weather': [{'id': 803, 'main': 'Clouds', 'description': 'broken clouds', 'icon': '04d'}], 'speed': 8.05, 'deg': 285, 'gust': 13.84, 'clouds': 78, 'pop': 0} \n",
      "\n",
      "{'dt': 1748932200, 'sunrise': 1748909046, 'sunset': 1748956053, 'temp': {'day': 33.76, 'min': 27.17, 'max': 36.07, 'night': 30.88, 'eve': 35.33, 'morn': 27.17}, 'feels_like': {'day': 36.93, 'night': 33.02, 'eve': 37.53, 'morn': 28.97}, 'pressure': 1005, 'humidity': 47, 'weather': [{'id': 804, 'main': 'Clouds', 'description': 'overcast clouds', 'icon': '04d'}], 'speed': 6.78, 'deg': 279, 'gust': 11.74, 'clouds': 100, 'pop': 0} \n",
      "\n",
      "{'dt': 1749018600, 'sunrise': 1748995446, 'sunset': 1749042474, 'temp': {'day': 36.04, 'min': 28.57, 'max': 38.26, 'night': 32.41, 'eve': 37.8, 'morn': 28.57}, 'feels_like': {'day': 38.22, 'night': 34.15, 'eve': 39.78, 'morn': 30.6}, 'pressure': 1004, 'humidity': 37, 'weather': [{'id': 803, 'main': 'Clouds', 'description': 'broken clouds', 'icon': '04d'}], 'speed': 7.26, 'deg': 288, 'gust': 11.15, 'clouds': 79, 'pop': 0} \n",
      "\n"
     ]
    }
   ],
   "source": [
    "for each_dict in weather:\n",
    "    print(each_dict,\"\\n\")"
   ]
  },
  {
   "cell_type": "code",
   "execution_count": 49,
   "id": "a7e21920-2ecb-4a5d-bda3-1c7803cc0e55",
   "metadata": {},
   "outputs": [],
   "source": []
  },
  {
   "cell_type": "code",
   "execution_count": 48,
   "id": "cf1ff140-27a4-4047-b704-026438ec4669",
   "metadata": {},
   "outputs": [
    {
     "name": "stdout",
     "output_type": "stream",
     "text": [
      "{'day': 30.94, 'min': 26.74, 'max': 32.53, 'night': 28.33, 'eve': 27, 'morn': 28.03}\n",
      "{'day': 33.26, 'min': 26.95, 'max': 34.99, 'night': 29.67, 'eve': 33.54, 'morn': 27}\n",
      "{'day': 26.94, 'min': 25.71, 'max': 29.32, 'night': 25.9, 'eve': 27.2, 'morn': 26}\n",
      "{'day': 28.54, 'min': 24.36, 'max': 28.54, 'night': 25.84, 'eve': 26.23, 'morn': 24.62}\n",
      "{'day': 26.29, 'min': 25.01, 'max': 26.38, 'night': 26.38, 'eve': 25.84, 'morn': 25.01}\n",
      "{'day': 24.92, 'min': 24.79, 'max': 26.23, 'night': 24.79, 'eve': 25.61, 'morn': 26.23}\n",
      "{'day': 26.87, 'min': 24.43, 'max': 27.23, 'night': 26.39, 'eve': 26.39, 'morn': 24.63}\n",
      "{'day': 32.18, 'min': 25.31, 'max': 33.89, 'night': 29, 'eve': 33.89, 'morn': 25.31}\n",
      "{'day': 33.76, 'min': 27.17, 'max': 36.07, 'night': 30.88, 'eve': 35.33, 'morn': 27.17}\n",
      "{'day': 36.04, 'min': 28.57, 'max': 38.26, 'night': 32.41, 'eve': 37.8, 'morn': 28.57}\n"
     ]
    }
   ],
   "source": [
    "for each_dict in weather:\n",
    "    print(each_dict.get('temp'))"
   ]
  },
  {
   "cell_type": "code",
   "execution_count": 52,
   "id": "875e9967-99d4-470d-acfd-b34c990adba1",
   "metadata": {},
   "outputs": [
    {
     "name": "stdout",
     "output_type": "stream",
     "text": [
      "min : 26.74\n",
      "min : 26.95\n",
      "min : 25.71\n",
      "min : 24.36\n",
      "min : 25.01\n",
      "min : 24.79\n",
      "min : 24.43\n",
      "min : 25.31\n",
      "min : 27.17\n",
      "min : 28.57\n"
     ]
    }
   ],
   "source": [
    "for each_dict in weather:\n",
    "    print(\"min :\",each_dict.get('temp').get('min'))"
   ]
  },
  {
   "cell_type": "code",
   "execution_count": 53,
   "id": "86d94028-7bbd-45d2-8e5b-9409b1cf6052",
   "metadata": {},
   "outputs": [
    {
     "name": "stdout",
     "output_type": "stream",
     "text": [
      "max : 32.53\n",
      "max : 34.99\n",
      "max : 29.32\n",
      "max : 28.54\n",
      "max : 26.38\n",
      "max : 26.23\n",
      "max : 27.23\n",
      "max : 33.89\n",
      "max : 36.07\n",
      "max : 38.26\n"
     ]
    }
   ],
   "source": [
    "for each_dict in weather:\n",
    "    print(\"max :\",each_dict.get('temp').get('max'))"
   ]
  },
  {
   "cell_type": "code",
   "execution_count": 57,
   "id": "a936b7f9-0533-46e0-a94b-70d9e409e104",
   "metadata": {},
   "outputs": [
    {
     "name": "stdout",
     "output_type": "stream",
     "text": [
      "date : 1748241000 \t min : 26.74 \t max : 32.53\n",
      "date : 1748327400 \t min : 26.95 \t max : 34.99\n",
      "date : 1748413800 \t min : 25.71 \t max : 29.32\n",
      "date : 1748500200 \t min : 24.36 \t max : 28.54\n",
      "date : 1748586600 \t min : 25.01 \t max : 26.38\n",
      "date : 1748673000 \t min : 24.79 \t max : 26.23\n",
      "date : 1748759400 \t min : 24.43 \t max : 27.23\n",
      "date : 1748845800 \t min : 25.31 \t max : 33.89\n",
      "date : 1748932200 \t min : 27.17 \t max : 36.07\n",
      "date : 1749018600 \t min : 28.57 \t max : 38.26\n"
     ]
    }
   ],
   "source": [
    "for each_dict in weather:\n",
    "    print(\"date :\",each_dict.get('dt'),\"\\t\",\"min :\", each_dict.get('temp').get('min'),\"\\t\", \"max :\", each_dict.get('temp').get('max'))"
   ]
  },
  {
   "cell_type": "code",
   "execution_count": 58,
   "id": "3d7ff185-5f55-4e09-b418-cb0bf5ef5695",
   "metadata": {},
   "outputs": [],
   "source": [
    "temp_weather_row=''"
   ]
  },
  {
   "cell_type": "code",
   "execution_count": 60,
   "id": "34a53f4a-4499-46d4-8986-53f3334b8831",
   "metadata": {},
   "outputs": [
    {
     "ename": "TypeError",
     "evalue": "str() argument 'encoding' must be str, not float",
     "output_type": "error",
     "traceback": [
      "\u001b[1;31m---------------------------------------------------------------------------\u001b[0m",
      "\u001b[1;31mTypeError\u001b[0m                                 Traceback (most recent call last)",
      "Cell \u001b[1;32mIn[60], line 2\u001b[0m\n\u001b[0;32m      1\u001b[0m \u001b[38;5;28;01mfor\u001b[39;00m each_dict \u001b[38;5;129;01min\u001b[39;00m weather:\n\u001b[1;32m----> 2\u001b[0m     temp_weather_row\u001b[38;5;241m=\u001b[39mtemp_weather_row \u001b[38;5;241m+\u001b[39m \u001b[38;5;124m\"\u001b[39m\u001b[38;5;124mdate :\u001b[39m\u001b[38;5;124m\"\u001b[39m\u001b[38;5;241m+\u001b[39m \u001b[38;5;28mstr\u001b[39m(each_dict\u001b[38;5;241m.\u001b[39mget(\u001b[38;5;124m'\u001b[39m\u001b[38;5;124mdt\u001b[39m\u001b[38;5;124m'\u001b[39m)) \u001b[38;5;241m+\u001b[39m \u001b[38;5;124m\"\u001b[39m\u001b[38;5;130;01m\\t\u001b[39;00m\u001b[38;5;124m\"\u001b[39m\u001b[38;5;241m+\u001b[39m\u001b[38;5;28;43mstr\u001b[39;49m\u001b[43m(\u001b[49m\u001b[38;5;124;43m\"\u001b[39;49m\u001b[38;5;124;43mmin :\u001b[39;49m\u001b[38;5;124;43m\"\u001b[39;49m\u001b[43m,\u001b[49m\u001b[43m \u001b[49m\u001b[43meach_dict\u001b[49m\u001b[38;5;241;43m.\u001b[39;49m\u001b[43mget\u001b[49m\u001b[43m(\u001b[49m\u001b[38;5;124;43m'\u001b[39;49m\u001b[38;5;124;43mtemp\u001b[39;49m\u001b[38;5;124;43m'\u001b[39;49m\u001b[43m)\u001b[49m\u001b[38;5;241;43m.\u001b[39;49m\u001b[43mget\u001b[49m\u001b[43m(\u001b[49m\u001b[38;5;124;43m'\u001b[39;49m\u001b[38;5;124;43mmin\u001b[39;49m\u001b[38;5;124;43m'\u001b[39;49m\u001b[43m)\u001b[49m\u001b[43m)\u001b[49m\u001b[38;5;241m+\u001b[39m\u001b[38;5;124m\"\u001b[39m\u001b[38;5;130;01m\\t\u001b[39;00m\u001b[38;5;124m\"\u001b[39m\u001b[38;5;241m+\u001b[39m\u001b[38;5;28mstr\u001b[39m( \u001b[38;5;124m\"\u001b[39m\u001b[38;5;124mmax :\u001b[39m\u001b[38;5;124m\"\u001b[39m, each_dict\u001b[38;5;241m.\u001b[39mget(\u001b[38;5;124m'\u001b[39m\u001b[38;5;124mtemp\u001b[39m\u001b[38;5;124m'\u001b[39m)\u001b[38;5;241m.\u001b[39mget(\u001b[38;5;124m'\u001b[39m\u001b[38;5;124mmax\u001b[39m\u001b[38;5;124m'\u001b[39m))\n",
      "\u001b[1;31mTypeError\u001b[0m: str() argument 'encoding' must be str, not float"
     ]
    }
   ],
   "source": [
    "for each_dict in weather:\n",
    "    temp_weather_row=temp_weather_row + \"date :\"+ str(each_dict.get('dt')) + \"\\t\"+str(\"min :\", each_dict.get('temp').get('min'))+\"\\t\"+str( \"max :\", each_dict.get('temp').get('max'))"
   ]
  },
  {
   "cell_type": "code",
   "execution_count": null,
   "id": "739688e8-a419-4922-bf88-f72c39706ea2",
   "metadata": {},
   "outputs": [],
   "source": []
  }
 ],
 "metadata": {
  "kernelspec": {
   "display_name": "Python 3 (ipykernel)",
   "language": "python",
   "name": "python3"
  },
  "language_info": {
   "codemirror_mode": {
    "name": "ipython",
    "version": 3
   },
   "file_extension": ".py",
   "mimetype": "text/x-python",
   "name": "python",
   "nbconvert_exporter": "python",
   "pygments_lexer": "ipython3",
   "version": "3.11.7"
  }
 },
 "nbformat": 4,
 "nbformat_minor": 5
}

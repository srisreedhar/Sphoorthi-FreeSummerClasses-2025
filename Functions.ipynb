{
 "cells": [
  {
   "cell_type": "markdown",
   "id": "eb69f90c-6e24-4ec3-91ae-f50a04660ca8",
   "metadata": {},
   "source": [
    "### Functions"
   ]
  },
  {
   "cell_type": "markdown",
   "id": "2f1dbdcf-9128-4eb9-a7c3-78a477d92dec",
   "metadata": {},
   "source": [
    "#### How to create a Function ?\n",
    "\n",
    "we use def keyword to define/create a function, every function returns a value, for which we use return keyword\n",
    "\n",
    "```\n",
    "def functionName(arg1,arg2,arg3):\n",
    "    write code on arg1, arg2 ..\n",
    "    write code using args\n",
    "    we get result\n",
    "    return result\n",
    "```"
   ]
  },
  {
   "cell_type": "code",
   "execution_count": 1,
   "id": "1bfabc04-4b46-482f-bfd1-7545676d56be",
   "metadata": {},
   "outputs": [],
   "source": [
    "def sumof2(num1,num2):\n",
    "    total = num1+num2\n",
    "    return total"
   ]
  },
  {
   "cell_type": "code",
   "execution_count": null,
   "id": "681d70ca-cb9c-4cab-88da-bd77a65a8e2d",
   "metadata": {},
   "outputs": [],
   "source": [
    "def -> keyword we use to build/create functions\n",
    "sumof2 -> Name of the function\n",
    "(num1,num2) -> arguments/parameters/inputs to function\n",
    "total - the code block that is based on arguments/args\n",
    "return - gives an assignable value ( we can store the value returned by function in a variable and we can call the variable an number of times )"
   ]
  },
  {
   "cell_type": "code",
   "execution_count": 2,
   "id": "d409db45-0cee-4bdc-8dcf-c1e7083ecf3e",
   "metadata": {},
   "outputs": [
    {
     "data": {
      "text/plain": [
       "4"
      ]
     },
     "execution_count": 2,
     "metadata": {},
     "output_type": "execute_result"
    }
   ],
   "source": [
    "sumof2(1,3)"
   ]
  },
  {
   "cell_type": "code",
   "execution_count": 10,
   "id": "30f90e0e-8f4c-4de4-ac7f-41f105265097",
   "metadata": {},
   "outputs": [],
   "source": [
    "ans = sumof2(1,5)"
   ]
  },
  {
   "cell_type": "code",
   "execution_count": 4,
   "id": "861ce19e-8fb5-40e1-8003-6d0a7e214447",
   "metadata": {},
   "outputs": [
    {
     "name": "stdout",
     "output_type": "stream",
     "text": [
      "6\n"
     ]
    }
   ],
   "source": [
    "# returns an assignable value\n",
    "ans = sumof2(1,5)\n",
    "print(ans)"
   ]
  },
  {
   "cell_type": "code",
   "execution_count": 5,
   "id": "69abbe10-86af-4ef4-a335-97553fc21810",
   "metadata": {},
   "outputs": [],
   "source": [
    "def sumof2_v2(num1,num2):\n",
    "    total = num1+num2\n",
    "    print(total)"
   ]
  },
  {
   "cell_type": "code",
   "execution_count": 6,
   "id": "aebb0f01-bd94-48ca-90bb-7dec342d8b43",
   "metadata": {},
   "outputs": [
    {
     "name": "stdout",
     "output_type": "stream",
     "text": [
      "6\n"
     ]
    }
   ],
   "source": [
    "sumof2_v2(1,5)"
   ]
  },
  {
   "cell_type": "code",
   "execution_count": 11,
   "id": "cb1d0800-4184-44f0-857a-c7133b97867c",
   "metadata": {},
   "outputs": [
    {
     "name": "stdout",
     "output_type": "stream",
     "text": [
      "6\n"
     ]
    }
   ],
   "source": [
    "ans2 = sumof2_v2(1,5)"
   ]
  },
  {
   "cell_type": "code",
   "execution_count": 12,
   "id": "8ea76096-9f35-4c9f-838f-031e0e5849c0",
   "metadata": {},
   "outputs": [],
   "source": [
    "ans2"
   ]
  },
  {
   "cell_type": "code",
   "execution_count": 9,
   "id": "a32683a6-5df7-4d41-9b47-ae2b2de5208d",
   "metadata": {},
   "outputs": [
    {
     "data": {
      "text/plain": [
       "6"
      ]
     },
     "execution_count": 9,
     "metadata": {},
     "output_type": "execute_result"
    }
   ],
   "source": [
    "ans"
   ]
  },
  {
   "cell_type": "markdown",
   "id": "707eae2b-a8e6-4420-9180-f334e533aadc",
   "metadata": {},
   "source": [
    "##### Candidate Interview"
   ]
  },
  {
   "cell_type": "code",
   "execution_count": 13,
   "id": "fbee33b8-2b3d-4ec6-ab48-2d1522be6a0b",
   "metadata": {},
   "outputs": [],
   "source": [
    "# create a function that collections\n",
    "# name,age, edu, pincode,phone number from the user\n",
    "# transforms the data\n",
    "# returns a dictionary of values collected"
   ]
  },
  {
   "cell_type": "code",
   "execution_count": 14,
   "id": "7bff8c10-2326-4012-be99-af3b5c834b47",
   "metadata": {},
   "outputs": [],
   "source": [
    "def interview():\n",
    "    details = dict()\n",
    "    name = input(\"Please Enter your Name : \")\n",
    "    yob = input(\"Please enter the year of your birth :\")\n",
    "    city = input(\"Please Enter your City : \")\n",
    "    edu = input(\"Please Enter your Qualification : \")\n",
    "    gender = input(\"Please Enter your Gender : \")\n",
    "    phone_number = input(\"Please Enter your PhoneNumber : \")\n",
    "    current_year = 2025\n",
    "    ## tranformation\n",
    "    details['name'] = name.upper()\n",
    "    details['gender'] = gender[0].upper()\n",
    "    details['education'] = edu.capitalize()\n",
    "    details['contact'] = \"+91\" + phone_number\n",
    "    # -- current year - year of birth = age\n",
    "    details['age'] = current_year - int(yob)\n",
    "    return details"
   ]
  },
  {
   "cell_type": "code",
   "execution_count": 15,
   "id": "c5bb77a1-388e-47b2-bc03-5d18d6d6fc66",
   "metadata": {},
   "outputs": [
    {
     "name": "stdin",
     "output_type": "stream",
     "text": [
      "Please Enter your Name :  sri\n",
      "Please enter the year of your birth : 2009\n",
      "Please Enter your City :  Hyderabad\n",
      "Please Enter your Qualification :  ba\n",
      "Please Enter your Gender :  male\n",
      "Please Enter your PhoneNumber :  97053012345\n"
     ]
    },
    {
     "data": {
      "text/plain": [
       "{'name': 'SRI',\n",
       " 'gender': 'M',\n",
       " 'education': 'Ba',\n",
       " 'contact': '+9197053012345',\n",
       " 'age': 16}"
      ]
     },
     "execution_count": 15,
     "metadata": {},
     "output_type": "execute_result"
    }
   ],
   "source": [
    "interview()"
   ]
  },
  {
   "cell_type": "code",
   "execution_count": null,
   "id": "ca7f6081-1753-4cae-80c3-d1b9c0bab716",
   "metadata": {},
   "outputs": [],
   "source": [
    "#### Writing the function without collecting inputs"
   ]
  },
  {
   "cell_type": "code",
   "execution_count": 21,
   "id": "1f09ebdd-6fd3-49dc-b317-b15d43b93f44",
   "metadata": {},
   "outputs": [],
   "source": [
    "def interview2(name,yob,city,edu,gender,contact):\n",
    "    details = {}\n",
    "    current_year = 2025\n",
    "    details['name'] = name.upper()\n",
    "    details['city'] = city.upper()\n",
    "    details['gender'] = gender[0].upper()\n",
    "    details['education'] = edu.capitalize()\n",
    "    details['contact'] = \"+91\" + str(contact)\n",
    "    # -- current year - year of birth = age\n",
    "    details['age'] = current_year - int(yob)\n",
    "    return details"
   ]
  },
  {
   "cell_type": "code",
   "execution_count": 22,
   "id": "a0b69e12-76bd-46ee-83f2-62a18a0eee8e",
   "metadata": {},
   "outputs": [
    {
     "data": {
      "text/plain": [
       "{'name': 'SRI',\n",
       " 'city': 'WARANGAL',\n",
       " 'gender': 'M',\n",
       " 'education': 'Bsc',\n",
       " 'contact': '+91123456789',\n",
       " 'age': 15}"
      ]
     },
     "execution_count": 22,
     "metadata": {},
     "output_type": "execute_result"
    }
   ],
   "source": [
    "interview2('sri',2010,'warangal','bsc','male',123456789)"
   ]
  },
  {
   "cell_type": "code",
   "execution_count": 23,
   "id": "61784c1a-f920-496a-b64f-c48258f30722",
   "metadata": {},
   "outputs": [],
   "source": [
    "sri=interview2('sri',2010,'warangal','bsc','male',123456789)"
   ]
  },
  {
   "cell_type": "code",
   "execution_count": 24,
   "id": "9ddc1add-4016-4638-9d47-fa861701d637",
   "metadata": {},
   "outputs": [
    {
     "data": {
      "text/plain": [
       "{'name': 'SRI',\n",
       " 'city': 'WARANGAL',\n",
       " 'gender': 'M',\n",
       " 'education': 'Bsc',\n",
       " 'contact': '+91123456789',\n",
       " 'age': 15}"
      ]
     },
     "execution_count": 24,
     "metadata": {},
     "output_type": "execute_result"
    }
   ],
   "source": [
    "sri"
   ]
  },
  {
   "cell_type": "code",
   "execution_count": 25,
   "id": "d9bd3b2e-dc5e-4476-9c1a-a74aa929d8fe",
   "metadata": {},
   "outputs": [],
   "source": [
    "ada=interview2('ada',2011,'warangal','bsc','female',111116789)"
   ]
  },
  {
   "cell_type": "code",
   "execution_count": 26,
   "id": "cbee961b-9d67-4a8d-ab99-d7eca6817296",
   "metadata": {},
   "outputs": [],
   "source": [
    "java=interview2('java',1947,'palakollu','ba','male',22222222)"
   ]
  },
  {
   "cell_type": "code",
   "execution_count": 27,
   "id": "d0294460-d41d-4b29-8d3f-a8995a181aef",
   "metadata": {},
   "outputs": [
    {
     "data": {
      "text/plain": [
       "{'name': 'ADA',\n",
       " 'city': 'WARANGAL',\n",
       " 'gender': 'F',\n",
       " 'education': 'Bsc',\n",
       " 'contact': '+91111116789',\n",
       " 'age': 14}"
      ]
     },
     "execution_count": 27,
     "metadata": {},
     "output_type": "execute_result"
    }
   ],
   "source": [
    "ada"
   ]
  },
  {
   "cell_type": "code",
   "execution_count": 28,
   "id": "c74b2467-72ce-4278-90f8-2949250af7e5",
   "metadata": {},
   "outputs": [
    {
     "data": {
      "text/plain": [
       "{'name': 'JAVA',\n",
       " 'city': 'PALAKOLLU',\n",
       " 'gender': 'M',\n",
       " 'education': 'Ba',\n",
       " 'contact': '+9122222222',\n",
       " 'age': 78}"
      ]
     },
     "execution_count": 28,
     "metadata": {},
     "output_type": "execute_result"
    }
   ],
   "source": [
    "java"
   ]
  },
  {
   "cell_type": "code",
   "execution_count": 29,
   "id": "c9082e1d-96a9-4129-b09e-509c1605ead6",
   "metadata": {},
   "outputs": [
    {
     "data": {
      "text/plain": [
       "{'name': 'SRI',\n",
       " 'city': 'WARANGAL',\n",
       " 'gender': 'M',\n",
       " 'education': 'Bsc',\n",
       " 'contact': '+91123456789',\n",
       " 'age': 15}"
      ]
     },
     "execution_count": 29,
     "metadata": {},
     "output_type": "execute_result"
    }
   ],
   "source": [
    "sri"
   ]
  },
  {
   "cell_type": "code",
   "execution_count": 30,
   "id": "4d5b6088-7375-42a1-b49e-3e71620d2332",
   "metadata": {},
   "outputs": [],
   "source": [
    "### find the average of 3 subject marks of every student"
   ]
  },
  {
   "cell_type": "code",
   "execution_count": 31,
   "id": "f923caba-dd00-4da6-af13-2b0210832ced",
   "metadata": {},
   "outputs": [],
   "source": [
    "def avg(maths,science,social):\n",
    "    total = maths+science+social\n",
    "    avg = total/3\n",
    "    return avg\n",
    "\n",
    "\n",
    "# def avg(maths,science,social):\n",
    "#     total = maths+science+social\n",
    "#     return total/3"
   ]
  },
  {
   "cell_type": "code",
   "execution_count": 32,
   "id": "4cb5970c-eedd-4382-8725-0af30ecdfca2",
   "metadata": {},
   "outputs": [],
   "source": [
    "sri =avg(90,90,90)"
   ]
  },
  {
   "cell_type": "code",
   "execution_count": 33,
   "id": "a44037a3-7d00-477b-9762-6b1389a75a8b",
   "metadata": {},
   "outputs": [
    {
     "data": {
      "text/plain": [
       "90.0"
      ]
     },
     "execution_count": 33,
     "metadata": {},
     "output_type": "execute_result"
    }
   ],
   "source": [
    "sri"
   ]
  },
  {
   "cell_type": "code",
   "execution_count": 34,
   "id": "f81f2f1b-50cd-4c0c-8541-1181afed6164",
   "metadata": {},
   "outputs": [],
   "source": [
    "py = avg(20,30,40)"
   ]
  },
  {
   "cell_type": "code",
   "execution_count": 35,
   "id": "205f642f-7418-4b74-b36f-ef956fd0f92e",
   "metadata": {},
   "outputs": [
    {
     "data": {
      "text/plain": [
       "30.0"
      ]
     },
     "execution_count": 35,
     "metadata": {},
     "output_type": "execute_result"
    }
   ],
   "source": [
    "py"
   ]
  },
  {
   "cell_type": "code",
   "execution_count": 36,
   "id": "4c745a93-7b9f-4037-a332-38100f60c519",
   "metadata": {},
   "outputs": [],
   "source": [
    "#assign grade to this\n",
    "# 0-50 - Fail\n",
    "# 51-70 - pass\n",
    "# 71 - 100 - distinction"
   ]
  },
  {
   "cell_type": "code",
   "execution_count": 37,
   "id": "77fcfe38-f698-420b-944b-be2417717306",
   "metadata": {},
   "outputs": [],
   "source": [
    "def avg(maths,science,social):\n",
    "    details = {}\n",
    "    details['marks']={}\n",
    "    total = maths+science+social\n",
    "    avg = total/3\n",
    "    grade=''\n",
    "    if avg >= 0 and avg <=50:\n",
    "        grade = 'Fail'\n",
    "    elif avg >=51 and avg <=70:\n",
    "        grade = 'Pass'\n",
    "    elif avg >=71 and avg<=100:\n",
    "        grade = 'Distinction'\n",
    "    else:\n",
    "        grade = 'Cannot Compute your Grade'\n",
    "    details['marks']['maths']=maths\n",
    "    details['marks']['science']=science\n",
    "    details['marks']['social']=social\n",
    "    details['total'] = total\n",
    "    details['avg'] = avg\n",
    "    details['grade']=grade\n",
    "    return details"
   ]
  },
  {
   "cell_type": "code",
   "execution_count": 38,
   "id": "a1dfeb14-b78f-4508-a8df-bbe782d0758e",
   "metadata": {},
   "outputs": [
    {
     "data": {
      "text/plain": [
       "{'marks': {'maths': 60, 'science': 70, 'social': 60},\n",
       " 'total': 190,\n",
       " 'avg': 63.333333333333336,\n",
       " 'grade': 'Pass'}"
      ]
     },
     "execution_count": 38,
     "metadata": {},
     "output_type": "execute_result"
    }
   ],
   "source": [
    "avg(60,70,60)"
   ]
  },
  {
   "cell_type": "code",
   "execution_count": null,
   "id": "7103aa5e-c2e9-4030-aca1-17df435673f8",
   "metadata": {},
   "outputs": [],
   "source": []
  }
 ],
 "metadata": {
  "kernelspec": {
   "display_name": "Python 3 (ipykernel)",
   "language": "python",
   "name": "python3"
  },
  "language_info": {
   "codemirror_mode": {
    "name": "ipython",
    "version": 3
   },
   "file_extension": ".py",
   "mimetype": "text/x-python",
   "name": "python",
   "nbconvert_exporter": "python",
   "pygments_lexer": "ipython3",
   "version": "3.11.7"
  }
 },
 "nbformat": 4,
 "nbformat_minor": 5
}

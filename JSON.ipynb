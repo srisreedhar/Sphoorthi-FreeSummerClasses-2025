{
 "cells": [
  {
   "cell_type": "code",
   "execution_count": 1,
   "id": "968af20d-6044-4e0c-ad9d-be699adaf163",
   "metadata": {},
   "outputs": [],
   "source": [
    "import requests"
   ]
  },
  {
   "cell_type": "code",
   "execution_count": 2,
   "id": "bb59fc3b-46ab-4143-8ed4-c802ecff1f38",
   "metadata": {},
   "outputs": [],
   "source": [
    "url=\"https://api.openweathermap.org/data/2.5/forecast/daily?q=vijayawada,in&cnt=10&mode=json&units=metric&APPID=2d80cf7142a085e6c34f383205d35118\""
   ]
  },
  {
   "cell_type": "code",
   "execution_count": 3,
   "id": "152708e8-cc45-494b-9f77-9f764fa0c13c",
   "metadata": {},
   "outputs": [],
   "source": [
    "resp = requests.get(url)"
   ]
  },
  {
   "cell_type": "code",
   "execution_count": 4,
   "id": "0d2cab95-e31a-4944-94b3-d41be967d23b",
   "metadata": {},
   "outputs": [
    {
     "data": {
      "text/plain": [
       "<Response [200]>"
      ]
     },
     "execution_count": 4,
     "metadata": {},
     "output_type": "execute_result"
    }
   ],
   "source": [
    "resp"
   ]
  },
  {
   "cell_type": "code",
   "execution_count": 6,
   "id": "1a9d2d34-107a-48f3-93e1-e94cd596cf51",
   "metadata": {},
   "outputs": [
    {
     "data": {
      "text/plain": [
       "b'{\"city\":{\"id\":1253184,\"name\":\"Vijayawada\",\"coord\":{\"lon\":80.6167,\"lat\":16.5167},\"country\":\"IN\",\"population\":874587,\"timezone\":19800},\"cod\":\"200\",\"message\":1.0538754,\"cnt\":10,\"list\":[{\"dt\":1749969000,\"sunrise\":1749945892,\"sunset\":1749993072,\"temp\":{\"day\":31.23,\"min\":28.71,\"max\":34.8,\"night\":29.07,\"eve\":33.77,\"morn\":29.51},\"feels_like\":{\"day\":31.69,\"night\":31.98,\"eve\":37.57,\"morn\":32.85},\"pressure\":1000,\"humidity\":43,\"weather\":[{\"id\":501,\"main\":\"Rain\",\"description\":\"moderate rain\",\"icon\":\"10d\"}],\"speed\":7.84,\"deg\":203,\"gust\":11.99,\"clouds\":89,\"pop\":1,\"rain\":5.71},{\"dt\":1750055400,\"sunrise\":1750032301,\"sunset\":1750079488,\"temp\":{\"day\":27.61,\"min\":27.61,\"max\":31.95,\"night\":28.86,\"eve\":28.5,\"morn\":27.87},\"feels_like\":{\"day\":28.1,\"night\":30.8,\"eve\":31.2,\"morn\":30.17},\"pressure\":1003,\"humidity\":51,\"weather\":[{\"id\":500,\"main\":\"Rain\",\"description\":\"light rain\",\"icon\":\"10d\"}],\"speed\":7.3,\"deg\":234,\"gust\":12.35,\"clouds\":100,\"pop\":0.77,\"rain\":1.01},{\"dt\":1750141800,\"sunrise\":1750118710,\"sunset\":1750165903,\"temp\":{\"day\":33.31,\"min\":27.78,\"max\":35.87,\"night\":31.74,\"eve\":34.02,\"morn\":28.15},\"feels_like\":{\"day\":35.51,\"night\":33.45,\"eve\":35.99,\"morn\":29.44},\"pressure\":1004,\"humidity\":45,\"weather\":[{\"id\":804,\"main\":\"Clouds\",\"description\":\"overcast clouds\",\"icon\":\"04d\"}],\"speed\":8.78,\"deg\":276,\"gust\":12.39,\"clouds\":100,\"pop\":0.13},{\"dt\":1750228200,\"sunrise\":1750205120,\"sunset\":1750252317,\"temp\":{\"day\":35.74,\"min\":29.53,\"max\":37.7,\"night\":32.75,\"eve\":36.45,\"morn\":29.73},\"feels_like\":{\"day\":38.3,\"night\":34.04,\"eve\":38.02,\"morn\":31.78},\"pressure\":1003,\"humidity\":39,\"weather\":[{\"id\":804,\"main\":\"Clouds\",\"description\":\"overcast clouds\",\"icon\":\"04d\"}],\"speed\":7.69,\"deg\":274,\"gust\":12.96,\"clouds\":100,\"pop\":0},{\"dt\":1750314600,\"sunrise\":1750291531,\"sunset\":1750338731,\"temp\":{\"day\":34.2,\"min\":30.59,\"max\":35.83,\"night\":31.86,\"eve\":34.77,\"morn\":30.59},\"feels_like\":{\"day\":36.61,\"night\":34.11,\"eve\":36.51,\"morn\":32.91},\"pressure\":1004,\"humidity\":43,\"weather\":[{\"id\":500,\"main\":\"Rain\",\"description\":\"light rain\",\"icon\":\"10d\"}],\"speed\":7.78,\"deg\":284,\"gust\":12.26,\"clouds\":100,\"pop\":0.2,\"rain\":0.11},{\"dt\":1750401000,\"sunrise\":1750377942,\"sunset\":1750425144,\"temp\":{\"day\":36.38,\"min\":29.14,\"max\":36.93,\"night\":30.95,\"eve\":36.17,\"morn\":29.14},\"feels_like\":{\"day\":38.52,\"night\":31.97,\"eve\":37.24,\"morn\":31.11},\"pressure\":1004,\"humidity\":36,\"weather\":[{\"id\":500,\"main\":\"Rain\",\"description\":\"light rain\",\"icon\":\"10d\"}],\"speed\":8,\"deg\":278,\"gust\":11.86,\"clouds\":64,\"pop\":0.2,\"rain\":0.22},{\"dt\":1750487400,\"sunrise\":1750464354,\"sunset\":1750511557,\"temp\":{\"day\":35.61,\"min\":29.66,\"max\":38.45,\"night\":33.06,\"eve\":36.55,\"morn\":29.66},\"feels_like\":{\"day\":37.43,\"night\":34.56,\"eve\":37.59,\"morn\":30.85},\"pressure\":1004,\"humidity\":37,\"weather\":[{\"id\":500,\"main\":\"Rain\",\"description\":\"light rain\",\"icon\":\"10d\"}],\"speed\":7.12,\"deg\":281,\"gust\":10.98,\"clouds\":97,\"pop\":0.32,\"rain\":0.3},{\"dt\":1750573800,\"sunrise\":1750550766,\"sunset\":1750597969,\"temp\":{\"day\":35.94,\"min\":30.24,\"max\":38.11,\"night\":33.06,\"eve\":36.44,\"morn\":30.24},\"feels_like\":{\"day\":38.35,\"night\":35.05,\"eve\":38,\"morn\":32.68},\"pressure\":1003,\"humidity\":38,\"weather\":[{\"id\":500,\"main\":\"Rain\",\"description\":\"light rain\",\"icon\":\"10d\"}],\"speed\":7.99,\"deg\":278,\"gust\":11.42,\"clouds\":95,\"pop\":0.46,\"rain\":0.51},{\"dt\":1750660200,\"sunrise\":1750637179,\"sunset\":1750684380,\"temp\":{\"day\":36.42,\"min\":30.02,\"max\":37.34,\"night\":33.33,\"eve\":36.12,\"morn\":30.02},\"feels_like\":{\"day\":38.6,\"night\":35.03,\"eve\":37.74,\"morn\":32.29},\"pressure\":1002,\"humidity\":36,\"weather\":[{\"id\":500,\"main\":\"Rain\",\"description\":\"light rain\",\"icon\":\"10d\"}],\"speed\":8.15,\"deg\":277,\"gust\":12.15,\"clouds\":98,\"pop\":0.27,\"rain\":0.15},{\"dt\":1750746600,\"sunrise\":1750723593,\"sunset\":1750770791,\"temp\":{\"day\":36.72,\"min\":30.1,\"max\":36.72,\"night\":31.27,\"eve\":32.8,\"morn\":30.1},\"feels_like\":{\"day\":39.16,\"night\":32.47,\"eve\":35.09,\"morn\":32.24},\"pressure\":1001,\"humidity\":36,\"weather\":[{\"id\":500,\"main\":\"Rain\",\"description\":\"light rain\",\"icon\":\"10d\"}],\"speed\":9.32,\"deg\":276,\"gust\":13.91,\"clouds\":96,\"pop\":0.21,\"rain\":0.6}]}'"
      ]
     },
     "execution_count": 6,
     "metadata": {},
     "output_type": "execute_result"
    }
   ],
   "source": [
    "resp.content"
   ]
  },
  {
   "cell_type": "code",
   "execution_count": 11,
   "id": "521c2964-2f50-47cb-9e91-2cfc2be54217",
   "metadata": {},
   "outputs": [],
   "source": [
    "d=resp.text"
   ]
  },
  {
   "cell_type": "code",
   "execution_count": 10,
   "id": "e19c0ee4-8615-416f-9c6a-b2d2cd16ff12",
   "metadata": {},
   "outputs": [
    {
     "data": {
      "text/plain": [
       "\"{'a':1}\""
      ]
     },
     "execution_count": 10,
     "metadata": {},
     "output_type": "execute_result"
    }
   ],
   "source": [
    "\"{'a':1}\""
   ]
  },
  {
   "cell_type": "code",
   "execution_count": 12,
   "id": "0ef14462-f5f1-43c4-80e0-e25f35422082",
   "metadata": {},
   "outputs": [
    {
     "data": {
      "text/plain": [
       "str"
      ]
     },
     "execution_count": 12,
     "metadata": {},
     "output_type": "execute_result"
    }
   ],
   "source": [
    "type(d)"
   ]
  },
  {
   "cell_type": "code",
   "execution_count": 13,
   "id": "967db3ca-8a80-4b66-ae18-c10761e39c3e",
   "metadata": {},
   "outputs": [],
   "source": [
    "import json"
   ]
  },
  {
   "cell_type": "code",
   "execution_count": 14,
   "id": "69785475-9630-48b7-8287-74aadd77d4d7",
   "metadata": {},
   "outputs": [],
   "source": [
    "# json.dumps -> converts a python obj to String Obj\n",
    "# json.loads -> converts a string obj to Python Obj"
   ]
  },
  {
   "cell_type": "code",
   "execution_count": 15,
   "id": "e5a20b57-6f4f-44ba-b516-87fea11c6411",
   "metadata": {},
   "outputs": [
    {
     "data": {
      "text/plain": [
       "{'city': {'id': 1253184,\n",
       "  'name': 'Vijayawada',\n",
       "  'coord': {'lon': 80.6167, 'lat': 16.5167},\n",
       "  'country': 'IN',\n",
       "  'population': 874587,\n",
       "  'timezone': 19800},\n",
       " 'cod': '200',\n",
       " 'message': 1.0538754,\n",
       " 'cnt': 10,\n",
       " 'list': [{'dt': 1749969000,\n",
       "   'sunrise': 1749945892,\n",
       "   'sunset': 1749993072,\n",
       "   'temp': {'day': 31.23,\n",
       "    'min': 28.71,\n",
       "    'max': 34.8,\n",
       "    'night': 29.07,\n",
       "    'eve': 33.77,\n",
       "    'morn': 29.51},\n",
       "   'feels_like': {'day': 31.69, 'night': 31.98, 'eve': 37.57, 'morn': 32.85},\n",
       "   'pressure': 1000,\n",
       "   'humidity': 43,\n",
       "   'weather': [{'id': 501,\n",
       "     'main': 'Rain',\n",
       "     'description': 'moderate rain',\n",
       "     'icon': '10d'}],\n",
       "   'speed': 7.84,\n",
       "   'deg': 203,\n",
       "   'gust': 11.99,\n",
       "   'clouds': 89,\n",
       "   'pop': 1,\n",
       "   'rain': 5.71},\n",
       "  {'dt': 1750055400,\n",
       "   'sunrise': 1750032301,\n",
       "   'sunset': 1750079488,\n",
       "   'temp': {'day': 27.61,\n",
       "    'min': 27.61,\n",
       "    'max': 31.95,\n",
       "    'night': 28.86,\n",
       "    'eve': 28.5,\n",
       "    'morn': 27.87},\n",
       "   'feels_like': {'day': 28.1, 'night': 30.8, 'eve': 31.2, 'morn': 30.17},\n",
       "   'pressure': 1003,\n",
       "   'humidity': 51,\n",
       "   'weather': [{'id': 500,\n",
       "     'main': 'Rain',\n",
       "     'description': 'light rain',\n",
       "     'icon': '10d'}],\n",
       "   'speed': 7.3,\n",
       "   'deg': 234,\n",
       "   'gust': 12.35,\n",
       "   'clouds': 100,\n",
       "   'pop': 0.77,\n",
       "   'rain': 1.01},\n",
       "  {'dt': 1750141800,\n",
       "   'sunrise': 1750118710,\n",
       "   'sunset': 1750165903,\n",
       "   'temp': {'day': 33.31,\n",
       "    'min': 27.78,\n",
       "    'max': 35.87,\n",
       "    'night': 31.74,\n",
       "    'eve': 34.02,\n",
       "    'morn': 28.15},\n",
       "   'feels_like': {'day': 35.51, 'night': 33.45, 'eve': 35.99, 'morn': 29.44},\n",
       "   'pressure': 1004,\n",
       "   'humidity': 45,\n",
       "   'weather': [{'id': 804,\n",
       "     'main': 'Clouds',\n",
       "     'description': 'overcast clouds',\n",
       "     'icon': '04d'}],\n",
       "   'speed': 8.78,\n",
       "   'deg': 276,\n",
       "   'gust': 12.39,\n",
       "   'clouds': 100,\n",
       "   'pop': 0.13},\n",
       "  {'dt': 1750228200,\n",
       "   'sunrise': 1750205120,\n",
       "   'sunset': 1750252317,\n",
       "   'temp': {'day': 35.74,\n",
       "    'min': 29.53,\n",
       "    'max': 37.7,\n",
       "    'night': 32.75,\n",
       "    'eve': 36.45,\n",
       "    'morn': 29.73},\n",
       "   'feels_like': {'day': 38.3, 'night': 34.04, 'eve': 38.02, 'morn': 31.78},\n",
       "   'pressure': 1003,\n",
       "   'humidity': 39,\n",
       "   'weather': [{'id': 804,\n",
       "     'main': 'Clouds',\n",
       "     'description': 'overcast clouds',\n",
       "     'icon': '04d'}],\n",
       "   'speed': 7.69,\n",
       "   'deg': 274,\n",
       "   'gust': 12.96,\n",
       "   'clouds': 100,\n",
       "   'pop': 0},\n",
       "  {'dt': 1750314600,\n",
       "   'sunrise': 1750291531,\n",
       "   'sunset': 1750338731,\n",
       "   'temp': {'day': 34.2,\n",
       "    'min': 30.59,\n",
       "    'max': 35.83,\n",
       "    'night': 31.86,\n",
       "    'eve': 34.77,\n",
       "    'morn': 30.59},\n",
       "   'feels_like': {'day': 36.61, 'night': 34.11, 'eve': 36.51, 'morn': 32.91},\n",
       "   'pressure': 1004,\n",
       "   'humidity': 43,\n",
       "   'weather': [{'id': 500,\n",
       "     'main': 'Rain',\n",
       "     'description': 'light rain',\n",
       "     'icon': '10d'}],\n",
       "   'speed': 7.78,\n",
       "   'deg': 284,\n",
       "   'gust': 12.26,\n",
       "   'clouds': 100,\n",
       "   'pop': 0.2,\n",
       "   'rain': 0.11},\n",
       "  {'dt': 1750401000,\n",
       "   'sunrise': 1750377942,\n",
       "   'sunset': 1750425144,\n",
       "   'temp': {'day': 36.38,\n",
       "    'min': 29.14,\n",
       "    'max': 36.93,\n",
       "    'night': 30.95,\n",
       "    'eve': 36.17,\n",
       "    'morn': 29.14},\n",
       "   'feels_like': {'day': 38.52, 'night': 31.97, 'eve': 37.24, 'morn': 31.11},\n",
       "   'pressure': 1004,\n",
       "   'humidity': 36,\n",
       "   'weather': [{'id': 500,\n",
       "     'main': 'Rain',\n",
       "     'description': 'light rain',\n",
       "     'icon': '10d'}],\n",
       "   'speed': 8,\n",
       "   'deg': 278,\n",
       "   'gust': 11.86,\n",
       "   'clouds': 64,\n",
       "   'pop': 0.2,\n",
       "   'rain': 0.22},\n",
       "  {'dt': 1750487400,\n",
       "   'sunrise': 1750464354,\n",
       "   'sunset': 1750511557,\n",
       "   'temp': {'day': 35.61,\n",
       "    'min': 29.66,\n",
       "    'max': 38.45,\n",
       "    'night': 33.06,\n",
       "    'eve': 36.55,\n",
       "    'morn': 29.66},\n",
       "   'feels_like': {'day': 37.43, 'night': 34.56, 'eve': 37.59, 'morn': 30.85},\n",
       "   'pressure': 1004,\n",
       "   'humidity': 37,\n",
       "   'weather': [{'id': 500,\n",
       "     'main': 'Rain',\n",
       "     'description': 'light rain',\n",
       "     'icon': '10d'}],\n",
       "   'speed': 7.12,\n",
       "   'deg': 281,\n",
       "   'gust': 10.98,\n",
       "   'clouds': 97,\n",
       "   'pop': 0.32,\n",
       "   'rain': 0.3},\n",
       "  {'dt': 1750573800,\n",
       "   'sunrise': 1750550766,\n",
       "   'sunset': 1750597969,\n",
       "   'temp': {'day': 35.94,\n",
       "    'min': 30.24,\n",
       "    'max': 38.11,\n",
       "    'night': 33.06,\n",
       "    'eve': 36.44,\n",
       "    'morn': 30.24},\n",
       "   'feels_like': {'day': 38.35, 'night': 35.05, 'eve': 38, 'morn': 32.68},\n",
       "   'pressure': 1003,\n",
       "   'humidity': 38,\n",
       "   'weather': [{'id': 500,\n",
       "     'main': 'Rain',\n",
       "     'description': 'light rain',\n",
       "     'icon': '10d'}],\n",
       "   'speed': 7.99,\n",
       "   'deg': 278,\n",
       "   'gust': 11.42,\n",
       "   'clouds': 95,\n",
       "   'pop': 0.46,\n",
       "   'rain': 0.51},\n",
       "  {'dt': 1750660200,\n",
       "   'sunrise': 1750637179,\n",
       "   'sunset': 1750684380,\n",
       "   'temp': {'day': 36.42,\n",
       "    'min': 30.02,\n",
       "    'max': 37.34,\n",
       "    'night': 33.33,\n",
       "    'eve': 36.12,\n",
       "    'morn': 30.02},\n",
       "   'feels_like': {'day': 38.6, 'night': 35.03, 'eve': 37.74, 'morn': 32.29},\n",
       "   'pressure': 1002,\n",
       "   'humidity': 36,\n",
       "   'weather': [{'id': 500,\n",
       "     'main': 'Rain',\n",
       "     'description': 'light rain',\n",
       "     'icon': '10d'}],\n",
       "   'speed': 8.15,\n",
       "   'deg': 277,\n",
       "   'gust': 12.15,\n",
       "   'clouds': 98,\n",
       "   'pop': 0.27,\n",
       "   'rain': 0.15},\n",
       "  {'dt': 1750746600,\n",
       "   'sunrise': 1750723593,\n",
       "   'sunset': 1750770791,\n",
       "   'temp': {'day': 36.72,\n",
       "    'min': 30.1,\n",
       "    'max': 36.72,\n",
       "    'night': 31.27,\n",
       "    'eve': 32.8,\n",
       "    'morn': 30.1},\n",
       "   'feels_like': {'day': 39.16, 'night': 32.47, 'eve': 35.09, 'morn': 32.24},\n",
       "   'pressure': 1001,\n",
       "   'humidity': 36,\n",
       "   'weather': [{'id': 500,\n",
       "     'main': 'Rain',\n",
       "     'description': 'light rain',\n",
       "     'icon': '10d'}],\n",
       "   'speed': 9.32,\n",
       "   'deg': 276,\n",
       "   'gust': 13.91,\n",
       "   'clouds': 96,\n",
       "   'pop': 0.21,\n",
       "   'rain': 0.6}]}"
      ]
     },
     "execution_count": 15,
     "metadata": {},
     "output_type": "execute_result"
    }
   ],
   "source": [
    "json.loads(d)"
   ]
  },
  {
   "cell_type": "code",
   "execution_count": 16,
   "id": "58efa54f-45d4-476b-8a6a-b9eca00571a2",
   "metadata": {},
   "outputs": [
    {
     "data": {
      "text/plain": [
       "dict"
      ]
     },
     "execution_count": 16,
     "metadata": {},
     "output_type": "execute_result"
    }
   ],
   "source": [
    "type(json.loads(d))"
   ]
  },
  {
   "cell_type": "code",
   "execution_count": 17,
   "id": "018097e6-b5b9-443f-a4f0-0c24252af8b0",
   "metadata": {},
   "outputs": [],
   "source": [
    "# Decorator"
   ]
  },
  {
   "cell_type": "markdown",
   "id": "9eecc635-eb0c-4cfc-88df-ddbbc2485c61",
   "metadata": {},
   "source": [
    "```python\n",
    "@app.route('/aboutus')\n",
    "def aboutus():\n",
    "    return 'This is About US'\n",
    "```"
   ]
  },
  {
   "cell_type": "code",
   "execution_count": 18,
   "id": "337efc71-8aa7-4e82-bb97-d14a7aef59c3",
   "metadata": {},
   "outputs": [],
   "source": [
    "def aboutus():\n",
    "    return 'This is About US'"
   ]
  },
  {
   "cell_type": "code",
   "execution_count": 19,
   "id": "d225fd15-7696-4e92-b255-7b62702e25b2",
   "metadata": {},
   "outputs": [
    {
     "data": {
      "text/plain": [
       "'This is About US'"
      ]
     },
     "execution_count": 19,
     "metadata": {},
     "output_type": "execute_result"
    }
   ],
   "source": [
    "aboutus()"
   ]
  },
  {
   "cell_type": "code",
   "execution_count": null,
   "id": "4ddd761b-e144-452c-aec0-fe3e77b23823",
   "metadata": {},
   "outputs": [],
   "source": [
    "Decorator - wrapper function which is wrapped around a main function which enhances the functionality of the actual function"
   ]
  },
  {
   "cell_type": "markdown",
   "id": "4b93ee04-7fbb-43db-902f-255686f67e7a",
   "metadata": {},
   "source": [
    "```python\n",
    "def wapperFunction():\n",
    "    -- Chocklate\n",
    "    def mainfunction():\n",
    "        return something\n",
    "    -- \n",
    "    return something\n",
    "```"
   ]
  },
  {
   "cell_type": "code",
   "execution_count": null,
   "id": "4a27a0c4-4a41-400a-b084-7a0a630944cd",
   "metadata": {},
   "outputs": [],
   "source": []
  }
 ],
 "metadata": {
  "kernelspec": {
   "display_name": "Python 3 (ipykernel)",
   "language": "python",
   "name": "python3"
  },
  "language_info": {
   "codemirror_mode": {
    "name": "ipython",
    "version": 3
   },
   "file_extension": ".py",
   "mimetype": "text/x-python",
   "name": "python",
   "nbconvert_exporter": "python",
   "pygments_lexer": "ipython3",
   "version": "3.11.7"
  }
 },
 "nbformat": 4,
 "nbformat_minor": 5
}
